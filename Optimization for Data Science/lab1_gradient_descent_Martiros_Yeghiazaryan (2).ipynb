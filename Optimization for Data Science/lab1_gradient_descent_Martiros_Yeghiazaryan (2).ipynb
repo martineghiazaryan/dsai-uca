{
  "cells": [
    {
      "cell_type": "markdown",
      "id": "96d04eef",
      "metadata": {
        "id": "96d04eef"
      },
      "source": [
        "# Lab 1: Gradient descent\n",
        "_Samuel Vaiter_ (<samuel.vaiter@cnrs.fr>)"
      ]
    },
    {
      "cell_type": "markdown",
      "id": "afa37198",
      "metadata": {
        "id": "afa37198"
      },
      "source": [
        "In this practical, we are going to study the **gradient descent** algorithm, and several variations of it, through the lenses of three examples:\n",
        "1. Two simple 2D functions to optimize, easy to visualize thanks to `matplotlib.pyplot.contour`\n",
        "2. The ordinary least square problem\n",
        "3. Digits classification with multinomial logistic regression"
      ]
    },
    {
      "cell_type": "markdown",
      "id": "50e06d27",
      "metadata": {
        "id": "50e06d27"
      },
      "source": [
        "**Instructions**\n",
        "1. You need to send me your completed jupyter notebook at <samuel.vaiter@cnrs.fr> **one week** (before start of class time + 168h) after the end of the session with subject \n",
        "    \n",
        "    `[Opt Lab 1/2023] YEGHIAZARYAN Martiros`\n",
        "    \n",
        "2. All the Python cells should be error-free.\n",
        "3. When a theoretical question is asked in a cell, fill your answer in Markdown/LaTeX in it. You should give the mathematical steps necessary to reproduce your answer."
      ]
    },
    {
      "cell_type": "code",
      "execution_count": null,
      "id": "252a382a",
      "metadata": {
        "id": "252a382a"
      },
      "outputs": [],
      "source": [
        "import numpy as np\n",
        "import matplotlib.pyplot as plt"
      ]
    },
    {
      "cell_type": "markdown",
      "id": "6a6bd7d6",
      "metadata": {
        "id": "6a6bd7d6"
      },
      "source": [
        "## Toy example in 2D"
      ]
    },
    {
      "cell_type": "markdown",
      "id": "a84d3d23",
      "metadata": {
        "id": "a84d3d23"
      },
      "source": [
        "We are going to test first our methods on two functions, one convex (potentially strongly convex), the other not.\n",
        "\n",
        "The convex function is going to be a simple quadratic form on $\\mathbb{R}^2$ defined by\n",
        "$$ f(x) = (x_0 - x_1 - 1)^2 + \\frac{\\mu}{2} x_0^2 , $$\n",
        "for some $\\mu \\in \\mathbb{R}$.\n",
        "\n",
        "**Q1**. Does the function $f$ is convex? When is it strongly convex?\n",
        "\n",
        "$$ \\nabla f(x) = \\begin{pmatrix}\n",
        "2(x_0 - x_1 - 1) + {\\mu}x_0\\\\\n",
        "-2(x_0 - x_1 - 1)\n",
        "\\end{pmatrix} $$\n",
        "\n",
        "$$ \\nabla^2 f(x) = \\begin{pmatrix}\n",
        "2 + {\\mu} & -2\\\\\n",
        "-2 & 2\n",
        "\\end{pmatrix} $$\n",
        "\n",
        "If $\\mu \\geq 0$ than $f$ is convex  SDP $<\\nabla^2 f(x)h,h> \\geq0$ \n",
        "\n",
        "\n",
        "**Q2**. Determine its unique minimizer when $\\mu > 0$.\n",
        "\n",
        "**Q3**. Implement it as a function `f2D_convex(x, mu=1.0)` taking as arguments the 2D vector `x` and the strong-convexity parameter `mu`."
      ]
    },
    {
      "cell_type": "code",
      "execution_count": null,
      "id": "e41623c5",
      "metadata": {
        "id": "e41623c5"
      },
      "outputs": [],
      "source": [
        "def f2D_convex(x, mu=1.0):\n",
        "  return (x[0]-x[1]-1)**2 + 0.5*mu*x[0]**2"
      ]
    },
    {
      "cell_type": "markdown",
      "id": "8aa85540",
      "metadata": {
        "id": "8aa85540"
      },
      "source": [
        "**Q4**. Display the levelsets of the function `f2D_convex` around $(0,0)$. Modify the value of $\\mu$ and see how the geometry change. _Hint_: You should look at the help of `np.meshgrid`, `plt.contourf` and eventually `np.vectorize`."
      ]
    },
    {
      "cell_type": "code",
      "execution_count": null,
      "id": "ec8ef3f6",
      "metadata": {
        "colab": {
          "base_uri": "https://localhost:8080/",
          "height": 287
        },
        "id": "ec8ef3f6",
        "outputId": "983f53e4-071d-4271-8329-d90f5c53ce9c"
      },
      "outputs": [
        {
          "output_type": "execute_result",
          "data": {
            "text/plain": [
              "<matplotlib.contour.QuadContourSet at 0x7fd5e44abd90>"
            ]
          },
          "metadata": {},
          "execution_count": 3
        },
        {
          "output_type": "display_data",
          "data": {
            "text/plain": [
              "<Figure size 432x288 with 1 Axes>"
            ],
            "image/png": "[encoded data removed]"
          },
          "metadata": {
            "needs_background": "light"
          }
        }
      ],
      "source": [
        "# Display the level sets of `f2D_convex`\n",
        "x = np.linspace(-2,2,50)\n",
        "y = np.linspace(-2,2,50)\n",
        "X,Y = np.meshgrid(x,y)\n",
        "Z = np.vectorize(lambda x,y: f2D_convex(np.array([x,y])))(X,Y)\n",
        "plt.contourf(X,Y,Z)"
      ]
    },
    {
      "cell_type": "code",
      "source": [
        "y.shape"
      ],
      "metadata": {
        "colab": {
          "base_uri": "https://localhost:8080/"
        },
        "id": "CrjygIrnfhth",
        "outputId": "3be5baab-b56a-4760-e691-d7bd185d8817"
      },
      "id": "CrjygIrnfhth",
      "execution_count": null,
      "outputs": [
        {
          "output_type": "execute_result",
          "data": {
            "text/plain": [
              "(50,)"
            ]
          },
          "metadata": {},
          "execution_count": 4
        }
      ]
    },
    {
      "cell_type": "markdown",
      "id": "e472ae23",
      "metadata": {
        "id": "e472ae23"
      },
      "source": [
        "**Q5**. Observe what happens when $\\mu = 0$. Can you explain it?"
      ]
    },
    {
      "cell_type": "code",
      "execution_count": null,
      "id": "81357b54",
      "metadata": {
        "id": "81357b54"
      },
      "outputs": [],
      "source": [
        "def f2D_convex(x, mu=0.0):\n",
        "  return (x[0]-x[1]-1)**2 + 0.5*mu*x[0]**2"
      ]
    },
    {
      "cell_type": "code",
      "source": [
        "# Display the level sets of `f2D_convex`\n",
        "x = np.linspace(-2,2,50)\n",
        "y = np.linspace(-2,2,50)\n",
        "X,Y = np.meshgrid(x,y)\n",
        "Z = np.vectorize(lambda x,y: f2D_convex(np.array([x,y])))(X,Y)\n",
        "plt.contourf(X,Y,Z)"
      ],
      "metadata": {
        "colab": {
          "base_uri": "https://localhost:8080/",
          "height": 287
        },
        "id": "KZn9M39PiPUM",
        "outputId": "25afcb02-bbae-4ad0-bd74-28792f93d7e8"
      },
      "id": "KZn9M39PiPUM",
      "execution_count": null,
      "outputs": [
        {
          "output_type": "execute_result",
          "data": {
            "text/plain": [
              "<matplotlib.contour.QuadContourSet at 0x7fd5e41d0760>"
            ]
          },
          "metadata": {},
          "execution_count": 6
        },
        {
          "output_type": "display_data",
          "data": {
            "text/plain": [
              "<Figure size 432x288 with 1 Axes>"
            ],
            "image/png": "[encoded data removed]"
          },
          "metadata": {
            "needs_background": "light"
          }
        }
      ]
    },
    {
      "cell_type": "markdown",
      "id": "a5313be4",
      "metadata": {
        "id": "a5313be4"
      },
      "source": [
        "We now turn to another function, \n",
        "$$ f(x) = \\cos(x_0) + \\sin(x_1) . $$\n",
        "\n",
        "**Q6**. Is it a convex function? Describe the minima of $f$.\n",
        "\n",
        "** Complete\n",
        "\n",
        "**Q7**. Implement it as a function `f2D_nonconvex(x)` taking as arguments the 2D vector `x`. Display its levelsets."
      ]
    },
    {
      "cell_type": "code",
      "execution_count": null,
      "id": "ef4664bc",
      "metadata": {
        "id": "ef4664bc"
      },
      "outputs": [],
      "source": [
        "def f2D_nonconvex(x):\n",
        " return np.cos(x[0]) + np.sin(x[1])"
      ]
    },
    {
      "cell_type": "code",
      "execution_count": null,
      "id": "e26c6eb6",
      "metadata": {
        "colab": {
          "base_uri": "https://localhost:8080/",
          "height": 283
        },
        "id": "e26c6eb6",
        "outputId": "bd2eda97-4b3b-4eaf-b6e2-2a095d9fc1c8"
      },
      "outputs": [
        {
          "output_type": "execute_result",
          "data": {
            "text/plain": [
              "<matplotlib.contour.QuadContourSet at 0x7fd5e41b28e0>"
            ]
          },
          "metadata": {},
          "execution_count": 8
        },
        {
          "output_type": "display_data",
          "data": {
            "text/plain": [
              "<Figure size 432x288 with 1 Axes>"
            ],
            "image/png": "[encoded data removed]"
          },
          "metadata": {
            "needs_background": "light"
          }
        }
      ],
      "source": [
        "# Display the level sets of `f2D_convex`\n",
        "x = np.linspace(-5,5,50)\n",
        "y = np.linspace(-5,5,50)\n",
        "X,Y = np.meshgrid(x,y)\n",
        "Z = np.vectorize(lambda x,y: f2D_nonconvex(np.array([x,y])))(X,Y)\n",
        "plt.contourf(X,Y,Z)"
      ]
    },
    {
      "cell_type": "markdown",
      "id": "3b3e844d",
      "metadata": {
        "id": "3b3e844d"
      },
      "source": [
        "## Gradient descent procedure\n",
        "\n",
        "We recall that a gradient step takes the form\n",
        "$$ x^{(t+1)} = x^{(t)} - \\eta^{(t)} \\nabla f(x^{(t)}) $$\n",
        "with some initialization $x^{(0)}$ and $\\eta^{(t)}$ a learning rate policy.\n",
        "\n",
        "**Q1**. Implement a function `gradient_descent_tmp` taking as argument `grad_f`, `eta`, `x0` and `max_iter`. `grad_f` will take as input an optimization variable `x`, `eta` is the learning policy taking as arguments `x` and `t` the current iteration, `x0` is the initialization and `max_iter` a maximal number of iterations. As an example, a constant learning rate policy can defined as\n",
        "```python\n",
        "def constant_eta(x, t):\n",
        "    return 0.01\n",
        "```"
      ]
    },
    {
      "cell_type": "code",
      "execution_count": null,
      "id": "725a609f",
      "metadata": {
        "id": "725a609f"
      },
      "outputs": [],
      "source": [
        "def gradient_descent_tmp(grad_f, eta, x0, max_iter):\n",
        "    x = x0\n",
        "    for t in range(max_iter):\n",
        "      x = x - eta(x, t) * grad_f(x)\n",
        "    return x"
      ]
    },
    {
      "cell_type": "markdown",
      "id": "ec8db654",
      "metadata": {
        "id": "ec8db654"
      },
      "source": [
        "**Q2**. Implement a function `grad_f2D_convex` returning the gradient of the convex function defined in Section 1."
      ]
    },
    {
      "cell_type": "code",
      "execution_count": null,
      "id": "50f1b164",
      "metadata": {
        "id": "50f1b164"
      },
      "outputs": [],
      "source": [
        "def grad_f2D_convex(x, mu=1.0):\n",
        "    return np.array([\n",
        "      2 * (x[0] - x[1] - 1) + mu * x[0],\n",
        "      -2 * (x[0] - x[1] - 1)\n",
        "    ])"
      ]
    },
    {
      "cell_type": "markdown",
      "id": "e412fbb3",
      "metadata": {
        "id": "e412fbb3"
      },
      "source": [
        "**Q3**. Compute the Lipschitz constant of $\\nabla f(x)$ and deduce a learning rate policy `lr_policy_f2D-convex(x,t)`. Discuss the difference between $\\mu = 0$ and $\\mu \\neq 0$."
      ]
    },
    {
      "cell_type": "code",
      "execution_count": null,
      "id": "9a233f1d",
      "metadata": {
        "id": "9a233f1d"
      },
      "outputs": [],
      "source": [
        "def hessian_f2D_convex(x, mu=1.0):\n",
        "    return np.array([\n",
        "        [2+mu, -2],\n",
        "        [-2, 2]\n",
        "    ])\n",
        "\n",
        "\n",
        "def lr_policy_f2D_convex(x, t):\n",
        "  return 1. / np.linalg.norm(hessian_f2D_convex(x), 2)"
      ]
    },
    {
      "cell_type": "markdown",
      "id": "acd8e23d",
      "metadata": {
        "id": "acd8e23d"
      },
      "source": [
        "**Q4**. Test these functions, and observe the impact of `max_iter`"
      ]
    },
    {
      "cell_type": "code",
      "execution_count": null,
      "id": "465b94f7",
      "metadata": {
        "colab": {
          "base_uri": "https://localhost:8080/"
        },
        "id": "465b94f7",
        "outputId": "5110307f-6e41-4c52-99ef-74148862f288"
      },
      "outputs": [
        {
          "output_type": "execute_result",
          "data": {
            "text/plain": [
              "array([ 0.1765725 , -0.77385011])"
            ]
          },
          "metadata": {},
          "execution_count": 12
        }
      ],
      "source": [
        "gradient_descent_tmp(grad_f2D_convex, lr_policy_f2D_convex, np.zeros(2), 10)"
      ]
    },
    {
      "cell_type": "markdown",
      "id": "cf18ff9d",
      "metadata": {
        "id": "cf18ff9d"
      },
      "source": [
        "**Q5**. Implement a function `gradient_descent` taking as arguments `grad_f`, `eta`, `x0`, `max_iter` (defined as in *2.Q1*), `return_all` a boolean indicating if we keep in memory all iterates and `callback` a callable that is called at each iteration if not `None`. If `return_all` and `callback` are `None`, it should behave like `gradient_descent_tmp`. Otherwise, it should return a `dict` containing the final iterate, and eventually all the iterates and outputs of the callback. The function may look like the following stub\n",
        "```python\n",
        "def gradient_descent(grad_f, eta, x0, max_iter, return_all=False, callback=None):\n",
        "    x = x0\n",
        "    fxs = []\n",
        "    xs = []\n",
        "    # Do something\n",
        "    if not callback and not return_all:\n",
        "        return x\n",
        "    else:\n",
        "        return {\n",
        "            'res': x,\n",
        "            'callbacks': fxs,\n",
        "            'iterates': xs,\n",
        "        }\n",
        "```"
      ]
    },
    {
      "cell_type": "code",
      "execution_count": null,
      "id": "193ab301",
      "metadata": {
        "id": "193ab301"
      },
      "outputs": [],
      "source": [
        "def gradient_descent(grad_f, eta, x0, max_iter, return_all=False, callback=None):\n",
        "    x = x0\n",
        "    fxs = None\n",
        "    xs = None\n",
        "    \n",
        "    if callback:\n",
        "      fx0 = callback(x0)\n",
        "      fxs = np.zeros((max_iter, *fx0.shape))\n",
        "      fxs[0] = fx0 \n",
        "\n",
        "    if return_all:\n",
        "      xs = np.zeros((max_iter, *x0.shape))\n",
        "      xs[0] = x0   \n",
        "\n",
        "    for t in range(max_iter):\n",
        "      x = x - eta(x,t) * grad_f(x)\n",
        "      if return_all:\n",
        "        xs[t] = x\n",
        "      if callback:\n",
        "        fxs[t] = callback(x)\n",
        "\n",
        "\n",
        "    if not callback and not return_all:\n",
        "        return x\n",
        "    else:\n",
        "        return {\n",
        "            'res': x,\n",
        "            'callbacks': fxs,\n",
        "            'iterates': xs,\n",
        "        }"
      ]
    },
    {
      "cell_type": "markdown",
      "id": "f333a059",
      "metadata": {
        "id": "f333a059"
      },
      "source": [
        "**Q6**. Display the gradient descent on `f2D_convex` by plotting the function value both in linear scale, and loglog scale. Look at the documentation of `matplotlib.pyplot.loglog`."
      ]
    },
    {
      "cell_type": "code",
      "execution_count": null,
      "id": "48173dd7",
      "metadata": {
        "colab": {
          "base_uri": "https://localhost:8080/",
          "height": 305
        },
        "id": "48173dd7",
        "outputId": "6f7f6c56-fa80-4af3-d2d3-17ef2e047ad5"
      },
      "outputs": [
        {
          "output_type": "execute_result",
          "data": {
            "text/plain": [
              "Text(0, 0.5, '$\\\\log f(x^{(t)})$')"
            ]
          },
          "metadata": {},
          "execution_count": 14
        },
        {
          "output_type": "display_data",
          "data": {
            "text/plain": [
              "<Figure size 432x288 with 2 Axes>"
            ],
            "image/png": "[encoded data removed]"
          },
          "metadata": {
            "needs_background": "light"
          }
        }
      ],
      "source": [
        "max_iter = 1000\n",
        "res = gradient_descent(grad_f2D_convex, lr_policy_f2D_convex, np.zeros(2), max_iter, return_all=True, callback=f2D_convex)\n",
        "fig, ax = plt.subplots(2,1)\n",
        "# BEGIN STUDENT CODE\n",
        "ax[0].plot(np.arange(max_iter), res['callbacks'])\n",
        "# END STUDENT CODE\n",
        "ax[0].set_xlabel('iterate $t$')\n",
        "ax[0].set_ylabel('$f(x^{(t)})$')\n",
        "# BEGIN STUDENT CODE\n",
        "ax[1].loglog(np.arange(max_iter), res['callbacks'])\n",
        "\n",
        "# END STUDENT CODE\n",
        "ax[1].set_xlabel('iterate $\\log t$')\n",
        "ax[1].set_ylabel('$\\log f(x^{(t)})$')"
      ]
    },
    {
      "cell_type": "markdown",
      "id": "923b1848",
      "metadata": {
        "id": "923b1848"
      },
      "source": [
        "**Q7**. Visualize the gradient steps on a contour plot. Try several initializations. Try several step-sizes."
      ]
    },
    {
      "cell_type": "code",
      "execution_count": null,
      "id": "6e788d25",
      "metadata": {
        "colab": {
          "base_uri": "https://localhost:8080/",
          "height": 559
        },
        "id": "6e788d25",
        "outputId": "4a3c67dd-f2ba-4ea3-bf61-6f41078801a3"
      },
      "outputs": [
        {
          "output_type": "execute_result",
          "data": {
            "text/plain": [
              "[<matplotlib.lines.Line2D at 0x7fd5ce0c14f0>]"
            ]
          },
          "metadata": {},
          "execution_count": 15
        },
        {
          "output_type": "display_data",
          "data": {
            "text/plain": [
              "<Figure size 648x648 with 1 Axes>"
            ],
            "image/png": "[encoded data removed]"
          },
          "metadata": {
            "needs_background": "light"
          }
        }
      ],
      "source": [
        "x = np.linspace(-1,1,50)\n",
        "y = np.linspace(-1.5,0.5,50)\n",
        "X,Y = np.meshgrid(x,y)\n",
        "Z = np.vectorize(lambda x,y: f2D_convex(np.array([x,y])))(X,Y)\n",
        "\n",
        "fig, ax = plt.subplots(figsize=(9, 9))\n",
        "ax.contourf(X, Y, Z, 20)\n",
        "ax.contour(X,Y,Z, 20, colors='k')\n",
        "\n",
        "# Display the iterates\n",
        "xs = res['iterates']\n",
        "# BEGIN STUDENT CODE\n",
        "for t in range(max_iter):\n",
        "  x = xs[t]\n",
        "  ax.plot(x[0], x[1], marker='o', color='orange')\n",
        "# END STUDENT CODE\n",
        "sol = np.array([0,-1])\n",
        "ax.plot(sol[0],sol[1],marker='x', color ='red')"
      ]
    },
    {
      "cell_type": "markdown",
      "id": "451e1e72",
      "metadata": {
        "id": "451e1e72"
      },
      "source": [
        "## Let's go to higher dimension.\n",
        "\n",
        "For a matrix $A \\in \\mathbb{R}^{n \\times p}$ and a vector $b \\in \\mathbb{R}^{n}$, the least-square objective reads\n",
        "$$ f(x) = \\frac{1}{2} \\| A x - b \\|_2^2 . $$\n",
        "\n",
        "**Q1**. Generate a matrix `A` of size 100 by 200 with i.i.d. normal entries and `b` also i.i.d. normal."
      ]
    },
    {
      "cell_type": "code",
      "execution_count": null,
      "id": "0b127465",
      "metadata": {
        "id": "0b127465"
      },
      "outputs": [],
      "source": [
        "n, p = 100, 200\n",
        "rng = np.random.default_rng()\n",
        "# BEGIN STUDENT CODE\n",
        "A = rng.normal(size=(n, p))\n",
        "b = rng.normal(size=n)\n",
        "# END STUDENT CODE"
      ]
    },
    {
      "cell_type": "markdown",
      "id": "776e11a1",
      "metadata": {
        "id": "776e11a1"
      },
      "source": [
        "**Q2**. Implement `least_square` and its gradient `grad_least_square` with respect to `x`."
      ]
    },
    {
      "cell_type": "code",
      "execution_count": null,
      "id": "f435e6b1",
      "metadata": {
        "id": "f435e6b1"
      },
      "outputs": [],
      "source": [
        "def least_square(x):\n",
        "# BEGIN STUDENT CODE\n",
        "  return 0.5 * np.linalg.norm(A @ x - b) ** 2\n",
        "# END STUDENT CODE\n",
        "\n",
        "def grad_least_square(x):\n",
        "# BEGIN STUDENT CODE\n",
        "  return A.T @ (A @ x - b)\n",
        "# END STUDENT CODE"
      ]
    },
    {
      "cell_type": "markdown",
      "id": "aab9d3c1",
      "metadata": {
        "id": "aab9d3c1"
      },
      "source": [
        "**Q3**. Compute the Lipschitz constant $L$ of $\\nabla f$ and write a learning rate policy `lr_policy_least_square` _independant_ from the strong-convexity constant."
      ]
    },
    {
      "cell_type": "code",
      "execution_count": null,
      "id": "70a60dbb",
      "metadata": {
        "id": "70a60dbb"
      },
      "outputs": [],
      "source": [
        "def lr_policy_least_square(x, t):\n",
        "# BEGIN STUDENT CODE\n",
        "# END STUDENT CODE"
      ]
    },
    {
      "cell_type": "markdown",
      "id": "1d57e551",
      "metadata": {
        "id": "1d57e551"
      },
      "source": [
        "**Q4**. Run the gradient descent with the obtained policy, and plot in semilogy scale the evolution of the objective function. "
      ]
    },
    {
      "cell_type": "code",
      "execution_count": null,
      "id": "5e864ade",
      "metadata": {
        "id": "5e864ade"
      },
      "outputs": [],
      "source": [
        "res = gradient_descent(grad_least_square, lr_policy_least_square, np.zeros(p), 1000, return_all=True, callback=least_square)\n",
        "fig, ax = plt.subplots()\n",
        "sol = np.linalg.lstsq(A, b, rcond=None)[0]\n",
        "# BEGIN STUDENT CODE\n",
        "# END STUDENT CODE\n",
        "ax.set_xlabel('iterate $t$')\n",
        "ax.set_ylabel('$\\log f(x^{(t)})$')"
      ]
    },
    {
      "cell_type": "markdown",
      "id": "1cc1cb82",
      "metadata": {
        "id": "1cc1cb82"
      },
      "source": [
        "**Q5**. Perform the same experiment with `A` of size 100 x 100. Does the numerics confirm the theory studied in the lecture? If not, how to explain this behavior? If yes, explain."
      ]
    },
    {
      "cell_type": "markdown",
      "id": "e18f184e",
      "metadata": {
        "id": "e18f184e"
      },
      "source": [
        "## Digits classification\n",
        "\n",
        "We now turn our attention to a classification problem.\n",
        "For the sake of simplicity, we will use the digits UCI ML dataset contained in `scikit-learn`"
      ]
    },
    {
      "cell_type": "code",
      "execution_count": null,
      "id": "f266424f",
      "metadata": {
        "id": "f266424f"
      },
      "outputs": [],
      "source": [
        "# Load digits dataset, note that the first time you run this, it will download the dataset (could take a while)\n",
        "from sklearn.datasets import load_digits"
      ]
    },
    {
      "cell_type": "markdown",
      "id": "e3a3acb2",
      "metadata": {
        "id": "e3a3acb2"
      },
      "source": [
        "This dataset is composed of 1797 samples, each of theme of size $8 \\times 8 = 64$ in gray level (coded on [0,255]).\n",
        "This is a low resolution dataset that will be easy to treat as a \"batch\".\n",
        "We can access the data as vectors in `digits.data` and as images in `digits.images`.\n",
        "The labels are contained in `digits.target`."
      ]
    },
    {
      "cell_type": "code",
      "execution_count": null,
      "id": "837587a3",
      "metadata": {
        "id": "837587a3"
      },
      "outputs": [],
      "source": [
        "digits = load_digits()\n",
        "(n_samples, n_features) = digits.data.shape\n",
        "print(f\"Dataset dimensions: {(n_samples, n_features)}\")\n",
        "\n",
        "# Display a few digits\n",
        "fig, axs = plt.subplots(2, 2, figsize=(8, 8))\n",
        "idx = [0, 42, 345, 826]\n",
        "for i, ax in enumerate(axs.ravel()):\n",
        "    ax.imshow(digits.images[idx[i]], cmap='gray')\n",
        "    ax.set_title(f\"Label {digits.target[idx[i]]}\")\n",
        "    ax.axis('off')"
      ]
    },
    {
      "cell_type": "markdown",
      "id": "54150977",
      "metadata": {
        "id": "54150977"
      },
      "source": [
        "**Q1**. Using `sklearn.model_selection.train_test_split`, split the dataset into a training and a test sets.\n",
        "Center the training and the test set relative to the mean image of the training set.\n",
        "Add a column of ones to take into account the potential bias term"
      ]
    },
    {
      "cell_type": "code",
      "execution_count": null,
      "id": "61ee1b56",
      "metadata": {
        "id": "61ee1b56"
      },
      "outputs": [],
      "source": [
        "# Split the dataset into train and test with a 80/20 ratio\n",
        "from sklearn.model_selection import train_test_split\n",
        "\n",
        "X_train, X_test, y_train, y_test = train_test_split(\n",
        "    digits.data, digits.target, test_size=0.2, random_state=42\n",
        ")\n",
        "\n",
        "# Center the data\n",
        "X_train = (X_train - X_train.mean(axis=0))\n",
        "X_test = (X_test - X_train.mean(axis=0))\n",
        "\n",
        "# Add a column of ones to the data to account for the bias\n",
        "X_train = np.hstack([X_train, np.ones((X_train.shape[0], 1))])\n",
        "X_test = np.hstack([X_test, np.ones((X_test.shape[0], 1))])"
      ]
    },
    {
      "cell_type": "markdown",
      "id": "2a724482",
      "metadata": {
        "id": "2a724482"
      },
      "source": [
        "To perform our classification task, we will turn to the multinomial logistic regression, or softmax classification.\n",
        "The objective function here will be seek a weight matrix $W \\in \\mathbb{R}^{K \\times p}$\n",
        "\n",
        "$$ f(W) = \\sum_{i=1}^n \\sum_{k=0}^{K-1} [y_i = k] \\log(\\hat p(y_i = k | X_i)) + \\lambda \\| W \\|_2^2, $$\n",
        "where\n",
        "$$ \\hat p(y_i = k | X_i) = \\frac{\\exp(X_i W_k)}{\\sum_{l=0}^{K-1}\\exp(X_i W_l)} . $$"
      ]
    },
    {
      "cell_type": "markdown",
      "id": "c570c3e1",
      "metadata": {
        "id": "c570c3e1"
      },
      "source": [
        "**Numerical stability of the softmax**. When computing the softmax of a vector, one has to be careful of the potential numerical errors due to the large values of $\\exp$ when the argument is above 0."
      ]
    },
    {
      "cell_type": "code",
      "execution_count": null,
      "id": "3af9d3cd",
      "metadata": {
        "id": "3af9d3cd"
      },
      "outputs": [],
      "source": [
        "scores = np.array([433, 23, 766])\n",
        "proba = np.exp(scores) / np.sum(np.exp(scores))\n",
        "proba"
      ]
    },
    {
      "cell_type": "markdown",
      "id": "d87db96e",
      "metadata": {
        "id": "d87db96e"
      },
      "source": [
        "Clearly here, we would expect to obtain `[0., 0., 1.]`.\n",
        "Remark that for any $c > 0$,\n",
        "$$\n",
        "\\sigma(z)_i\n",
        "=\n",
        "\\frac{\\exp(z_i)}{\\sum_{i=1}^p \\exp{(z_j)}}\n",
        "=\n",
        "\\frac{c\\exp(z_i)}{c\\sum_{i=1}^p \\exp{(z_j)}}\n",
        "=\n",
        "\\frac{\\exp(z_i + \\log c)}{\\sum_{i=1}^p \\exp{(z_j + \\log c)}}\n",
        "$$\n",
        "A typical choice of $c$ is given by the solution of $\\log c = - \\max_j z_j$."
      ]
    },
    {
      "cell_type": "code",
      "execution_count": null,
      "id": "61455c3e",
      "metadata": {
        "id": "61455c3e"
      },
      "outputs": [],
      "source": [
        "scores = np.array([433, 23, 766])\n",
        "scores -= np.max(scores)\n",
        "proba = np.exp(scores) / np.sum(np.exp(scores))\n",
        "proba"
      ]
    },
    {
      "cell_type": "markdown",
      "id": "dcc3b932",
      "metadata": {
        "id": "dcc3b932"
      },
      "source": [
        "**Q2**. Implement the `softmax_loss` function below. Take care to the potential numerical errors thanks to the trick above. _Hint_: remember that `numpy.arange(n)` build a ndarray containing all integer from 0 to `n` (included)."
      ]
    },
    {
      "cell_type": "code",
      "execution_count": null,
      "id": "755f0ffa",
      "metadata": {
        "id": "755f0ffa"
      },
      "outputs": [],
      "source": [
        "def softmax_loss(W, X, y, reg):\n",
        "    \"\"\"\n",
        "    Softmax loss function\n",
        "\n",
        "    Inputs:\n",
        "    - W: ndarray (n_features, K) containing weights.\n",
        "    - X: ndarray (n, n_features) containing data.\n",
        "    - y: ndarray (n,) containing training labels\n",
        "    - reg: (float) regularization\n",
        "\n",
        "    Returns the softmax loss (with regularization)\n",
        "    \"\"\"\n",
        "# BEGIN STUDENT CODE\n",
        "# END STUDENT CODE"
      ]
    },
    {
      "cell_type": "markdown",
      "id": "35171b04",
      "metadata": {
        "id": "35171b04"
      },
      "source": [
        "To debug it, run the following cell. You should obtain a value close to $-\\log(1/10)$.\n",
        "\n",
        "**Q3**: Why should we obtain something close to this value?"
      ]
    },
    {
      "cell_type": "code",
      "execution_count": null,
      "id": "fadc3c76",
      "metadata": {
        "id": "fadc3c76"
      },
      "outputs": [],
      "source": [
        "# Generate a random softmax weight matrix\n",
        "W = np.random.randn(64+1, 10) * 0.001\n",
        "# Compute the softmax loss\n",
        "loss = softmax_loss(W, X_train, y_train, 0.0)\n",
        "\n",
        "# As a rough sanity check, our loss should be something more or less close to -log(0.1).\n",
        "print(f\"Loss: {loss}, expected: {-np.log(0.1)}\")"
      ]
    },
    {
      "cell_type": "markdown",
      "id": "e5a284fc",
      "metadata": {
        "id": "e5a284fc"
      },
      "source": [
        "**Q4**. Compute the gradient of the loss $\\nabla f(W)$ with respect to weight matrix."
      ]
    },
    {
      "cell_type": "markdown",
      "id": "3ef51224",
      "metadata": {
        "id": "3ef51224"
      },
      "source": [
        "**Q5**. Implement the gradient of the softmax loss as a `softmax_grad` function below. _Hint_: This function will be _very_ close to `softmax_loss`. Note that it would be more adequate to write a unique function returning _both_ the loss and the gradient."
      ]
    },
    {
      "cell_type": "code",
      "execution_count": null,
      "id": "61c97e63",
      "metadata": {
        "id": "61c97e63"
      },
      "outputs": [],
      "source": [
        "def softmax_grad(W, X, y, reg):\n",
        "# BEGIN STUDENT CODE\n",
        "# END STUDENT CODE"
      ]
    },
    {
      "cell_type": "markdown",
      "id": "675e72f8",
      "metadata": {
        "id": "675e72f8"
      },
      "source": [
        "**Q6**. Run the gradient descent on the loss function defined by the training set. You should use a constant step size policy. _Hint_: define `softmax_grad_train` and `softmax_loss_train` taking only `W` as input."
      ]
    },
    {
      "cell_type": "code",
      "execution_count": null,
      "id": "61da860c",
      "metadata": {
        "id": "61da860c"
      },
      "outputs": [],
      "source": [
        "reg = 0.001\n",
        "\n",
        "# BEGIN STUDENT CODE\n",
        "# END STUDENT CODE\n",
        "\n",
        "fig, ax = plt.subplots()\n",
        "ax.plot(res['callbacks'])\n",
        "ax.set_xlabel('iterate $t$')\n",
        "ax.set_ylabel('$f(x^{(t)})$')"
      ]
    },
    {
      "cell_type": "markdown",
      "id": "1e17a770",
      "metadata": {
        "id": "1e17a770"
      },
      "source": [
        "**Q7**. Display the training and test accuracies. Comment."
      ]
    },
    {
      "cell_type": "code",
      "execution_count": null,
      "id": "c62c787e",
      "metadata": {
        "lines_to_next_cell": 0,
        "id": "c62c787e"
      },
      "outputs": [],
      "source": [
        "# BEGIN STUDENT CODE\n",
        "# END STUDENT CODE"
      ]
    },
    {
      "cell_type": "markdown",
      "id": "36bb7b3f",
      "metadata": {
        "id": "36bb7b3f"
      },
      "source": []
    }
  ],
  "metadata": {
    "kernelspec": {
      "display_name": "Python 3 (ipykernel)",
      "language": "python",
      "name": "python3"
    },
    "language_info": {
      "codemirror_mode": {
        "name": "ipython",
        "version": 3
      },
      "file_extension": ".py",
      "mimetype": "text/x-python",
      "name": "python",
      "nbconvert_exporter": "python",
      "pygments_lexer": "ipython3",
      "version": "3.9.12"
    },
    "colab": {
      "provenance": []
    }
  },
  "nbformat": 4,
  "nbformat_minor": 5
}