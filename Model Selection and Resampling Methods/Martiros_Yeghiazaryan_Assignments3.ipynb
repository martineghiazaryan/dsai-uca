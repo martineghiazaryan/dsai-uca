{
  "cells": [
    {
      "cell_type": "markdown",
      "metadata": {
        "id": "ihPKYpmODN4G"
      },
      "source": [
        "## Assigments 3.1\n",
        "### Martiros Yeghiazaryan\n",
        "\n",
        "This first part of the assignment requires to implement yourself basic cross-validation strategies.\n",
        "\n",
        "**Exercise 1.** Define a 10-fold classification strategy to test the accuracy of a Linear Discriminant Analysis (LDA) classifier for the data created as follows:"
      ]
    },
    {
      "cell_type": "code",
      "execution_count": 41,
      "metadata": {
        "id": "ZJp8Ma5yDN4M"
      },
      "outputs": [],
      "source": [
        "from sklearn.datasets import make_classification\n",
        "import numpy as np\n",
        "import matplotlib.pyplot as plt\n",
        "\n",
        "\n",
        "# imports\n",
        "import pandas as pd\n",
        "import plotly.express as px\n",
        "import plotly.graph_objects as go\n",
        "import plotly.io as pio\n",
        "from sklearn.metrics import (\n",
        "    accuracy_score,\n",
        "    auc,\n",
        "    precision_score,\n",
        "    recall_score,\n",
        "    roc_curve,\n",
        ")\n",
        "from sklearn.model_selection import (\n",
        "    RepeatedKFold,\n",
        "    StratifiedKFold,\n",
        "    cross_val_score,\n",
        "    train_test_split,\n",
        ")\n",
        "\n",
        "pio.templates.default = \"plotly_white\"\n",
        "\n",
        "X, y = make_classification(n_samples = 100, n_features=2, n_redundant=0, n_informative=2, \\\n",
        "                           random_state=0, n_clusters_per_class=1, weights = [0.5])\n"
      ]
    },
    {
      "cell_type": "code",
      "execution_count": 42,
      "metadata": {
        "colab": {
          "base_uri": "https://localhost:8080/"
        },
        "id": "SsaUCCQfDN4N",
        "outputId": "b0dfbdf7-2b48-41fa-8324-cebc78e83f49"
      },
      "outputs": [
        {
          "name": "stdout",
          "output_type": "stream",
          "text": [
            "The fold size is: 10.0\n",
            "0 10\n",
            "10 20\n",
            "20 30\n",
            "30 40\n",
            "40 50\n",
            "50 60\n",
            "60 70\n",
            "70 80\n",
            "80 90\n",
            "90 100\n",
            "[0.9444444444444444, 0.9333333333333333, 0.9333333333333333, 0.9444444444444444, 0.9333333333333333, 0.9333333333333333, 0.9333333333333333, 0.9333333333333333, 0.9555555555555556, 0.9555555555555556]\n",
            "[0.9, 1.0, 1.0, 0.9, 1.0, 1.0, 1.0, 1.0, 0.8, 0.8]\n",
            "Average training accuracy 0.9400000000000001\n",
            "SD training accuracy 0.008888888888888896\n",
            "Average testing accuracy 0.9400000000000001\n",
            "SD testing accuracy 0.07999999999999999\n"
          ]
        }
      ],
      "source": [
        "from sklearn.utils import shuffle\n",
        "from sklearn.discriminant_analysis import LinearDiscriminantAnalysis\n",
        "\n",
        "\n",
        "model = LinearDiscriminantAnalysis()\n",
        "data_idx = np.arange(X.shape[0])\n",
        "\n",
        "# shuffling the data indices and getting data and labels at shuffled indices\n",
        "X_shuffled = X[data_idx,:]\n",
        "y_shuffled = y[data_idx]\n",
        "k = 10\n",
        "\n",
        "fold_size = np.floor(X_shuffled.shape[0]/k)\n",
        "\n",
        "print('The fold size is:', fold_size)\n",
        "\n",
        "training_acc = []\n",
        "testing_acc = []\n",
        "\n",
        "for i in range(k):  \n",
        "    begin = int(i*fold_size) \n",
        "    end = int((i+1)*fold_size)\n",
        "    print(begin,end)\n",
        "    testing_data = X_shuffled[begin:end,:]\n",
        "    testing_labels = y_shuffled[begin:end]\n",
        "    training_indices = np.setdiff1d(range(X_shuffled.shape[0]),range(begin,end), assume_unique=True)\n",
        "    training_data = X_shuffled[training_indices,:]\n",
        "    training_labels = y_shuffled[training_indices]\n",
        "    model.fit(training_data, training_labels)\n",
        "    training_acc.append(model.score(training_data, training_labels))\n",
        "    testing_acc.append(model.score(testing_data, testing_labels))\n",
        "                       \n",
        "print(training_acc)\n",
        "print(testing_acc)\n",
        "        \n",
        "print('Average training accuracy', np.mean(training_acc))    \n",
        "print('SD training accuracy', np.std(training_acc))\n",
        "print('Average testing accuracy', np.mean(testing_acc))    \n",
        "print('SD testing accuracy', np.std(testing_acc))"
      ]
    },
    {
      "cell_type": "code",
      "execution_count": 43,
      "metadata": {
        "colab": {
          "base_uri": "https://localhost:8080/"
        },
        "id": "6bGkTZowDN4P",
        "outputId": "aa17bb9f-2a1a-420e-f6d9-7f6d635b062e"
      },
      "outputs": [
        {
          "name": "stdout",
          "output_type": "stream",
          "text": [
            "The accuracy from 10-fold cross validation is: \n",
            "[0.9 1.  1.  0.9 1.  1.  1.  1.  0.9 0.7]\n",
            "The average accuracy from 10-fold cross validation is: 0.9399999999999998\n"
          ]
        }
      ],
      "source": [
        "from sklearn.model_selection import cross_val_score\n",
        "\n",
        "sklearn_accuracy = cross_val_score(model, X, y, scoring = 'accuracy', cv=10)\n",
        "\n",
        "print(\"The accuracy from \" + str(k) + \"-fold cross validation is: \\n\" + str(sklearn_accuracy))\n",
        "\n",
        "print(\"The average accuracy from \" + str(k) + \"-fold cross validation is: \" + str(np.mean(sklearn_accuracy)))"
      ]
    },
    {
      "cell_type": "markdown",
      "metadata": {
        "id": "awlWDvP2DN4P"
      },
      "source": []
    },
    {
      "cell_type": "markdown",
      "metadata": {
        "id": "9PCCwthXDN4Q"
      },
      "source": [
        "__Exercise 2.__ Use the previous 10-fold cross-validation to plot and compute the average area under the curve of the LDA classifier. You can use the built in method *predict_proba(X)*"
      ]
    },
    {
      "cell_type": "code",
      "execution_count": 44,
      "metadata": {
        "colab": {
          "base_uri": "https://localhost:8080/",
          "height": 388
        },
        "id": "R0e_s6M4DN4Q",
        "outputId": "962c0490-85cf-41fc-965c-0cc31e36f867"
      },
      "outputs": [
        {
          "data": {
            "image/png": "[encoded data removed]",
            "text/plain": [
              "<Figure size 640x480 with 1 Axes>"
            ]
          },
          "metadata": {},
          "output_type": "display_data"
        },
        {
          "name": "stdout",
          "output_type": "stream",
          "text": [
            "The estimated tpr for fold 0: \n",
            "[0. 1. 1. 1. 1. 1. 1. 1. 1. 1. 1. 1. 1. 1. 1. 1. 1. 1. 1. 1. 1. 1. 1. 1.\n",
            " 1. 1. 1. 1. 1. 1. 1. 1. 1. 1. 1. 1. 1. 1. 1. 1. 1. 1. 1. 1. 1. 1. 1. 1.\n",
            " 1. 1. 1. 1. 1. 1. 1. 1. 1. 1. 1. 1. 1. 1. 1. 1. 1. 1. 1. 1. 1. 1. 1. 1.\n",
            " 1. 1. 1. 1. 1. 1. 1. 1. 1. 1. 1. 1. 1. 1. 1. 1. 1. 1. 1. 1. 1. 1. 1. 1.\n",
            " 1. 1. 1. 1.]\n"
          ]
        }
      ],
      "source": [
        "from sklearn.model_selection import StratifiedKFold, KFold\n",
        "from sklearn.metrics import roc_curve, auc\n",
        "\n",
        "cv = KFold(n_splits=10)\n",
        "\n",
        "roc_sample = []\n",
        "aucs = []\n",
        "mean_fpr = np.linspace(0, 1, 100)\n",
        "i = 0\n",
        "\n",
        "for train, test in cv.split(X, y):\n",
        "    probas_ = model.fit(X[train], y[train]).predict_proba(X[test])\n",
        "    fpr, tpr, thresholds = roc_curve(y[test], probas_[:, 1])\n",
        "    roc_sample.append(np.interp(mean_fpr, fpr, tpr))\n",
        "    roc_sample[-1][0] = 0.0\n",
        "    roc_auc = auc(fpr, tpr)\n",
        "    aucs.append(roc_auc)\n",
        "    plt.plot(fpr, tpr, lw=1, alpha=0.3,\n",
        "             label='ROC fold %d (AUC = %0.2f)' % (i, roc_auc))\n",
        "    plt.xlabel('False Positive Rate')\n",
        "    plt.ylabel('True Positive Rate')\n",
        "\n",
        "    i += 1\n",
        "\n",
        "plt.legend()\n",
        "plt.show()\n",
        "\n",
        "print('The estimated tpr for fold 0: ')\n",
        "print(roc_sample[0])"
      ]
    },
    {
      "cell_type": "code",
      "execution_count": 45,
      "metadata": {
        "colab": {
          "base_uri": "https://localhost:8080/",
          "height": 295
        },
        "id": "bApVWWujDN4R",
        "outputId": "74685c51-1916-41c8-fcbf-403c0846a173"
      },
      "outputs": [
        {
          "data": {
            "image/png": "[encoded data removed]",
            "text/plain": [
              "<Figure size 640x480 with 1 Axes>"
            ]
          },
          "metadata": {},
          "output_type": "display_data"
        }
      ],
      "source": [
        "plt.plot([0, 1], [0, 1], linestyle='--', lw=2, color='r',\n",
        "         label='Chance', alpha=.8)\n",
        "mean_tpr = np.mean(roc_sample, axis=0)\n",
        "std_tpr = np.std(roc_sample, axis=0)\n",
        "mean_tpr[-1] = 1.0\n",
        "mean_auc = auc(mean_fpr, mean_tpr) # Computing the AUC of the average curves\n",
        "std_auc = np.std(aucs) # Computing the std of the AUCs \n",
        "\n",
        "plt.plot(mean_fpr, mean_tpr, color='b',\n",
        "         label=r'Mean ROC (AUC = %0.2f $\\pm$ %0.2f)' % (mean_auc, std_auc),\n",
        "         lw=2, alpha=.8)\n",
        "tprs_upper = np.minimum(mean_tpr + std_tpr, 1)\n",
        "tprs_lower = np.maximum(mean_tpr - std_tpr, 0)\n",
        "plt.fill_between(mean_fpr, tprs_lower, tprs_upper, color='grey', alpha=.2,\n",
        "                 label=r'$\\pm$ 1 std. dev.')\n",
        "\n",
        "plt.xlim([-0.05, 1.05])\n",
        "plt.ylim([-0.05, 1.05])\n",
        "plt.xlabel('False Positive Rate')\n",
        "plt.ylabel('True Positive Rate')\n",
        "plt.title('Receiver operating characteristic example')\n",
        "plt.legend(loc=\"lower right\")\n",
        "plt.show()"
      ]
    },
    {
      "cell_type": "markdown",
      "metadata": {
        "id": "TAxxgaXfDN4R"
      },
      "source": [
        "**Exercise 3.** Define the appropriate cross-validation strategy and measurement of the area under the curve for the data:"
      ]
    },
    {
      "cell_type": "code",
      "execution_count": 46,
      "metadata": {
        "id": "KReuTr-RDN4S"
      },
      "outputs": [],
      "source": [
        "X, y = make_classification(n_samples = 200, n_features=5, n_redundant=0, n_informative=3, \\\n",
        "                           random_state=0, n_clusters_per_class=1, weights = [0.9])"
      ]
    },
    {
      "cell_type": "code",
      "execution_count": 47,
      "metadata": {},
      "outputs": [
        {
          "data": {
            "application/vnd.plotly.v1+json": {
              "config": {
                "plotlyServerURL": "https://plot.ly"
              },
              "data": [
                {
                  "hovertemplate": "color=0<br>x=%{x}<br>y=%{y}<extra></extra>",
                  "legendgroup": "0",
                  "marker": {
                    "color": "#636efa",
                    "symbol": "circle"
                  },
                  "mode": "markers",
                  "name": "0",
                  "orientation": "v",
                  "showlegend": true,
                  "type": "scatter",
                  "x": [
                    -0.5926648156074829,
                    -0.5374357680400154,
                    0.5650470787262062,
                    -0.4134960719891704,
                    1.314764118633212,
                    0.01099076581128302,
                    0.4297666495194309,
                    -2.608941648582597,
                    1.5920583406405593,
                    0.4596571175216298,
                    -0.0471294408074548,
                    -1.9889746871859844,
                    0.04016819801551407,
                    -1.3467312986949462,
                    -0.04274332277697603,
                    0.0004397643931265715,
                    0.5748718521091208,
                    1.3049824698685113,
                    0.9103958288201489,
                    0.8450670529706095,
                    0.11072686472470192,
                    -0.2761920072700508,
                    -0.299608422895751,
                    0.5439211497235321,
                    0.1449346345356549,
                    0.012309294894389484,
                    1.5545719893213954,
                    0.9138903300813916,
                    -0.840083656846994,
                    -0.5661906743559193,
                    1.1059341189648249,
                    -0.3416722769337112,
                    1.2012711029950105,
                    -0.5300023685357428,
                    0.3670355390994865,
                    0.16211828763354233,
                    1.0806012502110913,
                    -1.6724286340868464,
                    -1.6016098832748569,
                    0.2832881784679008,
                    0.6245074789793196,
                    -0.6424096172672116,
                    -0.4958680290988437,
                    0.2540563252999821,
                    -0.4519913581289174,
                    0.27485028883855844,
                    0.645057526864009,
                    0.4973132710766075,
                    0.38610065395248794,
                    0.7899648134412052,
                    0.5034791244482039,
                    1.5006567630401326,
                    1.6465057996728354,
                    -0.9376617588447066,
                    1.0460079680685934,
                    -0.13999493459909218,
                    1.1247560527249487,
                    1.6954618328345525,
                    -1.0856548514956803,
                    -1.255969280622589,
                    -0.6858192973530175,
                    -0.5514491801998266,
                    -0.9051128929511011,
                    -0.746071191411131,
                    -0.9748570469283102,
                    -0.17891748648332526,
                    0.20646141742885968,
                    1.0161952005867616,
                    0.33150815046372634,
                    3.057324333627728,
                    -0.50556330794295,
                    0.27220219464129114,
                    1.9143543791780042,
                    -0.30959276414086334,
                    -0.9303037474305135,
                    -0.30130720579205805,
                    0.8504647031701308,
                    -0.7614013315546301,
                    -1.217106800443531,
                    0.1196972140379197,
                    -0.019298374799341243,
                    -0.3699160738183416,
                    1.5667289421131356,
                    -1.6808693707953999,
                    -0.8880716348561972,
                    -0.5110085216971532,
                    0.38512974143166573,
                    -0.5882548173256583,
                    0.6346184756527891,
                    0.04604488108204221,
                    0.7070375127654928,
                    0.46278970318035767,
                    0.9927447684486691,
                    0.18963539158362316,
                    -1.4981222894407447,
                    0.08269308929504124,
                    -2.0192557168874132,
                    -1.006253022502898,
                    -1.0613605771141073,
                    -0.7422692876708331,
                    0.5069547296685477,
                    0.38203832031712276,
                    0.2622548659174973,
                    0.7732463301000635,
                    2.6518131412266124,
                    -0.0055249937259191076,
                    -0.28739050908109526,
                    -0.248586564902318,
                    0.6859794360454973,
                    -1.1361355372777524,
                    -0.5768871234870248,
                    1.2421284950064577,
                    0.09259097317892606,
                    0.2353336688215622,
                    0.2728551635723185,
                    -1.3980431988168867,
                    -0.16357696712092237,
                    -0.7053360052884009,
                    1.338448049793088,
                    -0.052458705122602096,
                    -0.185233956375323,
                    -0.27449005350220684,
                    0.5191412258690565,
                    0.4496126122772567,
                    1.1718949169814128,
                    0.4991662044715524,
                    0.19347862842651484,
                    0.3419888237925572,
                    0.9373798982717969,
                    0.5601633428884806,
                    -0.03543148976003922,
                    -0.9685796040785339,
                    0.0500572524882273,
                    -0.517311351236712,
                    -2.4248463114056387,
                    0.9107394252473072,
                    0.5666369283637634,
                    -0.5169678032121724,
                    0.009571290358532224,
                    -0.6309473750764157,
                    -1.089370836372484,
                    -0.5742152221842879,
                    -0.7237213647426549,
                    -0.6089170096298758,
                    -0.3795253671996912,
                    -1.4783202629997447,
                    -0.8399398575813063,
                    -0.9094156970717192,
                    -0.7747271673032271,
                    -0.6829619870762375,
                    0.07346987364431891,
                    0.24838440575931292,
                    0.1819830839766874,
                    0.6621191960859641,
                    0.04377400720154393,
                    -0.343690223744448,
                    0.8932634265562456,
                    0.27068485884333765,
                    -0.9459303291303981,
                    0.3053993216030181,
                    -0.2961050824492875,
                    -0.8525258196985821,
                    0.3966926017937189,
                    1.9305013511688713,
                    -0.8733177238349124,
                    1.6839224581652146,
                    -1.4083267932454022,
                    -1.7146874663430767,
                    -1.1093150175315099,
                    -0.23492465487581873,
                    -0.02202511531051733,
                    -1.4790517091408455,
                    1.2020742059740546,
                    0.09105966580930083,
                    -1.2948213333496923,
                    -1.6527919548642416,
                    -1.1588863229901902,
                    -0.32742538802757715,
                    0.5567761325428703,
                    -2.1420405045188624,
                    0.6085290413293736
                  ],
                  "xaxis": "x",
                  "y": [
                    -0.320779869230959,
                    0.41766334280915635,
                    0.2187233115245254,
                    0.3621515597153416,
                    0.21852038326869477,
                    1.4938542794781533,
                    -0.65312650574549,
                    -0.3111609986296193,
                    -0.2474150480350353,
                    -0.2180168836739017,
                    0.09631078967117178,
                    -0.18877189707614203,
                    0.9993279716932706,
                    0.13989924668313164,
                    0.8601619826934671,
                    0.03482101003079851,
                    0.3560055945544623,
                    1.5120724502513545,
                    0.1240112779153964,
                    -1.4685564611061612,
                    0.7902112663453433,
                    -0.013627509189153961,
                    0.8243863386250445,
                    -0.4660465927744587,
                    -0.27168340202323515,
                    0.4806892953039272,
                    -0.8701392510122307,
                    0.675133303618425,
                    0.28219757475842266,
                    -0.8667895682515994,
                    1.9751378403182729,
                    -1.336613199713874,
                    -0.03303701286509941,
                    -0.5841904710889145,
                    -2.1770160803149476,
                    0.7507614019442644,
                    -0.17327197118189824,
                    1.0450830043467831,
                    -0.26201916504022144,
                    -0.3245664823505071,
                    0.6612177469029817,
                    0.8339585689129618,
                    0.33286744009777663,
                    0.5227510465256322,
                    -1.9571881984465724,
                    -1.3022359627165452,
                    -0.742722142247725,
                    -2.4551184595947437,
                    -0.5050130086776304,
                    0.5451700448192729,
                    1.7775171850937297,
                    0.10055642121566222,
                    -0.6269799081061379,
                    -0.05718470019215383,
                    0.055346858479960855,
                    0.19933937872223195,
                    -2.1229506979348813,
                    0.888980112004567,
                    -0.08360442834501768,
                    -1.7598272197105103,
                    0.41449285973477973,
                    0.7319554825498447,
                    -0.4401112949020242,
                    -0.04743041369784284,
                    -0.21094480414911052,
                    0.5546472594825562,
                    0.5909053025753017,
                    0.699210125474775,
                    -0.2382548457291372,
                    -1.400261907151702,
                    0.14318226374539564,
                    -0.9799709936692849,
                    1.5403889119824465,
                    -0.11306590547494637,
                    0.03450500855150918,
                    0.0069195558064992935,
                    0.623900443904787,
                    -2.8927942957244017,
                    -0.21216351359646926,
                    -0.4650200469878071,
                    0.9496202174494699,
                    0.5684662125584626,
                    -0.7979246240948342,
                    0.6217408534845387,
                    1.2332287289367307,
                    -1.0021832207046946,
                    0.32554003066879694,
                    1.48760980966624,
                    -1.2761278172906725,
                    0.2527353709032751,
                    1.324728040765331,
                    -1.800801115869561,
                    -1.9716117648223004,
                    0.0556669627134395,
                    -1.379050443493529,
                    -1.1476341530130652,
                    0.6334765481868546,
                    -1.8731466076532288,
                    -0.7521337125337318,
                    1.2116984588742195,
                    0.4927641016632425,
                    0.09411435623760529,
                    -0.14300857058404612,
                    -0.8066068562805377,
                    -2.301056652687339,
                    1.1131983561911714,
                    -1.3833493726924997,
                    -0.12612817079292432,
                    1.9089019428466294,
                    -1.1997471740993806,
                    0.3420575127692044,
                    -0.6559941798838604,
                    -2.191123539346007,
                    0.5084739889157303,
                    -0.8625748943937669,
                    0.16120461315795429,
                    -0.07517714681349824,
                    -1.5298690008040767,
                    -0.11327544194077944,
                    -1.1448065667315943,
                    -0.7804240507699405,
                    0.05159700692152173,
                    0.11206079121667753,
                    -0.24440739600209963,
                    -0.08186013218192777,
                    1.1327412206769099,
                    -0.09710763991753757,
                    -0.19765139112905816,
                    0.9204027069243056,
                    0.10164198173995573,
                    -0.392029426311626,
                    1.119459912299696,
                    1.7275666957343367,
                    -0.31130298742968326,
                    -0.2982912987757673,
                    0.38672990483350433,
                    0.34579096152933003,
                    -1.3384085573599165,
                    -1.2882827842812166,
                    0.9520400784256119,
                    -1.017047078722375,
                    1.2142435739473587,
                    -1.1046864995992616,
                    -1.1573831196709223,
                    -0.6026986602215136,
                    0.5112193509142271,
                    1.83530125939484,
                    1.4196033068341047,
                    -1.2685169909682585,
                    1.1899166677183866,
                    1.171516265941697,
                    -0.1000202552924494,
                    -0.24440258748294486,
                    0.7837045233096696,
                    0.31233489514711643,
                    1.2823724185974865,
                    -0.5633100383721368,
                    0.23326884539652581,
                    0.5767333491214476,
                    -0.6608337430331365,
                    1.3718864293619573,
                    -1.6197531173603303,
                    -0.20351035667568593,
                    -0.9749809658136417,
                    1.901051388103498,
                    -1.2994716148991465,
                    1.1494406231346521,
                    0.15948629534326125,
                    0.3440415639850181,
                    0.6833840352027949,
                    1.0779074760765153,
                    1.0225684041197773,
                    -0.8959270535594022,
                    0.5629199991509807,
                    1.0985466703948945,
                    -2.0821297489924304,
                    -0.24927127603680488,
                    -0.010934881367524895,
                    -0.8545048716935619,
                    -0.27645274839703166,
                    -0.5450846726117485
                  ],
                  "yaxis": "y"
                },
                {
                  "hovertemplate": "color=1<br>x=%{x}<br>y=%{y}<extra></extra>",
                  "legendgroup": "1",
                  "marker": {
                    "color": "#EF553B",
                    "symbol": "circle"
                  },
                  "mode": "markers",
                  "name": "1",
                  "orientation": "v",
                  "showlegend": true,
                  "type": "scatter",
                  "x": [
                    -0.5183213818681036,
                    -0.399352840512997,
                    -0.14322323407750337,
                    -1.15146564547678,
                    0.16786451531262664,
                    0.04034168933156392,
                    -0.5757679018698018,
                    0.5966877787229169,
                    0.35354010660668556,
                    0.966481353048238,
                    1.0456259454883723,
                    -0.06985975514840664,
                    -1.7497127746163397,
                    -0.5831346239610676,
                    -0.5029405538906706,
                    2.600879172321349,
                    0.5427084436389251,
                    0.9967394640267744,
                    -1.002925507668231
                  ],
                  "xaxis": "x",
                  "y": [
                    1.4024456932158744,
                    0.3865516724801874,
                    -0.37956450946570636,
                    -1.2261407903707326,
                    -1.5897884720835271,
                    0.3356356964616942,
                    -0.1338922345912404,
                    0.1650806869239035,
                    0.675381362978053,
                    0.7607825997961507,
                    0.6282052544022623,
                    -0.2831858757615492,
                    -0.5498019580835569,
                    -0.304736480834908,
                    1.0303422314244042,
                    -1.4202772629379872,
                    -0.25600532865039893,
                    0.48337674737786224,
                    1.6710618564603452
                  ],
                  "yaxis": "y"
                }
              ],
              "layout": {
                "legend": {
                  "title": {
                    "text": "color"
                  },
                  "tracegroupgap": 0
                },
                "margin": {
                  "t": 60
                },
                "template": {
                  "data": {
                    "bar": [
                      {
                        "error_x": {
                          "color": "#2a3f5f"
                        },
                        "error_y": {
                          "color": "#2a3f5f"
                        },
                        "marker": {
                          "line": {
                            "color": "white",
                            "width": 0.5
                          },
                          "pattern": {
                            "fillmode": "overlay",
                            "size": 10,
                            "solidity": 0.2
                          }
                        },
                        "type": "bar"
                      }
                    ],
                    "barpolar": [
                      {
                        "marker": {
                          "line": {
                            "color": "white",
                            "width": 0.5
                          },
                          "pattern": {
                            "fillmode": "overlay",
                            "size": 10,
                            "solidity": 0.2
                          }
                        },
                        "type": "barpolar"
                      }
                    ],
                    "carpet": [
                      {
                        "aaxis": {
                          "endlinecolor": "#2a3f5f",
                          "gridcolor": "#C8D4E3",
                          "linecolor": "#C8D4E3",
                          "minorgridcolor": "#C8D4E3",
                          "startlinecolor": "#2a3f5f"
                        },
                        "baxis": {
                          "endlinecolor": "#2a3f5f",
                          "gridcolor": "#C8D4E3",
                          "linecolor": "#C8D4E3",
                          "minorgridcolor": "#C8D4E3",
                          "startlinecolor": "#2a3f5f"
                        },
                        "type": "carpet"
                      }
                    ],
                    "choropleth": [
                      {
                        "colorbar": {
                          "outlinewidth": 0,
                          "ticks": ""
                        },
                        "type": "choropleth"
                      }
                    ],
                    "contour": [
                      {
                        "colorbar": {
                          "outlinewidth": 0,
                          "ticks": ""
                        },
                        "colorscale": [
                          [
                            0,
                            "#0d0887"
                          ],
                          [
                            0.1111111111111111,
                            "#46039f"
                          ],
                          [
                            0.2222222222222222,
                            "#7201a8"
                          ],
                          [
                            0.3333333333333333,
                            "#9c179e"
                          ],
                          [
                            0.4444444444444444,
                            "#bd3786"
                          ],
                          [
                            0.5555555555555556,
                            "#d8576b"
                          ],
                          [
                            0.6666666666666666,
                            "#ed7953"
                          ],
                          [
                            0.7777777777777778,
                            "#fb9f3a"
                          ],
                          [
                            0.8888888888888888,
                            "#fdca26"
                          ],
                          [
                            1,
                            "#f0f921"
                          ]
                        ],
                        "type": "contour"
                      }
                    ],
                    "contourcarpet": [
                      {
                        "colorbar": {
                          "outlinewidth": 0,
                          "ticks": ""
                        },
                        "type": "contourcarpet"
                      }
                    ],
                    "heatmap": [
                      {
                        "colorbar": {
                          "outlinewidth": 0,
                          "ticks": ""
                        },
                        "colorscale": [
                          [
                            0,
                            "#0d0887"
                          ],
                          [
                            0.1111111111111111,
                            "#46039f"
                          ],
                          [
                            0.2222222222222222,
                            "#7201a8"
                          ],
                          [
                            0.3333333333333333,
                            "#9c179e"
                          ],
                          [
                            0.4444444444444444,
                            "#bd3786"
                          ],
                          [
                            0.5555555555555556,
                            "#d8576b"
                          ],
                          [
                            0.6666666666666666,
                            "#ed7953"
                          ],
                          [
                            0.7777777777777778,
                            "#fb9f3a"
                          ],
                          [
                            0.8888888888888888,
                            "#fdca26"
                          ],
                          [
                            1,
                            "#f0f921"
                          ]
                        ],
                        "type": "heatmap"
                      }
                    ],
                    "heatmapgl": [
                      {
                        "colorbar": {
                          "outlinewidth": 0,
                          "ticks": ""
                        },
                        "colorscale": [
                          [
                            0,
                            "#0d0887"
                          ],
                          [
                            0.1111111111111111,
                            "#46039f"
                          ],
                          [
                            0.2222222222222222,
                            "#7201a8"
                          ],
                          [
                            0.3333333333333333,
                            "#9c179e"
                          ],
                          [
                            0.4444444444444444,
                            "#bd3786"
                          ],
                          [
                            0.5555555555555556,
                            "#d8576b"
                          ],
                          [
                            0.6666666666666666,
                            "#ed7953"
                          ],
                          [
                            0.7777777777777778,
                            "#fb9f3a"
                          ],
                          [
                            0.8888888888888888,
                            "#fdca26"
                          ],
                          [
                            1,
                            "#f0f921"
                          ]
                        ],
                        "type": "heatmapgl"
                      }
                    ],
                    "histogram": [
                      {
                        "marker": {
                          "pattern": {
                            "fillmode": "overlay",
                            "size": 10,
                            "solidity": 0.2
                          }
                        },
                        "type": "histogram"
                      }
                    ],
                    "histogram2d": [
                      {
                        "colorbar": {
                          "outlinewidth": 0,
                          "ticks": ""
                        },
                        "colorscale": [
                          [
                            0,
                            "#0d0887"
                          ],
                          [
                            0.1111111111111111,
                            "#46039f"
                          ],
                          [
                            0.2222222222222222,
                            "#7201a8"
                          ],
                          [
                            0.3333333333333333,
                            "#9c179e"
                          ],
                          [
                            0.4444444444444444,
                            "#bd3786"
                          ],
                          [
                            0.5555555555555556,
                            "#d8576b"
                          ],
                          [
                            0.6666666666666666,
                            "#ed7953"
                          ],
                          [
                            0.7777777777777778,
                            "#fb9f3a"
                          ],
                          [
                            0.8888888888888888,
                            "#fdca26"
                          ],
                          [
                            1,
                            "#f0f921"
                          ]
                        ],
                        "type": "histogram2d"
                      }
                    ],
                    "histogram2dcontour": [
                      {
                        "colorbar": {
                          "outlinewidth": 0,
                          "ticks": ""
                        },
                        "colorscale": [
                          [
                            0,
                            "#0d0887"
                          ],
                          [
                            0.1111111111111111,
                            "#46039f"
                          ],
                          [
                            0.2222222222222222,
                            "#7201a8"
                          ],
                          [
                            0.3333333333333333,
                            "#9c179e"
                          ],
                          [
                            0.4444444444444444,
                            "#bd3786"
                          ],
                          [
                            0.5555555555555556,
                            "#d8576b"
                          ],
                          [
                            0.6666666666666666,
                            "#ed7953"
                          ],
                          [
                            0.7777777777777778,
                            "#fb9f3a"
                          ],
                          [
                            0.8888888888888888,
                            "#fdca26"
                          ],
                          [
                            1,
                            "#f0f921"
                          ]
                        ],
                        "type": "histogram2dcontour"
                      }
                    ],
                    "mesh3d": [
                      {
                        "colorbar": {
                          "outlinewidth": 0,
                          "ticks": ""
                        },
                        "type": "mesh3d"
                      }
                    ],
                    "parcoords": [
                      {
                        "line": {
                          "colorbar": {
                            "outlinewidth": 0,
                            "ticks": ""
                          }
                        },
                        "type": "parcoords"
                      }
                    ],
                    "pie": [
                      {
                        "automargin": true,
                        "type": "pie"
                      }
                    ],
                    "scatter": [
                      {
                        "fillpattern": {
                          "fillmode": "overlay",
                          "size": 10,
                          "solidity": 0.2
                        },
                        "type": "scatter"
                      }
                    ],
                    "scatter3d": [
                      {
                        "line": {
                          "colorbar": {
                            "outlinewidth": 0,
                            "ticks": ""
                          }
                        },
                        "marker": {
                          "colorbar": {
                            "outlinewidth": 0,
                            "ticks": ""
                          }
                        },
                        "type": "scatter3d"
                      }
                    ],
                    "scattercarpet": [
                      {
                        "marker": {
                          "colorbar": {
                            "outlinewidth": 0,
                            "ticks": ""
                          }
                        },
                        "type": "scattercarpet"
                      }
                    ],
                    "scattergeo": [
                      {
                        "marker": {
                          "colorbar": {
                            "outlinewidth": 0,
                            "ticks": ""
                          }
                        },
                        "type": "scattergeo"
                      }
                    ],
                    "scattergl": [
                      {
                        "marker": {
                          "colorbar": {
                            "outlinewidth": 0,
                            "ticks": ""
                          }
                        },
                        "type": "scattergl"
                      }
                    ],
                    "scattermapbox": [
                      {
                        "marker": {
                          "colorbar": {
                            "outlinewidth": 0,
                            "ticks": ""
                          }
                        },
                        "type": "scattermapbox"
                      }
                    ],
                    "scatterpolar": [
                      {
                        "marker": {
                          "colorbar": {
                            "outlinewidth": 0,
                            "ticks": ""
                          }
                        },
                        "type": "scatterpolar"
                      }
                    ],
                    "scatterpolargl": [
                      {
                        "marker": {
                          "colorbar": {
                            "outlinewidth": 0,
                            "ticks": ""
                          }
                        },
                        "type": "scatterpolargl"
                      }
                    ],
                    "scatterternary": [
                      {
                        "marker": {
                          "colorbar": {
                            "outlinewidth": 0,
                            "ticks": ""
                          }
                        },
                        "type": "scatterternary"
                      }
                    ],
                    "surface": [
                      {
                        "colorbar": {
                          "outlinewidth": 0,
                          "ticks": ""
                        },
                        "colorscale": [
                          [
                            0,
                            "#0d0887"
                          ],
                          [
                            0.1111111111111111,
                            "#46039f"
                          ],
                          [
                            0.2222222222222222,
                            "#7201a8"
                          ],
                          [
                            0.3333333333333333,
                            "#9c179e"
                          ],
                          [
                            0.4444444444444444,
                            "#bd3786"
                          ],
                          [
                            0.5555555555555556,
                            "#d8576b"
                          ],
                          [
                            0.6666666666666666,
                            "#ed7953"
                          ],
                          [
                            0.7777777777777778,
                            "#fb9f3a"
                          ],
                          [
                            0.8888888888888888,
                            "#fdca26"
                          ],
                          [
                            1,
                            "#f0f921"
                          ]
                        ],
                        "type": "surface"
                      }
                    ],
                    "table": [
                      {
                        "cells": {
                          "fill": {
                            "color": "#EBF0F8"
                          },
                          "line": {
                            "color": "white"
                          }
                        },
                        "header": {
                          "fill": {
                            "color": "#C8D4E3"
                          },
                          "line": {
                            "color": "white"
                          }
                        },
                        "type": "table"
                      }
                    ]
                  },
                  "layout": {
                    "annotationdefaults": {
                      "arrowcolor": "#2a3f5f",
                      "arrowhead": 0,
                      "arrowwidth": 1
                    },
                    "autotypenumbers": "strict",
                    "coloraxis": {
                      "colorbar": {
                        "outlinewidth": 0,
                        "ticks": ""
                      }
                    },
                    "colorscale": {
                      "diverging": [
                        [
                          0,
                          "#8e0152"
                        ],
                        [
                          0.1,
                          "#c51b7d"
                        ],
                        [
                          0.2,
                          "#de77ae"
                        ],
                        [
                          0.3,
                          "#f1b6da"
                        ],
                        [
                          0.4,
                          "#fde0ef"
                        ],
                        [
                          0.5,
                          "#f7f7f7"
                        ],
                        [
                          0.6,
                          "#e6f5d0"
                        ],
                        [
                          0.7,
                          "#b8e186"
                        ],
                        [
                          0.8,
                          "#7fbc41"
                        ],
                        [
                          0.9,
                          "#4d9221"
                        ],
                        [
                          1,
                          "#276419"
                        ]
                      ],
                      "sequential": [
                        [
                          0,
                          "#0d0887"
                        ],
                        [
                          0.1111111111111111,
                          "#46039f"
                        ],
                        [
                          0.2222222222222222,
                          "#7201a8"
                        ],
                        [
                          0.3333333333333333,
                          "#9c179e"
                        ],
                        [
                          0.4444444444444444,
                          "#bd3786"
                        ],
                        [
                          0.5555555555555556,
                          "#d8576b"
                        ],
                        [
                          0.6666666666666666,
                          "#ed7953"
                        ],
                        [
                          0.7777777777777778,
                          "#fb9f3a"
                        ],
                        [
                          0.8888888888888888,
                          "#fdca26"
                        ],
                        [
                          1,
                          "#f0f921"
                        ]
                      ],
                      "sequentialminus": [
                        [
                          0,
                          "#0d0887"
                        ],
                        [
                          0.1111111111111111,
                          "#46039f"
                        ],
                        [
                          0.2222222222222222,
                          "#7201a8"
                        ],
                        [
                          0.3333333333333333,
                          "#9c179e"
                        ],
                        [
                          0.4444444444444444,
                          "#bd3786"
                        ],
                        [
                          0.5555555555555556,
                          "#d8576b"
                        ],
                        [
                          0.6666666666666666,
                          "#ed7953"
                        ],
                        [
                          0.7777777777777778,
                          "#fb9f3a"
                        ],
                        [
                          0.8888888888888888,
                          "#fdca26"
                        ],
                        [
                          1,
                          "#f0f921"
                        ]
                      ]
                    },
                    "colorway": [
                      "#636efa",
                      "#EF553B",
                      "#00cc96",
                      "#ab63fa",
                      "#FFA15A",
                      "#19d3f3",
                      "#FF6692",
                      "#B6E880",
                      "#FF97FF",
                      "#FECB52"
                    ],
                    "font": {
                      "color": "#2a3f5f"
                    },
                    "geo": {
                      "bgcolor": "white",
                      "lakecolor": "white",
                      "landcolor": "white",
                      "showlakes": true,
                      "showland": true,
                      "subunitcolor": "#C8D4E3"
                    },
                    "hoverlabel": {
                      "align": "left"
                    },
                    "hovermode": "closest",
                    "mapbox": {
                      "style": "light"
                    },
                    "paper_bgcolor": "white",
                    "plot_bgcolor": "white",
                    "polar": {
                      "angularaxis": {
                        "gridcolor": "#EBF0F8",
                        "linecolor": "#EBF0F8",
                        "ticks": ""
                      },
                      "bgcolor": "white",
                      "radialaxis": {
                        "gridcolor": "#EBF0F8",
                        "linecolor": "#EBF0F8",
                        "ticks": ""
                      }
                    },
                    "scene": {
                      "xaxis": {
                        "backgroundcolor": "white",
                        "gridcolor": "#DFE8F3",
                        "gridwidth": 2,
                        "linecolor": "#EBF0F8",
                        "showbackground": true,
                        "ticks": "",
                        "zerolinecolor": "#EBF0F8"
                      },
                      "yaxis": {
                        "backgroundcolor": "white",
                        "gridcolor": "#DFE8F3",
                        "gridwidth": 2,
                        "linecolor": "#EBF0F8",
                        "showbackground": true,
                        "ticks": "",
                        "zerolinecolor": "#EBF0F8"
                      },
                      "zaxis": {
                        "backgroundcolor": "white",
                        "gridcolor": "#DFE8F3",
                        "gridwidth": 2,
                        "linecolor": "#EBF0F8",
                        "showbackground": true,
                        "ticks": "",
                        "zerolinecolor": "#EBF0F8"
                      }
                    },
                    "shapedefaults": {
                      "line": {
                        "color": "#2a3f5f"
                      }
                    },
                    "ternary": {
                      "aaxis": {
                        "gridcolor": "#DFE8F3",
                        "linecolor": "#A2B1C6",
                        "ticks": ""
                      },
                      "baxis": {
                        "gridcolor": "#DFE8F3",
                        "linecolor": "#A2B1C6",
                        "ticks": ""
                      },
                      "bgcolor": "white",
                      "caxis": {
                        "gridcolor": "#DFE8F3",
                        "linecolor": "#A2B1C6",
                        "ticks": ""
                      }
                    },
                    "title": {
                      "x": 0.05
                    },
                    "xaxis": {
                      "automargin": true,
                      "gridcolor": "#EBF0F8",
                      "linecolor": "#EBF0F8",
                      "ticks": "",
                      "title": {
                        "standoff": 15
                      },
                      "zerolinecolor": "#EBF0F8",
                      "zerolinewidth": 2
                    },
                    "yaxis": {
                      "automargin": true,
                      "gridcolor": "#EBF0F8",
                      "linecolor": "#EBF0F8",
                      "ticks": "",
                      "title": {
                        "standoff": 15
                      },
                      "zerolinecolor": "#EBF0F8",
                      "zerolinewidth": 2
                    }
                  }
                },
                "xaxis": {
                  "anchor": "y",
                  "domain": [
                    0,
                    1
                  ],
                  "title": {
                    "text": "x"
                  }
                },
                "yaxis": {
                  "anchor": "x",
                  "domain": [
                    0,
                    1
                  ],
                  "title": {
                    "text": "y"
                  }
                }
              }
            }
          },
          "metadata": {},
          "output_type": "display_data"
        }
      ],
      "source": [
        "px.scatter(x=X[:, 0], y=X[:, 1], color=pd.Categorical(y))"
      ]
    },
    {
      "cell_type": "markdown",
      "metadata": {
        "id": "nbPD3_m_DN4U"
      },
      "source": [
        "## Assigments 3.2\n",
        "\n",
        "__Exercise 1.__ During lesson we discussed the problem of _selection bias_ in cross-validation. \n",
        "This problem is nicely investigated in the paper *On the Dangers of Cross-Validation. An Experimental Evaluation*, accessible here:\n",
        "\n",
        "http://people.csail.mit.edu/romer/papers/CrossVal_SDM08.pdf\n",
        "\n",
        "\n",
        "Read  \n",
        "- Section 1 (Introduction), \n",
        "- Section 4 (Experiments on Synthetic Data), \n",
        "- Section 7 (Discussion)\n",
        "\n",
        "And write a short summary (~half a page) about these three sections (results and take home message).\n",
        "\n"
      ]
    },
    {
      "attachments": {},
      "cell_type": "markdown",
      "metadata": {
        "id": "m833X695HEDK"
      },
      "source": [
        "The goal of the general classification issue is to learn a classifier with strong generalization that\n",
        "performs well on data from the same distribution that has never been seen before. Although classifier\n",
        "performance may be tested, it is difficult to do so for big datasets. They addressed the drawbacks of\n",
        "utilizing cross-validation error to choose between a large number of classification algorithms in this\n",
        "study. When a large number of algorithms are run on a single data set, synthetic data is used to see\n",
        "how good the cross-validation of the genuine error is. CV accuracy is influenced by the amount of\n",
        "learning algorithms used.\n",
        "\n",
        "When a large number of algorithms are run on a single data set, CV assesses how good the cross-\n",
        "validation of the true error is. CV overestimate of accuracy is most obvious for small datasets with\n",
        "\n",
        "high dimensionality when considering the impact of data size and dimensionality. As a result of\n",
        "selecting a large number of features, the LOOCV error rises. Cross-Validation for Feature Selection\n",
        "indicates that when a large set of features is picked via cross-validation, the feature selection is\n",
        "likewise unstable. The \"wrapper\" approach ensures that the learning algorithm iterates over the\n",
        "training data to find the feature that minimizes error.\n",
        "The impact of selecting a large number of features is as follows: for a small dataset, cross-validation\n",
        "accuracy improves even after selecting redundant features. It forces the classifier to use additional\n",
        "features for large samples, but after a small number of features are selected, it makes little effect.\n",
        "LOOCV stops being an effective measure of generalization when the number of cross-validation\n",
        "techniques grows too high. This is due to the fact that executing a large number of algorithms overfits\n",
        "them. As the sample size shrinks and the dimensionality rises, the behavior worsens. This is because\n",
        "executing a large number of algorithms in cross-validation space effectively overfits."
      ]
    }
  ],
  "metadata": {
    "colab": {
      "name": "Assignments3_Martiros_Yeghiazaryan.ipynb",
      "provenance": []
    },
    "kernelspec": {
      "display_name": "Python 3 (ipykernel)",
      "language": "python",
      "name": "python3"
    },
    "language_info": {
      "codemirror_mode": {
        "name": "ipython",
        "version": 3
      },
      "file_extension": ".py",
      "mimetype": "text/x-python",
      "name": "python",
      "nbconvert_exporter": "python",
      "pygments_lexer": "ipython3",
      "version": "3.9.7"
    }
  },
  "nbformat": 4,
  "nbformat_minor": 0
}
