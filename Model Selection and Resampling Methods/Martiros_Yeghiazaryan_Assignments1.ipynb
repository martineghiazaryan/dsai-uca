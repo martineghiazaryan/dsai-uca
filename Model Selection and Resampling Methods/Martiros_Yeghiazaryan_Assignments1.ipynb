{
  "cells": [
    {
      "cell_type": "markdown",
      "metadata": {
        "id": "VyYTLf67W1T9"
      },
      "source": [
        "## Assigments 1.1\n",
        "\n",
        "This first part of the assignments is based on the iris dataset (https://en.wikipedia.org/wiki/Iris_flower_data_set)"
      ]
    },
    {
      "cell_type": "code",
      "execution_count": null,
      "metadata": {
        "colab": {
          "base_uri": "https://localhost:8080/"
        },
        "id": "B6SYxT-YW1T-",
        "outputId": "ca189285-18ab-4391-be93-a0a16bced72e"
      },
      "outputs": [
        {
          "output_type": "stream",
          "name": "stdout",
          "text": [
            "There are 4 features, whose names are: \n",
            "Index(['sepal length (cm)', 'sepal width (cm)', 'petal length (cm)',\n",
            "       'petal width (cm)'],\n",
            "      dtype='object')\n",
            "\n",
            "There are 3 classes to predict, whose names are: \n",
            "['setosa' 'versicolor' 'virginica']\n",
            "\n",
            "There are 150 observations\n"
          ]
        }
      ],
      "source": [
        "import numpy as np\n",
        "import pandas as pd\n",
        "import matplotlib.pyplot as plt\n",
        "import plotly.express as px\n",
        "\n",
        "# importing the data from sklearn\n",
        "from sklearn.datasets import load_iris\n",
        "iris_dataset = load_iris()\n",
        "\n",
        "from sklearn.metrics import mean_squared_error, r2_score, accuracy_score, f1_score\n",
        "\n",
        "# extracting the relevant information\n",
        "\n",
        "data = pd.DataFrame(data=iris_dataset.data, columns=iris_dataset.feature_names)\n",
        "data_feature_names = data.columns\n",
        "target = iris_dataset.target\n",
        "target_names = iris_dataset.target_names\n",
        "\n",
        "print('There are ' + str(len(data_feature_names)) + ' features, whose names are: \\n' + str(data_feature_names))\n",
        "print('\\nThere are ' + str(len(target_names)) + ' classes to predict, whose names are: \\n' + str(target_names))\n",
        "print('\\nThere are ' + str(data.shape[0]) + ' observations')"
      ]
    },
    {
      "cell_type": "markdown",
      "metadata": {
        "id": "MfvfeUCzW1UA"
      },
      "source": [
        "$\\mathbf{Exercise\\, 1.}$ Compute the median, mean and standard deviation for each of the 4 features in the iris dataset (don't use numpy or other pre-defined functions, write your own routine)."
      ]
    },
    {
      "cell_type": "code",
      "execution_count": null,
      "metadata": {
        "collapsed": true,
        "colab": {
          "base_uri": "https://localhost:8080/",
          "height": 143
        },
        "id": "3rwPN9BUW1UA",
        "outputId": "965c8961-4154-4e44-f4ed-c08fb7835ab1"
      },
      "outputs": [
        {
          "output_type": "execute_result",
          "data": {
            "text/plain": [
              "          sepal length (cm)  sepal width (cm)  petal length (cm)  \\\n",
              "mean               5.843333          3.057333           3.758000   \n",
              "variance           0.685694          0.189979           3.116278   \n",
              "std                0.828066          0.435866           1.765298   \n",
              "\n",
              "          petal width (cm)  \n",
              "mean              1.199333  \n",
              "variance          0.581006  \n",
              "std               0.762238  "
            ],
            "text/html": [
              "\n",
              "  <div id=\"df-904621ad-7d98-4946-be8c-6e73675eeeb1\">\n",
              "    <div class=\"colab-df-container\">\n",
              "      <div>\n",
              "<style scoped>\n",
              "    .dataframe tbody tr th:only-of-type {\n",
              "        vertical-align: middle;\n",
              "    }\n",
              "\n",
              "    .dataframe tbody tr th {\n",
              "        vertical-align: top;\n",
              "    }\n",
              "\n",
              "    .dataframe thead th {\n",
              "        text-align: right;\n",
              "    }\n",
              "</style>\n",
              "<table border=\"1\" class=\"dataframe\">\n",
              "  <thead>\n",
              "    <tr style=\"text-align: right;\">\n",
              "      <th></th>\n",
              "      <th>sepal length (cm)</th>\n",
              "      <th>sepal width (cm)</th>\n",
              "      <th>petal length (cm)</th>\n",
              "      <th>petal width (cm)</th>\n",
              "    </tr>\n",
              "  </thead>\n",
              "  <tbody>\n",
              "    <tr>\n",
              "      <th>mean</th>\n",
              "      <td>5.843333</td>\n",
              "      <td>3.057333</td>\n",
              "      <td>3.758000</td>\n",
              "      <td>1.199333</td>\n",
              "    </tr>\n",
              "    <tr>\n",
              "      <th>variance</th>\n",
              "      <td>0.685694</td>\n",
              "      <td>0.189979</td>\n",
              "      <td>3.116278</td>\n",
              "      <td>0.581006</td>\n",
              "    </tr>\n",
              "    <tr>\n",
              "      <th>std</th>\n",
              "      <td>0.828066</td>\n",
              "      <td>0.435866</td>\n",
              "      <td>1.765298</td>\n",
              "      <td>0.762238</td>\n",
              "    </tr>\n",
              "  </tbody>\n",
              "</table>\n",
              "</div>\n",
              "      <button class=\"colab-df-convert\" onclick=\"convertToInteractive('df-904621ad-7d98-4946-be8c-6e73675eeeb1')\"\n",
              "              title=\"Convert this dataframe to an interactive table.\"\n",
              "              style=\"display:none;\">\n",
              "        \n",
              "  <svg xmlns=\"http://www.w3.org/2000/svg\" height=\"24px\"viewBox=\"0 0 24 24\"\n",
              "       width=\"24px\">\n",
              "    <path d=\"M0 0h24v24H0V0z\" fill=\"none\"/>\n",
              "    <path d=\"M18.56 5.44l.94 2.06.94-2.06 2.06-.94-2.06-.94-.94-2.06-.94 2.06-2.06.94zm-11 1L8.5 8.5l.94-2.06 2.06-.94-2.06-.94L8.5 2.5l-.94 2.06-2.06.94zm10 10l.94 2.06.94-2.06 2.06-.94-2.06-.94-.94-2.06-.94 2.06-2.06.94z\"/><path d=\"M17.41 7.96l-1.37-1.37c-.4-.4-.92-.59-1.43-.59-.52 0-1.04.2-1.43.59L10.3 9.45l-7.72 7.72c-.78.78-.78 2.05 0 2.83L4 21.41c.39.39.9.59 1.41.59.51 0 1.02-.2 1.41-.59l7.78-7.78 2.81-2.81c.8-.78.8-2.07 0-2.86zM5.41 20L4 18.59l7.72-7.72 1.47 1.35L5.41 20z\"/>\n",
              "  </svg>\n",
              "      </button>\n",
              "      \n",
              "  <style>\n",
              "    .colab-df-container {\n",
              "      display:flex;\n",
              "      flex-wrap:wrap;\n",
              "      gap: 12px;\n",
              "    }\n",
              "\n",
              "    .colab-df-convert {\n",
              "      background-color: #E8F0FE;\n",
              "      border: none;\n",
              "      border-radius: 50%;\n",
              "      cursor: pointer;\n",
              "      display: none;\n",
              "      fill: #1967D2;\n",
              "      height: 32px;\n",
              "      padding: 0 0 0 0;\n",
              "      width: 32px;\n",
              "    }\n",
              "\n",
              "    .colab-df-convert:hover {\n",
              "      background-color: #E2EBFA;\n",
              "      box-shadow: 0px 1px 2px rgba(60, 64, 67, 0.3), 0px 1px 3px 1px rgba(60, 64, 67, 0.15);\n",
              "      fill: #174EA6;\n",
              "    }\n",
              "\n",
              "    [theme=dark] .colab-df-convert {\n",
              "      background-color: #3B4455;\n",
              "      fill: #D2E3FC;\n",
              "    }\n",
              "\n",
              "    [theme=dark] .colab-df-convert:hover {\n",
              "      background-color: #434B5C;\n",
              "      box-shadow: 0px 1px 3px 1px rgba(0, 0, 0, 0.15);\n",
              "      filter: drop-shadow(0px 1px 2px rgba(0, 0, 0, 0.3));\n",
              "      fill: #FFFFFF;\n",
              "    }\n",
              "  </style>\n",
              "\n",
              "      <script>\n",
              "        const buttonEl =\n",
              "          document.querySelector('#df-904621ad-7d98-4946-be8c-6e73675eeeb1 button.colab-df-convert');\n",
              "        buttonEl.style.display =\n",
              "          google.colab.kernel.accessAllowed ? 'block' : 'none';\n",
              "\n",
              "        async function convertToInteractive(key) {\n",
              "          const element = document.querySelector('#df-904621ad-7d98-4946-be8c-6e73675eeeb1');\n",
              "          const dataTable =\n",
              "            await google.colab.kernel.invokeFunction('convertToInteractive',\n",
              "                                                     [key], {});\n",
              "          if (!dataTable) return;\n",
              "\n",
              "          const docLinkHtml = 'Like what you see? Visit the ' +\n",
              "            '<a target=\"_blank\" href=https://colab.research.google.com/notebooks/data_table.ipynb>data table notebook</a>'\n",
              "            + ' to learn more about interactive tables.';\n",
              "          element.innerHTML = '';\n",
              "          dataTable['output_type'] = 'display_data';\n",
              "          await google.colab.output.renderOutput(dataTable, element);\n",
              "          const docLink = document.createElement('div');\n",
              "          docLink.innerHTML = docLinkHtml;\n",
              "          element.appendChild(docLink);\n",
              "        }\n",
              "      </script>\n",
              "    </div>\n",
              "  </div>\n",
              "  "
            ]
          },
          "metadata": {},
          "execution_count": 2
        }
      ],
      "source": [
        "def mean(data):\n",
        "  return data.sum() / len(data)\n",
        "\n",
        "def variance(data):\n",
        "  data_mean = mean(data)\n",
        "\n",
        "  return ((data - data_mean)**2).sum() / (len(data)-1)\n",
        "\n",
        "def std(data):\n",
        "  data_var = variance(data)\n",
        "\n",
        "  assert data_var >= 0\n",
        "  return (data_var) ** (1/2)\n",
        "\n",
        "dataframe = pd.DataFrame(columns=data.columns)\n",
        "dataframe.loc['mean'] = data.apply(lambda data: mean(data))\n",
        "dataframe.loc['variance'] = data.apply(lambda data: variance(data))\n",
        "dataframe.loc['std'] = data.apply(lambda data: std(data))\n",
        "dataframe"
      ]
    },
    {
      "cell_type": "code",
      "source": [
        "df = pd.DataFrame(columns=data.columns)\n",
        "df.loc[\"mean\"] = data.mean()\n",
        "df.loc[\"variance\"] = data.var()\n",
        "df.loc[\"std\"] = data.std()\n",
        "\n",
        "df"
      ],
      "metadata": {
        "colab": {
          "base_uri": "https://localhost:8080/",
          "height": 143
        },
        "id": "zNp7tEBwcu6h",
        "outputId": "38ba174a-1d7f-47f6-ab3a-5873e57645e0"
      },
      "execution_count": null,
      "outputs": [
        {
          "output_type": "execute_result",
          "data": {
            "text/plain": [
              "          sepal length (cm)  sepal width (cm)  petal length (cm)  \\\n",
              "mean               5.843333          3.057333           3.758000   \n",
              "variance           0.685694          0.189979           3.116278   \n",
              "std                0.828066          0.435866           1.765298   \n",
              "\n",
              "          petal width (cm)  \n",
              "mean              1.199333  \n",
              "variance          0.581006  \n",
              "std               0.762238  "
            ],
            "text/html": [
              "\n",
              "  <div id=\"df-594da4e7-a7aa-46c8-9377-6fc1b11b4dfc\">\n",
              "    <div class=\"colab-df-container\">\n",
              "      <div>\n",
              "<style scoped>\n",
              "    .dataframe tbody tr th:only-of-type {\n",
              "        vertical-align: middle;\n",
              "    }\n",
              "\n",
              "    .dataframe tbody tr th {\n",
              "        vertical-align: top;\n",
              "    }\n",
              "\n",
              "    .dataframe thead th {\n",
              "        text-align: right;\n",
              "    }\n",
              "</style>\n",
              "<table border=\"1\" class=\"dataframe\">\n",
              "  <thead>\n",
              "    <tr style=\"text-align: right;\">\n",
              "      <th></th>\n",
              "      <th>sepal length (cm)</th>\n",
              "      <th>sepal width (cm)</th>\n",
              "      <th>petal length (cm)</th>\n",
              "      <th>petal width (cm)</th>\n",
              "    </tr>\n",
              "  </thead>\n",
              "  <tbody>\n",
              "    <tr>\n",
              "      <th>mean</th>\n",
              "      <td>5.843333</td>\n",
              "      <td>3.057333</td>\n",
              "      <td>3.758000</td>\n",
              "      <td>1.199333</td>\n",
              "    </tr>\n",
              "    <tr>\n",
              "      <th>variance</th>\n",
              "      <td>0.685694</td>\n",
              "      <td>0.189979</td>\n",
              "      <td>3.116278</td>\n",
              "      <td>0.581006</td>\n",
              "    </tr>\n",
              "    <tr>\n",
              "      <th>std</th>\n",
              "      <td>0.828066</td>\n",
              "      <td>0.435866</td>\n",
              "      <td>1.765298</td>\n",
              "      <td>0.762238</td>\n",
              "    </tr>\n",
              "  </tbody>\n",
              "</table>\n",
              "</div>\n",
              "      <button class=\"colab-df-convert\" onclick=\"convertToInteractive('df-594da4e7-a7aa-46c8-9377-6fc1b11b4dfc')\"\n",
              "              title=\"Convert this dataframe to an interactive table.\"\n",
              "              style=\"display:none;\">\n",
              "        \n",
              "  <svg xmlns=\"http://www.w3.org/2000/svg\" height=\"24px\"viewBox=\"0 0 24 24\"\n",
              "       width=\"24px\">\n",
              "    <path d=\"M0 0h24v24H0V0z\" fill=\"none\"/>\n",
              "    <path d=\"M18.56 5.44l.94 2.06.94-2.06 2.06-.94-2.06-.94-.94-2.06-.94 2.06-2.06.94zm-11 1L8.5 8.5l.94-2.06 2.06-.94-2.06-.94L8.5 2.5l-.94 2.06-2.06.94zm10 10l.94 2.06.94-2.06 2.06-.94-2.06-.94-.94-2.06-.94 2.06-2.06.94z\"/><path d=\"M17.41 7.96l-1.37-1.37c-.4-.4-.92-.59-1.43-.59-.52 0-1.04.2-1.43.59L10.3 9.45l-7.72 7.72c-.78.78-.78 2.05 0 2.83L4 21.41c.39.39.9.59 1.41.59.51 0 1.02-.2 1.41-.59l7.78-7.78 2.81-2.81c.8-.78.8-2.07 0-2.86zM5.41 20L4 18.59l7.72-7.72 1.47 1.35L5.41 20z\"/>\n",
              "  </svg>\n",
              "      </button>\n",
              "      \n",
              "  <style>\n",
              "    .colab-df-container {\n",
              "      display:flex;\n",
              "      flex-wrap:wrap;\n",
              "      gap: 12px;\n",
              "    }\n",
              "\n",
              "    .colab-df-convert {\n",
              "      background-color: #E8F0FE;\n",
              "      border: none;\n",
              "      border-radius: 50%;\n",
              "      cursor: pointer;\n",
              "      display: none;\n",
              "      fill: #1967D2;\n",
              "      height: 32px;\n",
              "      padding: 0 0 0 0;\n",
              "      width: 32px;\n",
              "    }\n",
              "\n",
              "    .colab-df-convert:hover {\n",
              "      background-color: #E2EBFA;\n",
              "      box-shadow: 0px 1px 2px rgba(60, 64, 67, 0.3), 0px 1px 3px 1px rgba(60, 64, 67, 0.15);\n",
              "      fill: #174EA6;\n",
              "    }\n",
              "\n",
              "    [theme=dark] .colab-df-convert {\n",
              "      background-color: #3B4455;\n",
              "      fill: #D2E3FC;\n",
              "    }\n",
              "\n",
              "    [theme=dark] .colab-df-convert:hover {\n",
              "      background-color: #434B5C;\n",
              "      box-shadow: 0px 1px 3px 1px rgba(0, 0, 0, 0.15);\n",
              "      filter: drop-shadow(0px 1px 2px rgba(0, 0, 0, 0.3));\n",
              "      fill: #FFFFFF;\n",
              "    }\n",
              "  </style>\n",
              "\n",
              "      <script>\n",
              "        const buttonEl =\n",
              "          document.querySelector('#df-594da4e7-a7aa-46c8-9377-6fc1b11b4dfc button.colab-df-convert');\n",
              "        buttonEl.style.display =\n",
              "          google.colab.kernel.accessAllowed ? 'block' : 'none';\n",
              "\n",
              "        async function convertToInteractive(key) {\n",
              "          const element = document.querySelector('#df-594da4e7-a7aa-46c8-9377-6fc1b11b4dfc');\n",
              "          const dataTable =\n",
              "            await google.colab.kernel.invokeFunction('convertToInteractive',\n",
              "                                                     [key], {});\n",
              "          if (!dataTable) return;\n",
              "\n",
              "          const docLinkHtml = 'Like what you see? Visit the ' +\n",
              "            '<a target=\"_blank\" href=https://colab.research.google.com/notebooks/data_table.ipynb>data table notebook</a>'\n",
              "            + ' to learn more about interactive tables.';\n",
              "          element.innerHTML = '';\n",
              "          dataTable['output_type'] = 'display_data';\n",
              "          await google.colab.output.renderOutput(dataTable, element);\n",
              "          const docLink = document.createElement('div');\n",
              "          docLink.innerHTML = docLinkHtml;\n",
              "          element.appendChild(docLink);\n",
              "        }\n",
              "      </script>\n",
              "    </div>\n",
              "  </div>\n",
              "  "
            ]
          },
          "metadata": {},
          "execution_count": 3
        }
      ]
    },
    {
      "cell_type": "code",
      "source": [
        "np.allclose(dataframe, df)"
      ],
      "metadata": {
        "colab": {
          "base_uri": "https://localhost:8080/"
        },
        "id": "-NyCRgA5c5Qb",
        "outputId": "ed8ebf22-4e1f-491f-ea36-d5c3b2c9add5"
      },
      "execution_count": null,
      "outputs": [
        {
          "output_type": "execute_result",
          "data": {
            "text/plain": [
              "True"
            ]
          },
          "metadata": {},
          "execution_count": 4
        }
      ]
    },
    {
      "cell_type": "markdown",
      "metadata": {
        "id": "JLLwBqnqW1UA"
      },
      "source": [
        "$\\mathbf{Exercise\\, 2.}$ For each feature, generate 150 Gaussian distributed samples with the same mean and standard_deviation computed in Exercise 1."
      ]
    },
    {
      "cell_type": "code",
      "execution_count": null,
      "metadata": {
        "collapsed": true,
        "colab": {
          "base_uri": "https://localhost:8080/",
          "height": 423
        },
        "id": "Iw-Qjq2mW1UA",
        "outputId": "1a7edeb8-5599-4b5f-e179-2aa4161a0f85"
      },
      "outputs": [
        {
          "output_type": "execute_result",
          "data": {
            "text/plain": [
              "     sepal length (cm)  sepal width (cm)  petal length (cm)  petal width (cm)\n",
              "0             6.470191          3.466698           0.122732          0.162504\n",
              "1             5.147866          3.227266           4.208309          0.551715\n",
              "2             6.306156          2.908065           1.749647          0.529184\n",
              "3             6.439659          3.217054           2.751251          1.303847\n",
              "4             6.215903          2.220097           2.007907          2.448754\n",
              "..                 ...               ...                ...               ...\n",
              "145           6.788503          3.529598           4.785142          0.590447\n",
              "146           5.826130          3.384414           3.225354          1.407513\n",
              "147           4.894114          2.429072           6.474246          2.462463\n",
              "148           4.523320          2.780251           4.411468          1.600086\n",
              "149           4.692272          3.032522           5.061934         -0.821501\n",
              "\n",
              "[150 rows x 4 columns]"
            ],
            "text/html": [
              "\n",
              "  <div id=\"df-8e84d9aa-ac39-4e2e-9f6c-55d6d1ae54c7\">\n",
              "    <div class=\"colab-df-container\">\n",
              "      <div>\n",
              "<style scoped>\n",
              "    .dataframe tbody tr th:only-of-type {\n",
              "        vertical-align: middle;\n",
              "    }\n",
              "\n",
              "    .dataframe tbody tr th {\n",
              "        vertical-align: top;\n",
              "    }\n",
              "\n",
              "    .dataframe thead th {\n",
              "        text-align: right;\n",
              "    }\n",
              "</style>\n",
              "<table border=\"1\" class=\"dataframe\">\n",
              "  <thead>\n",
              "    <tr style=\"text-align: right;\">\n",
              "      <th></th>\n",
              "      <th>sepal length (cm)</th>\n",
              "      <th>sepal width (cm)</th>\n",
              "      <th>petal length (cm)</th>\n",
              "      <th>petal width (cm)</th>\n",
              "    </tr>\n",
              "  </thead>\n",
              "  <tbody>\n",
              "    <tr>\n",
              "      <th>0</th>\n",
              "      <td>6.470191</td>\n",
              "      <td>3.466698</td>\n",
              "      <td>0.122732</td>\n",
              "      <td>0.162504</td>\n",
              "    </tr>\n",
              "    <tr>\n",
              "      <th>1</th>\n",
              "      <td>5.147866</td>\n",
              "      <td>3.227266</td>\n",
              "      <td>4.208309</td>\n",
              "      <td>0.551715</td>\n",
              "    </tr>\n",
              "    <tr>\n",
              "      <th>2</th>\n",
              "      <td>6.306156</td>\n",
              "      <td>2.908065</td>\n",
              "      <td>1.749647</td>\n",
              "      <td>0.529184</td>\n",
              "    </tr>\n",
              "    <tr>\n",
              "      <th>3</th>\n",
              "      <td>6.439659</td>\n",
              "      <td>3.217054</td>\n",
              "      <td>2.751251</td>\n",
              "      <td>1.303847</td>\n",
              "    </tr>\n",
              "    <tr>\n",
              "      <th>4</th>\n",
              "      <td>6.215903</td>\n",
              "      <td>2.220097</td>\n",
              "      <td>2.007907</td>\n",
              "      <td>2.448754</td>\n",
              "    </tr>\n",
              "    <tr>\n",
              "      <th>...</th>\n",
              "      <td>...</td>\n",
              "      <td>...</td>\n",
              "      <td>...</td>\n",
              "      <td>...</td>\n",
              "    </tr>\n",
              "    <tr>\n",
              "      <th>145</th>\n",
              "      <td>6.788503</td>\n",
              "      <td>3.529598</td>\n",
              "      <td>4.785142</td>\n",
              "      <td>0.590447</td>\n",
              "    </tr>\n",
              "    <tr>\n",
              "      <th>146</th>\n",
              "      <td>5.826130</td>\n",
              "      <td>3.384414</td>\n",
              "      <td>3.225354</td>\n",
              "      <td>1.407513</td>\n",
              "    </tr>\n",
              "    <tr>\n",
              "      <th>147</th>\n",
              "      <td>4.894114</td>\n",
              "      <td>2.429072</td>\n",
              "      <td>6.474246</td>\n",
              "      <td>2.462463</td>\n",
              "    </tr>\n",
              "    <tr>\n",
              "      <th>148</th>\n",
              "      <td>4.523320</td>\n",
              "      <td>2.780251</td>\n",
              "      <td>4.411468</td>\n",
              "      <td>1.600086</td>\n",
              "    </tr>\n",
              "    <tr>\n",
              "      <th>149</th>\n",
              "      <td>4.692272</td>\n",
              "      <td>3.032522</td>\n",
              "      <td>5.061934</td>\n",
              "      <td>-0.821501</td>\n",
              "    </tr>\n",
              "  </tbody>\n",
              "</table>\n",
              "<p>150 rows × 4 columns</p>\n",
              "</div>\n",
              "      <button class=\"colab-df-convert\" onclick=\"convertToInteractive('df-8e84d9aa-ac39-4e2e-9f6c-55d6d1ae54c7')\"\n",
              "              title=\"Convert this dataframe to an interactive table.\"\n",
              "              style=\"display:none;\">\n",
              "        \n",
              "  <svg xmlns=\"http://www.w3.org/2000/svg\" height=\"24px\"viewBox=\"0 0 24 24\"\n",
              "       width=\"24px\">\n",
              "    <path d=\"M0 0h24v24H0V0z\" fill=\"none\"/>\n",
              "    <path d=\"M18.56 5.44l.94 2.06.94-2.06 2.06-.94-2.06-.94-.94-2.06-.94 2.06-2.06.94zm-11 1L8.5 8.5l.94-2.06 2.06-.94-2.06-.94L8.5 2.5l-.94 2.06-2.06.94zm10 10l.94 2.06.94-2.06 2.06-.94-2.06-.94-.94-2.06-.94 2.06-2.06.94z\"/><path d=\"M17.41 7.96l-1.37-1.37c-.4-.4-.92-.59-1.43-.59-.52 0-1.04.2-1.43.59L10.3 9.45l-7.72 7.72c-.78.78-.78 2.05 0 2.83L4 21.41c.39.39.9.59 1.41.59.51 0 1.02-.2 1.41-.59l7.78-7.78 2.81-2.81c.8-.78.8-2.07 0-2.86zM5.41 20L4 18.59l7.72-7.72 1.47 1.35L5.41 20z\"/>\n",
              "  </svg>\n",
              "      </button>\n",
              "      \n",
              "  <style>\n",
              "    .colab-df-container {\n",
              "      display:flex;\n",
              "      flex-wrap:wrap;\n",
              "      gap: 12px;\n",
              "    }\n",
              "\n",
              "    .colab-df-convert {\n",
              "      background-color: #E8F0FE;\n",
              "      border: none;\n",
              "      border-radius: 50%;\n",
              "      cursor: pointer;\n",
              "      display: none;\n",
              "      fill: #1967D2;\n",
              "      height: 32px;\n",
              "      padding: 0 0 0 0;\n",
              "      width: 32px;\n",
              "    }\n",
              "\n",
              "    .colab-df-convert:hover {\n",
              "      background-color: #E2EBFA;\n",
              "      box-shadow: 0px 1px 2px rgba(60, 64, 67, 0.3), 0px 1px 3px 1px rgba(60, 64, 67, 0.15);\n",
              "      fill: #174EA6;\n",
              "    }\n",
              "\n",
              "    [theme=dark] .colab-df-convert {\n",
              "      background-color: #3B4455;\n",
              "      fill: #D2E3FC;\n",
              "    }\n",
              "\n",
              "    [theme=dark] .colab-df-convert:hover {\n",
              "      background-color: #434B5C;\n",
              "      box-shadow: 0px 1px 3px 1px rgba(0, 0, 0, 0.15);\n",
              "      filter: drop-shadow(0px 1px 2px rgba(0, 0, 0, 0.3));\n",
              "      fill: #FFFFFF;\n",
              "    }\n",
              "  </style>\n",
              "\n",
              "      <script>\n",
              "        const buttonEl =\n",
              "          document.querySelector('#df-8e84d9aa-ac39-4e2e-9f6c-55d6d1ae54c7 button.colab-df-convert');\n",
              "        buttonEl.style.display =\n",
              "          google.colab.kernel.accessAllowed ? 'block' : 'none';\n",
              "\n",
              "        async function convertToInteractive(key) {\n",
              "          const element = document.querySelector('#df-8e84d9aa-ac39-4e2e-9f6c-55d6d1ae54c7');\n",
              "          const dataTable =\n",
              "            await google.colab.kernel.invokeFunction('convertToInteractive',\n",
              "                                                     [key], {});\n",
              "          if (!dataTable) return;\n",
              "\n",
              "          const docLinkHtml = 'Like what you see? Visit the ' +\n",
              "            '<a target=\"_blank\" href=https://colab.research.google.com/notebooks/data_table.ipynb>data table notebook</a>'\n",
              "            + ' to learn more about interactive tables.';\n",
              "          element.innerHTML = '';\n",
              "          dataTable['output_type'] = 'display_data';\n",
              "          await google.colab.output.renderOutput(dataTable, element);\n",
              "          const docLink = document.createElement('div');\n",
              "          docLink.innerHTML = docLinkHtml;\n",
              "          element.appendChild(docLink);\n",
              "        }\n",
              "      </script>\n",
              "    </div>\n",
              "  </div>\n",
              "  "
            ]
          },
          "metadata": {},
          "execution_count": 5
        }
      ],
      "source": [
        "df_gauss = pd.DataFrame()\n",
        "\n",
        "for col in dataframe.columns:\n",
        "  df_gauss[col] = np.random.normal(\n",
        "      loc=dataframe.loc['mean', col], \n",
        "      scale=dataframe.loc['std', col],\n",
        "      size=150\n",
        "  )\n",
        "\n",
        "df_gauss"
      ]
    },
    {
      "cell_type": "markdown",
      "metadata": {
        "id": "JjkIMsZ0W1UB"
      },
      "source": [
        "$\\mathbf{Exercise\\, 3.}$ Compute the histogram (with 30 bins) of the distribution of the generate samples and plot it together with the histogram of the original data. The histograms must be plotted on the same plot. Comment on the difference between simulations and real data: for which feature the distributions are most different? What is the reason? "
      ]
    },
    {
      "cell_type": "code",
      "execution_count": null,
      "metadata": {
        "collapsed": true,
        "id": "lO90vU3yW1UB",
        "colab": {
          "base_uri": "https://localhost:8080/",
          "height": 423
        },
        "outputId": "8c943e31-108c-4f1e-ec51-98512edb4964"
      },
      "outputs": [
        {
          "output_type": "execute_result",
          "data": {
            "text/plain": [
              "     origin            feature     value\n",
              "0      data  sepal length (cm)  5.100000\n",
              "1      data  sepal length (cm)  4.900000\n",
              "2      data  sepal length (cm)  4.700000\n",
              "3      data  sepal length (cm)  4.600000\n",
              "4      data  sepal length (cm)  5.000000\n",
              "...     ...                ...       ...\n",
              "1195  gauss   petal width (cm)  0.590447\n",
              "1196  gauss   petal width (cm)  1.407513\n",
              "1197  gauss   petal width (cm)  2.462463\n",
              "1198  gauss   petal width (cm)  1.600086\n",
              "1199  gauss   petal width (cm) -0.821501\n",
              "\n",
              "[1200 rows x 3 columns]"
            ],
            "text/html": [
              "\n",
              "  <div id=\"df-77329c63-f131-449c-9a88-268ed3d7fe41\">\n",
              "    <div class=\"colab-df-container\">\n",
              "      <div>\n",
              "<style scoped>\n",
              "    .dataframe tbody tr th:only-of-type {\n",
              "        vertical-align: middle;\n",
              "    }\n",
              "\n",
              "    .dataframe tbody tr th {\n",
              "        vertical-align: top;\n",
              "    }\n",
              "\n",
              "    .dataframe thead th {\n",
              "        text-align: right;\n",
              "    }\n",
              "</style>\n",
              "<table border=\"1\" class=\"dataframe\">\n",
              "  <thead>\n",
              "    <tr style=\"text-align: right;\">\n",
              "      <th></th>\n",
              "      <th>origin</th>\n",
              "      <th>feature</th>\n",
              "      <th>value</th>\n",
              "    </tr>\n",
              "  </thead>\n",
              "  <tbody>\n",
              "    <tr>\n",
              "      <th>0</th>\n",
              "      <td>data</td>\n",
              "      <td>sepal length (cm)</td>\n",
              "      <td>5.100000</td>\n",
              "    </tr>\n",
              "    <tr>\n",
              "      <th>1</th>\n",
              "      <td>data</td>\n",
              "      <td>sepal length (cm)</td>\n",
              "      <td>4.900000</td>\n",
              "    </tr>\n",
              "    <tr>\n",
              "      <th>2</th>\n",
              "      <td>data</td>\n",
              "      <td>sepal length (cm)</td>\n",
              "      <td>4.700000</td>\n",
              "    </tr>\n",
              "    <tr>\n",
              "      <th>3</th>\n",
              "      <td>data</td>\n",
              "      <td>sepal length (cm)</td>\n",
              "      <td>4.600000</td>\n",
              "    </tr>\n",
              "    <tr>\n",
              "      <th>4</th>\n",
              "      <td>data</td>\n",
              "      <td>sepal length (cm)</td>\n",
              "      <td>5.000000</td>\n",
              "    </tr>\n",
              "    <tr>\n",
              "      <th>...</th>\n",
              "      <td>...</td>\n",
              "      <td>...</td>\n",
              "      <td>...</td>\n",
              "    </tr>\n",
              "    <tr>\n",
              "      <th>1195</th>\n",
              "      <td>gauss</td>\n",
              "      <td>petal width (cm)</td>\n",
              "      <td>0.590447</td>\n",
              "    </tr>\n",
              "    <tr>\n",
              "      <th>1196</th>\n",
              "      <td>gauss</td>\n",
              "      <td>petal width (cm)</td>\n",
              "      <td>1.407513</td>\n",
              "    </tr>\n",
              "    <tr>\n",
              "      <th>1197</th>\n",
              "      <td>gauss</td>\n",
              "      <td>petal width (cm)</td>\n",
              "      <td>2.462463</td>\n",
              "    </tr>\n",
              "    <tr>\n",
              "      <th>1198</th>\n",
              "      <td>gauss</td>\n",
              "      <td>petal width (cm)</td>\n",
              "      <td>1.600086</td>\n",
              "    </tr>\n",
              "    <tr>\n",
              "      <th>1199</th>\n",
              "      <td>gauss</td>\n",
              "      <td>petal width (cm)</td>\n",
              "      <td>-0.821501</td>\n",
              "    </tr>\n",
              "  </tbody>\n",
              "</table>\n",
              "<p>1200 rows × 3 columns</p>\n",
              "</div>\n",
              "      <button class=\"colab-df-convert\" onclick=\"convertToInteractive('df-77329c63-f131-449c-9a88-268ed3d7fe41')\"\n",
              "              title=\"Convert this dataframe to an interactive table.\"\n",
              "              style=\"display:none;\">\n",
              "        \n",
              "  <svg xmlns=\"http://www.w3.org/2000/svg\" height=\"24px\"viewBox=\"0 0 24 24\"\n",
              "       width=\"24px\">\n",
              "    <path d=\"M0 0h24v24H0V0z\" fill=\"none\"/>\n",
              "    <path d=\"M18.56 5.44l.94 2.06.94-2.06 2.06-.94-2.06-.94-.94-2.06-.94 2.06-2.06.94zm-11 1L8.5 8.5l.94-2.06 2.06-.94-2.06-.94L8.5 2.5l-.94 2.06-2.06.94zm10 10l.94 2.06.94-2.06 2.06-.94-2.06-.94-.94-2.06-.94 2.06-2.06.94z\"/><path d=\"M17.41 7.96l-1.37-1.37c-.4-.4-.92-.59-1.43-.59-.52 0-1.04.2-1.43.59L10.3 9.45l-7.72 7.72c-.78.78-.78 2.05 0 2.83L4 21.41c.39.39.9.59 1.41.59.51 0 1.02-.2 1.41-.59l7.78-7.78 2.81-2.81c.8-.78.8-2.07 0-2.86zM5.41 20L4 18.59l7.72-7.72 1.47 1.35L5.41 20z\"/>\n",
              "  </svg>\n",
              "      </button>\n",
              "      \n",
              "  <style>\n",
              "    .colab-df-container {\n",
              "      display:flex;\n",
              "      flex-wrap:wrap;\n",
              "      gap: 12px;\n",
              "    }\n",
              "\n",
              "    .colab-df-convert {\n",
              "      background-color: #E8F0FE;\n",
              "      border: none;\n",
              "      border-radius: 50%;\n",
              "      cursor: pointer;\n",
              "      display: none;\n",
              "      fill: #1967D2;\n",
              "      height: 32px;\n",
              "      padding: 0 0 0 0;\n",
              "      width: 32px;\n",
              "    }\n",
              "\n",
              "    .colab-df-convert:hover {\n",
              "      background-color: #E2EBFA;\n",
              "      box-shadow: 0px 1px 2px rgba(60, 64, 67, 0.3), 0px 1px 3px 1px rgba(60, 64, 67, 0.15);\n",
              "      fill: #174EA6;\n",
              "    }\n",
              "\n",
              "    [theme=dark] .colab-df-convert {\n",
              "      background-color: #3B4455;\n",
              "      fill: #D2E3FC;\n",
              "    }\n",
              "\n",
              "    [theme=dark] .colab-df-convert:hover {\n",
              "      background-color: #434B5C;\n",
              "      box-shadow: 0px 1px 3px 1px rgba(0, 0, 0, 0.15);\n",
              "      filter: drop-shadow(0px 1px 2px rgba(0, 0, 0, 0.3));\n",
              "      fill: #FFFFFF;\n",
              "    }\n",
              "  </style>\n",
              "\n",
              "      <script>\n",
              "        const buttonEl =\n",
              "          document.querySelector('#df-77329c63-f131-449c-9a88-268ed3d7fe41 button.colab-df-convert');\n",
              "        buttonEl.style.display =\n",
              "          google.colab.kernel.accessAllowed ? 'block' : 'none';\n",
              "\n",
              "        async function convertToInteractive(key) {\n",
              "          const element = document.querySelector('#df-77329c63-f131-449c-9a88-268ed3d7fe41');\n",
              "          const dataTable =\n",
              "            await google.colab.kernel.invokeFunction('convertToInteractive',\n",
              "                                                     [key], {});\n",
              "          if (!dataTable) return;\n",
              "\n",
              "          const docLinkHtml = 'Like what you see? Visit the ' +\n",
              "            '<a target=\"_blank\" href=https://colab.research.google.com/notebooks/data_table.ipynb>data table notebook</a>'\n",
              "            + ' to learn more about interactive tables.';\n",
              "          element.innerHTML = '';\n",
              "          dataTable['output_type'] = 'display_data';\n",
              "          await google.colab.output.renderOutput(dataTable, element);\n",
              "          const docLink = document.createElement('div');\n",
              "          docLink.innerHTML = docLinkHtml;\n",
              "          element.appendChild(docLink);\n",
              "        }\n",
              "      </script>\n",
              "    </div>\n",
              "  </div>\n",
              "  "
            ]
          },
          "metadata": {},
          "execution_count": 6
        }
      ],
      "source": [
        "# create df for data, with column indicating origin\n",
        "df_comb = data.copy()\n",
        "df_comb[\"origin\"] = \"data\"\n",
        "\n",
        "# create df gauss with column indicating origin\n",
        "df_append = df_gauss.copy()\n",
        "df_append[\"origin\"] = \"gauss\"\n",
        "\n",
        "# combine the two dataframes\n",
        "df_comb = df_comb.append(other=df_append, ignore_index=True)\n",
        "df_comb = pd.melt(\n",
        "    frame=df_comb, id_vars=\"origin\", var_name=\"feature\"\n",
        ")  # get feature name as a column\n",
        "df_comb"
      ]
    },
    {
      "cell_type": "code",
      "source": [
        "col = data.columns[0]\n",
        "\n",
        "fig = px.histogram(\n",
        "    data_frame=df_comb,\n",
        "    barmode=\"overlay\",\n",
        "    color_discrete_sequence=px.colors.qualitative.G10,\n",
        "    opacity=0.6,\n",
        "    nbins=50,\n",
        "    title=\"Comparison between original and synthetic gaussian data\",\n",
        "    color=\"origin\",\n",
        "    facet_col=\"feature\",\n",
        ")\n",
        "fig"
      ],
      "metadata": {
        "colab": {
          "base_uri": "https://localhost:8080/",
          "height": 542
        },
        "id": "-ObHVe-hq8Z0",
        "outputId": "000b504d-8993-4dfa-d2de-84381d7fe696"
      },
      "execution_count": null,
      "outputs": [
        {
          "output_type": "display_data",
          "data": {
            "text/html": [
              "<html>\n",
              "<head><meta charset=\"utf-8\" /></head>\n",
              "<body>\n",
              "    <div>            <script src=\"https://cdnjs.cloudflare.com/ajax/libs/mathjax/2.7.5/MathJax.js?config=TeX-AMS-MML_SVG\"></script><script type=\"text/javascript\">if (window.MathJax) {MathJax.Hub.Config({SVG: {font: \"STIX-Web\"}});}</script>                <script type=\"text/javascript\">window.PlotlyConfig = {MathJaxConfig: 'local'};</script>\n",
              "        <script src=\"https://cdn.plot.ly/plotly-2.8.3.min.js\"></script>                <div id=\"4a48820f-4daf-4e21-8d57-a8d774b05563\" class=\"plotly-graph-div\" style=\"height:525px; width:100%;\"></div>            <script type=\"text/javascript\">                                    window.PLOTLYENV=window.PLOTLYENV || {};                                    if (document.getElementById(\"4a48820f-4daf-4e21-8d57-a8d774b05563\")) {                    Plotly.newPlot(                        \"4a48820f-4daf-4e21-8d57-a8d774b05563\",                        [{\"alignmentgroup\":\"True\",\"bingroup\":\"x\",\"hovertemplate\":\"origin=data<br>feature=sepal length (cm)<br>_value=%{x}<br>count=%{y}<extra></extra>\",\"legendgroup\":\"data\",\"marker\":{\"color\":\"#3366CC\",\"opacity\":0.6,\"pattern\":{\"shape\":\"\"}},\"name\":\"data\",\"nbinsx\":50,\"offsetgroup\":\"data\",\"orientation\":\"v\",\"showlegend\":true,\"x\":[5.1,4.9,4.7,4.6,5.0,5.4,4.6,5.0,4.4,4.9,5.4,4.8,4.8,4.3,5.8,5.7,5.4,5.1,5.7,5.1,5.4,5.1,4.6,5.1,4.8,5.0,5.0,5.2,5.2,4.7,4.8,5.4,5.2,5.5,4.9,5.0,5.5,4.9,4.4,5.1,5.0,4.5,4.4,5.0,5.1,4.8,5.1,4.6,5.3,5.0,7.0,6.4,6.9,5.5,6.5,5.7,6.3,4.9,6.6,5.2,5.0,5.9,6.0,6.1,5.6,6.7,5.6,5.8,6.2,5.6,5.9,6.1,6.3,6.1,6.4,6.6,6.8,6.7,6.0,5.7,5.5,5.5,5.8,6.0,5.4,6.0,6.7,6.3,5.6,5.5,5.5,6.1,5.8,5.0,5.6,5.7,5.7,6.2,5.1,5.7,6.3,5.8,7.1,6.3,6.5,7.6,4.9,7.3,6.7,7.2,6.5,6.4,6.8,5.7,5.8,6.4,6.5,7.7,7.7,6.0,6.9,5.6,7.7,6.3,6.7,7.2,6.2,6.1,6.4,7.2,7.4,7.9,6.4,6.3,6.1,7.7,6.3,6.4,6.0,6.9,6.7,6.9,5.8,6.8,6.7,6.7,6.3,6.5,6.2,5.9],\"xaxis\":\"x\",\"yaxis\":\"y\",\"type\":\"histogram\"},{\"alignmentgroup\":\"True\",\"bingroup\":\"x\",\"hovertemplate\":\"origin=data<br>feature=sepal width (cm)<br>_value=%{x}<br>count=%{y}<extra></extra>\",\"legendgroup\":\"data\",\"marker\":{\"color\":\"#3366CC\",\"opacity\":0.6,\"pattern\":{\"shape\":\"\"}},\"name\":\"data\",\"nbinsx\":50,\"offsetgroup\":\"data\",\"orientation\":\"v\",\"showlegend\":false,\"x\":[3.5,3.0,3.2,3.1,3.6,3.9,3.4,3.4,2.9,3.1,3.7,3.4,3.0,3.0,4.0,4.4,3.9,3.5,3.8,3.8,3.4,3.7,3.6,3.3,3.4,3.0,3.4,3.5,3.4,3.2,3.1,3.4,4.1,4.2,3.1,3.2,3.5,3.6,3.0,3.4,3.5,2.3,3.2,3.5,3.8,3.0,3.8,3.2,3.7,3.3,3.2,3.2,3.1,2.3,2.8,2.8,3.3,2.4,2.9,2.7,2.0,3.0,2.2,2.9,2.9,3.1,3.0,2.7,2.2,2.5,3.2,2.8,2.5,2.8,2.9,3.0,2.8,3.0,2.9,2.6,2.4,2.4,2.7,2.7,3.0,3.4,3.1,2.3,3.0,2.5,2.6,3.0,2.6,2.3,2.7,3.0,2.9,2.9,2.5,2.8,3.3,2.7,3.0,2.9,3.0,3.0,2.5,2.9,2.5,3.6,3.2,2.7,3.0,2.5,2.8,3.2,3.0,3.8,2.6,2.2,3.2,2.8,2.8,2.7,3.3,3.2,2.8,3.0,2.8,3.0,2.8,3.8,2.8,2.8,2.6,3.0,3.4,3.1,3.0,3.1,3.1,3.1,2.7,3.2,3.3,3.0,2.5,3.0,3.4,3.0],\"xaxis\":\"x2\",\"yaxis\":\"y2\",\"type\":\"histogram\"},{\"alignmentgroup\":\"True\",\"bingroup\":\"x\",\"hovertemplate\":\"origin=data<br>feature=petal length (cm)<br>_value=%{x}<br>count=%{y}<extra></extra>\",\"legendgroup\":\"data\",\"marker\":{\"color\":\"#3366CC\",\"opacity\":0.6,\"pattern\":{\"shape\":\"\"}},\"name\":\"data\",\"nbinsx\":50,\"offsetgroup\":\"data\",\"orientation\":\"v\",\"showlegend\":false,\"x\":[1.4,1.4,1.3,1.5,1.4,1.7,1.4,1.5,1.4,1.5,1.5,1.6,1.4,1.1,1.2,1.5,1.3,1.4,1.7,1.5,1.7,1.5,1.0,1.7,1.9,1.6,1.6,1.5,1.4,1.6,1.6,1.5,1.5,1.4,1.5,1.2,1.3,1.4,1.3,1.5,1.3,1.3,1.3,1.6,1.9,1.4,1.6,1.4,1.5,1.4,4.7,4.5,4.9,4.0,4.6,4.5,4.7,3.3,4.6,3.9,3.5,4.2,4.0,4.7,3.6,4.4,4.5,4.1,4.5,3.9,4.8,4.0,4.9,4.7,4.3,4.4,4.8,5.0,4.5,3.5,3.8,3.7,3.9,5.1,4.5,4.5,4.7,4.4,4.1,4.0,4.4,4.6,4.0,3.3,4.2,4.2,4.2,4.3,3.0,4.1,6.0,5.1,5.9,5.6,5.8,6.6,4.5,6.3,5.8,6.1,5.1,5.3,5.5,5.0,5.1,5.3,5.5,6.7,6.9,5.0,5.7,4.9,6.7,4.9,5.7,6.0,4.8,4.9,5.6,5.8,6.1,6.4,5.6,5.1,5.6,6.1,5.6,5.5,4.8,5.4,5.6,5.1,5.1,5.9,5.7,5.2,5.0,5.2,5.4,5.1],\"xaxis\":\"x3\",\"yaxis\":\"y3\",\"type\":\"histogram\"},{\"alignmentgroup\":\"True\",\"bingroup\":\"x\",\"hovertemplate\":\"origin=data<br>feature=petal width (cm)<br>_value=%{x}<br>count=%{y}<extra></extra>\",\"legendgroup\":\"data\",\"marker\":{\"color\":\"#3366CC\",\"opacity\":0.6,\"pattern\":{\"shape\":\"\"}},\"name\":\"data\",\"nbinsx\":50,\"offsetgroup\":\"data\",\"orientation\":\"v\",\"showlegend\":false,\"x\":[0.2,0.2,0.2,0.2,0.2,0.4,0.3,0.2,0.2,0.1,0.2,0.2,0.1,0.1,0.2,0.4,0.4,0.3,0.3,0.3,0.2,0.4,0.2,0.5,0.2,0.2,0.4,0.2,0.2,0.2,0.2,0.4,0.1,0.2,0.2,0.2,0.2,0.1,0.2,0.2,0.3,0.3,0.2,0.6,0.4,0.3,0.2,0.2,0.2,0.2,1.4,1.5,1.5,1.3,1.5,1.3,1.6,1.0,1.3,1.4,1.0,1.5,1.0,1.4,1.3,1.4,1.5,1.0,1.5,1.1,1.8,1.3,1.5,1.2,1.3,1.4,1.4,1.7,1.5,1.0,1.1,1.0,1.2,1.6,1.5,1.6,1.5,1.3,1.3,1.3,1.2,1.4,1.2,1.0,1.3,1.2,1.3,1.3,1.1,1.3,2.5,1.9,2.1,1.8,2.2,2.1,1.7,1.8,1.8,2.5,2.0,1.9,2.1,2.0,2.4,2.3,1.8,2.2,2.3,1.5,2.3,2.0,2.0,1.8,2.1,1.8,1.8,1.8,2.1,1.6,1.9,2.0,2.2,1.5,1.4,2.3,2.4,1.8,1.8,2.1,2.4,2.3,1.9,2.3,2.5,2.3,1.9,2.0,2.3,1.8],\"xaxis\":\"x4\",\"yaxis\":\"y4\",\"type\":\"histogram\"},{\"alignmentgroup\":\"True\",\"bingroup\":\"x\",\"hovertemplate\":\"origin=gauss<br>feature=sepal length (cm)<br>_value=%{x}<br>count=%{y}<extra></extra>\",\"legendgroup\":\"gauss\",\"marker\":{\"color\":\"#DC3912\",\"opacity\":0.6,\"pattern\":{\"shape\":\"\"}},\"name\":\"gauss\",\"nbinsx\":50,\"offsetgroup\":\"gauss\",\"orientation\":\"v\",\"showlegend\":true,\"x\":[6.47019075328036,5.1478660340984534,6.306156438849468,6.439658994181184,6.215902571308471,5.675199903133565,5.977649383187967,6.197917954389841,6.819104331625435,6.423240617131697,5.778731477779325,5.664884966093466,5.668845835539506,5.313837264810088,5.211272131569047,6.406651091843505,5.497747473701609,6.219189762881063,5.5392222012816585,6.1646540228443545,6.492411562008946,5.847193621033601,6.150888999367807,6.193615910477466,5.509806078737703,6.499411870574303,6.879677588328386,5.367369331424596,7.802091914384848,6.796351087079683,5.706498860784348,6.436222202279162,4.697436081879974,6.03316579127818,6.7015989054744205,6.013252459925189,5.973330350585775,5.381867375101924,6.183069378971599,7.527234828511866,5.909687871461535,5.5441526847887665,5.1430248067763955,5.867122900263363,6.5504794252432035,5.471992448843849,5.835512131320941,6.0707667784564325,5.977784552145097,6.181226855411327,7.131836466264384,5.428745854763075,4.1877993892152405,3.7102875719150323,5.862814776418671,5.397255250818565,5.917249121960806,7.832131175837315,5.713886697256271,5.7231358280714035,5.514159993913251,6.607385904032616,6.783838493097372,5.4089720654647495,6.321936710312659,4.870133833192363,6.243581552643782,6.866279685529471,5.919481931045391,5.982955344252364,5.806445603356645,6.23201867362423,4.754981546268473,4.780321796697313,5.711099044095274,5.814906192353776,5.504546986499682,5.074184115639268,5.805975708667994,5.486483735213542,6.751345190048214,6.126594883194957,5.002136606631757,5.870975214006353,6.071635529352667,6.527555493917854,5.916198861857097,5.632452385696843,6.14286114267435,6.579533138508692,6.45225744221037,5.766561311395882,7.130879165944137,6.781490490406055,6.964126469839147,5.384919171463756,5.588021037959433,6.644928226520391,5.585468555662191,6.191549081115604,5.696905406657418,6.4603892692609355,5.674560329623247,5.697521337328171,5.094417385320945,6.356450995593091,7.400045745958136,5.456809166032536,5.176385417353626,4.614768207724175,5.902957583633962,5.910333366916054,5.191047171370881,6.622363907670849,4.922591179458283,6.290181850763552,5.98126300114746,6.481138987539653,5.663789542208146,5.394841066564284,6.08808531396863,4.54100038570963,5.501635762627574,5.647935494692913,6.494975951158128,6.065555990379483,5.506313106742278,3.8298552249231648,4.784990508857617,4.500397397759951,6.844335638465286,7.086555354677078,6.198541224362951,4.8896151107232555,5.872715006752549,5.542833221028026,4.725652187450434,4.785218487837859,5.589628654292824,7.034212880824937,6.576545536255668,6.591558626951654,5.932652391108748,7.247412154272396,6.05643145225875,6.788503444594323,5.826130346472099,4.894113694248246,4.523319691336292,4.6922721511238645],\"xaxis\":\"x\",\"yaxis\":\"y\",\"type\":\"histogram\"},{\"alignmentgroup\":\"True\",\"bingroup\":\"x\",\"hovertemplate\":\"origin=gauss<br>feature=sepal width (cm)<br>_value=%{x}<br>count=%{y}<extra></extra>\",\"legendgroup\":\"gauss\",\"marker\":{\"color\":\"#DC3912\",\"opacity\":0.6,\"pattern\":{\"shape\":\"\"}},\"name\":\"gauss\",\"nbinsx\":50,\"offsetgroup\":\"gauss\",\"orientation\":\"v\",\"showlegend\":false,\"x\":[3.466697521687466,3.2272658820655926,2.908064761453206,3.2170538495801093,2.2200965133081736,2.693910850347317,3.1342576587488398,2.3161009915062536,3.009389292965994,3.666281463883655,3.636439035642639,2.4663998915763754,2.7953703906569727,3.260663261607901,2.7640051153829543,2.722191650145778,3.7615678256928637,3.152984745276137,3.12315742159339,2.7187303840394708,3.106976726988974,3.811211325880052,2.9521618673610766,3.986767039837186,2.9727968773519695,2.9672814522731614,2.414859755005793,2.9709517120735423,2.356187034075174,2.5154029574147097,3.147795018389756,3.108953258787846,2.872928002443284,3.071016400905148,2.926685166381323,3.144094371731785,3.1920807806235314,3.305457099345053,2.3852640469955664,2.784776764553452,3.1413970703566325,3.0601915949909406,2.855063251040162,2.616699936485965,2.621935950549332,2.733093703795032,3.7379477305460846,3.189028913468739,3.244563564378539,3.0793757534047868,2.85437595114322,3.8982642023024376,3.394772162571635,2.7575234476605277,3.4256137719709523,3.735362551293826,2.8205436318190147,3.2707627081383106,3.3462342714484077,3.254364683594564,3.1372096691171665,2.919610207544245,3.8208512459427846,2.5987051654876994,2.9385647577321063,2.4836018453603224,2.735842257449242,3.3655904286696265,2.7814446148046557,3.6196075417891516,2.837437360211118,2.3295766604925983,2.3937016179811588,3.3225050189881977,3.2147849278894935,2.7484295207097778,2.926924758896585,3.169614120322989,3.698532899739736,2.8995174528131247,2.889098802243025,3.3210741330398013,2.2954933198697307,2.7405792358965346,2.721615820643972,2.808659010313333,2.9763529724176823,2.8977211104115517,2.93922709131335,2.868274490847899,2.8209737091419913,1.6480968709037458,3.373836935781157,3.193957556894094,3.0677905541200166,2.672226126193975,2.87748725955113,3.19156792377227,3.216597445829433,3.247210967764923,2.8796931354002684,2.9897239302160874,3.327482398058873,3.3892151397639823,3.944909398617891,2.4086694221573763,3.5443303464607325,3.4691846821522656,3.851780978584985,3.0841661580842885,2.774657429118736,3.3128377540966714,3.479179347171937,2.7311548980960403,3.3687201738189065,2.528955632329067,3.2532624174050744,2.6950588962854662,3.292211467836982,3.0965164876752396,2.8084226143021462,3.3229564714156137,3.2027591677709046,3.3200174845500996,2.921369329326231,3.3758327204307688,3.19219057129485,2.67686199413028,3.314735102585325,2.8882837307740985,3.3438688678327955,3.1087993704499697,2.8424142170514677,2.887675193174387,2.68236981436487,3.306883190996601,2.909480239932707,3.109173091784325,3.3650432809718174,3.1485773411345654,3.380985900905174,3.373348435937811,3.0198268260232517,2.4690350462117325,3.16048019814892,3.5295979581882464,3.3844144044964857,2.429071738100311,2.780250700171404,3.032522343841296],\"xaxis\":\"x2\",\"yaxis\":\"y2\",\"type\":\"histogram\"},{\"alignmentgroup\":\"True\",\"bingroup\":\"x\",\"hovertemplate\":\"origin=gauss<br>feature=petal length (cm)<br>_value=%{x}<br>count=%{y}<extra></extra>\",\"legendgroup\":\"gauss\",\"marker\":{\"color\":\"#DC3912\",\"opacity\":0.6,\"pattern\":{\"shape\":\"\"}},\"name\":\"gauss\",\"nbinsx\":50,\"offsetgroup\":\"gauss\",\"orientation\":\"v\",\"showlegend\":false,\"x\":[0.12273180763285119,4.208309261015739,1.749646571246446,2.7512508507853797,2.007906623530899,4.327627020275995,4.380108478119661,4.68905467508569,4.425403227509736,4.46262125441396,4.849840769284307,3.5973701529556075,8.587818071423635,4.7701104561920715,3.577775414846088,3.770656229968701,6.301191703378844,6.833410371328707,1.3961911090268968,6.115939069567117,3.0311405612303908,2.811597601122525,4.3068200131465595,5.759931467535414,8.514886533658768,3.1709740676172347,5.83005519014476,3.617622355418006,0.9147848804063288,2.858780826651814,2.4935820895602934,6.060446760468894,7.238000015858315,4.5182697385716715,5.947296293325142,1.4637365094420787,-0.5389436408426751,2.7824527048235823,4.440776994354092,2.4477160239600764,5.804698850958752,1.074744909135692,2.593474968781755,2.568777061248004,2.841681185722245,6.780510754521609,3.214355352023506,6.172556703042913,0.633499135043432,4.391973705500928,-0.45916156439229683,5.11667851670245,1.8217592564327216,5.29009240202307,2.050160686289039,3.744839065414253,4.308331434011767,5.0645867958200705,5.415198557376932,1.862779298391955,4.602418042379931,3.640356655854426,4.05901519090346,4.4884965608357135,5.073001244545731,3.1168071497014234,5.592868602369934,7.0276735865795725,0.921656296262511,0.8003641501152332,2.778008464586959,2.6163322673116944,4.4923429088811995,5.111054651499082,2.264719606919661,2.4377321691307783,2.1210423798057905,3.3326644736128612,2.2182830910459574,5.110145191697044,2.4180061678675964,7.60504233818666,3.58171990489822,5.302595608694222,4.039409350931364,5.931569611872861,4.55822907899711,5.30075955947283,3.0254794199811044,2.7714821807219177,4.291023884632398,-0.40556473140225924,4.087976527721646,3.798507113556695,1.590339103369622,6.28230965550132,3.16903181568383,5.04993002583946,1.2151485018870782,5.094074548987797,2.475634053219302,4.246263867963094,3.005746610582831,2.303478185519863,2.834579031273502,6.35859892540469,1.895343511008769,3.902600797138916,1.3227812641490222,2.0004782855388914,2.2565622664666782,4.996797959027645,2.7982913099031577,2.4679665424781625,3.5153462061519054,2.116825937442708,2.7873296302911594,3.6649100224850377,4.764327227870615,3.0600555910870324,3.44782081008728,7.288691274144512,5.1320177992699225,4.272256492804716,2.5815798251439963,3.122420551719494,3.5641755839034928,0.15790026502580856,2.3338074143656247,2.699759430661439,1.550806766208531,3.9103991287165942,4.955263772571786,4.829067135380225,5.452212304285243,3.1997383016032863,1.2293390156266994,3.527220125047798,4.827355571675249,2.401333776705102,5.884692016571093,5.292277048946912,1.1992981265514877,-0.16476607198791138,4.2527518124033925,4.785141936389283,3.2253535348502296,6.474245511873518,4.411468292606155,5.0619335358693025],\"xaxis\":\"x3\",\"yaxis\":\"y3\",\"type\":\"histogram\"},{\"alignmentgroup\":\"True\",\"bingroup\":\"x\",\"hovertemplate\":\"origin=gauss<br>feature=petal width (cm)<br>_value=%{x}<br>count=%{y}<extra></extra>\",\"legendgroup\":\"gauss\",\"marker\":{\"color\":\"#DC3912\",\"opacity\":0.6,\"pattern\":{\"shape\":\"\"}},\"name\":\"gauss\",\"nbinsx\":50,\"offsetgroup\":\"gauss\",\"orientation\":\"v\",\"showlegend\":false,\"x\":[0.16250435428153231,0.5517150908668179,0.5291843562859262,1.303846754334399,2.4487535388253483,0.6635137737908652,0.9134256333142021,1.462988185583888,2.4689865028818705,0.8167248436754446,0.8995802379465443,0.43371120231279114,0.9889481776190181,1.373062037578707,1.078016847348427,2.3597482067419175,0.06091236629651675,1.2051732750373687,2.0115450345628023,1.947424889354368,0.967066019719953,2.1089120481131323,0.49958010048984114,0.6896856081859883,1.1793257634765086,0.7292128825008002,1.0862485986973829,0.16444705359702727,2.125481468476274,0.8464783930517769,0.4689131408694267,1.5311715426203056,0.5301842900027725,1.7981210227957285,1.049890025421777,2.983159238386939,1.3609354112842396,1.6216345774356988,1.037505941561068,1.2032795293779446,0.30159705435941964,3.477499222352814,1.8288196562653127,-0.03145775186946853,1.373898392571712,0.35665066922251054,1.3233883574939092,2.064222323996014,0.5178285622136226,1.6011017667633836,0.9934524306810649,1.6802149276638028,2.0305204142884365,1.954417565155648,1.9514532052948883,1.3712100659677786,1.977564856187196,1.2596403579247513,1.082102008786838,1.3810099990623332,0.3848944419310806,1.5986947364293818,0.6828038094468387,0.6231129055751882,1.683151593504176,1.6215485896601693,1.3963833039477507,1.1423984072078162,1.7436499649050128,1.2261281285687884,0.26960571701825153,1.9141359456879776,1.238613327698883,1.070844445736486,2.0474191419501073,0.5701161418857132,0.7670078246871855,1.502473575125729,0.6883764653038347,0.6610898759444038,1.9821542959967295,1.0674622420606739,0.0844129164056675,0.7229802547356454,2.150860968127929,1.557699773971677,0.8078107751659368,0.5491105265262752,0.18229759107344234,1.2550517144277924,1.7003848379015345,0.48359484960726284,-0.7142749021381607,1.0473689227413778,0.6333413889809,0.9929796867989024,0.6674377025705247,0.8833400137879717,1.6647401115673384,1.8430615344525099,1.6509451698151731,1.2745482936030272,-0.1749569894705545,2.479897410965579,2.044179010841702,0.9631978079930928,1.467696408882602,0.007933619898401245,0.1687680849108133,-0.3181883924935809,2.3613888536066137,0.571515473989199,0.45895606635874975,0.5985629640363983,1.3726418810811272,0.9683322165249721,1.0832475044026761,1.214327660634791,1.5444119176934143,2.5594564869442213,1.3060245907082804,2.1745572646476092,0.023948136275043774,2.408347686983164,1.634010806363251,1.2185610959692483,1.0008610224593213,0.9965548094046439,1.4792836484284961,0.2324166236325561,1.5390468152172145,1.290202561212067,0.005930026720813997,0.9777849347434987,-0.15343346076124287,1.1042848657987114,1.547728026472013,2.8397023450883343,1.7368260789179977,0.9260354354862648,1.1313944174529904,0.9913120534593495,-0.3056842012189209,1.540752040737961,1.0138730004532472,0.5904466478783732,1.4075129279458485,2.4624625156752877,1.6000862862606526,-0.8215014174151456],\"xaxis\":\"x4\",\"yaxis\":\"y4\",\"type\":\"histogram\"}],                        {\"template\":{\"data\":{\"bar\":[{\"error_x\":{\"color\":\"#2a3f5f\"},\"error_y\":{\"color\":\"#2a3f5f\"},\"marker\":{\"line\":{\"color\":\"#E5ECF6\",\"width\":0.5},\"pattern\":{\"fillmode\":\"overlay\",\"size\":10,\"solidity\":0.2}},\"type\":\"bar\"}],\"barpolar\":[{\"marker\":{\"line\":{\"color\":\"#E5ECF6\",\"width\":0.5},\"pattern\":{\"fillmode\":\"overlay\",\"size\":10,\"solidity\":0.2}},\"type\":\"barpolar\"}],\"carpet\":[{\"aaxis\":{\"endlinecolor\":\"#2a3f5f\",\"gridcolor\":\"white\",\"linecolor\":\"white\",\"minorgridcolor\":\"white\",\"startlinecolor\":\"#2a3f5f\"},\"baxis\":{\"endlinecolor\":\"#2a3f5f\",\"gridcolor\":\"white\",\"linecolor\":\"white\",\"minorgridcolor\":\"white\",\"startlinecolor\":\"#2a3f5f\"},\"type\":\"carpet\"}],\"choropleth\":[{\"colorbar\":{\"outlinewidth\":0,\"ticks\":\"\"},\"type\":\"choropleth\"}],\"contour\":[{\"colorbar\":{\"outlinewidth\":0,\"ticks\":\"\"},\"colorscale\":[[0.0,\"#0d0887\"],[0.1111111111111111,\"#46039f\"],[0.2222222222222222,\"#7201a8\"],[0.3333333333333333,\"#9c179e\"],[0.4444444444444444,\"#bd3786\"],[0.5555555555555556,\"#d8576b\"],[0.6666666666666666,\"#ed7953\"],[0.7777777777777778,\"#fb9f3a\"],[0.8888888888888888,\"#fdca26\"],[1.0,\"#f0f921\"]],\"type\":\"contour\"}],\"contourcarpet\":[{\"colorbar\":{\"outlinewidth\":0,\"ticks\":\"\"},\"type\":\"contourcarpet\"}],\"heatmap\":[{\"colorbar\":{\"outlinewidth\":0,\"ticks\":\"\"},\"colorscale\":[[0.0,\"#0d0887\"],[0.1111111111111111,\"#46039f\"],[0.2222222222222222,\"#7201a8\"],[0.3333333333333333,\"#9c179e\"],[0.4444444444444444,\"#bd3786\"],[0.5555555555555556,\"#d8576b\"],[0.6666666666666666,\"#ed7953\"],[0.7777777777777778,\"#fb9f3a\"],[0.8888888888888888,\"#fdca26\"],[1.0,\"#f0f921\"]],\"type\":\"heatmap\"}],\"heatmapgl\":[{\"colorbar\":{\"outlinewidth\":0,\"ticks\":\"\"},\"colorscale\":[[0.0,\"#0d0887\"],[0.1111111111111111,\"#46039f\"],[0.2222222222222222,\"#7201a8\"],[0.3333333333333333,\"#9c179e\"],[0.4444444444444444,\"#bd3786\"],[0.5555555555555556,\"#d8576b\"],[0.6666666666666666,\"#ed7953\"],[0.7777777777777778,\"#fb9f3a\"],[0.8888888888888888,\"#fdca26\"],[1.0,\"#f0f921\"]],\"type\":\"heatmapgl\"}],\"histogram\":[{\"marker\":{\"pattern\":{\"fillmode\":\"overlay\",\"size\":10,\"solidity\":0.2}},\"type\":\"histogram\"}],\"histogram2d\":[{\"colorbar\":{\"outlinewidth\":0,\"ticks\":\"\"},\"colorscale\":[[0.0,\"#0d0887\"],[0.1111111111111111,\"#46039f\"],[0.2222222222222222,\"#7201a8\"],[0.3333333333333333,\"#9c179e\"],[0.4444444444444444,\"#bd3786\"],[0.5555555555555556,\"#d8576b\"],[0.6666666666666666,\"#ed7953\"],[0.7777777777777778,\"#fb9f3a\"],[0.8888888888888888,\"#fdca26\"],[1.0,\"#f0f921\"]],\"type\":\"histogram2d\"}],\"histogram2dcontour\":[{\"colorbar\":{\"outlinewidth\":0,\"ticks\":\"\"},\"colorscale\":[[0.0,\"#0d0887\"],[0.1111111111111111,\"#46039f\"],[0.2222222222222222,\"#7201a8\"],[0.3333333333333333,\"#9c179e\"],[0.4444444444444444,\"#bd3786\"],[0.5555555555555556,\"#d8576b\"],[0.6666666666666666,\"#ed7953\"],[0.7777777777777778,\"#fb9f3a\"],[0.8888888888888888,\"#fdca26\"],[1.0,\"#f0f921\"]],\"type\":\"histogram2dcontour\"}],\"mesh3d\":[{\"colorbar\":{\"outlinewidth\":0,\"ticks\":\"\"},\"type\":\"mesh3d\"}],\"parcoords\":[{\"line\":{\"colorbar\":{\"outlinewidth\":0,\"ticks\":\"\"}},\"type\":\"parcoords\"}],\"pie\":[{\"automargin\":true,\"type\":\"pie\"}],\"scatter\":[{\"marker\":{\"colorbar\":{\"outlinewidth\":0,\"ticks\":\"\"}},\"type\":\"scatter\"}],\"scatter3d\":[{\"line\":{\"colorbar\":{\"outlinewidth\":0,\"ticks\":\"\"}},\"marker\":{\"colorbar\":{\"outlinewidth\":0,\"ticks\":\"\"}},\"type\":\"scatter3d\"}],\"scattercarpet\":[{\"marker\":{\"colorbar\":{\"outlinewidth\":0,\"ticks\":\"\"}},\"type\":\"scattercarpet\"}],\"scattergeo\":[{\"marker\":{\"colorbar\":{\"outlinewidth\":0,\"ticks\":\"\"}},\"type\":\"scattergeo\"}],\"scattergl\":[{\"marker\":{\"colorbar\":{\"outlinewidth\":0,\"ticks\":\"\"}},\"type\":\"scattergl\"}],\"scattermapbox\":[{\"marker\":{\"colorbar\":{\"outlinewidth\":0,\"ticks\":\"\"}},\"type\":\"scattermapbox\"}],\"scatterpolar\":[{\"marker\":{\"colorbar\":{\"outlinewidth\":0,\"ticks\":\"\"}},\"type\":\"scatterpolar\"}],\"scatterpolargl\":[{\"marker\":{\"colorbar\":{\"outlinewidth\":0,\"ticks\":\"\"}},\"type\":\"scatterpolargl\"}],\"scatterternary\":[{\"marker\":{\"colorbar\":{\"outlinewidth\":0,\"ticks\":\"\"}},\"type\":\"scatterternary\"}],\"surface\":[{\"colorbar\":{\"outlinewidth\":0,\"ticks\":\"\"},\"colorscale\":[[0.0,\"#0d0887\"],[0.1111111111111111,\"#46039f\"],[0.2222222222222222,\"#7201a8\"],[0.3333333333333333,\"#9c179e\"],[0.4444444444444444,\"#bd3786\"],[0.5555555555555556,\"#d8576b\"],[0.6666666666666666,\"#ed7953\"],[0.7777777777777778,\"#fb9f3a\"],[0.8888888888888888,\"#fdca26\"],[1.0,\"#f0f921\"]],\"type\":\"surface\"}],\"table\":[{\"cells\":{\"fill\":{\"color\":\"#EBF0F8\"},\"line\":{\"color\":\"white\"}},\"header\":{\"fill\":{\"color\":\"#C8D4E3\"},\"line\":{\"color\":\"white\"}},\"type\":\"table\"}]},\"layout\":{\"annotationdefaults\":{\"arrowcolor\":\"#2a3f5f\",\"arrowhead\":0,\"arrowwidth\":1},\"autotypenumbers\":\"strict\",\"coloraxis\":{\"colorbar\":{\"outlinewidth\":0,\"ticks\":\"\"}},\"colorscale\":{\"diverging\":[[0,\"#8e0152\"],[0.1,\"#c51b7d\"],[0.2,\"#de77ae\"],[0.3,\"#f1b6da\"],[0.4,\"#fde0ef\"],[0.5,\"#f7f7f7\"],[0.6,\"#e6f5d0\"],[0.7,\"#b8e186\"],[0.8,\"#7fbc41\"],[0.9,\"#4d9221\"],[1,\"#276419\"]],\"sequential\":[[0.0,\"#0d0887\"],[0.1111111111111111,\"#46039f\"],[0.2222222222222222,\"#7201a8\"],[0.3333333333333333,\"#9c179e\"],[0.4444444444444444,\"#bd3786\"],[0.5555555555555556,\"#d8576b\"],[0.6666666666666666,\"#ed7953\"],[0.7777777777777778,\"#fb9f3a\"],[0.8888888888888888,\"#fdca26\"],[1.0,\"#f0f921\"]],\"sequentialminus\":[[0.0,\"#0d0887\"],[0.1111111111111111,\"#46039f\"],[0.2222222222222222,\"#7201a8\"],[0.3333333333333333,\"#9c179e\"],[0.4444444444444444,\"#bd3786\"],[0.5555555555555556,\"#d8576b\"],[0.6666666666666666,\"#ed7953\"],[0.7777777777777778,\"#fb9f3a\"],[0.8888888888888888,\"#fdca26\"],[1.0,\"#f0f921\"]]},\"colorway\":[\"#636efa\",\"#EF553B\",\"#00cc96\",\"#ab63fa\",\"#FFA15A\",\"#19d3f3\",\"#FF6692\",\"#B6E880\",\"#FF97FF\",\"#FECB52\"],\"font\":{\"color\":\"#2a3f5f\"},\"geo\":{\"bgcolor\":\"white\",\"lakecolor\":\"white\",\"landcolor\":\"#E5ECF6\",\"showlakes\":true,\"showland\":true,\"subunitcolor\":\"white\"},\"hoverlabel\":{\"align\":\"left\"},\"hovermode\":\"closest\",\"mapbox\":{\"style\":\"light\"},\"paper_bgcolor\":\"white\",\"plot_bgcolor\":\"#E5ECF6\",\"polar\":{\"angularaxis\":{\"gridcolor\":\"white\",\"linecolor\":\"white\",\"ticks\":\"\"},\"bgcolor\":\"#E5ECF6\",\"radialaxis\":{\"gridcolor\":\"white\",\"linecolor\":\"white\",\"ticks\":\"\"}},\"scene\":{\"xaxis\":{\"backgroundcolor\":\"#E5ECF6\",\"gridcolor\":\"white\",\"gridwidth\":2,\"linecolor\":\"white\",\"showbackground\":true,\"ticks\":\"\",\"zerolinecolor\":\"white\"},\"yaxis\":{\"backgroundcolor\":\"#E5ECF6\",\"gridcolor\":\"white\",\"gridwidth\":2,\"linecolor\":\"white\",\"showbackground\":true,\"ticks\":\"\",\"zerolinecolor\":\"white\"},\"zaxis\":{\"backgroundcolor\":\"#E5ECF6\",\"gridcolor\":\"white\",\"gridwidth\":2,\"linecolor\":\"white\",\"showbackground\":true,\"ticks\":\"\",\"zerolinecolor\":\"white\"}},\"shapedefaults\":{\"line\":{\"color\":\"#2a3f5f\"}},\"ternary\":{\"aaxis\":{\"gridcolor\":\"white\",\"linecolor\":\"white\",\"ticks\":\"\"},\"baxis\":{\"gridcolor\":\"white\",\"linecolor\":\"white\",\"ticks\":\"\"},\"bgcolor\":\"#E5ECF6\",\"caxis\":{\"gridcolor\":\"white\",\"linecolor\":\"white\",\"ticks\":\"\"}},\"title\":{\"x\":0.05},\"xaxis\":{\"automargin\":true,\"gridcolor\":\"white\",\"linecolor\":\"white\",\"ticks\":\"\",\"title\":{\"standoff\":15},\"zerolinecolor\":\"white\",\"zerolinewidth\":2},\"yaxis\":{\"automargin\":true,\"gridcolor\":\"white\",\"linecolor\":\"white\",\"ticks\":\"\",\"title\":{\"standoff\":15},\"zerolinecolor\":\"white\",\"zerolinewidth\":2}}},\"xaxis\":{\"anchor\":\"y\",\"domain\":[0.0,0.235],\"title\":{\"text\":\"_value\"}},\"yaxis\":{\"anchor\":\"x\",\"domain\":[0.0,1.0],\"title\":{\"text\":\"count\"}},\"xaxis2\":{\"anchor\":\"y2\",\"domain\":[0.255,0.49],\"matches\":\"x\",\"title\":{\"text\":\"_value\"}},\"yaxis2\":{\"anchor\":\"x2\",\"domain\":[0.0,1.0],\"matches\":\"y\",\"showticklabels\":false},\"xaxis3\":{\"anchor\":\"y3\",\"domain\":[0.51,0.745],\"matches\":\"x\",\"title\":{\"text\":\"_value\"}},\"yaxis3\":{\"anchor\":\"x3\",\"domain\":[0.0,1.0],\"matches\":\"y\",\"showticklabels\":false},\"xaxis4\":{\"anchor\":\"y4\",\"domain\":[0.7649999999999999,0.9999999999999999],\"matches\":\"x\",\"title\":{\"text\":\"_value\"}},\"yaxis4\":{\"anchor\":\"x4\",\"domain\":[0.0,1.0],\"matches\":\"y\",\"showticklabels\":false},\"annotations\":[{\"font\":{},\"showarrow\":false,\"text\":\"feature=sepal length (cm)\",\"x\":0.1175,\"xanchor\":\"center\",\"xref\":\"paper\",\"y\":1.0,\"yanchor\":\"bottom\",\"yref\":\"paper\"},{\"font\":{},\"showarrow\":false,\"text\":\"feature=sepal width (cm)\",\"x\":0.3725,\"xanchor\":\"center\",\"xref\":\"paper\",\"y\":1.0,\"yanchor\":\"bottom\",\"yref\":\"paper\"},{\"font\":{},\"showarrow\":false,\"text\":\"feature=petal length (cm)\",\"x\":0.6275,\"xanchor\":\"center\",\"xref\":\"paper\",\"y\":1.0,\"yanchor\":\"bottom\",\"yref\":\"paper\"},{\"font\":{},\"showarrow\":false,\"text\":\"feature=petal width (cm)\",\"x\":0.8824999999999998,\"xanchor\":\"center\",\"xref\":\"paper\",\"y\":1.0,\"yanchor\":\"bottom\",\"yref\":\"paper\"}],\"legend\":{\"title\":{\"text\":\"origin\"},\"tracegroupgap\":0},\"title\":{\"text\":\"Comparison between original and synthetic gaussian data\"},\"barmode\":\"overlay\"},                        {\"responsive\": true}                    ).then(function(){\n",
              "                            \n",
              "var gd = document.getElementById('4a48820f-4daf-4e21-8d57-a8d774b05563');\n",
              "var x = new MutationObserver(function (mutations, observer) {{\n",
              "        var display = window.getComputedStyle(gd).display;\n",
              "        if (!display || display === 'none') {{\n",
              "            console.log([gd, 'removed!']);\n",
              "            Plotly.purge(gd);\n",
              "            observer.disconnect();\n",
              "        }}\n",
              "}});\n",
              "\n",
              "// Listen for the removal of the full notebook cells\n",
              "var notebookContainer = gd.closest('#notebook-container');\n",
              "if (notebookContainer) {{\n",
              "    x.observe(notebookContainer, {childList: true});\n",
              "}}\n",
              "\n",
              "// Listen for the clearing of the current output cell\n",
              "var outputEl = gd.closest('.output');\n",
              "if (outputEl) {{\n",
              "    x.observe(outputEl, {childList: true});\n",
              "}}\n",
              "\n",
              "                        })                };                            </script>        </div>\n",
              "</body>\n",
              "</html>"
            ]
          },
          "metadata": {}
        }
      ]
    },
    {
      "cell_type": "markdown",
      "source": [
        "On the graph we can see that the last 2 features petal length and petal width have the most difference from the original data.\n",
        "\n",
        "It may depend on the fact that so far petal length had the biggest standard deviation in the features. But if we look only at the standard deviation of a feature the sepal length also had a big std but on the plot we can see that the difference between the original and generated data is not that big.\n",
        "\n",
        "This can mean that either petal length original data is not of gaussian distribution or it is gaussian but with less representative abilities than the sepal length."
      ],
      "metadata": {
        "id": "728o2gfX3L4G"
      }
    },
    {
      "cell_type": "markdown",
      "metadata": {
        "id": "bZpTBbMHW1UC"
      },
      "source": [
        "$\\mathbf{Exercise\\, 4.}$ Estimate and plot the probability density function of the feature $\\mbox{petal length (cm)}$.\n"
      ]
    },
    {
      "cell_type": "code",
      "execution_count": null,
      "metadata": {
        "id": "AG6Xn4WcW1UC",
        "colab": {
          "base_uri": "https://localhost:8080/",
          "height": 542
        },
        "outputId": "76fa1361-cee2-4cf8-ddf4-e97c1b925ec4"
      },
      "outputs": [
        {
          "output_type": "display_data",
          "data": {
            "text/html": [
              "<html>\n",
              "<head><meta charset=\"utf-8\" /></head>\n",
              "<body>\n",
              "    <div>            <script src=\"https://cdnjs.cloudflare.com/ajax/libs/mathjax/2.7.5/MathJax.js?config=TeX-AMS-MML_SVG\"></script><script type=\"text/javascript\">if (window.MathJax) {MathJax.Hub.Config({SVG: {font: \"STIX-Web\"}});}</script>                <script type=\"text/javascript\">window.PlotlyConfig = {MathJaxConfig: 'local'};</script>\n",
              "        <script src=\"https://cdn.plot.ly/plotly-2.8.3.min.js\"></script>                <div id=\"29c43b6e-9671-4bdb-ae60-8a770633a36c\" class=\"plotly-graph-div\" style=\"height:525px; width:100%;\"></div>            <script type=\"text/javascript\">                                    window.PLOTLYENV=window.PLOTLYENV || {};                                    if (document.getElementById(\"29c43b6e-9671-4bdb-ae60-8a770633a36c\")) {                    Plotly.newPlot(                        \"29c43b6e-9671-4bdb-ae60-8a770633a36c\",                        [{\"autobinx\":false,\"histnorm\":\"probability density\",\"legendgroup\":\"petal length (cm)\",\"marker\":{\"color\":\"rgb(31, 119, 180)\"},\"name\":\"petal length (cm)\",\"opacity\":0.7,\"x\":[1.4,1.4,1.3,1.5,1.4,1.7,1.4,1.5,1.4,1.5,1.5,1.6,1.4,1.1,1.2,1.5,1.3,1.4,1.7,1.5,1.7,1.5,1.0,1.7,1.9,1.6,1.6,1.5,1.4,1.6,1.6,1.5,1.5,1.4,1.5,1.2,1.3,1.4,1.3,1.5,1.3,1.3,1.3,1.6,1.9,1.4,1.6,1.4,1.5,1.4,4.7,4.5,4.9,4.0,4.6,4.5,4.7,3.3,4.6,3.9,3.5,4.2,4.0,4.7,3.6,4.4,4.5,4.1,4.5,3.9,4.8,4.0,4.9,4.7,4.3,4.4,4.8,5.0,4.5,3.5,3.8,3.7,3.9,5.1,4.5,4.5,4.7,4.4,4.1,4.0,4.4,4.6,4.0,3.3,4.2,4.2,4.2,4.3,3.0,4.1,6.0,5.1,5.9,5.6,5.8,6.6,4.5,6.3,5.8,6.1,5.1,5.3,5.5,5.0,5.1,5.3,5.5,6.7,6.9,5.0,5.7,4.9,6.7,4.9,5.7,6.0,4.8,4.9,5.6,5.8,6.1,6.4,5.6,5.1,5.6,6.1,5.6,5.5,4.8,5.4,5.6,5.1,5.1,5.9,5.7,5.2,5.0,5.2,5.4,5.1],\"xaxis\":\"x\",\"xbins\":{\"end\":6.9,\"size\":0.5,\"start\":1.0},\"yaxis\":\"y\",\"type\":\"histogram\"},{\"legendgroup\":\"petal length (cm)\",\"marker\":{\"color\":\"rgb(31, 119, 180)\"},\"mode\":\"lines\",\"name\":\"petal length (cm)\",\"showlegend\":false,\"x\":[1.0,1.0118,1.0236,1.0354,1.0472,1.059,1.0708,1.0826,1.0944,1.1062,1.1179999999999999,1.1298,1.1416,1.1534,1.1652,1.177,1.1888,1.2006000000000001,1.2124,1.2242,1.236,1.2478,1.2596,1.2714,1.2832000000000001,1.295,1.3068,1.3186,1.3304,1.3422,1.354,1.3658000000000001,1.3776000000000002,1.3894,1.4012,1.413,1.4248,1.4366,1.4484,1.4602,1.472,1.4838,1.4956,1.5074,1.5192,1.5310000000000001,1.5428000000000002,1.5546,1.5664000000000002,1.5782,1.5899999999999999,1.6018000000000001,1.6136,1.6254,1.6372,1.649,1.6608,1.6726,1.6844000000000001,1.6962000000000002,1.708,1.7198000000000002,1.7316,1.7434,1.7552,1.767,1.7788,1.7906,1.8024,1.8142,1.826,1.8378,1.8496000000000001,1.8614000000000002,1.8732000000000002,1.885,1.8968,1.9086,1.9204,1.9322,1.944,1.9558,1.9676,1.9794,1.9912,2.003,2.0148,2.0266,2.0384,2.0502000000000002,2.0620000000000003,2.0738,2.0856000000000003,2.0974000000000004,2.1092,2.121,2.1328000000000005,2.1446,2.1564,2.1682,2.1799999999999997,2.1918,2.2036000000000002,2.2154,2.2272,2.239,2.2508,2.2626,2.2744,2.2862,2.298,2.3098,2.3216,2.3334,2.3452,2.357,2.3688000000000002,2.3806000000000003,2.3924000000000003,2.4042000000000003,2.416,2.4278000000000004,2.4396000000000004,2.4514,2.4632,2.475,2.4868,2.4986,2.5104,2.5221999999999998,2.534,2.5458000000000003,2.5576,2.5694,2.5812,2.593,2.6048,2.6166,2.6284,2.6402,2.652,2.6638,2.6756,2.6874000000000002,2.6992000000000003,2.7110000000000003,2.7228000000000003,2.7346000000000004,2.7464000000000004,2.7582,2.77,2.7818000000000005,2.7936,2.8054,2.8172,2.8289999999999997,2.8408,2.8526000000000002,2.8644,2.8762,2.888,2.8998,2.9116,2.9234,2.9352,2.947,2.9588,2.9706,2.9824,2.9942,3.0060000000000002,3.0178000000000003,3.0296000000000003,3.0414,3.0532000000000004,3.065,3.0768,3.0886,3.1004,3.1122,3.124,3.1358,3.1475999999999997,3.1594,3.1712000000000002,3.183,3.1948000000000003,3.2066,3.2184,3.2302000000000004,3.242,3.2538,3.2656000000000005,3.2774,3.2892,3.301,3.3128,3.3246,3.3364000000000003,3.3482000000000003,3.36,3.3718000000000004,3.3836000000000004,3.3954,3.4072000000000005,3.419,3.4308,3.4426000000000005,3.4544,3.4662,3.478,3.4898000000000002,3.5016000000000003,3.5134000000000003,3.5252000000000003,3.537,3.5488000000000004,3.5606000000000004,3.5724,3.5842,3.596,3.6078,3.6196,3.6314,3.6432,3.655,3.6668000000000003,3.6786000000000003,3.6904,3.7022000000000004,3.714,3.7258,3.7376000000000005,3.7494,3.7612,3.773,3.7848,3.7966,3.8084000000000002,3.8202000000000003,3.832,3.8438000000000003,3.8556000000000004,3.8674,3.8792000000000004,3.891,3.9028,3.9146000000000005,3.9264,3.9382,3.95,3.9618,3.9736000000000002,3.9854000000000003,3.9972000000000003,4.009,4.0208,4.0326,4.0443999999999996,4.0562000000000005,4.068,4.0798000000000005,4.091600000000001,4.103400000000001,4.1152,4.127,4.1388,4.150600000000001,4.1624,4.174200000000001,4.186,4.1978,4.2096,4.2214,4.2332,4.245,4.2568,4.2686,4.2804,4.2922,4.304,4.3158,4.3276,4.3393999999999995,4.3512,4.3629999999999995,4.3748000000000005,4.3866000000000005,4.3984000000000005,4.4102,4.422000000000001,4.4338,4.445600000000001,4.4574,4.469200000000001,4.481,4.492800000000001,4.5046,4.5164,4.5282,4.54,4.5518,4.563600000000001,4.5754,4.5872,4.599,4.6108,4.6226,4.6344,4.6462,4.6579999999999995,4.6698,4.6816,4.6934000000000005,4.7052000000000005,4.7170000000000005,4.7288,4.740600000000001,4.7524,4.764200000000001,4.776,4.787800000000001,4.7996,4.8114,4.8232,4.835000000000001,4.8468,4.858600000000001,4.8704,4.8822,4.894,4.9058,4.9176,4.9294,4.9412,4.953,4.9648,4.9766,4.9884,5.0002,5.0120000000000005,5.0238000000000005,5.0356000000000005,5.0474,5.059200000000001,5.071000000000001,5.0828,5.094600000000001,5.106400000000001,5.1182,5.13,5.1418,5.1536,5.165400000000001,5.1772,5.189,5.2008,5.2126,5.2244,5.2362,5.248,5.2598,5.2716,5.2834,5.2951999999999995,5.307,5.3188,5.3306000000000004,5.3424000000000005,5.3542,5.366,5.377800000000001,5.389600000000001,5.401400000000001,5.4132,5.425,5.4368,5.448600000000001,5.460400000000001,5.4722,5.484,5.4958,5.5076,5.519400000000001,5.531200000000001,5.543,5.5548,5.5666,5.5784,5.590200000000001,5.602,5.6138,5.6256,5.6374,5.6492,5.661,5.6728000000000005,5.6846000000000005,5.696400000000001,5.708200000000001,5.72,5.7318,5.743600000000001,5.755400000000001,5.767200000000001,5.779,5.7908,5.8026,5.814400000000001,5.826200000000001,5.838,5.8498,5.8616,5.8734,5.885200000000001,5.897,5.9088,5.9206,5.9324,5.9442,5.956,5.9678,5.9796000000000005,5.9914000000000005,6.0032000000000005,6.015,6.026800000000001,6.038600000000001,6.050400000000001,6.062200000000001,6.074,6.0858,6.097600000000001,6.109400000000001,6.121200000000001,6.133,6.1448,6.1566,6.1684,6.180200000000001,6.192,6.2038,6.2156,6.2274,6.2392,6.251,6.2628,6.2746,6.2864,6.2982000000000005,6.31,6.3218000000000005,6.333600000000001,6.345400000000001,6.357200000000001,6.369,6.3808,6.392600000000001,6.404400000000001,6.416200000000001,6.428,6.4398,6.4516,6.463400000000001,6.475200000000001,6.487,6.4988,6.5106,6.5224,6.534200000000001,6.546,6.5578,6.5696,6.5814,6.5932,6.605,6.6168000000000005,6.6286000000000005,6.6404000000000005,6.652200000000001,6.664,6.675800000000001,6.687600000000001,6.699400000000001,6.711200000000001,6.723,6.7348,6.7466,6.758400000000001,6.770200000000001,6.782,6.7938,6.8056,6.8174,6.829200000000001,6.841,6.8528,6.8646,6.8764,6.8882],\"xaxis\":\"x\",\"y\":[0.15657503114608068,0.1584656880405092,0.16032954207487904,0.1621651246072428,0.16397097706745659,0.16574565292356577,0.167487719652497,0.16919576071143216,0.170868377506193,0.1725041913529308,0.1741018454294014,0.17566000671207918,0.1771773678953745,0.17865264928920085,0.1800846006911758,0.18147200322975054,0.1828136711745883,0.1841084537105765,0.18535523667187864,0.1865529442325242,0.18770054055008012,0.18879703135903608,0.1898414655106296,0.19083293645591973,0.19177058366904073,0.19265359400765716,0.19348120300779506,0.1942526961103182,0.19496740981648514,0.19562473277014356,0.1962241067642856,0.19676502766983214,0.19724704628468356,0.19766976910123965,0.19803285899076306,0.19833603580313708,0.19857907688076096,0.19876181748548313,0.1988841511376949,0.19894602986687238,0.19894746437305255,0.1988885240989261,0.19876933721242437,0.19859009049986162,0.1983510291699028,0.19805245656880707,0.197694733807601,0.197278279302011,0.1968035682261865,0.1962711318814229,0.19568155698127337,0.1950354848546188,0.1943336105684343,0.1935766819721668,0.19276549866578999,0.19190091089376607,0.19098381836729197,0.19001516901735424,0.18899595768125055,0.18792722472536538,0.1868100546071111,0.18564557437906212,0.18443495213840547,0.18317939542494208,0.18188014957094836,0.1805384960063005,0.17915575052232083,0.1777332614978753,0.1762724080913092,0.174774598401828,0.17324126760399466,0.17167387605901693,0.170073907406513,0.16844286664046687,0.16678227817306046,0.16509368389006607,0.16337864120146325,0.16163872109090457,0.15987550616762222,0.15809058872431672,0.15628556880451064,0.1544620522827858,0.15262164896125632,0.15076597068554326,0.14889662948342688,0.14701523572927305,0.14512339633721172,0.14322271298595748,0.14131478037803188,0.13940118453604994,0.13748350113858962,0.13556329389805716,0.13364211298281667,0.1317214934857215,0.1298029539410507,0.12788799489171027,0.12597809750841674,0.12407472226243704,0.1221793076533114,0.12029326899283992,0.11841799724646683,0.11655485793304281,0.11470519008380677,0.1128703052612762,0.11105148663858488,0.10924998813967483,0.10746703364059224,0.10570381623200571,0.10396149754292308,0.10224120712544853,0.10054404190029025,0.09887106566259686,0.09722330864758169,0.09560176715526351,0.0940074032335496,0.09244114441875609,0.0909038835325727,0.08939647853435832,0.08791975242757188,0.08647449321903683,0.08506145392966057,0.08368135265514551,0.08233487267514653,0.08102266260927325,0.07974533661825321,0.07850347464853151,0.07729762271851243,0.0761282932446157,0.07499596540527034,0.07390108554093582,0.07284406758821028,0.07182529354606466,0.07084511397221491,0.06990384850764274,0.06900178642725696,0.06813918721469384,0.06731628115925095,0.06653326997296218,0.06579032742583124,0.06508759999725904,0.06442520754172436,0.06380324396679946,0.06322177792161761,0.06268085349393955,0.06218049091400968,0.0617206872634266,0.06130141718730707,0.06092263360806377,0.06058426843917063,0.06028623329734658,0.06002842021163829,0.05981070232794905,0.059632934607615054,0.059494954518696845,0.05939658271871632,0.05933762372763644,0.059317866589944125,0.05933708552477066,0.05939504056304558,0.05949147817075304,0.05962613185742915,0.05979872276910474,0.0600089602649724,0.06025654247712012,0.060541156852749446,0.06086248067835706,0.061220181585431736,0.06161391803728299,0.06204333979668352,0.06250808837407178,0.06300779745612418,0.06354209331457072,0.06411059519518113,0.06471291568691799,0.06534866107129614,0.06601743165205781,0.06671882206531288,0.06745242157035199,0.06821781432138689,0.06901457962051953,0.06984229215228563,0.07070052220016003,0.07158883584545303,0.0725067951490632,0.07345395831658673,0.07442987984731787,0.0754341106677071,0.07646619824986416,0.07752568671573168,0.07861211692756598,0.0797250265653884,0.08086395019209361,0.08202841930690599,0.08321796238790119,0.08443210492431504,0.08567036943937355,0.08693227550438397,0.08821733974483437,0.0895250758392498,0.09085499451155592,0.09220660351769887,0.09357940762726907,0.09497290860086945,0.09638660516396391,0.09781999297793384,0.09927256460905753,0.10074380949612291,0.10223321391735814,0.10374026095736676,0.10526443047472415,0.10680519907087954,0.10836204006099502,0.10993442344732078,0.11152181589569932,0.11312368071575903,0.1147394778453388,0.11636866383966113,0.11801069186574917,0.11966501170255421,0.12133106974723568,0.12300830902801159,0.12469616922396667,0.1263940866921835,0.12810149450252617,0.12981782248038848,0.1315424972576808,0.13327494233230783,0.13501457813635814,0.1367608221132006,0.13851308880364688,0.14027078994132558,0.1420333345573655,0.14380012909447978,0.14557057753049046,0.1473440815113321,0.14912004049352018,0.15089785189606308,0.15267691126176108,0.15445661242780626,0.15623634770558686,0.1580155080695544,0.15979348335500634,0.1615696624646026,0.1633434335834144,0.1651141844022836,0.16688130234924414,0.16864417482874863,0.170402189468404,0.17215473437291703,0.17390119838493662,0.17564097135243317,0.17737344440228014,0.1790980102196509,0.18081406333285796,0.18252100040322045,0.1842182205195638,0.18590512549691265,0.18758112017895368,0.18924561274381638,0.19089801501272283,0.19253774276104269,0.19416421603128634,0.19577685944756004,0.19737510253101093,0.19895838001576763,0.20052613216490348,0.20207780508592435,0.20361285104529844,0.20513072878153887,0.2066309038163491,0.20811284876334715,0.2095760436338898,0.2110199761395074,0.21244414199049244,0.2138480451901541,0.21523119832429413,0.21659312284544105,0.21793334935139966,0.2192514178576795,0.2205468780633775,0.2218192896100973,0.2230682223335053,0.22429325650712942,0.22549398307802587,0.22667000389394862,0.2278209319216751,0.2289463914561521,0.23004601832014865,0.23111946005411085,0.232166376095941,0.2331864379504313,0.2341793293481078,0.2351447463932565,0.23608239770092065,0.23699200452268768,0.23787330086108718,0.23872603357245933,0.23954996245816357,0.24034486034402447,0.24111051314792203,0.24184671993547596,0.24255329296376874,0.24323005771309728,0.24387685290674804,0.24449353051882752,0.24507995577018069,0.2456360071124782,0.24616157620055062,0.246656567853081,0.2471209000017916,0.2475545036292685,0.24795732269560014,0.2483293140540212,0.24867044735577098,0.24898070494439706,0.2492600817397552,0.24950858511196744,0.24972623474562702,0.24991306249454867,0.2500691122273774,0.25019443966439703,0.25028911220587075,0.2503532087522863,0.2503868195168679,0.2503900458307464,0.2503629999411758,0.25030580480320436,0.2502185938652152,0.25010151084874854,0.2499547095230473,0.2497783534747428,0.24957261587313326,0.2493376792314853,0.24907373516480888,0.24878098414454447,0.24845963525061157,0.2481099059212589,0.24773202170115705,0.24732621598817603,0.2468927297792707,0.24643181141591283,0.2459437163294806,0.2454287067870258,0.2448870516378162,0.24431902606104952,0.24372491131512422,0.2431049944888304,0.24245956825482948,0.2417889306257571,0.24109338471328304,0.24037323849044562,0.23962880455755042,0.23886039991192384,0.2380683457217797,0.23725296710444513,0.23641459290917544,0.23555355550476506,0.2346701905721417,0.23376483690211658,0.2328378361984355,0.23188953288626316,0.2309202739262086,0.22993040863397737,0.2289202885057239,0.2278902670491432,0.22684069962034037,0.2257719432664748,0.22468435657417524,0.22357829952368952,0.22245413334872186,0.22131222040188772,0.22015292402570197,0.21897660842899558,0.217783638568643,0.21657438003646257,0.21534919895114327,0.21410846185503002,0.2128525356155937,0.2115817873313928,0.210296584242328,0.2089972936439785,0.2076842828057974,0.2063579188929416,0.20501856889149586,0.20366659953685282,0.2023023772450005,0.2009262680464672,0.19953863752267384,0.1981398507444334,0.19673027221234884,0.19531026579885344,0.1938801946916393,0.19244042133822936,0.19099130739144643,0.1895332136555372,0.1880665000327217,0.1865915254699401,0.185108647905578,0.1836182242159625,0.18212061016142791,0.18061616033176467,0.179105228090872,0.17758816552045004,0.17606532336258074,0.17453705096105368,0.17300369620131806,0.17146560544894388,0.16992312348650002,0.16837659344876635,0.166826356756215,0.1652727530467075,0.16371612010537587,0.1621567937926689,0.16059510797055407,0.15903139442689407,0.15746598279802018,0.15589920048954528,0.1543313725954743,0.15276282181568307,0.15119386837185056,0.1496248299219415,0.14805602147335478,0.1464877552948586,0.1449203408274493,0.14335408459428073,0.14178929010982216,0.140226257788408,0.1386652848523617,0.13710666523986886,0.1355506895127968,0.13399764476465262,0.1324478145288851,0.13090147868773233,0.12935891338182895,0.12782039092077982,0.12628617969491812,0.12475654408845598,0.12323174439424725,0.12171203673036624,0.12019767295871804,0.11868890060588334,0.11718596278639781,0.11568909812866739,0.11419854070370437,0.11271451995687373,0.11123726064282032,0.10976698276375102,0.10830390151122689,0.10684822721161696,0.10540016527535305,0.10395991615011516,0.10252767527806192,0.10110363305721837,0.0996879748071084,0.09828088073871802,0.0968825259288567,0.09549308029897356,0.09411270859847042,0.09274157039254356,0.09137982005456859,0.09002760676303431,0.08868507450301308,0.08735236207214986,0.08602960309112746,0.084716926018567,0.08341445417029815,0.0821223057429284,0.08084059384162828,0.07956942651203477,0.07830890677616846,0.07705913267224734,0.07582019729827004,0.07459218885923581,0.07337519071785406,0.07216928144859247,0.07097453489490635,0.06979102022947965,0.06861880201730912,0.0674579402814527,0.06630849057126098,0.06517050403290664,0.064044027482023,0.06292910347826171,0.06182577040157638,0.060734062530039996,0.05965401011900268,0.05858563948139639,0.05752897306899791,0.05648402955445666,0.05545082391390546,0.054429367509966985,0.05341966817497897,0.05242173029426311,0.05143555488926639,0.05046113970041234,0.049498479269503355,0.04854756502152158,0.0476083853456869,0.0466809256756312,0.04576516856856163],\"yaxis\":\"y\",\"type\":\"scatter\"},{\"legendgroup\":\"petal length (cm)\",\"marker\":{\"color\":\"rgb(31, 119, 180)\",\"symbol\":\"line-ns-open\"},\"mode\":\"markers\",\"name\":\"petal length (cm)\",\"showlegend\":false,\"x\":[1.4,1.4,1.3,1.5,1.4,1.7,1.4,1.5,1.4,1.5,1.5,1.6,1.4,1.1,1.2,1.5,1.3,1.4,1.7,1.5,1.7,1.5,1.0,1.7,1.9,1.6,1.6,1.5,1.4,1.6,1.6,1.5,1.5,1.4,1.5,1.2,1.3,1.4,1.3,1.5,1.3,1.3,1.3,1.6,1.9,1.4,1.6,1.4,1.5,1.4,4.7,4.5,4.9,4.0,4.6,4.5,4.7,3.3,4.6,3.9,3.5,4.2,4.0,4.7,3.6,4.4,4.5,4.1,4.5,3.9,4.8,4.0,4.9,4.7,4.3,4.4,4.8,5.0,4.5,3.5,3.8,3.7,3.9,5.1,4.5,4.5,4.7,4.4,4.1,4.0,4.4,4.6,4.0,3.3,4.2,4.2,4.2,4.3,3.0,4.1,6.0,5.1,5.9,5.6,5.8,6.6,4.5,6.3,5.8,6.1,5.1,5.3,5.5,5.0,5.1,5.3,5.5,6.7,6.9,5.0,5.7,4.9,6.7,4.9,5.7,6.0,4.8,4.9,5.6,5.8,6.1,6.4,5.6,5.1,5.6,6.1,5.6,5.5,4.8,5.4,5.6,5.1,5.1,5.9,5.7,5.2,5.0,5.2,5.4,5.1],\"xaxis\":\"x\",\"y\":[\"petal length (cm)\",\"petal length (cm)\",\"petal length (cm)\",\"petal length (cm)\",\"petal length (cm)\",\"petal length (cm)\",\"petal length (cm)\",\"petal length (cm)\",\"petal length (cm)\",\"petal length (cm)\",\"petal length (cm)\",\"petal length (cm)\",\"petal length (cm)\",\"petal length (cm)\",\"petal length (cm)\",\"petal length (cm)\",\"petal length (cm)\",\"petal length (cm)\",\"petal length (cm)\",\"petal length (cm)\",\"petal length (cm)\",\"petal length (cm)\",\"petal length (cm)\",\"petal length (cm)\",\"petal length (cm)\",\"petal length (cm)\",\"petal length (cm)\",\"petal length (cm)\",\"petal length (cm)\",\"petal length (cm)\",\"petal length (cm)\",\"petal length (cm)\",\"petal length (cm)\",\"petal length (cm)\",\"petal length (cm)\",\"petal length (cm)\",\"petal length (cm)\",\"petal length (cm)\",\"petal length (cm)\",\"petal length (cm)\",\"petal length (cm)\",\"petal length (cm)\",\"petal length (cm)\",\"petal length (cm)\",\"petal length (cm)\",\"petal length (cm)\",\"petal length (cm)\",\"petal length (cm)\",\"petal length (cm)\",\"petal length (cm)\",\"petal length (cm)\",\"petal length (cm)\",\"petal length (cm)\",\"petal length (cm)\",\"petal length (cm)\",\"petal length (cm)\",\"petal length (cm)\",\"petal length (cm)\",\"petal length (cm)\",\"petal length (cm)\",\"petal length (cm)\",\"petal length (cm)\",\"petal length (cm)\",\"petal length (cm)\",\"petal length (cm)\",\"petal length (cm)\",\"petal length (cm)\",\"petal length (cm)\",\"petal length (cm)\",\"petal length (cm)\",\"petal length (cm)\",\"petal length (cm)\",\"petal length (cm)\",\"petal length (cm)\",\"petal length (cm)\",\"petal length (cm)\",\"petal length (cm)\",\"petal length (cm)\",\"petal length (cm)\",\"petal length (cm)\",\"petal length (cm)\",\"petal length (cm)\",\"petal length (cm)\",\"petal length (cm)\",\"petal length (cm)\",\"petal length (cm)\",\"petal length (cm)\",\"petal length (cm)\",\"petal length (cm)\",\"petal length (cm)\",\"petal length (cm)\",\"petal length (cm)\",\"petal length (cm)\",\"petal length (cm)\",\"petal length (cm)\",\"petal length (cm)\",\"petal length (cm)\",\"petal length (cm)\",\"petal length (cm)\",\"petal length (cm)\",\"petal length (cm)\",\"petal length (cm)\",\"petal length (cm)\",\"petal length (cm)\",\"petal length (cm)\",\"petal length (cm)\",\"petal length (cm)\",\"petal length (cm)\",\"petal length (cm)\",\"petal length (cm)\",\"petal length (cm)\",\"petal length (cm)\",\"petal length (cm)\",\"petal length (cm)\",\"petal length (cm)\",\"petal length (cm)\",\"petal length (cm)\",\"petal length (cm)\",\"petal length (cm)\",\"petal length (cm)\",\"petal length (cm)\",\"petal length (cm)\",\"petal length (cm)\",\"petal length (cm)\",\"petal length (cm)\",\"petal length (cm)\",\"petal length (cm)\",\"petal length (cm)\",\"petal length (cm)\",\"petal length (cm)\",\"petal length (cm)\",\"petal length (cm)\",\"petal length (cm)\",\"petal length (cm)\",\"petal length (cm)\",\"petal length (cm)\",\"petal length (cm)\",\"petal length (cm)\",\"petal length (cm)\",\"petal length (cm)\",\"petal length (cm)\",\"petal length (cm)\",\"petal length (cm)\",\"petal length (cm)\",\"petal length (cm)\",\"petal length (cm)\",\"petal length (cm)\",\"petal length (cm)\",\"petal length (cm)\",\"petal length (cm)\"],\"yaxis\":\"y2\",\"type\":\"scatter\"}],                        {\"barmode\":\"overlay\",\"hovermode\":\"closest\",\"legend\":{\"traceorder\":\"reversed\"},\"xaxis\":{\"anchor\":\"y2\",\"domain\":[0.0,1.0],\"zeroline\":false},\"yaxis\":{\"anchor\":\"free\",\"domain\":[0.35,1],\"position\":0.0},\"yaxis2\":{\"anchor\":\"x\",\"domain\":[0,0.25],\"dtick\":1,\"showticklabels\":false},\"template\":{\"data\":{\"bar\":[{\"error_x\":{\"color\":\"#2a3f5f\"},\"error_y\":{\"color\":\"#2a3f5f\"},\"marker\":{\"line\":{\"color\":\"#E5ECF6\",\"width\":0.5},\"pattern\":{\"fillmode\":\"overlay\",\"size\":10,\"solidity\":0.2}},\"type\":\"bar\"}],\"barpolar\":[{\"marker\":{\"line\":{\"color\":\"#E5ECF6\",\"width\":0.5},\"pattern\":{\"fillmode\":\"overlay\",\"size\":10,\"solidity\":0.2}},\"type\":\"barpolar\"}],\"carpet\":[{\"aaxis\":{\"endlinecolor\":\"#2a3f5f\",\"gridcolor\":\"white\",\"linecolor\":\"white\",\"minorgridcolor\":\"white\",\"startlinecolor\":\"#2a3f5f\"},\"baxis\":{\"endlinecolor\":\"#2a3f5f\",\"gridcolor\":\"white\",\"linecolor\":\"white\",\"minorgridcolor\":\"white\",\"startlinecolor\":\"#2a3f5f\"},\"type\":\"carpet\"}],\"choropleth\":[{\"colorbar\":{\"outlinewidth\":0,\"ticks\":\"\"},\"type\":\"choropleth\"}],\"contour\":[{\"colorbar\":{\"outlinewidth\":0,\"ticks\":\"\"},\"colorscale\":[[0.0,\"#0d0887\"],[0.1111111111111111,\"#46039f\"],[0.2222222222222222,\"#7201a8\"],[0.3333333333333333,\"#9c179e\"],[0.4444444444444444,\"#bd3786\"],[0.5555555555555556,\"#d8576b\"],[0.6666666666666666,\"#ed7953\"],[0.7777777777777778,\"#fb9f3a\"],[0.8888888888888888,\"#fdca26\"],[1.0,\"#f0f921\"]],\"type\":\"contour\"}],\"contourcarpet\":[{\"colorbar\":{\"outlinewidth\":0,\"ticks\":\"\"},\"type\":\"contourcarpet\"}],\"heatmap\":[{\"colorbar\":{\"outlinewidth\":0,\"ticks\":\"\"},\"colorscale\":[[0.0,\"#0d0887\"],[0.1111111111111111,\"#46039f\"],[0.2222222222222222,\"#7201a8\"],[0.3333333333333333,\"#9c179e\"],[0.4444444444444444,\"#bd3786\"],[0.5555555555555556,\"#d8576b\"],[0.6666666666666666,\"#ed7953\"],[0.7777777777777778,\"#fb9f3a\"],[0.8888888888888888,\"#fdca26\"],[1.0,\"#f0f921\"]],\"type\":\"heatmap\"}],\"heatmapgl\":[{\"colorbar\":{\"outlinewidth\":0,\"ticks\":\"\"},\"colorscale\":[[0.0,\"#0d0887\"],[0.1111111111111111,\"#46039f\"],[0.2222222222222222,\"#7201a8\"],[0.3333333333333333,\"#9c179e\"],[0.4444444444444444,\"#bd3786\"],[0.5555555555555556,\"#d8576b\"],[0.6666666666666666,\"#ed7953\"],[0.7777777777777778,\"#fb9f3a\"],[0.8888888888888888,\"#fdca26\"],[1.0,\"#f0f921\"]],\"type\":\"heatmapgl\"}],\"histogram\":[{\"marker\":{\"pattern\":{\"fillmode\":\"overlay\",\"size\":10,\"solidity\":0.2}},\"type\":\"histogram\"}],\"histogram2d\":[{\"colorbar\":{\"outlinewidth\":0,\"ticks\":\"\"},\"colorscale\":[[0.0,\"#0d0887\"],[0.1111111111111111,\"#46039f\"],[0.2222222222222222,\"#7201a8\"],[0.3333333333333333,\"#9c179e\"],[0.4444444444444444,\"#bd3786\"],[0.5555555555555556,\"#d8576b\"],[0.6666666666666666,\"#ed7953\"],[0.7777777777777778,\"#fb9f3a\"],[0.8888888888888888,\"#fdca26\"],[1.0,\"#f0f921\"]],\"type\":\"histogram2d\"}],\"histogram2dcontour\":[{\"colorbar\":{\"outlinewidth\":0,\"ticks\":\"\"},\"colorscale\":[[0.0,\"#0d0887\"],[0.1111111111111111,\"#46039f\"],[0.2222222222222222,\"#7201a8\"],[0.3333333333333333,\"#9c179e\"],[0.4444444444444444,\"#bd3786\"],[0.5555555555555556,\"#d8576b\"],[0.6666666666666666,\"#ed7953\"],[0.7777777777777778,\"#fb9f3a\"],[0.8888888888888888,\"#fdca26\"],[1.0,\"#f0f921\"]],\"type\":\"histogram2dcontour\"}],\"mesh3d\":[{\"colorbar\":{\"outlinewidth\":0,\"ticks\":\"\"},\"type\":\"mesh3d\"}],\"parcoords\":[{\"line\":{\"colorbar\":{\"outlinewidth\":0,\"ticks\":\"\"}},\"type\":\"parcoords\"}],\"pie\":[{\"automargin\":true,\"type\":\"pie\"}],\"scatter\":[{\"marker\":{\"colorbar\":{\"outlinewidth\":0,\"ticks\":\"\"}},\"type\":\"scatter\"}],\"scatter3d\":[{\"line\":{\"colorbar\":{\"outlinewidth\":0,\"ticks\":\"\"}},\"marker\":{\"colorbar\":{\"outlinewidth\":0,\"ticks\":\"\"}},\"type\":\"scatter3d\"}],\"scattercarpet\":[{\"marker\":{\"colorbar\":{\"outlinewidth\":0,\"ticks\":\"\"}},\"type\":\"scattercarpet\"}],\"scattergeo\":[{\"marker\":{\"colorbar\":{\"outlinewidth\":0,\"ticks\":\"\"}},\"type\":\"scattergeo\"}],\"scattergl\":[{\"marker\":{\"colorbar\":{\"outlinewidth\":0,\"ticks\":\"\"}},\"type\":\"scattergl\"}],\"scattermapbox\":[{\"marker\":{\"colorbar\":{\"outlinewidth\":0,\"ticks\":\"\"}},\"type\":\"scattermapbox\"}],\"scatterpolar\":[{\"marker\":{\"colorbar\":{\"outlinewidth\":0,\"ticks\":\"\"}},\"type\":\"scatterpolar\"}],\"scatterpolargl\":[{\"marker\":{\"colorbar\":{\"outlinewidth\":0,\"ticks\":\"\"}},\"type\":\"scatterpolargl\"}],\"scatterternary\":[{\"marker\":{\"colorbar\":{\"outlinewidth\":0,\"ticks\":\"\"}},\"type\":\"scatterternary\"}],\"surface\":[{\"colorbar\":{\"outlinewidth\":0,\"ticks\":\"\"},\"colorscale\":[[0.0,\"#0d0887\"],[0.1111111111111111,\"#46039f\"],[0.2222222222222222,\"#7201a8\"],[0.3333333333333333,\"#9c179e\"],[0.4444444444444444,\"#bd3786\"],[0.5555555555555556,\"#d8576b\"],[0.6666666666666666,\"#ed7953\"],[0.7777777777777778,\"#fb9f3a\"],[0.8888888888888888,\"#fdca26\"],[1.0,\"#f0f921\"]],\"type\":\"surface\"}],\"table\":[{\"cells\":{\"fill\":{\"color\":\"#EBF0F8\"},\"line\":{\"color\":\"white\"}},\"header\":{\"fill\":{\"color\":\"#C8D4E3\"},\"line\":{\"color\":\"white\"}},\"type\":\"table\"}]},\"layout\":{\"annotationdefaults\":{\"arrowcolor\":\"#2a3f5f\",\"arrowhead\":0,\"arrowwidth\":1},\"autotypenumbers\":\"strict\",\"coloraxis\":{\"colorbar\":{\"outlinewidth\":0,\"ticks\":\"\"}},\"colorscale\":{\"diverging\":[[0,\"#8e0152\"],[0.1,\"#c51b7d\"],[0.2,\"#de77ae\"],[0.3,\"#f1b6da\"],[0.4,\"#fde0ef\"],[0.5,\"#f7f7f7\"],[0.6,\"#e6f5d0\"],[0.7,\"#b8e186\"],[0.8,\"#7fbc41\"],[0.9,\"#4d9221\"],[1,\"#276419\"]],\"sequential\":[[0.0,\"#0d0887\"],[0.1111111111111111,\"#46039f\"],[0.2222222222222222,\"#7201a8\"],[0.3333333333333333,\"#9c179e\"],[0.4444444444444444,\"#bd3786\"],[0.5555555555555556,\"#d8576b\"],[0.6666666666666666,\"#ed7953\"],[0.7777777777777778,\"#fb9f3a\"],[0.8888888888888888,\"#fdca26\"],[1.0,\"#f0f921\"]],\"sequentialminus\":[[0.0,\"#0d0887\"],[0.1111111111111111,\"#46039f\"],[0.2222222222222222,\"#7201a8\"],[0.3333333333333333,\"#9c179e\"],[0.4444444444444444,\"#bd3786\"],[0.5555555555555556,\"#d8576b\"],[0.6666666666666666,\"#ed7953\"],[0.7777777777777778,\"#fb9f3a\"],[0.8888888888888888,\"#fdca26\"],[1.0,\"#f0f921\"]]},\"colorway\":[\"#636efa\",\"#EF553B\",\"#00cc96\",\"#ab63fa\",\"#FFA15A\",\"#19d3f3\",\"#FF6692\",\"#B6E880\",\"#FF97FF\",\"#FECB52\"],\"font\":{\"color\":\"#2a3f5f\"},\"geo\":{\"bgcolor\":\"white\",\"lakecolor\":\"white\",\"landcolor\":\"#E5ECF6\",\"showlakes\":true,\"showland\":true,\"subunitcolor\":\"white\"},\"hoverlabel\":{\"align\":\"left\"},\"hovermode\":\"closest\",\"mapbox\":{\"style\":\"light\"},\"paper_bgcolor\":\"white\",\"plot_bgcolor\":\"#E5ECF6\",\"polar\":{\"angularaxis\":{\"gridcolor\":\"white\",\"linecolor\":\"white\",\"ticks\":\"\"},\"bgcolor\":\"#E5ECF6\",\"radialaxis\":{\"gridcolor\":\"white\",\"linecolor\":\"white\",\"ticks\":\"\"}},\"scene\":{\"xaxis\":{\"backgroundcolor\":\"#E5ECF6\",\"gridcolor\":\"white\",\"gridwidth\":2,\"linecolor\":\"white\",\"showbackground\":true,\"ticks\":\"\",\"zerolinecolor\":\"white\"},\"yaxis\":{\"backgroundcolor\":\"#E5ECF6\",\"gridcolor\":\"white\",\"gridwidth\":2,\"linecolor\":\"white\",\"showbackground\":true,\"ticks\":\"\",\"zerolinecolor\":\"white\"},\"zaxis\":{\"backgroundcolor\":\"#E5ECF6\",\"gridcolor\":\"white\",\"gridwidth\":2,\"linecolor\":\"white\",\"showbackground\":true,\"ticks\":\"\",\"zerolinecolor\":\"white\"}},\"shapedefaults\":{\"line\":{\"color\":\"#2a3f5f\"}},\"ternary\":{\"aaxis\":{\"gridcolor\":\"white\",\"linecolor\":\"white\",\"ticks\":\"\"},\"baxis\":{\"gridcolor\":\"white\",\"linecolor\":\"white\",\"ticks\":\"\"},\"bgcolor\":\"#E5ECF6\",\"caxis\":{\"gridcolor\":\"white\",\"linecolor\":\"white\",\"ticks\":\"\"}},\"title\":{\"x\":0.05},\"xaxis\":{\"automargin\":true,\"gridcolor\":\"white\",\"linecolor\":\"white\",\"ticks\":\"\",\"title\":{\"standoff\":15},\"zerolinecolor\":\"white\",\"zerolinewidth\":2},\"yaxis\":{\"automargin\":true,\"gridcolor\":\"white\",\"linecolor\":\"white\",\"ticks\":\"\",\"title\":{\"standoff\":15},\"zerolinecolor\":\"white\",\"zerolinewidth\":2}}}},                        {\"responsive\": true}                    ).then(function(){\n",
              "                            \n",
              "var gd = document.getElementById('29c43b6e-9671-4bdb-ae60-8a770633a36c');\n",
              "var x = new MutationObserver(function (mutations, observer) {{\n",
              "        var display = window.getComputedStyle(gd).display;\n",
              "        if (!display || display === 'none') {{\n",
              "            console.log([gd, 'removed!']);\n",
              "            Plotly.purge(gd);\n",
              "            observer.disconnect();\n",
              "        }}\n",
              "}});\n",
              "\n",
              "// Listen for the removal of the full notebook cells\n",
              "var notebookContainer = gd.closest('#notebook-container');\n",
              "if (notebookContainer) {{\n",
              "    x.observe(notebookContainer, {childList: true});\n",
              "}}\n",
              "\n",
              "// Listen for the clearing of the current output cell\n",
              "var outputEl = gd.closest('.output');\n",
              "if (outputEl) {{\n",
              "    x.observe(outputEl, {childList: true});\n",
              "}}\n",
              "\n",
              "                        })                };                            </script>        </div>\n",
              "</body>\n",
              "</html>"
            ]
          },
          "metadata": {}
        }
      ],
      "source": [
        "import plotly.figure_factory as ff\n",
        "\n",
        "ff.create_distplot(\n",
        "    hist_data=[data[\"petal length (cm)\"].values],\n",
        "    group_labels=[\"petal length (cm)\"],\n",
        "    bin_size=0.5,\n",
        "    curve_type='kde'\n",
        ")\n"
      ]
    },
    {
      "cell_type": "markdown",
      "metadata": {
        "id": "0DGRgJUbW1UC"
      },
      "source": [
        "## Assigment 1.2\n",
        "\n",
        "$\\mathbf{Exercise\\, 1.}$ Create a linear benchmark, where the dimension of the input data $X$ is 2, and the dimension of the output data $y$ is 1. Choose the amount of noise and sample size.\n",
        "\n",
        "Evaluate the prediction metrics for the following regression methods:\n",
        "\n",
        "- Linear regression\n",
        "- Support Vector Regression with RBF kernel\n",
        "- Decision Tree Regression\n"
      ]
    },
    {
      "cell_type": "markdown",
      "metadata": {
        "id": "Kj04fVj1W1UD"
      },
      "source": [
        "$\\mathbf{Exercise\\, 2.}$ Create a testing dataset and assess the testing metrics for the models."
      ]
    },
    {
      "cell_type": "code",
      "source": [
        "def generate_data(n_samples, n_features, noise_scale):\n",
        "    X = np.random.uniform(-6, 6, size=(n_samples, n_features))\n",
        "    y = X.sum(axis=1) + np.random.uniform(-noise_scale, noise_scale, size=n_samples)\n",
        "    return X, y\n",
        "\n",
        "def fit_linear_model(X, y):\n",
        "    return np.mean(X * y[:, np.newaxis], axis=0)\n",
        "\n",
        "def predict(X, w):\n",
        "    return X @ w\n",
        "\n",
        "def mean_squared_error(y_true, y_pred):\n",
        "    return np.mean((y_true - y_pred) ** 2)\n",
        "\n",
        "# Input data dimension: 2\n",
        "# Output data dimension: 1\n",
        "n_samples = 3000\n",
        "n_features = 2\n",
        "noise_scale = 5\n",
        "\n",
        "# Generating data\n",
        "X, y = generate_data(n_samples, n_features, noise_scale)\n",
        "\n",
        "# Fitting the linear model on the generated data\n",
        "w = fit_linear_model(X, y)\n",
        "\n",
        "# Making predictions on the input data using the fitted model\n",
        "y_pred = predict(X, w)\n",
        "\n",
        "# Calculating the mean squared error between the true and predicted outputs\n",
        "mse = mean_squared_error(y, y_pred)\n",
        "print(\"Mean Squared Error:\", mse)"
      ],
      "metadata": {
        "colab": {
          "base_uri": "https://localhost:8080/"
        },
        "id": "RnU_kNqZL-V-",
        "outputId": "58696b70-36c8-4909-9005-8a716b5ad330"
      },
      "execution_count": null,
      "outputs": [
        {
          "output_type": "stream",
          "name": "stdout",
          "text": [
            "Mean Squared Error: 3143.060665756356\n"
          ]
        }
      ]
    },
    {
      "cell_type": "code",
      "source": [
        "px.scatter_3d(x=X[:, 0].flatten(), y=X[:, 1].flatten(), z=y.flatten()).show()"
      ],
      "metadata": {
        "colab": {
          "base_uri": "https://localhost:8080/",
          "height": 542
        },
        "id": "rXFLZsGGMVOo",
        "outputId": "09ea5e8b-784e-4e4e-e7ba-d82c38cd5acd"
      },
      "execution_count": null,
      "outputs": [
        {
          "output_type": "display_data",
          "data": {
            "text/html": [
              "<html>\n",
              "<head><meta charset=\"utf-8\" /></head>\n",
              "<body>\n",
              "    <div>            <script src=\"https://cdnjs.cloudflare.com/ajax/libs/mathjax/2.7.5/MathJax.js?config=TeX-AMS-MML_SVG\"></script><script type=\"text/javascript\">if (window.MathJax) {MathJax.Hub.Config({SVG: {font: \"STIX-Web\"}});}</script>                <script type=\"text/javascript\">window.PlotlyConfig = {MathJaxConfig: 'local'};</script>\n",
              "        <script src=\"https://cdn.plot.ly/plotly-2.8.3.min.js\"></script>                <div id=\"fb6d1bef-a245-43d5-8aaa-afd98df5e62e\" class=\"plotly-graph-div\" style=\"height:525px; width:100%;\"></div>            <script type=\"text/javascript\">                                    window.PLOTLYENV=window.PLOTLYENV || {};                                    if (document.getElementById(\"fb6d1bef-a245-43d5-8aaa-afd98df5e62e\")) {                    Plotly.newPlot(                        \"fb6d1bef-a245-43d5-8aaa-afd98df5e62e\",                        [{\"hovertemplate\":\"x=%{x}<br>y=%{y}<br>z=%{z}<extra></extra>\",\"legendgroup\":\"\",\"marker\":{\"color\":\"#636efa\",\"symbol\":\"circle\"},\"mode\":\"markers\",\"name\":\"\",\"scene\":\"scene\",\"showlegend\":false,\"x\":[-2.191464575062802,4.984327922755339,-3.56517138549838,0.2597650999654091,-2.4539427086876993,-4.254438649166552,2.8033311625033193,-5.899717486288603,-0.38537586836476745,3.4543627801177017,0.5746882500224366,-2.6369445837523013,-1.9701765939165252,1.2899235111443197,2.78112963304444,4.268607269941752,-4.675880666039575,4.947576090230932,4.673494970835584,-1.2513567131601544,4.138188767900049,1.5494399649472683,-1.6390347998907444,1.7406456851386416,2.264891603604644,0.4349314173314234,1.1861458777448348,4.949731405345215,2.91034246356314,-1.6797612559729753,-4.136977508372388,0.1723910080371489,0.8078722503671685,4.761573077060762,-3.272789218175378,0.40959420363083954,-3.905725894853533,0.911450211460938,3.4709655165457285,-3.8637591010210945,1.578379799530163,-1.9790578124373237,4.364210459706779,-0.9994074114612896,4.178896128227308,-5.0893732403241865,1.1731450141911601,-5.370405668319065,2.7985249630072087,3.32347371864277,4.296592683761174,-5.081672830223855,-2.7992594959881223,-5.4663937721178835,4.212385689734427,2.9569061541032706,1.0458467497570485,1.0202135316967809,4.518990102696723,0.14841314683726647,5.812354675016101,-2.585704692107585,5.652249422181185,3.717105365728946,1.6146262067417947,-2.9223741882193037,0.22376597878438886,-0.05165707563925537,-4.9034822997555825,2.209162683678654,-0.6810182521589727,-2.3073044647312564,1.4105307859371052,-4.280007997050675,-3.073284654778495,-5.5914666690916,-4.698897716525805,-3.3723147022480093,-1.750220038075799,-5.447527666913639,-4.052201875298744,2.851399010836074,3.2149254550782036,1.8727197396798942,-5.285335686287155,4.9559281751600786,0.42802355437417283,0.03392411018508401,0.9318967992660134,-2.018441654567698,-2.889870495832753,5.732721215315696,4.244302438192458,5.3866428018904156,5.666857041430893,4.626174753552004,-1.4700676283656051,-5.414575188164326,-5.055254315305808,-2.101408147730311,4.412268744755247,3.224104960270724,1.7416673244427177,-0.29904846994094214,4.140579887938703,1.2575710445631412,3.8393654276293763,4.488404484592921,-4.60847793281801,-3.4876748539908466,-3.335856510285241,-2.1014447251761683,0.07618151200266965,5.211955830750423,-4.6351600105160635,-1.4816090615033009,4.746015685886528,-4.484563929258223,-4.0382789124858345,-4.6457455270392005,-4.047120216379148,3.7914595800660233,2.7791149497779486,-1.533784730159307,4.341654228826506,-2.3015838926274172,-4.083485427098164,0.001743288745680971,3.957640805401546,-4.990589080471162,3.701381822338064,4.460436769033315,2.072159372973056,4.6639266736034095,-5.87686572245414,0.6689944848614191,3.1467117783492515,0.44286407484239554,-4.720525419682895,1.0866851100558126,-3.6570394204648573,2.93226268495404,-4.775650994448377,4.995736236419102,5.7267063081332825,-1.7156237131086503,4.647690851732781,-2.3489636563314757,-5.131762188811241,0.5288895345340139,3.7715975427586628,-3.324015246606675,-4.887788745502219,0.10424157272043288,-0.7719849885295522,-2.4302274035125007,-2.9451299442717183,-3.5432157172366057,-0.2833127166288669,2.407702282126614,-3.851277719915728,4.270820795817084,-4.203064317805708,2.1019460168411204,-4.685015806685203,-2.902983179684413,-2.6860565476057006,3.700600047283345,4.029300120344363,-0.7335613562640679,-1.9541307205598226,-2.0070853975140417,-1.1607264826228416,-0.28241942578581636,4.72916015532587,0.44370692497822795,3.6706717383577327,3.4669491418956753,-4.652907494155184,2.0152534339528465,-0.01115962838971285,4.392184180780189,-4.957715160655489,0.5355768336296993,-1.94827111306995,-3.874521589635614,-2.74436407691423,4.702032189464273,-1.1174066780820802,5.630588760976984,-1.5809327665752448,4.910725795414926,5.438810681965661,2.743839472854475,3.3781499204665906,4.923785406552735,3.574548503918118,2.8427154587051575,-0.21466405324030546,-1.036814389525257,-5.344041893069138,2.4687733393896725,-0.7249828168628092,3.4000927871692106,0.27144236382092046,-3.1425980629702477,-1.4657257338269565,4.706993823249908,-5.4766557343659255,-4.945876947242013,-2.603583533062397,2.0131019123207743,-0.6307902459603945,-2.260380822410761,-4.22218748180558,3.0315308459571355,-1.6721028671048899,4.416667504473105,1.297119440074157,-4.399962244913995,3.1118621058974654,3.617053949775233,-3.93340130467988,3.483493376146111,-3.5557168648581934,3.975825421346114,-5.16881500506129,-1.861635492552896,0.6970457000656536,3.7891549880234763,0.10535840608767799,2.733463332511599,-4.815023673856201,4.491055926838092,-5.380194454872111,0.3949797761690146,2.9894581558438773,-1.8692564373487164,0.0033617940448094075,1.505226760667223,-2.739253731581249,0.9734305100999361,4.588202790933703,5.851224806464197,-4.0120288681109955,-4.647456579474399,1.608748723502229,-1.1179062387449008,1.3452633569432875,-1.2586755116196864,0.7276678586543959,2.573976581068292,4.754963325236922,-0.6624647248318025,0.08740781779321871,0.9144504002441938,0.801024767480957,-2.922784820604857,-1.1312676865508262,1.826551269743593,1.9852893588218805,4.652717717872198,2.3735684721320354,-2.541301971130385,3.4285671373296047,-0.39262561322940925,5.118050279490198,-1.3185133706420862,-0.2195301855736158,0.7337120721099861,5.689054411501969,4.754486429024228,-2.3512822317783235,-4.435015404174078,-5.15358344370114,2.421472214417868,2.256554786225898,-2.795249308502112,2.67976112414841,5.612569430898628,-5.404770656073095,-4.205765149047587,0.5995496510537004,2.8705765943469217,5.926774206526382,2.433467797991968,4.67036674587751,1.5408283286388915,0.16861255811221731,-5.95355358952664,1.0404438625050227,3.545168303146916,5.060728471122955,2.904675658062832,-4.555934773528735,-2.6368879619455687,5.927084627824346,0.9847917412758003,1.5492750737786913,2.4668646017698457,-3.5026190676416156,-5.546556493291606,2.479498062989599,-5.58711777584098,-0.45942912605119623,-1.0803389479773502,-0.49823206869162107,4.292169837029265,1.9029705700944177,5.93662974643706,-3.439317564698496,4.072918545359467,1.8383031703913568,0.550107761651148,-5.286501553425525,-4.922028837516759,2.004162155078294,-4.360131456986988,3.9207741813603043,-1.1222233309850695,-0.8466731307988127,-5.5686372815214895,3.9000444433429617,1.6000012864174762,5.151056802010753,0.8343409147931755,-0.3831996974763925,-1.268442479380564,-3.7214724175762814,-4.755833228709399,-3.613925339186891,3.162597711907484,-0.8409204490533018,-4.000700863772191,1.7293831640986044,-2.7311372762349078,-2.481470358826409,-5.729211999298332,3.7138957050755224,-1.3559552207865107,3.0396900246592917,-5.306774640818314,4.239988531000918,2.7258423738975317,0.22685912539827946,5.583060264584997,1.4410618618859603,-1.0104459787106395,1.7978410890025742,-2.950399077404014,2.585003400558481,-4.716418366281639,-5.2787883798170405,0.6586013905443497,-1.0533074578860155,5.971365211832012,5.474561363995356,5.357408702925589,1.3476427010528038,-4.95802303967674,-4.534235773180447,0.5747486229109935,5.296252408494318,-2.71752123288329,1.3192395545250495,-3.633749665633594,5.24688421801223,-2.4723994243199705,1.8457211258010204,-4.884963518106382,-2.8893491650466254,5.1279433757181625,-1.4401660051689165,-3.7515395354850436,-4.286393852921169,4.004031863934291,-5.1051519325687345,-5.2284117094661795,4.54400251988012,-4.797958320670311,5.517607975042447,-0.4198722015959371,-4.236341452001803,-1.7839494213509637,5.447411931254168,-1.8038925331881224,-4.529719145574342,1.3276564004362914,-5.501699191512928,2.4125191080021917,2.506318810728324,-4.559737109841686,-5.164107294166377,3.473939319216697,2.3905323968437813,4.3546495647697725,-3.692141148272944,4.661043037129094,-0.8538936105361348,2.8597820256310023,-5.071980929496203,5.2003055069696735,-2.9046156390532722,-1.4276320898826524,4.636573721794479,3.558464166435174,5.901945385319657,5.549363045922638,5.069514567610465,0.11301776249220907,4.063310438160496,-4.946393354036644,-1.759017244196082,2.792086638892087,1.508122754913968,0.07060828683360576,-0.8750804220227328,-2.356970196021503,5.637697625115361,1.84534130003272,4.5626837127564634,2.120502759217061,-5.952258453905184,0.8422064585331306,5.021364390162892,-3.255660829079613,-3.1255985974198888,-1.5983825189028513,-1.7622903989472096,-4.533459929792741,-2.461810116881067,-5.921844561881712,-2.7761839244252,5.245112383999009,-0.8921341143819577,-5.8670417601464235,-4.933802648694163,-2.9827252281878986,3.988122198698324,-2.522235286295401,4.553711310616475,-3.9592303914322984,5.667254356008412,-0.515213679405969,1.9782952267292142,2.035657292514566,-5.091733226466568,-2.7275211733270237,4.410178541770263,4.24817290016459,1.8270000902915422,5.103807108525205,-0.3488978642108709,-3.02304105864,-4.007344647026011,0.032046986442805014,-2.184421351015491,0.2816356376950875,5.46318965999283,-1.1723367733623515,0.1567449994246113,-5.4370718682682675,1.1915931392685204,5.137825065774042,-5.656171040635716,0.006172566963666526,5.614775664649784,0.706240747683756,3.8631117558464716,2.125948396938872,0.021419590625781026,-0.41814775987846264,-3.6610737485901486,-5.13994529167871,5.320269621032521,3.7470914598385487,3.7458191401706724,-5.690389266879123,5.691602703170698,3.1596592964833796,-2.070528523658176,-2.026255928057125,-0.07518205983278126,-2.736824749228461,-2.0037540978422603,-4.394796027279763,4.4294961687875585,2.2534370469022598,5.682469364964483,-1.6207182985077822,-4.409495212647789,0.7497396613116294,2.5863801897213072,2.4184914295302065,-3.654600176333737,2.054828129864287,-2.114410782274047,-1.9015658725119335,2.3080997284768685,5.375532621794068,-2.6731346450998283,-0.4026338335106292,-1.4300633471894697,3.7468775433927473,-4.1590738740956,5.33789576108834,-1.964020126105389,5.185570543002633,-2.083037377944502,1.6377706479308394,-5.773915820429091,4.569031650253123,0.4748618745589894,-1.7171957777769045,3.6391290520897073,-2.407258867277999,-2.477536990899367,-4.30925441411747,-4.3238488235217325,4.005125364875138,5.822699841951938,-5.476177011113107,-4.512883059771855,-2.1483704814722544,1.090399277808296,4.9914419303348385,-4.267144204892354,3.4587033573009354,4.284339788464454,-2.9792186992307728,2.5221670679434727,-1.2681139585065901,1.344610212759643,-1.7581304037435164,5.393401640868298,2.3703126129158,-5.621542065863846,4.567144999506944,5.084447407720372,-3.342220624172736,-3.4447181866052494,-2.0770971616286245,3.9045216029034595,-2.0460246455219164,5.791439255792804,-4.9291252637810485,-0.6472926086034958,3.092912473928367,-4.247512731792344,-5.5686535033443,3.669766593747598,3.514454936265892,-0.015872104930009456,2.2039699465749365,3.020021820414211,2.9093094222612272,4.596774196275254,0.5977845289463186,-0.04621276954814668,-0.07837257205979764,-4.319709712904148,-3.6787050778004193,-2.6376282768397643,-0.24780443056470602,4.623955443393138,-5.111770244996203,4.5648675289404785,4.211734084163265,3.92596117768389,-0.5537629865920728,-4.386941209776147,-1.1330534384610615,1.8577541611288968,1.0434941151005024,4.820382722408246,1.872774937751112,-5.851274915019088,-5.616331198679271,-1.561027061635686,-4.726300009778237,5.980111775728826,-3.763297657854663,-0.37219931366185754,1.4599817986150319,4.185180002802568,4.927595156317173,5.087669717510828,-1.261633789365641,-5.816700272057249,-3.927052690016373,-0.9214134371448282,5.0326812542638475,-5.548478664751126,-2.8807380399703035,0.05874920509231352,4.006497277748146,-4.949877382125587,2.839162781334661,-4.408024471583991,2.6171339493180987,-3.301756324949953,-4.240070393772514,3.9058253824954807,-1.4590258826436422,-2.394805867674216,2.853409985997061,0.776692940059756,0.5564117491832494,4.025369060371434,-5.009093793633994,2.602411622365924,2.0995544622479176,-4.744417966336498,5.6474625810313235,3.069575118523323,1.781424825905738,-4.729848410579939,1.0245520065039315,3.242603352384114,-4.789220257712995,-4.955723591064665,-0.7206667647142293,-4.4611272830447675,2.2093011394503197,-5.968391105852037,2.4051889614196984,5.313344788894964,3.4136117169354616,3.4025598350346904,2.605333722454045,-5.839635292484132,3.0262652180227114,-1.334144887531716,4.120503075796012,-5.264437063649902,-4.329237226192422,1.9834199968739927,4.05643145337649,5.041322932942771,2.600054552648132,-0.11675693975817758,2.0885356397628705,-3.834819752626456,-4.940521824571022,2.706190575093407,0.9512947767239872,5.862561839097161,-0.6809007069934552,-2.6742943236372207,4.418720705540029,4.8117519849055395,-2.8095145735403255,-1.3863889595062906,4.9990843552450475,-2.9557951083601424,-3.1801632614399753,3.3927396184978846,1.5827568055902361,2.0161448007701033,-1.6635143036592552,0.09467593170595201,2.560823767753586,4.682633293547182,-5.785185902564661,-5.6608876466977325,-2.902527330057498,-1.492980008779086,5.792645868830608,-1.4184327145145224,3.629081861313562,1.318954533969956,-5.080155352569366,5.060679141940263,5.35116434880937,5.8100519217096895,5.935274510921634,-3.316516043611212,5.574879825883647,2.5699311703800056,-0.3801142781944016,-4.429115318994312,-5.93901385090166,-3.4558293818810766,1.1970476455642416,4.597573418765606,-2.4560853791993997,-5.8055270791904565,-0.7564221246910989,0.5386803504631246,0.07754291359895849,5.798757607159697,4.486627766022364,5.9211568783469595,-5.26862839507165,2.0188707994694806,-5.60079178585764,0.10135899326423914,-2.535976005929803,0.1403104727304303,3.6616193366894123,-2.9065189849305746,0.37547765389737187,4.546676990721716,5.784018154929658,-2.780881808288272,4.679903054798853,3.304227711390279,-4.902611959564285,-1.1372237883533005,2.6087337472939556,-0.1977894241379321,-1.7034485191871909,-5.922720145564455,2.8844339837175355,-2.210999925799889,0.7604729203223366,2.354046718174084,3.8782284619058203,4.102440949511365,-1.487052302873038,0.2964088027108609,3.8138175385323763,4.405618578585511,-0.5972232242348738,-0.8145438585335851,4.524569182650962,0.905194281125695,-2.726908580107598,4.125490898877658,2.4738410089887743,-4.343845651093403,1.2877541365638763,-0.12356795738664417,1.90696660807997,-2.1512349846597414,-1.8564583898473446,-4.78557806238471,-4.71387302016433,0.6945499221823415,-2.5226923253206026,-5.384101555272002,-2.330045898367202,-0.6604519054230762,-2.0023289335465333,-4.736490389476582,5.9680031642591285,-3.1023676036843533,2.134119817022537,4.221571595191026,-3.6215568064929418,-4.602938027435731,3.5911436256964944,-1.0110283615394042,4.7721723983796736,-1.2966576153572493,1.7294600161564748,-5.4485123901033266,1.191633129918106,2.8463969236830344,4.908562238688502,-3.196624392514272,-1.8631144011166967,2.584452741640476,-0.9854678966982124,4.0265118406266005,2.4493978002932106,-0.5091434346138701,-4.530933200799073,-0.5044118424808044,-1.3908279383916984,5.908827379485501,3.5501360859138735,4.245393314649537,-1.8685938125737742,3.128580676095922,2.132478716098067,-2.5857520580711295,3.588666616337518,1.6433246085860924,1.6385126190590906,-4.12923249717617,-5.729120131781237,5.2266959551344385,3.8483361907065223,3.223855013114772,-1.54977483421834,-1.1711784431303727,3.514268104979344,-5.192781202775281,0.5351342457631798,-4.666560544558017,0.5550350706894029,4.833109662084366,4.8023363195665905,2.5695729750122265,3.303530691772412,5.308521226962608,-4.295159211041458,-0.5963259267269123,4.8814253174478,4.346141823781007,0.16872703321200078,-3.5860749587049985,-1.3867575262749847,5.356461637767669,-5.488175165967412,-1.4030474113980382,-4.9133299497431295,2.5520951836432957,0.06068831488417814,-2.5004228147026915,-4.308511627603892,-3.5756798916958448,1.170386086574787,1.8360067256830686,3.251169268793838,-5.276748741619411,-1.1862482624027884,-4.776954257008338,-2.383250411552339,-5.207712925413928,-4.871878042493154,-3.094120268859769,5.991468209875368,-4.037242109288294,2.047311782313791,2.219024184802766,-2.187454604174132,0.5741742822473919,0.1843721972778276,-1.8421521077360286,-5.417775674359814,5.0409397020047635,-4.70513878661952,3.6736048858549104,1.4888059259652735,-5.4860474852104595,-4.225113029302123,2.3838678108323457,-4.158824568085187,0.5796717409771794,-0.9250086508574098,-2.304415778286723,-2.6574206509842617,-2.1721442799025312,3.0276255434960753,-4.832955362239282,3.3860705220665643,-0.949154408364234,3.4163937405757814,0.07318139182949146,-0.9228724582399881,1.6285527047377535,3.249995416690407,1.0439936632365647,0.9850438002059612,2.0094790280962034,-4.333801529314559,-0.18540587561614963,-2.965760093644661,-5.561345838443474,-5.414093686928517,3.8252785519392116,-5.005553276009297,0.4209015894574639,-4.445792995086181,-3.3417717688637496,-1.1818782459782327,-1.408170195793982,2.117254474563129,4.631629486870809,-5.04669154626556,2.592122924494136,-4.983192702542958,-3.3248673671994484,-1.6222704576429692,5.235417191909228,4.97260854277534,-4.229972902916693,1.7859079528996693,-4.781695057816288,0.6710931842419328,-4.867226190836688,0.4605664298214034,5.362071683440368,3.133544249979966,1.5303088812369658,-5.439215873047409,4.871487445181101,1.5466872714055278,0.654311459954183,5.727232922836313,4.061595804712212,5.820102394210995,-4.754049581878094,1.0227145987319037,0.2698584285916734,5.000625602063678,-0.5280935810664946,2.6724305731040907,3.0739647032443447,-3.320308292316945,-0.7607233910811795,-0.5816744919936108,-3.4614785807729005,-5.583893122673071,2.611295056849544,2.9763215465892756,-4.969596441112335,1.596985659770361,4.738746992457978,-0.19234610532710228,-4.057399778769215,1.44529843901583,3.1861667493268904,0.7030547437121992,-3.529977073949389,-4.861091926880507,-5.0723168015970845,-5.475563068100705,-4.207296865867161,-3.070279204580512,-5.753640168107999,-4.9204970927931395,0.28343307814205687,-3.3872433429495854,-0.44989270772546774,2.7549121057274597,0.2851652311451769,1.0901400823957976,-0.1324923728710452,-1.489632137219953,4.536592051924757,-3.0984427829672034,-4.996880188369476,4.948285031579701,-3.4145366549862466,-3.0307586970910396,4.42844542300463,-5.002947292008379,-0.8919934380610615,-3.893835536879555,0.9480894983592609,-5.974496669890887,2.95544980279843,2.698954705215085,2.6692719189208987,0.8316020591695015,2.996235207180588,2.7226099563257016,-3.493507826752635,-3.7292641775528677,2.805009234260826,0.36247426139902394,-5.4269712893007105,4.928969093654663,3.8484805196232124,2.278127171225094,-3.0629109677297968,2.4017744979236575,1.1992454978350242,-2.622157010097773,5.188567330523661,-3.5185274878056845,-2.625636969004968,2.7815029564334353,-2.510991033116088,-4.260154153500498,-3.432672668463471,-3.989731833807856,3.249748527996493,4.010861344800556,-2.349398122187686,-3.9781590107073708,2.08057811022168,-3.4846147890796275,5.475502029163959,-2.0124173092705497,3.113830252055541,3.9300491445403125,5.9865078072773805,-1.383489995846812,-0.6177001671953528,-1.178897811525795,-5.128313516340384,-0.27257737672233695,4.671357577292609,-0.6715019397259177,-4.784213181463544,0.46251480893740826,3.9774097397359913,-5.139040595613194,1.0463707696914746,0.1606141318243548,5.383135012116568,1.8335905731198157,-0.1879831019682925,-2.8677064865485162,2.0156192063030716,-0.19192372263761648,1.4765543649886448,2.778427181944286,1.2061637141749078,5.193012943358555,-2.9475791912588463,-5.964316422007286,0.7633610993397841,2.112757288929835,4.946508672330708,-4.3185395048814925,-0.7805735398371132,2.794243869001008,-3.7602051503342846,-2.789386193439322,1.004433742284344,0.5836880655178724,-2.4751578717985745,5.945006589412781,-4.393846815007164,-1.4301582063787048,-0.6842455515803891,0.3092050620524702,0.5524087810212492,-3.8559492031766633,4.725448719597788,0.6453899859552115,1.037301480951447,-4.313008380255631,-2.7803984249724105,-1.3026450444573205,1.5464112235412193,-4.226363130903874,3.1562403358951148,4.0991049086440725,-0.9150650891492216,2.432435149455248,-1.1900895469366146,-3.0892085763122985,1.1395135753962151,-0.8902985125037297,5.482912580769288,4.8923277891481405,-4.588108714194783,1.4402376995895008,2.5458798937186167,-1.9001588187947824,-4.854926488655825,5.786257484075858,5.024412148561204,0.9935187660115172,3.770615498073017,-3.9651163042166857,3.112228236498572,-2.03389795970604,5.908524024683393,4.259959376999344,5.123502958757189,0.30738068697043097,-0.6606253876651422,1.706342140269907,2.2518567514789503,-0.5065799594613516,0.3088305187137852,-5.791335444753516,-3.0045045579384375,2.429510067228657,5.487202640741264,2.451239623365135,-4.662460234974327,-1.9054371203870666,3.4119214150748576,-1.7780392603290238,2.709231230547827,2.1767487350320884,-0.11047913545122867,5.821328815866526,-2.5991960827081413,2.9574903882423804,-2.0554640743103336,-5.056939034179917,-0.31139699420034184,-4.74817862374289,0.8256068177993132,-4.260629374158573,-2.6487231963267495,0.8453338675147268,4.969441292366145,2.4607202710487925,-2.820845836476153,5.255785206596682,1.1339119699936733,-2.4757252787238992,-2.1722389226525123,-1.3755110923659881,0.3709767926816365,0.788881424529877,1.0892334197441702,1.25645620900465,-1.8186268611488838,-4.602455762636417,3.303573787163483,-1.5387816197031565,0.7123542191934478,0.732473286912839,1.8713645704508224,-2.8881000629393747,-5.890705491415982,2.4081415093158682,3.4193913761212595,4.727341512615709,3.3230204324404156,-4.986880839312729,1.1924180793045807,4.267407348078166,5.3348711946766585,-1.441223835268854,-0.9730424888569242,-1.352731327206401,2.7903708168285615,-4.797371157495059,1.3866481975098992,-5.9386394029692555,-0.6863409956779929,4.342968332799398,3.371798101018001,-1.2316603203133125,-1.2017163762493581,-4.563713762578822,3.7575794798607305,4.484015153587311,4.198784510060566,2.6972085323472577,4.760427621666793,-5.25767638424318,-5.2862129671877796,-3.08240648726271,-5.761639958847161,-4.5096560537988335,4.203807495820223,4.47971006576379,-2.04558477315287,3.5652072269217836,-0.9429858978757153,-5.150713889482002,5.214616382736557,5.679108250997636,4.160999585368451,2.6071466462820148,-0.887756095302457,5.9665783066571,-1.886928630919428,5.791300135134456,-0.9126738134143402,-1.175357066352694,-0.6643945421528059,-3.99598613320341,2.7956143388419328,-5.13171907741164,1.386816994354385,-0.5552200318155975,-0.1729843094006629,2.746316971064026,-0.2965346105197071,2.4794040476337678,2.950324010785785,-1.6235133174510983,1.2733567801811834,-4.910841343480077,5.303185273297226,0.12235813693278885,-0.11297351384324195,-5.320546300387631,5.44993152868936,2.643132443617393,2.136487953573047,-4.7471392262581205,1.3065891951364499,-1.9627349368049138,-2.7950876337961237,2.688451141838062,-4.85527212256356,4.237615496671072,-3.6342131293081428,-2.632142503398314,-0.4217168369527675,1.7361490914835516,-3.137817057293917,2.0061862530417507,3.3276818649768565,-0.022057473327009802,4.875411347542444,-3.7648680996160646,0.2788972171367021,-0.2869631352542701,-2.359572360636803,5.745115049157594,0.9729331563627648,0.9707991731723453,-4.180929021839639,0.11292863061090497,3.275163133146931,-4.392403046265928,-0.7538863807751843,3.8204949601037743,4.0323011203401915,2.268874523484577,4.333826177305049,-5.966551589582733,5.709550538678792,4.370555037196402,2.1126342861303247,-5.060353278925531,2.395657141845785,1.0491328250301581,-0.7514030726647905,-4.847013221360509,3.4834047526097542,4.880203843905093,-4.82196051739714,-2.7157120909001504,-0.981926387287265,-0.6181751139701266,2.512833445573712,-4.992998309310806,4.074793068959767,-0.9726364679575719,-2.8977844238018666,4.320343723995331,-0.9049927944450626,-1.6739054145756516,-4.152470492369588,1.1335973491733977,5.462178157180141,-4.274521300171083,-1.7857361486793737,2.705731537984459,-1.1944928133370354,-4.833778933993993,5.9565301623602025,-2.293062164988396,-5.632873629468821,-1.7818140197280181,-5.6377386422183555,-4.847114995562657,4.772954599537611,-2.2827739340448434,-3.5023153797755358,-0.35842348847646566,-2.7632193084156924,2.960865537014966,0.9587072180423641,4.423646620876305,0.1035055421945712,-2.3996048622961785,0.5601435601416664,-3.0774622201757884,2.2778451043245873,-0.9179023897900507,5.198356963809822,-5.49362714691974,1.3885877070919141,-2.6635668158382586,-1.396230576846916,0.771212969279035,1.5081178160689106,2.0747567136860994,2.496585735942025,-5.616843473185245,-0.9746894182923995,5.515213113618568,3.042723040331474,-5.657466690165039,0.9122672233503684,0.5936322155473803,-5.053510191516407,-0.5030684868181527,5.239818828685568,0.6933041616178297,0.9911809600431409,4.163794736033713,2.3705097815236726,-4.168593102361349,-3.180198469294009,0.3951441658677055,4.188671428278987,-0.6172021747952732,2.3330970504317623,1.3029523630970399,3.144256204043634,-5.302251590124488,3.299706539707355,-1.6957589509760567,-0.023485741147537986,0.01945698933888451,-2.191456091302112,5.882314297909819,-5.243747222598068,0.44668070842870655,-2.570167259379855,2.0831770490990316,-5.324374127598416,2.1257027787975566,1.499328531045287,-3.990517633773457,-3.0897786967379197,-2.0750677974755423,-4.068698845908787,4.856714882684972,-2.953721885095078,5.143252308064161,2.1636438425389777,-4.797211951449162,1.2828015509693182,2.1234951895309067,5.8335268743134385,5.5646415085321905,1.1686305103396517,-0.8545261771524792,0.7177953373292194,-1.645618171588275,-1.399682592328972,-0.7057651292995306,0.6357196300020558,-1.1866414342924596,3.0219811057394637,-5.083315082706326,0.12863174217934947,-2.3421312574389597,5.131549468686654,2.3456952264853044,-0.30539181337877963,0.8003831159293116,-1.859415202260541,3.531396031373113,-4.57032491949459,4.649528239033177,3.8088783409969498,5.480065682798145,-1.361804396019478,0.8222119309205516,4.423009469691378,2.3013867556520466,-3.7168940589911887,1.872640327745282,3.5009656036555192,1.1354980156429377,5.450537675771706,1.6625934677992156,0.9735711791907207,-4.435569325915242,-2.3196900197424246,5.851037614507174,1.6526874705537047,-3.3674802291034176,-0.47943309773194365,3.389791027780749,-4.01013154867006,-1.7432216479342824,-5.009543231101591,-3.260592608652946,-2.775366025298366,-2.238516786325498,-3.3431548408350173,-2.9878280970319104,-0.6390957603439418,1.997612274372388,-4.584675256893009,0.43307268746969463,-3.608750409708685,4.032061707140711,1.145963697044202,5.520519591366677,-5.609729512414232,5.967729351090398,1.7285781770667983,-3.1123950570498957,2.3597801814815185,-4.224536636390285,5.1868012762598354,-1.4974220601125623,2.5751604103773307,5.778512267795774,-5.422436351862781,1.8565621771908347,1.832263637789107,5.3290374767438085,4.993016958245281,1.3946092404147468,3.1250977532407465,1.00377573885131,4.969904182496535,-1.9487017615574471,-4.952824653711739,-1.3605630046595403,2.223663067374387,3.0907889905834214,2.176461361062575,1.5922863181907712,2.5154551306117447,-5.242487708690632,1.331616774059392,0.0743751163763795,-1.3527055643330677,1.0420613026262737,-4.795608712660977,-1.5989192395238119,-1.36468056657956,-1.953041483989102,2.714317848549566,1.6237946712488665,-2.5641942433738842,-5.973104956900446,3.364746603023452,5.4868780429812,-1.3339010365486956,2.74802151492098,0.3204497528646755,-0.7726748849851584,-2.7569281703312405,-3.8950186282173713,-5.917543919834229,-2.394730964930426,-0.7492315546502235,-0.9595562533734876,-5.753518534929612,-2.539744430543769,-5.6562089152290955,-4.582728443528172,3.5107657228780873,1.9361725634840763,-1.7946701835873826,-1.6359987821461806,3.094444773740756,-4.563301363067984,4.274548447632721,4.0950034105056705,-2.748120756949762,-2.4028152170474546,-3.0682867022341647,0.3888917701769792,5.944519574882994,3.0873473867793066,-0.1771207537020114,1.5355491282380704,5.475028668526145,-1.4821602002939969,2.33494343342009,2.720092364215768,-2.218347222380221,-0.8519619279397297,4.247340873407117,4.635688844669168,-5.100471038060068,5.2046382214305,-4.690371274505742,1.8530838425206806,-5.683134775271661,5.056083084482758,0.11096368567041814,3.3087832280595393,4.718849250539273,-5.144335465952389,-0.5415772516119546,5.6262836264114,-5.92524632452994,5.522977110875761,4.5409548730124065,3.4742136252102362,3.995303988356177,4.980019907499903,1.62703142509314,-4.653901805711609,-2.6409156659381403,2.051904072280365,-5.5998359239728615,1.0247955040960637,-2.631073382366119,-1.6568758120936815,-3.397744930588239,3.7252936785675494,5.9933825045911036,-1.4881461943174985,3.9867519076159503,5.1195909025288024,-4.462513133320516,-0.9135838948294088,-4.849381525787999,3.3827376678660954,0.6847282450025052,-0.09721455213093488,-4.789204515103731,-2.5208551458538815,-0.9450634772488957,0.5476196182880333,2.435473946297183,1.551099507342756,2.902557233262817,1.159267174890485,-1.2918369100940197,-2.475020481823383,5.9434324133136585,-1.4534933342173346,5.010716556222118,2.902059275674514,2.739519218434994,-3.3586468835303838,-2.234401899268171,-1.4738589476517268,-0.34439818861437566,1.8204707104984372,-3.9913704391767215,2.3362596607031527,3.8187991241090096,-2.7574715572385293,4.7628387507434375,-1.749790383756288,4.454608072248968,-0.8072175832146486,1.1825581409850168,-4.120230604671584,-5.670922260131591,-5.154466775753534,-0.0030710033466334608,-4.048837634523752,4.02871025437169,2.039535975352347,-3.402868869290434,-2.7863507509275394,3.5886935622201417,3.2477503570117694,-4.873699703847814,-5.717721599725248,-3.153460027307448,1.903292611618733,3.753963770111703,-3.8461983628419523,4.990359279959534,0.0939077063096363,-0.8178926753210867,0.9242986599863592,1.4729124388042143,3.381100672551618,-4.451781171388691,3.0556267293944206,5.055096448719626,-4.220681066308386,3.8321880120500538,4.37699663081991,-1.606772483676865,4.186456986283535,1.801729813337067,-1.6207039337123916,1.4608844756102748,-2.4168123596693123,-3.7478083779132607,4.202335444403747,1.965936062314853,2.5845116631977323,5.720092022598941,-5.835528868308325,4.721497512986666,-0.39400484760664867,2.639886533051257,-3.345790311744127,-1.8450498010582645,-3.472549590572854,0.7932928319096213,-2.094259840106591,-0.4254640928062212,-3.8019398398875666,4.556590171502853,5.527302357662338,2.4276027012639094,5.129023587765946,2.550770549343518,-1.895479108581707,2.134994629266181,4.5296111098649945,0.12544927870568578,2.863351584902645,5.167572418316544,-3.312373447029747,-3.1419020288333357,-4.013587398994633,-2.0742887617472743,-4.346248694094852,5.148922437526785,5.1868498369290155,3.8086250174032585,-2.8822543094427626,-0.2529632510128321,2.2619165454887007,-4.366194257041908,2.209427910867932,-4.046027394275784,-5.549594593257281,3.1944420882139255,5.1428423715222635,0.7888759293974594,-4.21446742737181,-0.46844378243452667,-0.0918355916239193,-3.5214002113748935,-2.2774265778567977,-1.4315583606737219,2.365428984413823,3.5451519568833216,-3.060469217799051,2.9504706718588345,-4.765147588696877,-2.770387083735895,2.5722694654011136,-2.198691181836226,3.4422379675636723,1.3320420644272986,-3.1446187805380275,-5.343513104249681,-2.1362753129192855,-5.317725532929305,-3.470555152031079,-5.086236851942726,3.1389753350860534,1.5989344569712767,-2.4957956463048325,-1.5298737493096795,0.07184554601404791,2.825614163861646,3.196044566358859,-5.760941922122045,0.7129250748497817,-2.289660967582915,5.019021868991334,0.5225855935314545,3.588930241737989,-1.1005053415186783,3.7325007406814343,-1.1505566582721602,-3.2918003467610037,-5.767079001211169,-2.1864201225548334,-1.4602758666846336,-4.030781647045951,-2.5309159094314726,-5.7080188169176065,-0.65481354330083,-3.5178615330407124,4.99038060548903,-5.374681774138134,0.4738763335590761,-3.9845411077140063,-1.5847572640776235,-4.8696983721358915,-1.8294412541193443,4.806223705219692,-4.5410086774897405,-0.03147680439172795,2.7146072340146095,0.8266433201236412,4.792214642188409,4.629379728875419,-1.3768584504672123,-5.107775057815077,0.8059635942848793,4.52907474142428,3.013348067589181,1.9290921208444338,-2.0146591352659633,-1.9089646691953046,5.065674548812268,-3.8482452886753724,0.014161964414811656,3.091601799896564,5.8280577379313385,5.306154272504337,5.921166551775567,4.0003210011555215,3.3554423194852205,3.250880327259818,-3.4400321051968965,-0.784941790974452,-1.634842160179093,5.939951887834923,-0.9800750907935427,1.9239432759197452,0.6805818647721829,0.8895771644923425,1.4374357828722255,-5.007750030967082,4.90676267357526,1.2418395417584707,4.175408725018237,-2.6674222702063957,-0.9996223337467098,-1.5100174925477985,-3.7842997839779273,-1.9795232890764503,-5.871765397307927,-0.5615410466564814,-1.2537759859893152,-2.8645906086109245,5.288277827370674,-4.6909259248129445,-0.4994870912261149,-0.7212405867300316,-2.6256180930434447,-5.140837980935326,-4.176067724567499,-1.5136696141810493,-5.438322300696976,-3.8628741673871514,2.230285785796312,5.6624278864467055,-5.311635346947547,5.501866395508349,0.5742660069334313,4.807053025857908,2.4431770744813956,4.243564452355159,-1.4336859804284456,5.73852689859166,4.969485561911872,-3.2458969198747947,-5.253778421907089,-5.3707930107932,-3.5261641244022655,1.1875757591577898,3.6186937109701827,-1.5755834878765373,-1.4137786377526247,-2.7907482555774044,-4.7477735046628045,2.739495736248534,-3.4132284887938,-2.35470505832188,-4.241988970242508,-3.161750351644141,2.4470776410763744,-1.4980521813810892,0.7579996203328783,4.313293979650236,1.9503324544340597,5.761560153917644,5.353874025302908,1.9446534856871427,1.894799013389724,-0.06923554886977534,-1.938045235598377,2.923165438938227,5.478947470365293,2.158252613188081,-5.909385160658141,-5.662196920347853,5.458793406854619,5.393635559604325,2.46129807829014,-4.30594134292949,-3.5776126117379783,-1.199826481473476,3.5859529351816857,-1.3688001885860483,-0.713674982837671,0.2581879462834493,0.6157676820204951,4.265817920307317,-4.966608943518135,1.4315282937612714,-1.1183267203994127,-2.7819544234975186,4.242289536982259,-2.55307439146362,3.5352776895915508,-4.756904132836192,3.8667867250891863,-5.058964105262408,-3.130631991474214,2.3599298941576876,-2.3362140333651737,-0.060926997454037846,-2.97060247971801,0.4785449323897879,2.160039208218775,0.040174293331439515,-5.952109739239832,5.415967364793383,5.464589056288029,-3.631142369000057,-0.9691851230712452,4.3339871299631625,0.22531574157167356,-4.07410559347883,5.994389141364723,-5.447414819302735,-1.1658580617339585,-2.085650142923534,4.864862173045566,1.4551978508552246,3.674797283740144,-0.0879642970306973,3.0630312760759573,4.031022877038312,2.076312469556674,3.150601644024073,1.3707885098137282,4.546493231050913,-0.6736438000072127,-3.6726638001266396,4.113076486269133,-5.436635788697346,-5.990273315654491,-1.3073313879911819,0.24730987585994413,-4.9881902396325675,-3.033563583895736,1.9086307088243952,-4.41864935584716,-3.365656862541431,-5.935969217183253,5.831575243212091,-4.951410333571751,-0.9508825112468502,-4.259849242193917,-2.2103709213379608,-4.203259755993682,4.672840726587644,-3.7066850425723676,3.206328282539044,-1.7016196877409921,-4.49722327055323,5.762155026647395,4.062144720616686,-0.8572178390886638,0.4054676386436604,2.4919612223547727,5.0903439108178965,-4.562266832964187,1.0868552156184315,-2.8404172458132724,-2.1786579028986544,5.0162848428845095,5.478813856097215,-3.3132668161461973,5.449188065478246,0.7678238874285865,-2.562564018970439,-2.209137746790144,3.2939001722100993,-4.859724180508097,-5.0948339093568205,-0.8348418401380044,4.448074188689244,1.1993164373841596,-5.624063984060811,5.419055259227083,1.0468069096779846,-1.1351986849381301,5.4593028138866355,-3.734111929286966,0.45186931656643914,4.942825302411112,3.121925349922842,3.4940855432013365,-2.071516137641782,-5.0682346982587205,3.531416566261253,-4.365748117173077,4.862727361130277,3.2178452916261246,-1.2256664799030812,5.240539845198823,-3.307919427403213,4.387266930314571,-5.15005283159888,4.965621281034341,-3.373662508198003,-4.837377717652624,-1.8071781831431295,5.071821079991491,5.543085227234222,-1.7544044968730672,-0.7001819083328158,2.2842754016736606,3.2017638960515704,5.422532332521268,-5.411714072236223,-4.418251681280092,-2.6404214598167566,1.3065304586241098,-0.3684898692758791,5.913004143821169,4.620482192864458,-4.456590709205146,-4.0440471500873585,-0.9145467341101092,-4.912941835531037,1.2441681440093255,5.413103405167863,0.07900051688811427,0.865122210555147,-3.24748783176574,4.752539024582944,-1.8654498763347078,3.5453513296029975,2.4637044802801,0.3231952251456045,3.06368860438527,5.334951975748396,0.6398793732678847,-2.3381745078509732,5.432043261448808,5.528004483149479,5.062083504286331,-0.7465346246782278,5.854983129250719,4.002110872513722,-0.7968557280614297,0.42534297498028284,-5.363049166895298,2.581600388226942,-3.5958840524604354,-2.7747472921691556,-2.1160649082686467,1.936432243591577,-4.728747020342788,-5.432480331621322,5.607990865771427,-0.6844351625582998,-3.161351170754001,5.81208163831568,-2.095551397054959,-3.942852191726506,-4.2868333112685395,-0.48891967449800866,4.658453257331372,-3.1622079738903515,-1.0065780863154217,-3.981954227823684,-1.5192459527764006,0.8641148512297736,0.6916367570383244,-5.631987496884055,-3.9794614364654937,-5.582989548984927,3.7698641448704766,-1.639154471243713,4.466259066449126,1.4308140513692598,1.4206892659004637,1.6127096394418237,-0.45522363335019733,-2.1718775031516997,-2.7650640780266866,-5.8267341527963925,-4.378566454732992,0.37003014851367055,3.0748709408201496,-4.000498050705951,2.71880078418501,-4.203871592695471,2.2423232647367346,-4.510109318118026,-2.118624650739861,2.9525541968820566,-5.821736148037383,0.9614858444097081,2.4472878247439898,0.37588093683092083,-5.001063565731416,-3.676737175663214,-5.343160563699287,3.041168596482615,3.9271633408043254,0.5864051433614401,-4.568421079772042,3.883523771498364,5.913707349685218,3.4788685500603123,-4.799083917869334,-1.209403801322516,1.2271190239384424,-2.18638223168278,0.7579018829056512,-1.2977427766075333,-5.036351597417427,3.8985725043742896,-2.271249480299815,-5.418015004734713,5.316708694660289,5.945324536671972,0.9089323192184526,-0.4836511157524521,-0.6343089192933391,-4.643714222994888,1.245847650647379,2.238660875013899,-1.6424560023852441,-2.368100690564071,-3.8235060307100373,3.385450803965316,3.1144250175401886,-5.891223514992328,-2.8821012521696243,0.07458164348201457,3.1085824783547995,5.72794449715367,3.886256050041041,-4.66613310570372,5.708205023542336,-3.195205323573306,1.349526157047725,-3.6888217433575266,-4.1920697923044585,2.4020881353061405,-1.0550705723965574,3.4230525478599354,1.1775110824109865,-4.488420291517432,-2.409517950916779,0.21605373431546404,-4.791849324966247,-3.324392912346965,1.4215994109712486,-0.9646487537883148,-3.982861043608433,4.037769888202824,-3.6875875163478176,-1.2931752582369365,5.547643459471843,3.7363274518033585,5.895712732435831,-1.8171033155189917,0.875136931395442,-3.3571466770739247,-0.46641288726761054,-5.389344402143286,-2.9688784777542,-1.4512887816528863,0.1748117172210195,2.6928664404557985,1.1441377314687546,-3.1308474464372154,-5.430398295049464,4.4235679161820585,-3.3199919303649432,0.6135671345036471,2.314220399633072,3.088572297468417,1.825032194678652,1.8530799273739884,-3.4288077729204653,-2.1044971034167674,1.9814300333778663,3.9105800832930484,1.5822012087188986,3.1986994043731265,-5.5478778889194,5.494092142854427,1.2751964767371131,5.258236001167139,2.0183928716571096,-3.022233903397583,-4.065921447265954,-5.680070743461634,-0.1996795492327763,1.5841235063404149,-5.298766109093661,0.723994878978333,5.1315726280035605,3.512726106272453,4.524712527375279,-2.5453697798550543,4.322097955002363,1.139744773081846,0.6579953367393871,4.1680804020106095,1.9619450237169511,-1.296965498606525,1.1957454199840782,-0.42617023129388887,-5.740348605400486,2.25559555098347,-5.9804858655452655,1.6656597821898949,-4.545319317534295,0.13282285230395718,3.1713825486671627,2.088720616770498,-5.093835166617165,-2.0239234122978687,-1.436516432392044,-0.24539044153826683,2.677937872563424,-5.946865276038277,3.3255019284300893,1.4121985594760211,1.6606058314958752,4.80719140295251,-1.0124510709242927,-1.2060006691549017,-5.520987980955843,-1.2118258507181494,-3.717648253833455,1.0979888551580297,4.3288351633564055,-3.5568268507602485,-5.920442176306219,2.116016864221308,3.2654353226511734,-0.7021301928529589,-3.7912029635153632,-0.7390002059465024,-0.5407714462443636,2.1155101864427124,4.476988943287584,4.470011704656915,1.2119527407307,-0.8379097680010261,-1.4269505518224435,-4.180037257833219,-1.8940443237988713,0.4042894593453692,1.3392191229257913,1.58667739275519,1.0655866700449987,2.2322135951741764,-4.80350877042135,-2.1299335521465164,5.4035678379776275,-5.597404758370267,-5.081174315893067,-3.1615686961319684,-3.0109127079079534,5.999732094903255,4.014588224919962,-0.3359411784907156,5.829140113031592,5.962386792452815,-2.2103432046913483,-5.324240709610219,3.217352416098267,0.342908883037385,1.7912468134769748,-1.2746027862050795,-1.4217241254277795,-3.030977909413947,2.295922298336821,3.2635721489866825,-2.8229549210140488,4.140241066946967,-5.535007585747856,-1.953603880385427,-2.187436659600442,0.9470334400730849,1.8235825885793613,4.032935006407616,-1.6220282241059003,-1.951673160921045,-3.858799742946572,0.5531013719070739,1.2648765549726555,-3.2528095160524235,-5.256806788787198,-1.356569621318691,1.5208218989024207,-3.098546358024353,3.156559864343592,-4.459630736797496,3.914346431274218,2.7288430286265317,2.0939995532419378,2.218667900712763,4.303195816745518,-0.11438654125070702,-3.046608830299019,0.6092923573996014,-2.559102914587197,0.5031066049003883,-4.881893397497008,-0.3984475763575208,4.038433546911433,3.5960418157966743,-1.0386172406475938,0.7930570558025956,-1.8620067706401588,-1.6917271742013087,-5.388192535764816,5.709947755689514,1.2588627089823934,1.330121498888845,1.4995642961941655,-0.5627981142589507,3.0182782588694863,-4.0444932363559225,-4.549186175408554,3.226624594273833,-0.0099515884897583,-4.736599047025731,4.9506942303441335,-4.205950835462732,-5.5251582385150035,-4.645539018492832,5.928435946756279,-4.154353502620371,2.9713130695588035,-3.406998698183193,2.593063195540834,-0.24816183020427474,4.1067141583951,-1.385400623473319,0.5967310974066731,-0.07089928712598237,0.7102328898184993,-2.947567768322299,-3.695238830990882,0.6516607174655267,-1.618316538025578,-3.571436059125035,-2.904715428193225,3.607597332642877,3.8860825272598234,-3.473180639900234,0.7250356380623266,1.0512028616125138,-4.946224556129376,4.919012153700304,1.9318076768750405,-4.72072941563143,1.7349535781183647,-5.544623127137349,1.4166017471149814,-3.1712644344375414,-3.109999267502813,5.36688153182989,4.120662493359138,4.422859824830022,-0.6035916066093812,-5.8117594259087895,-5.440703217618459,5.574580672398078,2.397609545175822,4.0617065609852965,5.062380090368979,1.2564735880852833,-1.6842945736774002,-1.805901428237906,-0.22034425973161653,-4.40613584008023,4.5781658513898815,3.3251832858088797,4.971421865312097,-2.274446881507488,-1.7569297079916604,-0.3254449416126839,2.541050182619358,5.97762499903585,-5.2404014337807725,5.514651565956951,3.4784849974025622,4.680407061215213,3.012071016342965,-0.5157656050796007,-4.625469984409125,4.501381211243375,-3.5940822982703278,-5.8897043579852015,2.847680995579033,-0.9377982564126368,4.5462744214668795,-3.665250298346989,4.2397996762018675,-2.0489764198761153,-2.197565493203611,-5.9022492118930305,2.248232185341161,-3.0136691234928614,5.892830571214034,5.402495288382905,4.775618212524378,-3.2062525585011525,5.050872117427966,4.828131482466098,2.328267022929902,2.5370944308444265,1.5533219495388089,5.169860716769591,2.7227940425653134,-3.796731309729615,-5.412735370596781,3.6891472167216435,4.726020642096312,3.5743402534142135,-2.651661056365627,-5.186801533324573,-2.849350359850255,-3.3013310717850404,-4.07881271127459,-2.3742222928186947,-1.3647215542594253,2.813712677225787,-3.6750501199074246,1.8041899140159803,0.698517134011901,-0.42142398351899324,-3.8632188025837775,-2.1543076163824826,2.5934778333460233,-3.279553293063692,-3.370154858766961,2.715111315763922,-0.9825519177453179,3.921821342004309,-2.9013907244552146,2.406471550162152,-4.037311330866497,-0.2345125203105871,-1.0262303475817758,1.7887386434873171,-2.8770018466092364,-4.646600653367156,2.0812871410930054,5.952960280063337,-1.5749711620633722,3.1052977448676664,-1.108089891964017,-0.7781365204276014,5.698126696493359,2.500169312811508,-3.247739333307896,-5.679220455240505,-0.5499540520159165,-3.139079789101557,5.875772324169613,-5.178567207535303,-2.9030198407196512,2.1660313927554125,2.8001257601394762,2.934292156650887,4.341479534197674,-0.21812551133855962,3.1483634665787044,5.157426279821474,3.2503815203271067,-4.747562820047331,-1.4168789911177448,2.0566767923674174,-5.032014988800547,0.019558860592722382,-0.19578439127576885,-5.900287311263924,-0.9973460500771036,3.243506324641281,5.4096636174949,-4.529078667122471,-0.059065246637631574,-0.8578753249357876,4.216369894156372,5.556742670264459,1.0851848618405473,-5.07615375842313,4.771880573318638,-0.7116199555832665,-3.9150235170185823,-1.185917914328373,-5.440948220436714,0.8544146859776278,1.8953956627478874,-1.2367676614555432,0.3944345190013099,-5.731403763829576,2.0084326429105097,-0.3138983198177083,-3.8586802219628127,-1.6831987544831568,-3.072669679706369,0.9400967469044774,-2.8385370793049436,-4.1035448814791256,3.55533125104024,2.1263991711579457,5.854483423058181,2.144084654862686,-5.7821229918275785,-5.006949175021461,5.57317109950144,-0.6406545803061263,4.607227791556518,4.244899424315879,-2.369133732659127,0.9558713246843311,1.545892475579353,4.613273762298661,-2.6466891820677256,1.0282910590635765,2.0737595525460026,4.917215016563798,-4.336902505566448,1.5710412420117041,-1.5368809109964836,-3.341318652377199,4.594018307943909,4.143101169037777,-3.1984474076652196,-0.27661596488693974,4.188128499852796,-4.29134408321222,1.7011789620095978,-0.05579421480540514,-0.8380214623143285,5.812847045603927,5.609268378040063,-1.05695091694479,-2.9671555068383326,3.5244113323248936,-3.5535919812728913,-1.2500880535360164,4.194549914271734,4.1127988048711845,-5.698345795500835,1.4454339787179267,5.253027902167293,-3.918860973831268,-5.374650436148226,5.213553880923573,-3.1436851559413586,0.3672281231556873,4.166682839479503,5.887908180377208,3.960201598263632,-1.8417371710423724,0.33858424515948915,-2.3258091571366273,0.3266109410946729,-5.665958547240113,2.8860903973077576,1.2046973298628458,2.058283998232657,-2.602135436940477,-3.687751068020905,-0.6417309072981716,-0.44202579715981294,4.0025824125055856,2.9464249840758274,3.456756452743024,5.046021133109846,-1.115013990702474,-3.5058576599182576,-4.243817612487013,0.34995916408803573,-5.215578488451268,0.4848330332821389,2.69306775621793,1.2943669962197895,4.149840888972291,-0.02248168745626611,3.297899485598755,-4.842037681948831,4.8346548499426305,0.6610748784841327,-3.347517322035788,-4.885078710305184,0.5909008026235112,-4.198298763258602,3.7102454996037793,-0.7543096855325908,2.7949659963253204,-1.4019651669299495,-2.7008988108761462,4.8221448178600195,1.73590589649071,1.7779183935172647,-1.484673965493693,-2.365739479716761,3.374948412961288,-0.37941786563654745,-0.07944908999374256,0.2820435023723453,-1.9283746612006176,5.978135119214061,-4.662551165177733,1.985879012117847,5.14816224991875,0.7014142003699444,-3.8112366910958975,1.5142708454903175,5.258675584826733,-2.021962649101667,2.205676774902132,1.4059513312707868,-1.8214950775111252,-0.05770454758015475,2.7390182050938403,5.92054056832492,4.790980778306627,3.0365577034390654,-3.9254699370964787,2.3678598969499234,-5.539872887849621,2.556914869097181,1.4062773308658443,4.740290756072721,-1.096067782691624,-0.8660180963668491,-2.989175600630403,-5.554492867541885,-5.816918502953071,2.0454451705861203,5.974168427704868,1.3219084869008348,-1.459851379159259,-5.396786396630702,1.4484428222122716,0.591584141365507,0.12318459498972878,-1.0269634586371268,1.8411838830049287,0.021388098632511898,2.3659272009550314,-3.1323289212649796,-2.3802028923643563,-1.6334961511327997,-1.1487886063762218,-5.313350772249919,-5.492060509740947,-4.324863781724585,-2.1936558219664435,-1.5091249077391247,1.0890044656803894,0.4353515587698036,0.11581004742140344,-4.696906377311991,2.155228197459513,-0.6519543590260604,-5.161965454038793,0.8948823745423322,-5.6312168827043525,2.2288821853828242,-5.944045653607908,-2.4395313876643154,0.6030144019865276,-1.0204877403603057,-3.769044793438267,2.9840464717489255,1.5297666516884805,-5.598412672200728,5.3792067453628825,3.807950892793121,-2.726525867213807,-4.235137736566012,5.723078359384962,-3.516546692234364,2.647923583838029,-5.9420712693219695,4.600291628500965,-3.605145915252329,-5.124066051645437,3.6845971287757973,4.0284938174021505,5.2440713013701075,3.184069489538752,0.832959411831049,0.9182520443216546,-0.7216388674016017,-2.2368814564479136,-0.6531457464116848,4.049981609828141,-4.693305334600533,-4.446861954197794,1.7445057175350671,-5.5848758868677155,1.0944673098887616,-3.554081914413948,-1.4183681018382677,3.2926728570235184,-3.019832136290412,-3.2782498887218456,0.8147533053940315,-4.249481718964834,-3.8326574582494106,5.0175996329737025,-0.8715581238857553,-5.520885474858289,-1.2112090427436595,-2.7384942378199684,5.127638782302778,-5.9199128703534685,-5.888141540391081,-5.313858354360745,0.20831085857672527,-5.509893565026851,5.574224772609117,-4.948346551475794,-4.522179980587564,1.2668819678061416,2.1796496238074337,-4.7638907104630555,3.4813137642236036,-5.627933960590731,5.331776213462337,-5.103369383866996,-5.18600931728915,-5.481509098632891,-2.8585201150903417,5.580699100904699,4.78710538532593,-2.3303406055523124,-1.8127145155504198,0.38250378663435214,1.6704566557447684,-1.9232811123393727,-2.082648499346869,-3.412637527550331,-0.991413189320193,5.2808968950634245,2.3720414006899,5.030620883316454,2.933339320581563,-1.3970552899210649,-1.2262504448952676,-3.1061159600869144,-0.7792529986447043,1.3841772384063056,-0.3654781843385617,5.0881327466425486,-4.392846057715927,0.6728067352142455,3.364294281120948,5.454118422781921,0.8506045223424543,4.414039964425472,5.25796261585926,-4.723282636195961,-4.490662443064295,-2.8887156019571365,-1.6378439356599364,4.249134506224898,-5.023910691681408,0.3800488523063219,1.7290358833620418,-2.8913826469449138,5.630584659427219,1.0501096589137084,-0.11871748927751913,0.0781355799532335,5.714495841292866,-4.441380420810033,-0.9834781036684692,2.963447526288574,1.7193064051426745,2.5124782168050874,-4.140891678701701,-2.942463636857294,-1.9425814644761523,-3.2558948363134954,4.067732369972685,4.439899800555567,2.3811051349027395,-5.0695907000614575,2.9264585757549284,4.289268223623566,-2.8188035012935018,1.251836290744265,-5.456871030030163,2.856707521588259,4.187866105439634,3.313763851748984,0.9929428836598024,4.424015826632891,3.089753537968713,-0.5756405699232658,5.89955900421335,1.7406881465794761,5.0211410703806685,-2.557246446695512,-2.315905846913424,-0.6529811270600039,-5.363462282114297,3.778811951860959,-3.414373515055714,2.3538954270065577,-0.3150950120253455,-4.897157673054295,1.425573903517332,3.615893153253424,-4.164796639897419,2.3606723069327824,0.178299047372656,-2.4745006021150204,2.9669365456046854,-5.984981682352586,-0.2003701565215641,0.4261932254861076,1.8954525411838041,2.1855605942555165,-4.081850295667659,-0.692792887730235,-1.9512559556714093,-3.3318198129072982,-4.065109046881959,-3.3221971886047785,-5.401793374351719,-5.71609995876484,-1.597540620168747,3.0218074882681023,3.2094765806490173,0.06198904009305384,-0.15736907068539807,2.179063005038117,0.8066628071875712,-3.139450812234262,0.7543756381217097,-4.334091863948196,2.729494497646103,4.634848091060144,-0.8506335287259716,3.9735576086788473,0.29695471492912606,-5.9725736048386135,-2.694967530173518,-5.164690812203165,-3.4372451605214662,1.0154671721411255,5.633846491943796,-0.6703681732511884,1.7785003123907064,0.3242026920982779,-4.737567057239328,-3.2593804722922086,-1.4237013854910874,1.9182916426872074,1.1981720513780658,1.2010983709009926,-2.830989259092947,1.3035443516827554,1.5409567995603908,3.5263217092006744,0.8712609239242504,-0.5067319793138472,1.1641084969705089,-4.81515316190106,3.994341056843073,2.6844383901017324,0.30394763953312154,5.9452939966074325,-4.040814818777108,3.6022876562062223,-5.066892938888459,5.731921361573296,-2.793617321467976,-4.487348863308298,5.123622283995468,-2.268143011000176,0.41015703523165215,2.581562606457183,-4.689843110030093,-5.06342044165463,2.744608297750469,0.7780226518630293,-3.165166310444855,-0.8501349158476526,3.749298739894419,1.8581012890711612,2.197296431024604,-5.74383156686473,-4.327565288216542,-2.8714861357835666,-1.4846169330655101,-3.762760822147339,-2.4043224632348172,5.039574807606266,-1.9975515881854662,-4.853103007173438,5.1105015125231965,4.766004190732218,2.5060219540018114,-2.3168251620921425,-5.436250238080419,-3.124988515449637,-1.7937559562953833,-3.2762487587637827,-3.727438936713568,1.8490121411666482,-1.7897741169898111,-3.640043592295796,-0.8271209037860832,1.1074078236100178,-3.794538823493079,-0.7485928569516638,-4.708122997366954,-2.0647206467979764,3.6874337770612833,2.602273745123334,-5.998689111390234,2.2510932998897566,3.782688063127509,-5.956935694338675,1.2460255248298076,-5.9433131626947056,4.980797323024227,1.7478525990021438,-2.939177622235156,-5.073273396561328,-5.95577327724881,3.874676465618929,5.548756810467294,5.673718436143833,5.278149362812883,-5.895317223217846,-3.9316656523535176,4.325810944742496,-3.150611067041821,2.8974159736140876,-4.652149024704212,2.3370283440093953,3.8108329324478962,-0.5542233656292277,1.5755789706766752,-5.365168902663575,5.138100320433217,-1.1455314670359833,4.93280182438842,5.6907776456730375,0.42121742956160446,4.311096752826147,0.44869855476912157,5.902563524087277,-3.5825709827524697,3.14270123372385,2.2299055609176612,-0.7428356330993946,-3.0420109979697223,-5.926445416281153,-2.1857899874113422,1.2804612133800077,3.842817054226515,2.012382745361517,-4.063749138861937,-5.764764509549339,1.3461899269885702,-2.4565629065935415,-3.103496235907357,0.014573477286349501,0.12741048402194988,1.401986225269047,3.2021023699521507,-0.199817226183451,-4.725731836606116,-3.485042988691653,-0.6727518913932737,-0.03448315652409306,5.617628077706382,2.484889090193949,-0.9935802656014197,4.753931062198291,0.45016020894827413,5.7018735805325775,-2.409182602141514,-3.918472341807591,-3.482853985971468,2.4436732644652253,4.121292778516963,0.9317046483140583,3.298411824343969,-0.8014287627879844,5.487343474320086,1.784387523435691,3.195202249184156,0.040936147233187725,-3.4791983123162504,3.3346853800661957,-1.0533090783192796,1.7222304167139137,0.2789927951344673,0.5817221649566182,2.9378869480648415,3.9810408652812885,-0.8499681409314714,-4.395848341359024,5.366056262093341,-2.6450356125146857,-4.715810790107865,5.1111308102889,0.9943268469434123,2.416864385848017,1.2716854165936997,-2.039013130286661,3.2170309588698593,-4.943054742262233,1.8580159321577536,-4.378929268383302,-2.723943808407718,2.368612414502948,-2.0578951692444076,-2.8198671319952093,0.8498150345562454,-3.6689814601165605,3.1896325845551736,5.9594739992575665,-1.8030925917894454,-2.1609611766965497,2.1789247143280317,-2.1611996517144014,-3.8613601254802203,1.6980887391813813,-3.8836662493921428,5.264170344833897,1.6814654924010402,3.585287489678903,-5.477910302314289,-2.4107145120462277,-5.68111449328541,4.358399629345339,-1.2588412114346674,4.615548688733105,4.242957554604994,-3.636541621896428,4.404018853926015,-5.129671533905665,-2.2446248285948447,-5.439686820968959,2.1415537704687857,4.0886075525951675,-4.104667991531603,-3.1200227226049138,4.0183517807145215,0.4565879743165606,5.157163199810805,-0.8661932480801671,1.6420139489110763,-3.5012936155770245,4.206053662648472,1.633997988889294,-1.3591447037841675,5.889749929619308,-2.892453030749914,-1.0547709595239176,-0.9270851963298004,1.089139961734027,4.675069816273739,-0.6019075853166083,-3.3382025890077056,-2.055203735880047,0.06598822816226324,4.361532042240967,-0.8960734735668741,-2.9536009262405893,0.43276775707278325,-2.0580049792685466,-0.32984856386965156,-2.799345576987451,3.05699624426512,-5.304101646643238,-4.532015096999644,-3.4725355353999072,0.04745738226858265,-0.5044810626581384,4.008631971066402,-3.457271247018087,-1.828850734644229,1.540467721169355,-5.628890926785584,-5.278072407725841,1.5246240916497618,-3.1473615187039954,5.629475037988575,5.1428776220500545,-3.688088002102857,-3.1064820791726375,-4.4838252808732655,3.087024008276387,4.845393235805311,3.6163514773458107,-3.6219564757047595,1.7315812198385698,-3.262645906348672,-2.392619406316382,-2.2678867786772248,0.55153838389462,-5.525964455123763,1.7647051147356585,-4.061971080455807,1.0703789874423446,-5.783526719891066,-3.0664419779970298,-4.524816845137717,4.274208271740685,-1.2715995721411488,-1.7155813808994207,4.110012790318036,-3.5460417021811095,0.9811750288865042,0.03306033779008466,-1.1565013367747383,-3.5134978519902953,2.241704523345833,1.6042704175088502,-4.216082294373578,-4.435162707695998,-3.1136031772265746,1.9381491219456315,0.43884458215263855,-0.7286135585131399],\"y\":[-3.4363134389780203,-0.7908557160185499,-5.615204992884927,4.392050193304383,3.968764575377344,-4.235010750237532,3.638630232183873,-3.1177182394353125,5.201648164785768,2.10446472537687,-1.958676265012409,-2.515180615317461,4.707180213949936,1.3139299085092055,-0.2609372895832811,-3.130960015249615,4.04303471993185,-2.0233751125058568,2.7384367342896567,4.862138174576442,4.331604269163378,3.1381143469387798,-5.7873538937452675,0.551166250625446,3.7053646526555433,-0.7747474572389823,0.3159752947871697,-3.059581743552328,-1.538359912355915,-1.4513075734011949,3.8261086471492423,4.942179386717864,5.253395158458538,5.570365110049785,-0.6957455443134792,-3.2804381115622645,-2.6390260461346116,2.0402528894033356,-0.11098933048689297,4.031003471409644,0.8431670287794635,2.48880636617087,-2.392402701064824,0.1032930940874035,1.9184668271428666,-2.0272483999772013,0.7658236244675134,-2.834051399250634,-4.196411820192026,2.948567708977123,-4.613834670400382,2.840427948193268,2.949136742209358,5.876442906078815,-3.183033564040051,5.780650140340226,1.2052492038229925,5.321583138577491,4.886493329124203,-1.7869606565451157,3.1676863058478943,-3.790554627394544,-4.846500852218378,3.776341633351409,0.46548737198463463,3.6866457905163177,-0.8229154227667363,-3.95942577246046,5.366992555811265,1.8735463141939963,3.357339862729498,-5.697072826368332,0.4492723432676353,3.6069020839813586,-5.149809918444497,-4.844547670745891,0.9698705231888063,-5.185534401640412,-5.1418615071236164,3.527942143189936,2.272152498203459,-3.435776102869078,2.1700629396308013,3.6584893408782513,1.0787877320098493,-1.5225587647401877,-0.9045971273299962,1.5157334330237973,4.949744402749497,-3.4334849100916034,-3.939263992333963,0.9556805913161384,-2.9335539830820925,-4.603851353319303,5.271921545534806,-3.1998345830835575,-1.5871210371504274,-5.963723661641787,-4.494218912438058,2.6381508192476133,-4.776680111006867,3.7225960636266944,-1.3424280996086484,-0.5189679695549909,2.272397529359477,-5.253190627128626,1.6557608694113108,4.848239688281531,-2.915933389340746,0.5414713202524375,2.9429633997942357,-0.058455634015396996,-5.506254785530473,1.3877791985633916,-4.674485683530161,-4.7811803598786575,-3.4780240860541,-1.2356214524157343,1.426954740159788,-1.2946363378605499,3.05053994905818,2.5853024742950836,-4.926993564880647,-1.6921626700255672,1.485605840477322,5.409633207533455,5.928573961121984,-0.696715892702704,1.7368781410751328,5.3186492110698875,-5.693544670261188,5.284677496000633,-3.4275561905159697,-2.0372628088726104,2.3676258298896116,-3.0057220107850986,0.7376309536112053,-2.361928539295514,-3.417642674846901,5.0522951253907245,2.5082931507390853,-4.140508416297161,-2.651438886589163,-3.709071558148875,1.9960904230264358,1.7116050467843742,1.5742869713792054,-3.3732271954876514,0.7756408694491927,3.944829260566415,-2.350999932468543,-3.33891121105207,1.0995176279277503,1.1063185325821223,-4.065225251765362,-0.43892712590866356,1.8202173940771225,1.273286857555835,-0.7673739239430883,0.9676042734003971,3.846221714796636,-3.6363433131626963,-1.558228036673114,-2.5563722571693908,-3.6526280131547106,3.0601144068467825,5.256019523778214,-0.8354725366398323,5.108165353597261,-0.45816111989130803,-4.336705103305521,-4.089016404495864,0.4072959576835249,-0.10342959545567432,4.6147784213068945,3.2346739579806343,-5.927055805049049,3.4319947232668415,-4.390017257309999,2.5554334477707243,4.459677783007201,-4.72002384392055,-4.685437709055915,5.449285781865861,-4.255540140750891,-2.058015526473721,4.042621268355839,5.847690155735089,-3.9477960135268972,1.0672561545821022,-2.366789541696693,-4.258386059120713,-0.049191778210481374,0.36565290501653536,5.226549183398582,-3.9676341142012492,-3.845019625900437,-4.5531231056521975,3.1721329538389362,-3.2668285733262263,-3.751206660271762,-2.6048348860867976,-4.757274172565182,0.6203949103861666,2.4449777982596927,3.2526890512968354,-5.034168306531319,0.1753991285531722,-0.15593796435037888,2.5031180048305757,-0.19926430334605882,1.146503553329345,-5.380264382341922,-1.7720173964508117,2.2470508195533387,-4.843388592663221,5.0743067703520435,-1.3886238570134983,-4.373526351551398,-1.998587080093535,-0.46077090315210345,1.9464519656344237,-3.5477141460624924,-2.1989342330665758,-1.2880091495570074,3.0905795118894286,1.951200822578194,-3.776303363324305,5.2632435104511295,0.25872901271964555,1.1293573334401419,-0.6847732825478232,-1.8811837354705467,-4.626782882687571,1.4025987836766642,-5.8152744262697915,-1.77981381988611,-4.414495351443696,2.0650299371525573,1.234728537917138,1.785685702516524,1.0061256482446659,-3.5697557054349947,-0.9803439051506357,-4.842531415821657,4.082554647618142,5.952363573950999,-4.376356891173147,-2.5600911773745563,1.4189611959073005,0.6084316205306948,4.531356830034888,-5.76552431286742,0.24070658465081873,3.20642206825271,-0.5107820885035075,4.329804507964164,2.005706550897809,-0.08443003155472617,-1.46630902307347,-3.4622585649923434,4.444870995815213,5.765834406860776,0.6929785481579449,2.497232220204868,2.094847386432205,5.224883502041344,1.7748118281148546,-3.022333150304709,-3.107106320752501,5.176726079931232,1.0423703238244784,-5.20277257241395,-0.078611788148649,3.859034501188807,2.313997902821633,-2.5535735356744382,-3.195142656395767,-4.908283576831574,2.99017557598496,3.9734724608339675,-4.260113947315295,-5.317600209520162,-4.4929008376620345,0.10190384958634979,-4.789640294155923,5.756442933121159,0.6277683413247299,4.208685169761187,4.399028406107719,-3.8283171169237225,-4.5819153971134865,2.125235036851718,3.3335424545765164,-1.7395636935403376,1.781969379110497,-3.0053066460671034,1.5012433111446706,2.369371420694474,-4.972053056564128,-4.438008748601216,-4.425150889299239,-2.4841554257541,5.001544434236095,-5.578662502639557,-1.2418497878465242,5.329891429455934,5.437595803940745,-3.8297860512213098,2.044403963552556,-0.32334318455299815,1.8083807058111052,-0.6319667298379574,-4.341987729231051,-3.170190550381142,-0.7989409930039049,3.9851575289571706,1.7274354225771038,-3.5085164359444088,2.380833798088407,-2.4636798597458234,-1.4723286332546053,0.3163017475807486,-4.386383697469119,2.6657419821038975,4.511051598282037,-2.4873367469191408,1.2230273577796416,2.715816822427424,-1.0543249805229191,4.142817035245971,-3.8059908844254866,-1.0180495937852436,-0.07177879240266272,-3.2373026820452244,5.62295261853405,4.513559071000934,-5.463058810980742,-3.2936198328114834,1.6647715269080035,2.6367700195306227,-1.1777756854817474,4.100795670955641,3.5180363915796757,5.623615645240342,0.7923818671519225,2.9362436730954258,5.6257589632185425,5.873915979363034,-3.108806098838798,-0.7786251891886309,0.7982555717202162,-1.2680842051794663,3.0158243097619835,-5.612743625198393,-0.8736416619397085,2.8827905304758623,1.515456625393723,-0.809196315081552,-4.966372008200098,0.12751216987995662,-5.273463791042961,1.4937292036312755,1.2331427586253998,-2.609633599470938,0.5945748525755992,2.172059446488653,-1.2150334275331058,-3.920880354083784,2.322437331264581,-2.298514298947636,-5.823417925201243,0.652862969538921,1.6346135489155103,-5.857956566852911,4.052770117738023,-3.8059974791882665,-3.3206405259031473,-1.3706281112179912,0.7663216514602418,5.242018018894502,-3.884503156381675,-5.317937409097944,-2.592367957806878,-0.2635025632805901,0.541509672166522,-4.176594516127161,3.3583111195248385,-4.11763331150432,-0.7879077494579212,5.570403882060534,1.6311851386642537,3.2717342787991655,-2.3640527931541557,-5.994592609981472,-1.471350127863941,-4.599531563525094,3.9147772705828103,-4.02231559561879,-2.3514673787726608,-2.0579777443856764,-3.766938618235896,-5.514594161777261,-4.431022446241954,4.181864788179684,0.2979059466855132,-0.6931778189530418,-5.404388994137941,0.5571838880414619,1.2766946265504613,0.33676741419467504,-0.5730181927326523,-4.032245656481793,0.5989033565063391,4.1021867188818835,1.9269689018933676,-0.23403096531773926,-5.667218482493222,2.457766837620005,-0.47157690714622547,-5.523019339444222,5.749542239634328,-1.0885462705585986,0.9101461765478218,4.036298774638473,-3.5352562659956717,-1.4440329653255013,-2.6324490533166,-3.00279495729837,-1.1924833096132712,1.4670855621596193,5.319329414001835,3.9111818925261765,4.876990310626788,2.071460429865075,-3.5163060641535364,2.2264045500514413,3.637534618526427,-4.002905158098263,1.6451934201365912,-5.832750800682031,4.088226098148574,-2.5404191720806044,3.563681711378589,0.10066245866877122,0.46508996502005306,0.6153383804231467,-2.9927167653547633,5.217018013522914,5.382761247317223,-3.7189305895091525,0.9298826357792134,2.9795405888047206,-2.9666240903172167,4.464168403260718,-2.3252344041780875,5.5955611477480485,5.556351490674178,-1.024493991328506,-0.584643469315905,-4.682585995118492,-3.7962155615664237,-2.341426372247364,4.613362137041484,-5.193454492981721,1.2290628403166526,-5.719461295584638,2.289289939824892,3.2359903446062788,2.7893510448543832,1.3075264119074177,3.1274063599312747,2.1570669436370196,2.014994834379319,-5.247928328633503,1.3137248494105869,-0.3284781028410162,-1.550654893336917,-0.20500112576546758,-4.04689170100437,1.239752418328525,-4.851783680909664,-3.879049044472253,2.68305316285689,-1.9255078466087818,-2.0165868137508864,3.92132867939349,1.3533028237315463,-1.7883922265147802,-1.5407907053423742,3.9557891874062623,1.5952607137861765,-0.040179278214168335,3.647356539225436,-0.38395979110144296,2.3544475834643315,-4.178617042198311,3.4480995472474874,-2.4102038113912023,-2.7484314433327293,-0.43436676417073805,4.53861276392829,3.961367136106677,-2.8743937148230057,-3.81938354461194,4.66946282619033,-2.8906943026027467,2.696139227008075,3.8444788657011433,4.6175976604583475,-5.033794730356823,2.8904950763463297,-0.5488278585261961,-5.709078345454829,4.078597639482133,-0.9324227023012206,-3.7350072553979614,1.254456963977714,-4.021129107909262,-3.457529093835223,-4.6584944979990155,-5.738143068545721,1.2781188276574014,-2.697155276393262,1.0414360274103096,-4.467047115625933,2.450832718640614,1.4101909294150285,-1.9723896898048157,-0.9105587734407301,3.263604413990505,2.0228035015752877,-4.9338625400509075,-2.699167818086992,-5.800214336739975,-5.984410631129615,-4.138142506414983,-3.6732907097696135,0.3515361561890078,-2.7695760390991646,-0.699316729590139,-2.0875287656635964,1.475125017299204,4.21082837271125,4.83676147652125,1.0810208391958431,1.1793121705273153,0.5931502986080464,3.3940120559777327,-2.1574694515133626,5.904195139989069,-3.0231030704070934,1.129354259384515,-5.259611686582341,3.548470848936642,3.4274862331323295,-0.21379927247870079,0.6294447206936216,1.3570131257803109,5.8160453538993355,4.374669511711659,1.7306002222068457,-4.039715153622163,2.5808888588537933,4.227836443467805,-0.6914759659009642,4.207135606147315,-4.5265107217185925,-3.143186042937741,-3.7719562401783753,0.7037885358084548,3.2267805064603383,-3.8557067019420157,0.5726118587711326,1.8263675568537163,-4.522572654530562,-3.5702844488189096,-1.470184943010512,5.6439418942087975,1.6164072587845162,-1.376683519673728,-3.2375991248600533,-0.08677421417914033,-4.597876350002063,-2.60927542827693,-3.626617365952772,-1.5718069560872205,0.8466701042566083,4.589221176559649,5.671630811673495,4.85316924232224,-5.780058624637663,3.6682958291790104,-2.1527319402255385,-0.05113991443777799,-3.2365440685387914,2.9222864833805584,-0.5929661708814908,2.922645262884428,-2.9448975727929474,5.098695621643536,-1.2346011037979983,-1.4427856255445235,-1.3733174103082604,-3.1282212705772747,0.17005321061745615,4.873337069699769,5.667711014867907,-5.149442006424936,4.6343582120507065,-3.586911737385898,5.817967776627052,-1.8235057659306815,3.0068580385052766,2.420157238519593,2.2517773376324755,4.03327736782844,1.4550312787702682,4.961920452429215,-1.1364660590358628,-2.242451782834813,1.4556099927468846,2.2035851260607444,-4.177135592962705,1.8448061819108208,5.110494615170397,2.3271114686454446,3.5612108781984517,-0.1838634938386381,-5.518897183720368,-3.048075162586752,0.14633810250062673,4.064696749214502,-3.8733902655443795,3.415261601699637,3.859358188895449,-2.3102644877101413,-5.442962727238166,-2.937789954035572,3.4953243832769125,1.1132562059083817,-3.2958388249914785,1.8777042929318082,1.9823235003531572,-5.314495668027037,-5.916361832741764,5.652370001268459,0.6736053196462297,1.4783854665260812,-4.841608366020575,3.4186901368080864,-4.277292634710625,-1.475847672594055,-0.7873523874413006,-1.629735573405621,3.4439942673232355,2.9389636321084236,-5.755733927328502,2.9743982930049437,-1.8517295712496296,2.174380795338493,3.3822783906724805,-4.505909199833354,-4.442394556828943,2.3385765323964307,5.026128014581046,-0.4153141998535723,-2.0812685165511007,-1.0476563922563482,-4.379192096473645,-0.4303130322467297,5.802276719119693,2.6414112675551635,4.120463818718983,2.0365660491808004,-0.906851936891222,1.8629914068020694,2.217637027698043,5.170673125990827,3.8607896197667024,-3.5490987746868585,3.5565306658605422,-5.565638709598814,5.960340829696133,3.1350538649274,2.312053342696416,4.222335117265121,3.623316531049781,-2.441099807484969,1.3125209842773478,-5.47581677823859,-3.692047461247673,3.797292042960585,2.1981374885612546,-5.757897898635022,5.009201417261199,-1.0714189717463318,-1.5269716910483568,0.014241218070623063,-4.161416954628276,-1.7779150879101167,-4.324591751569137,4.736999591807702,-2.9981679723806103,-5.640973000468614,-2.794423301837634,-1.9131733738174859,-5.60132669344217,-3.1296633542564614,-2.477792755653075,4.953689643182653,1.1308977383465546,1.2819522705276114,-2.9513893785430287,3.5455916479648124,-0.5790120845532076,-5.637646611941576,4.129858321438455,1.3205180882293694,2.443929990086186,-4.992063318318681,-5.180646199910074,-2.0135798866474586,-1.7714332477963577,0.5904061115916823,-0.6192384399844038,4.518193507624202,3.107221389687526,3.536974553578826,-2.913540295551611,5.166411412824731,-3.377227192924496,4.92319990528129,-3.077298394275784,-0.3300360142651222,2.2701353767917816,-4.95599430996335,-0.5576523429062199,4.1076383397073215,4.326422554783253,1.8232431151658526,5.777305322807456,2.6508123532990844,-1.1825814236608974,2.4071797312646055,-1.1723804400966538,-3.7994715979361304,-3.654823032977581,4.582299375610749,-2.950345525545437,1.3046465122649433,-4.989594778924754,-0.40834163413650604,-3.6501277057118444,-0.6675913001899341,4.7031785968014965,-5.5433524375679015,0.9972248304537761,5.969392336369236,-3.667140129635311,2.029548007194183,0.6012478929362661,5.734805353604775,-5.358849859105513,-5.8223724162927475,-1.3081354011558632,-1.9571130147577307,3.255910747316994,0.4932382745946402,3.113005595471739,0.03514739236346909,-2.6673578333680013,4.784888695456656,2.9214417445598357,2.2776046904976397,-5.839201388782376,-3.459080809396889,3.717994630987606,-4.231194674839869,0.14847236641103123,-3.687539573013303,-0.8486776767416,-5.810795267286877,1.4503604476777952,1.1113087622753621,-4.9396639083346505,0.21888519570642195,1.5370222323907177,2.490355517739056,-5.02212282212836,-5.3055604458625645,0.2210716255269034,1.896025406692246,-0.6158195076812092,3.5564055217319748,1.3981520564523162,3.6183198818891196,2.0986728352825743,4.472206457836998,1.994575515782504,-5.156239111253694,2.6243461173217746,-5.04264137452658,-4.054390427972923,-4.124450242125851,-0.5653756539653756,3.494886289345505,1.4272074691105434,1.608890165547324,-1.644309401289136,-2.0738920933694325,4.802831547332703,-0.5875405802566922,-2.1674786528701033,-5.3190250054219534,1.8467670136545173,-2.2749361608778966,0.596781072422127,-4.772107498456025,-0.9182378721489171,-4.350543302078069,0.9698062935120699,2.4411609360190134,1.2492658647063752,3.0342401488263917,-1.8720037336160686,2.453174778156015,-2.325042438277685,-0.16677853926249142,-1.2464718387045304,-0.8655895649308647,0.4833016826274257,-2.87442444329726,1.5928322982891103,-1.1223987056050984,-2.787053393740535,-1.3600222058748308,-2.795260819821375,1.0454289627027347,5.19593906440276,4.459634775937172,-2.369229545872842,-3.1385971399130614,5.022752290202357,-0.9027115177711433,-2.6163163330839483,-5.1962628062707195,-2.011267007877377,-2.9455745342007607,3.2588265614607295,2.3264540464322643,-1.839319524304603,1.2156130834643433,-5.777883058115539,-0.7176868781579326,-2.2883761824521245,-0.1486341351652296,-5.366127923526599,2.9921341766172276,-5.000375927623098,-3.331390393979896,-3.694259024756165,0.16346559854993004,5.982051447337616,-1.546159862026843,-2.990762524832176,5.004064126178932,-1.3231819473953568,5.445618777745473,4.752916370840039,-2.4812641887559983,-3.9061218703953116,-2.5937469349275326,1.2743819961139362,-2.5556462513041036,-2.901898967949192,5.8474440623710375,5.32599470619612,-4.351421688265388,-3.1700372448186878,5.092588854344397,-0.22894120693129416,-4.164983465833339,-2.8177625430036475,-0.14132995084851707,-2.4175186627374896,-0.3792488544043575,1.785043029220735,-3.4037256862750858,-0.28134350401291286,2.9668402739114903,2.1513954252890723,0.690946771588429,1.6904854235254092,-4.499114578932261,-1.7922985073706261,-2.9113996476290014,-1.378152018930817,2.996601817309461,0.6616391259062393,0.42398916157019695,-5.084698748056314,-5.5509853027326255,2.1315964315590747,4.380925938531158,-5.19393643000244,-4.123997415279356,1.5918494559225245,-0.7474593164534724,-2.0680598539495554,2.491021761512684,-2.319015470813937,-5.390936410971253,-3.572646437910651,5.533605960476917,-4.508847737331552,-5.843401351561933,-2.9109227410060794,-1.0065083779801256,-0.4762027388521419,0.293682016421009,5.3795293327838305,2.7950366588538476,-3.703894470559687,0.5777024640280182,-4.958832730943996,-2.9006124619917535,-2.073486203762593,-4.91225851662665,1.454038226056709,-2.370784299955209,3.833927565832578,1.933488633046295,5.743470794639265,-1.1002100379531896,5.834788031334419,0.02664640377760996,1.9873509912522973,-5.637018426789245,-3.9919548497902357,-2.251071521336822,-4.335834579434261,-0.8741299653602628,0.381159840741649,1.023982724141967,-4.2316671489976265,3.120524585691726,-5.6561311200399516,5.135675879406396,4.048397759374161,-2.397935961190194,2.3090639610757915,5.093062170348805,-2.8902621167037554,-4.715252040841961,-2.949219624822851,-4.535498465822791,-4.563679029255692,0.9389304166605683,-5.685889796661959,-1.7231401563600617,1.611758108246164,5.115986638356777,-0.07400216173888019,-3.635781086046108,-1.4711791446260758,-0.3540032672864024,1.4916464513282204,-5.282568200062956,-3.814317264154569,5.757009131523681,-3.3554617754316522,-1.530831066997699,4.686144559236594,1.061321788937315,-0.06231593910255029,-2.8307446137712207,4.154371750144545,3.423450078595062,4.3423626892495175,0.3479564545381013,4.910789452280298,-2.650434615092491,-5.199622347075941,-1.4916682547587783,2.748606156758054,-0.2710140271483237,-5.448794959148204,-2.392061803899966,1.2433837788179494,5.523121732601846,0.2615670295858106,-1.3908028379476214,-0.4870272175802439,5.916286449386803,-0.2834321570246132,-1.3355754340667048,-2.2866237418040973,-4.753551714156896,-3.590830863426304,0.40837148005321744,-1.2504566658982519,0.5932177096060096,-2.4525124333982187,5.449092141589469,-1.2201420054761467,1.111782652168313,-3.305103797456275,-4.90652671618925,-4.056990602620003,-3.8004004253029167,3.4517178169614553,-3.5923708125208744,1.1469027130766856,-4.880686518340692,5.731977244275043,0.037720146109071706,-0.20041193178859906,-0.26328204746804396,0.30710131180302547,-3.228409028745931,-0.48457009891501723,3.297364955843106,-2.966662902991234,-2.6211764044976924,5.101812809417934,-5.693630471668072,4.176307113836236,5.810680488338507,-1.616796480135121,-1.3866030177924031,-3.5774462648914382,5.002811844661366,0.2741314902940495,1.0797381254786949,1.96988028260178,0.08641063982397945,-5.675771190403313,-1.1954987461408972,2.1781254621345916,3.018261207353289,4.464306616663093,-3.5615166151064415,5.549660310039542,1.4003168435129814,-5.044331022731164,-5.365118989903831,4.340867410375717,1.8699279771972055,-1.6193186509741722,3.4965853855267266,2.6465179243158374,-1.5899746770995247,-2.6499890197727938,2.99659380561255,2.979140796326714,5.877394318602089,-2.386784462206922,-5.203260994804721,2.504713941514689,-3.9979539713273193,-4.494297983034922,3.111973462269887,-2.544108986125219,-3.6306341373415174,0.1627697097368337,1.3698805919592019,-3.3788657553624732,-0.7835151098809838,-5.262641422580558,0.9328526044410292,-4.0200432863868,3.9354510542815984,-5.058488244394981,-0.2757550919600824,2.444672800369851,2.440006857381613,2.416194176600179,-5.213414897522419,3.9748597024969463,-2.712167224739574,-4.250009468558776,-2.938344167481954,3.3679134681641543,4.036491294172102,-1.000678220685372,-0.9969846909401276,2.3479115776643145,2.509065791563433,-2.937698169529403,-1.6605156738136841,5.112184310754774,-5.7080924720687465,2.210531240861549,-0.2686545282382058,-3.3150841269399356,-0.7465890932630863,-0.27017267811116064,5.838044559185105,1.1299587508297915,5.7528808590924285,-0.7266331148198608,-0.6375986425053419,1.6006925932993532,0.5317461924560991,-2.410313585566363,-4.3388770179921465,5.328085489220946,-5.951336590655413,1.755461235566365,-0.4092987224657847,0.11958828237798613,0.7275531676307319,4.101149861231221,-4.863676151854163,-0.028493630651139412,-5.452744585593553,0.7529209944170425,1.222483354288837,1.3598395231067553,-0.08933853000116088,-5.908278005671566,-2.5671472157297903,-4.107136885871451,3.9092909538043923,-3.4736727552283004,2.943372699059964,-2.788090095958806,-5.8961046573988884,-4.305400266888597,-0.35405855964395805,2.5848076424794435,-4.06631665216093,-1.5506962870737526,-4.3222372413401775,0.024562564982874235,-3.8115323557067637,-1.7572868268864363,-3.5241040797401113,-5.473747351199059,-0.5645378198765378,-0.6375580600013055,-4.615140387199423,2.0540149048301686,-2.8501205844685495,4.007024199985368,-2.689937555156983,-5.212469534865649,2.5837704219706605,-2.2076809835675393,-1.692484495541832,2.1469917180981906,-0.47395571034397044,-4.563669327805238,-2.0549995259563025,5.782286012173719,2.9035828931634686,0.8092430569747497,2.9618077626110484,-3.7516022852120368,1.146038512492197,-2.9323935530185308,-0.5320611706928879,-1.2238513121111678,5.153092085849321,3.966904711977964,-5.989103693224504,0.5775517726049397,4.518948943026768,-1.2993882756344846,-1.853307468437487,1.42110324666006,0.45489744128665244,1.607520361533087,-3.453286017873859,-4.436464071564798,-4.584774694655069,5.695243304378344,3.472191130639004,5.099647097138563,-5.215411633856022,-3.671144259959355,-5.454385571796212,1.8412415970009643,-3.2639922936439416,1.9666835366497475,-5.638132894342794,1.0205411193005158,-1.449947916392424,-1.8806183543343957,-1.9231632993494001,3.258303477713227,-4.267314560470951,1.909101267133126,-3.7820767032048095,2.256167990793262,1.6694075891318771,3.3308507702134893,-4.398517830300144,0.42172808248735194,5.486935613984954,-2.600704421520384,1.6882972953322959,0.28186294223385033,0.130998540959264,2.0263340646956998,-0.23128307916795965,3.9456914676908834,-2.840654612399351,-0.029730671456224655,2.630668398274583,0.781227299057397,-5.156417826173947,0.25872727393700323,-4.619344841184043,-3.841649211450999,5.560141611808657,-0.5104461670516418,5.801657419211619,0.20256608945967436,1.3390967711347876,-4.95750228507422,-3.395962656009803,5.773196904953929,-5.087095691238995,-0.9033082239468122,0.4229906097163827,4.006799807189875,-4.095726548182279,-2.4445181350742535,0.8464398556546726,3.938603176530858,-3.6559413626592674,1.535637295235201,4.949389914322143,1.354059520307402,-0.6325330901655386,0.26238788246831213,2.74124892169986,1.7685516165080069,-0.26124837437393644,-0.21642302568667748,-4.230070487362435,1.8503773361656801,-3.5425466468702953,-4.115486358105887,1.285341827024446,-1.6516311091829312,1.3441476082516797,-3.7828164254448153,2.1581046181785624,-5.287238010934913,2.0628974736793815,4.825414578285615,-5.854752058525684,-1.9663764955555552,5.934577348875427,2.8726749226552464,2.8598594469026004,-3.6489340268313444,-4.23568699833738,-2.3333000208023766,-5.055623915726642,-3.035826304069492,-3.1873826309155526,0.6051796702269154,2.423121701457198,-4.155045755909788,0.6143307383978591,5.717333376918294,-2.778024851588638,-3.2174452609908446,-4.423189501921254,5.752299117994232,2.656423318234012,0.4980524056761606,-2.931470298878739,1.3396096516762768,-2.767041713382607,2.263822360120148,-3.6730045892549152,-2.1208314822076404,2.3483753537227336,-0.4217726507623629,0.7393691939748521,-4.143959032031107,0.08249315252325129,-5.808827930840408,-1.4407824422331075,1.7350821660727487,-1.601647767161408,0.3247351062101025,-5.163313544902094,0.5252198903897041,4.50182868648427,4.680701062008453,-4.428870454313428,4.893921611966439,-4.598381049329237,-4.611101183038033,-5.279168015257195,3.993188126522389,-0.6412842668832308,-2.3232922730584487,-5.697761703094791,2.522036896706787,-5.456417171638332,4.032153700744319,-3.0110315033769712,1.7272115162940267,1.7187490163418513,5.036375896379285,5.047000037440036,-5.791045344428063,0.422112411242777,3.26859519326816,-2.4102843582389566,0.8348781338777034,5.786018289571597,4.1503607041569985,-4.58342104484106,4.723590867232698,0.3931459345541928,2.8971500808073003,-0.6830012673257491,2.9549218259064034,-2.3093005384177046,-2.579754513153289,-0.9242457706728446,-4.301688804381339,3.1453844150718897,-1.6764734577087133,-3.1230110072675465,4.389378183285398,1.2203139516811792,-3.076884335401835,2.7091507154861905,4.358884452748047,1.4977102595779535,-2.6986250732812644,1.399606944252433,4.185543350900298,4.55342475157652,-2.06745675459816,3.6756282974765515,4.745845321363895,-4.983355689783156,1.4985655960414315,3.427831963292366,-0.3580357298996386,4.1647942553449795,-0.31541269852555764,0.6742166277725516,-4.738802115869811,2.968765472831784,0.7970058761256915,5.788747962650216,4.123826279733466,3.3240274389931272,-1.8044940223904717,-1.3400661075358808,4.805854963543064,3.4258652045944515,-3.801751804984938,4.500875399537128,-0.6948051977714442,-0.1446105922246712,0.4046898067898983,-2.602595235729595,1.818394654149512,4.6477685575096235,-5.793594358391928,-3.3714403335144127,-5.669163671538708,3.618732561795774,-3.852045868487501,-4.224060989336813,-2.8830058730379595,-1.9195788087752526,-0.3406434727421992,4.336827989916253,-1.0751026516766942,-5.486529207659298,-3.9404978758589926,1.8448111039060286,-3.742637356693666,-4.795324434654913,-5.873249219929269,-3.2278907263736913,5.896854950900597,-5.472308298120991,-1.975282519427993,3.0482457574098927,3.591901180636942,-1.3647981804883251,-0.917516703996788,-2.0043473504246543,0.21439129756950237,5.208678565966833,3.773989551515033,0.5127184845766379,-5.017852957815606,-5.919083291164075,3.507289122542886,3.5226566178396066,3.7983927501959904,-2.7279539831822683,5.552244670193467,5.160405908168643,4.480665931988787,3.0797751698262203,-2.598851240082087,-3.5736038963539616,1.7843518281428885,-0.011898803808685798,3.098191212613596,5.1792016872886535,-3.07181882966222,-3.9611721266679596,1.6477397389104773,-4.486334684211654,-1.7512672788587533,2.0078297918834984,-0.40501718802217646,-2.179785788669746,4.3204188535668315,-4.648897530927792,-0.23418865885138906,-0.7187831016839716,4.446502917695025,1.7976670020874215,5.142103605463534,3.964712631132672,3.331345334404464,-3.067690523230676,4.131976397997391,-3.1735214495483524,1.3816781645432616,4.446795018979401,-1.7023818312034518,1.3968394193551834,0.15952787499766607,2.9790454782335534,0.2744514173796757,3.629785943501169,1.90767103004098,5.907311324747761,-2.1311457625103616,4.6446075671795946,-4.473784716203724,-1.7010829179765654,-2.662586400179778,-1.9745591796128892,0.807646404627377,-4.425637960248183,-2.8098591466538303,1.7130329036547494,-0.03282736787877827,-1.0181591364396478,-2.7672467983321125,5.653928864460546,-0.6190407608309307,-4.8352883203492,-4.204827817822081,1.907016182246803,-1.267967999479307,0.6027939617558742,0.603640576571002,-4.950253908093263,-5.596260874166715,5.829007020809458,0.8938028569837986,-5.058335087629459,2.4066095704482535,4.497251937250683,-5.6644937753925895,5.297119078130471,-4.46617410224767,-5.25017329237922,-2.627648829718206,-4.871605280593751,-3.401146291957465,-3.3535385388977494,-4.273270447559048,5.725650250650304,-4.040655082181235,-2.843279784443216,3.0587212649235003,-3.117275769268075,-2.698016879611234,3.0579400688671328,2.617663526629638,-3.6829357465477313,-3.24459735944391,-5.67898083633305,5.0653035251754925,0.7201775971540165,3.0527509038317397,-5.139207595849742,5.1347750219329455,-0.8321358840871831,4.071054927426932,-2.2558240606556965,2.3997905153615875,1.5161049076635544,-4.215067945661053,-1.7003724289892128,-5.898026905615534,-2.0085110980456045,5.2880411129787745,-2.1040548280488705,4.81729157207177,4.168133603717187,1.8962475552346065,-1.4590935488737626,-3.1010632774795157,1.0609800798650983,-2.5261177665284014,5.779637924964515,5.245476936621639,-0.08572360616234675,1.3624200763148524,-4.931427004670795,-4.524207043600022,-2.7663045174084404,-5.949105190953597,-5.01512291809617,3.23486442672948,-4.5116312899491255,-5.661889179438786,-5.918144008508147,-3.3087358244913307,-1.6534600429271702,-4.065836102455957,1.792384498196495,-2.4218442633503634,3.613994919103357,-5.811482585110619,-0.18861211948955514,-0.9399360531419463,2.887632530057589,-4.926149462932463,-3.345643681785681,-1.649766445270691,-4.2138917670915585,-2.338302928907898,4.224340675495164,0.5172142435234939,2.855062031456047,2.6586099101117107,4.800105333520262,-5.058472623706153,0.07996701669182293,-3.9685861284161024,5.238759960242621,5.9201593753362065,-0.5563004723593403,5.0119245573730815,-4.61104333769212,1.742418174336711,-4.061014194807887,-4.193664932752588,0.9083145065842304,3.066947975903055,5.875343521603021,-2.5541591907328702,-4.450452532489338,5.750869130391003,-5.465614127537398,2.4607124590941787,2.4456296968227917,-2.109765356414539,5.5946218035832125,3.1505746443351423,0.5605817142424723,-4.74809911278594,-4.718521021905529,-5.851101108016824,-2.727480215295953,5.054918787898973,-0.05773733530173075,4.952065103701152,0.840536630784154,1.2734751364879164,-4.135669503035928,4.672242459793122,-5.339462625806873,0.49110663413440037,-1.3950136782796427,-0.37219330366943204,-0.5650461674163303,4.1106084415763195,0.45884025925472294,-2.5245165282728608,-0.40765376265735576,-5.566504477583249,-3.9478985782446787,-1.255406654024906,-5.937155770261784,4.484644105976537,-5.35394196293697,-1.4326918649229254,-5.674414685484798,5.411787285103745,-5.172526290513687,-2.0855073838470646,1.5203961424157626,-5.435755728803299,-0.2108092655490026,-0.4641918167935817,-2.0344133261421615,3.9000267858986604,0.35032538188253426,-3.670593048885465,3.2547971130108753,0.5483606690169314,-2.7625597805093935,-4.2384325118943895,0.45226032672941674,4.449920341731101,0.093003545888795,-4.711548222073901,1.3776082705552701,0.4080136270829069,-1.044987016608406,3.1523535117216177,0.05643748586155972,5.866998140243055,-0.6790786458354479,0.3664596864591143,2.233803101326293,3.015362167417111,-3.616577834950916,2.2204980824207787,0.8473768372448927,-4.5970073585396385,0.9566877057251073,-4.266177194904628,0.027041821291199142,0.38186612703924183,-3.9173171244184934,0.9087093186643838,-5.059807122875682,-5.052748270536194,3.3519648925495176,3.696658443135293,-0.592066459333803,-0.23814175222062062,3.8937110565969846,-1.289971188722168,4.995501745272062,-2.4653646122040733,2.242744140414395,2.7591529974276128,5.51981095812787,-1.8925079035301557,-2.1791983394348904,4.099890733451151,5.92290430600665,3.342617928567286,4.1764208135423395,5.680729042397189,-1.4039480757038199,5.151666397183963,-1.3171213241339714,-3.1250774780648607,-2.3163157184683243,2.97212402556511,1.545985449010094,0.7518279344945666,-3.2796544856739045,5.63323229766481,-1.0607697337811501,5.646194842612346,-3.5636457595379767,2.6388625510675006,-4.396145147504967,2.948275760794445,-0.8516340456840137,-1.3091908917245068,2.5577050161101678,2.1964007172668545,4.829849104286257,3.795519064228923,1.9691173897253744,-4.8739389632465056,4.582923532361109,2.2533725090819576,5.183627605845537,0.45649059666754255,1.662772006820612,-0.511809740828765,5.973027693827049,-4.450352974712626,3.232993606299754,4.721479488312999,-3.3898166840044324,-2.8861747173936934,1.1713389829134133,5.250211171083077,1.6746329759486658,1.5686639489022314,1.0606158620392492,0.595713596724254,2.953430647152693,4.694485465230981,-0.3778595843634269,-0.531993477686683,-1.7863285417042745,5.434997331348772,2.9868846004868512,1.5104391313441319,-5.129796348119905,-2.487505018209749,-0.9485837459170323,3.019400972796845,0.9362608866193538,-0.4429738487759076,-4.703901846058406,-4.376211328084136,4.586191005633799,2.610000606330395,1.7238737821196128,2.8241831802658233,-0.588768868561921,-4.7777399521190596,-1.7190156246587076,2.4958549595942134,-4.972020777522806,-1.2259777220174257,4.73963491147447,-3.494758988861699,-3.7151519458669338,-0.47207294662983124,4.491721537635053,3.210130979212895,-5.265597015217838,3.660469784433749,5.120969397155921,2.972458263306608,0.8954674045808835,-1.2382717995670216,4.927711228373148,-4.917235978193103,-0.06107232763521164,-1.561604718167671,4.10957349448025,1.4199563988287291,2.581315405742556,-4.268666298256221,5.6372455121746405,0.5442284168633398,3.243505676178609,-5.5927050431140515,-0.8150270091393805,-5.676927030640722,-0.9456885561239057,2.490203496828137,-4.251476139652359,1.3870702631463718,2.2824461791720747,2.264277668768649,-0.4871963004105675,5.573326799585486,-1.7846432160107506,3.666580939893594,-2.4412926403158295,3.92541606397889,1.03020097767957,-1.2556542051325241,-1.9724703444875882,2.4980591719726313,-5.911486494666791,-1.7373822910735193,4.454965593584818,-5.430997207267678,4.4099400327467535,-0.28592479260397674,-2.0828292663659917,-3.0023392712650443,1.0994778679616255,4.397362799865082,0.9780307679833111,5.646019614057474,3.295323685788329,-0.5973667519137855,5.552962156465705,3.513477122520916,3.209030499909259,4.939365177945234,-4.540680584355334,-2.9159093814031056,0.16424043083867446,4.676902522149756,-2.029713932614046,-5.222254186634743,-4.115182305561284,-4.143450513840477,-5.941774666960669,-5.3475434382020595,2.6912185578415073,5.371816393085652,-0.3165707291013504,-3.5292155849820053,5.198835511317823,-5.516349830019094,-0.9983145145273493,-0.4323457737353591,-3.922036022980485,0.023826282223239126,5.775885487393889,1.9165842062365277,3.0274872686746477,2.195115475214095,3.9626691531818974,-3.873203095758244,2.794123966356228,-0.08110288023108048,2.426002996854237,-5.123052991515726,0.12721018386600136,5.726684758346408,2.878819846068515,-0.024611278009411208,0.36173640522965034,2.770626625428733,-2.430260315102678,0.8661954022618437,0.4278424189680319,3.988177882442333,3.38636158288565,-0.12993558028928387,4.887614569777785,-5.224061683641627,1.5822355372639816,-0.06888174868475438,0.9168310077922834,1.1278212827863534,-3.415336709807851,-3.8384784184185716,-2.3545176846016855,-1.5344843151530343,2.336529800856395,-4.071453064303098,-0.5107994656207229,-1.9671398698472649,5.275118450994244,4.564077723298176,-5.743828282835837,1.0513559916528017,5.7937193734782735,2.2870128965733425,4.5034028567697995,-0.6001980904888118,-2.812615683361706,-4.481214029726481,2.2267880712621952,-3.056725590515124,-0.3603572676909437,0.18230533713985153,-4.300481914860996,3.6642145754371995,3.925697730018527,3.602754217511185,-3.740254344477992,-1.9255689707937744,4.191307538780043,-5.594573001878533,-3.5357226461022964,-5.965121514191081,4.972994156637254,3.0665580857640435,1.744215116349185,-2.8371040457403667,4.940126279065712,2.1738476331868135,3.281895373305307,5.580661207987065,-5.465742975449068,-5.236510363198696,4.81012692625122,5.416951368204817,1.0142560853825104,-0.992648840597349,3.9864080588687276,1.2007580699717249,-2.313207506695534,-0.8189459546015279,3.0729079467693055,1.278173614794869,-2.0348087851762755,5.564406429987976,-2.1822761580455428,3.18025615104073,3.8330809974861815,-4.492550593427689,-5.366063029006236,2.9647747236734094,-4.855447848911384,2.3269621146776345,5.226474951872861,1.8265424830109884,5.7331744162119485,-3.881311209887803,-5.874369072342995,3.0271274860435806,5.53309193164862,5.320425786133889,1.5673237722908384,-2.023784368992205,-2.6966206837661133,-3.821428972982589,-1.7482198402796385,5.208649988335507,-0.8702513028445207,-4.510985861748172,0.2424191276644656,-4.6142440981915325,-2.6560862327050705,-3.3652066806974337,3.6754533515037515,-1.0956303225728812,-2.6924349508610392,1.5180659753830223,2.995770155749579,4.047268285278006,-2.510857085270634,2.4829927988036697,3.224665527006401,4.61532875774833,4.236137240962924,1.4252611867950957,4.770471054446322,4.192914068629623,-2.4779913813501557,1.79791860029043,-4.364023132547602,-1.7557729173750891,-0.8224523782102038,3.86415004363457,1.1540610239168005,5.406422874410467,1.796728136683285,-5.769528797370752,1.1855410385214693,-2.283372225980745,4.07269165080848,-4.310216209753945,1.8492609322718039,0.164414559960381,-1.3059830778136678,2.636162890063858,-2.2231489796059853,-4.787194475198907,3.942527709877549,-4.007380198536977,-2.041946274299436,-0.5127425705818833,-0.014393116234053593,3.980015290587925,-5.588030016516227,-0.7814505339764555,-2.0462545610649405,-0.36483115768130414,-4.275722315926098,0.7053327913738876,-0.06484924688877314,5.583934251154771,0.026454913144224435,1.5597580807411413,-4.08524976328031,-5.850543364458474,-2.6066215806821686,-5.0116302939978885,-4.679403351096157,-0.12499968890994673,-1.5276264063539688,4.174037108191461,1.9704136865550677,-1.0479512378148348,-5.0911306831277034,-1.283663170145383,2.7381587229738837,-2.6497123669186804,0.42791821254433593,-5.089723302051418,3.574389197893206,-2.7095702873377427,-4.896755167306154,1.888514572985553,1.4366702136163587,2.646659585210152,1.0566926141392132,0.10147537803670126,5.082957443963302,-5.120357579234029,5.283594305882314,3.3332603592942878,3.6124726439343586,-3.2140875198753593,1.432147926938251,1.208212069885981,1.3740132434280543,-4.732001490009019,2.1010888404414043,-5.139090929145247,2.6169351633398428,4.957078565447528,1.907690729587241,2.500688032264293,1.3851598515627987,-1.190422825200816,-2.1485031267635213,1.7725624555419301,0.4326860212227377,-0.9916861434170983,4.165339645133635,-4.044948755029893,3.572009958307797,-0.5637225035764093,-2.5764555797152116,5.265468080950235,2.0235948204246554,5.629437871415156,-2.2680724970873327,1.173173866551796,2.931820869280884,-3.277123647218993,4.789401472246263,3.0348164427889053,4.884104429144674,1.4947390662198838,5.029376092884238,-1.472683783628307,4.83352808431623,3.704324976856695,2.9403852129757944,5.201924650192495,2.7537065406586336,-0.6788313520685509,1.9972860314964151,-2.6588633474515166,-3.5314486278264043,1.377564219756266,3.418428757191002,5.15058409084927,-3.815862368028396,-1.595368794877695,-3.3905520134622416,4.973458233963612,-1.0043270298535933,-5.586656926537677,0.9789880032878857,3.354720042344111,-2.758588553718745,4.312529717027083,3.18246758810297,-3.5642089806629924,-4.09578447382939,-3.3805094143087766,-5.83703080787892,2.142933858708375,1.9504341408991301,-0.33190734657941956,-4.300532567601971,3.0706675589234695,-2.069850960336111,-4.507827179075876,2.2185706599012516,-5.2042413902113775,1.0673818200740133,-0.6590084097991058,5.141088241973943,5.422653757444083,-1.1764896280992456,1.4795137496718267,-1.3565253047698036,-2.5809881233294325,5.464046241024226,4.681747793393299,1.0601352094885854,5.824589174750081,-0.9051651780897956,5.066070137907287,4.19107770046365,-1.376089368712698,-1.1017419433680864,5.306526743554713,1.672862346766001,-1.487873587349215,2.169558670787044,1.4054772621745197,5.540732975171071,5.019530321900195,5.1780173757308,-0.8428569528900391,-2.116789463589986,4.985392522386459,3.5337168113472366,-0.8684024232234417,-0.08002177594520177,4.7856814141557695,-4.943405122214805,4.405795808114878,1.5973622672362975,0.3947873589777764,-5.006015581291279,-3.6538937760947054,-0.9428576798386841,-2.4528335288526173,4.611721682319173,5.758507869392174,-3.1219777965977737,4.8117000348470835,3.6207244876912377,-5.6196948171066605,-3.221688801993922,-2.7362968173460707,-4.518472156263408,-5.348047303229877,-0.4829503433145872,-3.6879468317484827,5.5199136296666165,4.543516446152681,0.7496660922899814,-5.437094109011637,-5.420695115989214,-5.997874484294567,3.899281015746901,1.3573372749040988,5.346453812190989,1.153530329583102,-2.8879433441285007,-4.39603605827462,0.4160142772307829,-5.88612248451294,-5.118707500322403,-1.6399399740626226,-0.9131453257385145,-5.314703879396845,0.23633459350715924,-5.06755997865519,-5.894173475182124,-2.1821369220071505,-3.898757560575882,-4.5772856784383915,1.7859607472440455,0.8688246224690257,-1.4223826446307255,4.031730183438933,-2.028739341399507,1.1210818551336406,-5.1117903890364005,-2.8305748990755824,2.236393701215732,-3.9817420551954466,5.41053622601372,-5.436941289509314,4.6722103502514685,-3.0150990169417295,-3.822474600145493,0.8197882872327256,-1.5982541380787065,-3.9210653015941705,5.522372534580082,-3.446999771778341,-3.4786242323018604,-1.0024394163132868,1.3505686446756773,-0.14984417680279805,-0.6205204674039368,-0.34526179386730504,-1.2019194766898984,-2.3905230382544667,-0.6457712229293389,-1.8334983120303772,0.0052820289851087665,-2.1437045866979125,-4.673343800175184,2.2654517017340225,4.3911216127671935,1.902538994507787,0.7184499592166924,1.0592339472362937,0.7532502257140168,-5.069139224235917,2.643467091127402,-3.638979808367204,-2.484480172099167,4.87742063539109,-4.586421476792599,4.408487415259151,0.5810265843321556,5.838623425842936,5.917292892426973,5.776987164560543,5.982480423034719,-0.7525913011003222,-4.753879822759316,0.6327765199418582,-1.381106630380505,-2.718625949940774,-1.818593861822503,5.4906677768683,1.4704068694339512,-1.604200245208518,3.0833749243443336,4.764323675319442,-1.8016380209379097,2.1033926697160013,3.882080349099466,2.953062625490201,5.580683526062899,-1.0087312730468083,3.720013449532578,-5.845142060965945,0.7378590759657486,3.464486570887864,-5.0156338607814615,5.785057641447143,-4.488649180817978,-5.505014172432395,-0.9202620847079714,-4.456376504131622,-4.3482343553405585,-3.9452076772398463,5.839567053693813,3.560077251953203,4.47906951871601,5.937735369226168,-0.2800199829072394,-0.3557349212139229,5.0924509612932916,-1.7364809166561006,-3.739751089184065,-0.23529649165389177,-3.1979410822347996,-2.5209363149767725,-2.925555417348399,-4.990858707024287,-2.3539573155859346,-4.919305792669594,3.001211938591874,3.0121008561439275,4.379248505611841,3.202585501121799,-1.3079523321562778,-0.7083630641121026,1.3052293238596047,-5.558339278027694,5.017697863302013,-2.1064360836088847,5.176474229531571,-1.408873414351925,1.7430272737157608,-4.536343969844571,-4.543058956677169,-0.7544819255501576,4.096862816124778,5.0178963946179,0.1122974896211355,-2.5342420624795667,0.2969100687367803,5.635030047242374,1.662219615598313,1.482334419379388,3.75367171543982,-5.160995792394965,-5.467612990733635,0.7148264587664102,-3.161370023068011,1.7133068287352433,0.06868427385699505,1.812652900269475,-0.035482342889038065,-3.2780712884195435,-1.8750529204639612,-3.982476367091898,-3.4438247454365762,-1.943625856925789,-5.81112349281841,1.350126294527982,4.748565992082057,3.7384480883232776,-0.17376492715563785,3.4156389135200165,-4.1422203447633485,-3.3755787849431114,-4.731937959531342,-4.260146358406644,0.84833321469615,-3.666860843630379,-4.558233089642183,1.6593568404681243,-4.811316976915013,-3.322018803062742,-0.12842558026682926,-3.0762055844265674,-4.718069376759626,-1.5550071715534903,0.3648076239741638,3.600336339794289,2.2774472722691925,-5.847058527264498,3.4890476896689115,0.28811679414654634,-0.15536206880450631,1.4166315275731662,4.537194609310831,-3.880972541645253,5.136716625723931,-2.1514043450568625,3.2862594728065364,3.1587054400080383,-5.915737826836336,-1.133515284884555,2.254467989791756,-1.4820221350293314,-4.373975403847149,4.827420647767834,-0.879256963008749,-4.371330370843687,-4.297776931167144,-5.484633478108461,-2.382888693924521,5.706621456529103,5.921748759071397,-3.2118158582372254,0.5304559079157443,0.9105580386980456,0.29756258515357636,0.4275675363063609,-1.986613236602846,-0.07991966289187147,-4.453002596647453,-0.4435002103972634,1.534550107448311,2.2411793378056526,-4.190956198992023,-3.7888902697680362,-5.427951781212836,-1.3944420765926884,-1.19647983119828,5.236602904041293,-0.9468209093499764,4.1090582005168415,-0.410961965076325,-1.1909678749040813,-2.0240043847727245,2.210052458077195,2.2822673681295864,2.7010047395285177,3.1603782307837776,-3.934723100360354,3.7953027978666363,5.6676647117969825,3.7558629831972254,-5.161106609186913,2.9884594849301074,-1.7318537851224587,-0.5312414255256961,4.8425495400236525,-3.2604614417595714,1.8249246684903042,-0.29714316693878473,0.4657328953782187,2.387558895874726,-3.014746100047597,-3.8416325801409203,-3.989768626031966,2.8355097783311702,-3.72299767768425,2.5072290883964197,3.073965674645125,3.26331271998834,4.208697997487901,-4.195911918957726,-2.3226808876391,1.5312172222386522,-0.7917943531796494,-5.439531393137244,4.051158546657074,2.783042173099279,2.9907642989626826,3.063943501077798,-3.3994441653583385,4.504414634148889,2.9800658198674483,-1.0752812278306632,3.926970626088668,-3.5406201517940805,4.73900795967803,2.140584818106193,-1.446844057966934,-5.714473201136136,4.129534229235279,-5.237835996924593,-1.0548609629705084,-4.343277128698116,-3.8088189343561325,-3.0867617195449926,5.822662481676783,-2.282995110031169,3.6251477870766564,-3.172859461179866,-4.741699783677676,-2.5178141958415794,2.0007385207471913,-3.175249350871422,0.2477654383437553,-2.728257550565547,-3.820925883726964,1.9746321428567768,4.12716213960147,1.7497083130029534,1.8054335506305108,3.66946890620798,-4.686537010403367,3.748059371046944,1.6450910510412973,0.8269938049271861,2.5099556241526635,4.225384664649074,-4.396036442179747,3.349971283189838,3.6083102219324203,-4.515974865539141,4.42074360393994,-2.604974420359956,-3.4284077489349385,-5.993420690098016,0.15810527784246453,4.9750771117604575,3.0101360366488237,2.734023536455897,0.2820252646327335,-1.6264079195219576,-5.9410188625726,-1.3311605391939523,-0.7133268005781535,-3.5538413158287825,-0.44117229906677746,5.958277627891242,-3.3635268551716844,4.0288045802234045,-1.4114581643503854,-4.075660863537927,0.012730372332930173,-4.306232460063802,-1.5318329898239682,1.0386075838910465,-3.8540333522887793,3.7428342978315,-5.445547501618197,-5.277871395253447,1.7964252619304002,-3.8309155373059722,0.8808662612592588,-3.478868192367267,-2.1363634161051404,1.1203379431587965,1.6236657052904482,-3.2567273193432467,-1.9816131000236608,-5.1562981306434335,1.2993852387195162,1.2343504627079556,-5.44063689395266,-0.40288567906138084,-3.8290894152684674,-3.69099663938186,0.23098322813451233,4.270280529866575,-3.7553298372260713,-0.7067179902055418,-5.187995905320962,2.7413448677247967,-1.8375256863676483,-3.820535480929947,-0.24149899178452472,-4.246486555142676,3.8028967262477718,1.8413621364231858,-1.4101548476787222,5.922627399632239,-2.6702583313603503,4.617330145105829,-5.925189119786522,-5.307154087765969,-2.55139949078351,2.4973091282104143,1.0025023663624815,-0.7080270482625028,1.108636240987157,-2.7806193930387217,-1.8961896122414243,1.8188143164807116,-3.548870291491459,0.6221955217026949,5.516101802143229,-0.5041501222022688,1.442871926226534,4.183874770031769,-3.525416928214973,-1.559123491155253,0.8077357463098691,1.286030835760723,0.7503763868302711,-4.279042807997012,-1.3861506167827278,-0.9383821588609278,1.9931275550239533,4.713585146679264,-2.4281297465810407,-2.588141025962761,4.355300339764415,-4.176374261595967,2.589881373741079,-0.8698623103256313,5.608202848004076,1.6355954843118905,4.311943037127632,1.8597296868634539,-3.840259755796272,2.594105577877034,-1.1309800723062295,-1.630780638546332,5.02707595279033,4.797837893880512,-0.45493460726800805,5.065250136023586,1.4909346299590087,1.0895906577952301,5.131445571890987,-5.732801452583681,-1.6714693596133978,3.6170171270059335,-5.137114461354457,-2.1192022262700387,0.8372509307663814,-3.7899049223401478,-3.9846135176942967,-1.0204944631585757,-0.7444965698642045,5.37978945356746,-5.690888316124859,1.6481063102387639,0.7446479180615393,3.8469662866547942,-0.07783597492088568,-5.747340435766352,0.20766070851484741,2.427274209308564,-5.610181291600606,1.3225038636510673,2.729082203820557,-1.5289879244843831,2.298129253825092,0.7534524569390797,-4.676713066689782,-4.355163762320361,-5.250352213244652,-5.726313803634542,5.983037208708907,-5.242507528636615,1.2970383109959638,1.3359244337656202,-0.41403087763338675,-2.6863744369056013,0.8343027498577538,-4.491057478980471,4.737206077626723,5.004359823790711,0.8310962688253065,-2.4133650638506112,4.417291374828114,4.671521030223019,-3.5385046228756316,-5.265517940051146,-5.7735300918462045,3.8623168650122945,4.259233630053895,-5.87379149766459,2.769446917017973,4.949918357416866,4.727751947371763,2.3046607719171988,0.5987267276241566,5.079686217405124,4.491458795636056,-5.386499009497944,5.625367983145718,1.779304684673951,4.947367495336399,-5.021645158167752,-2.672044442794658,1.296674763765937,4.1615475226079415,3.2751202199770013,2.1350766507607375,2.7551793467809524,3.8058703381812187,0.6517121116570701,-2.9430452059207264,-5.155003199552898,-0.1259995822625779,-0.1511951003554195,-0.18467966873011132,1.0887860288317022,-5.31786462355497,0.20597226802131452,3.7237953046700305,2.765877999339571,2.6807993035148634,0.8059050918360473,2.466853197568712,4.720722075050608,5.916969423927185,-4.539531583103208,-5.065039490997524,-0.4754108205163705,2.9520395051949553,-3.5611392207497214,4.023737734056601,5.111392997443321,1.6756642451085098,-1.562481016774285,-5.895426675609077,-3.7602161225321975,-3.2483857179883353,-2.6055201213282264,-3.333826728193724,-2.004174288581542,1.5652153469689924,4.432604410278227,2.7571649260654105,-4.822327662856123,-0.21311171302581755,4.236933015946134,-3.542071886791906,0.17040913889990428,4.7187022198083834,0.3008721030509598,-1.343935187427208,0.4872796804215369,0.2065159426353418,5.776916298348887,-1.4661185345028453,-2.3449066929626023,-4.13394841467445,2.6504669500843754,-4.072613678531631,4.600647171898965,3.608361306880905,5.082464562941697,3.30685179005153,-2.794532358392859,0.5093676741725384,1.6871521138224095,-2.5131504906969258,5.753876365814035,-0.2120792989423581,1.7298806167053602,1.3527185157579513,-1.4146296090634678,-1.726347805548473,-0.6231319353291056,5.905359691915532,3.310494069329353,4.154505778120162,-1.2894165007008622,-0.8000272106736048,-1.1077741302797222,-2.081316948660938,-4.6902619454556636,4.747193541244444,-3.919223616535787,4.702737136690221,4.514088286213607,4.04520956068572,3.8115595164823244,-3.1234189574806064,-4.9619486990602875,1.858792814016046,1.4833703126924487,-1.5132612079216763,-4.477025202461453,-2.2412264971462355,1.678055522894633,-5.087480425761483,-2.0258137609606424,-1.632648849034771,-5.71085685675706,-4.887936302850427,-4.594759259279394,-2.4848485910005613,-4.825638637402648,0.10227886972182709,-1.7570422364485516,4.83075712237912,5.69672518461776,2.722370106479019,1.5125318032404582,-1.5717581370145197,-2.7983344485352086,3.1808533606519305,1.4427528701390386,4.455848834598136,0.5815726888000388,-5.165376433007299,5.095243030473146,2.0263087398058985,-2.544211725794262,3.967847546076996,-2.3362784445726867,1.9961849270408365,3.7924886396245476,5.586960715019114,1.6359313235085446,-5.004681844749702,-5.230870750677006,-3.570018678084118,4.639660573573224,4.715764989112971,-3.297783966628394,-4.6112147107995884,2.957975676861727,1.7486353471790785,2.8550497434215245,1.7126505739687516,3.9839063428425288,0.563329225022426,4.3065668925813405,3.3619073904331565,-4.749726893900407,1.0257851116719312,4.353895352744779,0.8510712973116625,-3.640863235732024,0.10202011936949873,-1.3313526259312907,3.8964985421011793,2.811022038451222,-5.320855626152138,-5.983589458317395,-2.5263962137725886,-0.20879743538879758,0.13643991463490934,-4.307020310697883,1.123329970270606,3.930147318226439,2.8555277670613783,3.70229815147775,0.5887301377374055,-2.8652835713827782,1.7311765261918133,5.808571900766477,1.8688254311010049,-0.503212073659622,2.3736145931595036,2.6927977897327438,2.2686596128293743,-5.348676007428514,-1.5112743854587265,-2.4713701132105563,-4.972669549629979,1.7202199185919618,-0.5679098717033373,-2.0910123088622123,-4.785578448872322,-5.506320538355952,4.175455368196243,4.003021779447614,-1.6562554004727819,-0.4187139493700318,-1.3308577848734728,-1.5808993007767844,-1.7674753671781689,-0.32301614566143755,-3.7444782069348608,-2.740537653781715,-1.4286552174414924,3.1886551980437687,-1.1183645889220752,3.128537248959468,5.905229825068474,1.1980173448147315,1.195724547132353,-4.250950823694916,-0.9877948152428475,3.1948711369208063,2.074630522676971,0.7959474651436302,5.231347356310977,4.72341069775689,5.344308720723131,-1.061882940632878,3.8337912968153613,-2.0728520671024198,-2.7935692820485376,-5.327000380228396,-0.8958894068059831,5.860857324470405,-1.4952126127009109,2.634179835267398,5.358258694349198,-4.1920012675875284,3.3968601800467404,-4.872473439486187,-1.903334414170014,-5.018640375420203,-5.99179264144087,-0.5799110275977633,-5.169147816979088,0.22073342535917462,1.7579832765742873,3.779418739394419,-2.616290000650112,-2.056778910052618,0.05698944017537677,-5.853665544743366,-2.1001928588405447,3.3399442545344247,4.529189647924596,4.361336874246426,4.693633535880545,4.15094812322107,5.5091925349235815,1.7039543720329302,-2.851221056794679,3.712973802248289,-2.6134106443490595,0.41368925286433544,-3.7089995923731855,-3.2562810672820963,-2.347851490337319,-0.5363834627710542,-4.786836764421064,3.371486997636552,-0.9632234782253946,4.683907552224364,-5.124206871035055,4.257280097247456,-5.6230615907848005,0.17300951274475285,1.864211631896083,3.088083702539569,-4.220832014812115,1.8880748141798591,-2.1987169262066133,5.653119614128187,4.955578678740492,-1.3630231738747662,-0.7557038737701474,1.3246891166967352,-5.234148516091892,3.5547562044939998,-0.6864235011261934,-3.984440487903396,1.19102929211995,5.512371681003467,0.7542697746488303,5.093522178763521,2.6642336135550266,-1.254216584040825,1.9083633544325052,3.999598294969985,-4.375547366783186,-3.628885419158456,-5.839789918165552,0.4369791153222664,5.146961125003351,5.74710061304679,-1.9368478426999456,-0.5691712865502776,4.033235923532592,-5.184934642188851,-1.7817488093074179,-0.9857386886840285,-1.7005604726717358,2.3875859280968363,-5.146994576289116,-5.409197664999963,2.2875420950788268,-2.978521859735823,2.5227368452998267,0.23316963492105103,-0.6014112212831275,-0.5942606064681861,0.8124856495355424,-2.0145760712158305,-4.2941172696633725,2.122670496390647,-4.684828424431851,0.2920783604104482,0.6959450367238667,5.983789374000898,3.369065694182664,-0.014640563413063745,3.1480016360271073,2.879408201338082,-2.0531867792892315,-0.28844278888179886,-1.6729221985227873,-5.9340390750063765,5.866775106131183,-2.504783132018796,3.8248994069064928,0.3669518793880018,3.9549605654555577,-5.374176564375144,-3.3707873471025467,-1.544233150068023,-3.9278148521325535,1.9491030437073666,4.546282365703602,3.0515704385152667,-2.0668621697812113,5.332002793441061,-0.4606162571417709,-4.130616823402977,4.387700220310055,-5.356008617167406,-5.7283263650167715,-1.3113478984929916,-4.661546019367499,5.618564511362255,2.2307787088503233,0.7991909848816885,1.9013080703294296,-1.5599554618836837,-2.512237128645617,4.831024663384234,-2.7845150885934284,-4.0741945015792895,-2.584813515939765,5.281984020120685,-4.983039908411641,-4.056225517892392,-5.966917642380693,-2.5919422073929677,0.5760977765908102,0.6756831855487917,3.6530545887539763,2.620000158758721,0.8950384945865544,-3.404798565240066,0.6243550900869259,3.8626652741245575,4.1903959000016915,1.9036095553070176,5.923380910323198,3.490847303388408,2.3107264538927073,0.31822911778475227,-1.5114460069776623,2.3765859858377674,2.4498459633747025,5.245815641632806,4.070259221441255,3.5451271859783198,4.532738636113585,2.5414188192733,-0.25190750049708033,2.185168245515019,0.6942424295263727,-3.7966161929284503,-0.6638258319770944,-4.593442884914655,0.38154116189682963,1.5718787054039636,-5.934645091760241,0.028582685123366147,5.033284343767079,-5.8728752991969255,-3.139042832062616,-4.460531233143445,-4.438581852484072,0.31787227474215207,-3.9766534549544006,-0.032606512302598034,-0.11164454505431554,2.679232119614607,-3.5184161408925494,3.5202210992419865,4.563911063164154,-4.078998751958855,3.941043885290929,-1.2468877201324444,-3.8389627063512903,2.336306393900843,3.6763297244080224,5.181407196352424,-5.061984544523037,3.576158946699131,-4.725677376105661,2.0779300708511403,-4.396049293462915,2.6027885975396146,-4.899816123369973],\"z\":[-1.8332025066706823,0.15115328920913385,-13.442987990654736,3.2268369240372765,-0.9631145338295832,-4.928348309749575,8.021015620568186,-12.191405151148409,9.669153384726659,4.814972010521433,-2.303754727304061,-1.5942484818488571,5.96305976134502,0.5915666469981371,0.05193483598613868,-0.32225814840071987,3.6760512632348927,-0.32507280252984483,5.451827713987395,0.852242620760518,4.574036773681295,6.908543740119005,-4.754152868563924,6.677544812631153,4.314813534211221,-3.0177489782284503,5.393323582203714,5.255738006049772,5.820899657478339,-3.861924654614122,-4.336848240637554,6.672304989340699,8.693296851860985,14.645690908120978,-2.6748492758597737,-7.8513574615317,-5.889718698854057,1.0961365462809693,1.1224135886008084,-0.047000412876701425,3.1403415311339797,0.7722236449304489,-0.03447342141371079,2.0195879046139815,7.917390704382041,-5.793573141164476,0.3992639092515784,-11.537268557927225,-0.8755036353624437,5.8169578975293526,-3.5124800773786538,-6.549082382568219,1.2977485514665985,2.655828600304589,-1.4140358432737687,5.8245852786165,2.6688023924507984,5.739040727034071,11.001019168148733,-5.657249715921294,12.70004959814901,-9.062662951331582,4.225040530368208,11.92866696166265,1.2470169075651647,0.679005766510854,-3.3377415229395933,-6.814739263714923,-0.5669183750217277,1.1994075545985527,3.191331947977903,-10.800928142693323,-1.8870697308888893,4.236190212821174,-8.252724426018851,-11.775017951780004,-0.3221603913556006,-12.500532825454918,-7.262320951918842,2.133820434653388,-1.5307054358511536,-0.7562361221085889,1.9927623266018122,1.3001180807242,-3.217515518343956,8.253431665613821,3.1029483954161794,-0.8087574869718512,1.8774656105182093,-1.2650689819148813,-5.803492869549314,9.734232159915464,-0.08715663115824857,-3.906930158423976,14.115606413747386,4.185192501656526,-5.5269467700889905,-14.445136496899682,-7.934298599526363,5.430096873068342,-4.175547607968195,11.456484332936341,-1.9600418664804287,-0.5796027381533149,10.731209398306001,0.8642193723461009,2.9580450897498247,12.71803386460901,-6.428668198553399,-2.24352663831703,-4.554995267205287,-6.002181839410002,-8.453694167467672,7.982516020392149,-8.243294600766319,-7.277221587458067,4.995382661562594,-3.928580173981654,-1.9630467596608066,-0.9541794760002436,1.177652280245792,3.5455139458858422,-5.23303463593694,-7.8287237687997155,2.065598624727402,-1.3626360433540219,6.844212269134156,2.3663387967852536,6.753777916620859,3.092577312996383,0.2187385759739673,14.74094541591827,2.7293882614968887,-1.7444826183906987,-7.493164677370819,-5.085423981761359,1.4705914004168226,-2.42040166903094,-6.818776643813116,10.68135387789831,-4.465301683144116,3.053566039951127,-6.31740712911426,-1.3542364901682702,8.55977272362631,1.2583821253837488,10.246624917002315,-10.125923403141046,-7.772277431115082,6.102778925321481,2.938050767568866,-7.683529787513081,-6.291607918588602,5.271708902272541,-5.814174702981862,-7.767522585185766,0.633787240359168,0.6859939316712249,-3.412547658773091,-0.08898108321533371,0.5294760420775586,2.014170319081338,-2.6218630673259753,-4.145010696298865,-8.23554836245054,3.5314468005347193,-1.9644720387859436,6.117367649932913,7.749651744745549,-1.2050574436799577,-7.053151213319247,-3.0713784332592873,-5.0109831878306,-4.507194804504381,7.897135454876385,1.8435413502031857,1.1110314588192995,6.437420673807308,-8.383776088205744,3.1569277890254384,1.8832059642599779,0.7385446086769898,-8.833021960128912,5.916042942270677,-8.51758105596066,-10.434881514944452,1.5691703112063577,8.42357892110759,-4.667353618159806,10.237334771352778,-3.54204165137512,1.78689179565629,5.475575432077557,5.893469327726538,12.265086261724331,5.019528499705935,-4.6513043309776,0.7080256768957147,3.3438385834840094,-8.56414647395621,-11.489290308363337,1.073758560059829,-8.852050725275546,0.1807980553165791,2.794581428876647,4.550665132999599,-2.9389785204944703,7.596917747090434,-3.780603039762793,1.7808199406602956,0.8335494721212959,3.153647277504117,-8.004113135800495,-0.6358146270307419,1.3575638576087563,-2.912486770403498,-0.8788728612261858,0.0872792851569546,-3.467162523487125,-6.708556499229566,6.356090045937225,2.038125649339425,-9.787978454676312,5.390944253666905,-3.653364723744378,4.218465499630291,-0.8452382514242149,-5.43978519651926,4.331758310456964,5.005471382509167,4.376184227405238,-0.5538628857061858,-11.31707723468814,-2.923145146445407,-2.49360300740227,-4.123461793815766,-1.3677939479688312,-9.174260322444132,6.23754933142144,1.904951307503687,1.5615161984013448,0.9757889882475332,2.550991364119441,6.097995126297192,-8.426806579012894,-2.904103073239866,5.273939191615625,-7.671032453723987,1.7263503293418352,-0.4878414044773747,5.761641783356408,9.005805941875222,-0.959669989523519,-0.49312086704517455,7.336001028322938,-1.659642266272228,1.691938841108318,-5.331533139339154,-4.114585449541701,-4.489487280755287,-6.253095924041654,4.762483987779679,8.47358765863942,-0.6131544672339686,3.403302959099424,1.600818601969281,13.83167681925725,-1.0682688880985385,-3.251290286031022,-6.44916179169399,9.654916976050302,7.4430828459747636,-2.620075035985426,-8.627971757392976,-4.524365492540216,1.401211649695985,-2.6801900838209374,-7.066460718557943,-6.471249567359111,3.867278317397423,0.1381623345068954,-5.399459089317398,-4.462155383945644,-1.7936191781480044,4.2156915993970765,1.1775723842681014,13.882270602539974,4.531475545674208,7.378750661479987,-2.9784203246324856,-2.850371798243599,3.5190231697250356,7.025783298232145,4.222062425864163,-9.494306995185593,-1.392788265108678,1.3806958035500156,-0.4206298190410278,7.326540242458048,1.688103195393527,-6.810303790012291,-14.460205514115998,1.9808399597068167,2.310518067765278,-7.388999275875323,1.3543403821974591,0.17829419639031663,11.11857428995577,2.1501479440067777,11.210664241421295,-8.736798902136433,3.7311592489477228,0.08738022888951091,0.1633673039439527,-10.838712691983385,-3.5796811542657716,2.162308963285683,-0.73792111295589,-1.652185955050471,3.4726221142891127,-6.790006832366107,-4.0877653726832435,7.730473019571399,-5.096478997360454,11.079005778705527,1.919131687717802,-3.096527036393095,-2.206746066017331,-0.3871662780073013,-8.646687377063934,5.41468053413617,-2.0379501500208748,-1.2712250801326688,-6.167846701669781,1.4237004175558061,2.139000064610101,6.247083477890438,-9.10186720979966,-0.17010154852413706,-4.512181690379043,2.5235566289880347,-10.739265766275125,4.620953100410995,1.6903592450242106,5.611290096347626,2.641101552830662,1.9351938840209404,4.8735429597956745,12.148614810115191,-6.5243157669189,1.2707912771633936,-6.033969821690901,-6.673830860065937,0.18990252690095266,-4.2619430254646575,5.558013119456232,11.65478107550537,8.352393146080058,0.07670224306982831,-9.617019065304085,-2.04887778069977,-6.702725405482258,7.391631985513948,-0.10949729655689122,3.0143803256046016,-6.529916058271544,10.790861563207914,-7.465523926699222,2.562219353924166,-0.18927054335121252,-10.14589496594655,-3.2092759177406993,-0.3984877043785504,-4.465615038359621,-12.813719098046473,12.92759512503206,-9.05830620948966,-7.667476942217422,7.979889061283307,-6.991974194844811,15.301220682601418,-8.608773091879964,-8.31701699550453,-4.512016471850537,6.183129088010335,-6.1162754498655465,-5.09692819348947,0.43191873684633997,-6.556009209603026,0.8062676445545618,11.443805020685854,-5.157002377835296,-6.85715357050677,0.663628627478893,-7.504072848227013,3.460800405781365,-3.3832336775136653,3.987579817181601,-3.9148123454464008,4.97208175998392,-6.80784352588903,0.12639197276551872,-12.838536830102273,-1.5408382036850368,13.496913798457724,3.997662353637142,1.5530370270013263,3.4903894950767853,9.273587411379808,4.692801230658177,6.516698335123534,-5.893935832965834,-10.681562031029596,1.1868132634380926,5.631678496528414,2.156824930439231,0.7851467764420441,-7.140609041660874,10.135760664114395,-3.2804568759355544,2.876963182371064,12.766379725696337,-7.103775230967492,4.520145028554254,4.6182448571396275,-11.500960132613836,-0.474008195131586,-1.258751025552721,-9.441151850514387,-10.708792023767119,-0.12349248254494638,-3.9947550123710744,3.50166993498029,12.359894566848748,5.6190987008859805,-6.89636655878593,-3.9028894001587515,3.3311150412731156,-3.146536345184452,1.5344267055876637,-4.681717020370463,-4.598529376645738,6.07289495262539,5.767806680164947,6.402610155177125,7.266299792078608,-8.992604581279798,-7.920647697143645,8.731931653289877,12.254642373021206,0.936921058894868,6.255679686423986,6.514913423986965,-7.727234538540209,5.181508441526608,2.1130131358414914,-1.095094510135028,9.101722977758811,-0.21582060252125856,-1.6210346903232233,-3.147644830420119,-13.360398373495137,-5.043567200448878,7.554046005127473,-15.458069523833277,-0.8131859246421751,-2.282643134964423,7.5583566348009725,6.768091853930796,4.78914458150458,1.8477661229090536,0.7708754812317866,-0.08125740039124407,0.850065645120675,-1.190174780978266,8.556324374547083,0.4360547833606798,-11.509764282927756,9.125273241027497,-0.8316553588331637,-2.589178367840522,-11.871741346949154,0.3567949359156706,-4.418400871577548,-6.1443375415306765,-10.737834899288883,9.31770048231946,5.1793964576004985,3.86147808357416,-0.7694370345469217,-4.274043333512536,0.4721176682537225,1.0903505673419298,10.91178499480045,-2.654867143663324,2.2499129138507876,-8.54962723253834,-0.778126946228729,-2.9489913052786507,4.301898614938146,-5.407912953246445,1.000363535875699,4.271502061469019,-1.0056894494862085,-8.388674740353245,11.119778611636654,-9.318307125526434,11.656744787044525,2.822317905303399,8.714526550807204,-7.511777416778385,6.412875980788872,-1.375446519021558,-5.626912051683348,11.462014461517024,0.5648792138474303,-4.593867520017031,-1.2897559885412466,-3.399929898827713,-1.728220001897152,5.646137117198062,-12.278286848705761,-0.19167205011125255,-7.927406126004798,4.333071022476483,3.285230709599138,1.750166164598916,7.655446621661612,4.3197645297401115,-2.9912529213231074,9.780925110890623,1.1797775478502048,-2.5836691488884505,-6.50741925771357,-0.618979130857519,-4.047761300590972,-7.212890072609781,5.442236468110515,2.3839970228705596,-3.2785064429831694,-6.95439968246036,-0.7039722556690187,5.694548618371357,-2.008085568457807,7.271637199648924,-2.2713673099830807,-3.23477350682709,3.3472607799143876,-0.9394803253659649,-11.922678480993184,9.73213885812681,2.9351059880983668,-1.8157053107829073,-7.117282086901486,2.85524413580471,3.4440995314581646,4.272170734365482,1.935406556715475,5.760865572695209,7.459678127626218,-1.7841991008790816,-1.3089580250774482,-10.007546200711195,0.05988255951224897,7.597398428818618,-8.172045203966798,4.5564417673497974,3.8890533128147897,-2.541655731629542,-5.369588814314234,0.9266367125190254,4.560699906546622,-3.6662897161269354,2.883361813960388,9.63956486789896,-7.2633172714962155,-10.582387940661011,-3.255049382785998,3.0561192689388177,-7.252098619935523,7.2957198904396465,-11.14220326363916,-4.637633509674978,1.4148857836437276,-2.64301131861052,6.122538334592258,5.054515394520033,-1.0140117818302148,-3.507933487819095,1.792613971933243,0.5076418435249677,-5.112773085660445,-4.4751934214926905,-1.2702262540940241,-2.8331684844262064,2.707189772629001,-0.4264774339762125,2.0934535374891734,-3.4072957546258613,-2.031218186032108,4.901808891641529,-2.781676343405606,7.32341424488601,-4.10181479796176,-6.349623096007197,2.3983078027210096,10.293578727535337,10.448662216858843,1.6476204172621518,2.796284951036217,-5.19934301298668,6.484147512858495,-9.750839015465523,10.633636334087274,5.988956936139829,7.680456725345401,1.3205705142321342,5.835930354771837,9.829612827424018,-7.913351109403386,-6.013837972362583,-2.9497416373855865,-6.664376557550314,-4.029207813073674,-1.7191199842104021,3.8735419449899293,12.29579706478407,8.59866206305518,6.97741426030605,-4.299267036024867,-11.510962275079521,5.6351297840457715,-0.3341751207111625,-2.8167250541978537,1.239506788577641,1.2963389947790347,-4.845582599643247,-0.48752528513347393,0.10098431520221318,2.302098052057099,1.2660443980492468,0.5390023037872469,0.12880742654563804,-4.450973073927718,-0.1100997752264643,-1.8588879400462481,14.43065754638316,-0.9991041713081064,3.786911712387295,3.606762239048976,5.688194023108778,-2.936358803722407,-7.270843367223512,8.246059584940468,-1.8423598869426847,0.8514638201161424,6.392354042301514,-5.268006097488096,3.974755636028809,-3.339265140009065,-1.5487019811197866,5.023328345757281,-2.3940548678370055,-7.889515618383679,1.2145739726870968,0.8682615281012316,1.6248905887199063,-1.2783589841490328,-5.753012731899561,-1.2099475525106733,2.518125404951684,-3.838109151631893,11.326111185548163,6.256482059238744,3.7521011356628327,2.400238887347266,2.343897645380284,11.440511086088536,10.322802574430199,-1.120611172261782,-7.690296769445711,-3.0695183625160176,-11.286237606337538,2.87778565989466,10.305518283257456,4.5906857588017695,2.3581321960173938,-1.024500260117338,-5.8153680042776585,4.186427130170196,2.165637973438707,-1.410239295286865,6.983669552770197,-4.468386059258009,-3.8902971177210794,1.7780259121548907,-4.364753514664191,-6.218294131821663,-4.557591538172781,4.051741900910489,-2.671725669746949,-4.3470844048696975,9.753525179003924,5.250278920218403,-7.279336864222546,-0.07796325092148138,4.247108123737533,-13.03132521435618,-4.02296037489766,1.3367716511011594,6.469180183741639,-1.167288324640701,0.11408987754795952,-0.0811414321821804,1.3780414437208761,-1.5081517386265801,-3.6429823696267354,11.507516258033489,3.4641034680267815,-0.4075302026471146,-0.8812545831679701,2.8976853580720636,6.7844082570354685,-0.5121923245264624,-4.678428403503027,3.139934458002034,2.0438136105149765,3.652379671803453,12.439994968289023,-4.9831537874733325,1.8139861953857688,1.4853912577564095,9.676990963899883,-5.2056137316328,-3.3861243955054428,-0.26022856987993936,-12.789135235448406,-7.391639549819933,4.8233408372719495,-2.848071637618376,-4.926151333192977,0.17032358385954893,-2.168593239820786,-3.3644903924788445,0.7445960872528037,2.1496323837763907,-5.909369184746279,-4.238162075159287,11.310385833147157,-8.337177094690112,1.6920580944984733,0.8210829321603681,-1.561660445248915,-0.860772047994828,-3.793519498896302,4.092598220881243,-8.438106730082172,-2.2761461422389253,11.008150789334682,-0.3493343341359667,-3.7461886541313345,3.6377487938627873,9.779172597448726,-9.035108270579268,-4.100366180271426,-0.2636494820222124,-4.783945704284815,-5.896729286795898,-0.7131096977355238,2.0922853469725498,7.357181874868853,0.26256179078152986,13.871028229541434,0.07904859801686115,9.245106102095718,-5.637745333576027,-4.769188121952736,7.564221698941784,-4.045763371307028,2.3201418063788655,-7.784386179323848,-9.082243394323395,-5.063897080901404,8.772536052472429,2.147909808359797,-10.299308468072557,-5.82141892281443,6.836663656174561,-2.739552700003019,-4.240444148210669,-7.581939837269352,2.8854348538869203,6.808220352463149,0.5059697905443015,4.32978732620972,8.01082149263337,12.975003219066531,0.16521325320694835,-0.4520257677363446,2.421022150574758,-0.5789181249627937,2.979469938035596,-5.987794826576381,-9.58775213753136,4.477482002649927,-3.844811780968654,7.003855097187326,-4.845748269569645,2.432443702448192,-3.8002721726399367,-3.126934775102141,0.6882318562961585,-0.42092050135471837,1.6657702943017658,-7.380871049687567,10.031160193930997,-2.5657516738319774,-1.8856151115224904,-14.463981746569193,-5.906255887588276,-10.588157042849105,-5.162878563872512,-1.5105931246166366,5.750062200152714,-3.213007043029903,-0.9517477412700774,0.6048432947282718,-6.3274537877969586,-4.261434273935814,-3.6296754856643023,-3.600454120659254,-3.4268760932942772,4.200473278908705,-1.3329570099302757,2.427750773020273,-4.700169276107781,-10.17370306298197,-3.0227267841174505,0.038353602140040355,-1.035972683923836,1.002258085575976,-6.305815260826955,-3.1325438048862093,-0.8189871223148466,-0.578600812694837,3.8762447121584023,-10.352160773673548,-0.8367275687655811,-6.142428657771455,2.4289609697410217,3.6184694322972453,-1.0775876927806571,-0.34443288514242276,1.3448017290778678,0.09925547528613698,-1.6357246362863713,1.7705334524009881,-7.524107819329872,-1.9881611680336277,-5.092780785643952,-6.407640743984045,-8.149939509724721,2.8155862761646873,3.0474878754570485,-4.311576790046363,-7.5565454078463965,-2.469959389014003,-5.467400926629786,8.77213172046434,11.247001088530869,2.8777582970965443,-9.852692750388368,-0.5900327566607211,-0.04232138236253924,-7.834953836286976,-7.587448483600301,15.687121274656919,13.753285963282869,-9.134988057973914,-6.3530059832369945,1.3302734453754077,5.166278545598379,-7.425630277514272,0.9013554861396358,9.907349726711395,-0.6693763053384001,6.09645377180663,-6.07863799496455,3.1936538976717146,0.880991370132385,3.705696772120035,8.465387140730918,6.052620120766696,4.012349747569814,-7.0118212059222635,1.9195780717766624,-7.283054342499948,-0.8681400625266358,-1.270444146682233,4.105075033880278,6.035513518655743,-5.529110941214285,-5.307118841452003,4.157414448647629,2.6729720750346946,-14.63441163458171,2.3619079231685385,7.7015564299432615,-6.385648424722323,-4.291424085392505,11.374747797241493,-1.538973055574695,-11.446343582312096,-7.0320359220465924,10.606107219561668,-0.47794519186616746,-5.870110214037595,-8.751639571212134,-4.426443563430796,-6.5014177102309505,-5.21187460459398,4.354145392833488,-1.7919822378487362,-11.399562334136922,-2.88689380616056,-12.273426820866963,0.8332674033261385,2.941303498488663,-1.3636064688950764,0.5393584436527341,2.443363058485174,-0.10225054102743769,10.101809593825507,5.786305786883678,-6.155317440385339,5.842595832075146,-8.286421534316222,-2.48611954220433,3.6218559354433832,-4.359526320371705,-4.589349291041788,-5.505400986872618,-3.2334897659279407,-8.470381922499246,-0.5925266795794562,-4.189230433753191,9.668983712914196,-5.069288289677279,7.073971005741508,11.675978152232025,-6.198823528367334,2.26052059086205,3.8743830811903885,-7.299940169638067,-14.558418377446324,3.920849635322876,1.8250451441595752,-4.297001354395822,0.5486304409886524,-2.87257532198356,3.8656591451845035,-0.6515982685282351,14.877006604060728,0.4986269112655002,-10.246662221010192,0.7083515920358927,-1.1358986199454066,-7.053445250415523,-9.684067482470894,-11.685932478446825,13.37881321829534,4.845661134855207,-5.298406593508987,2.5287229554412853,7.549181909259483,-2.1655732356613506,4.695348435508728,1.964738412241653,2.9009808805449695,4.925344856288727,3.427808009764581,2.8546673356149332,-0.45362211105329076,-7.77466382579511,-10.148111891675256,-2.2628369092874765,8.620574918073176,-3.5736017452020343,-7.256019508510745,-1.5682003628301913,7.60524286696607,-3.874704854414743,-4.266884012043041,-2.1232754312608395,9.626151836216057,3.583988239469436,0.8628383266637494,-10.139811451093898,-2.767868507361041,-4.8648310326254505,-0.16378559496666512,-0.29433052296474305,3.4061189595221,3.2386452006688953,5.093613435421444,-2.5328911856869674,5.001201779448611,2.682417694834842,-4.03465184136059,-8.173189490512637,-8.569252007531624,1.3904148466371202,-8.241207953725507,-3.7308391830169514,1.0305829731769274,8.456847514979085,-1.5215911821052583,6.070547590144557,-0.7424023774519757,0.9995902540585924,-5.704410047214877,-0.9001500908210955,-0.510073670921452,-4.135039848474916,6.665127431290228,10.390229054608135,-2.4101255401300268,-2.5496048033999528,4.099233970827457,-5.281676428388936,-4.346763495779347,-10.311786790257711,9.657529297631093,7.727728081495689,0.6579684465639302,3.8162158076973745,-2.0898780361553664,-3.9232722872107963,-2.2329426947118134,-1.4224808988754631,7.63001670856395,14.038170827042341,-4.500986447640409,10.823525075018647,8.649340694854573,-10.450768471232312,-9.00536803382462,8.718946135978658,7.963079717710656,-4.715665829230902,7.928508355101004,2.5836877951846926,4.077039182180236,-3.488063180523323,7.120488147436582,6.769523703136064,7.8067399790184515,-4.65480715532884,-8.81101279736372,5.4730981207855605,-5.277236872196019,-5.2686928236933674,0.6704589913796077,-5.598400833130016,-4.0575055631083785,-1.0975501961014231,7.205052327494536,2.7527452647186204,-1.973482172002326,-8.598451124354902,0.8989919673751712,-6.856069504875784,8.603410657072388,-6.753190985773192,-3.1229465048585805,12.291328570904863,0.464474675050337,2.375151976054104,-7.770417216041547,3.1551558243443143,1.3105880320767098,-10.433101772646182,-0.35913700522035397,-4.680072982306003,5.041376684684369,3.3053260732599012,8.748187521710907,6.5956369510875135,-0.6073453270829039,-0.3033741963375798,-1.2470996048373273,-1.2467807347215252,-4.0698292885841685,3.7357775422245654,4.266344805940233,2.367539449376041,-1.6931116417152228,-2.8220020475316607,1.5487150855044094,-6.680434175557179,12.27523286206747,-0.35527664039509776,-2.8855045525714806,-0.2250274089848574,6.833478578704124,-8.359467910367904,-11.794658283303022,7.6578178740208696,1.1193338037094387,3.691280885043783,-0.5937935620647079,-5.571092301149799,-1.5418983281173269,12.183359893180516,-2.0344979548367856,-3.2814254219439034,-6.7743664894945566,-0.6662731223659151,4.646044741330737,-0.1300096216859572,1.0789861525769986,-7.101442651802399,-0.08712152091920489,-0.13762981926264928,8.919346449004278,-3.431949408604817,-3.2540037110589477,-9.423986241522393,-6.0893269052959695,-2.3998501086845723,2.090210523809513,0.5250501091820805,-4.221533012228879,-2.5048242610461173,-5.817884955942841,-7.95753568937499,-7.194816723832249,-3.153204829227522,4.393365142425015,1.7284185069238411,-4.0135130335425035,7.4032369780075555,-4.355828473508267,-4.029529547089918,-0.7334005616056127,6.002236277176914,3.719036926659431,-3.0923105634584083,-1.2847426438440115,5.308810335608901,-7.388155409844328,3.591896999686795,-0.8661654694479335,-7.617944840172323,1.4354812665280758,-0.1098013676996521,1.7491846984951502,-6.276929402601835,3.227860273172852,-7.845540480431951,-1.6489973680291197,-4.936167049495417,1.9213007318358502,0.9614204508713753,7.035406609351348,1.7622886944157807,-5.68565191330014,-1.4602394209475955,8.842044527259805,0.46654175874017945,2.968252463693446,-7.286510836791234,6.032027252903337,2.2476144473176562,3.0967817022875543,-12.468518754676095,-6.448513159328703,1.7737190216358267,5.157830999629887,9.774411775298661,-13.483503494459073,0.918469322747296,-4.944780242594057,-3.647268576287516,-1.528457781328933,2.303577370597607,-6.996871519009801,3.953456599081729,-2.8604788130811807,-6.270421739044088,7.629908792228938,1.4410155416272303,-6.031746583719428,3.796003496892716,-4.579125560361611,6.60700510455242,-1.2778351381513815,1.0456824578102886,-5.580802520692734,3.8447832093254837,12.520380445140928,-11.64878534687764,-0.3344929710194573,8.491636446573711,4.888142601552393,7.970507013207355,8.651393437427917,0.08716530710837578,-1.072568948720832,0.04569857870615124,1.387156906275854,-0.8074788420748167,-1.3962290040579264,1.058516448770865,-6.76005055619286,-7.346333556554899,13.84766935930283,5.597416927627313,0.3992077491198476,1.129697059027614,4.460806374807907,-1.5654581542742072,1.9546478505686897,-3.5199779906017774,-1.690308155448081,-6.580470109445707,-1.2175627430501277,6.5317557969935685,-3.0033761265929417,-1.693112146434017,-1.7907137040585335,7.3154910793676295,3.714986748513911,-5.509041184306437,-0.02386368415850537,-0.5454746374323127,-6.287842949488776,-2.142398033456245,6.117106147141065,-2.39974521947373,-5.4870609530743675,-2.3172039445697035,-5.032972859497185,0.4358024216669323,2.7475013611493915,-9.615463663419861,1.1010261594971604,-0.6879170963773147,-5.096681623737301,0.9234216388689362,4.388962183519809,-0.42379097724130244,7.099022222200552,0.1563834644732145,-2.434924345822533,-1.6705875661082796,4.365258871779757,0.5878932416590934,4.406435388080766,-6.615079488486113,-2.8336210805118514,-5.451086212235001,-6.4395968390415605,-4.573067416628509,3.214112867536316,6.365618601202128,7.265956143724564,-7.82597799354795,3.594686947748526,12.883688232383507,-0.8398893235111791,-13.125566900004367,-3.5472452149098705,6.3492122005120475,-0.8092636455708542,0.167962072466465,-1.7948305310315553,3.1732816488044397,-0.21606175696206442,3.7459178456356934,-3.8684993804929024,-11.08282916946937,-3.187283173426554,-3.2220562549025598,5.433089615293488,-1.7386986031257647,0.516745132877646,-0.45714624445245633,1.3517694942686616,-7.843810933874661,2.2225704650067772,0.012030981556959475,-7.628911748777871,3.2421773096607556,6.726034691618218,12.012187416337886,-14.111373990669962,3.3239459242539438,-5.589506635544681,0.5058673921020818,-7.8989222173325855,6.944186529754552,-3.5434278531880254,-9.975589294962399,-7.777526475745291,1.7119635676511553,-8.64106518635992,3.9919436229400524,-6.243501032156371,5.388562844511094,7.191915610988968,-2.657684479673681,5.881025239848791,-8.480205984026522,5.315497086831374,4.629962762704393,3.466962038345673,2.6144326938840265,6.382034409155331,6.623377178914762,-9.696385876284953,2.5966888941007014,5.600447437681282,1.6992898556286136,5.19971058209824,-0.7611074530437243,-5.846047738584602,-8.41713745698514,7.538718775560608,-2.5224144292756767,1.285450207376666,-1.7116551743286097,-3.5600223932405655,5.294135813038462,-2.107865960380339,1.9538882197279124,5.613143539053764,12.209552289813315,4.504583531201867,-6.47061060294789,3.750543764194787,6.526761007790482,-0.47044777273634075,-4.5959283209631225,5.478448996246405,9.517863172541807,5.28286377047465,6.425789247971728,7.352811015880443,-7.986684779024099,-0.2882247926812407,4.6242664729036695,3.707815964905815,-4.570386610963361,5.604001532401417,4.042119229023137,6.2670466455709075,3.6356467593075346,-5.09415629342452,-3.2804993481063383,-2.479522156366894,1.2586685478936253,1.7988861207491156,-8.937217621879185,0.7837068937397449,4.527161516918834,-1.898714175328351,-1.9129573350356468,-1.7322871172458516,1.6412066248395076,2.090454235478894,-3.606918706008519,-7.931052066093985,-2.348052983877122,6.092009332849597,-3.9337931236238655,0.6251917744629081,-8.775107108264653,2.7188482668124525,1.8970084200709287,6.289675235564472,9.335600941492281,-8.285690746749268,-2.4039398073195257,1.6022770919476828,5.404440972964266,-0.11422133186338623,-2.8759408036694616,0.1902612762030822,11.302117074216078,-1.8406697087333255,-1.3712068801705959,-1.0563211404391302,5.550117955750028,2.3600640139594518,-0.8311099773920709,-2.9203155399596157,5.170821167591507,2.878732297641937,-6.090746229706603,5.64956337039606,-4.647538576329945,-5.989240225874767,-0.3716180598605323,0.7608010760593018,-0.2179574534584905,-1.228888551891762,3.4676758337962363,11.34388473819161,1.7189214328475693,-3.226767966157352,-10.378512613052191,4.143535178627657,8.42178559185112,1.838369074982218,2.1588324137956842,3.8624781329233633,-7.783742339844572,-3.8075897915122923,-5.333974447197388,-8.840875081305427,-7.968938409239213,2.6822048609948093,1.4838315908105972,-5.917241909887654,6.528756276579207,-5.5434744910038525,-5.364477834238704,-1.0832515852865776,6.331497882572331,-1.0491251247333775,1.4784519858460694,8.006318231065238,-4.557871342776359,-2.9495619262439345,10.376660041807712,-4.726869878639503,2.6650176393690397,1.0063411191316876,1.3424031122906515,10.391805121163245,6.2894839613184566,2.7137182436457943,2.7262273018015817,12.35608634986689,-1.5450981571092184,9.226084230683995,-2.7046888334202484,-0.16047248708156658,-1.0266292179925571,4.151850346100926,4.835798859021894,-3.8842219090038377,3.4944279363792523,-8.786831522799991,-1.4767461826081951,-2.7862721844810476,3.496353424872871,-3.9676708275675283,2.5984147036088414,8.536574618495344,-2.7178152475898205,-4.957332735934811,5.27756018886713,-6.602630657450408,3.762139216315873,3.326877231407585,8.352814221121559,-3.135740772344252,-1.6121644850681793,9.377666990457886,-1.3575021900042135,-6.904575016174622,9.32845573454154,-0.5572967511754658,-2.9025953604433257,-0.27694337150320614,-9.331797822569122,-4.198314653393211,-1.8602318444492223,-1.8429242135996518,-0.34774551640010376,1.9023380241545937,3.6414660639693954,1.569338424521308,-6.748594233468044,-3.67703313257059,8.17966576299963,-2.068182064080863,-1.858304544247623,-1.1528091085879124,2.419230163404223,-3.2082266378357467,-0.7926445485957316,-5.124081450555064,8.750711522276038,3.8988471407105116,8.820681876483874,-3.9686504572565893,-0.36363863038016087,9.53972895905176,5.087050310619395,-1.7092961236919044,3.8333452897026272,6.430927617981913,-9.259566758363476,0.6125457602608941,-4.064953068020688,0.9235596502319754,9.150814834024512,-3.89922440056667,2.7236913318368092,7.346100371549843,3.750646672623588,8.13583755354091,-6.8348314642530426,5.6516661522668965,-3.7666106815796208,10.956374846436763,0.22243788879704507,-5.0043803135006,1.1121483793538554,-9.338485442972798,-8.192978086279783,-0.11531760270321456,-4.267053238025616,-12.164610249997786,2.2257963739534574,-3.8063329990836854,-0.010297117963437685,-12.256719517123823,-7.612356181702523,-6.411108507030027,-4.7296199830808865,3.2913653605829998,-5.505952206634783,13.476557048219798,-5.298290084644915,-5.521827310585451,-1.4917381967091288,7.572764033859399,-4.583686151810308,-11.979324811328482,-1.3767049077172615,2.353337857703128,-3.815265286004938,3.5980159987658125,1.2227307889889358,3.4596566724739883,8.43438138612709,10.119417935562891,-3.339197101692851,-1.3867642168759864,-5.973079851135873,0.797522018820862,7.538541889220724,-3.537474931501544,3.961432926827202,-1.0464779898659877,-7.273347454633271,5.259520419296816,-4.523182197712018,8.420956249699742,-0.29427711818057345,-0.29204402972447774,-4.123885297180834,-4.468313338586561,1.9724872566164406,-7.38816379218765,1.9258769159188898,7.866134944589692,3.370750459871778,10.150791621404517,5.119208460297921,2.0114656585466775,-1.7544245022368425,-2.2658855058486083,2.9567599218368734,1.5673833754486393,5.781282461022675,4.073932297670969,2.348923819303114,2.640862528272242,0.44773732088600227,-3.886180029440559,-0.41994758115314657,-3.5855985383814053,7.708306180886961,5.107972143330439,-2.9514808839031534,2.5161205137868548,5.5849739553271425,-8.77797825047366,-1.666218077898221,-7.260700861388871,-7.159634378804851,-5.198417176974889,0.8407553145857953,-10.088213422227334,0.9066921104600034,-10.729958011413999,2.9928606051071744,-13.023412543341838,0.833465794158426,-7.148393911184405,0.6951950608496396,5.38147285014933,-4.550583562119815,3.093552654102311,-6.1070351862483285,-4.211316931558059,3.4805453243335727,-4.327541213795101,4.049931204133841,8.466581625790392,0.22535846694958117,-4.449363231483421,-4.215402939333538,-0.5546268944033264,4.083294291773546,-9.964123778258202,1.495424861118945,2.5327551547975533,0.5469456934613164,0.6799701097720323,4.205107249801298,2.013762755472766,12.143421009693517,-9.938572164205006,-0.6364871820313356,0.2018454419556739,6.028355029186947,-4.096323336106219,3.8877943451300405,-4.915112806115257,-0.9629164243971484,3.635542472340303,-9.930264398635975,-6.907134272719972,-3.131079955076744,-8.695286322341135,0.8504310637182888,-10.384718339955931,-8.96285758080238,0.1413714758432727,-4.647215216857649,1.1728031000393049,-6.369749386672393,4.155199887659943,-6.968479444896788,1.0891662280290024,-11.681487077699323,3.6152687805312604,5.1277633608393245,-3.4083038887628634,-1.4174346832622682,-4.296488826469,4.009553309322682,14.394287501541305,7.290207804871235,-2.1145002277756832,1.9009820131129924,1.2904852723977207,7.6449210168186195,-3.0648194573754797,2.030516248923427,-3.0929989884849807,2.812856612309912,4.467222337726193,1.6139941017341841,-1.6638889579761242,4.835250712124975,9.355982536177208,13.767136012161872,-2.5829902054983824,8.722348914331642,1.5608967455050946,4.722883831197984,-5.243218707475583,-6.008160078743338,-2.8534936325915536,11.48694664960038,5.451199644249175,1.856460632576184,-0.9617282470456114,-3.751986242414681,2.878499486764683,-3.7472373801612386,13.936435558315697,-3.276146144545553,8.832054796245467,-0.6626820422609678,1.2739679895156204,-4.465324925849496,-1.6716716952093145,4.572501398569166,-4.8034667042976515,-2.3073982557643076,1.3590422099202257,-1.9177755916515724,4.479573197059279,-6.998223307349296,-2.995331414415735,-4.916007143240399,1.7980761512312387,-1.4574979712604899,-4.371592743184302,-5.941339558035091,-3.351806253429783,3.143170310872875,10.140546185360973,6.076244478894621,-6.834541103355049,5.276525093478795,-2.043348945352496,11.258582038194813,2.570188346280042,5.329100217921186,-3.7134513051015636,3.780159849237518,5.139945696599536,-3.7713227786255374,-7.0164935938231014,0.02055388154083282,-1.3255369929520127,-4.484702200418684,-0.33591305467239074,0.5400958294180525,-9.811741498845482,-5.885058507467358,-3.9156439405885433,-5.463298300807081,-4.623351591059041,2.15519333545795,4.33813408498734,-0.20445296539290236,-7.746043529529286,-0.6607457832226693,4.3603767012610195,7.701008342259886,-1.1153944297705545,4.661747718464202,13.697057013385876,-1.8848898263600837,3.578603397543337,-1.0270815786041831,-0.27910684192550317,4.290246487853645,6.051979769194488,-5.7483196264525995,-3.385035545926361,-1.555443287043233,9.735415754412703,-4.674844557174726,3.3732436683177696,-12.162009872251609,-5.189482644955866,4.94856008742847,-2.3568659235931477,4.474115805225342,2.8565135783256137,1.2606559466989022,-0.14059649106900718,5.258412507128327,-5.970993644761817,8.875439877210527,-8.191370369636136,5.1626136101084725,0.7108291837277756,-0.6836935274580758,-2.4966181266132956,1.808104599645402,-3.3632629878865403,-11.221854901179722,1.2898979258222543,-2.555808206611516,4.462167252140509,4.510863652508171,-4.950771953450462,-5.8697260417908375,6.762384715300601,8.535035346113604,-7.7277200529937256,12.686436073727982,6.927603257641582,-6.280603179907718,3.1983561678169163,8.76663171579575,4.757479604215653,4.707714383847215,-2.8372270763763527,-9.50520203921574,-0.20082765108700862,1.4759812851555,0.7220888223702726,-4.015113624631882,-4.067999032044877,-0.4819111075793172,-7.429820314212759,-0.3422253180971033,0.3221478667641424,12.047751390228942,3.309233827086409,0.21996765771464455,1.1094601593558528,-7.410430596106319,-0.21247042706571762,-10.509528757094948,-5.596948243676238,-4.364170476562477,7.549441735581862,-5.763521969636803,-4.904904298119765,3.4690194695376118,-5.4065671522146985,-2.354827854873953,-4.410335404290387,2.4481182332165576,-5.290584608951984,-3.954653563180832,-3.404966063696687,4.4285175697410795,-0.048795287603044635,1.547153340451346,-6.7390107520549485,3.8224349403495417,-3.831470643519908,-0.39981467481827426,9.699245748358416,10.269946554246964,0.023272570292356853,-1.78416514821199,5.56311990837603,-0.9484135040851251,-2.4392819003667556,2.0708659698376755,-2.159517384555854,-5.5058175268789675,1.6885618950036396,5.3618474618656915,-5.208440318975901,7.360093642159845,7.562715165652835,-2.684476616819108,-0.7330709041297712,3.8874085854095854,1.7007824581811484,-1.4106236831661283,-7.755981276770278,8.031701425054013,8.432139333648827,-0.6443426007486943,9.0355692896214,0.9771644843183633,0.179364359488714,-0.31380246608218965,-4.726872484917791,-7.108252706108543,5.263739334500266,6.230145436875784,-1.7116526099561167,6.410668625862071,-1.6285515274322542,11.96705060898876,-8.48746985571212,2.05709157480083,11.101822589846119,-3.2931212936962666,2.788016664906348,-13.597093857736706,11.919195885048119,1.3086674292560518,8.189719199665246,-3.194805699228173,-1.2356839710785774,-2.6578084752953113,9.82006169689405,8.98123440259563,-6.066773093511503,-9.653847598169627,6.178380201472038,5.6673028795536355,6.696402461102325,-9.185060492424581,-1.2884411567766039,-4.071055810695414,2.9043688385998556,-5.7346857482947176,8.603254987005121,10.547900238131394,-8.692175449524388,4.37521672434138,-6.461424622964949,-1.0346998832140555,6.89993519647555,1.0063752678093039,-3.622479811723548,6.719223981973561,-8.140421479536741,8.921043169668614,3.7529916802288614,5.724126698890654,6.630869917303604,0.7965190848748658,-3.376708981284658,11.512144992634228,2.9107336908994634,5.231682715581578,6.459406494793936,6.898678729134197,4.042085047678525,-5.716954532307926,6.263557318462698,9.291276699523166,-4.491840332875983,-0.8409179000967342,-9.77993602650698,-6.544687899445986,-5.693384663406468,-7.478182306742888,4.10067196565695,0.6632335021709688,-4.8518738461087665,-3.263610043630935,8.711773351784727,-0.830940208511433,-3.4030079507489637,8.14254559746011,-3.2563478614210357,2.411061600136673,4.798932375785181,2.735368249350307,14.06202158463459,-3.5600071418504693,-1.4562285945102684,-6.3362912548536805,-4.800555632625776,1.902598081157958,3.0826867078931466,0.5180483683951644,-5.598832743133377,-4.308153527534649,5.16205661375688,-8.298397963470524,7.52759555057891,-1.4217924503826245,2.551175574630932,-7.554072962971215,-0.1792443460988391,-1.7855123110263453,-8.958252974948632,-7.757450179590459,-3.3851839648468847,-8.19732614976132,2.2019488672278893,-5.92722951152008,-2.7000448155184205,-0.35334506389658493,6.531470182260714,1.3174076910986585,-5.142128944549599,6.626343729831381,-11.72463563112871,2.326021328810951,1.6147846063700761,1.6809312998972263,-9.55299904724062,2.276539357926959,-6.631821920291507,1.9612028456000261,2.053416802559103,-1.9246460950547393,-8.004042980354924,2.8671661032318942,5.767548164497084,7.500789451871036,-3.229432561618049,2.565428672760831,6.854943379689429,-7.297355451227816,0.10129977219480857,-3.2582399897762695,-0.18940912381770936,3.5687181611666228,-3.283480312230256,-12.835720086343553,5.025001519802743,7.321752166924348,-2.4630681825839087,-1.651448987446058,1.0269664777394611,-4.872954735856432,-0.24461331508496942,-1.1696354461505893,7.876595707147547,-4.604689051523376,0.261941207269083,5.413304810458605,2.6930715948807507,-9.358050365307918,-2.1057019586675016,-0.40356085826689725,7.566444382972412,1.831951132712267,1.5603218510915626,-5.936640596144612,9.478218527655105,0.7399000345239322,5.3541856678153,-3.56365484758913,-4.3891627610160375,5.101863958121747,-0.685875965539914,5.823561803572495,6.600122088921574,-0.7532664359712413,-3.079935000434547,-4.2266940866158516,-0.749000341049574,0.17268206517109563,3.5013410312637867,2.2256310260731165,-2.271995424566847,11.260043968210033,-7.716240096187528,-3.8669693953022586,10.625440843117875,3.7199766645403876,5.817062828152596,2.2951047254899235,10.023555411724958,-1.5601623441688406,2.639827587176446,-5.422543268804124,0.6312123334406694,4.474836561812199,5.265599678802803,5.451992782583431,6.336456128450078,-0.7074050389639659,-6.993293887267017,2.5766484007098125,-6.277294505257082,-0.36599367397832605,10.028149611928503,10.61943814634462,-2.61639584302304,-4.183494784104674,-7.582219794009981,5.355676331383169,-0.3094514610943171,2.0534929222903058,-1.905738119618146,7.6595235589859865,-12.550733612373229,6.140279133522906,8.1786867244188,-0.008686003862891312,-6.551027072483642,-9.446121261597414,-6.544869576617382,-1.3043356711998957,-0.9992690207317865,-0.15906448680267626,-9.969229476847444,5.889705319579322,3.9580603419844183,3.0786855098938295,8.949015618496535,-9.274066355266942,8.493504587373593,-4.337201652746548,6.705304955845492,9.672849469763612,-3.9929740994444893,2.7251832501941617,-4.165085724231235,-0.36619187748707827,-4.029844311111334,6.196528638585608,-1.516527112484292,2.7121825224532703,-7.4202360499324085,2.6388633582993357,7.185814796618628,2.225665154945295,-9.336836513495022,6.314837902546053,-3.958964312144855,-5.843797134608653,7.880308487810295,-8.736581716115936,10.054254101561053,2.922566845973688,6.807732834809871,3.694186593757162,-3.702048688618054,-1.0678747290506276,2.6863941787433863,-3.3770617926208715,-4.286438873862085,10.128809309301591,-1.7797566176940611,2.9183125057982005,-1.715093364846716,-1.485747540243524,-2.0118749447822912,0.1355316704792333,-5.291671287042554,1.3617708872935794,6.9373882305931165,9.81424632087031,0.14727091722548513,12.770381652113146,5.350988083971466,-6.648517946235813,-5.340482145332464,-11.633028142634814,-3.8197699811820574,-7.214173370629142,-0.9431732127497829,-6.470169079031609,5.450129803081575,8.883900118169265,-3.3702519997383744,-11.307828495372537,-1.5245028406226053,-9.876971597235013,-3.8993389765536444,3.0753747820805164,2.724239013138819,11.77757763259441,-2.764667970166278,-0.7233516402026874,5.6802265244695755,3.6320117604833904,-3.587254763700983,-2.1171873640473056,5.225616355296239,-4.332349403835003,6.827419308781731,-9.916607561501717,-9.526461262835138,-8.57846154442975,2.4706033682718496,2.9804906766288894,-3.596924715811938,3.8384603215996558,-7.5307613131733975,5.836423722404622,-0.11793882451221371,4.457316268141261,-3.361253332105508,6.034405690626272,-1.5847107595378516,-3.8285596633334507,-1.7004722822486946,-3.2717296829546845,2.8886291442489145,-9.260182687321212,-12.099468656925628,3.8943163572078063,-3.165754233416068,-8.446820651055134,13.087275764872846,-12.561620141927479,4.920222912780939,6.030610372203395,1.050728478959261,2.0181166818647966,-0.7250159802791734,0.2999681606044122,-2.199436390606147,-3.3668733949002085,-1.9534570281834882,-3.70214696559795,-3.7797566513687464,-4.50266918461563,-0.5930070292510585,8.918278126791037,-1.1967942493734869,5.04139109124032,-0.5853305874348367,-1.4391980223015102,-2.9419135355118105,2.117054711654262,0.44136975688015667,1.7166210786762668,3.53062685976017,2.341449127208331,-2.8320890041506597,-1.088769963857255,-4.710767728834731,9.70298676513471,10.82499239085487,3.3813287899748685,10.282282834388218,-2.167367075303635,-8.924551872788992,-4.689469795327447,2.3768716506570793,-9.380908492307537,2.232287943766278,0.15982445675474066,3.817511860095826,0.49500219939487256,10.740278398172045,5.187044556222358,-0.21034468833952058,-2.077601295171158,4.458539390439236,-1.4233403946112237,4.740099544641504,-4.116638746419799,0.9980101598564337,-5.179462495855477,2.3179857993781945,7.081978139596767,0.4595725078491366,-1.5631878544714533,-2.6345885446770962,-7.9410258026502785,-5.772973236841402,1.3447629192532116,-2.698504243017849,-11.58342658201577,11.621215562180472,-0.7680161430539467,5.342523275428755,7.01871845285825,-4.611194947704966,7.35042690127821,13.61550704780242,6.358368974963687,-9.306923859648368,-6.785768845634901,-4.540172102416168,2.221594138694936,-3.788286170029982,-1.282748445436737,5.593304828739307,-5.324069470949737,-2.6276652267936864,4.948379224545786,4.855050062682572,-2.384855871734558,-0.3777044218290637,-1.938799261041571,4.877694474640431,-11.10033134103262,1.0185724303374277,-1.196516438643041,10.427003982335783,2.9919863504680064,-7.106892502076816,3.580517980134342,3.8309545767936894,-0.02801674672995702,7.044837528927315,-0.29637616955801693,-3.824865364253389,-2.5767717056978596,0.27708989516011506,-0.7334426461670684,2.3892669292394992,1.922539260529085,12.85617905563772,-8.28035151696633,1.4585981130990442,-2.8425017235229046,-8.659217728710455,0.7720979681388016,4.8502099596523784,-0.23156763355005783,2.364203149504066,0.17004883566089957,-1.9968968966332374,-2.660656854279763,4.095397277153538,6.305427062970611,-7.819365159181298,1.4098700854166273,5.033229782737751,9.929586135788082,6.677392867068745,-2.1984064672108112,-11.914613344027607,-4.339576769843269,-1.34307451237681,-1.823048925279982,-5.501273551261342,-12.037775319343616,-9.417441751388397,-5.9923665212489805,-13.49868728427778,-1.638680331491484,0.11670044930673384,-4.922945816285254,-11.314039257440323,0.8307637434458801,3.39958856158505,5.440306697902455,2.746217833831451,-3.311114555813486,7.113070949392213,-4.839619090634963,1.0778692663675224,3.139603012798693,2.8593793613983154,2.714541718543245,-1.9350399903855027,-1.5829989816352872,2.381473679006281,2.825546998683901,-11.289591999759406,3.942611376360124,3.183725950035503,-9.179575270330757,-0.9478955871832513,9.556743312333671,-3.399352593937677,2.5796564149384853,-8.397421311574867,-6.330891227083453,2.6657323685817325,6.579966891816566,5.3243837312262015,-10.230088245234,-1.2852455938700573,-4.701934432401459,8.887018544190475,-9.502085578926092,-9.003142210208729,3.724764898564331,-5.942628508222195,5.969609858992169,10.272626804285423,-2.327969217399068,-2.1729710023885946,0.9057139515526358,-5.292690618893021,-9.269355378509703,-0.5482671009203317,6.290727402021705,-3.76659400289867,6.8308502856825735,-5.484282037336071,-11.987987816708976,-6.635377404689055,10.365248292368374,4.483655596961901,1.285992502623218,4.342324903534516,-4.8298397878527926,5.717205546994716,11.587014009148042,2.726178162834855,-14.45203380832408,6.725079432643246,-6.905175927662859,-3.462307669107359,5.02079081216182,-8.728743338195823,2.8773996945425893,3.9353774078225445,-2.404236344091585,0.7079486364475844,-11.472082301161912,-6.475850416737616,-9.033668603917747,-4.6377309526088535,-1.3338496624171956,3.6169334288405235,3.6165653499276553,4.415970088881343,-2.3911916260941695,4.19497021837993,3.9586202911800914,8.979851446248272,-2.8166979568559283,-7.634799224309855,-1.0766696234425925,7.0292919209906595,-0.9889240251905833,8.033648761602182,1.594721525648028,1.2557999265655129,4.9112242453059425,-2.4302653215062824,12.75146285877908,-7.786268148341775,9.841766942900668,3.3926358959597014,0.040489396963697466,-7.250166588214833,7.169725376492291,-6.166393827946715,-3.0320624615484597,3.0621089912008745,2.0426324357395167,-6.046891180247489,10.48702475244112,6.33686912940448,-3.9045026212250784,-0.2421830606723998,-7.219023449653981,-7.447111719380976,9.238438772161846,0.9360019184577562,-1.1148200756113713,-4.592677635180967,4.203410120554247,-3.856375260312105,0.8923952748796178,8.952454702253089,8.340311810814102,-6.990160202627561,-6.648553446678012,6.781682475911831,1.0102779640900734,-9.53045651400316,10.299425549446608,5.95193398463706,-5.702026028383701,7.031520082505191,13.707433749373292,-5.470541073076418,5.846750845131214,1.468458175756659,-5.370388550594758,-3.078469458875145,-5.798985399441662,4.550833824416018,-0.7704463857637762,4.135653409454505,-2.4001656114084815,-6.684616153246514,-6.115556896857868,-5.733862193953107,6.607088340517247,1.5516354649627666,-1.149243202297809,10.558561892714179,-6.248862858716258,-3.688559392571797,-10.360241845801067,0.5891850796983711,-2.3333455986042475,-7.524110167895528,-0.46908837127932745,0.977037324453601,-3.7918049669640905,3.521535336112188,-5.817429375282372,-14.079611363003073,5.924731028504196,-7.128343454212241,-5.579168501837508,-5.314908902275878,-5.762184851197784,-5.492195994953668,7.504207822161555,0.8172096348898998,1.937573140276684,-7.97154888574425,3.2831554128195917,6.174655976149281,-3.5254235575986055,-0.8876260398402303,-8.813907148741741,-1.6359105263577884,2.7985775172717577,5.701824206332992,-0.5223012226017811,-3.7037305429751513,-6.490207141362411,7.435192042789319,-5.674221547038169,-5.218142854997333,6.7354073807270085,-2.859591165256666,1.0584707289360433,7.265361536114881,3.7079091971771323,8.092650652740264,-1.57380187961677,3.251436677227119,-11.092586799954573,-2.5195675412654657,-3.6967743933965167,13.183582632344987,7.894036445875952,6.7154103925486055,-3.4663949883908844,2.4382238003160404,-7.39801996860003,7.529212773566661,-4.270534402307154,1.906126289040515,1.3751268068335065,-0.7714430224200752,-3.8821660624330243,-6.313839343201759,-9.559490866926648,0.1337889172261173,4.768891657578615,-1.117349198093006,-3.1197847819476454,-7.131582066884327,-0.36224696034921333,-1.1891597362081692,-2.1306220320132345,5.3266292352700155,-1.9388288351994492,-5.891900352097114,3.705475287115039,-5.901116127325567,-0.8669849657655062,-6.227065779516157,5.802500806205664,-2.517520635471178,-0.19872220842162935,-7.10946751806289,-2.0717513983187645,5.085707787634645,-2.8904628372064454,-2.5968125923339365,5.72217054239797,3.055192332286132,3.1071686438417387,0.3102997101549132,-4.67960064122666,-0.8191819278574388,-2.585491837883042,0.476403868388628,-4.533658959220962,-3.4736974449533013,-1.9489177579776147,-2.684173400248037,1.7154592891261222,-2.6745644861145075,-3.407598749562382,-9.285055714179954,5.87735307488638,8.553442142503432,-5.1435283451439595,-3.4172071450475707,8.40198228393077,-1.5264916100092565,-0.6616770314456342,-7.859690688862841,7.125998086214434,-5.503381863763304,-7.9798281320005495,5.708444041848125,5.260196398006258,1.8842494914250878,10.211242360953458,-0.9424069375708815,0.2783529486773624,-9.717272430142717,-3.884019889097263,-10.114110509170349,12.886232763474975,-14.76641662026374,-6.365648463815293,1.5072222413105942,-1.67554163309614,-2.2202149830743396,-3.7931814534190402,-5.616905914885358,7.520086977221296,3.2939878925432753,-5.201082261815188,-3.554157938655431,-3.524436591286486,0.4487142094248564,3.649012864845173,-6.20974121119835,-15.644475672199501,4.146550571844081,3.1193129072982595,-1.8244589984430668,-2.013092144994766,-0.32428154188203795,4.2689582325584325,4.648177536051264,-8.46546829360894,6.770681110149113,-1.4776605322022105,-14.749710748156144,7.581735328015851,7.715935409767992,3.8640817109193364,-0.4761395361671701,-10.885132451014812,1.8025045996218303,-0.2035048845370433,-3.1343576526076538,-1.6738738726957063,4.168684839761362,9.529985395741045,1.159584655554772,-4.752554364535268,-6.391539585782744,-4.334429054174306,3.9329261917210703,-4.4545222362047845,-4.612176607501645,-8.753019055746968,2.9958546164965796,11.934221810434392,2.0647339717100515,8.44413910564148,4.321374665136427,-0.11467121150523063,7.440965121200188,1.1908758573449494,-8.067645101449125,-3.4811893506339535,-0.9729111138860942,8.673865291539371,-10.533538323477405,0.26326875728951826,9.0941551025786,4.052653322935459,-1.2955969203460356,-0.8037338347214096,-1.5219263428637766,-5.331901741153465,-5.05623349670635,-4.778980292564199,0.202183651015718,5.656117978987412,-1.3441122032616697,7.554373484368712,-2.9569783026105245,-1.4528781994530124,13.440716876847068,-3.7142824724816164,-1.9480335211056552,1.1534608375357176,5.125604334385531,-9.580134389691043,-1.4330994072742156,4.952696350718876,9.360300323395588,3.2582958853245563,-2.3652441483155364,-6.284416061077197,-2.0667977808444205,-9.103393002816034,9.05441829018732,4.510807843151461,3.5618902713258156,-0.5120406694676589,0.6759948208683162,6.095265809557527,-1.2991626538986916,-3.7363267715151522,2.668372638320098,2.7547598501694033,1.0118650815825188,2.950170744816268,-1.8922289260167262,5.583266248955597,5.118278940784668,4.767738714528567,8.711233760870154,8.586951049876479,5.492014674008019,-2.5735222090292407,-0.05163944884565952,-6.670431033560721,-9.393009573653766,4.092733114057745,-8.217506861246445,5.6178111268377915,7.27295866195414,1.7687429973381734,1.999288577482817,1.8341374928066316,-13.427212901492183,4.941067320136648,-0.9330630751679587,-6.936331352017454,1.3699666631709242,-6.21249368797292,3.060688136424562,-4.203684478728756,-2.935285173978333,4.840946533713197,-7.780085864813833,-3.3651451730186075,-6.154242706435825,-1.709486453840345,-4.9789251086076245,0.15903273958615793,-6.084838932396841,-3.436275994018609,3.117955438516696,2.2771998737035033,4.9115920534726945,-4.375851465694876,0.5250970880456256,2.114293893775238,4.085985213590042,-0.281325099492892,-1.55952306218235,-12.830663071686086,6.512424486014833,3.2773379592590386,-0.7048842492327116,5.213826000216892,-1.8584100031846638,-0.0047149253876739294,5.098886049802209,-0.9074637115969599,-3.3950944406279095,-0.7099358296760281,-2.501387413322216,-8.878024118490384,4.242098923228211,2.303177036518975,-5.900932657485501,-5.698287032118117,-0.8978465416221981,6.80725151694696,5.211678921689976,7.500416490663773,-2.3490691609657275,-0.8600172199212852,4.033807935337931,7.665906630731787,-0.6616874920739235,1.3432719963246251,9.017278450425056,-0.8017111573992324,3.028688764978184,0.8002038770850359,2.62140845586965,9.870876435030969,-4.213069598855652,1.7770394817621433,-14.545279029326965,1.6227770742991496,-0.4243509800354506,-2.546047486095471,-2.2607512594035115,0.39399909741141936,2.9021441150519776,8.629779001393636,-5.737249384321588,-9.095745340390568,-1.805906585668505,-1.4605161321755649,6.18087558192836,0.6256237427071136,4.83723386331973,8.477444254592774,2.8947107023750505,-1.1028441392709736,-5.456169251421862,-1.9233207173737359,0.5254631394924956,-8.452728643977366,-2.9034323290563027,1.2882795756065133,-1.7860545597225999,-9.981066831601447,-3.5801865284590777,13.270258519792197,2.7624133175033285,-5.347776012504557,-2.3323717348313036,-1.538344950720738,-6.889689174642982,-3.53810241351459,-6.812491767778016,2.1692700318615423,-8.116637582662161,-5.13934607526083,0.6584549107154904,-0.11830066429274932,-0.5546190004230662,2.5233830819489027,-7.927197867883774,2.558160698545943,0.10635231620298402,5.578838691587923,-4.0693501621743335,3.7088521656202706,9.018617236504378,-5.400888207687711,3.3300764972418975,-3.665116117675966,5.650958759650252,6.320827709916063,-1.8109829666918689,-4.229648203751978,-15.928288505583804,2.7346166601854645,11.976437699494246,1.1525616156343714,10.690500847552517,3.7021378532816076,-3.972086033947793,8.875487441331366,-5.772403508233042,-2.107809006804446,-10.93974039358866,-5.60641242987931,2.0196226921180367,-1.5155452871968427,0.2761191187693459,-8.064687705427016,13.234524004548947,-5.9814631834522345,-0.11736771861922302,9.66199537992652,-1.2835510634926237,1.8718208425684142,4.155961915902435,13.623700402429629,-0.098483236726286,5.631306697355722,8.761821239900545,7.786332489569084,-0.58320244539415,-12.930278143574428,-2.6194650678344353,-1.5559019914279375,8.222413137153637,-3.2814659220571496,-4.755703730250847,-5.279104144963816,0.4765787634676819,-7.220976666894737,-1.3732417761270792,-3.4429775641000404,3.045555730602497,-6.229089552928441,5.344130902138021,-4.924154408703257,-1.109057659132115,-5.506001990526002,-2.056957070372248,-8.052884015190498,2.7616958437422685,0.3433259138229299,3.438062113032915,10.908166816117847,-5.009193701530412,8.753019279170452,-5.444639552739685,-9.146208175079364,-3.296248103321556,4.8049850544887756,-0.2228285867749351,0.6692619007255551,6.987795968968828,1.8760313891270757,14.188523974744575,4.3031154780487375,3.6424903499501964,6.558774042835933,4.317574079915521,-0.00010421120597747802,-1.0810091820468832,-1.2051616440820156,4.878682095494032,5.791008972197216,10.097248568693807,0.9325809529927254,0.3978289760798184,-4.986995916256777,4.397751746313124,-5.245006853013251,-1.7528370430719065,1.3197869197781813,-0.010577807022575048,-3.9771428580224457,0.23252260550194315,0.6251916904680312,-1.3256856516836382,-3.5800256729562876,5.96632899191648,-0.46317452228047973,-2.186820839401631,4.867500736824589,-0.17378477591697283,-2.6445841351736608,5.635130245806073,-8.396865310312663,-0.7368569911770146,9.469562560783562,8.717353868657568,5.133612076221041,-0.8939231407703954,-3.822871322055243,-5.6295665149320575,2.0885884365446286,-8.259660776832133,7.9859449667371045,-0.18024905049563245,8.94449503626377,-11.617521440717987,5.034061458413154,-8.236296152442556,8.509119855921313,-6.2228537337499645,1.5908152224758112,-0.10689002314693319,-10.341110475340878,6.89071862335147,-4.9022092082526,-1.3321434874984361,-7.236602102825574,5.337942358480643,3.836604742424985,-4.19157430783282,3.39896474448232,3.4737066343227205,-9.57887472748853,2.829351042211039,-8.000199983776682,3.3800997659391125,-5.720226175338385,8.408488840195853,-0.3434958389401075,-4.9047708906742535,7.760396518195259,5.96129159184712,-0.9810124186008728,-8.1400674115674,2.3104049897535672,13.429569496542912,-1.0401827785917703,-4.299530333834056,-7.01849927570242,-4.976770718159084,5.613933086939717,1.7030897737599622,-3.2208132876753317,-0.48300366541151796,-0.7285200155849312,-0.6081688239117486,-1.0604343054310559,6.266831742632994,-4.2773125056322705,0.6723837387608826,2.2588537854914295,1.527317093029481,3.9732901422403692,8.627689827035251,-5.403695376279613,-4.301349651517825,6.171623646441221,-2.676710936587955,-4.034947033592662,8.336598229833896,-1.7396771858529725,12.89614710278843,7.478158461822631,-5.09076505303567,1.5243593869951533,-7.78370537360998,4.673041939893169,1.9328011219957775,8.971434430586111,-4.871833590179764,-4.159696025281377,-5.213697813465643,6.98473806413253,-12.958085130227358,-7.4070949118324165,-8.717970957085932,-4.74310005932525,-4.480039483822922,-7.089563473725393,-0.9529481567677962,-5.723652035576777,-3.230294192470479,-0.42747176814449617,1.271820157292665,7.280710185195616,-0.17057281616943598,1.2888772073941785,-2.8735108385194046,-0.08888396989060743,2.3567011911407647,-0.269032556486386,10.936135036561197,-1.03382460563701,1.3203128457195579,-12.503245718101173,2.424818396743573,-2.0603860953051134,4.292475921904085,-7.671608197546792],\"type\":\"scatter3d\"}],                        {\"template\":{\"data\":{\"bar\":[{\"error_x\":{\"color\":\"#2a3f5f\"},\"error_y\":{\"color\":\"#2a3f5f\"},\"marker\":{\"line\":{\"color\":\"#E5ECF6\",\"width\":0.5},\"pattern\":{\"fillmode\":\"overlay\",\"size\":10,\"solidity\":0.2}},\"type\":\"bar\"}],\"barpolar\":[{\"marker\":{\"line\":{\"color\":\"#E5ECF6\",\"width\":0.5},\"pattern\":{\"fillmode\":\"overlay\",\"size\":10,\"solidity\":0.2}},\"type\":\"barpolar\"}],\"carpet\":[{\"aaxis\":{\"endlinecolor\":\"#2a3f5f\",\"gridcolor\":\"white\",\"linecolor\":\"white\",\"minorgridcolor\":\"white\",\"startlinecolor\":\"#2a3f5f\"},\"baxis\":{\"endlinecolor\":\"#2a3f5f\",\"gridcolor\":\"white\",\"linecolor\":\"white\",\"minorgridcolor\":\"white\",\"startlinecolor\":\"#2a3f5f\"},\"type\":\"carpet\"}],\"choropleth\":[{\"colorbar\":{\"outlinewidth\":0,\"ticks\":\"\"},\"type\":\"choropleth\"}],\"contour\":[{\"colorbar\":{\"outlinewidth\":0,\"ticks\":\"\"},\"colorscale\":[[0.0,\"#0d0887\"],[0.1111111111111111,\"#46039f\"],[0.2222222222222222,\"#7201a8\"],[0.3333333333333333,\"#9c179e\"],[0.4444444444444444,\"#bd3786\"],[0.5555555555555556,\"#d8576b\"],[0.6666666666666666,\"#ed7953\"],[0.7777777777777778,\"#fb9f3a\"],[0.8888888888888888,\"#fdca26\"],[1.0,\"#f0f921\"]],\"type\":\"contour\"}],\"contourcarpet\":[{\"colorbar\":{\"outlinewidth\":0,\"ticks\":\"\"},\"type\":\"contourcarpet\"}],\"heatmap\":[{\"colorbar\":{\"outlinewidth\":0,\"ticks\":\"\"},\"colorscale\":[[0.0,\"#0d0887\"],[0.1111111111111111,\"#46039f\"],[0.2222222222222222,\"#7201a8\"],[0.3333333333333333,\"#9c179e\"],[0.4444444444444444,\"#bd3786\"],[0.5555555555555556,\"#d8576b\"],[0.6666666666666666,\"#ed7953\"],[0.7777777777777778,\"#fb9f3a\"],[0.8888888888888888,\"#fdca26\"],[1.0,\"#f0f921\"]],\"type\":\"heatmap\"}],\"heatmapgl\":[{\"colorbar\":{\"outlinewidth\":0,\"ticks\":\"\"},\"colorscale\":[[0.0,\"#0d0887\"],[0.1111111111111111,\"#46039f\"],[0.2222222222222222,\"#7201a8\"],[0.3333333333333333,\"#9c179e\"],[0.4444444444444444,\"#bd3786\"],[0.5555555555555556,\"#d8576b\"],[0.6666666666666666,\"#ed7953\"],[0.7777777777777778,\"#fb9f3a\"],[0.8888888888888888,\"#fdca26\"],[1.0,\"#f0f921\"]],\"type\":\"heatmapgl\"}],\"histogram\":[{\"marker\":{\"pattern\":{\"fillmode\":\"overlay\",\"size\":10,\"solidity\":0.2}},\"type\":\"histogram\"}],\"histogram2d\":[{\"colorbar\":{\"outlinewidth\":0,\"ticks\":\"\"},\"colorscale\":[[0.0,\"#0d0887\"],[0.1111111111111111,\"#46039f\"],[0.2222222222222222,\"#7201a8\"],[0.3333333333333333,\"#9c179e\"],[0.4444444444444444,\"#bd3786\"],[0.5555555555555556,\"#d8576b\"],[0.6666666666666666,\"#ed7953\"],[0.7777777777777778,\"#fb9f3a\"],[0.8888888888888888,\"#fdca26\"],[1.0,\"#f0f921\"]],\"type\":\"histogram2d\"}],\"histogram2dcontour\":[{\"colorbar\":{\"outlinewidth\":0,\"ticks\":\"\"},\"colorscale\":[[0.0,\"#0d0887\"],[0.1111111111111111,\"#46039f\"],[0.2222222222222222,\"#7201a8\"],[0.3333333333333333,\"#9c179e\"],[0.4444444444444444,\"#bd3786\"],[0.5555555555555556,\"#d8576b\"],[0.6666666666666666,\"#ed7953\"],[0.7777777777777778,\"#fb9f3a\"],[0.8888888888888888,\"#fdca26\"],[1.0,\"#f0f921\"]],\"type\":\"histogram2dcontour\"}],\"mesh3d\":[{\"colorbar\":{\"outlinewidth\":0,\"ticks\":\"\"},\"type\":\"mesh3d\"}],\"parcoords\":[{\"line\":{\"colorbar\":{\"outlinewidth\":0,\"ticks\":\"\"}},\"type\":\"parcoords\"}],\"pie\":[{\"automargin\":true,\"type\":\"pie\"}],\"scatter\":[{\"marker\":{\"colorbar\":{\"outlinewidth\":0,\"ticks\":\"\"}},\"type\":\"scatter\"}],\"scatter3d\":[{\"line\":{\"colorbar\":{\"outlinewidth\":0,\"ticks\":\"\"}},\"marker\":{\"colorbar\":{\"outlinewidth\":0,\"ticks\":\"\"}},\"type\":\"scatter3d\"}],\"scattercarpet\":[{\"marker\":{\"colorbar\":{\"outlinewidth\":0,\"ticks\":\"\"}},\"type\":\"scattercarpet\"}],\"scattergeo\":[{\"marker\":{\"colorbar\":{\"outlinewidth\":0,\"ticks\":\"\"}},\"type\":\"scattergeo\"}],\"scattergl\":[{\"marker\":{\"colorbar\":{\"outlinewidth\":0,\"ticks\":\"\"}},\"type\":\"scattergl\"}],\"scattermapbox\":[{\"marker\":{\"colorbar\":{\"outlinewidth\":0,\"ticks\":\"\"}},\"type\":\"scattermapbox\"}],\"scatterpolar\":[{\"marker\":{\"colorbar\":{\"outlinewidth\":0,\"ticks\":\"\"}},\"type\":\"scatterpolar\"}],\"scatterpolargl\":[{\"marker\":{\"colorbar\":{\"outlinewidth\":0,\"ticks\":\"\"}},\"type\":\"scatterpolargl\"}],\"scatterternary\":[{\"marker\":{\"colorbar\":{\"outlinewidth\":0,\"ticks\":\"\"}},\"type\":\"scatterternary\"}],\"surface\":[{\"colorbar\":{\"outlinewidth\":0,\"ticks\":\"\"},\"colorscale\":[[0.0,\"#0d0887\"],[0.1111111111111111,\"#46039f\"],[0.2222222222222222,\"#7201a8\"],[0.3333333333333333,\"#9c179e\"],[0.4444444444444444,\"#bd3786\"],[0.5555555555555556,\"#d8576b\"],[0.6666666666666666,\"#ed7953\"],[0.7777777777777778,\"#fb9f3a\"],[0.8888888888888888,\"#fdca26\"],[1.0,\"#f0f921\"]],\"type\":\"surface\"}],\"table\":[{\"cells\":{\"fill\":{\"color\":\"#EBF0F8\"},\"line\":{\"color\":\"white\"}},\"header\":{\"fill\":{\"color\":\"#C8D4E3\"},\"line\":{\"color\":\"white\"}},\"type\":\"table\"}]},\"layout\":{\"annotationdefaults\":{\"arrowcolor\":\"#2a3f5f\",\"arrowhead\":0,\"arrowwidth\":1},\"autotypenumbers\":\"strict\",\"coloraxis\":{\"colorbar\":{\"outlinewidth\":0,\"ticks\":\"\"}},\"colorscale\":{\"diverging\":[[0,\"#8e0152\"],[0.1,\"#c51b7d\"],[0.2,\"#de77ae\"],[0.3,\"#f1b6da\"],[0.4,\"#fde0ef\"],[0.5,\"#f7f7f7\"],[0.6,\"#e6f5d0\"],[0.7,\"#b8e186\"],[0.8,\"#7fbc41\"],[0.9,\"#4d9221\"],[1,\"#276419\"]],\"sequential\":[[0.0,\"#0d0887\"],[0.1111111111111111,\"#46039f\"],[0.2222222222222222,\"#7201a8\"],[0.3333333333333333,\"#9c179e\"],[0.4444444444444444,\"#bd3786\"],[0.5555555555555556,\"#d8576b\"],[0.6666666666666666,\"#ed7953\"],[0.7777777777777778,\"#fb9f3a\"],[0.8888888888888888,\"#fdca26\"],[1.0,\"#f0f921\"]],\"sequentialminus\":[[0.0,\"#0d0887\"],[0.1111111111111111,\"#46039f\"],[0.2222222222222222,\"#7201a8\"],[0.3333333333333333,\"#9c179e\"],[0.4444444444444444,\"#bd3786\"],[0.5555555555555556,\"#d8576b\"],[0.6666666666666666,\"#ed7953\"],[0.7777777777777778,\"#fb9f3a\"],[0.8888888888888888,\"#fdca26\"],[1.0,\"#f0f921\"]]},\"colorway\":[\"#636efa\",\"#EF553B\",\"#00cc96\",\"#ab63fa\",\"#FFA15A\",\"#19d3f3\",\"#FF6692\",\"#B6E880\",\"#FF97FF\",\"#FECB52\"],\"font\":{\"color\":\"#2a3f5f\"},\"geo\":{\"bgcolor\":\"white\",\"lakecolor\":\"white\",\"landcolor\":\"#E5ECF6\",\"showlakes\":true,\"showland\":true,\"subunitcolor\":\"white\"},\"hoverlabel\":{\"align\":\"left\"},\"hovermode\":\"closest\",\"mapbox\":{\"style\":\"light\"},\"paper_bgcolor\":\"white\",\"plot_bgcolor\":\"#E5ECF6\",\"polar\":{\"angularaxis\":{\"gridcolor\":\"white\",\"linecolor\":\"white\",\"ticks\":\"\"},\"bgcolor\":\"#E5ECF6\",\"radialaxis\":{\"gridcolor\":\"white\",\"linecolor\":\"white\",\"ticks\":\"\"}},\"scene\":{\"xaxis\":{\"backgroundcolor\":\"#E5ECF6\",\"gridcolor\":\"white\",\"gridwidth\":2,\"linecolor\":\"white\",\"showbackground\":true,\"ticks\":\"\",\"zerolinecolor\":\"white\"},\"yaxis\":{\"backgroundcolor\":\"#E5ECF6\",\"gridcolor\":\"white\",\"gridwidth\":2,\"linecolor\":\"white\",\"showbackground\":true,\"ticks\":\"\",\"zerolinecolor\":\"white\"},\"zaxis\":{\"backgroundcolor\":\"#E5ECF6\",\"gridcolor\":\"white\",\"gridwidth\":2,\"linecolor\":\"white\",\"showbackground\":true,\"ticks\":\"\",\"zerolinecolor\":\"white\"}},\"shapedefaults\":{\"line\":{\"color\":\"#2a3f5f\"}},\"ternary\":{\"aaxis\":{\"gridcolor\":\"white\",\"linecolor\":\"white\",\"ticks\":\"\"},\"baxis\":{\"gridcolor\":\"white\",\"linecolor\":\"white\",\"ticks\":\"\"},\"bgcolor\":\"#E5ECF6\",\"caxis\":{\"gridcolor\":\"white\",\"linecolor\":\"white\",\"ticks\":\"\"}},\"title\":{\"x\":0.05},\"xaxis\":{\"automargin\":true,\"gridcolor\":\"white\",\"linecolor\":\"white\",\"ticks\":\"\",\"title\":{\"standoff\":15},\"zerolinecolor\":\"white\",\"zerolinewidth\":2},\"yaxis\":{\"automargin\":true,\"gridcolor\":\"white\",\"linecolor\":\"white\",\"ticks\":\"\",\"title\":{\"standoff\":15},\"zerolinecolor\":\"white\",\"zerolinewidth\":2}}},\"scene\":{\"domain\":{\"x\":[0.0,1.0],\"y\":[0.0,1.0]},\"xaxis\":{\"title\":{\"text\":\"x\"}},\"yaxis\":{\"title\":{\"text\":\"y\"}},\"zaxis\":{\"title\":{\"text\":\"z\"}}},\"legend\":{\"tracegroupgap\":0},\"margin\":{\"t\":60}},                        {\"responsive\": true}                    ).then(function(){\n",
              "                            \n",
              "var gd = document.getElementById('fb6d1bef-a245-43d5-8aaa-afd98df5e62e');\n",
              "var x = new MutationObserver(function (mutations, observer) {{\n",
              "        var display = window.getComputedStyle(gd).display;\n",
              "        if (!display || display === 'none') {{\n",
              "            console.log([gd, 'removed!']);\n",
              "            Plotly.purge(gd);\n",
              "            observer.disconnect();\n",
              "        }}\n",
              "}});\n",
              "\n",
              "// Listen for the removal of the full notebook cells\n",
              "var notebookContainer = gd.closest('#notebook-container');\n",
              "if (notebookContainer) {{\n",
              "    x.observe(notebookContainer, {childList: true});\n",
              "}}\n",
              "\n",
              "// Listen for the clearing of the current output cell\n",
              "var outputEl = gd.closest('.output');\n",
              "if (outputEl) {{\n",
              "    x.observe(outputEl, {childList: true});\n",
              "}}\n",
              "\n",
              "                        })                };                            </script>        </div>\n",
              "</body>\n",
              "</html>"
            ]
          },
          "metadata": {}
        }
      ]
    },
    {
      "cell_type": "markdown",
      "source": [
        "When we dont add noise (noise_scale == 0) we can see that the graph has a perfect shape of a plane."
      ],
      "metadata": {
        "id": "DI8lrQV3S60n"
      }
    },
    {
      "cell_type": "code",
      "source": [
        "from sklearn.model_selection import train_test_split\n",
        "\n",
        "X_train, X_test, y_train, y_test = train_test_split(X, y, train_size=0.8)\n",
        "X_train.shape, X_test.shape, y_train.shape, y_test.shape"
      ],
      "metadata": {
        "colab": {
          "base_uri": "https://localhost:8080/"
        },
        "id": "bko0ZsAkNoIf",
        "outputId": "dc5a7a00-fdb5-4e9a-d397-145de6555ffa"
      },
      "execution_count": null,
      "outputs": [
        {
          "output_type": "execute_result",
          "data": {
            "text/plain": [
              "((2400, 2), (600, 2), (2400,), (600,))"
            ]
          },
          "metadata": {},
          "execution_count": 11
        }
      ]
    },
    {
      "cell_type": "code",
      "source": [
        "best_regressor = {}"
      ],
      "metadata": {
        "id": "REjkIU_fProG"
      },
      "execution_count": null,
      "outputs": []
    },
    {
      "cell_type": "code",
      "source": [
        "def MSE(y_test, y_pred):\n",
        "  mse = mean_squared_error(y_test, y_pred)\n",
        "  return mse\n",
        "\n",
        "def R2(y_test, y_pred):\n",
        "  r2 = r2_score(y_test, y_pred)\n",
        "  return r2"
      ],
      "metadata": {
        "id": "4cfrNjX5ZnSM"
      },
      "execution_count": null,
      "outputs": []
    },
    {
      "cell_type": "code",
      "source": [
        "from sklearn.linear_model import LinearRegression\n",
        "from sklearn.metrics import mean_squared_error, r2_score\n",
        "\n",
        "# create regressor\n",
        "lin_reg = LinearRegression()\n",
        "\n",
        "# fit it\n",
        "lin_reg.fit(X_train, y_train.ravel())\n",
        "\n",
        "# Making predictions on the test data using the fitted model\n",
        "y_pred = lin_reg.predict(X_test)\n",
        "\n",
        "best_regressor[\"linear_regression\"] = lin_reg\n",
        "\n",
        "# Calculating mean squared error and r^2 score using hand-made functions\n",
        "mse = MSE(y_test, y_pred)\n",
        "r2 = R2(y_test, y_pred)\n",
        "\n",
        "# Printing the results\n",
        "print(\"Mean Squared Error:\", mse)\n",
        "print(\"R^2 Score:\", r2)"
      ],
      "metadata": {
        "colab": {
          "base_uri": "https://localhost:8080/"
        },
        "id": "HTe9SeQiO--r",
        "outputId": "ff19b693-7939-4cf8-b0b8-7e3f9491b2e4"
      },
      "execution_count": null,
      "outputs": [
        {
          "output_type": "stream",
          "name": "stdout",
          "text": [
            "Mean Squared Error: 8.503855297262618\n",
            "R^2 Score: 0.752405405556227\n"
          ]
        }
      ]
    },
    {
      "cell_type": "code",
      "execution_count": null,
      "metadata": {
        "collapsed": true,
        "id": "1ts6todxW1UD"
      },
      "outputs": [],
      "source": [
        "from sklearn.svm import SVR\n",
        "from sklearn.model_selection import RandomizedSearchCV\n",
        "\n",
        "svr_rbf = SVR()\n",
        "\n",
        "param_grid = {\n",
        "    \"gamma\": [\"scale\", \"auto\"],\n",
        "    \"C\": np.random.uniform(low=0.001, high=100, size=10 ** 4),\n",
        "    \"epsilon\": np.random.exponential(scale=0.1, size=10 ** 4),\n",
        "    \"shrinking\": [True, False],\n",
        "}\n",
        "\n",
        "best_regressor[\"SVR\"] = RandomizedSearchCV(\n",
        "    estimator=svr_rbf,\n",
        "    param_distributions=param_grid,\n",
        "    n_iter=30,\n",
        "    cv=5,\n",
        "    scoring=\"neg_mean_squared_error\",\n",
        "    n_jobs=-1,  # use all cores\n",
        "    verbose=1,\n",
        "    random_state=42,\n",
        ")\n"
      ]
    },
    {
      "cell_type": "code",
      "source": [
        "best_regressor[\"SVR\"]"
      ],
      "metadata": {
        "colab": {
          "base_uri": "https://localhost:8080/"
        },
        "id": "zqcsbg_9V-Z0",
        "outputId": "ad15f7d4-b927-42e5-8a0e-4a67e21659d9"
      },
      "execution_count": null,
      "outputs": [
        {
          "output_type": "execute_result",
          "data": {
            "text/plain": [
              "RandomizedSearchCV(cv=5, estimator=SVR(), n_iter=30, n_jobs=-1,\n",
              "                   param_distributions={'C': array([74.75013344, 43.83510999, 55.12225998, ..., 21.46343913,\n",
              "       68.42638294,  0.09515158]),\n",
              "                                        'epsilon': array([0.12527286, 0.03198244, 0.11259649, ..., 0.0341358 , 0.28843126,\n",
              "       0.34013291]),\n",
              "                                        'gamma': ['scale', 'auto'],\n",
              "                                        'shrinking': [True, False]},\n",
              "                   random_state=42, scoring='neg_mean_squared_error',\n",
              "                   verbose=1)"
            ]
          },
          "metadata": {},
          "execution_count": 16
        }
      ]
    },
    {
      "cell_type": "code",
      "source": [
        "best_regressor[\"SVR\"].fit(X_train, y_train.ravel())\n",
        "\n",
        "y_pred = best_regressor[\"SVR\"].predict(X_test)\n",
        "\n",
        "# Calculating mean squared error and r^2 score using hand-made functions\n",
        "mse = MSE(y_test, y_pred)\n",
        "r2 = R2(y_test, y_pred)\n",
        "\n",
        "# Printing the results\n",
        "print(\"Mean Squared Error:\", mse)\n",
        "print(\"R^2 Score:\", r2)\n"
      ],
      "metadata": {
        "colab": {
          "base_uri": "https://localhost:8080/"
        },
        "id": "bW0Beh3NV6mT",
        "outputId": "4869b16a-9d37-4e7d-b1b0-c22e6f1932e5"
      },
      "execution_count": null,
      "outputs": [
        {
          "output_type": "stream",
          "name": "stdout",
          "text": [
            "Fitting 5 folds for each of 30 candidates, totalling 150 fits\n",
            "Mean Squared Error: 8.625387429101478\n",
            "R^2 Score: 0.7488669282606155\n"
          ]
        }
      ]
    },
    {
      "cell_type": "code",
      "source": [
        "from sklearn.tree import DecisionTreeRegressor\n",
        "\n",
        "tree = DecisionTreeRegressor()  # rbf kernel by default\n",
        "param_grid = {\n",
        "    \"max_depth\": np.random.randint(low=1, high=10, size=100),\n",
        "    \"min_samples_split\": np.random.randint(low=2, high=10, size=100),\n",
        "    \"min_samples_leaf\": np.random.randint(low=1, high=10, size=100),\n",
        "    \"min_weight_fraction_leaf\": np.random.exponential(scale=0.01, size=100),\n",
        "}\n",
        "best_regressor[\"decision_tree\"] = RandomizedSearchCV(\n",
        "    estimator=tree,\n",
        "    param_distributions=param_grid,\n",
        "    n_iter=100,\n",
        "    cv=5,\n",
        "    scoring=\"neg_mean_squared_error\",\n",
        "    n_jobs=-1,  # use all cores\n",
        "    verbose=1,\n",
        "    random_state=42,\n",
        ")\n",
        "best_regressor[\"decision_tree\"].fit(X_train, y_train.ravel())\n",
        "\n",
        "y_pred = best_regressor[\"decision_tree\"].predict(X_test)\n",
        "\n",
        "# Calculating mean squared error and r^2 score using hand-made functions\n",
        "mse = MSE(y_test, y_pred)\n",
        "r2 = R2(y_test, y_pred)\n",
        "\n",
        "# Printing the results\n",
        "print(\"Mean Squared Error:\", mse)\n",
        "print(\"R^2 Score:\", r2)"
      ],
      "metadata": {
        "colab": {
          "base_uri": "https://localhost:8080/"
        },
        "id": "KuS6O_Y0T9jL",
        "outputId": "ec55d69c-e0a4-4cdf-f03f-0ab6af8bfa86"
      },
      "execution_count": null,
      "outputs": [
        {
          "output_type": "stream",
          "name": "stdout",
          "text": [
            "Fitting 5 folds for each of 100 candidates, totalling 500 fits\n",
            "Mean Squared Error: 9.119800157929184\n",
            "R^2 Score: 0.7344718198300499\n"
          ]
        }
      ]
    },
    {
      "cell_type": "code",
      "execution_count": null,
      "metadata": {
        "collapsed": true,
        "id": "VwGIIsp-W1UD",
        "colab": {
          "base_uri": "https://localhost:8080/"
        },
        "outputId": "395320ef-d854-402d-935b-10cf82515fd9"
      },
      "outputs": [
        {
          "output_type": "execute_result",
          "data": {
            "text/plain": [
              "{'linear_regression': LinearRegression(),\n",
              " 'SVR': RandomizedSearchCV(cv=5, estimator=SVR(), n_iter=30, n_jobs=-1,\n",
              "                    param_distributions={'C': array([74.75013344, 43.83510999, 55.12225998, ..., 21.46343913,\n",
              "        68.42638294,  0.09515158]),\n",
              "                                         'epsilon': array([0.12527286, 0.03198244, 0.11259649, ..., 0.0341358 , 0.28843126,\n",
              "        0.34013291]),\n",
              "                                         'gamma': ['scale', 'auto'],\n",
              "                                         'shrinking': [True, False]},\n",
              "                    random_state=42, scoring='neg_mean_squared_error',\n",
              "                    verbose=1),\n",
              " 'decision_tree': RandomizedSearchCV(cv=5, estimator=DecisionTreeRegressor(), n_iter=100,\n",
              "                    n_jobs=-1,\n",
              "                    param_distributions={'max_depth': array([8, 2, 9, 3, 6, 8, 1, 4, 2, 7, 4, 5, 8, 9, 6, 3, 6, 2, 8, 1, 1, 1,\n",
              "        5, 7, 7, 2, 8, 6, 5, 6, 1, 9, 1, 5, 5, 6, 8, 3, 5, 7, 4, 6, 9, 1,\n",
              "        7, 9, 3, 4, 7, 8, 2, 1, 2, 6, 2, 7, 6, 6, 3, 5, 9, 7, 8, 9, 8, 4,\n",
              "        4, 6, 6, 5, 9, 2, 7, 1, 1, 5, 9, 4, 3, 6, 4, 9, 7, 7, 9, 3, 1, 4,\n",
              "        8, 7, 7, 6, 5, 8, 7, 8, 2, 5, 2, 1]),\n",
              "                                         'min_samples_leaf': array([7, 9...\n",
              "        2.04655920e-02, 1.14126794e-02, 1.31767376e-02, 1.20128703e-03,\n",
              "        4.50263630e-03, 3.89998436e-03, 5.76777536e-03, 7.58663289e-04,\n",
              "        2.16397071e-03, 5.95255157e-03, 8.37887222e-03, 2.59172504e-03,\n",
              "        1.04861699e-03, 2.98671095e-03, 1.25902619e-03, 5.45502673e-03,\n",
              "        8.40807655e-03, 2.98185859e-02, 2.24020384e-02, 6.09742444e-05])},\n",
              "                    random_state=42, scoring='neg_mean_squared_error',\n",
              "                    verbose=1)}"
            ]
          },
          "metadata": {},
          "execution_count": 19
        }
      ],
      "source": [
        "best_regressor"
      ]
    },
    {
      "cell_type": "markdown",
      "metadata": {
        "id": "-kZXRxJ9W1UD"
      },
      "source": [
        "$\\mathbf{Exercise\\, 3.}$ Plot the regression results (training and testing) for each model"
      ]
    },
    {
      "cell_type": "code",
      "execution_count": null,
      "metadata": {
        "collapsed": true,
        "id": "iUdV6P1nW1UD"
      },
      "outputs": [],
      "source": [
        "colnames = [\"regressor\", \"type\", \"metric\", \"value\"]\n",
        "reg_results = []\n",
        "types_data = [(\"train\", X_train, y_train), (\"test\", X_test, y_test)]\n",
        "metrics = [(\"MSE\", mean_squared_error), (\"r2_score\", r2_score)]\n",
        "\n",
        "for reg_name, reg in best_regressor.items():\n",
        "    for type_name, X_type, y_type in types_data: \n",
        "        y_pred = reg.predict(X_type)\n",
        "        for metric_name, metric_func in metrics:\n",
        "            metric_val = metric_func(y_type, y_pred)\n",
        "            reg_results.append([reg_name, type_name, metric_name, metric_val])\n",
        "\n",
        "reg_results = pd.DataFrame(reg_results, columns=colnames)"
      ]
    },
    {
      "cell_type": "code",
      "source": [
        "reg_results"
      ],
      "metadata": {
        "colab": {
          "base_uri": "https://localhost:8080/",
          "height": 425
        },
        "id": "KapCihbea_m8",
        "outputId": "cdf69f62-4443-498e-82a8-cbf07141a176"
      },
      "execution_count": null,
      "outputs": [
        {
          "output_type": "execute_result",
          "data": {
            "text/plain": [
              "            regressor   type    metric     value\n",
              "0   linear_regression  train       MSE  8.343366\n",
              "1   linear_regression  train  r2_score  0.747484\n",
              "2   linear_regression   test       MSE  8.503855\n",
              "3   linear_regression   test  r2_score  0.752405\n",
              "4                 SVR  train       MSE  8.340746\n",
              "5                 SVR  train  r2_score  0.747563\n",
              "6                 SVR   test       MSE  8.625387\n",
              "7                 SVR   test  r2_score  0.748867\n",
              "8       decision_tree  train       MSE  7.803001\n",
              "9       decision_tree  train  r2_score  0.763838\n",
              "10      decision_tree   test       MSE  9.119800\n",
              "11      decision_tree   test  r2_score  0.734472"
            ],
            "text/html": [
              "\n",
              "  <div id=\"df-49133512-9953-43c6-9be7-15e75f2f9c73\">\n",
              "    <div class=\"colab-df-container\">\n",
              "      <div>\n",
              "<style scoped>\n",
              "    .dataframe tbody tr th:only-of-type {\n",
              "        vertical-align: middle;\n",
              "    }\n",
              "\n",
              "    .dataframe tbody tr th {\n",
              "        vertical-align: top;\n",
              "    }\n",
              "\n",
              "    .dataframe thead th {\n",
              "        text-align: right;\n",
              "    }\n",
              "</style>\n",
              "<table border=\"1\" class=\"dataframe\">\n",
              "  <thead>\n",
              "    <tr style=\"text-align: right;\">\n",
              "      <th></th>\n",
              "      <th>regressor</th>\n",
              "      <th>type</th>\n",
              "      <th>metric</th>\n",
              "      <th>value</th>\n",
              "    </tr>\n",
              "  </thead>\n",
              "  <tbody>\n",
              "    <tr>\n",
              "      <th>0</th>\n",
              "      <td>linear_regression</td>\n",
              "      <td>train</td>\n",
              "      <td>MSE</td>\n",
              "      <td>8.343366</td>\n",
              "    </tr>\n",
              "    <tr>\n",
              "      <th>1</th>\n",
              "      <td>linear_regression</td>\n",
              "      <td>train</td>\n",
              "      <td>r2_score</td>\n",
              "      <td>0.747484</td>\n",
              "    </tr>\n",
              "    <tr>\n",
              "      <th>2</th>\n",
              "      <td>linear_regression</td>\n",
              "      <td>test</td>\n",
              "      <td>MSE</td>\n",
              "      <td>8.503855</td>\n",
              "    </tr>\n",
              "    <tr>\n",
              "      <th>3</th>\n",
              "      <td>linear_regression</td>\n",
              "      <td>test</td>\n",
              "      <td>r2_score</td>\n",
              "      <td>0.752405</td>\n",
              "    </tr>\n",
              "    <tr>\n",
              "      <th>4</th>\n",
              "      <td>SVR</td>\n",
              "      <td>train</td>\n",
              "      <td>MSE</td>\n",
              "      <td>8.340746</td>\n",
              "    </tr>\n",
              "    <tr>\n",
              "      <th>5</th>\n",
              "      <td>SVR</td>\n",
              "      <td>train</td>\n",
              "      <td>r2_score</td>\n",
              "      <td>0.747563</td>\n",
              "    </tr>\n",
              "    <tr>\n",
              "      <th>6</th>\n",
              "      <td>SVR</td>\n",
              "      <td>test</td>\n",
              "      <td>MSE</td>\n",
              "      <td>8.625387</td>\n",
              "    </tr>\n",
              "    <tr>\n",
              "      <th>7</th>\n",
              "      <td>SVR</td>\n",
              "      <td>test</td>\n",
              "      <td>r2_score</td>\n",
              "      <td>0.748867</td>\n",
              "    </tr>\n",
              "    <tr>\n",
              "      <th>8</th>\n",
              "      <td>decision_tree</td>\n",
              "      <td>train</td>\n",
              "      <td>MSE</td>\n",
              "      <td>7.803001</td>\n",
              "    </tr>\n",
              "    <tr>\n",
              "      <th>9</th>\n",
              "      <td>decision_tree</td>\n",
              "      <td>train</td>\n",
              "      <td>r2_score</td>\n",
              "      <td>0.763838</td>\n",
              "    </tr>\n",
              "    <tr>\n",
              "      <th>10</th>\n",
              "      <td>decision_tree</td>\n",
              "      <td>test</td>\n",
              "      <td>MSE</td>\n",
              "      <td>9.119800</td>\n",
              "    </tr>\n",
              "    <tr>\n",
              "      <th>11</th>\n",
              "      <td>decision_tree</td>\n",
              "      <td>test</td>\n",
              "      <td>r2_score</td>\n",
              "      <td>0.734472</td>\n",
              "    </tr>\n",
              "  </tbody>\n",
              "</table>\n",
              "</div>\n",
              "      <button class=\"colab-df-convert\" onclick=\"convertToInteractive('df-49133512-9953-43c6-9be7-15e75f2f9c73')\"\n",
              "              title=\"Convert this dataframe to an interactive table.\"\n",
              "              style=\"display:none;\">\n",
              "        \n",
              "  <svg xmlns=\"http://www.w3.org/2000/svg\" height=\"24px\"viewBox=\"0 0 24 24\"\n",
              "       width=\"24px\">\n",
              "    <path d=\"M0 0h24v24H0V0z\" fill=\"none\"/>\n",
              "    <path d=\"M18.56 5.44l.94 2.06.94-2.06 2.06-.94-2.06-.94-.94-2.06-.94 2.06-2.06.94zm-11 1L8.5 8.5l.94-2.06 2.06-.94-2.06-.94L8.5 2.5l-.94 2.06-2.06.94zm10 10l.94 2.06.94-2.06 2.06-.94-2.06-.94-.94-2.06-.94 2.06-2.06.94z\"/><path d=\"M17.41 7.96l-1.37-1.37c-.4-.4-.92-.59-1.43-.59-.52 0-1.04.2-1.43.59L10.3 9.45l-7.72 7.72c-.78.78-.78 2.05 0 2.83L4 21.41c.39.39.9.59 1.41.59.51 0 1.02-.2 1.41-.59l7.78-7.78 2.81-2.81c.8-.78.8-2.07 0-2.86zM5.41 20L4 18.59l7.72-7.72 1.47 1.35L5.41 20z\"/>\n",
              "  </svg>\n",
              "      </button>\n",
              "      \n",
              "  <style>\n",
              "    .colab-df-container {\n",
              "      display:flex;\n",
              "      flex-wrap:wrap;\n",
              "      gap: 12px;\n",
              "    }\n",
              "\n",
              "    .colab-df-convert {\n",
              "      background-color: #E8F0FE;\n",
              "      border: none;\n",
              "      border-radius: 50%;\n",
              "      cursor: pointer;\n",
              "      display: none;\n",
              "      fill: #1967D2;\n",
              "      height: 32px;\n",
              "      padding: 0 0 0 0;\n",
              "      width: 32px;\n",
              "    }\n",
              "\n",
              "    .colab-df-convert:hover {\n",
              "      background-color: #E2EBFA;\n",
              "      box-shadow: 0px 1px 2px rgba(60, 64, 67, 0.3), 0px 1px 3px 1px rgba(60, 64, 67, 0.15);\n",
              "      fill: #174EA6;\n",
              "    }\n",
              "\n",
              "    [theme=dark] .colab-df-convert {\n",
              "      background-color: #3B4455;\n",
              "      fill: #D2E3FC;\n",
              "    }\n",
              "\n",
              "    [theme=dark] .colab-df-convert:hover {\n",
              "      background-color: #434B5C;\n",
              "      box-shadow: 0px 1px 3px 1px rgba(0, 0, 0, 0.15);\n",
              "      filter: drop-shadow(0px 1px 2px rgba(0, 0, 0, 0.3));\n",
              "      fill: #FFFFFF;\n",
              "    }\n",
              "  </style>\n",
              "\n",
              "      <script>\n",
              "        const buttonEl =\n",
              "          document.querySelector('#df-49133512-9953-43c6-9be7-15e75f2f9c73 button.colab-df-convert');\n",
              "        buttonEl.style.display =\n",
              "          google.colab.kernel.accessAllowed ? 'block' : 'none';\n",
              "\n",
              "        async function convertToInteractive(key) {\n",
              "          const element = document.querySelector('#df-49133512-9953-43c6-9be7-15e75f2f9c73');\n",
              "          const dataTable =\n",
              "            await google.colab.kernel.invokeFunction('convertToInteractive',\n",
              "                                                     [key], {});\n",
              "          if (!dataTable) return;\n",
              "\n",
              "          const docLinkHtml = 'Like what you see? Visit the ' +\n",
              "            '<a target=\"_blank\" href=https://colab.research.google.com/notebooks/data_table.ipynb>data table notebook</a>'\n",
              "            + ' to learn more about interactive tables.';\n",
              "          element.innerHTML = '';\n",
              "          dataTable['output_type'] = 'display_data';\n",
              "          await google.colab.output.renderOutput(dataTable, element);\n",
              "          const docLink = document.createElement('div');\n",
              "          docLink.innerHTML = docLinkHtml;\n",
              "          element.appendChild(docLink);\n",
              "        }\n",
              "      </script>\n",
              "    </div>\n",
              "  </div>\n",
              "  "
            ]
          },
          "metadata": {},
          "execution_count": 21
        }
      ]
    },
    {
      "cell_type": "code",
      "source": [
        "fig = px.bar(\n",
        "    reg_results,\n",
        "    x=\"regressor\",\n",
        "    y=\"value\",\n",
        "    color=\"type\",\n",
        "    barmode=\"group\",\n",
        "    text_auto=True,\n",
        "    facet_row=\"metric\",\n",
        ")\n",
        "\n",
        "fig\n"
      ],
      "metadata": {
        "colab": {
          "base_uri": "https://localhost:8080/",
          "height": 542
        },
        "id": "W7oEeEsBZb1_",
        "outputId": "b73a66b4-5910-41b8-dc4a-bfb770714174"
      },
      "execution_count": null,
      "outputs": [
        {
          "output_type": "display_data",
          "data": {
            "text/html": [
              "<html>\n",
              "<head><meta charset=\"utf-8\" /></head>\n",
              "<body>\n",
              "    <div>            <script src=\"https://cdnjs.cloudflare.com/ajax/libs/mathjax/2.7.5/MathJax.js?config=TeX-AMS-MML_SVG\"></script><script type=\"text/javascript\">if (window.MathJax) {MathJax.Hub.Config({SVG: {font: \"STIX-Web\"}});}</script>                <script type=\"text/javascript\">window.PlotlyConfig = {MathJaxConfig: 'local'};</script>\n",
              "        <script src=\"https://cdn.plot.ly/plotly-2.8.3.min.js\"></script>                <div id=\"fe34b5f1-187d-4405-b2c0-f0783d0d4a5c\" class=\"plotly-graph-div\" style=\"height:525px; width:100%;\"></div>            <script type=\"text/javascript\">                                    window.PLOTLYENV=window.PLOTLYENV || {};                                    if (document.getElementById(\"fe34b5f1-187d-4405-b2c0-f0783d0d4a5c\")) {                    Plotly.newPlot(                        \"fe34b5f1-187d-4405-b2c0-f0783d0d4a5c\",                        [{\"alignmentgroup\":\"True\",\"hovertemplate\":\"type=train<br>metric=MSE<br>regressor=%{x}<br>value=%{y}<extra></extra>\",\"legendgroup\":\"train\",\"marker\":{\"color\":\"#636efa\",\"pattern\":{\"shape\":\"\"}},\"name\":\"train\",\"offsetgroup\":\"train\",\"orientation\":\"v\",\"showlegend\":true,\"textposition\":\"auto\",\"texttemplate\":\"%{y}\",\"x\":[\"linear_regression\",\"SVR\",\"decision_tree\"],\"xaxis\":\"x2\",\"y\":[8.343366128398262,8.34074621516884,7.803000845741763],\"yaxis\":\"y2\",\"type\":\"bar\"},{\"alignmentgroup\":\"True\",\"hovertemplate\":\"type=train<br>metric=r2_score<br>regressor=%{x}<br>value=%{y}<extra></extra>\",\"legendgroup\":\"train\",\"marker\":{\"color\":\"#636efa\",\"pattern\":{\"shape\":\"\"}},\"name\":\"train\",\"offsetgroup\":\"train\",\"orientation\":\"v\",\"showlegend\":false,\"textposition\":\"auto\",\"texttemplate\":\"%{y}\",\"x\":[\"linear_regression\",\"SVR\",\"decision_tree\"],\"xaxis\":\"x\",\"y\":[0.7474836723723135,0.7475629654127023,0.7638381094968547],\"yaxis\":\"y\",\"type\":\"bar\"},{\"alignmentgroup\":\"True\",\"hovertemplate\":\"type=test<br>metric=MSE<br>regressor=%{x}<br>value=%{y}<extra></extra>\",\"legendgroup\":\"test\",\"marker\":{\"color\":\"#EF553B\",\"pattern\":{\"shape\":\"\"}},\"name\":\"test\",\"offsetgroup\":\"test\",\"orientation\":\"v\",\"showlegend\":true,\"textposition\":\"auto\",\"texttemplate\":\"%{y}\",\"x\":[\"linear_regression\",\"SVR\",\"decision_tree\"],\"xaxis\":\"x2\",\"y\":[8.503855297262618,8.625387429101478,9.119800157929184],\"yaxis\":\"y2\",\"type\":\"bar\"},{\"alignmentgroup\":\"True\",\"hovertemplate\":\"type=test<br>metric=r2_score<br>regressor=%{x}<br>value=%{y}<extra></extra>\",\"legendgroup\":\"test\",\"marker\":{\"color\":\"#EF553B\",\"pattern\":{\"shape\":\"\"}},\"name\":\"test\",\"offsetgroup\":\"test\",\"orientation\":\"v\",\"showlegend\":false,\"textposition\":\"auto\",\"texttemplate\":\"%{y}\",\"x\":[\"linear_regression\",\"SVR\",\"decision_tree\"],\"xaxis\":\"x\",\"y\":[0.752405405556227,0.7488669282606155,0.7344718198300499],\"yaxis\":\"y\",\"type\":\"bar\"}],                        {\"template\":{\"data\":{\"bar\":[{\"error_x\":{\"color\":\"#2a3f5f\"},\"error_y\":{\"color\":\"#2a3f5f\"},\"marker\":{\"line\":{\"color\":\"#E5ECF6\",\"width\":0.5},\"pattern\":{\"fillmode\":\"overlay\",\"size\":10,\"solidity\":0.2}},\"type\":\"bar\"}],\"barpolar\":[{\"marker\":{\"line\":{\"color\":\"#E5ECF6\",\"width\":0.5},\"pattern\":{\"fillmode\":\"overlay\",\"size\":10,\"solidity\":0.2}},\"type\":\"barpolar\"}],\"carpet\":[{\"aaxis\":{\"endlinecolor\":\"#2a3f5f\",\"gridcolor\":\"white\",\"linecolor\":\"white\",\"minorgridcolor\":\"white\",\"startlinecolor\":\"#2a3f5f\"},\"baxis\":{\"endlinecolor\":\"#2a3f5f\",\"gridcolor\":\"white\",\"linecolor\":\"white\",\"minorgridcolor\":\"white\",\"startlinecolor\":\"#2a3f5f\"},\"type\":\"carpet\"}],\"choropleth\":[{\"colorbar\":{\"outlinewidth\":0,\"ticks\":\"\"},\"type\":\"choropleth\"}],\"contour\":[{\"colorbar\":{\"outlinewidth\":0,\"ticks\":\"\"},\"colorscale\":[[0.0,\"#0d0887\"],[0.1111111111111111,\"#46039f\"],[0.2222222222222222,\"#7201a8\"],[0.3333333333333333,\"#9c179e\"],[0.4444444444444444,\"#bd3786\"],[0.5555555555555556,\"#d8576b\"],[0.6666666666666666,\"#ed7953\"],[0.7777777777777778,\"#fb9f3a\"],[0.8888888888888888,\"#fdca26\"],[1.0,\"#f0f921\"]],\"type\":\"contour\"}],\"contourcarpet\":[{\"colorbar\":{\"outlinewidth\":0,\"ticks\":\"\"},\"type\":\"contourcarpet\"}],\"heatmap\":[{\"colorbar\":{\"outlinewidth\":0,\"ticks\":\"\"},\"colorscale\":[[0.0,\"#0d0887\"],[0.1111111111111111,\"#46039f\"],[0.2222222222222222,\"#7201a8\"],[0.3333333333333333,\"#9c179e\"],[0.4444444444444444,\"#bd3786\"],[0.5555555555555556,\"#d8576b\"],[0.6666666666666666,\"#ed7953\"],[0.7777777777777778,\"#fb9f3a\"],[0.8888888888888888,\"#fdca26\"],[1.0,\"#f0f921\"]],\"type\":\"heatmap\"}],\"heatmapgl\":[{\"colorbar\":{\"outlinewidth\":0,\"ticks\":\"\"},\"colorscale\":[[0.0,\"#0d0887\"],[0.1111111111111111,\"#46039f\"],[0.2222222222222222,\"#7201a8\"],[0.3333333333333333,\"#9c179e\"],[0.4444444444444444,\"#bd3786\"],[0.5555555555555556,\"#d8576b\"],[0.6666666666666666,\"#ed7953\"],[0.7777777777777778,\"#fb9f3a\"],[0.8888888888888888,\"#fdca26\"],[1.0,\"#f0f921\"]],\"type\":\"heatmapgl\"}],\"histogram\":[{\"marker\":{\"pattern\":{\"fillmode\":\"overlay\",\"size\":10,\"solidity\":0.2}},\"type\":\"histogram\"}],\"histogram2d\":[{\"colorbar\":{\"outlinewidth\":0,\"ticks\":\"\"},\"colorscale\":[[0.0,\"#0d0887\"],[0.1111111111111111,\"#46039f\"],[0.2222222222222222,\"#7201a8\"],[0.3333333333333333,\"#9c179e\"],[0.4444444444444444,\"#bd3786\"],[0.5555555555555556,\"#d8576b\"],[0.6666666666666666,\"#ed7953\"],[0.7777777777777778,\"#fb9f3a\"],[0.8888888888888888,\"#fdca26\"],[1.0,\"#f0f921\"]],\"type\":\"histogram2d\"}],\"histogram2dcontour\":[{\"colorbar\":{\"outlinewidth\":0,\"ticks\":\"\"},\"colorscale\":[[0.0,\"#0d0887\"],[0.1111111111111111,\"#46039f\"],[0.2222222222222222,\"#7201a8\"],[0.3333333333333333,\"#9c179e\"],[0.4444444444444444,\"#bd3786\"],[0.5555555555555556,\"#d8576b\"],[0.6666666666666666,\"#ed7953\"],[0.7777777777777778,\"#fb9f3a\"],[0.8888888888888888,\"#fdca26\"],[1.0,\"#f0f921\"]],\"type\":\"histogram2dcontour\"}],\"mesh3d\":[{\"colorbar\":{\"outlinewidth\":0,\"ticks\":\"\"},\"type\":\"mesh3d\"}],\"parcoords\":[{\"line\":{\"colorbar\":{\"outlinewidth\":0,\"ticks\":\"\"}},\"type\":\"parcoords\"}],\"pie\":[{\"automargin\":true,\"type\":\"pie\"}],\"scatter\":[{\"marker\":{\"colorbar\":{\"outlinewidth\":0,\"ticks\":\"\"}},\"type\":\"scatter\"}],\"scatter3d\":[{\"line\":{\"colorbar\":{\"outlinewidth\":0,\"ticks\":\"\"}},\"marker\":{\"colorbar\":{\"outlinewidth\":0,\"ticks\":\"\"}},\"type\":\"scatter3d\"}],\"scattercarpet\":[{\"marker\":{\"colorbar\":{\"outlinewidth\":0,\"ticks\":\"\"}},\"type\":\"scattercarpet\"}],\"scattergeo\":[{\"marker\":{\"colorbar\":{\"outlinewidth\":0,\"ticks\":\"\"}},\"type\":\"scattergeo\"}],\"scattergl\":[{\"marker\":{\"colorbar\":{\"outlinewidth\":0,\"ticks\":\"\"}},\"type\":\"scattergl\"}],\"scattermapbox\":[{\"marker\":{\"colorbar\":{\"outlinewidth\":0,\"ticks\":\"\"}},\"type\":\"scattermapbox\"}],\"scatterpolar\":[{\"marker\":{\"colorbar\":{\"outlinewidth\":0,\"ticks\":\"\"}},\"type\":\"scatterpolar\"}],\"scatterpolargl\":[{\"marker\":{\"colorbar\":{\"outlinewidth\":0,\"ticks\":\"\"}},\"type\":\"scatterpolargl\"}],\"scatterternary\":[{\"marker\":{\"colorbar\":{\"outlinewidth\":0,\"ticks\":\"\"}},\"type\":\"scatterternary\"}],\"surface\":[{\"colorbar\":{\"outlinewidth\":0,\"ticks\":\"\"},\"colorscale\":[[0.0,\"#0d0887\"],[0.1111111111111111,\"#46039f\"],[0.2222222222222222,\"#7201a8\"],[0.3333333333333333,\"#9c179e\"],[0.4444444444444444,\"#bd3786\"],[0.5555555555555556,\"#d8576b\"],[0.6666666666666666,\"#ed7953\"],[0.7777777777777778,\"#fb9f3a\"],[0.8888888888888888,\"#fdca26\"],[1.0,\"#f0f921\"]],\"type\":\"surface\"}],\"table\":[{\"cells\":{\"fill\":{\"color\":\"#EBF0F8\"},\"line\":{\"color\":\"white\"}},\"header\":{\"fill\":{\"color\":\"#C8D4E3\"},\"line\":{\"color\":\"white\"}},\"type\":\"table\"}]},\"layout\":{\"annotationdefaults\":{\"arrowcolor\":\"#2a3f5f\",\"arrowhead\":0,\"arrowwidth\":1},\"autotypenumbers\":\"strict\",\"coloraxis\":{\"colorbar\":{\"outlinewidth\":0,\"ticks\":\"\"}},\"colorscale\":{\"diverging\":[[0,\"#8e0152\"],[0.1,\"#c51b7d\"],[0.2,\"#de77ae\"],[0.3,\"#f1b6da\"],[0.4,\"#fde0ef\"],[0.5,\"#f7f7f7\"],[0.6,\"#e6f5d0\"],[0.7,\"#b8e186\"],[0.8,\"#7fbc41\"],[0.9,\"#4d9221\"],[1,\"#276419\"]],\"sequential\":[[0.0,\"#0d0887\"],[0.1111111111111111,\"#46039f\"],[0.2222222222222222,\"#7201a8\"],[0.3333333333333333,\"#9c179e\"],[0.4444444444444444,\"#bd3786\"],[0.5555555555555556,\"#d8576b\"],[0.6666666666666666,\"#ed7953\"],[0.7777777777777778,\"#fb9f3a\"],[0.8888888888888888,\"#fdca26\"],[1.0,\"#f0f921\"]],\"sequentialminus\":[[0.0,\"#0d0887\"],[0.1111111111111111,\"#46039f\"],[0.2222222222222222,\"#7201a8\"],[0.3333333333333333,\"#9c179e\"],[0.4444444444444444,\"#bd3786\"],[0.5555555555555556,\"#d8576b\"],[0.6666666666666666,\"#ed7953\"],[0.7777777777777778,\"#fb9f3a\"],[0.8888888888888888,\"#fdca26\"],[1.0,\"#f0f921\"]]},\"colorway\":[\"#636efa\",\"#EF553B\",\"#00cc96\",\"#ab63fa\",\"#FFA15A\",\"#19d3f3\",\"#FF6692\",\"#B6E880\",\"#FF97FF\",\"#FECB52\"],\"font\":{\"color\":\"#2a3f5f\"},\"geo\":{\"bgcolor\":\"white\",\"lakecolor\":\"white\",\"landcolor\":\"#E5ECF6\",\"showlakes\":true,\"showland\":true,\"subunitcolor\":\"white\"},\"hoverlabel\":{\"align\":\"left\"},\"hovermode\":\"closest\",\"mapbox\":{\"style\":\"light\"},\"paper_bgcolor\":\"white\",\"plot_bgcolor\":\"#E5ECF6\",\"polar\":{\"angularaxis\":{\"gridcolor\":\"white\",\"linecolor\":\"white\",\"ticks\":\"\"},\"bgcolor\":\"#E5ECF6\",\"radialaxis\":{\"gridcolor\":\"white\",\"linecolor\":\"white\",\"ticks\":\"\"}},\"scene\":{\"xaxis\":{\"backgroundcolor\":\"#E5ECF6\",\"gridcolor\":\"white\",\"gridwidth\":2,\"linecolor\":\"white\",\"showbackground\":true,\"ticks\":\"\",\"zerolinecolor\":\"white\"},\"yaxis\":{\"backgroundcolor\":\"#E5ECF6\",\"gridcolor\":\"white\",\"gridwidth\":2,\"linecolor\":\"white\",\"showbackground\":true,\"ticks\":\"\",\"zerolinecolor\":\"white\"},\"zaxis\":{\"backgroundcolor\":\"#E5ECF6\",\"gridcolor\":\"white\",\"gridwidth\":2,\"linecolor\":\"white\",\"showbackground\":true,\"ticks\":\"\",\"zerolinecolor\":\"white\"}},\"shapedefaults\":{\"line\":{\"color\":\"#2a3f5f\"}},\"ternary\":{\"aaxis\":{\"gridcolor\":\"white\",\"linecolor\":\"white\",\"ticks\":\"\"},\"baxis\":{\"gridcolor\":\"white\",\"linecolor\":\"white\",\"ticks\":\"\"},\"bgcolor\":\"#E5ECF6\",\"caxis\":{\"gridcolor\":\"white\",\"linecolor\":\"white\",\"ticks\":\"\"}},\"title\":{\"x\":0.05},\"xaxis\":{\"automargin\":true,\"gridcolor\":\"white\",\"linecolor\":\"white\",\"ticks\":\"\",\"title\":{\"standoff\":15},\"zerolinecolor\":\"white\",\"zerolinewidth\":2},\"yaxis\":{\"automargin\":true,\"gridcolor\":\"white\",\"linecolor\":\"white\",\"ticks\":\"\",\"title\":{\"standoff\":15},\"zerolinecolor\":\"white\",\"zerolinewidth\":2}}},\"xaxis\":{\"anchor\":\"y\",\"domain\":[0.0,0.98],\"title\":{\"text\":\"regressor\"}},\"yaxis\":{\"anchor\":\"x\",\"domain\":[0.0,0.485],\"title\":{\"text\":\"value\"}},\"xaxis2\":{\"anchor\":\"y2\",\"domain\":[0.0,0.98],\"matches\":\"x\",\"showticklabels\":false},\"yaxis2\":{\"anchor\":\"x2\",\"domain\":[0.515,1.0],\"matches\":\"y\",\"title\":{\"text\":\"value\"}},\"annotations\":[{\"font\":{},\"showarrow\":false,\"text\":\"metric=r2_score\",\"textangle\":90,\"x\":0.98,\"xanchor\":\"left\",\"xref\":\"paper\",\"y\":0.2425,\"yanchor\":\"middle\",\"yref\":\"paper\"},{\"font\":{},\"showarrow\":false,\"text\":\"metric=MSE\",\"textangle\":90,\"x\":0.98,\"xanchor\":\"left\",\"xref\":\"paper\",\"y\":0.7575000000000001,\"yanchor\":\"middle\",\"yref\":\"paper\"}],\"legend\":{\"title\":{\"text\":\"type\"},\"tracegroupgap\":0},\"margin\":{\"t\":60},\"barmode\":\"group\"},                        {\"responsive\": true}                    ).then(function(){\n",
              "                            \n",
              "var gd = document.getElementById('fe34b5f1-187d-4405-b2c0-f0783d0d4a5c');\n",
              "var x = new MutationObserver(function (mutations, observer) {{\n",
              "        var display = window.getComputedStyle(gd).display;\n",
              "        if (!display || display === 'none') {{\n",
              "            console.log([gd, 'removed!']);\n",
              "            Plotly.purge(gd);\n",
              "            observer.disconnect();\n",
              "        }}\n",
              "}});\n",
              "\n",
              "// Listen for the removal of the full notebook cells\n",
              "var notebookContainer = gd.closest('#notebook-container');\n",
              "if (notebookContainer) {{\n",
              "    x.observe(notebookContainer, {childList: true});\n",
              "}}\n",
              "\n",
              "// Listen for the clearing of the current output cell\n",
              "var outputEl = gd.closest('.output');\n",
              "if (outputEl) {{\n",
              "    x.observe(outputEl, {childList: true});\n",
              "}}\n",
              "\n",
              "                        })                };                            </script>        </div>\n",
              "</body>\n",
              "</html>"
            ]
          },
          "metadata": {}
        }
      ]
    },
    {
      "cell_type": "markdown",
      "source": [
        "We see that linear regression regression doesn't perform as well on the train set, but it outperforms its two rivals on the test set, at least in terms of both metrics we chose."
      ],
      "metadata": {
        "id": "bQO-E9PXnaPc"
      }
    },
    {
      "cell_type": "markdown",
      "metadata": {
        "id": "Ep747LROW1UD"
      },
      "source": [
        "$\\mathbf{Exercise\\, 4.}$ Create a classification benchmark with 3 labels.\n",
        "\n",
        "Evaluate training and testing prediction metrics for the following classification methods:\n",
        "\n",
        "- K-nearest neighbours\n",
        "- Random Forest\n",
        "- Naive Bayes"
      ]
    },
    {
      "cell_type": "code",
      "execution_count": null,
      "metadata": {
        "collapsed": true,
        "id": "nXFhorhmW1UD"
      },
      "outputs": [],
      "source": [
        "from sklearn.neighbors import KNeighborsClassifier\n",
        "from sklearn.ensemble import RandomForestClassifier\n",
        "from sklearn.naive_bayes import GaussianNB"
      ]
    },
    {
      "cell_type": "code",
      "source": [
        "from sklearn.datasets import make_classification"
      ],
      "metadata": {
        "id": "iItIgU_IdZvl"
      },
      "execution_count": null,
      "outputs": []
    },
    {
      "cell_type": "code",
      "source": [
        "X, y = make_classification(n_samples=1000, n_features=4, n_informative=4, n_redundant=0, n_classes=3, random_state=42)\n",
        "\n",
        "\n",
        "data = pd.DataFrame(X, columns=[\"feature_\" + str(i) for i in range(1, 5)])\n",
        "data[\"label\"] = y\n",
        "\n",
        "data.head()"
      ],
      "metadata": {
        "colab": {
          "base_uri": "https://localhost:8080/",
          "height": 206
        },
        "id": "98gw0VURdeEm",
        "outputId": "c0631f0a-fd00-4d36-b2a2-c0a968b42204"
      },
      "execution_count": null,
      "outputs": [
        {
          "output_type": "execute_result",
          "data": {
            "text/plain": [
              "   feature_1  feature_2  feature_3  feature_4  label\n",
              "0  -0.268999   2.047059  -4.687296  -0.873852      2\n",
              "1   0.439745  -1.884729   0.264197   1.734492      1\n",
              "2   0.002481   1.873506   0.160924   2.684806      2\n",
              "3  -0.664447  -0.993198  -1.611478   1.376072      1\n",
              "4   2.829484   2.541624   0.968068  -0.099387      0"
            ],
            "text/html": [
              "\n",
              "  <div id=\"df-0706ea01-4ea8-4411-9026-e1e59166a2fd\">\n",
              "    <div class=\"colab-df-container\">\n",
              "      <div>\n",
              "<style scoped>\n",
              "    .dataframe tbody tr th:only-of-type {\n",
              "        vertical-align: middle;\n",
              "    }\n",
              "\n",
              "    .dataframe tbody tr th {\n",
              "        vertical-align: top;\n",
              "    }\n",
              "\n",
              "    .dataframe thead th {\n",
              "        text-align: right;\n",
              "    }\n",
              "</style>\n",
              "<table border=\"1\" class=\"dataframe\">\n",
              "  <thead>\n",
              "    <tr style=\"text-align: right;\">\n",
              "      <th></th>\n",
              "      <th>feature_1</th>\n",
              "      <th>feature_2</th>\n",
              "      <th>feature_3</th>\n",
              "      <th>feature_4</th>\n",
              "      <th>label</th>\n",
              "    </tr>\n",
              "  </thead>\n",
              "  <tbody>\n",
              "    <tr>\n",
              "      <th>0</th>\n",
              "      <td>-0.268999</td>\n",
              "      <td>2.047059</td>\n",
              "      <td>-4.687296</td>\n",
              "      <td>-0.873852</td>\n",
              "      <td>2</td>\n",
              "    </tr>\n",
              "    <tr>\n",
              "      <th>1</th>\n",
              "      <td>0.439745</td>\n",
              "      <td>-1.884729</td>\n",
              "      <td>0.264197</td>\n",
              "      <td>1.734492</td>\n",
              "      <td>1</td>\n",
              "    </tr>\n",
              "    <tr>\n",
              "      <th>2</th>\n",
              "      <td>0.002481</td>\n",
              "      <td>1.873506</td>\n",
              "      <td>0.160924</td>\n",
              "      <td>2.684806</td>\n",
              "      <td>2</td>\n",
              "    </tr>\n",
              "    <tr>\n",
              "      <th>3</th>\n",
              "      <td>-0.664447</td>\n",
              "      <td>-0.993198</td>\n",
              "      <td>-1.611478</td>\n",
              "      <td>1.376072</td>\n",
              "      <td>1</td>\n",
              "    </tr>\n",
              "    <tr>\n",
              "      <th>4</th>\n",
              "      <td>2.829484</td>\n",
              "      <td>2.541624</td>\n",
              "      <td>0.968068</td>\n",
              "      <td>-0.099387</td>\n",
              "      <td>0</td>\n",
              "    </tr>\n",
              "  </tbody>\n",
              "</table>\n",
              "</div>\n",
              "      <button class=\"colab-df-convert\" onclick=\"convertToInteractive('df-0706ea01-4ea8-4411-9026-e1e59166a2fd')\"\n",
              "              title=\"Convert this dataframe to an interactive table.\"\n",
              "              style=\"display:none;\">\n",
              "        \n",
              "  <svg xmlns=\"http://www.w3.org/2000/svg\" height=\"24px\"viewBox=\"0 0 24 24\"\n",
              "       width=\"24px\">\n",
              "    <path d=\"M0 0h24v24H0V0z\" fill=\"none\"/>\n",
              "    <path d=\"M18.56 5.44l.94 2.06.94-2.06 2.06-.94-2.06-.94-.94-2.06-.94 2.06-2.06.94zm-11 1L8.5 8.5l.94-2.06 2.06-.94-2.06-.94L8.5 2.5l-.94 2.06-2.06.94zm10 10l.94 2.06.94-2.06 2.06-.94-2.06-.94-.94-2.06-.94 2.06-2.06.94z\"/><path d=\"M17.41 7.96l-1.37-1.37c-.4-.4-.92-.59-1.43-.59-.52 0-1.04.2-1.43.59L10.3 9.45l-7.72 7.72c-.78.78-.78 2.05 0 2.83L4 21.41c.39.39.9.59 1.41.59.51 0 1.02-.2 1.41-.59l7.78-7.78 2.81-2.81c.8-.78.8-2.07 0-2.86zM5.41 20L4 18.59l7.72-7.72 1.47 1.35L5.41 20z\"/>\n",
              "  </svg>\n",
              "      </button>\n",
              "      \n",
              "  <style>\n",
              "    .colab-df-container {\n",
              "      display:flex;\n",
              "      flex-wrap:wrap;\n",
              "      gap: 12px;\n",
              "    }\n",
              "\n",
              "    .colab-df-convert {\n",
              "      background-color: #E8F0FE;\n",
              "      border: none;\n",
              "      border-radius: 50%;\n",
              "      cursor: pointer;\n",
              "      display: none;\n",
              "      fill: #1967D2;\n",
              "      height: 32px;\n",
              "      padding: 0 0 0 0;\n",
              "      width: 32px;\n",
              "    }\n",
              "\n",
              "    .colab-df-convert:hover {\n",
              "      background-color: #E2EBFA;\n",
              "      box-shadow: 0px 1px 2px rgba(60, 64, 67, 0.3), 0px 1px 3px 1px rgba(60, 64, 67, 0.15);\n",
              "      fill: #174EA6;\n",
              "    }\n",
              "\n",
              "    [theme=dark] .colab-df-convert {\n",
              "      background-color: #3B4455;\n",
              "      fill: #D2E3FC;\n",
              "    }\n",
              "\n",
              "    [theme=dark] .colab-df-convert:hover {\n",
              "      background-color: #434B5C;\n",
              "      box-shadow: 0px 1px 3px 1px rgba(0, 0, 0, 0.15);\n",
              "      filter: drop-shadow(0px 1px 2px rgba(0, 0, 0, 0.3));\n",
              "      fill: #FFFFFF;\n",
              "    }\n",
              "  </style>\n",
              "\n",
              "      <script>\n",
              "        const buttonEl =\n",
              "          document.querySelector('#df-0706ea01-4ea8-4411-9026-e1e59166a2fd button.colab-df-convert');\n",
              "        buttonEl.style.display =\n",
              "          google.colab.kernel.accessAllowed ? 'block' : 'none';\n",
              "\n",
              "        async function convertToInteractive(key) {\n",
              "          const element = document.querySelector('#df-0706ea01-4ea8-4411-9026-e1e59166a2fd');\n",
              "          const dataTable =\n",
              "            await google.colab.kernel.invokeFunction('convertToInteractive',\n",
              "                                                     [key], {});\n",
              "          if (!dataTable) return;\n",
              "\n",
              "          const docLinkHtml = 'Like what you see? Visit the ' +\n",
              "            '<a target=\"_blank\" href=https://colab.research.google.com/notebooks/data_table.ipynb>data table notebook</a>'\n",
              "            + ' to learn more about interactive tables.';\n",
              "          element.innerHTML = '';\n",
              "          dataTable['output_type'] = 'display_data';\n",
              "          await google.colab.output.renderOutput(dataTable, element);\n",
              "          const docLink = document.createElement('div');\n",
              "          docLink.innerHTML = docLinkHtml;\n",
              "          element.appendChild(docLink);\n",
              "        }\n",
              "      </script>\n",
              "    </div>\n",
              "  </div>\n",
              "  "
            ]
          },
          "metadata": {},
          "execution_count": 25
        }
      ]
    },
    {
      "cell_type": "code",
      "source": [
        "fig = px.histogram(\n",
        "    data.melt(\"label\"),\n",
        "    x=\"value\",\n",
        "    color=\"label\",\n",
        "    facet_col=\"variable\",\n",
        "    opacity=0.7,\n",
        "    barmode=\"overlay\",\n",
        "    color_discrete_sequence=px.colors.qualitative.Vivid,\n",
        "    title=\"Distribution of labels\",\n",
        ")\n",
        "\n",
        "fig"
      ],
      "metadata": {
        "colab": {
          "base_uri": "https://localhost:8080/",
          "height": 542
        },
        "id": "8AYUrpo1evAO",
        "outputId": "344741d5-9ebb-430d-dd56-844584f984b6"
      },
      "execution_count": null,
      "outputs": [
        {
          "output_type": "display_data",
          "data": {
            "text/html": [
              "<html>\n",
              "<head><meta charset=\"utf-8\" /></head>\n",
              "<body>\n",
              "    <div>            <script src=\"https://cdnjs.cloudflare.com/ajax/libs/mathjax/2.7.5/MathJax.js?config=TeX-AMS-MML_SVG\"></script><script type=\"text/javascript\">if (window.MathJax) {MathJax.Hub.Config({SVG: {font: \"STIX-Web\"}});}</script>                <script type=\"text/javascript\">window.PlotlyConfig = {MathJaxConfig: 'local'};</script>\n",
              "        <script src=\"https://cdn.plot.ly/plotly-2.8.3.min.js\"></script>                <div id=\"ccda7510-e948-4801-bf8a-ea60b7abb819\" class=\"plotly-graph-div\" style=\"height:525px; width:100%;\"></div>            <script type=\"text/javascript\">                                    window.PLOTLYENV=window.PLOTLYENV || {};                                    if (document.getElementById(\"ccda7510-e948-4801-bf8a-ea60b7abb819\")) {                    Plotly.newPlot(                        \"ccda7510-e948-4801-bf8a-ea60b7abb819\",                        [{\"alignmentgroup\":\"True\",\"bingroup\":\"x\",\"hovertemplate\":\"label=2<br>variable=feature_1<br>value=%{x}<br>count=%{y}<extra></extra>\",\"legendgroup\":\"2\",\"marker\":{\"color\":\"rgb(229, 134, 6)\",\"opacity\":0.7,\"pattern\":{\"shape\":\"\"}},\"name\":\"2\",\"offsetgroup\":\"2\",\"orientation\":\"v\",\"showlegend\":true,\"x\":[-0.26899882389636187,0.0024812762087836893,2.528963116975315,2.1915294160703063,-2.7577739541594104,0.4099092659958039,-2.689613732986126,-2.1077114076496963,1.8929901524173132,1.9047679118179257,0.6460994922068335,-3.2294879397016802,2.9689047537054396,-0.7339165096196221,2.0208889865685458,1.1020618197428755,-1.167874664132359,-0.8311539647466148,-1.6613429299312634,1.6644288603724262,0.5119888924676861,1.5239530244074893,1.3697763541860186,-0.6250395130015569,-0.9924791554485117,-0.9234958341454713,2.121180388650977,2.097810056345244,-1.601194229870785,2.6494669365781727,-0.22263154543491304,0.1582703410319941,1.8050269349880868,0.3288436604786066,-0.6405462147605081,1.3138426780945125,0.979491675270299,-1.0259789961587453,1.6090918222401975,0.6862869063772293,2.2239814752094595,-2.717001308226479,-0.7226744800713858,-1.8265445469905108,-0.4820528749641424,0.8731959840087176,0.6159285104074418,1.8140517409157961,-0.7295798014285153,0.25535911672553757,-0.8814628313340871,1.149968442207963,0.3338825471387935,-1.2607733465599853,-1.1974343162855345,0.02083053087749187,-1.425102756390381,0.68755278342818,0.3441737760918744,-0.004187944078525407,2.283488401843504,-0.8837185360401354,-1.1245168500187692,2.5461240732682304,1.8348138446462068,0.7444869808153621,2.2955033677172354,0.9656745611089761,2.6929403937720857,0.693600874864905,0.9454047839510629,-0.7681952920441331,0.7906726963510857,0.47777012204183555,-0.11960315108229058,-4.003712522259631,1.6559508040528128,2.038781170193259,0.35365902056917764,-0.8991096553261022,-1.549634802470825,1.1690842854564765,-1.897031812748881,2.276079011592328,-0.7753305009150739,0.8788366290029557,-0.16062812828631579,1.2037855693437467,0.2800816792709362,1.092534965573887,0.9514196914716208,-0.5057154244993579,-1.0470274844995389,-1.740884648957651,-0.9111598573393975,-2.6098235395009897,0.3007648550587181,3.0656859824564195,-2.473393924549031,0.7355359735278219,-2.796729618033016,-0.7229876409775557,-1.588113480465283,2.145796409220732,-0.70791945569486,1.815605125317533,-1.7070637661051993,-0.5130765899646645,1.6129732531252974,0.2597498461847987,0.7297360793550229,-1.4541150998164145,0.41223828011869135,-2.737103438152368,-2.1022808919176157,-1.231404821989564,0.7996943795507232,-0.7158210337454818,0.6098726551540226,-0.36899940574702206,-0.5738890245211508,0.31012686985195437,-2.321737915680192,-1.145082312448687,-1.280606590679069,0.5853849865218164,-1.6589237364844565,-2.826998032452122,0.6066672484344813,1.3690843513289916,0.39000631199171654,-0.3533159445434402,0.4971983359016512,0.8238303292561557,1.8914969620912363,-0.803259816367082,-2.2274234909315926,-1.3994149457042744,0.9989260402956776,-1.7610215295258325,-0.6438346676674556,-0.2142225825699392,0.3812796918818723,-0.3103332405708725,-1.174418389743833,0.2030485216573853,-1.1105235128143909,-1.444880579668852,-1.465650719735704,-0.16727952429502602,-1.645844426572385,0.015889861062304167,1.0873311726543273,-0.8545362105254897,-1.6686838329215785,0.8524062805010415,-1.0776822433532864,0.29259638701429924,1.3485720668585996,-1.1267324135846677,-1.2626639558486352,0.5549131208391341,0.9951716689165336,-0.5351056669270129,1.6279503061062193,1.454322720093549,-1.0912173727558694,0.10501256285916183,-1.033182183579144,3.599368422992069,-0.021709619664301405,0.6821725871975989,1.5219249190674091,-2.1477816553458178,-1.17580146732758,0.25682100241862127,-0.8095791191623999,-1.5423995997522124,-0.6197773308254326,-1.1688042630693687,1.0256702143274554,0.2709924948564093,-1.7359611408559217,-0.5124941581323539,2.5924329244205397,0.27342713084464365,2.7003555945479016,1.3535122634582752,1.7924029658192717,-1.8545844053961384,-1.4350010973183893,1.2067347700254494,1.5298406949419094,1.9330729208357564,-0.6083580276787055,1.6675904507849206,0.972457071615468,0.07872466183755489,-0.1006184049457346,-0.4838683767705243,-0.21243566187208485,-1.0734591500277566,1.9343272404933205,1.9442415466828287,1.0521454911824883,1.3627093105691368,-0.9400901904226051,1.1866342029230854,-3.5697345468220796,0.8844109125702883,1.0083999915428037,1.8930260988647172,-0.6544978832983361,-0.35500023671287295,1.1003758556962981,1.4490351340980316,-1.5089606241011864,-0.8353810169549243,-2.1656745179364747,0.24472687333695986,-1.7584413570613386,0.5477766390351815,-0.26715566039521743,1.3467072053512954,0.47115195719050507,2.1739470837348103,-0.6961703680725195,0.9465954646172857,0.3298541417153821,-0.7833370911718598,-0.7465545006637764,1.8339916420145772,-0.5744963829966936,-1.5734596192635029,-2.272518385084,-0.8031276035348567,3.114460341965145,-1.1131733674260513,0.6090276765950686,1.5443518006152248,-0.9596477955538542,1.64777572700427,-1.5765755988163872,-0.000809384446755046,0.13258934890702012,0.7913927545739887,-1.3577498394234007,-1.4980989366883652,1.1220656347653253,-1.5238200429687818,-0.000895349052011607,0.5273559327094886,1.7571232738706835,-0.9295055522487687,-0.469749939914887,-0.636907893835821,0.9772625823462114,1.799895530918091,-1.0242430161080893,1.7950236509218107,-1.7730010821621072,0.5651264480858402,-1.9817711986691475,-0.18846485988680572,1.7709406093673394,3.5284953700476946,-0.4048083318146176,-1.67779712069705,1.878285242052951,-1.287982994990509,0.45110513095692006,-2.2555181592982203,-2.9045090890094176,-1.0828784501971667,2.696140770873434,-1.588485773988896,-0.05750853058945604,0.5774671493339781,-1.5490775928858482,0.9966500070790514,2.0313430808600863,2.21790425094657,-0.2590212783648477,-2.16394975232647,1.0376831440154688,-0.18772119508719243,-1.1545113412995085,-1.8403030346238458,-1.9299421465090876,0.73429741660187,1.842243822604407,0.8286591752936167,-0.6539241211316874,1.3264951912315863,2.1759726901971037,-0.38636913266062467,-0.8044404426076118,-1.2645828908737697,2.1324257514828595,2.43156514662385,2.333737579269962,2.272175007806605,-0.9654085691400949,0.7243211245677434,1.515984058524309,0.17406541664809183,1.7585224594221625,-1.0962234013446603,-2.3562209683007516,-0.4229328341846881,-1.3988625408003064,-1.7416497112981724,-0.008467544492733237,0.03500173505052773,-1.2886424340331306,-0.48680305750321673,-0.6948979747227196,2.0797736946414807,0.22475496599792177,1.1136836528282628,-0.3134751703823363,-1.0004900599007043,0.7845613046644306,1.9995494286885733,0.8169703964719379,-0.9461189104731561,-0.6194367855063183,1.5837661537816232,-0.9231968796173213,1.30827276462496,2.480848641168124,0.6978865179116922,3.2236016639382696,0.5220036491789481,-1.3200184916275455],\"xaxis\":\"x\",\"yaxis\":\"y\",\"type\":\"histogram\"},{\"alignmentgroup\":\"True\",\"bingroup\":\"x\",\"hovertemplate\":\"label=2<br>variable=feature_2<br>value=%{x}<br>count=%{y}<extra></extra>\",\"legendgroup\":\"2\",\"marker\":{\"color\":\"rgb(229, 134, 6)\",\"opacity\":0.7,\"pattern\":{\"shape\":\"\"}},\"name\":\"2\",\"offsetgroup\":\"2\",\"orientation\":\"v\",\"showlegend\":false,\"x\":[2.0470588061838333,1.8735064629697837,1.6804114014729428,1.8896961305089643,-1.1150341703918292,-2.9250752697591826,-0.27766182583972776,-2.5977299894150834,-0.25679980935548863,1.530082287618428,-2.401214182991308,-1.3810355569117323,-0.2010255612972771,-2.178858893416981,1.4779448815540814,0.5683019519179127,0.5768492726978829,-1.8813977587858997,-1.5290146063998584,0.3171712890612478,0.7570045651112767,3.1420620403935646,0.9507807373052894,0.3662944675211198,-1.423124131406209,1.2221000868524008,0.8557694437270368,0.7631796743322509,-0.44495172373701797,0.5719100471716703,1.6222099954486806,-1.367781892583779,2.2887657206716887,0.4271497849449408,-1.8345825463634076,1.2746944364935096,1.1587451475082402,-3.3384417290003006,1.80132280389586,1.9328586544666713,0.18591905125274255,-2.2253065294648704,-0.32183348897193076,-1.5002496960643275,0.2899718347257981,0.81683375864033,0.7221627717773734,1.0377884587817314,-1.0829775445334584,-0.9429776126975703,-0.8103443283233016,-0.3526282632820277,-0.39358363795653784,-1.9803507820658988,-0.5502342276102492,1.644248165632264,-2.9177379222060056,1.3329121127844668,0.22780892650067375,-0.704781212179536,1.8135269186660983,2.9871965516737147,-0.040934653928568654,1.2547936194152673,0.587316915677081,1.1560668541764536,2.1687050914360846,1.4861066226460427,0.5726466648547008,0.7679839535303058,0.5508502458635602,2.098424558855855,-0.0318987243991371,0.7861024206646172,-0.12682327417670636,-2.1858713244938697,0.7599893955066503,-1.0894260294500548,1.4852895555150671,0.2987420286168416,1.4289335731684378,-1.0475866580253255,-2.840494520587285,-0.0536874722853975,-3.5296796903521646,0.24887084318631247,1.7480639484202563,2.5201048059400772,0.8832107680323941,0.7924255583149666,1.0991909421142194,-1.6468714369610282,-3.3247002930939393,-0.039285809490642754,-1.23307510280765,-1.0391888968759095,-1.491296435525888,0.6061654329569139,0.328515487601045,1.0641593860869174,0.2618071327138618,1.4511448016340105,-0.8098802008929629,0.5844734812283326,-0.8264441191196862,-0.10620782213392599,-1.2115976449202717,0.1386722054664411,0.654624178717547,1.863766131986817,-1.086696321268907,-3.503422811752021,1.2940532130993294,-0.6568556135550452,-1.2593628884126176,-0.5849389601783264,2.0079723547772073,-0.08030764036227012,0.17848254452045098,2.881324102681587,-1.011286652167321,1.2786476211169482,-2.028999343268935,-0.24348401388387264,-2.844458606139761,0.25434965020713673,-2.7077412223043265,1.0311796793405472,1.5347809957878216,-2.31967846298525,1.782772673044815,-0.33501744347667284,1.0025707292958226,0.5350928334724453,1.1024210386252458,-0.44605221226641667,-3.0567945561743968,-2.1876133285097987,0.6188167727180846,-0.31153554699101893,-2.162821268387191,-2.113486839515396,-0.2685629965408891,0.13521321027197752,0.215285991263805,1.3123724564311194,-2.412059651911468,0.21876382435224384,-1.7220551407805056,-0.4808722385502999,-2.4853782535593867,-0.32171474264294275,0.8479970080225644,-3.0304378049275678,-0.42455987154126673,-0.7132831766817934,-2.293492109650191,1.3885086483684372,0.8771450669161918,-2.0345313865145527,-1.7735213449180853,1.4101870373580072,1.6404858075357631,-0.6544323719876842,0.11973640331804158,2.572911254294967,-1.1764523397228939,-3.4674626980188,1.9985162778532128,0.5637308299700403,1.0565787329915828,1.564222908892794,0.35338902428991525,-1.8696558659396656,3.1332551635502157,2.424230055624147,-1.6853461721038876,-1.767782453713114,0.6085467503591737,0.8765642052507256,1.3814570893371627,-3.1753400785289494,1.5407575309973192,-1.3040827195611624,-0.200007979462143,1.211336770568117,1.0164220810711777,0.7677683846784609,1.7496869712707896,-0.30464841646245866,0.997418100656555,0.40079947504394453,2.5915145846445324,0.7318391701263363,-0.7366471004586908,0.41382766297662166,1.8059073828219678,0.6627728052291921,0.764227558103135,-0.2647523300008412,-0.2754703834321398,-2.392225882485348,-0.02980996951057957,1.061114786195939,2.057004708984779,0.19265497537587772,-2.2944754948793884,0.8472741180390506,-1.8199012437376765,0.7970545334148826,1.7034973770255681,2.0461429560144775,0.4913516065327608,-3.010959103538022,-0.10174546825351727,0.17384171624057176,-0.18436736112057817,-2.4489762298544733,0.42696563086358297,-1.2769332775645263,-1.8576376047341585,0.22151515963876733,-1.5805055292530674,0.8689001827053631,3.11753288190073,1.1158950517425763,0.9394000224177548,0.5441234866784415,2.0193309289432877,-1.5719678985450742,0.4630749548183585,2.114349809836683,-0.8097295377823911,-0.7413213245739039,-1.8931716706746993,-0.6562012958867766,0.753224453540866,-0.9287152673724646,1.3141101502502444,0.010124609906934867,-2.7394260783376145,0.9329630734869907,1.1412753618594969,1.409167575929256,1.8221202016568965,0.4754564206255901,-0.5830054024962723,-0.8374059105163749,0.5485712397591433,-1.5368022630244058,-1.4534452475497601,0.6012615824862388,0.28909535255721797,-0.8362250583029414,-1.2340189543765887,0.15046817492548703,2.2218479784751795,0.7198065326316667,-1.3523898736030842,1.4686882534152073,-0.7257564784537297,1.5228872934553075,-0.7268762757463106,-2.2552602599592806,-0.7442972836067048,0.2479557351848123,0.31240606992887154,-2.0652702540748376,2.8146984937495922,-0.08255101231882145,1.7787915788083417,0.6385115906559442,-1.2709884579392612,-2.0205780404589557,1.0692250249100654,-2.8468538607247442,-0.1633193693993833,0.05125518431574816,-0.8604854156421841,1.7903229580850843,-1.1871601788296404,0.3634801142424102,-1.845665206834124,-1.8339201656173718,2.073070404867519,-1.002679168611314,-0.47272332638352577,-2.290655299412661,-1.8701533792408882,0.016591606528870484,1.3085562924130165,-0.03070159742563039,-0.024440289904595902,-0.5207722548356013,0.9209048090519676,-1.2963895250077901,-1.4814839140109886,0.3272727251000602,2.20764336427764,1.9530302996640074,-0.6962481006659809,1.054028378761862,-0.11310090412905371,1.9480297335688557,-0.23434024639500994,1.100005607142873,2.8119897081443384,-0.9035921213139483,-1.5237795244586438,-3.0383816835304662,-1.543030338599367,-2.7550057712673603,-0.6373248456017031,1.8808997597503734,0.611415564713973,-1.396710415311788,-1.5331590855392103,-0.10699967839516011,-2.186447528216232,-0.24372622879186823,-1.529512681526731,-1.3335492157572846,1.4660127684879103,1.573216064663762,0.979440507404508,0.5746007239377429,-2.586115548465968,0.9146146346003123,-1.126783371988846,0.6285989198763211,2.0826878714421087,1.522461513315184,-0.8380677245678441,-1.679448314553598,-1.5512779321773573],\"xaxis\":\"x2\",\"yaxis\":\"y2\",\"type\":\"histogram\"},{\"alignmentgroup\":\"True\",\"bingroup\":\"x\",\"hovertemplate\":\"label=2<br>variable=feature_3<br>value=%{x}<br>count=%{y}<extra></extra>\",\"legendgroup\":\"2\",\"marker\":{\"color\":\"rgb(229, 134, 6)\",\"opacity\":0.7,\"pattern\":{\"shape\":\"\"}},\"name\":\"2\",\"offsetgroup\":\"2\",\"orientation\":\"v\",\"showlegend\":false,\"x\":[-4.687296422375438,0.16092413838654163,5.330251563855104,-0.4935429571959473,-0.14309804893424016,1.1359639404692594,1.9504280196767567,0.48953153111593983,0.1315626308521527,-0.6524724423172998,1.5314328273791866,1.33152791277314,-0.1399904267228259,0.26322145612738446,4.307191885024413,-3.559487971728202,1.34616179414687,1.0456152367735185,0.33580786140508945,0.3001321512088777,-0.10840335078368157,1.8252872125596555,-2.677664364787221,-3.615553446688477,1.113958781877389,-1.5989222964773295,1.611409905352402,-1.463707551157126,1.4164856679116151,-0.2940295885306692,-2.0095055892169498,1.2986822052873608,-0.14967253105494382,-5.191123837456854,-0.20909372973295914,1.1540363729323913,-0.7788972145796185,0.23883187044813958,-1.9761473087163177,-2.6237678299369493,-0.7548488294621553,0.8689165497021346,1.6132513090944363,0.2773344041569078,0.19177674669166778,-3.128825410078936,-0.2675101792177861,2.8924178638610845,0.9433547784413091,0.9977721447326449,1.0901240812262483,0.9972098891185177,-0.8972917772578952,1.0349364027953267,1.306796999906645,2.5844016382262485,0.7802374690191232,-1.199058189042467,-3.7059609558599074,2.371223004295503,0.8787456015711008,-3.6075285835863644,1.008170609608941,-0.48100904933947475,0.4315585247540923,0.48910573077605424,0.897684896993616,-0.1274063253903447,-1.29066583398295,0.31715660094281595,-3.036898110124937,-3.188611970732371,1.1245552370931984,-1.937384028878709,1.775909406865521,-0.2049647296733721,-3.3897239409710056,-1.6566990874325933,2.5803431225772155,1.2613163994280268,2.620476066453161,1.026466381280479,0.12183140173160167,-2.765846565014912,-0.29070733686012695,2.513343269877949,-2.1666835884350792,-1.6881383472398248,-2.714321180751866,-0.6407483914978989,-0.9430447647183168,0.9515459609450859,0.1360465398212144,1.492213270232121,0.575054852473329,1.3300225869088467,0.7668772722475533,2.2691670156593173,1.2575874778384006,-1.107327479416333,1.7357410020705626,-3.917514619017141,0.6235505685295999,1.708187723520751,1.2079107344513937,-2.6084110481134193,1.0070815090469871,1.0812186726188249,0.32483472547406333,-1.2128955749670718,1.7180910382275072,-0.20259546409569862,-2.4663926114267607,1.1306729807228102,2.3443362074041403,1.5835619815733186,-1.985870906354096,0.976715817005968,2.7776027072090796,-1.458885355609476,1.6546086756927498,-1.8119784060869097,0.23644635071126596,0.6123916217533074,-0.87186115367531,2.1875078226879965,-0.5316542835881795,1.8624113714286936,2.0942805729867935,1.0623319563129856,2.728833717294469,-6.649364747891242,-0.1841498541945804,0.4478346695946369,2.0557647256244023,0.6464367498723487,1.071954737425699,1.3791456617927718,-0.6076383658468434,1.4988809475386542,0.6368050291606635,-0.5038981436367,-1.570727470575875,-0.6602169291184401,-3.6091499676355134,0.8104460772660846,0.5139129861318417,0.9861130176232252,1.0746157889059718,0.8466646803484748,-0.08252081664240718,-3.4762993103560826,0.2506836420083598,-0.135091593185392,1.4741912857844537,1.4639688047873418,0.16653749307944987,-1.260995176727587,0.3327253731973687,1.612440561672372,0.6519760512471572,-2.6181728314167643,-1.1734503723021494,1.4011397197942124,-0.5105882510858835,-0.1273870449983363,1.0647487062392025,0.7855494746061771,-3.044096458727501,-0.28740278898439886,0.4848136527321998,0.23717670662536827,0.66680520543165,-0.8754550640647509,-1.711075470911878,2.339642768299232,0.7358538811833009,0.8582450409421843,1.3415515017760153,2.0915668845519475,-1.0641119315378134,-0.15640336794944054,-2.1035727702929035,1.0418488451300942,0.34235866102557155,0.9631011761763272,-1.1466024766652392,-2.3726090740421584,-0.6806324826213064,1.6244260589720927,2.0031353545472363,-2.823491511847221,0.9877255269836476,-1.2131066083217288,0.8096045663704441,1.003668403813308,-2.955323605226737,-0.11549193740235886,1.844040732241138,1.3510070143099058,1.8095562115160164,0.08647035542430404,2.198435351517819,0.6250503645821863,-2.1908655721757784,-0.9098050596502169,1.4416617792522843,1.5801538801469142,-0.1256766832517473,0.721955997507399,-1.2132158059933018,-0.9604874663408327,2.051994118371519,-0.10871373212242585,-2.1654722464661242,1.6734482469128897,0.024017197026867887,-0.2528306096099522,1.3943104272902378,0.7955205962188401,-0.35940002077184907,-2.030251940303125,1.365883829476553,0.2302792281597823,-0.9820905491826571,-1.258764476511635,2.2735454616965174,-2.0423734624726944,0.7570184851616435,0.6819681714345334,-2.6657354618392803,0.7353817738449588,0.9552024089429946,0.6834578365002986,-0.06478162270705279,2.312434619140102,-1.2711610189682687,0.44784149619690305,-2.5037217440343094,0.6790054308025364,-0.05408208238626422,0.614765296263045,1.161610832146669,2.2337613752633154,-2.1201627986159064,-2.128564252381678,1.7357904688343013,-2.686347494306265,-0.9157885173487157,0.9897885153609232,0.744326662280524,-3.3301865340828916,-3.3970727938679053,2.0356091846582283,0.8631939731154259,1.3067336432663952,1.5852256142770265,-0.044515272556711505,0.8590662489817582,-3.3121955073290548,0.7268429793671184,1.4901304062954517,0.8414011614802263,1.0233437576633302,-1.6526402771305138,0.9854612244814436,1.5608639490887635,-0.3520598324389952,-0.08275466658621267,1.835629126290773,3.6872527632892544,2.0693632746568134,-1.448868193379517,1.1057588044081716,0.22546704564062225,-0.28005506179451545,-4.853612026281712,-1.6415939560557926,0.9757512125798001,-1.7979322966100506,-1.0650036422328084,-1.5675630579714874,0.6659012780000211,-0.8163375690074692,-1.4387456751237582,1.1715139438945026,1.4141771285090188,1.1412798532901263,1.3598568694736972,-4.044225724064068,-3.4724519425129574,-3.273445586434138,1.6692679881258157,-0.724899715803712,0.6926746484953286,0.7078985297200716,1.3308094919823703,2.2913638297659844,-0.9598277072718805,0.8491358231289377,-1.8450770883276157,2.243386108357224,1.378517789811966,2.2047198890399082,-2.473945961880897,-0.5458035865762964,-0.06795791716941435,0.1309834599909303,-0.470851011566062,-0.14126582443948843,0.7866853629658411,0.45275333650051275,2.2791253000743517,-0.04185362050332242,1.173993986269282,0.3165152795015025,0.6200341383690022,-0.508505742855508,-0.0361554748979942,-1.583354060570115,0.7018969326292792,0.24236773514826404,2.6230871273557157,0.30209923559418783,-2.492423205143116,2.0687243753298334,-0.031685229247591096,-1.2246787885486685,-3.0415250992196468,-3.4578522856409757,0.5550471563296393,-0.39683253591541634,-0.8972077667520435,0.17484137527991672,0.7162203847739117],\"xaxis\":\"x3\",\"yaxis\":\"y3\",\"type\":\"histogram\"},{\"alignmentgroup\":\"True\",\"bingroup\":\"x\",\"hovertemplate\":\"label=2<br>variable=feature_4<br>value=%{x}<br>count=%{y}<extra></extra>\",\"legendgroup\":\"2\",\"marker\":{\"color\":\"rgb(229, 134, 6)\",\"opacity\":0.7,\"pattern\":{\"shape\":\"\"}},\"name\":\"2\",\"offsetgroup\":\"2\",\"orientation\":\"v\",\"showlegend\":false,\"x\":[-0.8738524319992036,2.6848056173212362,3.483631212717491,-0.4110114222006387,0.16573440863467848,0.29903206241145885,1.1764064731579265,-0.4447368893352508,1.5908881238647896,-0.32225352388296624,0.768070846941613,-0.2708291769652049,-0.46969730604475357,0.3789819888789302,3.3774459546128988,-0.8001344261752672,2.4348351738928073,0.3482072398465187,0.8644022061335848,1.5918860763523492,2.83744608042303,0.8943597009097489,-0.061660608740013556,2.3592880749194425,1.1998048019881231,3.265739694816393,0.710486264256811,-0.6453884190011607,1.1185304866131371,-0.05191638474373539,1.4450357807531584,1.0476393439874045,0.3211998501091444,-1.0265007677588671,0.40169781394193627,1.9522089463166803,1.4713153000645969,-0.3589109486912063,-0.6906887600895097,-0.19583302808785263,0.31757102688066796,0.19952646072096292,1.2709635622358133,0.9175548128106915,4.083904381162256,-0.05168818320956148,2.2652549692713904,3.1068538225420896,0.9198390590798433,1.2546463534827854,0.8382416027745663,3.6968898235424184,2.193445785411794,0.3060920808061337,0.8696577123901443,3.4923335312937884,-0.6759357037927298,0.8792740121737482,0.33811508320934947,1.9298864610794617,0.38354564800319413,0.05197726442150841,1.588140021370689,-0.1798684777204811,0.9897887163689025,2.5248853245359424,0.028232450932493935,1.4944388578388885,-0.9809435222023926,2.718267439821936,-0.11635588850452638,0.9134619336161471,2.45978760125172,0.21315308085459106,2.104698085400236,-0.5038046873532771,-1.3255067384946155,0.7903515649397115,2.6807116129088557,1.8848169793204854,2.3785611626146492,1.5508051007040713,-0.4210007053803879,-0.565745458242648,-0.20410017936484115,2.7179613549560955,0.9434374475897315,-0.41915040142933435,0.44816923382890783,1.464071978798102,1.291928083328683,0.9807190750590978,-0.08554179532257677,2.0437456446835114,1.3017744104165656,0.7905136486396465,1.1553040170780322,1.1586319971044958,1.4658381921413945,1.1970319593820742,1.1750537308387947,0.9105477856751855,0.9034164375901439,1.956129923569665,1.4555020619510097,-1.1240851532648386,0.9552634892139393,2.0631087485992152,1.27593916167692,1.5722772020297502,1.9373356350730655,-0.9024518993735711,0.7100341156202973,0.5982965057601961,0.7353307023993811,1.181408722818016,-0.0028160026094163904,2.0434891712673267,2.2231016423209544,1.2323427219137415,1.3428897571748404,0.9978019083558148,-0.38791892861272403,1.3495340151887445,0.13132130704309009,2.1794506157075046,-0.3520698252691641,1.3055432519832737,3.311600056633887,1.7258046175614252,3.5911305687498563,-0.12757544379803432,1.9677447537572905,2.2845063079440626,1.8315578881558643,1.5176790043672654,0.13637964584469742,0.0954182213059227,2.160771616923382,0.9637223918255313,0.8515937417327385,0.30712463305182425,2.1605489022888644,3.805166230851562,2.138966438409762,3.3947079598824144,0.23701170765222146,1.4707978089282647,0.21171441086522125,1.8702748775928106,-0.4452605666506142,1.0732187297054128,1.5835914557730937,0.020992375123117135,1.07635359306138,1.9465273365776663,-0.8120251597050558,1.133150567072743,1.3384768185712974,0.4731170470514968,0.27990266639735717,0.16466349351362097,0.5498565436745773,2.204406673504154,1.07764585429403,0.18358209458640573,1.2851662209614263,0.7660606275504966,1.5645621287663543,-2.053265661220623,3.1883739645734086,1.8404863527417916,1.6347251941863767,0.004444916232459795,2.127986293994496,3.064675701840878,1.0056279737271048,0.35096792770692864,2.292620238162442,1.7782719295916478,0.7079511960633922,0.08514673576825038,3.3910539700272873,1.3270728227813207,0.5808474885668522,2.554014938125368,-1.0952989431504592,-0.4714675174343985,0.2626852503822904,1.3439786582389608,1.8658462174956936,-0.3167893546922631,1.2168241080101532,-0.25773360627220954,1.2629207519006602,1.8862656416233157,-0.9076778394726543,2.514632891707228,4.34369622570982,1.6776955006773513,1.7991764372310408,-0.1775250851505532,2.538229229133348,0.7753499417636354,-0.34766577876086435,0.6920398623475367,0.5425278074442237,2.5569419396560598,-0.11441347410508818,1.9377888557425655,0.07536286554516891,-0.6643383401670611,2.2028729940185743,-0.12460798740825241,0.8953854761753074,2.487409316833217,1.0730659061387071,0.5105303753383694,1.4759054672012797,0.7660751444544728,0.30437480217575585,1.6925490951073239,1.0144914046281117,1.2925074885659869,0.5493791446988441,-0.2595107610593972,1.7641395573273384,0.7983221751358934,3.7154933855275565,0.8073434256720802,2.532262878253543,0.6703718743792055,1.0500103069919497,0.6825633125604489,-0.04434575693509091,1.6016278914698026,-2.019944487557137,1.0146552975195366,0.4863190170495634,1.7340740325336506,0.2529780969226141,2.3044634246629183,1.9131327742119137,2.502503640205264,0.7664065987140253,1.0157981944113295,1.4612416849765557,1.2866342476438497,0.39093692846264283,0.06219515437154677,0.8321146779831687,-0.1650079762235499,-1.0807058852695794,1.5625797287855865,1.371390152046332,1.4174615885600303,2.573665351583686,1.0220636243492014,0.7009085956459472,-2.1268250996307114,1.066718935316298,3.2684368119648077,0.8807727550233455,0.7513968523768818,0.8206700943193629,-0.694952843629522,2.237075912163226,0.4954001492614538,-0.5854245446045871,1.5693665926035816,3.8320170781932448,1.8106030898314724,1.8776103565858946,0.1974021271880394,-0.3517815815148997,-0.2664805564581936,0.27444214444585047,1.434135098382415,0.9096764953016612,0.20693609380895472,0.4533785283779902,-0.33012557142886134,1.1298447596937187,-0.21187826477936333,0.37547676199277324,0.8516075749555102,1.270094610966498,0.14944911422995388,-0.4578256601409463,-0.38659711674770714,-1.5025466166841857,0.6709970770102566,1.9171363143172095,1.270729170447542,0.6181578771940065,0.8877752914281566,1.0979534591423512,1.388225669331824,-0.15811440502397334,-0.4481196668126597,-0.4795723797936542,2.0332644805884796,1.2624617335616781,2.9516254995452176,-0.3071523446495228,2.66614204832671,-0.15811506826660016,0.6277019542634499,0.5051366569583297,0.07875752449729456,0.64450321500541,-0.05387933985219706,1.4561054985965765,2.605981184008427,2.02003507325304,1.0639489679045435,0.8900798150974452,1.0901881486567022,0.42076354008042205,0.9664784775879437,1.1638044860862218,0.5425259288976281,3.6084594133398795,0.4762849989320064,0.13040716379759132,2.1845763575408244,-0.17003292048092167,0.5709946462588638,2.5085560135209666,-0.8895490545937006,0.134102715836248,1.6199967762438827,-0.38383615338910504,0.8778762691563187,0.37668603055403815],\"xaxis\":\"x4\",\"yaxis\":\"y4\",\"type\":\"histogram\"},{\"alignmentgroup\":\"True\",\"bingroup\":\"x\",\"hovertemplate\":\"label=1<br>variable=feature_1<br>value=%{x}<br>count=%{y}<extra></extra>\",\"legendgroup\":\"1\",\"marker\":{\"color\":\"rgb(93, 105, 177)\",\"opacity\":0.7,\"pattern\":{\"shape\":\"\"}},\"name\":\"1\",\"offsetgroup\":\"1\",\"orientation\":\"v\",\"showlegend\":true,\"x\":[0.4397451304970358,-0.6644474903033566,-1.3314228393728844,-0.9239234141174656,1.3067608217403304,3.691172625224198,0.8846863101624312,1.458074930294504,-0.38245018694631516,3.01124559116099,-1.7148156817956917,1.288143581707,0.06032443029871448,-2.3082078582163374,2.4784637512321543,0.8008320201717792,1.4306689893175706,2.880265599315438,-3.7337487684823465,0.8990017118934179,-0.7909565623905015,-0.2211212294942848,2.182117506844744,2.5934726608426573,-0.9949111802363297,2.1493558986545396,0.057095823246894106,-0.18784601633693676,0.3299465942385005,0.2531086302134724,-0.3243278212713868,0.6311592120240446,0.6377849706130709,2.051678277276009,0.5511883624268543,1.2225902307386471,-1.8232447942476413,-2.2789513542703848,-0.6269105856849735,0.536689326433778,1.7626964010399209,1.3849137840811756,1.0790023925661403,0.5169015340418834,0.9539467366050858,1.7646054802318833,-2.120352232588786,-1.6740954618687791,1.1124698901359347,-2.0208266629694918,0.03570073373495519,1.9380439108160612,0.9055212886214544,-2.244411628551622,0.6908502527232678,2.3868435394512035,2.3048518985446993,0.9236345815684444,0.8372828628014559,0.09237977574319745,-0.8377307125846805,0.09650542033635023,-1.8370847228247014,-1.9705898534899533,1.2339678625916224,-3.483446581848423,-1.8791352565341857,1.1751523546143718,0.7210651181885126,-0.8991568627566806,0.00179464428103282,-2.4283544009593094,0.8570287564945183,1.7696235242566045,-0.7200841893726757,-0.855865471511094,-1.2569332632378551,1.6467562445545947,-0.605331758930254,-1.1485389584237686,-1.1033501668366,-0.14039141922941656,0.8905536429290318,1.5502546001047723,0.8882669081503322,1.1257940964565012,2.0024956855121028,0.29360726787570257,-0.7373526544276658,0.6899037576655334,3.2773341650400085,-0.10395724952516494,-2.2711868588415602,-3.0253903037332037,-0.17775213666272927,0.9753165384986904,-2.8973266625260568,-0.9214196654124172,1.387322177636001,-1.521344830638541,0.28841465740215755,2.184678836823975,-2.788714192301777,-0.5638570375224881,-0.5046878224513532,-0.14760682043399376,0.9762222101520286,1.230132067764853,0.39935717665623716,-0.6865497740801209,0.07978513716620195,0.009059711409407867,0.9323949150944792,-1.3471872370567524,-2.4998384666685447,-2.58213859565653,-1.6988975510933666,0.6884851840215376,1.940639572723823,-0.9355362013086448,0.06936704873903954,-1.1443085831743218,2.4154634005023983,1.744015647805699,-0.9816076713000746,0.6733886124842106,0.5205304359130452,1.2018310278265938,1.0767665972193303,0.6373067682590726,2.9279952430988043,0.5157501706819938,0.15485434356822747,1.9525698716315896,-2.9074553985176044,0.013914234579330942,1.4908836461194364,0.7354889185708768,-1.0694037330602815,0.04470691781262037,0.6040205736603961,-0.3779370935546549,0.0034506160063538793,0.5150712730398133,0.5642035591927415,-1.4263852731706843,0.7901312580856887,0.010957887090920049,0.6936919933673923,1.5965688456465714,-0.28232851958444305,0.5992120940545427,-0.15748555821872023,0.5606641715458749,-2.3824176730654845,1.5302878577262269,-2.303220769973951,2.6014903466846344,1.4587505589618321,-1.6706103623383441,-0.8696360726206518,2.087242148352519,-0.2166322827254843,0.6537991056249977,-0.34004914413879606,-0.32634982423524095,-0.7294035375566141,-1.6264542718633526,-1.2056819214817898,1.440314830892464,0.5601390046156587,0.6297991733819581,-3.62728119871632,1.5817082243280167,-0.09472519174812766,1.738378842944677,0.11915566753397211,0.03056290778589532,2.441396660144192,1.541379761383335,-0.3609681263818407,-2.205748789039978,1.6444643852951568,0.10435850023358073,-0.11869340210872026,-2.1027358003692447,0.42537032004054043,-2.620146816306466,2.789008515140061,-0.8068676675808838,-1.562883053479082,-0.5897547358047968,0.041765014625659846,-0.25391750078177444,0.6216444847861415,0.2602915550799172,0.3868615552480483,1.9960293280052723,-0.12237853339596605,-0.04584377978817944,-0.3692264842689307,0.41322976967671043,-4.24106326668051,1.8583080454067475,-0.06714037151482943,2.221625108609599,-0.21954199938929442,-0.7499372177825026,0.5008698778799736,2.49650784240941,2.9832333054207227,0.1126895048643457,1.7078829414869454,0.2149637505669949,-0.007773894724432018,-0.5643853966602759,-0.4206703466765469,-0.9475881334563104,2.6798129409943074,1.814985164223232,-2.412421204900933,-2.0638332195472016,1.111091171601009,2.196786950481561,-0.8490130364035297,0.15546201716281138,0.9047586221049232,0.9920187799958086,-0.30127005001803153,2.66996559019895,1.084533688241819,-0.829404151310673,-0.3117345346883815,-0.7107400442502595,-0.6185761309922111,2.299423915773997,0.43140163512029384,-0.7672182385620182,-0.17909241548949417,1.517505567176297,2.4232391233543016,1.4689587583699437,-1.2217071035258302,-0.6398045796833294,1.5271342900437719,-3.987408438002111,0.0858671355598053,-0.494983510510143,-2.3620755340176736,0.5528954239074966,1.846610036432684,-1.2950238547755268,0.23132526912740814,-1.3213151441502249,-1.228782986608988,-0.7243311643370298,-0.22444395798802053,-1.9304961644148775,1.4500897159886554,0.6878754064415018,-0.6349617870564284,-0.03385111207030711,2.3949362677818735,-0.9619137413134338,0.1912259170542191,-0.6949389083389038,-0.17827570099139667,-1.5465312322932245,-1.2208391950088888,-2.0677505537624086,-0.07831376090018538,-1.3401845257872833,-1.229874097709557,-1.9649404952106764,3.069200235703245,2.503275376497383,1.2301719314350283,1.279651359451485,0.7613975527394353,4.137785212475864,0.6918330423566533,0.983961353573102,-0.6703188522451438,-1.904370190271515,-0.2840492675771479,1.044160351300054,-2.5284840226183833,-0.9750234664068578,1.0559773344989605,0.6251238137848691,-1.3573467541820199,1.5735174896230797,-2.4780984329290208,-0.9057786437874674,1.1276611988379195,1.1376040909511012,-4.022053697004388,0.6839541454591667,0.6353510983477699,0.0505830331312942,2.257231008795697,0.1562374437697852,-1.5651310937287242,1.254588953491897,-4.0211467839031325,-1.0297939544513317,1.689303930627235,0.5220313389133824,-0.37713301757667117,-1.2094450573529332,-1.281519358046531,-3.298852988358895,0.40868556318961713,0.850580269293176,-0.2640851409318421,0.10504309959684144,0.7514379883556759,2.007114479670501,0.6574623979821941,0.24206362033921414,2.3638317840149505,-1.9570945280342489,0.040953070588685136,-1.838120858432712,2.367547463493323,-1.9866428541569419,-0.35737174998132204,0.6846114758922734,1.1282893192384775,-2.5767890880808197,-1.6253624929048032,1.4401112425501341,0.7443480419847834],\"xaxis\":\"x\",\"yaxis\":\"y\",\"type\":\"histogram\"},{\"alignmentgroup\":\"True\",\"bingroup\":\"x\",\"hovertemplate\":\"label=1<br>variable=feature_2<br>value=%{x}<br>count=%{y}<extra></extra>\",\"legendgroup\":\"1\",\"marker\":{\"color\":\"rgb(93, 105, 177)\",\"opacity\":0.7,\"pattern\":{\"shape\":\"\"}},\"name\":\"1\",\"offsetgroup\":\"1\",\"orientation\":\"v\",\"showlegend\":false,\"x\":[-1.8847290903800773,-0.9931980584273677,-0.7448829367101941,-0.8377996208773849,-0.06252425811181406,-1.9062439779998588,-2.3530451303813753,-0.2779493778184553,-1.210951458518685,-0.28056636123195655,-0.6013333620804673,-3.155511157328439,-1.8182347256177511,-0.2933859053366773,1.3215051536429963,-1.555501947252117,-0.5051714823779301,-0.3963157180051544,-2.419681294058832,-0.5781813354674511,-1.3221507814969256,-0.15837395307023527,-0.48892309015772417,0.6950768496001765,-1.1848118734652986,-1.3136284604926152,-1.1433128059858966,-1.1191957733479057,-0.47363066001821064,-1.4121054556432684,-1.57858369632747,-0.2690692476402441,-1.2027375611854012,2.0900933537783803,0.25014870117408194,-1.189619245174986,-1.3355213022480428,-1.356998230507138,-0.868112908895301,-2.2243445554419226,0.07925598577028037,0.7023375949439452,-0.8112385190672406,0.08783392884270613,-0.45495658340181633,-0.8137752255042698,-1.3571855921318068,-1.3839445321074733,-0.2593703959613938,-0.9754132015097423,-1.5436444884408962,-2.5081812487332877,0.6754399930328834,-1.8003855367297619,-1.6308312193545755,-0.8695415821605122,-0.19654119016463312,-2.3375982846055345,0.38978002330599626,-1.513833213994983,-2.233289529875223,-2.2826120537550114,-0.8963470627467403,-0.9300188595723842,-1.0151771703844235,-0.6324360345521731,-1.3317944661322587,-4.6850950420968775,-1.1221727402964792,-2.096432895368001,-0.8250956277240397,-1.816428951611325,-1.4017794057860222,-3.343775235051838,-0.588120696643136,-0.7150930004511569,-2.34646203167419,0.910833754655078,-4.107094466933097,-0.5827057719012612,-1.0675783125580605,-0.9003404259158289,-0.8771306467732264,-0.37325331196816736,-1.9760562714331296,-2.0332031788872964,1.5063045047792012,-0.1688201291489343,-1.256464093327387,-1.0642055026941364,-0.7271652019773345,-0.7056469676681009,-0.596364222100805,-1.0276945690783057,-0.3639000111228563,0.4156565807410191,-2.6733222363174023,-1.3019786238546325,0.2386999885866301,-0.37568895974620564,0.08180058759460573,0.5565883816641617,-1.159323978474,-0.5488258089503976,-0.52088911928537,-0.36893349929442165,-0.8195028608293244,-1.0761618632273755,-3.105119856232783,-1.3128205322938693,-0.8249826094701077,-1.5468709541827876,-0.07706078358779556,-0.44489608157362615,-1.2172773114211033,-1.2773940781414859,-2.00610731944414,-0.36979989335969266,-0.039964800484460494,-0.965101208387233,-1.0268052509467587,-0.6550217173192492,-1.5221438086437393,-0.17614434352956554,-2.0195933899485476,-1.130950512989003,-0.9041693142951219,-1.6675032666709595,-1.4920704033813925,-0.7795283003302176,-0.10023701683765329,-1.1348324229234157,-1.2624720226314214,-1.1328435099705103,-0.6159470057980552,-1.2287842351279863,-0.17490608028671628,-0.16358491986043389,0.12481128162085886,-2.937319757122065,-0.7765176588804817,-0.418843552401734,-0.7890560587111346,-1.9631130454562729,0.5820717337031898,-0.9466009563865837,-0.6306188939443026,0.4145181624034606,-0.3713605419278545,-1.045852522886833,-0.7646298038911097,-2.168140736256614,-2.543724644384358,-0.16598741680730345,-1.4904306103281455,-1.4302772585444938,-1.1211506611556348,-0.11871916773905267,-1.5441057090408576,-2.7512404437957927,-1.5454753476725975,-0.39000623006412416,-1.553436785750811,-0.09795577054675142,-0.40932608413566807,-1.8385236450254814,-0.7202784749017188,-0.6577401245561335,-0.4235699582561193,-1.4378292183581212,0.5452889584136533,-1.8133388804320463,-1.683316269946911,-0.5862001534417332,0.00376183693707155,-0.9435497716626401,-0.40401781793289226,-1.4567805213459148,-1.2558962004147045,-0.3178155857167947,-2.6508075106693654,-1.2886270028618199,1.2868858985154827,-0.7525698143227116,-0.05788640728332317,-1.7991100801098705,-1.837869035187169,-2.418494056975267,-0.568630030801756,-1.0349104816637982,-1.0897332415658672,-0.9747990688950932,-1.1901601338621401,-1.134033954363544,-0.227146267814881,-1.264259058930582,-0.8639545136960946,0.4253764429097464,-1.2419807476646867,-0.25927085386192705,-1.2907299579062403,-1.5501982304639008,-0.9947621794708938,-0.18319539014865738,-1.472940037783597,-1.823906659492399,-1.5169272973937986,-0.49580192984249705,-1.578599265458533,-0.39628356102673024,-1.059053145351066,-0.9671219694935883,-2.0075272256793366,-0.18073436241153518,0.1348138522248914,0.8046556342774809,-0.7003781694410292,-1.7216471825892432,-0.6336036030945094,-0.43178241320453825,-1.3157800630772156,-0.45629990138829335,-2.596773534524436,0.1801518312835706,-1.0716924988878052,-1.4221840846607798,1.321896476958499,-3.8794846011439845,-0.07954248336871872,0.8104010091779505,-1.8409692692283461,-1.8479987275028589,-1.3886597179077471,0.31890024434929254,-0.38871531418795224,0.9124823587395974,-1.2115619796794872,-0.7605524861519797,-0.7669849060550659,-3.061785569356021,0.1142196353726328,0.6680335060063902,-0.19990838580246306,-0.15320217866080388,-1.684936240752351,-0.5890831385664792,-0.7955317715812781,-3.0096987047025716,-1.1873871557317814,-2.079638527840934,-1.4073503689790683,-0.31138818208265595,-0.17126332726452576,-1.412268352867149,-1.6786107616696178,-1.0418601904423768,-1.0535256878792971,-1.4217525347006612,1.8852832443655783,0.139475746577985,-0.3431591406529545,0.47337305463705626,-1.2841558722153543,-1.8434031574130958,-1.3313717508849323,-0.35609618046656044,-0.7340102370888868,-0.34767896903094353,-0.8470019604994832,-0.4937516824055117,-1.459898759071567,-0.1788209838558079,-1.68675197038739,-0.5476024287477779,-2.3265628477188423,-0.7898613568869498,0.38592269451103345,-0.7189717752686517,-1.563449286400517,1.5809650163458073,-2.3819056725725405,-0.40107323769362024,-1.5559518907774696,-0.6983150833283996,0.06326593510687584,-1.501279566143201,-0.6633147243651227,-1.0162779773881738,0.5524281536188198,-0.15801527335156051,-1.3941093462718395,-0.49538882029157905,-1.2660419650200851,-0.03812080100833526,0.14190441672929266,0.7238866326765341,-1.8836844307869625,-1.7697636062190591,-1.2726989548894134,-1.2585726873834744,-1.578097350166165,-0.9097078081535255,-1.9924846585625122,-1.5360085714180465,-2.3025568967086207,-1.0638665142586867,2.1669149051709358,-0.030045846973125068,-0.8884133268372406,-1.6278530506315114,-2.896160880558537,-2.0545795534951243,-0.632199648235216,1.5090537629500362,-1.6265070832117707,-0.41347881752676885,-1.0405236918743612,0.4936588490233498,-1.0953247138377935,-0.5361604578107851,-0.15824397181544425,0.030854948064475973,-0.7815551913976704,-1.514429570664916,-0.4201535067915769,-2.0115043120626686,-0.3155304741609265,-0.20829825800132207,-0.04932355991427151,-1.2077018511299211,-1.1404609079151034,-1.0235386066267778,-1.6961577384865034],\"xaxis\":\"x2\",\"yaxis\":\"y2\",\"type\":\"histogram\"},{\"alignmentgroup\":\"True\",\"bingroup\":\"x\",\"hovertemplate\":\"label=1<br>variable=feature_3<br>value=%{x}<br>count=%{y}<extra></extra>\",\"legendgroup\":\"1\",\"marker\":{\"color\":\"rgb(93, 105, 177)\",\"opacity\":0.7,\"pattern\":{\"shape\":\"\"}},\"name\":\"1\",\"offsetgroup\":\"1\",\"orientation\":\"v\",\"showlegend\":false,\"x\":[0.2641969139163064,-1.6114778293128464,-0.8289749790674259,-0.6043220790012023,1.457970876319258,1.586161514480439,0.6114257686096122,1.1235794908010863,0.15889534135442474,0.48385072858095723,0.5572012397831545,1.106263141388093,0.41966728613839455,-3.9524346439484366,1.2906567117552,0.3846949822729101,1.1795521721731248,0.731124830042534,-1.329965956659347,1.1477111110723024,-0.4840518306553496,-0.5684851084118303,1.038844500063648,-0.8669390864202617,-1.6471290498695144,1.0302848801683242,-1.4059396066238858,-1.4303050147402554,0.1975405068111049,0.3934495453755642,-0.9052637165964607,1.0921738427701646,0.8404087290750369,3.0195679510724283,0.8360712496620977,0.7833446041605419,-1.801725288658862,-0.6876169296012461,0.5287742500102852,0.8180077466388662,0.8559850718509315,-1.8488014218622162,1.2946731989162454,1.002410897057594,0.868083768731968,0.8947338878341633,-1.1428052207655923,-1.9808051507128255,1.5536416428501287,-1.1083021366960288,1.0684059410293938,1.4493520088580212,-0.20671598182932338,-1.9086987866055825,0.7610878767449138,1.911900042767579,1.0822583123483742,0.9041195622359021,1.2006805795928082,0.7690370245422515,0.43125317997706736,0.41077158085296894,-1.8516294543244352,-2.6976654940162925,1.3464120177910233,-2.2666700775624617,-2.546143179251473,0.9897834180509718,0.7635345958495244,0.6134890829679471,0.227940762235182,0.9736425541874449,0.5671377230646821,1.4259598245585452,-2.02662326138534,-1.3964214675050413,0.7342690437475364,2.741963255234169,0.9388022404904334,-1.5021227765285765,0.6811280154221608,0.2815854506602693,1.3658031919982876,0.2861323259070935,0.3451857191945732,1.6600347601429393,1.2973882545537334,1.201948233162925,-0.11442615308230297,-0.6430532882884155,1.5340658744616897,-0.5392886670661903,-3.0801298724964608,-3.802543471906469,0.34340571332248526,-1.6327459279763925,-0.5152538862572811,-0.2040985641181503,0.5912253949213625,-2.5000441234288067,-0.765772954675826,1.1592251489206384,-3.941027384413493,-1.1249426064040968,-1.5061293500612678,0.5208935945724005,0.9222656124748767,0.3890875294519517,0.2863448872737332,-0.008213562015468523,-0.6201251964776354,1.2950607996378127,0.8259678462021351,0.5395253807914847,-1.1632811521391906,-3.023538942167423,0.36723426503114864,0.7157025203494489,0.25140479389062675,0.33206111430877383,1.0696385849558825,-1.3961891866474665,1.052624023286146,1.1638008519001275,0.3346938384180165,0.9624215351446946,0.6752608528549457,0.3672481440490716,1.1380464780133073,0.6402005905645958,1.7101309059516647,-0.3849779526664059,0.9887708648006067,2.212782010385162,-3.304037787430295,1.3239848309583018,1.1097504183134161,0.9950211142839357,-2.5105890205541037,1.7889715128369492,-1.1753509704256466,-1.8389027685429487,0.2926454927181368,0.9706947469408466,-2.3596230862971375,-2.30892070077905,-1.5362751523229656,1.0974238648371353,1.415497093600039,1.2188496020263622,-1.135019673278228,0.815212634001155,0.7756363324508424,1.2432781789401086,-0.5048385446199926,1.2566585488494328,-2.0360744363815777,0.5672464887517351,3.1891741201165322,1.2344012376821323,-1.050363709573434,1.1510514604514104,0.7976031599873161,1.6512019850289699,-1.4681086791033442,0.8632573513891069,-0.9647851690849927,-2.973235876186256,-2.012820505505521,1.8799641395610964,-0.04772699805107328,1.93749521496692,-1.8071743598341503,1.0512862737652044,-1.0750703595227074,1.5286203178664048,0.4626631745555505,0.2142560916036409,0.8558974706054413,0.8595946382228097,0.5390211326905325,-3.653511744338277,0.7800885319526486,1.3919705032550307,0.07500117873335355,-0.6747314529927897,1.5828244787414394,-0.6561927618085235,1.8267911658915919,-1.1893346547350991,-1.731113378580743,-1.1501593050251064,0.28945425247578216,0.6930237723714876,-1.5463785550119695,0.8140929124364878,1.1333254003251536,0.6701229079805109,-0.06542432785773933,3.1663465293797963,-0.5502869578007579,1.061008640435492,-4.336792708051915,1.7638195713044733,1.2066587657945322,1.1213760451358048,1.611419821336876,-2.7932283994865497,0.7658844290176557,1.4176599530499372,1.327354299469903,-0.19294842639728516,1.901996533580868,0.30043580005136594,-1.333191867829711,1.453011742829353,0.70621787235292,-1.7951370512569054,2.0649277036246643,1.3610481440461728,-2.3170399147418816,-1.8184874410958538,1.0906319414936232,-0.424095662096849,-0.7750866718567309,0.061814216143450285,0.9280006357946349,1.6479989688293692,-1.8155900969078824,1.2284213877278942,2.093653918453231,-1.2353415430328756,1.0490138022824673,-3.2790872042495596,-3.02082889846682,1.165351529762187,0.4610840775788636,-0.7175265744552382,0.47274881297869875,2.2279473637650753,-0.35152674734764255,0.9184111374770071,-1.3602863254944462,0.13010859766314553,1.3141191930953762,-4.9569376719194524,0.07570152396513474,1.0827958648966076,-2.297425098429323,2.043173990863626,0.9256978030573914,0.8118667105042245,-2.4070631653006833,-0.776146555284887,0.20176290367721605,-0.1337339829441595,-0.28833778238355623,-3.4206778110621396,0.516880169976623,1.075812698905078,0.1688963053879673,0.24169824247577087,2.8060012774309633,-0.44826042659391696,0.41463626877225057,-1.6144715294688554,0.2679893809841387,-2.355525882904218,-1.5319868282032219,-2.1515944006059313,0.19057679092716162,-1.0676732810906269,-0.11744453638211783,-2.5428413240310475,1.4142598241506548,1.1926985595054411,1.4916152975126824,1.471185617007131,1.1653240916292544,1.1300573025227474,0.9286979892453422,1.3732543089545113,-0.024303104554939337,-2.227318402652835,-0.6292351993934784,1.4214999197974154,-1.071776929659206,0.7353980965761999,0.45900882806085674,-0.8856800042499438,-0.8526393915027943,1.2063223534255172,-0.6854512236035308,-2.1915802010299323,0.579726352791645,0.8159869114834759,-3.1776120657945714,1.0072270881692273,1.157941185020905,-0.0028811638490624514,1.592483682019276,0.8461466446173065,-1.3114883962130661,1.2067350135335626,-1.2016901838382665,-1.4930103600849243,0.43642504902327495,-2.1350432222416735,-1.710588662806095,-0.5809370188774227,-1.2873569095260213,-1.5119425964458593,-0.5415941862530214,0.9696636359499816,2.317508311331289,0.923960792271341,1.2922409761922484,0.6176518957838175,1.1293716562291967,0.7130057750070937,0.649111131890574,-4.653280517616113,-1.288429382334371,-2.182823988208784,1.3979639234400676,-0.1854116674883921,0.6541305093682557,0.8626945784583618,0.03540288969377192,-2.020682163260423,-0.7603708509042321,0.6084336856854773,1.5521225005148636],\"xaxis\":\"x3\",\"yaxis\":\"y3\",\"type\":\"histogram\"},{\"alignmentgroup\":\"True\",\"bingroup\":\"x\",\"hovertemplate\":\"label=1<br>variable=feature_4<br>value=%{x}<br>count=%{y}<extra></extra>\",\"legendgroup\":\"1\",\"marker\":{\"color\":\"rgb(93, 105, 177)\",\"opacity\":0.7,\"pattern\":{\"shape\":\"\"}},\"name\":\"1\",\"offsetgroup\":\"1\",\"orientation\":\"v\",\"showlegend\":false,\"x\":[1.7344924600733358,1.3760719587033297,0.4672853060024784,1.2738352709011598,0.3646725117513908,0.7489762405850675,1.6125992945700403,0.5829288442918898,1.4729371631692336,0.13962167448881813,1.3600290461597253,2.079502213161012,0.07816256894132989,0.9934953032265864,-0.2827487973254972,1.7344798147132856,0.6520213173765725,0.41498240629675465,2.0161252040645667,0.6707979565059985,0.5162603754321358,1.2976065791213465,0.5226841283643431,0.8970272693580479,1.5216136837093628,0.8458441326609447,1.3605460509816545,1.0531953644134333,0.9797529066929062,0.9680105939884509,0.6564444359461816,0.7318220102748201,1.1362230556388988,2.0853417266403724,0.8062903130763165,-0.31680258399002303,1.326507937030734,1.1632949062222488,1.2920556219421844,1.6855541134868153,0.38110903656956185,0.6154973813178521,0.518288945928196,0.426180514666079,0.906760648920282,0.5760958387034663,1.3011143760192867,1.2538431061287105,0.3157862902935471,1.3594756716144292,1.3930356121676821,1.1622356054454759,0.6430711143541447,1.1615599495452371,1.638569224065582,0.13470258559646064,0.6307372822124895,1.9449898263542713,0.41946483522814193,1.3136654103603473,2.1141382149051413,1.883854383861471,2.1616902715822004,0.9423023133305986,0.16028311630341197,1.2848695165217463,1.3523733531097364,2.632062502547659,1.3776341836431332,1.9670359914420117,1.1335453576288175,1.787963682711181,-0.07451361120194422,1.7692841213082016,0.5967597014781838,1.4132075582384918,2.099898288173076,-2.2124834521761145,2.4861746409728016,0.9650184209435217,1.0544454513997632,1.1229367787789142,0.7433954420277544,0.9670653284882982,1.3836426571163336,1.1956721640548658,-0.4428991446678918,0.6741273027400674,0.9932702846445132,0.6529108589967874,0.157911091306571,0.8503308799729332,0.7149433722355685,1.5708533258945705,0.27345687001562047,0.05557777997221247,2.2345349055507664,2.013932508602097,0.541671234969259,1.7111959843651199,1.0468422794655055,0.16962374569056826,1.1296401622832588,1.2832336718742154,1.0530535449010754,0.9807569453798471,0.11983783558455419,1.2871671416564725,2.072098905200147,1.0473772304780657,0.8565839127519537,1.4853064493631385,1.0768802790598642,1.3881611737487922,1.47486979840185,1.4103069675210151,1.0309528059354225,1.1462651240607349,0.9254850890924277,1.4425945675167318,1.0545277872564236,0.6297810876514327,0.8472646869640498,0.30563216140710614,0.20460586743853615,1.2198886378830582,1.1912581323428983,1.5089579684882606,1.2190159286238447,1.136656120667369,-0.022402936731074075,0.6387367772535592,1.2653353407288366,0.6825252343130338,1.553106379176572,1.097842044196497,0.44640534098767937,0.5946356066928037,1.1358204456824956,1.6906931511257564,0.9330319497208129,0.8145763875285869,0.6314591340459632,1.6529786079410118,1.087593138610682,0.906892030609733,0.3114169106479746,0.4205252423067729,0.6772334092475246,0.9185985288971208,1.854825716172444,1.6197390833659686,1.9667503486068354,0.5640101741000704,1.492592188875798,1.0224056723220454,1.3565161519706674,0.4986791203240458,0.007325004902498322,0.7341347662139452,1.4877691524693466,0.42265144288064094,1.5912607366900817,0.5321853992219854,1.5400020167750432,1.5914712681187912,0.9605828171272052,0.8401771811389127,1.0459048100082993,0.6261205059165609,1.0041694063158841,0.9718903205528796,1.7442180763879385,0.7957143434196476,1.1019218380994045,0.6193859932609845,1.379132272524878,1.2449236619861073,0.9881807808837132,0.8368466212064225,2.2141218063843775,0.810127322347929,-0.020179285409951175,0.8043987316427669,0.8117753441697665,1.192670576154697,1.266837625517288,1.4917145043694293,0.1235748938703276,0.4143114458562961,1.406397616682158,0.45614117024429723,0.4028759907683026,1.2771584554159454,0.6086566194368299,1.2764151016708267,1.3086013793942142,0.44285357580285956,1.0370699956108251,-3.335512588755627,0.31757228386024905,1.4634737822127288,1.4252627310162074,0.37596624378968035,1.23965589694891,1.0050871269198969,0.9384599790642868,1.7005950160803187,1.7286182413410405,0.1527139808226856,0.5557153358794229,1.1198994045868322,0.9667753419594867,1.1150821974027736,0.2806293489072136,0.43776073031384066,0.958725223760025,0.9825493050296783,0.07529759845845574,0.37884478210472283,1.0713370784332417,1.6050016420522886,1.61355162622,0.5679505911893759,0.6089764079538311,1.1364280552999912,-1.8699788243943283,1.8519712149027483,1.3695287846045234,1.0062296768231558,0.0736939683115776,1.0432156850652585,1.428334343117363,0.3979461776531782,0.8555570883568223,-0.1947908561407503,1.1298527604294801,0.45633172506214004,1.5005249081142753,1.3675558256356246,-0.00279136029835092,0.2381882331626186,0.8296142804293618,1.5040968246841913,1.1096718722608698,2.122252629939327,1.3949758189318175,2.199713511401905,0.8119104193375415,0.27177307677989093,1.2335949410074203,1.4264132555669926,0.3396722854431232,0.8388088945349854,1.9357349337187129,1.8013235580378033,0.9791564379200456,1.2153255904131979,-0.04789241282461809,0.4085645838775672,1.2859854026419753,0.8883722649566415,-0.17910239034129605,0.9275879624914123,1.6313390666771899,-1.2935927575339723,1.6807077742744159,1.3063527249152513,1.5057758611983623,1.2175081879960636,1.5994056602349902,1.0675611537177678,1.0270825387702067,1.1169634570961373,1.0695872273653084,0.5142998082229652,0.012735589582781759,0.45605007243393136,1.3401612965530798,-0.8025564614403904,1.4865644043886388,0.4396380201261262,1.9354698936050267,1.3556674218112232,1.240697199308723,1.1526416179227132,1.4005396202714713,0.8279341303484098,0.3125932043038918,0.6906131600868204,0.9725325166645699,0.4965623102893596,1.3264794602634353,1.284074033125572,0.6325574082430503,0.3771413879498713,2.1476670810146516,0.7624523431707821,0.9256693858181887,1.4312497886251454,0.8374550713809885,1.14075061675532,0.9144968388331054,1.322037043915677,1.1861274709949803,0.8886479309951865,-0.22654026661447002,0.6363731077852381,1.124421628371782,1.4695081142738955,1.1376683246708672,1.3013484372028492,1.1450147543474463,0.15192933622147198,0.6543156181156148,0.7558633266014592,0.8919560034414893,0.2154690464816046,1.121730098093753,1.1369105597497458,0.26156060168677076,1.0313696671108668,1.4447817965425684,0.7865830884299088,0.3169810587929961,1.438236014469663,1.267408350948509,0.9712021245824706,-0.04765112728390686,1.4508041251028794,1.1075269699009636,0.7165964958858763,0.857879278836347],\"xaxis\":\"x4\",\"yaxis\":\"y4\",\"type\":\"histogram\"},{\"alignmentgroup\":\"True\",\"bingroup\":\"x\",\"hovertemplate\":\"label=0<br>variable=feature_1<br>value=%{x}<br>count=%{y}<extra></extra>\",\"legendgroup\":\"0\",\"marker\":{\"color\":\"rgb(82, 188, 163)\",\"opacity\":0.7,\"pattern\":{\"shape\":\"\"}},\"name\":\"0\",\"offsetgroup\":\"0\",\"orientation\":\"v\",\"showlegend\":true,\"x\":[2.8294841295183337,0.7194550105541142,-0.938289790014501,-1.6538025735623294,1.791333122492274,1.5455856337996847,-2.657323088040469,-1.509263905821973,-0.0283950297785569,-1.279995312258476,-0.20080449325707728,-1.9060606936446887,-1.4323456416890048,0.8203256055836472,1.9420523642726342,1.1259040674870224,1.997406593330759,-1.5912885537718167,-0.3518671148149072,-1.0361644140949051,1.7888100575215953,0.7221880100447674,-0.9637944754923952,-1.8540031114759559,-2.324044988645456,-1.1823844494507645,1.7120890719970823,2.6417942783267745,-1.821473564103075,-2.3929403752913743,-0.3127755385692973,2.0302374163842805,0.03972774183047245,-1.0929790449835477,-2.0965507855362957,-1.4170437406168088,1.3569633865251727,1.1940431235646478,0.9503850828198893,-0.9538532542154985,2.0775102710290145,-1.8873499435688603,0.45159493796528016,0.2125072790930913,2.3858259993482687,-0.23508514923192048,-0.7762574476229582,-0.4248596241527659,-0.11649524685897672,-0.09738751937824386,-0.9339638910966439,-0.7833055814410421,1.3739665259616611,-2.0960670616362336,0.46265677761157886,-0.07144861082992704,0.17272564238331678,-1.0481095750562106,-1.1691895554478324,-0.6028454217158927,-0.4204764860205987,-0.32734041043712025,0.18777494574705034,2.293623447885647,-1.1791306237858215,-1.117096075447634,-1.694897342341425,1.866035327983134,-0.5387703584963082,1.8486520500623982,-0.13076175735771456,-0.2587494663437694,-0.7633517799436651,-0.24696571461939987,-0.9823816646904551,-1.312288991481335,2.825474421268625,-0.20055486016252044,-1.9696033735576102,0.861183355635628,1.0153796717781,-1.80030098127978,1.6499722953463445,1.6622698814431196,1.6805318345434173,0.6101872183236796,1.093527682499443,-0.20473742510939474,1.5003756355033542,-2.570698781606886,-0.7862174170473528,-0.05795281218341297,-0.6054108180688,1.5429460903580248,1.087402650659779,0.1530124751216715,0.5786274815114281,2.041176362587616,1.5538938786337513,1.429872765150257,0.9251792395872653,0.1751086470477643,0.3545619621809992,1.5692415421304973,-0.814688541090856,0.024128234100821433,-1.5218160966318077,-1.1555515212141847,-0.23176376348803074,2.799753903583979,1.7433624420768692,0.984552175083761,0.4796443310023415,1.5362863578966084,-1.491279142497805,0.07393430932949474,1.5350027815265783,-0.8478042639954853,0.1730069609607574,-0.97393227527874,-0.49271783683604675,-0.2301611269880428,-1.5085743084706076,0.4978491860241834,-1.3061009532592143,0.13743763683064436,0.7938983500446908,-1.9575063816967417,1.8712950815579217,-2.959916476833226,-0.8481161414780847,0.9461419190646475,-0.39937301768609845,2.0383863080328197,1.414339118744043,0.27761914851079394,1.5435380568063297,-1.3119839958798065,-1.1371159174525627,1.507333246590337,-1.8373274074385697,-0.9551108817830902,0.6335335327081075,2.306299270831099,-0.828232067409895,-0.41730377059116286,-0.4031710267130717,0.7875444961305922,1.061439560760971,-0.6657595223451325,1.4447926498341397,-0.4765520941980178,-0.03091228449699346,-1.2360571446452213,0.9014371336973275,-1.1827000132643706,-1.0436945959957824,1.9294811877572453,0.27413139830335054,0.4499154380946957,-1.8347018813511164,-1.7227120877408222,-1.7744870283509298,1.3602201137846281,0.6782762492920047,-2.826797606881593,0.33663369324517955,1.6817067058843493,0.09137024684793649,-0.013223425275127543,2.1556870438469655,1.8139097604705188,0.26277894067461105,0.02231051410856233,-1.6387322280551326,-0.8877650399617207,-0.8192496003916976,-0.2694624112650943,0.9895039829957996,-1.3749507789685644,-0.1657072923317734,-1.3577292877444553,-2.2122294924061277,-1.1390224239873272,-0.9128817353165795,3.2745445736949765,-0.39582376027174315,0.217687293799816,3.506450258199457,1.056778519767743,-0.27645306818482895,-0.9564703373667706,-2.1568239792295385,-1.8335467210202812,3.1471638592518443,0.9612002785809197,-1.1201726041825628,-0.05560936575047226,-0.035135809200335544,-1.6825575563337556,-2.386510194208578,-0.9700927980233677,2.173936131457982,-0.33782622949203756,-0.2448540227222218,-0.19616028356625292,-2.062805828709612,-0.17011985101405136,-0.09297311708555522,-1.4623215953947923,2.036026391419675,1.259158305197523,-0.037593074448251884,-0.5807927897540082,2.5216414220696484,-1.7362341026397954,0.1158105965544376,1.154705177347645,1.2223694781010728,0.9267514569807032,-0.4897058846272473,1.9813300852279956,1.6224515691880006,2.2291429266934397,-0.33240855157469884,1.8286886952494117,1.3600641464521503,-2.290158471191775,2.2155845335579656,-1.9544611716603235,-1.3711399587538002,1.250332326603764,2.021651041197846,2.000569477003787,1.3844957319023827,0.2705633477654239,0.2457712063953913,-0.4329635599023449,-1.321689679176995,0.40755454113476675,1.369976983523153,-0.8342980891817973,-0.34677707340240893,3.0772716795244777,-0.169782707094978,-0.9387882338409257,-1.3155723659086775,-0.7306758596493304,2.6066309706737485,2.063653576983219,1.4544712475809363,-1.6912462584577512,-2.5069348250836962,2.6594858259129577,0.453089934096495,-1.158882064128368,1.0082153891371146,-1.5072991913405525,1.2057183610472657,-1.125234184232984,-0.11285383708559693,-1.351782408476867,-1.394839472913555,-0.8146888633157798,-0.9722209628483306,0.8884954182204647,-1.9313042801222964,-0.5952185071496083,0.052214161484355204,-1.0509139657128794,0.6585691926105044,-1.6305378461469227,-0.21896421752453588,-2.710603257302603,-1.39539907693125,0.6032952028194563,2.45539351587213,-1.9738553728636794,-1.1467290460900832,-1.6443320164731752,-1.6827217289247203,1.4213109735320788,0.07417598316692198,0.7968972978795152,-2.820262373537669,-0.6633747454361278,0.6519364987351915,2.265442683444983,3.2615848694766125,0.8828522289475347,-0.5630388861751217,-0.20728875513732392,-0.4995785566523785,0.19906222445605548,-1.5761112527989618,1.1525082446795607,-0.7312292412324033,-0.2295900595041359,1.768021031316739,-0.778629596802821,-0.4146957832022484,-0.5902144668887703,1.8460740513740153,-0.7107916965370107,-1.246386326430528,-0.4733053666614644,2.2840781654893743,-0.7308137632842702,-3.314678979610767,1.2962796773826355,-0.5774706659703944,1.6468302205591017,-0.18475227284030948,0.8672012273774145,-1.9558394646715918,2.026383893470542,-0.5828988730975305,2.7606019017286036,-1.5010817958272806,-1.3879870092883182,-0.4906635619062738,-1.1414899042461346,-0.04176613970856535,1.1489774486222486,-0.7763394701301289,-2.1745272744151745,-0.4048070967464703,-2.070078043141311,2.187053237707935,-0.5802237681321494,-1.0249378546064685,-1.270301624401587],\"xaxis\":\"x\",\"yaxis\":\"y\",\"type\":\"histogram\"},{\"alignmentgroup\":\"True\",\"bingroup\":\"x\",\"hovertemplate\":\"label=0<br>variable=feature_2<br>value=%{x}<br>count=%{y}<extra></extra>\",\"legendgroup\":\"0\",\"marker\":{\"color\":\"rgb(82, 188, 163)\",\"opacity\":0.7,\"pattern\":{\"shape\":\"\"}},\"name\":\"0\",\"offsetgroup\":\"0\",\"orientation\":\"v\",\"showlegend\":false,\"x\":[2.541623505365504,0.8443186814103246,0.037782551402889775,-1.9669795669273182,1.4474348959761547,2.1984282469609138,-2.753939698104336,-0.683656271808631,-0.08435089548646779,-0.997057385521995,0.04332510233689302,-2.1052229896677215,-0.923882843720289,-1.0697653790600028,-0.11347862641010953,1.3852205949260936,1.2457524465190617,-1.213092934979507,-0.41743148958846754,-1.7699139583704415,2.6404966849427414,0.29971439882132855,-1.1246422224908474,-1.7194721949919063,-1.3273968896289676,-0.9905498739780928,-0.5125244916664324,0.9386260637367603,1.4655101322542434,-1.2745184088781902,-0.45809080839951677,0.9937690713830174,-0.2752153005936173,-1.3710415763424262,-0.5260261410014988,1.5371300099782472,0.06712175561548939,1.0582003083564895,1.1362668574839976,-0.6420050281680488,1.2033522230291636,-1.685124046491255,1.8955277827914911,0.13541812222252547,0.5385465072500206,-0.37800714420803894,-0.7118028267274414,0.11797788493991823,-1.2978984647287497,0.31976103891405583,-0.22923497195389686,-0.9508830300317715,0.542740469020197,-1.1904799862472568,1.2451279854327781,0.5434198221164608,0.36382565249426924,-0.45741682983674836,-0.9609716487788162,-0.754142960255287,-1.001933513147021,-0.647300014171738,0.1841785785293344,1.261392686120118,-0.6102037184851522,-1.101700878612501,-1.3494228256750533,1.6553733402928388,-0.08675252442428882,2.4636908024037085,0.01439768959787191,0.05957533228422407,-1.3556442978992198,-0.33308190943761173,0.3598791334115852,-0.8543751714186711,1.2826022751536987,-1.0511465475737785,-2.072445638849108,0.853139070006665,2.6042277001670397,-1.884878473637655,1.7686776013670609,1.4416417181643446,0.9969121949858256,1.4235609723638563,0.6473695037908922,1.2617105973579772,0.056630458025432096,-1.8403459396207542,-0.016648915632071604,0.3067887583779022,-0.6599961254589015,1.8950481815080915,0.4750318230314454,0.9707370875501076,0.7673899354864546,2.4479410582318506,1.888624991462213,0.9411561038338706,-0.07671751952585981,-0.1670597600818634,-0.26837571625058887,0.6469045797735198,-0.7314730978693662,0.7481407482521393,-0.6555933610161098,-0.8399940079208386,1.0443013952630276,1.345343040537529,1.7823307766146081,1.2480622734673652,1.4372063265844106,1.8774786351553312,-1.5899772914579997,1.025534130022292,2.0217300463874057,0.24111287282713834,-0.10758934756816907,-0.928557403751324,0.21628220592515102,0.9419523907853258,-1.3190278158245121,0.27987883199559116,-0.46068566875862216,1.623678504893213,-0.6402304866534607,-2.830163982337491,-0.026235306952852477,-2.218313082380804,-1.2155618360118905,-0.5984864743407408,-0.6568715858990541,1.9116322444470046,2.2670741500275837,-0.7542828904092491,0.5666517520211272,-2.0756134627552534,-0.5399567738158336,0.3039163612024218,-2.1075877690887834,-0.9848498989050578,1.0496891401164798,1.1459634896840798,-1.636661070059331,0.35137796738640037,-0.8687005279934941,0.9409951281639674,0.3159633341331187,-0.8920532975300981,1.5461779299608684,-0.0015096506077343363,0.07511577795647928,-2.4578336482159315,0.7261420916115937,-0.9690472501856845,-1.4553747323675281,0.8631127136309316,0.08503374503865024,1.749935909150428,-1.8854344249402235,-1.300325896983932,-1.7829841660409849,0.5113416120570186,-0.12223686001575595,-1.09141781435008,2.091694475646268,2.0866785783569446,-0.002740071894157592,0.5562365958047799,1.492020898921422,0.889099406205831,-0.06044325873831535,2.124850554082685,-1.829755618576298,-1.387346287848583,-1.171092982325913,-0.22052761450511027,-0.789665584151592,-1.210683363584517,-0.057111044385396936,-1.330552157627444,-1.7428458896698604,-1.135958870998404,-0.10543973854909405,1.8659644473368835,-0.06239495598337119,-0.11139853211641326,1.3965280075776705,1.7070343830830326,0.25156882535082814,-0.3302475116000825,-3.0874218300613347,-1.3109919210110008,1.0301145067556243,0.5132570457562227,-0.5940076777257375,-0.6808166021346345,1.1528564459599495,-1.108563545532918,-2.1446551047951217,-1.1266590848338125,-0.22136733848587076,-1.127991211564686,0.480035901853082,-0.43102739623156316,-1.6794209374336948,0.37863928188886653,-0.21982812445587652,-1.0566448588745696,2.3284557612103454,0.8671411196631517,-0.40975165518995305,-1.222440338575143,1.476230487808781,-2.3525242307513072,-0.8746491768237756,1.4910795974122943,1.0126300813073743,0.44241687494419335,1.1412352493170723,1.6448670054775394,2.304767885273866,3.3573835542743833,-0.5354590662103891,1.2247345932325024,1.2723438685340596,-1.8914156841687761,2.0340922106900567,-1.995903569670688,-1.2043465732502014,3.600580889990209,1.0319831417634389,2.4086617673054125,3.21770800440724,-0.5421130291243816,-0.08712012361386678,-0.821541393358965,-0.9204411145860236,0.666775606792765,0.9570066776157043,-1.8419426100175822,0.16821320665979167,2.5157453811208934,-0.45075112170178666,-0.5773553384408447,-1.4389448106496487,-1.0073175851105638,1.5903111444993976,-0.22119432133742678,0.5115447491724648,-1.7728970247420741,-2.8148828648545337,2.884281272209332,0.9110857010545662,-0.6372066827025548,2.7830947344286305,1.3605971354528348,1.4092993207037916,-1.0210564758740197,0.40899113718059377,-1.16098060198497,-1.4578969938619513,1.8978678896745627,-1.3152190084125368,2.777766503235787,-2.103932963957111,-0.7331339608726415,-0.6884047622937111,-1.4083997296218371,-0.5564707412121841,-1.4234910770654787,-0.19760623319917603,-1.818274365033136,-1.1072098270304023,0.46026486419347945,0.2679677693980691,-1.3880988373415137,-1.2716684395854756,0.8675595828480128,-1.5676727451167227,0.9944228080251941,-0.7651254852766571,0.5447818962614416,-2.257301515188386,-0.6933703182917489,1.3925413775035995,0.8203643427883536,1.3904172319824428,0.926346069523427,-0.14352959396783183,-0.7105872898526173,-1.1619871545656844,1.1905520068354984,-1.8740334572599755,2.6965135545468906,-1.1571508585035466,-0.8915432316562887,1.4268882549329414,-1.2919763593441143,-0.2709784880874937,0.2974130565098613,-0.09009846667016075,-0.37759880399537216,-1.0330859644266925,0.29174962907888,1.9898700321264893,-0.33098986462016244,-2.51221011891706,-0.668626318621804,-1.1787433776209657,1.6503005179066341,-0.5160536012274588,-0.37705609133787377,-2.0630439489089696,1.9074316614610305,-1.047042881669513,0.5682509941724728,-1.7699538512502309,-1.4094281806856448,0.12226934480032137,-1.2055298936313934,-0.3185971514121687,1.422936692969165,1.074026472997497,-2.4754266527817452,1.5645544719891966,-1.4585845949962923,1.4556935787146132,1.3684079429511096,-1.1241673430948078,-1.6919778942465218],\"xaxis\":\"x2\",\"yaxis\":\"y2\",\"type\":\"histogram\"},{\"alignmentgroup\":\"True\",\"bingroup\":\"x\",\"hovertemplate\":\"label=0<br>variable=feature_3<br>value=%{x}<br>count=%{y}<extra></extra>\",\"legendgroup\":\"0\",\"marker\":{\"color\":\"rgb(82, 188, 163)\",\"opacity\":0.7,\"pattern\":{\"shape\":\"\"}},\"name\":\"0\",\"offsetgroup\":\"0\",\"orientation\":\"v\",\"showlegend\":false,\"x\":[0.9680684965994301,0.8352550078698053,-0.24577823650859565,1.269828501824004,2.293276272322518,-0.7793440635054711,-0.011441269047742453,0.5358233727334307,-1.6719902226552474,-0.1685160212554988,-1.9521512806657828,-1.6670915647154543,-0.1479272580226647,2.6807624711171414,-1.7881188712927312,1.217735832871856,2.233766051673907,-0.10043738068302555,-1.2705748708438795,-2.301738868589081,1.6989981138146233,0.7141874157690252,-0.4186203820069688,-1.710573954178966,-0.3928266332300957,-1.1060881206630442,1.3698594284341123,3.16049730549616,0.6277069403599267,-0.8908952656679311,-0.7781646434318181,1.5322222417747433,-0.24422454544884364,-1.464256496408955,-1.1820487747762933,0.8543257507182784,1.6997271122378217,3.6982831589949936,3.8732754712968123,-0.15192269474863185,0.5268009224253877,-0.6181035247532161,-1.5267886296146345,-1.93118125718772,2.0256583215720063,-0.9661725341694392,-1.3659406468881268,-1.4148484475775938,-1.7062339666604536,0.66702477235485,-1.2895501917277667,-1.2859932524077875,3.7234498011290156,0.280758517394073,1.1670878994072877,2.3780044959487405,-0.4508389155124899,-0.4868982971272833,0.12448469192179923,-2.076553270891388,-0.7620330836377138,-0.71148617947531,-1.6558592355290866,0.46620096164165925,-0.8896667847832965,-0.2354312482337131,0.5565061877972388,0.988008165394763,2.7409047313714776,-1.389278228716437,-2.004754202813212,-1.45348141129821,-1.0964390991839572,-0.8725388827523011,-1.2350400062860778,-1.4489098353415277,-0.0131687108270091,-3.091108459940236,0.7834044181156044,0.9662954312442953,-0.24536388135426024,0.23696595593276015,0.11335009306891253,0.7305682793144526,0.4530408147866922,0.6705235877158673,-0.5130288927209881,-0.6955536336509478,2.3146520971854,0.034562118731976454,-0.7595513367777821,1.5250926392255568,-1.3720272014473194,0.5478413217072938,2.4302613140702016,1.5413765471585783,-0.21503998895302145,1.243580257148303,-0.6436905690757704,-0.5002229430898351,0.22987643028361626,-3.450210834579229,2.0435662478706327,2.2756495297844257,-1.973775265741893,2.73594733303268,0.21801740118350632,-0.6208072312428072,-0.5953353322159445,0.04643433013429854,0.9885722622180136,-0.03418244850224528,0.3775722413275413,-1.1177440373733258,0.8620348254827646,0.15118583614634074,-2.577738101739512,1.9733092993080947,-1.9696295039824026,-0.892326581176493,-0.9844691801352807,-1.891107109486943,-0.9855300642777156,-2.6803234910807596,0.24955337854532855,0.42521245685304354,4.358209852707464,-1.4489536122551878,3.0354697705273646,0.2725746646710072,-1.6500992404191965,0.31259225309489425,-1.505746777113263,1.7522610381859058,1.7426620988692192,1.016463065398517,-1.9069412300540307,-1.8032739617029283,-0.5292464023819172,-0.3616630009392561,0.7822905538118141,-0.8693372418961565,-0.3287268970332613,3.2699832719033988,-2.0745755180794596,-0.34403076436229196,-1.173545585642758,2.650612043408672,1.7587497528532985,0.9454329028330837,0.19840708045280386,-1.6971481917829228,-1.4760681863390408,-1.1359709478649118,-0.5397819947841886,0.6179187165100817,-1.2379526849922338,1.6027419953961526,1.577829726039657,0.8129409771141518,-0.9542592384798894,0.3608736206884071,-0.6787370257271457,-0.21830502681660935,0.129666622458808,1.3481324388625464,1.3020374463256004,4.786112246970713,-2.3929752159946056,1.0517719571947068,1.3042459944715195,2.447407849221963,-2.404658561293636,-0.049966604137410275,-1.3352792772090343,-1.989566889585493,-2.325431117297577,-1.4697779243592135,3.23031487936828,-0.2984153465420336,-1.050737630084621,-0.18205219140464812,-1.1706673764976985,-0.920722029165906,-1.7758543708655168,1.308871876766204,-1.518744377684894,-2.6058210493018343,2.3956961355257427,0.2021711072601874,-2.0152596719466995,1.0559948105312156,0.318590030462526,0.8072902109091178,0.4956925747917834,-1.116639002710472,-1.9656059069294924,-0.8818461496452176,-1.4454834940416346,0.9689812516722647,-0.2905336820968647,-0.7635194654849946,1.3338052042395532,1.627112659518926,-0.981342641318133,-1.4455893573126242,0.3576027338681338,1.9122034390662956,-1.8549843223225784,-0.22684941107753243,3.2740626108793993,3.3403579869578994,-1.9100980978896884,-1.6429817806257436,-0.04386533299566331,0.3796771853085339,-3.7318527730102167,0.2521915316128801,1.898995516568498,-1.2853997977994513,1.132798446931295,-1.7908897573173328,0.6496495695928428,0.28688720690015157,-1.8141270038150419,2.701775862377971,3.793493174227869,0.7462687584018883,1.3928275524870861,-0.4069336805370499,-1.9574023348921532,-0.8091771820425533,3.827043756161248,-0.6762362340805532,1.3147829941666858,-3.6314575915329366,1.6315536746574348,0.995987507376879,-0.11541607069589177,-2.6528518651823143,1.9159004677582694,-0.9833964839041649,-0.8055578440758284,2.232368596459377,-1.7192612763455344,-2.6436713300006423,-1.0466046751157625,-0.7095947279072667,0.7757830920346915,1.0338613328490542,0.987247741009965,-0.8053901779874982,0.16218977153636782,-0.7392907505524824,-0.029040830483307856,0.07552684149012423,-0.9750957633019293,2.501794928016812,0.6060535043389658,-0.9502810692863072,-1.2169114962099425,-0.9537361630222605,-1.1891284449681412,-0.15073766911699882,-0.9001246755696732,3.6771838354423068,-1.1136846119443433,-2.4380608718795753,0.13535443211531328,-1.542552785229664,4.163142318753287,-0.401659442599161,-1.3353162077113359,1.480414878684655,-1.6917277085239975,-4.001144617457419,3.1603074906509008,1.0137839066896501,-1.1155488316400377,1.1176838061653693,0.13552960547357085,0.8782850317233362,-3.046418237882413,0.5741379973751637,0.571710959662747,-1.4821977683583172,-0.14895905522868702,0.4921528382021131,1.0127880081854872,2.6157937852611894,0.03884026812806751,-2.513492590757507,-1.7048413829626492,-1.2157911163188482,-0.07396830719307101,0.10981420753665283,-2.2575455052628444,-2.4726010254516058,2.6759887628550016,-2.365929101794192,-2.1511989981085398,2.326073986682048,-0.045553166520995614,-2.3530740961267695,-0.6830592138115146,1.9133317183815022,2.0676798158221494,-0.3637920659734506,0.1479773545600509,2.363443442789568,-1.5374375865173637,-0.12369561731331613,-1.4062625313478732,1.0836629606946582,-0.9387225527503394,2.476698839589903,-0.8907424927719857,2.5938581921278647,-1.3528536073247002,0.7089444857198193,-0.5427904329252801,-1.025347814977891,-2.7178520104467196,0.2652003034649939,-0.023812762255541298,-1.1283232567783246,1.3029404257376314,-0.25954234209885607,0.14964051090962516,0.24510285371924379,-1.9097148524978875,-0.24516672057351074],\"xaxis\":\"x3\",\"yaxis\":\"y3\",\"type\":\"histogram\"},{\"alignmentgroup\":\"True\",\"bingroup\":\"x\",\"hovertemplate\":\"label=0<br>variable=feature_4<br>value=%{x}<br>count=%{y}<extra></extra>\",\"legendgroup\":\"0\",\"marker\":{\"color\":\"rgb(82, 188, 163)\",\"opacity\":0.7,\"pattern\":{\"shape\":\"\"}},\"name\":\"0\",\"offsetgroup\":\"0\",\"orientation\":\"v\",\"showlegend\":false,\"x\":[-0.09938749386864354,-1.511012629952668,-0.3864947900806973,-0.6485076309837836,-1.4177758692309013,-0.293315419992751,1.8079260297365223,0.5063755973546136,-2.6915761028243983,-0.2635044268232397,-1.8279886205450016,0.6200844646946944,0.47028151155081854,-2.3095223865505723,-0.7617221905736273,-2.311229059517273,-1.0668708032521954,0.30141178299212545,-2.230189079153714,-1.5615557859801688,-0.39124351486029474,-0.4021549366286796,-1.406486992708842,0.9578594415503052,2.5436740535588345,-0.1865775993608343,-1.6924333619553376,-1.7140122017769532,-1.9634364938485698,1.8825422956659774,-2.553213136470322,-2.2442864778017535,0.14158456351595117,-1.058581328489367,-2.368394819977248,-2.177889221877017,-0.7725250344730127,-2.0649081797584863,-1.968630370112438,-1.0164608203869534,1.6209638154127082,0.8628643680570895,-0.6175795430228732,-3.295347978294173,0.00914469791657102,-2.4992983127555854,-1.4586883708137224,-1.3373946705794215,-3.9322357317446954,0.06295303643512762,-0.18413147203391456,-1.5981306967507098,-1.2856700939255876,1.9200578024241102,-2.8323708096331,-1.1001525024023382,-0.5545393666305931,-0.21987840273231363,-0.6958114421112784,-1.4639409723598034,-2.72845465692082,-2.6640628680453666,-3.2619432575515623,0.06268398237637296,-0.1387417291051526,-0.6382399885350967,0.15411630081101602,0.2073401119181133,-3.908275664191534,0.9312084416386568,-2.12612122875728,-1.9123983818661086,-1.9504562472936413,-2.7181294444375723,0.6086074703082405,0.43867308688919593,-0.4883004707563132,-3.6066946227408714,0.3686967170995683,-1.4708653715508646,-2.3963076663505696,0.16907512713317674,0.6499583712599584,-1.2033559983954758,1.0489275153291682,-1.64546117983348,-1.1806473855251998,-0.8804009121991465,-1.736220169405641,2.7091505498402575,-0.7828691364752296,-0.31089721987394947,-1.60951204297635,-1.286656385649742,-2.2310895417117793,-1.3156574539773493,0.3213514995115456,-1.6588756535883362,-0.4381298864859322,0.8259434532098628,0.32095935855093716,-3.0581161917600634,-1.6991015964886653,-0.20019593238290156,-1.1092230921208537,-3.6803864634145356,0.46840109200201185,-0.4426182461055199,-0.4308019413430083,0.7397162985750376,-1.0128841633345775,-1.5716834163008335,-1.086073043575871,0.14493280451766388,-1.1226571766852176,-1.3610818570304244,2.0385462677494144,-1.5372894608086127,-2.9570295861561213,-1.1612739397188325,-1.5337090981143837,-0.48483541215368653,0.07380288092578602,-3.9082406974512276,0.4556637722296002,-0.021026735730874768,-0.10043186827294348,0.10913450679091352,-1.3044077339344304,3.3754951628983036,-1.8273057829358357,1.3155694015809156,-2.6698707865036946,0.6282947872965123,-1.2005987853351563,-0.6926655170278166,2.4119846872711013,-1.5153884191065583,-0.24824687521776756,0.7315391136132954,-0.2802481527021077,0.5423101349055219,-0.1408185131989108,-1.0486685836194396,-1.9692133862232992,0.27992958506411747,-2.9768776378952984,-3.0814256973994945,-0.7960231184713238,-2.0491300113856257,0.20903691104690236,-1.3517774150747068,-2.6708969626323418,-2.0985744990926953,-0.13005417497843208,-0.9422518678899411,-1.4176980816204607,0.4553579240445691,-0.9443535001615757,-2.425761754640016,0.6203314242268188,0.383790340487282,0.6570949897959173,0.5938792381373079,-1.1938271838224586,4.163258415738916,-2.8847914335424423,-2.51004075340309,-2.9769002394255257,-2.9376392120288903,-1.199178687868682,0.615510621438313,-3.4225011330165827,-1.8687243602032415,-0.03577539117661843,-1.520068900940747,-1.0323260116093806,-1.9261446231082469,-2.4018262157311745,-0.4761754095614613,-2.782685413908225,-0.3942643507478374,2.0845216012149455,-0.8206272839193953,0.14412602209358005,-0.4416951280417576,-1.416010892949924,-3.430055696140972,0.27806926073582594,-1.641453579108923,-1.7080425312511016,-0.7493835012541006,-0.5070964777705262,0.6687208173042247,0.1213079900391918,-0.14921674384408146,-0.2174778907427679,-3.3488790489674063,0.28925292358263444,0.4254072721948261,2.276312184805951,-0.9932939319197731,0.9484076251035465,-0.5508499581891295,-1.5904943169201602,-2.8226607958298633,1.349629642299456,-1.4641044704348394,-2.4896342663511044,0.14145519866495349,-1.0258274016874431,-0.350864551328086,-2.9601427715275648,-2.4651723954490574,0.09980648596498876,1.5127857420203514,-3.9878576314784473,-1.2410573043128852,0.2719761333735593,-0.2548665882737241,-1.7085782197881396,0.3898513945631621,0.0026457785173763515,-1.9413377442517739,-2.1025982411448196,-1.237400163563848,-3.174203351066435,1.4010005359421953,-0.48128635357410887,0.796995024896147,0.39099274403903017,-0.6227222912658359,-0.4150065905908762,-1.0710942810332291,-0.27712484211206034,-3.835453095333611,-2.561615596750365,-1.2725720987128317,-0.27740619565687563,-3.0983097916907933,-1.178434898347849,-2.678341195262548,-2.0596265192376233,-1.0157920346649423,-2.959170901071492,0.07555173209676269,-0.7275468465636721,-1.7110829395455518,0.12236385369634073,-0.44445986616166144,-0.7628404962907589,-0.14565912960752947,1.2125473429844829,-0.6130083612335075,-1.503404220059513,-0.35039842071952076,-0.9021571978292954,-2.112755106443002,-0.8643055659697667,-0.7126854276685276,-1.2093606194283373,0.10296629460269169,-0.27644353093260443,-1.9653337509053945,-1.8067508531529075,-5.2248196624209635,0.5303044791603182,-1.7029115925271716,-0.17297637506560148,-1.2227894988868746,-1.5000861045976255,-0.07887234694521472,-2.5202705104519576,3.08326278265704,0.6056392908586761,-3.356790274466379,-0.6400826493115965,1.0081909617056337,-0.6867831383809482,-0.8694246603500091,0.034548828260239306,-0.5514046904755565,-3.811380137125565,-0.6488751915695687,3.050355710356002,-1.399808025173087,0.24267245322160047,-0.7812035196864235,0.2657842164035802,-1.5618459565047553,-1.678300858599789,-2.8537831454089284,-2.5271955144904226,-0.5233011623625374,2.561406308109535,-0.933525584581422,-1.707903915172572,-3.0173895175294874,-2.4250861991358152,-1.4578745255445122,-1.2960363470968874,-2.221802292111003,1.8521170392010138,-0.732133349971017,-0.3833844392249802,-0.8933870635037664,-1.716110976959509,-1.0478282160116756,4.2296553705139965,-0.5518222048797938,-2.702075536121562,-0.16531537171295863,-2.5550331568327005,-0.7477322385061402,0.43958851884544425,-1.5504203142248074,-2.314731160381715,-1.7247533904320016,-0.14828598594213915,-0.7047559139547883,-1.355893315201107,-1.1032603726310866,-2.9472500384018123,0.5782803160643397,-3.179479567839289,0.7287834100590016,-2.397156837384614,1.838987132271221,0.8769799564292273,-1.8910099172963946,-1.0591475578313458,-1.4395822668277187],\"xaxis\":\"x4\",\"yaxis\":\"y4\",\"type\":\"histogram\"}],                        {\"template\":{\"data\":{\"bar\":[{\"error_x\":{\"color\":\"#2a3f5f\"},\"error_y\":{\"color\":\"#2a3f5f\"},\"marker\":{\"line\":{\"color\":\"#E5ECF6\",\"width\":0.5},\"pattern\":{\"fillmode\":\"overlay\",\"size\":10,\"solidity\":0.2}},\"type\":\"bar\"}],\"barpolar\":[{\"marker\":{\"line\":{\"color\":\"#E5ECF6\",\"width\":0.5},\"pattern\":{\"fillmode\":\"overlay\",\"size\":10,\"solidity\":0.2}},\"type\":\"barpolar\"}],\"carpet\":[{\"aaxis\":{\"endlinecolor\":\"#2a3f5f\",\"gridcolor\":\"white\",\"linecolor\":\"white\",\"minorgridcolor\":\"white\",\"startlinecolor\":\"#2a3f5f\"},\"baxis\":{\"endlinecolor\":\"#2a3f5f\",\"gridcolor\":\"white\",\"linecolor\":\"white\",\"minorgridcolor\":\"white\",\"startlinecolor\":\"#2a3f5f\"},\"type\":\"carpet\"}],\"choropleth\":[{\"colorbar\":{\"outlinewidth\":0,\"ticks\":\"\"},\"type\":\"choropleth\"}],\"contour\":[{\"colorbar\":{\"outlinewidth\":0,\"ticks\":\"\"},\"colorscale\":[[0.0,\"#0d0887\"],[0.1111111111111111,\"#46039f\"],[0.2222222222222222,\"#7201a8\"],[0.3333333333333333,\"#9c179e\"],[0.4444444444444444,\"#bd3786\"],[0.5555555555555556,\"#d8576b\"],[0.6666666666666666,\"#ed7953\"],[0.7777777777777778,\"#fb9f3a\"],[0.8888888888888888,\"#fdca26\"],[1.0,\"#f0f921\"]],\"type\":\"contour\"}],\"contourcarpet\":[{\"colorbar\":{\"outlinewidth\":0,\"ticks\":\"\"},\"type\":\"contourcarpet\"}],\"heatmap\":[{\"colorbar\":{\"outlinewidth\":0,\"ticks\":\"\"},\"colorscale\":[[0.0,\"#0d0887\"],[0.1111111111111111,\"#46039f\"],[0.2222222222222222,\"#7201a8\"],[0.3333333333333333,\"#9c179e\"],[0.4444444444444444,\"#bd3786\"],[0.5555555555555556,\"#d8576b\"],[0.6666666666666666,\"#ed7953\"],[0.7777777777777778,\"#fb9f3a\"],[0.8888888888888888,\"#fdca26\"],[1.0,\"#f0f921\"]],\"type\":\"heatmap\"}],\"heatmapgl\":[{\"colorbar\":{\"outlinewidth\":0,\"ticks\":\"\"},\"colorscale\":[[0.0,\"#0d0887\"],[0.1111111111111111,\"#46039f\"],[0.2222222222222222,\"#7201a8\"],[0.3333333333333333,\"#9c179e\"],[0.4444444444444444,\"#bd3786\"],[0.5555555555555556,\"#d8576b\"],[0.6666666666666666,\"#ed7953\"],[0.7777777777777778,\"#fb9f3a\"],[0.8888888888888888,\"#fdca26\"],[1.0,\"#f0f921\"]],\"type\":\"heatmapgl\"}],\"histogram\":[{\"marker\":{\"pattern\":{\"fillmode\":\"overlay\",\"size\":10,\"solidity\":0.2}},\"type\":\"histogram\"}],\"histogram2d\":[{\"colorbar\":{\"outlinewidth\":0,\"ticks\":\"\"},\"colorscale\":[[0.0,\"#0d0887\"],[0.1111111111111111,\"#46039f\"],[0.2222222222222222,\"#7201a8\"],[0.3333333333333333,\"#9c179e\"],[0.4444444444444444,\"#bd3786\"],[0.5555555555555556,\"#d8576b\"],[0.6666666666666666,\"#ed7953\"],[0.7777777777777778,\"#fb9f3a\"],[0.8888888888888888,\"#fdca26\"],[1.0,\"#f0f921\"]],\"type\":\"histogram2d\"}],\"histogram2dcontour\":[{\"colorbar\":{\"outlinewidth\":0,\"ticks\":\"\"},\"colorscale\":[[0.0,\"#0d0887\"],[0.1111111111111111,\"#46039f\"],[0.2222222222222222,\"#7201a8\"],[0.3333333333333333,\"#9c179e\"],[0.4444444444444444,\"#bd3786\"],[0.5555555555555556,\"#d8576b\"],[0.6666666666666666,\"#ed7953\"],[0.7777777777777778,\"#fb9f3a\"],[0.8888888888888888,\"#fdca26\"],[1.0,\"#f0f921\"]],\"type\":\"histogram2dcontour\"}],\"mesh3d\":[{\"colorbar\":{\"outlinewidth\":0,\"ticks\":\"\"},\"type\":\"mesh3d\"}],\"parcoords\":[{\"line\":{\"colorbar\":{\"outlinewidth\":0,\"ticks\":\"\"}},\"type\":\"parcoords\"}],\"pie\":[{\"automargin\":true,\"type\":\"pie\"}],\"scatter\":[{\"marker\":{\"colorbar\":{\"outlinewidth\":0,\"ticks\":\"\"}},\"type\":\"scatter\"}],\"scatter3d\":[{\"line\":{\"colorbar\":{\"outlinewidth\":0,\"ticks\":\"\"}},\"marker\":{\"colorbar\":{\"outlinewidth\":0,\"ticks\":\"\"}},\"type\":\"scatter3d\"}],\"scattercarpet\":[{\"marker\":{\"colorbar\":{\"outlinewidth\":0,\"ticks\":\"\"}},\"type\":\"scattercarpet\"}],\"scattergeo\":[{\"marker\":{\"colorbar\":{\"outlinewidth\":0,\"ticks\":\"\"}},\"type\":\"scattergeo\"}],\"scattergl\":[{\"marker\":{\"colorbar\":{\"outlinewidth\":0,\"ticks\":\"\"}},\"type\":\"scattergl\"}],\"scattermapbox\":[{\"marker\":{\"colorbar\":{\"outlinewidth\":0,\"ticks\":\"\"}},\"type\":\"scattermapbox\"}],\"scatterpolar\":[{\"marker\":{\"colorbar\":{\"outlinewidth\":0,\"ticks\":\"\"}},\"type\":\"scatterpolar\"}],\"scatterpolargl\":[{\"marker\":{\"colorbar\":{\"outlinewidth\":0,\"ticks\":\"\"}},\"type\":\"scatterpolargl\"}],\"scatterternary\":[{\"marker\":{\"colorbar\":{\"outlinewidth\":0,\"ticks\":\"\"}},\"type\":\"scatterternary\"}],\"surface\":[{\"colorbar\":{\"outlinewidth\":0,\"ticks\":\"\"},\"colorscale\":[[0.0,\"#0d0887\"],[0.1111111111111111,\"#46039f\"],[0.2222222222222222,\"#7201a8\"],[0.3333333333333333,\"#9c179e\"],[0.4444444444444444,\"#bd3786\"],[0.5555555555555556,\"#d8576b\"],[0.6666666666666666,\"#ed7953\"],[0.7777777777777778,\"#fb9f3a\"],[0.8888888888888888,\"#fdca26\"],[1.0,\"#f0f921\"]],\"type\":\"surface\"}],\"table\":[{\"cells\":{\"fill\":{\"color\":\"#EBF0F8\"},\"line\":{\"color\":\"white\"}},\"header\":{\"fill\":{\"color\":\"#C8D4E3\"},\"line\":{\"color\":\"white\"}},\"type\":\"table\"}]},\"layout\":{\"annotationdefaults\":{\"arrowcolor\":\"#2a3f5f\",\"arrowhead\":0,\"arrowwidth\":1},\"autotypenumbers\":\"strict\",\"coloraxis\":{\"colorbar\":{\"outlinewidth\":0,\"ticks\":\"\"}},\"colorscale\":{\"diverging\":[[0,\"#8e0152\"],[0.1,\"#c51b7d\"],[0.2,\"#de77ae\"],[0.3,\"#f1b6da\"],[0.4,\"#fde0ef\"],[0.5,\"#f7f7f7\"],[0.6,\"#e6f5d0\"],[0.7,\"#b8e186\"],[0.8,\"#7fbc41\"],[0.9,\"#4d9221\"],[1,\"#276419\"]],\"sequential\":[[0.0,\"#0d0887\"],[0.1111111111111111,\"#46039f\"],[0.2222222222222222,\"#7201a8\"],[0.3333333333333333,\"#9c179e\"],[0.4444444444444444,\"#bd3786\"],[0.5555555555555556,\"#d8576b\"],[0.6666666666666666,\"#ed7953\"],[0.7777777777777778,\"#fb9f3a\"],[0.8888888888888888,\"#fdca26\"],[1.0,\"#f0f921\"]],\"sequentialminus\":[[0.0,\"#0d0887\"],[0.1111111111111111,\"#46039f\"],[0.2222222222222222,\"#7201a8\"],[0.3333333333333333,\"#9c179e\"],[0.4444444444444444,\"#bd3786\"],[0.5555555555555556,\"#d8576b\"],[0.6666666666666666,\"#ed7953\"],[0.7777777777777778,\"#fb9f3a\"],[0.8888888888888888,\"#fdca26\"],[1.0,\"#f0f921\"]]},\"colorway\":[\"#636efa\",\"#EF553B\",\"#00cc96\",\"#ab63fa\",\"#FFA15A\",\"#19d3f3\",\"#FF6692\",\"#B6E880\",\"#FF97FF\",\"#FECB52\"],\"font\":{\"color\":\"#2a3f5f\"},\"geo\":{\"bgcolor\":\"white\",\"lakecolor\":\"white\",\"landcolor\":\"#E5ECF6\",\"showlakes\":true,\"showland\":true,\"subunitcolor\":\"white\"},\"hoverlabel\":{\"align\":\"left\"},\"hovermode\":\"closest\",\"mapbox\":{\"style\":\"light\"},\"paper_bgcolor\":\"white\",\"plot_bgcolor\":\"#E5ECF6\",\"polar\":{\"angularaxis\":{\"gridcolor\":\"white\",\"linecolor\":\"white\",\"ticks\":\"\"},\"bgcolor\":\"#E5ECF6\",\"radialaxis\":{\"gridcolor\":\"white\",\"linecolor\":\"white\",\"ticks\":\"\"}},\"scene\":{\"xaxis\":{\"backgroundcolor\":\"#E5ECF6\",\"gridcolor\":\"white\",\"gridwidth\":2,\"linecolor\":\"white\",\"showbackground\":true,\"ticks\":\"\",\"zerolinecolor\":\"white\"},\"yaxis\":{\"backgroundcolor\":\"#E5ECF6\",\"gridcolor\":\"white\",\"gridwidth\":2,\"linecolor\":\"white\",\"showbackground\":true,\"ticks\":\"\",\"zerolinecolor\":\"white\"},\"zaxis\":{\"backgroundcolor\":\"#E5ECF6\",\"gridcolor\":\"white\",\"gridwidth\":2,\"linecolor\":\"white\",\"showbackground\":true,\"ticks\":\"\",\"zerolinecolor\":\"white\"}},\"shapedefaults\":{\"line\":{\"color\":\"#2a3f5f\"}},\"ternary\":{\"aaxis\":{\"gridcolor\":\"white\",\"linecolor\":\"white\",\"ticks\":\"\"},\"baxis\":{\"gridcolor\":\"white\",\"linecolor\":\"white\",\"ticks\":\"\"},\"bgcolor\":\"#E5ECF6\",\"caxis\":{\"gridcolor\":\"white\",\"linecolor\":\"white\",\"ticks\":\"\"}},\"title\":{\"x\":0.05},\"xaxis\":{\"automargin\":true,\"gridcolor\":\"white\",\"linecolor\":\"white\",\"ticks\":\"\",\"title\":{\"standoff\":15},\"zerolinecolor\":\"white\",\"zerolinewidth\":2},\"yaxis\":{\"automargin\":true,\"gridcolor\":\"white\",\"linecolor\":\"white\",\"ticks\":\"\",\"title\":{\"standoff\":15},\"zerolinecolor\":\"white\",\"zerolinewidth\":2}}},\"xaxis\":{\"anchor\":\"y\",\"domain\":[0.0,0.235],\"title\":{\"text\":\"value\"}},\"yaxis\":{\"anchor\":\"x\",\"domain\":[0.0,1.0],\"title\":{\"text\":\"count\"}},\"xaxis2\":{\"anchor\":\"y2\",\"domain\":[0.255,0.49],\"matches\":\"x\",\"title\":{\"text\":\"value\"}},\"yaxis2\":{\"anchor\":\"x2\",\"domain\":[0.0,1.0],\"matches\":\"y\",\"showticklabels\":false},\"xaxis3\":{\"anchor\":\"y3\",\"domain\":[0.51,0.745],\"matches\":\"x\",\"title\":{\"text\":\"value\"}},\"yaxis3\":{\"anchor\":\"x3\",\"domain\":[0.0,1.0],\"matches\":\"y\",\"showticklabels\":false},\"xaxis4\":{\"anchor\":\"y4\",\"domain\":[0.7649999999999999,0.9999999999999999],\"matches\":\"x\",\"title\":{\"text\":\"value\"}},\"yaxis4\":{\"anchor\":\"x4\",\"domain\":[0.0,1.0],\"matches\":\"y\",\"showticklabels\":false},\"annotations\":[{\"font\":{},\"showarrow\":false,\"text\":\"variable=feature_1\",\"x\":0.1175,\"xanchor\":\"center\",\"xref\":\"paper\",\"y\":1.0,\"yanchor\":\"bottom\",\"yref\":\"paper\"},{\"font\":{},\"showarrow\":false,\"text\":\"variable=feature_2\",\"x\":0.3725,\"xanchor\":\"center\",\"xref\":\"paper\",\"y\":1.0,\"yanchor\":\"bottom\",\"yref\":\"paper\"},{\"font\":{},\"showarrow\":false,\"text\":\"variable=feature_3\",\"x\":0.6275,\"xanchor\":\"center\",\"xref\":\"paper\",\"y\":1.0,\"yanchor\":\"bottom\",\"yref\":\"paper\"},{\"font\":{},\"showarrow\":false,\"text\":\"variable=feature_4\",\"x\":0.8824999999999998,\"xanchor\":\"center\",\"xref\":\"paper\",\"y\":1.0,\"yanchor\":\"bottom\",\"yref\":\"paper\"}],\"legend\":{\"title\":{\"text\":\"label\"},\"tracegroupgap\":0},\"title\":{\"text\":\"Distribution of labels\"},\"barmode\":\"overlay\"},                        {\"responsive\": true}                    ).then(function(){\n",
              "                            \n",
              "var gd = document.getElementById('ccda7510-e948-4801-bf8a-ea60b7abb819');\n",
              "var x = new MutationObserver(function (mutations, observer) {{\n",
              "        var display = window.getComputedStyle(gd).display;\n",
              "        if (!display || display === 'none') {{\n",
              "            console.log([gd, 'removed!']);\n",
              "            Plotly.purge(gd);\n",
              "            observer.disconnect();\n",
              "        }}\n",
              "}});\n",
              "\n",
              "// Listen for the removal of the full notebook cells\n",
              "var notebookContainer = gd.closest('#notebook-container');\n",
              "if (notebookContainer) {{\n",
              "    x.observe(notebookContainer, {childList: true});\n",
              "}}\n",
              "\n",
              "// Listen for the clearing of the current output cell\n",
              "var outputEl = gd.closest('.output');\n",
              "if (outputEl) {{\n",
              "    x.observe(outputEl, {childList: true});\n",
              "}}\n",
              "\n",
              "                        })                };                            </script>        </div>\n",
              "</body>\n",
              "</html>"
            ]
          },
          "metadata": {}
        }
      ]
    },
    {
      "cell_type": "code",
      "source": [
        "X_train, X_test, y_train, y_test = train_test_split(X, y, train_size=0.8)\n",
        "X_train.shape, X_test.shape, y_train.shape, y_test.shape"
      ],
      "metadata": {
        "colab": {
          "base_uri": "https://localhost:8080/"
        },
        "id": "pfXV96kOe2bU",
        "outputId": "32569f0d-3d5d-4a7f-d44b-93e3ae00d6f7"
      },
      "execution_count": null,
      "outputs": [
        {
          "output_type": "execute_result",
          "data": {
            "text/plain": [
              "((800, 4), (200, 4), (800,), (200,))"
            ]
          },
          "metadata": {},
          "execution_count": 27
        }
      ]
    },
    {
      "cell_type": "code",
      "source": [
        "best_classifier = {}"
      ],
      "metadata": {
        "id": "y3LsY3TIfHkz"
      },
      "execution_count": null,
      "outputs": []
    },
    {
      "cell_type": "markdown",
      "source": [
        "# KNeighborsClassifier"
      ],
      "metadata": {
        "id": "idbdKoXBhIEL"
      }
    },
    {
      "cell_type": "code",
      "source": [
        "knn = KNeighborsClassifier()\n",
        "param_grid = {\n",
        "    \"n_neighbors\": [3], \n",
        "    \"leaf_size\": np.random.randint(low=10, high=50, size=50),\n",
        "    \"weights\": [\"uniform\", \"distance\"],\n",
        "    \"p\": np.random.randint(low=1, high=5, size=5),\n",
        "}\n",
        "\n",
        "best_classifier[\"KNN\"] = RandomizedSearchCV(\n",
        "    estimator=knn,\n",
        "    param_distributions=param_grid,\n",
        "    n_iter=500,\n",
        "    cv=5,\n",
        "    scoring=\"f1_macro\",\n",
        "    n_jobs=-1,  # use all cores\n",
        "    verbose=1,\n",
        "    random_state=42,\n",
        ")\n",
        "best_classifier[\"KNN\"].fit(X_train, y_train.ravel())\n",
        "\n",
        "y_pred = best_classifier[\"KNN\"].predict(X_test)\n",
        "\n",
        "print(\"F1 score::\", f1_score(y_test, y_pred, average='macro'))\n",
        "print(\"Accuracy:\", accuracy_score(y_test, y_pred))"
      ],
      "metadata": {
        "colab": {
          "base_uri": "https://localhost:8080/"
        },
        "id": "1-u7LY9vfbil",
        "outputId": "765172a0-26fa-41be-b7a9-739c790ee01f"
      },
      "execution_count": null,
      "outputs": [
        {
          "output_type": "stream",
          "name": "stdout",
          "text": [
            "Fitting 5 folds for each of 500 candidates, totalling 2500 fits\n",
            "F1 score:: 0.8969042533374018\n",
            "Accuracy: 0.895\n"
          ]
        }
      ]
    },
    {
      "cell_type": "markdown",
      "source": [
        "# **Random Forest Classifier**"
      ],
      "metadata": {
        "id": "Nlk_p7A-hUXS"
      }
    },
    {
      "cell_type": "code",
      "source": [
        "rfc = RandomForestClassifier()\n",
        "param_grid = {\n",
        "    \"n_estimators\": np.random.randint(low=50, high=200, size=1000),\n",
        "    \"criterion\": [\"gini\", \"entropy\"],\n",
        "    \"max_depth\": np.random.randint(low=1, high=10, size=1000),\n",
        "    \"min_samples_split\": np.random.randint(low=2, high=10, size=1000),\n",
        "    \"min_samples_leaf\": np.random.randint(low=1, high=10, size=1000),\n",
        "    \"min_weight_fraction_leaf\": np.random.exponential(scale=0.01, size=1000),\n",
        "}\n",
        "\n",
        "best_classifier[\"RFC\"] = RandomizedSearchCV(\n",
        "    estimator=rfc,\n",
        "    param_distributions=param_grid,\n",
        "    n_iter=100,\n",
        "    cv=5,\n",
        "    scoring=\"f1_macro\",\n",
        "    n_jobs=-1,  # use all cores\n",
        "    verbose=1,\n",
        "    random_state=42,\n",
        ")\n",
        "\n",
        "best_classifier[\"RFC\"].fit(X_train, y_train.ravel())\n",
        "\n",
        "y_pred = best_classifier[\"RFC\"].predict(X_test)\n",
        "\n",
        "print(\"F1 score::\", f1_score(y_test, y_pred, average='macro'))\n",
        "print(\"Accuracy:\", accuracy_score(y_test, y_pred))\n"
      ],
      "metadata": {
        "colab": {
          "base_uri": "https://localhost:8080/"
        },
        "id": "mpoFckKrhc16",
        "outputId": "9dc31733-62fc-496b-c598-e874780e64f7"
      },
      "execution_count": null,
      "outputs": [
        {
          "output_type": "stream",
          "name": "stdout",
          "text": [
            "Fitting 5 folds for each of 100 candidates, totalling 500 fits\n",
            "F1 score:: 0.8501205366153249\n",
            "Accuracy: 0.85\n"
          ]
        }
      ]
    },
    {
      "cell_type": "markdown",
      "source": [
        "# Gausian NB"
      ],
      "metadata": {
        "id": "CJzEr9uPiLMU"
      }
    },
    {
      "cell_type": "code",
      "source": [
        "gnb = GaussianNB()\n",
        "param_grid = {}  \n",
        "\n",
        "best_classifier[\"GNB\"] = RandomizedSearchCV(\n",
        "    estimator=gnb,\n",
        "    param_distributions=param_grid,\n",
        "    n_iter=1,\n",
        "    cv=5,\n",
        "    scoring=\"f1_macro\",\n",
        "    n_jobs=-1,  # use all cores\n",
        "    verbose=1,\n",
        "    random_state=42,\n",
        ")\n",
        "best_classifier[\"GNB\"].fit(X_train, y_train.ravel())\n",
        "\n",
        "y_pred = best_classifier[\"GNB\"].predict(X_test)\n",
        "\n",
        "\n",
        "print(\"F1 score::\", f1_score(y_test, y_pred, average='macro'))\n",
        "print(\"Accuracy:\", accuracy_score(y_test, y_pred))"
      ],
      "metadata": {
        "colab": {
          "base_uri": "https://localhost:8080/"
        },
        "id": "bzVtNA2yiRPJ",
        "outputId": "7016fc88-27e9-451c-890f-4fcc5fc3ffc0"
      },
      "execution_count": null,
      "outputs": [
        {
          "output_type": "stream",
          "name": "stdout",
          "text": [
            "Fitting 5 folds for each of 1 candidates, totalling 5 fits\n",
            "F1 score:: 0.6854358846505443\n",
            "Accuracy: 0.7\n"
          ]
        }
      ]
    },
    {
      "cell_type": "code",
      "source": [
        "colnames = [\"classifier\", \"type\", \"metric\", \"value\"]\n",
        "results = pd.DataFrame(columns=colnames)\n",
        "types_data = [[\"train\", X_train, y_train], [\"test\", X_test, y_test]]\n",
        "metrics = [[\"f1_score\", f1_score], [\"accuracy\", accuracy_score]]\n",
        "\n",
        "for clf_name, clf in best_classifier.items():\n",
        "    for type_name, X_type, y_type in types_data: \n",
        "        y_pred = clf.predict(X_type)\n",
        "        for metric_name, metric_func in metrics:\n",
        "            if metric_func == f1_score:\n",
        "                metric_val = metric_func(y_type, y_pred, average=\"macro\")\n",
        "            else:\n",
        "                metric_val = metric_func(y_type, y_pred)\n",
        "            \n",
        "            row = pd.Series(\n",
        "                dict(zip(colnames, [clf_name, type_name, metric_name, metric_val]))\n",
        "            )\n",
        "            results = results.append(row, ignore_index=True)\n",
        "\n",
        "results = pd.DataFrame(results, columns=colnames)"
      ],
      "metadata": {
        "id": "RdsHMAcdibZ2"
      },
      "execution_count": null,
      "outputs": []
    },
    {
      "cell_type": "code",
      "source": [
        "results"
      ],
      "metadata": {
        "colab": {
          "base_uri": "https://localhost:8080/",
          "height": 425
        },
        "id": "eyoVZ7pljjqz",
        "outputId": "b010a8a9-d087-4206-820a-3327eaf51a4f"
      },
      "execution_count": null,
      "outputs": [
        {
          "output_type": "execute_result",
          "data": {
            "text/plain": [
              "   classifier   type    metric     value\n",
              "0         KNN  train  f1_score  0.912483\n",
              "1         KNN  train  accuracy  0.912500\n",
              "2         KNN   test  f1_score  0.896904\n",
              "3         KNN   test  accuracy  0.895000\n",
              "4         RFC  train  f1_score  0.931035\n",
              "5         RFC  train  accuracy  0.931250\n",
              "6         RFC   test  f1_score  0.850121\n",
              "7         RFC   test  accuracy  0.850000\n",
              "8         GNB  train  f1_score  0.645793\n",
              "9         GNB  train  accuracy  0.653750\n",
              "10        GNB   test  f1_score  0.685436\n",
              "11        GNB   test  accuracy  0.700000"
            ],
            "text/html": [
              "\n",
              "  <div id=\"df-91e48e26-5923-4b0e-9ea5-740964d0e99b\">\n",
              "    <div class=\"colab-df-container\">\n",
              "      <div>\n",
              "<style scoped>\n",
              "    .dataframe tbody tr th:only-of-type {\n",
              "        vertical-align: middle;\n",
              "    }\n",
              "\n",
              "    .dataframe tbody tr th {\n",
              "        vertical-align: top;\n",
              "    }\n",
              "\n",
              "    .dataframe thead th {\n",
              "        text-align: right;\n",
              "    }\n",
              "</style>\n",
              "<table border=\"1\" class=\"dataframe\">\n",
              "  <thead>\n",
              "    <tr style=\"text-align: right;\">\n",
              "      <th></th>\n",
              "      <th>classifier</th>\n",
              "      <th>type</th>\n",
              "      <th>metric</th>\n",
              "      <th>value</th>\n",
              "    </tr>\n",
              "  </thead>\n",
              "  <tbody>\n",
              "    <tr>\n",
              "      <th>0</th>\n",
              "      <td>KNN</td>\n",
              "      <td>train</td>\n",
              "      <td>f1_score</td>\n",
              "      <td>0.912483</td>\n",
              "    </tr>\n",
              "    <tr>\n",
              "      <th>1</th>\n",
              "      <td>KNN</td>\n",
              "      <td>train</td>\n",
              "      <td>accuracy</td>\n",
              "      <td>0.912500</td>\n",
              "    </tr>\n",
              "    <tr>\n",
              "      <th>2</th>\n",
              "      <td>KNN</td>\n",
              "      <td>test</td>\n",
              "      <td>f1_score</td>\n",
              "      <td>0.896904</td>\n",
              "    </tr>\n",
              "    <tr>\n",
              "      <th>3</th>\n",
              "      <td>KNN</td>\n",
              "      <td>test</td>\n",
              "      <td>accuracy</td>\n",
              "      <td>0.895000</td>\n",
              "    </tr>\n",
              "    <tr>\n",
              "      <th>4</th>\n",
              "      <td>RFC</td>\n",
              "      <td>train</td>\n",
              "      <td>f1_score</td>\n",
              "      <td>0.931035</td>\n",
              "    </tr>\n",
              "    <tr>\n",
              "      <th>5</th>\n",
              "      <td>RFC</td>\n",
              "      <td>train</td>\n",
              "      <td>accuracy</td>\n",
              "      <td>0.931250</td>\n",
              "    </tr>\n",
              "    <tr>\n",
              "      <th>6</th>\n",
              "      <td>RFC</td>\n",
              "      <td>test</td>\n",
              "      <td>f1_score</td>\n",
              "      <td>0.850121</td>\n",
              "    </tr>\n",
              "    <tr>\n",
              "      <th>7</th>\n",
              "      <td>RFC</td>\n",
              "      <td>test</td>\n",
              "      <td>accuracy</td>\n",
              "      <td>0.850000</td>\n",
              "    </tr>\n",
              "    <tr>\n",
              "      <th>8</th>\n",
              "      <td>GNB</td>\n",
              "      <td>train</td>\n",
              "      <td>f1_score</td>\n",
              "      <td>0.645793</td>\n",
              "    </tr>\n",
              "    <tr>\n",
              "      <th>9</th>\n",
              "      <td>GNB</td>\n",
              "      <td>train</td>\n",
              "      <td>accuracy</td>\n",
              "      <td>0.653750</td>\n",
              "    </tr>\n",
              "    <tr>\n",
              "      <th>10</th>\n",
              "      <td>GNB</td>\n",
              "      <td>test</td>\n",
              "      <td>f1_score</td>\n",
              "      <td>0.685436</td>\n",
              "    </tr>\n",
              "    <tr>\n",
              "      <th>11</th>\n",
              "      <td>GNB</td>\n",
              "      <td>test</td>\n",
              "      <td>accuracy</td>\n",
              "      <td>0.700000</td>\n",
              "    </tr>\n",
              "  </tbody>\n",
              "</table>\n",
              "</div>\n",
              "      <button class=\"colab-df-convert\" onclick=\"convertToInteractive('df-91e48e26-5923-4b0e-9ea5-740964d0e99b')\"\n",
              "              title=\"Convert this dataframe to an interactive table.\"\n",
              "              style=\"display:none;\">\n",
              "        \n",
              "  <svg xmlns=\"http://www.w3.org/2000/svg\" height=\"24px\"viewBox=\"0 0 24 24\"\n",
              "       width=\"24px\">\n",
              "    <path d=\"M0 0h24v24H0V0z\" fill=\"none\"/>\n",
              "    <path d=\"M18.56 5.44l.94 2.06.94-2.06 2.06-.94-2.06-.94-.94-2.06-.94 2.06-2.06.94zm-11 1L8.5 8.5l.94-2.06 2.06-.94-2.06-.94L8.5 2.5l-.94 2.06-2.06.94zm10 10l.94 2.06.94-2.06 2.06-.94-2.06-.94-.94-2.06-.94 2.06-2.06.94z\"/><path d=\"M17.41 7.96l-1.37-1.37c-.4-.4-.92-.59-1.43-.59-.52 0-1.04.2-1.43.59L10.3 9.45l-7.72 7.72c-.78.78-.78 2.05 0 2.83L4 21.41c.39.39.9.59 1.41.59.51 0 1.02-.2 1.41-.59l7.78-7.78 2.81-2.81c.8-.78.8-2.07 0-2.86zM5.41 20L4 18.59l7.72-7.72 1.47 1.35L5.41 20z\"/>\n",
              "  </svg>\n",
              "      </button>\n",
              "      \n",
              "  <style>\n",
              "    .colab-df-container {\n",
              "      display:flex;\n",
              "      flex-wrap:wrap;\n",
              "      gap: 12px;\n",
              "    }\n",
              "\n",
              "    .colab-df-convert {\n",
              "      background-color: #E8F0FE;\n",
              "      border: none;\n",
              "      border-radius: 50%;\n",
              "      cursor: pointer;\n",
              "      display: none;\n",
              "      fill: #1967D2;\n",
              "      height: 32px;\n",
              "      padding: 0 0 0 0;\n",
              "      width: 32px;\n",
              "    }\n",
              "\n",
              "    .colab-df-convert:hover {\n",
              "      background-color: #E2EBFA;\n",
              "      box-shadow: 0px 1px 2px rgba(60, 64, 67, 0.3), 0px 1px 3px 1px rgba(60, 64, 67, 0.15);\n",
              "      fill: #174EA6;\n",
              "    }\n",
              "\n",
              "    [theme=dark] .colab-df-convert {\n",
              "      background-color: #3B4455;\n",
              "      fill: #D2E3FC;\n",
              "    }\n",
              "\n",
              "    [theme=dark] .colab-df-convert:hover {\n",
              "      background-color: #434B5C;\n",
              "      box-shadow: 0px 1px 3px 1px rgba(0, 0, 0, 0.15);\n",
              "      filter: drop-shadow(0px 1px 2px rgba(0, 0, 0, 0.3));\n",
              "      fill: #FFFFFF;\n",
              "    }\n",
              "  </style>\n",
              "\n",
              "      <script>\n",
              "        const buttonEl =\n",
              "          document.querySelector('#df-91e48e26-5923-4b0e-9ea5-740964d0e99b button.colab-df-convert');\n",
              "        buttonEl.style.display =\n",
              "          google.colab.kernel.accessAllowed ? 'block' : 'none';\n",
              "\n",
              "        async function convertToInteractive(key) {\n",
              "          const element = document.querySelector('#df-91e48e26-5923-4b0e-9ea5-740964d0e99b');\n",
              "          const dataTable =\n",
              "            await google.colab.kernel.invokeFunction('convertToInteractive',\n",
              "                                                     [key], {});\n",
              "          if (!dataTable) return;\n",
              "\n",
              "          const docLinkHtml = 'Like what you see? Visit the ' +\n",
              "            '<a target=\"_blank\" href=https://colab.research.google.com/notebooks/data_table.ipynb>data table notebook</a>'\n",
              "            + ' to learn more about interactive tables.';\n",
              "          element.innerHTML = '';\n",
              "          dataTable['output_type'] = 'display_data';\n",
              "          await google.colab.output.renderOutput(dataTable, element);\n",
              "          const docLink = document.createElement('div');\n",
              "          docLink.innerHTML = docLinkHtml;\n",
              "          element.appendChild(docLink);\n",
              "        }\n",
              "      </script>\n",
              "    </div>\n",
              "  </div>\n",
              "  "
            ]
          },
          "metadata": {},
          "execution_count": 33
        }
      ]
    },
    {
      "cell_type": "code",
      "source": [
        "fig = px.bar(\n",
        "    data_frame=results,\n",
        "    x=\"classifier\",\n",
        "    y=\"value\",\n",
        "    color=\"type\",\n",
        "    barmode=\"group\",\n",
        "    text_auto=True,\n",
        "    facet_row=\"metric\",\n",
        ")\n",
        "\n",
        "fig"
      ],
      "metadata": {
        "colab": {
          "base_uri": "https://localhost:8080/",
          "height": 542
        },
        "id": "wlHQIpipj1QC",
        "outputId": "0536060e-2ae2-4c16-fd17-3ce5b170c92b"
      },
      "execution_count": null,
      "outputs": [
        {
          "output_type": "display_data",
          "data": {
            "text/html": [
              "<html>\n",
              "<head><meta charset=\"utf-8\" /></head>\n",
              "<body>\n",
              "    <div>            <script src=\"https://cdnjs.cloudflare.com/ajax/libs/mathjax/2.7.5/MathJax.js?config=TeX-AMS-MML_SVG\"></script><script type=\"text/javascript\">if (window.MathJax) {MathJax.Hub.Config({SVG: {font: \"STIX-Web\"}});}</script>                <script type=\"text/javascript\">window.PlotlyConfig = {MathJaxConfig: 'local'};</script>\n",
              "        <script src=\"https://cdn.plot.ly/plotly-2.8.3.min.js\"></script>                <div id=\"21a92389-8cd7-41a4-b705-426e4c94fc3f\" class=\"plotly-graph-div\" style=\"height:525px; width:100%;\"></div>            <script type=\"text/javascript\">                                    window.PLOTLYENV=window.PLOTLYENV || {};                                    if (document.getElementById(\"21a92389-8cd7-41a4-b705-426e4c94fc3f\")) {                    Plotly.newPlot(                        \"21a92389-8cd7-41a4-b705-426e4c94fc3f\",                        [{\"alignmentgroup\":\"True\",\"hovertemplate\":\"type=train<br>metric=f1_score<br>classifier=%{x}<br>value=%{y}<extra></extra>\",\"legendgroup\":\"train\",\"marker\":{\"color\":\"#636efa\",\"pattern\":{\"shape\":\"\"}},\"name\":\"train\",\"offsetgroup\":\"train\",\"orientation\":\"v\",\"showlegend\":true,\"textposition\":\"auto\",\"texttemplate\":\"%{y}\",\"x\":[\"KNN\",\"RFC\",\"GNB\"],\"xaxis\":\"x2\",\"y\":[0.9124829609201063,0.9310351558236025,0.6457934536466037],\"yaxis\":\"y2\",\"type\":\"bar\"},{\"alignmentgroup\":\"True\",\"hovertemplate\":\"type=train<br>metric=accuracy<br>classifier=%{x}<br>value=%{y}<extra></extra>\",\"legendgroup\":\"train\",\"marker\":{\"color\":\"#636efa\",\"pattern\":{\"shape\":\"\"}},\"name\":\"train\",\"offsetgroup\":\"train\",\"orientation\":\"v\",\"showlegend\":false,\"textposition\":\"auto\",\"texttemplate\":\"%{y}\",\"x\":[\"KNN\",\"RFC\",\"GNB\"],\"xaxis\":\"x\",\"y\":[0.9125,0.93125,0.65375],\"yaxis\":\"y\",\"type\":\"bar\"},{\"alignmentgroup\":\"True\",\"hovertemplate\":\"type=test<br>metric=f1_score<br>classifier=%{x}<br>value=%{y}<extra></extra>\",\"legendgroup\":\"test\",\"marker\":{\"color\":\"#EF553B\",\"pattern\":{\"shape\":\"\"}},\"name\":\"test\",\"offsetgroup\":\"test\",\"orientation\":\"v\",\"showlegend\":true,\"textposition\":\"auto\",\"texttemplate\":\"%{y}\",\"x\":[\"KNN\",\"RFC\",\"GNB\"],\"xaxis\":\"x2\",\"y\":[0.8969042533374018,0.8501205366153249,0.6854358846505443],\"yaxis\":\"y2\",\"type\":\"bar\"},{\"alignmentgroup\":\"True\",\"hovertemplate\":\"type=test<br>metric=accuracy<br>classifier=%{x}<br>value=%{y}<extra></extra>\",\"legendgroup\":\"test\",\"marker\":{\"color\":\"#EF553B\",\"pattern\":{\"shape\":\"\"}},\"name\":\"test\",\"offsetgroup\":\"test\",\"orientation\":\"v\",\"showlegend\":false,\"textposition\":\"auto\",\"texttemplate\":\"%{y}\",\"x\":[\"KNN\",\"RFC\",\"GNB\"],\"xaxis\":\"x\",\"y\":[0.895,0.85,0.7],\"yaxis\":\"y\",\"type\":\"bar\"}],                        {\"template\":{\"data\":{\"bar\":[{\"error_x\":{\"color\":\"#2a3f5f\"},\"error_y\":{\"color\":\"#2a3f5f\"},\"marker\":{\"line\":{\"color\":\"#E5ECF6\",\"width\":0.5},\"pattern\":{\"fillmode\":\"overlay\",\"size\":10,\"solidity\":0.2}},\"type\":\"bar\"}],\"barpolar\":[{\"marker\":{\"line\":{\"color\":\"#E5ECF6\",\"width\":0.5},\"pattern\":{\"fillmode\":\"overlay\",\"size\":10,\"solidity\":0.2}},\"type\":\"barpolar\"}],\"carpet\":[{\"aaxis\":{\"endlinecolor\":\"#2a3f5f\",\"gridcolor\":\"white\",\"linecolor\":\"white\",\"minorgridcolor\":\"white\",\"startlinecolor\":\"#2a3f5f\"},\"baxis\":{\"endlinecolor\":\"#2a3f5f\",\"gridcolor\":\"white\",\"linecolor\":\"white\",\"minorgridcolor\":\"white\",\"startlinecolor\":\"#2a3f5f\"},\"type\":\"carpet\"}],\"choropleth\":[{\"colorbar\":{\"outlinewidth\":0,\"ticks\":\"\"},\"type\":\"choropleth\"}],\"contour\":[{\"colorbar\":{\"outlinewidth\":0,\"ticks\":\"\"},\"colorscale\":[[0.0,\"#0d0887\"],[0.1111111111111111,\"#46039f\"],[0.2222222222222222,\"#7201a8\"],[0.3333333333333333,\"#9c179e\"],[0.4444444444444444,\"#bd3786\"],[0.5555555555555556,\"#d8576b\"],[0.6666666666666666,\"#ed7953\"],[0.7777777777777778,\"#fb9f3a\"],[0.8888888888888888,\"#fdca26\"],[1.0,\"#f0f921\"]],\"type\":\"contour\"}],\"contourcarpet\":[{\"colorbar\":{\"outlinewidth\":0,\"ticks\":\"\"},\"type\":\"contourcarpet\"}],\"heatmap\":[{\"colorbar\":{\"outlinewidth\":0,\"ticks\":\"\"},\"colorscale\":[[0.0,\"#0d0887\"],[0.1111111111111111,\"#46039f\"],[0.2222222222222222,\"#7201a8\"],[0.3333333333333333,\"#9c179e\"],[0.4444444444444444,\"#bd3786\"],[0.5555555555555556,\"#d8576b\"],[0.6666666666666666,\"#ed7953\"],[0.7777777777777778,\"#fb9f3a\"],[0.8888888888888888,\"#fdca26\"],[1.0,\"#f0f921\"]],\"type\":\"heatmap\"}],\"heatmapgl\":[{\"colorbar\":{\"outlinewidth\":0,\"ticks\":\"\"},\"colorscale\":[[0.0,\"#0d0887\"],[0.1111111111111111,\"#46039f\"],[0.2222222222222222,\"#7201a8\"],[0.3333333333333333,\"#9c179e\"],[0.4444444444444444,\"#bd3786\"],[0.5555555555555556,\"#d8576b\"],[0.6666666666666666,\"#ed7953\"],[0.7777777777777778,\"#fb9f3a\"],[0.8888888888888888,\"#fdca26\"],[1.0,\"#f0f921\"]],\"type\":\"heatmapgl\"}],\"histogram\":[{\"marker\":{\"pattern\":{\"fillmode\":\"overlay\",\"size\":10,\"solidity\":0.2}},\"type\":\"histogram\"}],\"histogram2d\":[{\"colorbar\":{\"outlinewidth\":0,\"ticks\":\"\"},\"colorscale\":[[0.0,\"#0d0887\"],[0.1111111111111111,\"#46039f\"],[0.2222222222222222,\"#7201a8\"],[0.3333333333333333,\"#9c179e\"],[0.4444444444444444,\"#bd3786\"],[0.5555555555555556,\"#d8576b\"],[0.6666666666666666,\"#ed7953\"],[0.7777777777777778,\"#fb9f3a\"],[0.8888888888888888,\"#fdca26\"],[1.0,\"#f0f921\"]],\"type\":\"histogram2d\"}],\"histogram2dcontour\":[{\"colorbar\":{\"outlinewidth\":0,\"ticks\":\"\"},\"colorscale\":[[0.0,\"#0d0887\"],[0.1111111111111111,\"#46039f\"],[0.2222222222222222,\"#7201a8\"],[0.3333333333333333,\"#9c179e\"],[0.4444444444444444,\"#bd3786\"],[0.5555555555555556,\"#d8576b\"],[0.6666666666666666,\"#ed7953\"],[0.7777777777777778,\"#fb9f3a\"],[0.8888888888888888,\"#fdca26\"],[1.0,\"#f0f921\"]],\"type\":\"histogram2dcontour\"}],\"mesh3d\":[{\"colorbar\":{\"outlinewidth\":0,\"ticks\":\"\"},\"type\":\"mesh3d\"}],\"parcoords\":[{\"line\":{\"colorbar\":{\"outlinewidth\":0,\"ticks\":\"\"}},\"type\":\"parcoords\"}],\"pie\":[{\"automargin\":true,\"type\":\"pie\"}],\"scatter\":[{\"marker\":{\"colorbar\":{\"outlinewidth\":0,\"ticks\":\"\"}},\"type\":\"scatter\"}],\"scatter3d\":[{\"line\":{\"colorbar\":{\"outlinewidth\":0,\"ticks\":\"\"}},\"marker\":{\"colorbar\":{\"outlinewidth\":0,\"ticks\":\"\"}},\"type\":\"scatter3d\"}],\"scattercarpet\":[{\"marker\":{\"colorbar\":{\"outlinewidth\":0,\"ticks\":\"\"}},\"type\":\"scattercarpet\"}],\"scattergeo\":[{\"marker\":{\"colorbar\":{\"outlinewidth\":0,\"ticks\":\"\"}},\"type\":\"scattergeo\"}],\"scattergl\":[{\"marker\":{\"colorbar\":{\"outlinewidth\":0,\"ticks\":\"\"}},\"type\":\"scattergl\"}],\"scattermapbox\":[{\"marker\":{\"colorbar\":{\"outlinewidth\":0,\"ticks\":\"\"}},\"type\":\"scattermapbox\"}],\"scatterpolar\":[{\"marker\":{\"colorbar\":{\"outlinewidth\":0,\"ticks\":\"\"}},\"type\":\"scatterpolar\"}],\"scatterpolargl\":[{\"marker\":{\"colorbar\":{\"outlinewidth\":0,\"ticks\":\"\"}},\"type\":\"scatterpolargl\"}],\"scatterternary\":[{\"marker\":{\"colorbar\":{\"outlinewidth\":0,\"ticks\":\"\"}},\"type\":\"scatterternary\"}],\"surface\":[{\"colorbar\":{\"outlinewidth\":0,\"ticks\":\"\"},\"colorscale\":[[0.0,\"#0d0887\"],[0.1111111111111111,\"#46039f\"],[0.2222222222222222,\"#7201a8\"],[0.3333333333333333,\"#9c179e\"],[0.4444444444444444,\"#bd3786\"],[0.5555555555555556,\"#d8576b\"],[0.6666666666666666,\"#ed7953\"],[0.7777777777777778,\"#fb9f3a\"],[0.8888888888888888,\"#fdca26\"],[1.0,\"#f0f921\"]],\"type\":\"surface\"}],\"table\":[{\"cells\":{\"fill\":{\"color\":\"#EBF0F8\"},\"line\":{\"color\":\"white\"}},\"header\":{\"fill\":{\"color\":\"#C8D4E3\"},\"line\":{\"color\":\"white\"}},\"type\":\"table\"}]},\"layout\":{\"annotationdefaults\":{\"arrowcolor\":\"#2a3f5f\",\"arrowhead\":0,\"arrowwidth\":1},\"autotypenumbers\":\"strict\",\"coloraxis\":{\"colorbar\":{\"outlinewidth\":0,\"ticks\":\"\"}},\"colorscale\":{\"diverging\":[[0,\"#8e0152\"],[0.1,\"#c51b7d\"],[0.2,\"#de77ae\"],[0.3,\"#f1b6da\"],[0.4,\"#fde0ef\"],[0.5,\"#f7f7f7\"],[0.6,\"#e6f5d0\"],[0.7,\"#b8e186\"],[0.8,\"#7fbc41\"],[0.9,\"#4d9221\"],[1,\"#276419\"]],\"sequential\":[[0.0,\"#0d0887\"],[0.1111111111111111,\"#46039f\"],[0.2222222222222222,\"#7201a8\"],[0.3333333333333333,\"#9c179e\"],[0.4444444444444444,\"#bd3786\"],[0.5555555555555556,\"#d8576b\"],[0.6666666666666666,\"#ed7953\"],[0.7777777777777778,\"#fb9f3a\"],[0.8888888888888888,\"#fdca26\"],[1.0,\"#f0f921\"]],\"sequentialminus\":[[0.0,\"#0d0887\"],[0.1111111111111111,\"#46039f\"],[0.2222222222222222,\"#7201a8\"],[0.3333333333333333,\"#9c179e\"],[0.4444444444444444,\"#bd3786\"],[0.5555555555555556,\"#d8576b\"],[0.6666666666666666,\"#ed7953\"],[0.7777777777777778,\"#fb9f3a\"],[0.8888888888888888,\"#fdca26\"],[1.0,\"#f0f921\"]]},\"colorway\":[\"#636efa\",\"#EF553B\",\"#00cc96\",\"#ab63fa\",\"#FFA15A\",\"#19d3f3\",\"#FF6692\",\"#B6E880\",\"#FF97FF\",\"#FECB52\"],\"font\":{\"color\":\"#2a3f5f\"},\"geo\":{\"bgcolor\":\"white\",\"lakecolor\":\"white\",\"landcolor\":\"#E5ECF6\",\"showlakes\":true,\"showland\":true,\"subunitcolor\":\"white\"},\"hoverlabel\":{\"align\":\"left\"},\"hovermode\":\"closest\",\"mapbox\":{\"style\":\"light\"},\"paper_bgcolor\":\"white\",\"plot_bgcolor\":\"#E5ECF6\",\"polar\":{\"angularaxis\":{\"gridcolor\":\"white\",\"linecolor\":\"white\",\"ticks\":\"\"},\"bgcolor\":\"#E5ECF6\",\"radialaxis\":{\"gridcolor\":\"white\",\"linecolor\":\"white\",\"ticks\":\"\"}},\"scene\":{\"xaxis\":{\"backgroundcolor\":\"#E5ECF6\",\"gridcolor\":\"white\",\"gridwidth\":2,\"linecolor\":\"white\",\"showbackground\":true,\"ticks\":\"\",\"zerolinecolor\":\"white\"},\"yaxis\":{\"backgroundcolor\":\"#E5ECF6\",\"gridcolor\":\"white\",\"gridwidth\":2,\"linecolor\":\"white\",\"showbackground\":true,\"ticks\":\"\",\"zerolinecolor\":\"white\"},\"zaxis\":{\"backgroundcolor\":\"#E5ECF6\",\"gridcolor\":\"white\",\"gridwidth\":2,\"linecolor\":\"white\",\"showbackground\":true,\"ticks\":\"\",\"zerolinecolor\":\"white\"}},\"shapedefaults\":{\"line\":{\"color\":\"#2a3f5f\"}},\"ternary\":{\"aaxis\":{\"gridcolor\":\"white\",\"linecolor\":\"white\",\"ticks\":\"\"},\"baxis\":{\"gridcolor\":\"white\",\"linecolor\":\"white\",\"ticks\":\"\"},\"bgcolor\":\"#E5ECF6\",\"caxis\":{\"gridcolor\":\"white\",\"linecolor\":\"white\",\"ticks\":\"\"}},\"title\":{\"x\":0.05},\"xaxis\":{\"automargin\":true,\"gridcolor\":\"white\",\"linecolor\":\"white\",\"ticks\":\"\",\"title\":{\"standoff\":15},\"zerolinecolor\":\"white\",\"zerolinewidth\":2},\"yaxis\":{\"automargin\":true,\"gridcolor\":\"white\",\"linecolor\":\"white\",\"ticks\":\"\",\"title\":{\"standoff\":15},\"zerolinecolor\":\"white\",\"zerolinewidth\":2}}},\"xaxis\":{\"anchor\":\"y\",\"domain\":[0.0,0.98],\"title\":{\"text\":\"classifier\"}},\"yaxis\":{\"anchor\":\"x\",\"domain\":[0.0,0.485],\"title\":{\"text\":\"value\"}},\"xaxis2\":{\"anchor\":\"y2\",\"domain\":[0.0,0.98],\"matches\":\"x\",\"showticklabels\":false},\"yaxis2\":{\"anchor\":\"x2\",\"domain\":[0.515,1.0],\"matches\":\"y\",\"title\":{\"text\":\"value\"}},\"annotations\":[{\"font\":{},\"showarrow\":false,\"text\":\"metric=accuracy\",\"textangle\":90,\"x\":0.98,\"xanchor\":\"left\",\"xref\":\"paper\",\"y\":0.2425,\"yanchor\":\"middle\",\"yref\":\"paper\"},{\"font\":{},\"showarrow\":false,\"text\":\"metric=f1_score\",\"textangle\":90,\"x\":0.98,\"xanchor\":\"left\",\"xref\":\"paper\",\"y\":0.7575000000000001,\"yanchor\":\"middle\",\"yref\":\"paper\"}],\"legend\":{\"title\":{\"text\":\"type\"},\"tracegroupgap\":0},\"margin\":{\"t\":60},\"barmode\":\"group\"},                        {\"responsive\": true}                    ).then(function(){\n",
              "                            \n",
              "var gd = document.getElementById('21a92389-8cd7-41a4-b705-426e4c94fc3f');\n",
              "var x = new MutationObserver(function (mutations, observer) {{\n",
              "        var display = window.getComputedStyle(gd).display;\n",
              "        if (!display || display === 'none') {{\n",
              "            console.log([gd, 'removed!']);\n",
              "            Plotly.purge(gd);\n",
              "            observer.disconnect();\n",
              "        }}\n",
              "}});\n",
              "\n",
              "// Listen for the removal of the full notebook cells\n",
              "var notebookContainer = gd.closest('#notebook-container');\n",
              "if (notebookContainer) {{\n",
              "    x.observe(notebookContainer, {childList: true});\n",
              "}}\n",
              "\n",
              "// Listen for the clearing of the current output cell\n",
              "var outputEl = gd.closest('.output');\n",
              "if (outputEl) {{\n",
              "    x.observe(outputEl, {childList: true});\n",
              "}}\n",
              "\n",
              "                        })                };                            </script>        </div>\n",
              "</body>\n",
              "</html>"
            ]
          },
          "metadata": {}
        }
      ]
    },
    {
      "cell_type": "markdown",
      "source": [
        "We see that KNN performs the best. We could have explored several number of classes with hyperparameter-tuning and we would have found that there are three classes. We see that KNN outperforms RFC and GNB in terms of the f1-score and the accuracy on the test set."
      ],
      "metadata": {
        "id": "m5EQwLzlmOhn"
      }
    }
  ],
  "metadata": {
    "kernelspec": {
      "display_name": "Python 3",
      "language": "python",
      "name": "python3"
    },
    "language_info": {
      "codemirror_mode": {
        "name": "ipython",
        "version": 3
      },
      "file_extension": ".py",
      "mimetype": "text/x-python",
      "name": "python",
      "nbconvert_exporter": "python",
      "pygments_lexer": "ipython3",
      "version": "3.6.12"
    },
    "colab": {
      "provenance": []
    }
  },
  "nbformat": 4,
  "nbformat_minor": 0
}