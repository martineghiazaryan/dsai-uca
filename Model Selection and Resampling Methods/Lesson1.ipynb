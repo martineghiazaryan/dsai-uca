{
  "cells": [
    {
      "cell_type": "markdown",
      "metadata": {
        "id": "zyuAarbbXlBf"
      },
      "source": [
        "# Basic Probability Models and Sampling in Python\n",
        "\n",
        "This lesson introduces the basic concepts of sampling and computing with probability models in Python. \n",
        "\n",
        "Numpy provides a rich variety of functions and models that will help us in developing our computing tools.\n",
        "\n",
        "Let's start by generating samples from an univariate Gaussian distribution with given mean $\\mu$ and standard deviation $\\sigma$."
      ]
    },
    {
      "cell_type": "code",
      "execution_count": null,
      "metadata": {
        "id": "DlE_xlY1XlBo"
      },
      "outputs": [],
      "source": [
        "import numpy as np\n",
        "\n",
        "mu = 100\n",
        "\n",
        "sigma = 20\n",
        "\n",
        "samples = 300\n",
        "\n",
        "data = np.random.normal(mu, sigma, samples)"
      ]
    },
    {
      "cell_type": "markdown",
      "metadata": {
        "id": "g06ttilRXlBu"
      },
      "source": [
        "Having generated the sample, we can inspect the properties of the data to get more information about our distribution.\n",
        "\n",
        "The first question we would like to ask is what is the ratio of our data being greather than a certain value $L$. This can be approximated by counting: "
      ]
    },
    {
      "cell_type": "code",
      "execution_count": null,
      "metadata": {
        "id": "6rmiUfFDXlBw",
        "outputId": "30f60a2b-0f5d-44b4-d4da-5e677ac6d860"
      },
      "outputs": [
        {
          "name": "stdout",
          "output_type": "stream",
          "text": [
            "The ratio of values being greater than 120 is: p(x>120) = 0.17333333333333334\n"
          ]
        }
      ],
      "source": [
        "L = 120\n",
        "prob = float(np.sum(data>120))/samples\n",
        "\n",
        "print(\"The ratio of values being greater than \" + str(L) + \" is: p(x>\"+str(L)+\") = \" + str(prob))"
      ]
    },
    {
      "cell_type": "markdown",
      "metadata": {
        "id": "FiOIJ-LkXlBz"
      },
      "source": [
        "Similarly, we can compute the ratio of samples $L_1<x<L_2$:"
      ]
    },
    {
      "cell_type": "code",
      "execution_count": null,
      "metadata": {
        "id": "VCGcAnSiXlB0",
        "outputId": "57e10152-6bc6-41ac-93ce-0d5e6a1a38ef"
      },
      "outputs": [
        {
          "name": "stdout",
          "output_type": "stream",
          "text": [
            "The ratio is: p(100<x<120) = 0.32666666666666666\n"
          ]
        }
      ],
      "source": [
        "L1 = 100\n",
        "L2 = 120\n",
        "\n",
        "prob = float(np.sum((data>100) & (data<120)))/samples\n",
        "\n",
        "print(\"The ratio is: p(\"+str(L1)+\"<x<\"+str(L2)+\") = \" + str(prob))"
      ]
    },
    {
      "cell_type": "markdown",
      "metadata": {
        "id": "ojbyXIDPXlB1"
      },
      "source": [
        "Summary statistics can be simply computed as:"
      ]
    },
    {
      "cell_type": "code",
      "execution_count": null,
      "metadata": {
        "id": "w60cAC49XlB2",
        "outputId": "125a830e-d3a7-49ce-8b4f-8aca050ebea7"
      },
      "outputs": [
        {
          "name": "stdout",
          "output_type": "stream",
          "text": [
            "Sample mean: 100.0578911251579\n",
            "Sample std: 20.39320528020427\n",
            "\n",
            "Numpy functions: \n",
            "mean: 100.0578911251579 - std: 20.39320528020427\n"
          ]
        }
      ],
      "source": [
        "mean = np.sum(data)/samples\n",
        "std = np.sqrt(np.sum((data-mean)**2)/samples)\n",
        "\n",
        "print(\"Sample mean: \" + str(mean) + \"\\nSample std: \" + str(std))\n",
        "\n",
        "print(\"\\nNumpy functions: \\n\" + \"mean: \" + str(np.mean(data)) + \" - std: \"+ str(np.std(data)))"
      ]
    },
    {
      "cell_type": "markdown",
      "metadata": {
        "id": "zGcWaAHdXlB2"
      },
      "source": [
        "$\\mathbf{Exercise:}$ Compute the median of the sample."
      ]
    },
    {
      "cell_type": "markdown",
      "metadata": {
        "id": "_N-atgbdXlB3"
      },
      "source": [
        "An important way of visualizing a distribution is through an histogram plot. A histogram plot is created by discretizing the domain of the distribution in a certain number of bins, and by computing the number of realization of the distribution falling within each bin. "
      ]
    },
    {
      "cell_type": "code",
      "execution_count": null,
      "metadata": {
        "id": "BosEAk6zXlB3",
        "outputId": "171e65e3-9961-433a-989d-2f7ef2487417"
      },
      "outputs": [
        {
          "name": "stdout",
          "output_type": "stream",
          "text": [
            "100.0216261833154 100.0216261833154\n"
          ]
        }
      ],
      "source": [
        "sorted_data = np.sort(data)\n",
        "\n",
        "position1 = int(300/2)\n",
        "position2 = position1 - 1\n",
        "median = (sorted_data[position1] + sorted_data[position2])/2\n",
        "\n",
        "print(median, np.median(data))"
      ]
    },
    {
      "cell_type": "code",
      "execution_count": null,
      "metadata": {
        "id": "eXmqRgpyXlB4",
        "outputId": "7be78eef-08da-49e3-c4f6-c7c559cdd4d7"
      },
      "outputs": [
        {
          "name": "stdout",
          "output_type": "stream",
          "text": [
            "\n",
            " Histogram computation\n",
            "[ 42.9529014   53.61681374  64.28072607  74.94463841  85.60855075\n",
            "  96.27246308 106.93637542 117.60028775 128.26420009 138.92811242\n",
            " 149.59202476] [ 3 11 23 34 49 64 51 39 19  7]\n",
            "\n",
            " Handmade histogram plot:\n",
            "\n",
            "48.284858 +++\n",
            "58.948770 +++++++++++\n",
            "69.612682 +++++++++++++++++++++++\n",
            "80.276595 ++++++++++++++++++++++++++++++++++\n",
            "90.940507 +++++++++++++++++++++++++++++++++++++++++++++++++\n",
            "101.604419 ++++++++++++++++++++++++++++++++++++++++++++++++++++++++++++++++\n",
            "112.268332 +++++++++++++++++++++++++++++++++++++++++++++++++++\n",
            "122.932244 +++++++++++++++++++++++++++++++++++++++\n",
            "133.596156 +++++++++++++++++++\n",
            "144.260069 +++++++\n",
            "\n",
            " Numpy default histogram\n",
            "[ 42.9529014   53.61681374  64.28072607  74.94463841  85.60855075\n",
            "  96.27246308 106.93637542 117.60028775 128.26420009 138.92811242\n",
            " 149.59202476] [ 3 11 23 34 49 64 51 39 19  7]\n"
          ]
        }
      ],
      "source": [
        "first_edge, last_edge = data.min(), data.max()\n",
        "n_equal_bins = 10\n",
        "bin_edges = np.linspace(start=first_edge, stop=last_edge,num=n_equal_bins + 1, endpoint=True)\n",
        "\n",
        "# All but the last (righthand-most) bin is half-open.\n",
        "bin_height = []\n",
        "for i in range(len(bin_edges)-2):\n",
        "    bin_height.append(np.sum((data>=bin_edges[i]) & (data<bin_edges[i+1])))\n",
        "    \n",
        "# The last bin is closed on the right\n",
        "bin_height.append(np.sum((data>=bin_edges[i+1]) & (data<=bin_edges[i+2])))\n",
        "\n",
        "bin_height = np.array(bin_height)\n",
        "print('\\n Histogram computation')\n",
        "print(bin_edges, bin_height)\n",
        "\n",
        "# Handmade histogram\n",
        "print('\\n Handmade histogram plot:\\n')\n",
        "\n",
        "bin_centers = np.diff(bin_edges)/2 + bin_edges[:-1]\n",
        "\n",
        "for i in range(n_equal_bins):\n",
        "    print('{0:1f} {1}'.format(bin_centers[i], '+' * bin_height[i]))\n",
        "\n",
        "# The same histogram can be obtained with numpy\n",
        "np_bin_height,np_bin_edges = np.histogram(data)\n",
        "\n",
        "print('\\n Numpy default histogram')\n",
        "print(np_bin_edges, np_bin_height)\n"
      ]
    },
    {
      "cell_type": "code",
      "execution_count": null,
      "metadata": {
        "id": "p5V89XMvXlB4",
        "outputId": "59bbe52d-8368-4b97-d420-a1948e2bea82"
      },
      "outputs": [
        {
          "name": "stdout",
          "output_type": "stream",
          "text": [
            "The sum of the bin heights in the normalized histogram is: 1.0000000000000004\n"
          ]
        },
        {
          "data": {
            "image/png": "[encoded data removed]",
            "text/plain": [
              "<Figure size 1080x360 with 2 Axes>"
            ]
          },
          "metadata": {
            "needs_background": "light"
          },
          "output_type": "display_data"
        }
      ],
      "source": [
        "import matplotlib.pyplot as plt\n",
        "\n",
        "plt.figure(figsize=(15,5))\n",
        "plt.subplot(1, 2, 1)\n",
        "\n",
        "n, bins, patches = plt.hist(x=data, bins=10, color='#0504aa',\n",
        "                            alpha=0.7, rwidth=0.85)\n",
        "\n",
        "plt.grid(axis='y', alpha=0.75)\n",
        "plt.xlabel('Value')\n",
        "plt.ylabel('Frequency')\n",
        "plt.title('Matplotlib histogram')\n",
        "plt.text(140, 45, r'$mu=' + str(mu) + ', \\nsigma= ' + str(sigma) +' $')\n",
        "maxfreq = n.max()\n",
        "\n",
        "# Set a clean upper y-axis limit.\n",
        "plt.ylim(ymax=np.ceil(maxfreq / 10) * 10 if maxfreq % 10 else maxfreq + 10)\n",
        "\n",
        "plt.subplot(1, 2, 2)\n",
        "n, bins, patches = plt.hist(x=data, density = True, bins=10, color='#0504aa',\n",
        "                            alpha=0.7, rwidth=0.85)\n",
        "\n",
        "plt.grid(axis='y', alpha=0.75)\n",
        "plt.xlabel('Value')\n",
        "plt.ylabel('Frequency')\n",
        "plt.title('Matplotlib normalized histogram')\n",
        "plt.text(140, 0.006, r'mu=' + str(mu) + ', \\nsigma= ' + str(sigma) +' $')\n",
        "maxfreq = n.max()\n",
        "plt.ylim(ymax=maxfreq + 0.0005)\n",
        "\n",
        "bin_size = bins[1]-bins[0]\n",
        "\n",
        "print(\"The sum of the bin heights in the normalized histogram is: \" + str(np.sum(n*bin_size)))"
      ]
    },
    {
      "cell_type": "markdown",
      "metadata": {
        "id": "k_jEmRdoXlB5"
      },
      "source": [
        "The probability density function (PDF) $f(x)$ of a random variable is a function quantifying the density of the variable at each point $x$ of the domain. By integrating the PDF, $\\int_{a}^b f(t)\\, dt$, we quantify the probability of the random variable falling within a particular range of values. \n",
        "In our case, when dealing with discrete samples of a variable, a discrete approximation of the PDF is provided by the normalization histogram. The PDF is equivalent to a continuous representation of the histogram, and can be estimated through interpolation."
      ]
    },
    {
      "cell_type": "code",
      "execution_count": null,
      "metadata": {
        "id": "k_5hN6cSXlB5",
        "outputId": "01c95da6-1508-4175-a8d1-f6915131038d"
      },
      "outputs": [
        {
          "data": {
            "image/png": "[encoded data removed]",
            "text/plain": [
              "<Figure size 1080x360 with 2 Axes>"
            ]
          },
          "metadata": {
            "needs_background": "light"
          },
          "output_type": "display_data"
        }
      ],
      "source": [
        "from scipy import stats\n",
        "\n",
        "fine_range = np.linspace(10,180,200)\n",
        "\n",
        "plt.figure(figsize=(15,5))\n",
        "\n",
        "plt.subplot(1, 2, 1)\n",
        "interpolated = np.interp(fine_range,bins[1:],n)\n",
        "plt.plot(fine_range, interpolated)\n",
        "plt.xlabel('Value')\n",
        "plt.ylabel('Frequency')\n",
        "plt.title('PDF through linear interpolation')\n",
        "\n",
        "plt.subplot(1, 2, 2)\n",
        "gkde = stats.gaussian_kde(dataset = data)\n",
        "plt.plot(fine_range, gkde.evaluate(fine_range))\n",
        "plt.title('PDF through kernel density estimator')\n",
        "\n",
        "plt.show()"
      ]
    },
    {
      "cell_type": "markdown",
      "metadata": {
        "id": "UhqP4KYGXlB6"
      },
      "source": [
        "$\\mathbf{Exercise:}$ Plot the cumulative density function (CDF) of the sample. The CDF of $f(x)$ is defined as $F(x) = \\int_{-\\infty}^x f(t)\\, dt$. In our discrete setting, the integral will be approximated by a sum."
      ]
    },
    {
      "cell_type": "code",
      "execution_count": null,
      "metadata": {
        "id": "GCI6ZkMSXlB7",
        "outputId": "b59b3a44-233c-4283-f302-dc921d813955"
      },
      "outputs": [
        {
          "data": {
            "text/plain": [
              "[<matplotlib.lines.Line2D at 0x1a62b4895e0>]"
            ]
          },
          "execution_count": 11,
          "metadata": {},
          "output_type": "execute_result"
        },
        {
          "data": {
            "image/png": "[encoded data removed]",
            "text/plain": [
              "<Figure size 432x288 with 1 Axes>"
            ]
          },
          "metadata": {
            "needs_background": "light"
          },
          "output_type": "display_data"
        }
      ],
      "source": [
        "pdf = gkde.evaluate(fine_range)\n",
        "cdf = np.cumsum(pdf)\n",
        "plt.plot(fine_range, cdf)"
      ]
    },
    {
      "cell_type": "markdown",
      "metadata": {
        "id": "XECkVo2RXlB7"
      },
      "source": [
        "## Sampling in Python\n",
        "\n",
        "As we have seen, sampling is a fundamental operation at the basis of a great number of procedures in computer science.\n",
        "In this section we will discover useful functionalities that will allow us to control sampling operations on numerical objects. \n",
        "\n",
        "The first important point is the concept of $seed$: a computer program can generate does provide pseudo-random numbers, that are generated starting from an initial value called, indeed, seed. Let's see how this work in practice:\n"
      ]
    },
    {
      "cell_type": "code",
      "execution_count": null,
      "metadata": {
        "id": "mAzT_f30XlB8",
        "outputId": "10d35227-7f97-4259-8bc7-68709781a7d0"
      },
      "outputs": [
        {
          "name": "stdout",
          "output_type": "stream",
          "text": [
            "Ten numbers sampled from the seed 123: \n",
            "[0.69646919 0.28613933 0.22685145 0.55131477 0.71946897 0.42310646\n",
            " 0.9807642  0.68482974 0.4809319  0.39211752]\n",
            "Ten numbers sampled from the seed 321: \n",
            "[0.88594794 0.07791236 0.97964616 0.24767146 0.75288472 0.52667564\n",
            " 0.90755375 0.8840703  0.08926896 0.5173446 ]\n",
            "Ten numbers sampled again from the seed 123: \n",
            "[0.69646919 0.28613933 0.22685145 0.55131477 0.71946897 0.42310646\n",
            " 0.9807642  0.68482974 0.4809319  0.39211752]\n"
          ]
        }
      ],
      "source": [
        "# Setting the seed\n",
        "np.random.seed(123)\n",
        "\n",
        "# Computing random numbers\n",
        "print(\"Ten numbers sampled from the seed 123: \\n\" + str(np.random.random(10)))\n",
        "\n",
        "# Changing the seed\n",
        "np.random.seed(321)\n",
        "print(\"Ten numbers sampled from the seed 321: \\n\" + str(np.random.random(10)))\n",
        "\n",
        "#Back to the initial seed\n",
        "np.random.seed(123)\n",
        "print(\"Ten numbers sampled again from the seed 123: \\n\" + str(np.random.random(10)))"
      ]
    },
    {
      "cell_type": "markdown",
      "metadata": {
        "id": "RiHboEePXlB9"
      },
      "source": [
        "The concept of seed is very important for reproducibility across different experiments. Every time we set the same seed we ensure to reproduce the same set of (pseudo-)random numbers.\n",
        "\n",
        "In addition to sampling from a theoretical distribution, such as normal or uniform, we can sample from a given array of values. This operation sets the basis of the resampling methods that we will see in the future lessons."
      ]
    },
    {
      "cell_type": "code",
      "execution_count": null,
      "metadata": {
        "id": "prv8mzXhXlB9",
        "outputId": "bc8a7fdf-f297-441b-d441-6c0c4744f5a5"
      },
      "outputs": [
        {
          "name": "stdout",
          "output_type": "stream",
          "text": [
            "Here is a randomly generated sequence of 20 integers: \n",
            "[ 9 36 15  0 49 28 25 29 48 29 49  8  9  0 42 40 36 16 36 47]\n",
            "Here we selected only 5 elements of the sequence: \n",
            "[ 8  8 36 48 49]\n"
          ]
        }
      ],
      "source": [
        "np.random.seed(10)\n",
        "\n",
        "int_array = np.random.randint(0,50,20)\n",
        "\n",
        "print(\"Here is a randomly generated sequence of 20 integers: \\n\" + str(int_array))\n",
        "\n",
        "selected = np.random.choice(int_array,5)\n",
        "\n",
        "print(\"Here we selected only 5 elements of the sequence: \\n\" + str(selected))"
      ]
    },
    {
      "cell_type": "markdown",
      "metadata": {
        "id": "2ada5ZMgXlB-"
      },
      "source": [
        "We notice however that  the number 8 was selected twice. If we want to ensure that each element is sampled only once, we need to set the option `replace=False`."
      ]
    },
    {
      "cell_type": "code",
      "execution_count": null,
      "metadata": {
        "id": "9-uZ8T7DXlB-",
        "outputId": "d8f1b4e6-438f-4cfc-81fc-f6f03608b024"
      },
      "outputs": [
        {
          "name": "stdout",
          "output_type": "stream",
          "text": [
            "Here we selected 5 elements without replacement: \n",
            "[49  8 48 29  9]\n"
          ]
        }
      ],
      "source": [
        "selected = np.random.choice(int_array,5,replace=False)\n",
        "\n",
        "print(\"Here we selected 5 elements without replacement: \\n\" + str(selected))"
      ]
    },
    {
      "cell_type": "markdown",
      "metadata": {
        "id": "AupyfgWPXlB_"
      },
      "source": [
        "The same procedure can be applied for sampling for more complex objects, such as multidimensional arrays (tensors):"
      ]
    },
    {
      "cell_type": "code",
      "execution_count": null,
      "metadata": {
        "colab": {
          "base_uri": "https://localhost:8080/"
        },
        "id": "2B7hUCHcXlB_",
        "outputId": "caa5b9fe-7e9a-4e7a-c02a-905626e3ac19"
      },
      "outputs": [
        {
          "output_type": "stream",
          "name": "stdout",
          "text": [
            "[[8 3 0 7 4 2 1 5 0 4 4 8]\n",
            " [7 4 0 2 4 8 4 5 4 4 5 0]\n",
            " [1 3 2 1 4 3 3 3 9 6 6 8]\n",
            " [5 4 1 8 3 3 8 6 7 2 6 7]\n",
            " [9 8 7 0 6 8 0 9 1 6 0 2]\n",
            " [2 7 2 1 1 2 7 9 3 0 5 1]\n",
            " [5 2 3 0 3 3 7 4 7 5 8 2]\n",
            " [8 7 4 1 3 6 3 2 0 6 8 3]]\n"
          ]
        }
      ],
      "source": [
        "array2d = np.random.randint(0, 10, (8, 12))\n",
        "print(array2d)"
      ]
    },
    {
      "cell_type": "code",
      "execution_count": null,
      "metadata": {
        "colab": {
          "base_uri": "https://localhost:8080/"
        },
        "id": "C-PDoE3zXlCA",
        "outputId": "f156699b-98e2-4deb-9709-fcaa0b6e1675"
      },
      "outputs": [
        {
          "output_type": "stream",
          "name": "stdout",
          "text": [
            "8\n",
            "[0 3 2 1]\n",
            "[0 1 2 3 4 5 6 7]\n",
            "[3 2 6 5]\n"
          ]
        }
      ],
      "source": [
        "print(array2d.shape[0])\n",
        "print(np.random.choice(8, 4, replace=False))\n",
        "\n",
        "line_count = np.arange(8)\n",
        "print(line_count)\n",
        "\n",
        "print(np.random.choice(line_count, 4, replace=False))"
      ]
    },
    {
      "cell_type": "code",
      "execution_count": null,
      "metadata": {
        "colab": {
          "base_uri": "https://localhost:8080/"
        },
        "id": "ARF2kvenXlCB",
        "outputId": "86932468-feb4-4b28-8d39-b83d6831bda2"
      },
      "outputs": [
        {
          "output_type": "stream",
          "name": "stdout",
          "text": [
            "[1 3 5 0]\n",
            "Four randomly sampled rows in array2d: \n",
            "[[7 4 0 2 4 8 4 5 4 4 5 0]\n",
            " [5 4 1 8 3 3 8 6 7 2 6 7]\n",
            " [2 7 2 1 1 2 7 9 3 0 5 1]\n",
            " [8 3 0 7 4 2 1 5 0 4 4 8]]\n",
            "Four randomly sampled columns in array2d: \n",
            "[[0 4 1 0]\n",
            " [0 4 4 0]\n",
            " [2 4 3 2]\n",
            " [1 3 8 1]\n",
            " [7 6 0 7]\n",
            " [2 1 7 2]\n",
            " [3 3 7 3]\n",
            " [4 3 3 4]]\n"
          ]
        }
      ],
      "source": [
        "#Here we sample 4 rows\n",
        "idx = np.random.choice(array2d.shape[0], 4)\n",
        "print(str(idx))\n",
        "print(\"Four randomly sampled rows in array2d: \\n\" + str(array2d[idx, :]))\n",
        "\n",
        "#Here we sample 4 columns\n",
        "idx = np.random.choice(array2d.shape[1], 4)\n",
        "print(\"Four randomly sampled columns in array2d: \\n\" + str(array2d[:, idx]))\n"
      ]
    },
    {
      "cell_type": "markdown",
      "metadata": {
        "id": "CyOZ7xmEXlCC"
      },
      "source": [
        "We can also randomly reshuffle the elements of an array. Be careful, the command `np.random.shuffle` reshuffles the elements along the first axis only. By default, the reshuffling is performed in place:"
      ]
    },
    {
      "cell_type": "code",
      "execution_count": null,
      "metadata": {
        "id": "SY11-_eCXlCC",
        "outputId": "ce55b57c-05f8-4b14-ed5e-0b18bb8ebd68"
      },
      "outputs": [
        {
          "name": "stdout",
          "output_type": "stream",
          "text": [
            "[[8 9 2 0 6 7 8 1 7 1 4 0]\n",
            " [8 5 4 7 8 8 2 6 2 8 8 6]\n",
            " [6 5 6 0 0 6 9 1 8 9 1 2]\n",
            " [8 9 9 5 0 2 7 3 0 4 2 0]\n",
            " [3 3 1 2 5 9 0 1 0 1 9 0]\n",
            " [9 2 1 1 0 0 5 9 0 4 6 6]\n",
            " [0 2 3 3 2 6 0 5 1 3 6 5]\n",
            " [5 1 8 0 5 9 8 5 7 8 5 8]]\n",
            "Reshuffled array2d across rows: \n",
            "[[9 2 1 1 0 0 5 9 0 4 6 6]\n",
            " [6 5 6 0 0 6 9 1 8 9 1 2]\n",
            " [0 2 3 3 2 6 0 5 1 3 6 5]\n",
            " [5 1 8 0 5 9 8 5 7 8 5 8]\n",
            " [3 3 1 2 5 9 0 1 0 1 9 0]\n",
            " [8 5 4 7 8 8 2 6 2 8 8 6]\n",
            " [8 9 9 5 0 2 7 3 0 4 2 0]\n",
            " [8 9 2 0 6 7 8 1 7 1 4 0]]\n"
          ]
        }
      ],
      "source": [
        "print(array2d)\n",
        "\n",
        "np.random.shuffle(array2d)\n",
        "\n",
        "print(\"Reshuffled array2d across rows: \\n\" + str(array2d))\n"
      ]
    },
    {
      "cell_type": "markdown",
      "metadata": {
        "id": "xc9Z_FT0XlCD"
      },
      "source": [
        "$\\mathbf{Exercise.}$ How would you reshuffle array2d across columns?\n",
        "\n",
        "$\\mathbf{Exercise.}$ Write your own reshuffling routine."
      ]
    },
    {
      "cell_type": "code",
      "execution_count": null,
      "metadata": {
        "id": "qWyosB_MXlCD",
        "outputId": "5fdaa0d9-7b85-43ff-aad6-2294e6aa2fc3"
      },
      "outputs": [
        {
          "name": "stdout",
          "output_type": "stream",
          "text": [
            "[[0 6 4 1 6 1 0 5 9 2 9 0]\n",
            " [8 1 9 6 2 0 0 9 6 5 1 6]\n",
            " [1 6 3 3 5 3 2 0 0 2 5 6]\n",
            " [7 5 8 8 8 0 5 8 5 1 5 9]\n",
            " [0 9 1 1 0 2 5 0 3 3 1 9]\n",
            " [2 8 8 4 6 7 8 2 8 5 6 8]\n",
            " [0 2 4 9 0 5 0 7 8 9 3 2]\n",
            " [7 4 1 2 0 0 6 8 8 9 1 7]]\n"
          ]
        }
      ],
      "source": [
        "arraytr = array2d.transpose()\n",
        "np.random.shuffle(arraytr)\n",
        "\n",
        "print(arraytr.transpose())"
      ]
    },
    {
      "cell_type": "markdown",
      "metadata": {
        "id": "gnsCWK6PXlCE"
      },
      "source": [
        "## In-depth: how random variables can be generated by a computer program\n",
        "\n",
        "$\\textit{Anyone who considers arithmetical methods of producing random digits is, of course, in a state of sin.}$ (John von Neumann)\n",
        "\n",
        "Generation or simulation of random numbers, using deterministic algorithms, is widely used by statisticians for several purposes. A large number of (pseudo-)random number generators have been studied in the past, starting from very long time ago:\n",
        "\n",
        "``Brother Edvin (a monk), sometime between 1240 and 1250 AD, was preparing a case for the sainthood of King Olaf Haraldsson, who had been the King of Norway. There was a well documented story (that could still be false) that King Olaf and the King of Sweden needed to determine which country owned the Island the Hising. They agreed to determine this by chance. They were using normal 6-sided dice. The King of Sweden rolled two dice and got a 12. Then King Olaf rolled and got a 12 AND one of the dice broke (hence the name of the book) and he got an additional 1 for a 13. Some attributed this event to divine intervention, which strengthened his case for sainthood.’’ (https://blog.computationalcomplexity.org)\n",
        "\n",
        "According to the story, this even motivated Brother Edvin in thinking of an algorithm to generate random numbers in a way that nobody can manipulate them. A very similar algorithm was reproposed by von Neumann in 1946 for creating the so-called middle-square method.  \n",
        "\n",
        "Many mehtods have been proposed since them, and an overview is for example provided in wikipedia:  (https://en.wikipedia.org/wiki/List_of_random_number_generators).\n",
        "\n",
        "In this section we will assume that we can indeed generate random numbers uniformly distributed in the interval $[0,1]$. This actually corresponds to sampling from the uniform distribution $\\mathbf{U}(0,1)$. \n",
        "\n",
        "\n",
        "For the sake of illustration, we will focus on classical examples on the generation of samples from standard distributions, such as Exponential and Gaussian ones. In particular, in what follows we are going to illustrate some classical simulation techniques and of the underlying rationale."
      ]
    },
    {
      "cell_type": "markdown",
      "metadata": {
        "id": "2ShV47wTXlCE"
      },
      "source": [
        "## Exponential \n",
        "\n",
        "The key property that can be used to sample from the exponential distribution is that the cumulative density function (CDF) $F(X)$ of a random variable $X$ is uniformely distributed $[0,1]$. Therefore, by applying the inverse CDF $F^{-1}$ to our uniform samples we can obtain data with the same distribution of $X$.\n",
        "\n",
        "\n",
        "For the exponential distribution, we can use this property to lead to a very simple generator. Since the probability density function of the exponential distribution is:\n",
        "\n",
        "$$f(x) = \\lambda\\exp(-\\lambda x)$$\n",
        "\n",
        "it follows that the CDF of the exponential with parameter $\\lambda$ is:\n",
        "\n",
        "$$F(x) =  1-\\exp(-\\lambda x).$$\n",
        "\n",
        "The inverse of $F$ can be easily derived:\n",
        "\n",
        "$$F^{-1}(p) = -\\frac{\\log(1 - p)}{\\lambda}.$$\n",
        "\n",
        "Let's verify this empirically:"
      ]
    },
    {
      "cell_type": "code",
      "execution_count": null,
      "metadata": {
        "id": "2IjaWz8eXlCF",
        "outputId": "61e3092b-5b15-429e-8839-ea58213a0cd9"
      },
      "outputs": [
        {
          "data": {
            "image/png": "[encoded data removed]",
            "text/plain": [
              "<Figure size 432x288 with 1 Axes>"
            ]
          },
          "metadata": {
            "needs_background": "light"
          },
          "output_type": "display_data"
        }
      ],
      "source": [
        "l = 1\n",
        "\n",
        "unif_sample = np.random.uniform(0,1,1000)\n",
        "exp_sample = -np.log(1-unif_sample)/l\n",
        "plt.hist(exp_sample, histtype='step', bins=100, density=True, linewidth=2, label = 'random generated data')\n",
        "\n",
        "def exp_pdf(x,l):\n",
        "    return l*np.exp(-x*l)\n",
        "\n",
        "x = np.linspace(0,10)\n",
        "plt.plot(x, exp_pdf(x,l), linewidth=2, label = 'Exponential PDF')\n",
        "plt.legend()\n",
        "plt.title('Generating Exponentially distributed samples')\n",
        "plt.show()\n",
        "\n",
        "\n"
      ]
    },
    {
      "cell_type": "markdown",
      "metadata": {
        "id": "Y1XQQxyaXlCF"
      },
      "source": [
        "## Gaussian\n",
        "\n"
      ]
    },
    {
      "cell_type": "markdown",
      "metadata": {
        "id": "xYGBZCLKXlCF"
      },
      "source": [
        "For the Gaussian case, sampling through the coomputation of the inverse CDF is more complicated, as the inverse of the Gaussian CDF cannot be written in closed form. We can however rely on the several available approximations, such as the one provided by H. Shore in 1982:\n",
        "\n",
        "$$F^{-1}(p) \\simeq 5.5556\\left[ 1- \\left(\\frac{1-p}{p}\\right)^{0.1186}\\right], \\qquad p\\geq0.5$$\n",
        "$$F^{-1}(p) \\simeq -5.5556\\left[ 1- \\left(\\frac{p}{1-p}\\right)^{0.1186}\\right], \\qquad p<0.5$$\n",
        "\n",
        "\n",
        "\n",
        "\n",
        "[Haim Shore. Simple Approximations for the Inverse Cumulative Function, the Density Function and the Loss Integral of the Normal Distribution. Journal of the Royal Statistical Society. Series C (Applied Statistics)\n",
        "Vol. 31, No. 2 (1982), pp. 108-114] "
      ]
    },
    {
      "cell_type": "code",
      "execution_count": null,
      "metadata": {
        "id": "uy1ccQXhXlCG",
        "outputId": "cf91085e-d92a-4ef9-b7ff-81591b80c9ab"
      },
      "outputs": [
        {
          "data": {
            "image/png": "[encoded data removed]",
            "text/plain": [
              "<Figure size 432x288 with 1 Axes>"
            ]
          },
          "metadata": {
            "needs_background": "light"
          },
          "output_type": "display_data"
        }
      ],
      "source": [
        "unif_sample = np.random.uniform(0.5,1,1000)\n",
        "\n",
        "def inv_norm_cdf(x):\n",
        "    a = x[:int(len(x)/2)]\n",
        "    b = x[int(len(x)/2):]\n",
        "    z_top = 5.5556 * (1 - np.power((1-a)/a,0.1186))\n",
        "    z_bottom = -5.5556 * (1 - np.power((1-b)/b,0.1186))\n",
        "    return np.hstack([z_top,z_bottom])\n",
        "\n",
        "\n",
        "normal_sample = inv_norm_cdf(unif_sample)\n",
        "\n",
        "plt.hist(normal_sample, histtype='step', bins=100, density=True, linewidth=2, label = 'random generated data')\n",
        "\n",
        "\n",
        "def normal_pdf(x):    \n",
        "    return 1/np.sqrt(2*np.pi)*np.exp(-x**2/2)\n",
        "\n",
        "x = np.linspace(-5,5)\n",
        "plt.plot(x, normal_pdf(x), linewidth=2, label = 'Normal PDF')\n",
        "plt.legend()\n",
        "plt.title('Generating Normal distributed samples')\n",
        "\n",
        "plt.show()\n"
      ]
    },
    {
      "cell_type": "markdown",
      "metadata": {
        "id": "-sShXjLuXlCG"
      },
      "source": [
        "Sampling can be also obtained by leveraging on other properties of probability models. For example, the central limit theorem states that, for independent and identically distributed random variables $X_1, \\ldots, X_n$ with mean $\\mu$ and variance $\\sigma^2$, their average $S_n = \\frac{X_1 + \\ldots + X_n}{n}$ converges in distribution to the Gaussian according to the following relationhsip:  \n",
        "\n",
        "$$ \\sqrt{n}(S_n - \\mu) \\rightarrow \\mathcal{N}(0,\\sigma^2)$$\n",
        "\n",
        "We can use this relationship to generate standard Gaussian sample from a independent samples from a uniform distribution $\\mathbf{U}(0,1)$. Let $X_1, \\ldots, X_{12}$ be 12 iid samples from $\\mathbf{U}(0,1)$, and $S_{12} = \\frac{X_1 + \\ldots + X_{12}}{12}$. We know that the mean of $\\mathbf{U}(0,1)$ is $\\mu = \\frac{1}{2}$, while the variance is $\\frac{1}{12}$. Therefore, the above relationship writes as:\n",
        "\n",
        "$$ \\sqrt{12}(S_{12} - \\frac{1}{2}) \\rightarrow \\mathcal{N}(0,\\frac{1}{12})$$\n",
        "\n",
        "Thanks to the multiplicative property of the variance of the Gaussian distribution, by multiplying both sides by $\\sqrt{12}$ we obtain:\n",
        "\n",
        "$$ (12 \\cdot S_{12} - 6) \\rightarrow \\mathcal{N}(0,1) \\\\\n",
        "(X_1 + \\ldots + X_{12} - 6) \\rightarrow \\mathcal{N}(0,1) $$\n",
        "\n",
        "This gives us an interesting way to generate Gaussian distributed data from 12 Uniform samples.\n"
      ]
    },
    {
      "cell_type": "code",
      "execution_count": null,
      "metadata": {
        "colab": {
          "base_uri": "https://localhost:8080/"
        },
        "id": "YXB97z_EXlCG",
        "outputId": "ac255a4a-1612-42a6-855c-55dd42a51000"
      },
      "outputs": [
        {
          "output_type": "stream",
          "name": "stdout",
          "text": [
            "12\n",
            "1000\n"
          ]
        }
      ],
      "source": [
        "unif_sample = [ np.random.uniform(0,1,1000) for i in range(12)]\n",
        "\n",
        "print(len(unif_sample))\n",
        "print(len(unif_sample[0]))"
      ]
    },
    {
      "cell_type": "code",
      "execution_count": null,
      "metadata": {
        "id": "lVVrHsT0XlCH",
        "outputId": "a455927c-89a9-4b88-a8c6-9a523e031d27"
      },
      "outputs": [
        {
          "data": {
            "image/png": "[encoded data removed]",
            "text/plain": [
              "<Figure size 432x288 with 1 Axes>"
            ]
          },
          "metadata": {
            "needs_background": "light"
          },
          "output_type": "display_data"
        }
      ],
      "source": [
        "unif_sample = [ np.random.uniform(0,1,1000) for i in range(12)]\n",
        "\n",
        "normal_sample2 = (np.sum(unif_sample,) - 6)\n",
        "\n",
        "plt.hist(normal_sample2, histtype='step', bins=100, density=True, linewidth=2, label = 'random generated data')\n",
        "\n",
        "\n",
        "plt.plot(x, normal_pdf(x), linewidth=2, label = 'Normal PDF')\n",
        "\n",
        "plt.legend()\n",
        "plt.title('Generating normally distributed samples')\n",
        "\n",
        "plt.show()\n"
      ]
    },
    {
      "cell_type": "markdown",
      "metadata": {
        "id": "8BqXFUadXlCH"
      },
      "source": [
        "A last general approach consists in the so-called Rejection Sampling procedure. We assume that the PDF $f(x)$ can be computed in closed form. The procedure is as follows:\n",
        "\n",
        "- we identify the max of the PDF: $f_{max}$,\n",
        "- for each data point $x$ we generate random samples uniformly distributed $\\mathbf{U}(0,f_{max})$, \n",
        "- we then record the number of random samples with value lower than $f(x)$, the actual PDF at x.\n",
        "\n",
        "We end up with an histogram associating to each point $x$ the number of elements with relative likelihood approximating $f(x)$.\n"
      ]
    },
    {
      "cell_type": "code",
      "execution_count": null,
      "metadata": {
        "id": "DfAAm9GHXlCI",
        "outputId": "c7df7139-9b92-4eba-f385-62d2fd668213"
      },
      "outputs": [
        {
          "data": {
            "image/png": "[encoded data removed]",
            "text/plain": [
              "<Figure size 432x288 with 1 Axes>"
            ]
          },
          "metadata": {
            "needs_background": "light"
          },
          "output_type": "display_data"
        }
      ],
      "source": [
        "u = np.random.uniform(-5, 5, 1000) \n",
        "\n",
        "r = np.random.uniform(0, normal_pdf(0), 1000)\n",
        "\n",
        "v = u[r < normal_pdf(u)]\n",
        "\n",
        "plt.hist(v, histtype='step', bins=100, density=True, linewidth=2, label = 'random generated data')\n",
        "plt.plot(x, normal_pdf(x), linewidth=2, label = 'Normal PDF')\n",
        "\n",
        "plt.legend()\n",
        "plt.title('Generating Normal distributed samples')\n",
        "\n",
        "plt.show()\n",
        "\n",
        "\n"
      ]
    },
    {
      "cell_type": "code",
      "execution_count": null,
      "metadata": {
        "id": "0YwMetnnXlCI",
        "outputId": "650d5f50-0d06-4375-baac-555db648247d"
      },
      "outputs": [
        {
          "data": {
            "image/png": "[encoded data removed]",
            "text/plain": [
              "<Figure size 432x288 with 1 Axes>"
            ]
          },
          "metadata": {
            "needs_background": "light"
          },
          "output_type": "display_data"
        }
      ],
      "source": [
        "u = np.random.uniform(0, 10, 10000)\n",
        "r = np.random.uniform(0, l, 10000)\n",
        "\n",
        "v = u[r<exp_pdf(u,l)]\n",
        "\n",
        "plt.hist(v, histtype='step', bins=100, density=True, linewidth=2, label = 'random generated data')\n",
        "x = np.linspace(0,10)\n",
        "plt.plot(x, exp_pdf(x,l), linewidth=2, label = 'Exponential PDF')\n",
        "\n",
        "\n",
        "plt.show()"
      ]
    },
    {
      "cell_type": "code",
      "execution_count": null,
      "metadata": {
        "collapsed": true,
        "id": "konP3l5VXlCJ"
      },
      "outputs": [],
      "source": []
    },
    {
      "cell_type": "code",
      "execution_count": null,
      "metadata": {
        "collapsed": true,
        "id": "1GuDb0DSXlCJ"
      },
      "outputs": [],
      "source": []
    }
  ],
  "metadata": {
    "anaconda-cloud": {},
    "kernelspec": {
      "display_name": "Python 3",
      "language": "python",
      "name": "python3"
    },
    "language_info": {
      "codemirror_mode": {
        "name": "ipython",
        "version": 3
      },
      "file_extension": ".py",
      "mimetype": "text/x-python",
      "name": "python",
      "nbconvert_exporter": "python",
      "pygments_lexer": "ipython3",
      "version": "3.8.5"
    },
    "colab": {
      "provenance": []
    }
  },
  "nbformat": 4,
  "nbformat_minor": 0
}