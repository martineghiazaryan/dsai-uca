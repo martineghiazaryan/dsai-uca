{
 "cells": [
  {
   "cell_type": "markdown",
   "id": "0c4f2ed1",
   "metadata": {},
   "source": [
    "# Implementation of neural network from scratch\n",
    "\n",
    "NN  (Neural Network) in a machine learning algorithm that is inspired by the way the human brain works. NN is mainly used as a classification algorithm. In this article, we will look at the stepwise approach on how to implement the basic NN algorithm in NumPy(Python library) from scratch. \n",
    "\n",
    "We are going to build a three-letter(A, B, C) classifier, for simplicity we are going to create the letters (A, B, C) as NumPy array of 0s and 1s, also we are going to ignore the bias term related with each node. \n",
    "\n",
    "![image](https://media.geeksforgeeks.org/wp-content/uploads/20200526155612/neuron.jpg)"
   ]
  },
  {
   "cell_type": "code",
   "execution_count": 1,
   "id": "f6abcd06",
   "metadata": {
    "ExecuteTime": {
     "end_time": "2023-01-12T09:11:36.392349Z",
     "start_time": "2023-01-12T09:11:36.389568Z"
    }
   },
   "outputs": [],
   "source": [
    "import numpy as np\n",
    "import matplotlib.pyplot as plt"
   ]
  },
  {
   "cell_type": "markdown",
   "id": "f0baa1cd",
   "metadata": {},
   "source": [
    "## The dataset "
   ]
  },
  {
   "cell_type": "code",
   "execution_count": 2,
   "id": "abe7c94e",
   "metadata": {
    "ExecuteTime": {
     "end_time": "2023-01-12T09:11:37.642972Z",
     "start_time": "2023-01-12T09:11:37.634995Z"
    }
   },
   "outputs": [],
   "source": [
    "# Creating data set\n",
    " \n",
    "# A\n",
    "a =np.array([0, 0, 1, 1, 0, 0,\n",
    "   0, 1, 0, 0, 1, 0,\n",
    "   1, 1, 1, 1, 1, 1,\n",
    "   1, 0, 0, 0, 0, 1,\n",
    "   1, 0, 0, 0, 0, 1])\n",
    "# B\n",
    "b =np.array([0, 1, 1, 1, 1, 0,\n",
    "   0, 1, 0, 0, 1, 0,\n",
    "   0, 1, 1, 1, 1, 0,\n",
    "   0, 1, 0, 0, 1, 0,\n",
    "   0, 1, 1, 1, 1, 0])\n",
    "# C\n",
    "c =np.array([0, 1, 1, 1, 1, 0,\n",
    "   0, 1, 0, 0, 0, 0,\n",
    "   0, 1, 0, 0, 0, 0,\n",
    "   0, 1, 0, 0, 0, 0,\n",
    "   0, 1, 1, 1, 1, 0])\n",
    "# D\n",
    "d =np.array([0, 1, 1, 1, 1, 0,\n",
    "   0, 1, 0, 0, 0, 1,\n",
    "   0, 1, 0, 0, 0, 1,\n",
    "   0, 1, 0, 0, 0, 1,\n",
    "   0, 1, 1, 1, 1, 0])\n",
    "\n",
    "X = np.array([a, b, c])\n",
    " \n",
    "# Creating labels\n",
    "Y =np.array([[1, 0, 0],\n",
    "    [0, 1, 0],\n",
    "    [0, 0, 1]])"
   ]
  },
  {
   "cell_type": "code",
   "execution_count": 3,
   "id": "3fffd177",
   "metadata": {
    "ExecuteTime": {
     "end_time": "2023-01-12T09:11:44.204805Z",
     "start_time": "2023-01-12T09:11:44.199330Z"
    }
   },
   "outputs": [
    {
     "data": {
      "text/plain": [
       "((3, 30), (3, 3))"
      ]
     },
     "execution_count": 3,
     "metadata": {},
     "output_type": "execute_result"
    }
   ],
   "source": [
    "X.shape, Y.shape"
   ]
  },
  {
   "cell_type": "code",
   "execution_count": 4,
   "id": "35b0f741",
   "metadata": {
    "ExecuteTime": {
     "end_time": "2023-01-12T09:11:45.359225Z",
     "start_time": "2023-01-12T09:11:45.037204Z"
    }
   },
   "outputs": [
    {
     "data": {
      "image/png": "[encoded data removed]",
      "text/plain": [
       "<Figure size 1296x360 with 3 Axes>"
      ]
     },
     "metadata": {
      "needs_background": "light"
     },
     "output_type": "display_data"
    }
   ],
   "source": [
    "fig, ax = plt.subplots(nrows=1, ncols=len(X), figsize=(18, 5))\n",
    "for i, img in enumerate(X):\n",
    "    ax[i].imshow(img.reshape(5, 6))\n",
    "plt.show()"
   ]
  },
  {
   "cell_type": "markdown",
   "id": "11d00ba7",
   "metadata": {},
   "source": [
    "## Step 1 : Network architecture\n",
    "\n",
    "The definition of the architecture includes deciding the number of layers and the number of nodes in each layer. Our neural network is going to have the following structure.\n",
    "\n",
    "![archi](https://media.geeksforgeeks.org/wp-content/uploads/20200522110034/NURELNETWORK.jpg)"
   ]
  },
  {
   "cell_type": "code",
   "execution_count": 7,
   "id": "c41be5ca",
   "metadata": {
    "ExecuteTime": {
     "end_time": "2023-01-12T09:16:00.942026Z",
     "start_time": "2023-01-12T09:16:00.938980Z"
    }
   },
   "outputs": [],
   "source": [
    "NN_ARCHITECTURE = [\n",
    "    {\"input_dim\": X.shape[1], \"output_dim\": 5, \"activation\": \"sigmoid\"},\n",
    "    {\"input_dim\": 5, \"output_dim\": 3, \"activation\": \"softmax\"},\n",
    "]"
   ]
  },
  {
   "cell_type": "code",
   "execution_count": 8,
   "id": "ed93e73a",
   "metadata": {
    "ExecuteTime": {
     "end_time": "2023-01-12T09:16:01.517738Z",
     "start_time": "2023-01-12T09:16:01.514142Z"
    }
   },
   "outputs": [],
   "source": [
    "\"\"\" A more simpler architecture \"\"\"\n",
    "NN_ARCHITECTURE = [\n",
    "    {\"input_dim\": X.shape[1], \"output_dim\": Y.shape[1], \"activation\": \"softmax\"},\n",
    "]"
   ]
  },
  {
   "cell_type": "code",
   "execution_count": 9,
   "id": "c8dd483c",
   "metadata": {
    "ExecuteTime": {
     "end_time": "2023-01-12T09:16:01.878916Z",
     "start_time": "2023-01-12T09:16:01.874317Z"
    }
   },
   "outputs": [
    {
     "data": {
      "text/plain": [
       "[{'input_dim': 30, 'output_dim': 3, 'activation': 'softmax'}]"
      ]
     },
     "execution_count": 9,
     "metadata": {},
     "output_type": "execute_result"
    }
   ],
   "source": [
    "NN_ARCHITECTURE"
   ]
  },
  {
   "cell_type": "markdown",
   "id": "e9f3a3af",
   "metadata": {},
   "source": [
    "## Step 2 : Network initialisation"
   ]
  },
  {
   "cell_type": "code",
   "execution_count": 10,
   "id": "5408dde9",
   "metadata": {
    "ExecuteTime": {
     "end_time": "2023-01-12T09:17:15.762043Z",
     "start_time": "2023-01-12T09:17:15.753578Z"
    }
   },
   "outputs": [
    {
     "name": "stdout",
     "output_type": "stream",
     "text": [
      "W1 : (30, 3)\n"
     ]
    }
   ],
   "source": [
    "def init_layers(nn_architecture):\n",
    "    # random seed initiation\n",
    "    np.random.seed(1960)\n",
    "    # number of layers in our neural network\n",
    "    number_of_layers = len(nn_architecture)\n",
    "    # parameters storage initiation\n",
    "    params_values = {}\n",
    "    \n",
    "    # iteration over network layers\n",
    "    for idx, layer in enumerate(nn_architecture):\n",
    "        # we number network layers from 1\n",
    "        layer_idx = idx + 1\n",
    "        \n",
    "        # extracting the number of units in layers\n",
    "        layer_input_size = layer[\"input_dim\"]\n",
    "        layer_output_size = layer[\"output_dim\"]\n",
    "        \n",
    "        # initiating the values of the W matrix\n",
    "        # and vector b for subsequent layers\n",
    "        params_values['W' + str(layer_idx)] = np.random.randn(\n",
    "            layer_input_size, layer_output_size) * 0.2\n",
    "        params_values['b' + str(layer_idx)] = np.random.randn(\n",
    "            1, layer_output_size) * 0.2\n",
    "        \n",
    "    return params_values\n",
    "    \n",
    "params_values = init_layers(NN_ARCHITECTURE)\n",
    "for layers in params_values.keys():\n",
    "    if layers[0]==\"W\":\n",
    "        print(layers, \":\", params_values[layers].shape)"
   ]
  },
  {
   "cell_type": "markdown",
   "id": "226118c4",
   "metadata": {
    "ExecuteTime": {
     "end_time": "2022-12-16T09:13:36.525794Z",
     "start_time": "2022-12-16T09:13:36.519906Z"
    }
   },
   "source": [
    "#### Definition of th activation function\n",
    "\n",
    "Activation functions give neural networks the non-linearity and therefore the expressiveness they need.\n",
    "\n",
    "In this project, the choice was made to offer only two of them:\n",
    "\n",
    "* Sigmoid: $f(x)=\\frac{1}{1+e^{-x}}$\n",
    "\n",
    "* Sigmoid dérivative: $f'(x) = f(x)\\cdot(1-f(x))$\n",
    "\n",
    "* ReLU: $f(x) = \\begin{cases}\n",
    "0 \\text{ if } x \\leq 0 \\\\ \n",
    "x \\text{ if } x > 0 \n",
    "\\end{cases}$\n",
    "\n",
    "* Relu dérivative: $f'(x) = \\begin{cases}\n",
    "0 \\text{ if } x \\leq 0 \\\\ \n",
    "1 \\text{ if } x > 0 \n",
    "\\end{cases}$\n",
    "\n",
    "We must also prepare their derivatives."
   ]
  },
  {
   "cell_type": "code",
   "execution_count": 11,
   "id": "5d623ed0",
   "metadata": {
    "ExecuteTime": {
     "end_time": "2023-01-12T09:18:58.101637Z",
     "start_time": "2023-01-12T09:18:58.097440Z"
    },
    "code_folding": []
   },
   "outputs": [],
   "source": [
    "# activation function\n",
    "def sigmoid(Z):\n",
    "    return 1/(1+np.exp(-Z))\n",
    "\n",
    "def tanh(Z):\n",
    "    a = np.exp(Z)\n",
    "    b = np.exp(-Z)\n",
    "    return (a-b)/(a+b)\n",
    "\n",
    "def relu(Z):\n",
    "    return np.maximum(0,Z)\n",
    "\n",
    "def linear(Z):\n",
    "    return Z"
   ]
  },
  {
   "cell_type": "code",
   "execution_count": 12,
   "id": "60c2a329",
   "metadata": {
    "ExecuteTime": {
     "end_time": "2023-01-12T09:18:58.656778Z",
     "start_time": "2023-01-12T09:18:58.653028Z"
    }
   },
   "outputs": [],
   "source": [
    "# Convert the network output into probability\n",
    "# From: https://eli.thegreenplace.net/2016/the-softmax-function-and-its-derivative/\n",
    "def softmax(Z):\n",
    "    shiftx = Z - np.max(Z)\n",
    "    exps = np.exp(shiftx)\n",
    "    return exps / np.sum(exps)"
   ]
  },
  {
   "cell_type": "code",
   "execution_count": 13,
   "id": "7ce5d9b3",
   "metadata": {
    "ExecuteTime": {
     "end_time": "2023-01-12T09:18:59.226322Z",
     "start_time": "2023-01-12T09:18:59.220341Z"
    },
    "code_folding": []
   },
   "outputs": [],
   "source": [
    "# derivative of activation function (one point)\n",
    "def sigmoid_prime(Z):\n",
    "    sig = sigmoid(Z)\n",
    "    sig = sig * (1 - sig)\n",
    "    return sig\n",
    "\n",
    "def tanh_prime(Z):\n",
    "    return 1 - np.power(tanh(Z), 2)\n",
    "\n",
    "def relu_prime(Z):\n",
    "    dZ = np.ones_like(Z)\n",
    "    dZ[Z <= 0] = 0\n",
    "    return dZ\n",
    "\n",
    "def linear_prime(Z):\n",
    "    return np.ones_like(Z)"
   ]
  },
  {
   "cell_type": "code",
   "execution_count": 14,
   "id": "d94558d7",
   "metadata": {
    "ExecuteTime": {
     "end_time": "2023-01-12T09:19:01.427710Z",
     "start_time": "2023-01-12T09:19:00.965664Z"
    }
   },
   "outputs": [
    {
     "data": {
      "image/png": "[encoded data removed]",
      "text/plain": [
       "<Figure size 1296x360 with 4 Axes>"
      ]
     },
     "metadata": {
      "needs_background": "light"
     },
     "output_type": "display_data"
    }
   ],
   "source": [
    "# Data for plotting\n",
    "t = np.arange(-5.0, 5.0, 0.01).reshape((-1,1))\n",
    "\n",
    "functions = {'sigmoid':sigmoid, 'tanh':tanh, 'relu':relu, 'linear':linear}\n",
    "functions_prime = {'sigmoid':sigmoid_prime, 'tanh':tanh_prime, 'relu':relu_prime, 'linear':linear_prime}\n",
    "\n",
    "fig, ax = plt.subplots(nrows=1, ncols=len(functions), figsize=(18, 5))\n",
    "\n",
    "for i, (f, fP) in enumerate(zip(functions, functions_prime)):\n",
    "    ax[i].plot(t, functions[f](t), label=\"f(z)\")\n",
    "    ax[i].plot(t, functions_prime[fP](t), label=\"f'(z)\")\n",
    "    ax[i].set_title(f)\n",
    "    ax[i].legend()"
   ]
  },
  {
   "cell_type": "markdown",
   "id": "6bf5f69f",
   "metadata": {},
   "source": [
    "## Forward pass (one layer)\n",
    "\n",
    "Given the input signal of the previous layer, we calculate the transformation refines Z: $$\\boldsymbol{Z}^{[l]} = \\boldsymbol{W}^{[l]} \\cdot \\boldsymbol{A}^{[l-1]} + \\boldsymbol{b}^{[l]}$$\n",
    "\n",
    "and then apply the selected activation function: $$\\boldsymbol{A}^{[l]} = g^{[l]}(\\boldsymbol{Z}^{[l]})$$\n",
    "\n",
    "In addition to the calculated matrix A, the function also returns an intermediate value of Z. We will need Z during the backward phase."
   ]
  },
  {
   "cell_type": "code",
   "execution_count": 15,
   "id": "037831df",
   "metadata": {
    "ExecuteTime": {
     "end_time": "2023-01-12T09:25:19.202615Z",
     "start_time": "2023-01-12T09:25:19.194634Z"
    }
   },
   "outputs": [],
   "source": [
    "def single_layer_forward_propagation(A_prev, W_curr, b_curr, activation):\n",
    "    # calculation of the input value for the activation function\n",
    "    #print(\"dot(A_prev, W_curr) + b_curr\", A_prev.shape, W_curr.shape, b_curr.shape)\n",
    "    Z_curr = np.dot(A_prev, W_curr) + b_curr\n",
    "    \n",
    "    # selection of activation function\n",
    "    if activation == \"linear\":\n",
    "        activation_func = linear\n",
    "    elif activation == \"relu\":\n",
    "        activation_func = relu\n",
    "    elif activation == \"sigmoid\":\n",
    "        activation_func = sigmoid\n",
    "    elif activation == \"tanh\":\n",
    "        activation_func = tanh\n",
    "    elif activation == \"softmax\":\n",
    "        activation_func = softmax\n",
    "    else:\n",
    "        raise Exception('Non-supported activation function: '+activation)\n",
    "        \n",
    "    # return of calculated activation A and the intermediate Z matrix\n",
    "    return activation_func(Z_curr), Z_curr"
   ]
  },
  {
   "cell_type": "code",
   "execution_count": 16,
   "id": "2e10490a",
   "metadata": {
    "ExecuteTime": {
     "end_time": "2023-01-12T09:25:20.260165Z",
     "start_time": "2023-01-12T09:25:20.252582Z"
    }
   },
   "outputs": [
    {
     "data": {
      "text/plain": [
       "((1, 3), array([0.69827823, 0.18411572, 0.11760605]))"
      ]
     },
     "execution_count": 16,
     "metadata": {},
     "output_type": "execute_result"
    }
   ],
   "source": [
    "# Apply one forward pass for one observation\n",
    "params_values = init_layers(NN_ARCHITECTURE)\n",
    "Y_pred, memory = single_layer_forward_propagation(np.array([X[0]]),\n",
    "                                                  params_values['W1'], params_values['b1'],\n",
    "                                                  NN_ARCHITECTURE[0]['activation'])\n",
    "Y_pred.shape, Y_pred[0]"
   ]
  },
  {
   "cell_type": "code",
   "execution_count": 17,
   "id": "4c80ca01",
   "metadata": {
    "ExecuteTime": {
     "end_time": "2023-01-12T09:25:20.862584Z",
     "start_time": "2023-01-12T09:25:20.856707Z"
    }
   },
   "outputs": [
    {
     "data": {
      "text/plain": [
       "((3, 3),\n",
       " array([[0.32418661, 0.08547861, 0.05460045],\n",
       "        [0.13498648, 0.05031936, 0.13552082],\n",
       "        [0.08994354, 0.06496233, 0.06000179]]))"
      ]
     },
     "execution_count": 17,
     "metadata": {},
     "output_type": "execute_result"
    }
   ],
   "source": [
    "# Apply one forward pass for all observations\n",
    "params_values = init_layers(NN_ARCHITECTURE)\n",
    "Y_pred, memory = single_layer_forward_propagation(X,\n",
    "                                                  params_values['W1'], params_values['b1'],\n",
    "                                                  NN_ARCHITECTURE[0]['activation'])\n",
    "Y_pred.shape, Y_pred"
   ]
  },
  {
   "cell_type": "code",
   "execution_count": 18,
   "id": "fc28ba00",
   "metadata": {
    "ExecuteTime": {
     "end_time": "2023-01-12T09:25:34.603424Z",
     "start_time": "2023-01-12T09:25:34.598829Z"
    }
   },
   "outputs": [
    {
     "data": {
      "text/plain": [
       "array([0, 2, 0])"
      ]
     },
     "execution_count": 18,
     "metadata": {},
     "output_type": "execute_result"
    }
   ],
   "source": [
    "# Predict classes\n",
    "np.argmax(Y_pred, axis=-1)"
   ]
  },
  {
   "cell_type": "markdown",
   "id": "2070e115",
   "metadata": {},
   "source": [
    "## Full forward propagation\n",
    "\n",
    "Using the previous function, it is easy to build the transfer function.\n",
    "\n",
    "As before, it returns not only the expected prediction but also all the intermediate values that will be used during the backward phase."
   ]
  },
  {
   "cell_type": "code",
   "execution_count": 19,
   "id": "33c5231b",
   "metadata": {
    "ExecuteTime": {
     "end_time": "2023-01-12T09:26:03.752869Z",
     "start_time": "2023-01-12T09:26:03.748035Z"
    }
   },
   "outputs": [],
   "source": [
    "def full_forward_propagation(X, params_values, nn_architecture):\n",
    "    # creating a temporary memory to store the information needed for a backward step\n",
    "    memory = {}\n",
    "    # X vector is the activation for layer 0 \n",
    "    A_curr = X\n",
    "    \n",
    "    # iteration over network layers\n",
    "    for idx, layer in enumerate(nn_architecture):\n",
    "        # we number network layers from 1\n",
    "        layer_idx = idx + 1\n",
    "        # transfer the activation from the previous iteration\n",
    "        A_prev = A_curr\n",
    "        \n",
    "        # extraction of the activation function for the current layer\n",
    "        activ_function_curr = layer[\"activation\"]\n",
    "        # extraction of W for the current layer\n",
    "        W_curr = params_values[\"W\" + str(layer_idx)]\n",
    "        # extraction of b for the current layer\n",
    "        b_curr = params_values[\"b\" + str(layer_idx)]\n",
    "        # calculation of activation for the current layer\n",
    "        A_curr, Z_curr = single_layer_forward_propagation(A_prev, W_curr, b_curr, activ_function_curr)\n",
    "        \n",
    "        # saving calculated values in the memory\n",
    "        memory[\"A\" + str(idx)] = A_prev\n",
    "        memory[\"Z\" + str(layer_idx)] = Z_curr\n",
    "       \n",
    "    # return of prediction vector and a dictionary containing intermediate values\n",
    "    return A_curr, memory"
   ]
  },
  {
   "cell_type": "code",
   "execution_count": 20,
   "id": "24854780",
   "metadata": {
    "ExecuteTime": {
     "end_time": "2023-01-12T09:26:04.355377Z",
     "start_time": "2023-01-12T09:26:04.349059Z"
    }
   },
   "outputs": [
    {
     "data": {
      "text/plain": [
       "((1, 3), array([0.69827823, 0.18411572, 0.11760605]))"
      ]
     },
     "execution_count": 20,
     "metadata": {},
     "output_type": "execute_result"
    }
   ],
   "source": [
    "# Apply one forward pass for one observation\n",
    "params_values = init_layers(NN_ARCHITECTURE)\n",
    "Y_pred, memory = full_forward_propagation(np.array([X[0]]), params_values, NN_ARCHITECTURE)\n",
    "Y_pred.shape, Y_pred[0]"
   ]
  },
  {
   "cell_type": "code",
   "execution_count": 21,
   "id": "02c82b5b",
   "metadata": {
    "ExecuteTime": {
     "end_time": "2023-01-12T09:26:05.573602Z",
     "start_time": "2023-01-12T09:26:05.566042Z"
    }
   },
   "outputs": [
    {
     "data": {
      "text/plain": [
       "((3, 3),\n",
       " array([[0.32418661, 0.08547861, 0.05460045],\n",
       "        [0.13498648, 0.05031936, 0.13552082],\n",
       "        [0.08994354, 0.06496233, 0.06000179]]))"
      ]
     },
     "execution_count": 21,
     "metadata": {},
     "output_type": "execute_result"
    }
   ],
   "source": [
    "# Apply one forward pass for all observations\n",
    "params_values = init_layers(NN_ARCHITECTURE)\n",
    "Y_pred, memory = full_forward_propagation(X, params_values, NN_ARCHITECTURE)\n",
    "Y_pred.shape, Y_pred"
   ]
  },
  {
   "cell_type": "code",
   "execution_count": 22,
   "id": "2afb698a",
   "metadata": {
    "ExecuteTime": {
     "end_time": "2023-01-12T09:26:07.144506Z",
     "start_time": "2023-01-12T09:26:07.139803Z"
    }
   },
   "outputs": [
    {
     "data": {
      "text/plain": [
       "array([0, 2, 0])"
      ]
     },
     "execution_count": 22,
     "metadata": {},
     "output_type": "execute_result"
    }
   ],
   "source": [
    "# Predict classes\n",
    "np.argmax(Y_pred, axis=-1)"
   ]
  },
  {
   "cell_type": "markdown",
   "id": "265f6402",
   "metadata": {},
   "source": [
    "## Evaluate the error\n",
    "\n",
    "* Binary Cross Entropy: $L(\\hat{y}, y)=-y log(\\hat{y})-(1-y)log(1-\\hat{y})$\n",
    "    * Derivative: $\\frac{\\partial L}{\\partial a}=-\\frac{y}{\\hat{y}}+\\frac{(1-y)}{(1-\\hat{y})}$\n",
    "\n",
    "    \n",
    "* Categorical Cross Entropy: $L(\\hat{y}, y)=-\\sum_{i=1}^{nb\\_classes}y_i log(\\hat{y_i})$\n",
    "    * Derivative: $\\frac{\\partial L_i}{\\partial a_k}= \\left\\{\n",
    "    \\begin{array}{ll}\n",
    "    \\frac{1}{\\hat{y_i}} & \\mbox{if } i==k \\\\\n",
    "    0 & \\mbox{else.}\n",
    "    \\end{array}\n",
    "    \\right.$\n",
    "      "
   ]
  },
  {
   "cell_type": "code",
   "execution_count": 23,
   "id": "b080e5d3",
   "metadata": {
    "ExecuteTime": {
     "end_time": "2023-01-12T09:26:55.422299Z",
     "start_time": "2023-01-12T09:26:55.418816Z"
    }
   },
   "outputs": [],
   "source": [
    "def BinaryCrossEntropy(Y_pred, Y_true):\n",
    "    assert Y_true.shape[1]==1 and list(np.unique(Y_true))==[0,1], \"not binary labels\"\n",
    "    return -np.mean(Y_true * np.log(Y_pred+10**-100) + (1-Y_true) * np.log(1-Y_pred+10**-100))"
   ]
  },
  {
   "cell_type": "code",
   "execution_count": 24,
   "id": "ebe22dc7",
   "metadata": {
    "ExecuteTime": {
     "end_time": "2023-01-12T09:26:55.901324Z",
     "start_time": "2023-01-12T09:26:55.897936Z"
    }
   },
   "outputs": [],
   "source": [
    "def BinaryCrossEntropy_prime(Y_pred, Y_true):\n",
    "    return -(np.divide(Y_true, Y_pred)-np.divide(1-Y_true, 1-Y_pred));"
   ]
  },
  {
   "cell_type": "code",
   "execution_count": 25,
   "id": "ef1b7638",
   "metadata": {
    "ExecuteTime": {
     "end_time": "2023-01-12T09:26:57.496625Z",
     "start_time": "2023-01-12T09:26:57.492966Z"
    }
   },
   "outputs": [],
   "source": [
    "def CategoricalCrossEntropy(Y_pred, Y_true):\n",
    "    assert Y_true.shape[1]>1 and list(np.unique(Y_true))==[0,1], \"not multiple one hot encode labels\"\n",
    "    return -np.sum(Y_true * np.log(Y_pred+10**-100))/len(Y_pred)"
   ]
  },
  {
   "cell_type": "code",
   "execution_count": 26,
   "id": "c543e802",
   "metadata": {
    "ExecuteTime": {
     "end_time": "2023-01-12T09:26:58.195766Z",
     "start_time": "2023-01-12T09:26:58.189608Z"
    }
   },
   "outputs": [
    {
     "data": {
      "text/plain": [
       "2.3097273810531243"
      ]
     },
     "execution_count": 26,
     "metadata": {},
     "output_type": "execute_result"
    }
   ],
   "source": [
    "CategoricalCrossEntropy(Y_pred, Y)"
   ]
  },
  {
   "cell_type": "code",
   "execution_count": 27,
   "id": "df3474f7",
   "metadata": {
    "ExecuteTime": {
     "end_time": "2023-01-12T09:27:03.167673Z",
     "start_time": "2023-01-12T09:27:03.163840Z"
    }
   },
   "outputs": [],
   "source": [
    "def CategoricalCrossEntropy_prime(Y_pred, Y_true):\n",
    "    \"\"\"\n",
    "    gradient = Y_pred\n",
    "    #gradient[range(len(Y_pred)), Y_true] -= 1\n",
    "    for i in range(Y_true.shape[0]):\n",
    "        for j in range(Y_true.shape[1]):\n",
    "            if Y_true[i,j]==1:\n",
    "                gradient[i,j] -= 1\n",
    "    \"\"\"\n",
    "    gradient = np.zeros_like(Y_pred)\n",
    "    for i in range(Y_true.shape[0]):\n",
    "        for j in range(Y_true.shape[1]):\n",
    "            if Y_true[i,j]==1:\n",
    "                gradient[i,j] = 1/(Y_pred[i,j]+10**-100)\n",
    "    return -gradient/len(Y_pred)"
   ]
  },
  {
   "cell_type": "code",
   "execution_count": 28,
   "id": "bd552f58",
   "metadata": {
    "ExecuteTime": {
     "end_time": "2023-01-12T09:27:09.026221Z",
     "start_time": "2023-01-12T09:27:09.021455Z"
    }
   },
   "outputs": [
    {
     "data": {
      "text/plain": [
       "array([[-1.02821437, -0.        , -0.        ],\n",
       "       [-0.        , -6.62435517, -0.        ],\n",
       "       [-0.        , -0.        , -5.55538966]])"
      ]
     },
     "execution_count": 28,
     "metadata": {},
     "output_type": "execute_result"
    }
   ],
   "source": [
    "CategoricalCrossEntropy_prime(Y_pred, Y)"
   ]
  },
  {
   "cell_type": "code",
   "execution_count": 29,
   "id": "ef21566b",
   "metadata": {
    "ExecuteTime": {
     "end_time": "2023-01-12T09:27:10.529049Z",
     "start_time": "2023-01-12T09:27:10.524038Z"
    }
   },
   "outputs": [],
   "source": [
    "def loss(name):\n",
    "    if name==\"binary_crossentropy\":\n",
    "        return BinaryCrossEntropy\n",
    "    elif name==\"categorical_crossentropy\":\n",
    "        return CategoricalCrossEntropy\n",
    "    else:\n",
    "        raise Exception('Non-supported loss function: '+name)"
   ]
  },
  {
   "cell_type": "markdown",
   "id": "8088a128",
   "metadata": {
    "ExecuteTime": {
     "end_time": "2022-12-19T08:18:48.102913Z",
     "start_time": "2022-12-19T08:18:48.100378Z"
    }
   },
   "source": [
    "## Evaluate the prediction"
   ]
  },
  {
   "cell_type": "code",
   "execution_count": 30,
   "id": "f874e93a",
   "metadata": {
    "ExecuteTime": {
     "end_time": "2023-01-12T09:27:37.510157Z",
     "start_time": "2023-01-12T09:27:37.503439Z"
    }
   },
   "outputs": [],
   "source": [
    "def accuracy(Y_pred, Y_true):\n",
    "    assert Y_pred.shape==Y_true.shape\n",
    "    if Y_true.shape[1]==1:        # Binary labels\n",
    "        Y_pred = Y_pred[:,0]>0.5\n",
    "        Y_true = Y_true[:,0]==1\n",
    "    else:                         # Multiple one hot encode labels\n",
    "        Y_pred = softmax(Y_pred)\n",
    "        Y_pred = np.argmax(Y_pred, axis=-1)\n",
    "        Y_true = np.argmax(Y_true, axis=-1)\n",
    "    return (Y_pred == Y_true).mean()"
   ]
  },
  {
   "cell_type": "code",
   "execution_count": 31,
   "id": "bb24d8bd",
   "metadata": {
    "ExecuteTime": {
     "end_time": "2023-01-12T09:27:38.022255Z",
     "start_time": "2023-01-12T09:27:38.019143Z"
    }
   },
   "outputs": [],
   "source": [
    "def metric(name):\n",
    "    if name==\"accuracy\":\n",
    "        return accuracy\n",
    "    else:\n",
    "        raise Exception('Non-supported metric function: '+name)"
   ]
  },
  {
   "cell_type": "code",
   "execution_count": 32,
   "id": "51e8e0a8",
   "metadata": {
    "ExecuteTime": {
     "end_time": "2023-01-12T09:27:38.549890Z",
     "start_time": "2023-01-12T09:27:38.543370Z"
    }
   },
   "outputs": [
    {
     "data": {
      "text/plain": [
       "0.3333333333333333"
      ]
     },
     "execution_count": 32,
     "metadata": {},
     "output_type": "execute_result"
    }
   ],
   "source": [
    "accuracy(Y_pred, Y)"
   ]
  },
  {
   "cell_type": "markdown",
   "id": "af7f089e",
   "metadata": {},
   "source": [
    "## Backward propagation pass (one layer)\n",
    "\n",
    "* Forward propagation\n",
    "  * $\\boldsymbol{Z}^{[l]} = \\boldsymbol{W}^{[l]} \\cdot \\boldsymbol{A}^{[l-1]} + \\boldsymbol{b}^{[l]}$\n",
    "  * $\\boldsymbol{A}^{[l]} = g^{[l]}(\\boldsymbol{Z}^{[l]})$\n",
    "\n",
    "* backward propagation\n",
    "  * last layer\n",
    "      * initiate derivative with the derivative of the loss function\n",
    "  * Hidden layer\n",
    "      * $\\boldsymbol{dZ}^{[l]}=\\boldsymbol{dA}^{[l]} * g'(\\boldsymbol{Z}^{[l]})$\n",
    "      * $\\boldsymbol{dW}^{[l]}=\\boldsymbol{A}_T^{[l-1]} \\bullet \\boldsymbol{Z}^{[l]}$\n",
    "      * $\\boldsymbol{db}^{[l]}=\\sum_{i}^{m} \\boldsymbol{dZ}^{[l](i)}$\n",
    "      * $\\boldsymbol{dA}^{[l-1]}=\\boldsymbol{dZ}^{[l]} \\bullet \\boldsymbol{W}^{[l]}$\n",
    "  \n"
   ]
  },
  {
   "cell_type": "code",
   "execution_count": 33,
   "id": "2fdd6954",
   "metadata": {
    "ExecuteTime": {
     "end_time": "2023-01-12T09:27:49.663553Z",
     "start_time": "2023-01-12T09:27:49.659195Z"
    }
   },
   "outputs": [],
   "source": [
    "def single_layer_backward_propagation(dA_curr, W_curr, b_curr, Z_curr, A_prev, activation=\"relu\"):\n",
    "    #print(\"single_backward\")\n",
    "    # number of examples\n",
    "    m = A_prev.shape[1]\n",
    "    \n",
    "    #print(\"backward\")\n",
    "    # selection of activation function\n",
    "    if activation == \"relu\":\n",
    "        backward_activation_func = relu_prime\n",
    "    elif activation == \"sigmoid\":\n",
    "        backward_activation_func = sigmoid_prime\n",
    "    elif activation == \"softmax\":    # It's just a normalization of sigmoid for multiple classes\n",
    "        \n",
    "        backward_activation_func = sigmoid_prime\n",
    "    else:\n",
    "        raise Exception('Non-supported activation function')\n",
    "    #print(\"activation\", activation)\n",
    "    \n",
    "    # calculation of the activation function derivative\n",
    "    #print(\"dZ_curr=dA*Z\", \"dA_curr\", dA_curr.shape, \"Z_curr\", Z_curr.shape)\n",
    "    dZ_curr = np.multiply(dA_curr, backward_activation_func(Z_curr))\n",
    "    \n",
    "    # derivative of the matrix W\n",
    "    #print(\"dW_curr=dot(A_prev.T, dZ_curr)\", A_prev.T.shape, dZ_curr.shape)\n",
    "    dW_curr = np.dot(A_prev.T, dZ_curr) / m\n",
    "    # derivative of the vector b\n",
    "    #print(\"db_curr=sum(dZ_curr)\", dZ_curr.shape)\n",
    "    db_curr = np.sum(dZ_curr, axis=0, keepdims=True) / m\n",
    "    # derivative of the matrix A_prev\n",
    "    #print(\"dA_prev=dot(dZ_curr, W_curr.T\", dZ_curr.shape, W_curr.T.shape)\n",
    "    dA_prev = np.dot(dZ_curr, W_curr.T)\n",
    "\n",
    "    return dA_prev, dW_curr, db_curr"
   ]
  },
  {
   "cell_type": "markdown",
   "id": "e99dc0b9",
   "metadata": {},
   "source": [
    "## Backward propagation pass (all layer)\n",
    "\n",
    "Apply chain rule.\n",
    "\n",
    "The result is the gradient for all weights matrix."
   ]
  },
  {
   "cell_type": "code",
   "execution_count": 34,
   "id": "f756313f",
   "metadata": {
    "ExecuteTime": {
     "end_time": "2023-01-12T09:28:12.013885Z",
     "start_time": "2023-01-12T09:28:12.007993Z"
    }
   },
   "outputs": [],
   "source": [
    "def full_backward_propagation(Y_hat, Y, memory, params_values, nn_architecture, loss_function):\n",
    "    #print(\"full_backward\")\n",
    "    grads_values = {}\n",
    "    \n",
    "    m = Y.shape[1]\n",
    "    # selection of loss function derivative\n",
    "    if loss_function == \"binary_crossentropy\":\n",
    "        loss_function_prime = BinaryCrossEntropy_prime\n",
    "    elif loss_function == \"categorical_crossentropy\":\n",
    "        loss_function_prime = CategoricalCrossEntropy_prime\n",
    "    else:\n",
    "        raise Exception('Non-supported activation function')\n",
    "        \n",
    "    # Derivative of loss function\n",
    "    dA_prev = loss_function_prime(Y_hat, Y)\n",
    "    #print(\"dA_prev\", dA_prev.shape)\n",
    "    \n",
    "    for layer_idx_prev, layer in reversed(list(enumerate(nn_architecture))):\n",
    "        # we number network layers from 1\n",
    "        layer_idx_curr = layer_idx_prev + 1\n",
    "        # extraction of the activation function for the current layer\n",
    "        activ_function_curr = layer[\"activation\"]\n",
    "        \n",
    "        dA_curr = dA_prev\n",
    "        \n",
    "        #print(\"layer_idx_curr\", layer_idx_curr)\n",
    "        #print(\"memory\", memory.keys())\n",
    "        A_prev = memory[\"A\" + str(layer_idx_prev)] # layer_idx_prev\n",
    "        #print(\"A_prev\", A_prev.shape)\n",
    "        Z_curr = memory[\"Z\" + str(layer_idx_curr)]\n",
    "        \n",
    "        W_curr = params_values[\"W\" + str(layer_idx_curr)]\n",
    "        b_curr = params_values[\"b\" + str(layer_idx_curr)]\n",
    "        \n",
    "        dA_prev, dW_curr, db_curr = single_layer_backward_propagation(\n",
    "            dA_curr, W_curr, b_curr, Z_curr, A_prev, activ_function_curr)\n",
    "        \n",
    "        grads_values[\"dW\" + str(layer_idx_curr)] = dW_curr\n",
    "        grads_values[\"db\" + str(layer_idx_curr)] = db_curr\n",
    "    \n",
    "    return grads_values"
   ]
  },
  {
   "cell_type": "markdown",
   "id": "853bce0a",
   "metadata": {
    "ExecuteTime": {
     "end_time": "2022-12-16T09:31:13.709883Z",
     "start_time": "2022-12-16T09:31:13.707655Z"
    }
   },
   "source": [
    "## Update weigth"
   ]
  },
  {
   "cell_type": "code",
   "execution_count": 35,
   "id": "406b07fc",
   "metadata": {
    "ExecuteTime": {
     "end_time": "2023-01-12T09:28:18.202083Z",
     "start_time": "2023-01-12T09:28:18.197402Z"
    }
   },
   "outputs": [],
   "source": [
    "def update(params_values, grads_values, nn_architecture, learning_rate):\n",
    "    # iteration over network layers\n",
    "    for layer_idx, layer in enumerate(nn_architecture, 1):\n",
    "        #print(\"W\", params_values[\"W\" + str(layer_idx)].shape, \"dW\", grads_values[\"dW\" + str(layer_idx)].shape)\n",
    "        params_values[\"W\" + str(layer_idx)] -= learning_rate * grads_values[\"dW\" + str(layer_idx)]  \n",
    "        #print(\"b\", params_values[\"b\" + str(layer_idx)].shape, \"db\", grads_values[\"db\" + str(layer_idx)].shape)\n",
    "        params_values[\"b\" + str(layer_idx)] -= learning_rate * grads_values[\"db\" + str(layer_idx)]\n",
    "\n",
    "    return params_values;"
   ]
  },
  {
   "cell_type": "markdown",
   "id": "c20ae81a",
   "metadata": {},
   "source": [
    "## One epoch"
   ]
  },
  {
   "cell_type": "code",
   "execution_count": 36,
   "id": "a6ac5d18",
   "metadata": {
    "ExecuteTime": {
     "end_time": "2023-01-12T09:28:19.409085Z",
     "start_time": "2023-01-12T09:28:19.406277Z"
    }
   },
   "outputs": [],
   "source": [
    "def one_epoch(X, Y, params_values, nn_architecture, lr, loss_function):\n",
    "    # step forward \n",
    "    Y_pred, cashe = full_forward_propagation(X, params_values, nn_architecture)\n",
    "    # step backward - calculating gradient\n",
    "    \n",
    "    # a hack ensuring the same shape of the prediction vector and labels vector\n",
    "    Y = Y.reshape(Y_pred.shape)\n",
    "    \n",
    "    grads_values = full_backward_propagation(Y_pred, Y, cashe, params_values, nn_architecture, loss_function)\n",
    "    # updating model state\n",
    "    params_values = update(params_values, grads_values, nn_architecture, lr)\n",
    "    \n",
    "    return Y_pred, params_values"
   ]
  },
  {
   "cell_type": "code",
   "execution_count": 37,
   "id": "d2c41e9e",
   "metadata": {
    "ExecuteTime": {
     "end_time": "2023-01-12T09:28:29.644213Z",
     "start_time": "2023-01-12T09:28:29.640093Z"
    }
   },
   "outputs": [],
   "source": [
    "# Initialize layers\n",
    "params_values = init_layers(NN_ARCHITECTURE)\n",
    "\n",
    "# Fix learning rate\n",
    "lr = 0.1"
   ]
  },
  {
   "cell_type": "code",
   "execution_count": 38,
   "id": "56c1901a",
   "metadata": {
    "ExecuteTime": {
     "end_time": "2023-01-12T09:28:33.569045Z",
     "start_time": "2023-01-12T09:28:33.562601Z"
    }
   },
   "outputs": [
    {
     "data": {
      "text/plain": [
       "1.0"
      ]
     },
     "execution_count": 38,
     "metadata": {},
     "output_type": "execute_result"
    }
   ],
   "source": [
    "# Execute one epoch on one observation\n",
    "Y_pred, params_values = one_epoch(np.array([X[0]]), np.array([Y[0]]), params_values, NN_ARCHITECTURE, lr, \"categorical_crossentropy\")\n",
    "accuracy(Y_pred, np.array([Y[0]]))"
   ]
  },
  {
   "cell_type": "code",
   "execution_count": 39,
   "id": "f00cffa8",
   "metadata": {
    "ExecuteTime": {
     "end_time": "2023-01-12T09:28:57.878127Z",
     "start_time": "2023-01-12T09:28:57.870126Z"
    }
   },
   "outputs": [
    {
     "data": {
      "text/plain": [
       "0.3333333333333333"
      ]
     },
     "execution_count": 39,
     "metadata": {},
     "output_type": "execute_result"
    }
   ],
   "source": [
    "# Execute one epoch on all observations\n",
    "Y_pred, params_values = one_epoch(X, Y, params_values, NN_ARCHITECTURE, lr, \"categorical_crossentropy\")\n",
    "accuracy(Y_pred, Y)"
   ]
  },
  {
   "cell_type": "code",
   "execution_count": 40,
   "id": "b7d84b26",
   "metadata": {
    "ExecuteTime": {
     "end_time": "2023-01-12T09:28:58.787309Z",
     "start_time": "2023-01-12T09:28:58.781452Z"
    }
   },
   "outputs": [
    {
     "data": {
      "text/plain": [
       "array([[0.32606965, 0.08509652, 0.05435638],\n",
       "       [0.13521386, 0.05009443, 0.13491503],\n",
       "       [0.0898486 , 0.06467195, 0.05973358]])"
      ]
     },
     "execution_count": 40,
     "metadata": {},
     "output_type": "execute_result"
    }
   ],
   "source": [
    "Y_pred"
   ]
  },
  {
   "cell_type": "code",
   "execution_count": 41,
   "id": "03cea355",
   "metadata": {
    "ExecuteTime": {
     "end_time": "2023-01-12T09:29:00.913680Z",
     "start_time": "2023-01-12T09:29:00.906004Z"
    }
   },
   "outputs": [
    {
     "data": {
      "text/plain": [
       "array([0, 0, 0])"
      ]
     },
     "execution_count": 41,
     "metadata": {},
     "output_type": "execute_result"
    }
   ],
   "source": [
    "np.argmax(Y_pred, axis=-1)"
   ]
  },
  {
   "cell_type": "markdown",
   "id": "e3f4a813",
   "metadata": {},
   "source": [
    "## Analogy with Keras\n"
   ]
  },
  {
   "cell_type": "code",
   "execution_count": 44,
   "id": "4e4336ca",
   "metadata": {
    "ExecuteTime": {
     "end_time": "2023-01-12T09:40:55.065563Z",
     "start_time": "2023-01-12T09:40:55.053161Z"
    }
   },
   "outputs": [],
   "source": [
    "class Model:\n",
    "    def __init__(self, nn_architecture):\n",
    "        self.nn_architecture = nn_architecture\n",
    "        \n",
    "    def compile(self, loss_name, metrics=None):\n",
    "        self.layers = init_layers(self.nn_architecture)\n",
    "        self.loss = loss(loss_name)\n",
    "        self.loss_name = loss_name\n",
    "        self.metrics = [(m_name, metric(m_name)) for m_name in metrics]\n",
    "        \n",
    "    def fit(self, X, y, epochs, learning_rate, validation_split=None):\n",
    "        history = {'loss':[], 'X[0]':[]}\n",
    "        for m_name, m_function in self.metrics:\n",
    "            history.update({m_name:[]})\n",
    "            \n",
    "        if validation_split is not None:\n",
    "            history.update({'val_loss':[]})\n",
    "            for m_name, m_function in self.metrics:\n",
    "                history.update({'val_'+m_name:[]})\n",
    "            X, X_val, y, y_val = train_test_split(X, y,\n",
    "                                                  test_size=validation_split,\n",
    "                                                  stratify=y,\n",
    "                                                  random_state=42)\n",
    "            print(\"val:\", X_val.shape, y_val.shape)\n",
    "\n",
    "        print(\"train:\", X.shape, y.shape)\n",
    "        \n",
    "        for i in range(epochs):\n",
    "            print(\"epoch\", i+1, end=\"\")\n",
    "            y_pred, self.layers = one_epoch(X, y, self.layers, self.nn_architecture, learning_rate, self.loss_name)\n",
    "\n",
    "            history['loss'] += [self.loss(y_pred, y)]\n",
    "            print(\", loss %.3f\" % history['loss'][-1], end=\"\")\n",
    "                         \n",
    "            for m_name, m_function in self.metrics:\n",
    "                history[m_name] += [m_function(y_pred, y)]\n",
    "\n",
    "            history['X[0]'] += [y_pred[0][0]]\n",
    "            \n",
    "            if validation_split is not None:\n",
    "                Y_pred, _ = full_forward_propagation(X_val, self.layers, self.nn_architecture)\n",
    "                history['val_loss'] += [self.loss(Y_pred, y_val)]\n",
    "                print(\", val_loss %.3f\" % history['val_loss'][-1], end=\"\")\n",
    "                for m_name, m_function in self.metrics:\n",
    "                    history['val_'+m_name] += [m_function(Y_pred, y_val)]\n",
    "            print()\n",
    "        return history\n",
    "            \n",
    "    def predict(self, X):\n",
    "        Y_pred, _ = full_forward_propagation(X, self.layers, self.nn_architecture)\n",
    "        return Y_pred\n",
    "    \n",
    "    def summary(self):\n",
    "        print(\"output Shape.          Param #\")\n",
    "        for layer in self.nn_architecture:\n",
    "             print(\"(None, %d)\"%layer['output_dim'],\"\\t\\t\", (layer['input_dim']+1)*layer['output_dim'])"
   ]
  },
  {
   "cell_type": "code",
   "execution_count": 45,
   "id": "25b76b4c",
   "metadata": {
    "ExecuteTime": {
     "end_time": "2023-01-12T09:40:56.345396Z",
     "start_time": "2023-01-12T09:40:56.341657Z"
    }
   },
   "outputs": [
    {
     "name": "stdout",
     "output_type": "stream",
     "text": [
      "output Shape.          Param #\n",
      "(None, 3) \t\t 93\n"
     ]
    }
   ],
   "source": [
    "model = Model(NN_ARCHITECTURE)\n",
    "model.summary()"
   ]
  },
  {
   "cell_type": "code",
   "execution_count": 46,
   "id": "596b7da2",
   "metadata": {
    "ExecuteTime": {
     "end_time": "2023-01-12T09:41:24.217325Z",
     "start_time": "2023-01-12T09:41:24.183507Z"
    }
   },
   "outputs": [
    {
     "name": "stdout",
     "output_type": "stream",
     "text": [
      "train: (3, 30) (3, 3)\n",
      "epoch 1, loss 2.310\n",
      "epoch 2, loss 2.307\n",
      "epoch 3, loss 2.305\n",
      "epoch 4, loss 2.303\n",
      "epoch 5, loss 2.301\n",
      "epoch 6, loss 2.298\n",
      "epoch 7, loss 2.296\n",
      "epoch 8, loss 2.294\n",
      "epoch 9, loss 2.292\n",
      "epoch 10, loss 2.289\n",
      "epoch 11, loss 2.287\n",
      "epoch 12, loss 2.285\n",
      "epoch 13, loss 2.283\n",
      "epoch 14, loss 2.281\n",
      "epoch 15, loss 2.279\n",
      "epoch 16, loss 2.277\n",
      "epoch 17, loss 2.275\n",
      "epoch 18, loss 2.273\n",
      "epoch 19, loss 2.271\n",
      "epoch 20, loss 2.269\n",
      "epoch 21, loss 2.267\n",
      "epoch 22, loss 2.265\n",
      "epoch 23, loss 2.263\n",
      "epoch 24, loss 2.261\n",
      "epoch 25, loss 2.259\n",
      "epoch 26, loss 2.257\n",
      "epoch 27, loss 2.255\n",
      "epoch 28, loss 2.253\n",
      "epoch 29, loss 2.251\n",
      "epoch 30, loss 2.249\n",
      "epoch 31, loss 2.247\n",
      "epoch 32, loss 2.246\n",
      "epoch 33, loss 2.244\n",
      "epoch 34, loss 2.242\n",
      "epoch 35, loss 2.240\n",
      "epoch 36, loss 2.238\n",
      "epoch 37, loss 2.237\n",
      "epoch 38, loss 2.235\n",
      "epoch 39, loss 2.233\n",
      "epoch 40, loss 2.231\n",
      "epoch 41, loss 2.230\n",
      "epoch 42, loss 2.228\n",
      "epoch 43, loss 2.226\n",
      "epoch 44, loss 2.225\n",
      "epoch 45, loss 2.223\n",
      "epoch 46, loss 2.221\n",
      "epoch 47, loss 2.220\n",
      "epoch 48, loss 2.218\n",
      "epoch 49, loss 2.216\n",
      "epoch 50, loss 2.215\n"
     ]
    }
   ],
   "source": [
    "model.compile(\"categorical_crossentropy\", metrics=[\"accuracy\"])\n",
    "history = model.fit(X, Y, 50, 0.01)"
   ]
  },
  {
   "cell_type": "code",
   "execution_count": 47,
   "id": "c34779af",
   "metadata": {
    "ExecuteTime": {
     "end_time": "2023-01-12T09:41:30.558993Z",
     "start_time": "2023-01-12T09:41:30.553327Z"
    }
   },
   "outputs": [],
   "source": [
    "def plot(history):\n",
    "    keys = [key for key in history.keys() if key[:4] != \"val_\"]\n",
    "    fig, ax = plt.subplots(nrows=1, ncols=len(keys), figsize=(18, 5))\n",
    "    for i, key in enumerate(keys):\n",
    "        ax[i].plot(history[key], label=key)\n",
    "        if \"val_\"+key in history.keys():\n",
    "            ax[i].plot(history[\"val_\"+key], label=\"val_\"+key)\n",
    "        ax[i].legend()\n",
    "        ax[i].set_title(key)\n",
    "    plt.show()"
   ]
  },
  {
   "cell_type": "code",
   "execution_count": 48,
   "id": "ad83d380",
   "metadata": {
    "ExecuteTime": {
     "end_time": "2023-01-12T09:41:38.518965Z",
     "start_time": "2023-01-12T09:41:38.136811Z"
    }
   },
   "outputs": [
    {
     "data": {
      "image/png": "[encoded data removed]",
      "text/plain": [
       "<Figure size 1296x360 with 3 Axes>"
      ]
     },
     "metadata": {
      "needs_background": "light"
     },
     "output_type": "display_data"
    }
   ],
   "source": [
    "plot(history)"
   ]
  },
  {
   "cell_type": "code",
   "execution_count": 49,
   "id": "d321a2cf",
   "metadata": {
    "ExecuteTime": {
     "end_time": "2023-01-12T09:42:41.171480Z",
     "start_time": "2023-01-12T09:42:41.163836Z"
    }
   },
   "outputs": [
    {
     "data": {
      "text/plain": [
       "0.3333333333333333"
      ]
     },
     "execution_count": 49,
     "metadata": {},
     "output_type": "execute_result"
    }
   ],
   "source": [
    "Y_pred = model.predict(X)\n",
    "accuracy(Y_pred, Y)"
   ]
  },
  {
   "cell_type": "code",
   "execution_count": 50,
   "id": "2e4b10e5",
   "metadata": {
    "ExecuteTime": {
     "end_time": "2023-01-12T09:42:42.137629Z",
     "start_time": "2023-01-12T09:42:42.133722Z"
    }
   },
   "outputs": [],
   "source": [
    "# With a more sophisticated model\n",
    "NN_ARCHITECTURE = [\n",
    "    {\"input_dim\": X.shape[1], \"output_dim\": 5, \"activation\": \"relu\"},\n",
    "    {\"input_dim\": 5, \"output_dim\": Y.shape[1], \"activation\": \"softmax\"},\n",
    "]"
   ]
  },
  {
   "cell_type": "code",
   "execution_count": 52,
   "id": "94b156b9",
   "metadata": {
    "ExecuteTime": {
     "end_time": "2023-01-12T09:42:55.498792Z",
     "start_time": "2023-01-12T09:42:55.495294Z"
    }
   },
   "outputs": [
    {
     "name": "stdout",
     "output_type": "stream",
     "text": [
      "output Shape.          Param #\n",
      "(None, 5) \t\t 155\n",
      "(None, 3) \t\t 18\n"
     ]
    }
   ],
   "source": [
    "model = Model(NN_ARCHITECTURE)\n",
    "model.summary()"
   ]
  },
  {
   "cell_type": "code",
   "execution_count": 53,
   "id": "0ce3a174",
   "metadata": {
    "ExecuteTime": {
     "end_time": "2023-01-12T09:42:56.362713Z",
     "start_time": "2023-01-12T09:42:56.320818Z"
    }
   },
   "outputs": [
    {
     "name": "stdout",
     "output_type": "stream",
     "text": [
      "train: (3, 30) (3, 3)\n",
      "epoch 1, loss 2.149\n",
      "epoch 2, loss 2.149\n",
      "epoch 3, loss 2.149\n",
      "epoch 4, loss 2.148\n",
      "epoch 5, loss 2.148\n",
      "epoch 6, loss 2.148\n",
      "epoch 7, loss 2.147\n",
      "epoch 8, loss 2.147\n",
      "epoch 9, loss 2.147\n",
      "epoch 10, loss 2.146\n",
      "epoch 11, loss 2.146\n",
      "epoch 12, loss 2.146\n",
      "epoch 13, loss 2.145\n",
      "epoch 14, loss 2.145\n",
      "epoch 15, loss 2.145\n",
      "epoch 16, loss 2.144\n",
      "epoch 17, loss 2.144\n",
      "epoch 18, loss 2.144\n",
      "epoch 19, loss 2.144\n",
      "epoch 20, loss 2.143\n",
      "epoch 21, loss 2.143\n",
      "epoch 22, loss 2.143\n",
      "epoch 23, loss 2.143\n",
      "epoch 24, loss 2.142\n",
      "epoch 25, loss 2.142\n",
      "epoch 26, loss 2.142\n",
      "epoch 27, loss 2.142\n",
      "epoch 28, loss 2.141\n",
      "epoch 29, loss 2.141\n",
      "epoch 30, loss 2.141\n",
      "epoch 31, loss 2.141\n",
      "epoch 32, loss 2.141\n",
      "epoch 33, loss 2.140\n",
      "epoch 34, loss 2.140\n",
      "epoch 35, loss 2.140\n",
      "epoch 36, loss 2.140\n",
      "epoch 37, loss 2.139\n",
      "epoch 38, loss 2.139\n",
      "epoch 39, loss 2.139\n",
      "epoch 40, loss 2.139\n",
      "epoch 41, loss 2.138\n",
      "epoch 42, loss 2.138\n",
      "epoch 43, loss 2.138\n",
      "epoch 44, loss 2.138\n",
      "epoch 45, loss 2.137\n",
      "epoch 46, loss 2.137\n",
      "epoch 47, loss 2.137\n",
      "epoch 48, loss 2.137\n",
      "epoch 49, loss 2.137\n",
      "epoch 50, loss 2.136\n"
     ]
    }
   ],
   "source": [
    "model.compile(\"categorical_crossentropy\", metrics=[\"accuracy\"])\n",
    "history = model.fit(X, Y, 50, 0.01)"
   ]
  },
  {
   "cell_type": "code",
   "execution_count": 54,
   "id": "d80ec839",
   "metadata": {
    "ExecuteTime": {
     "end_time": "2023-01-12T09:43:00.552182Z",
     "start_time": "2023-01-12T09:43:00.202556Z"
    }
   },
   "outputs": [
    {
     "data": {
      "image/png": "[encoded data removed]",
      "text/plain": [
       "<Figure size 1296x360 with 3 Axes>"
      ]
     },
     "metadata": {
      "needs_background": "light"
     },
     "output_type": "display_data"
    }
   ],
   "source": [
    "plot(history)"
   ]
  },
  {
   "cell_type": "code",
   "execution_count": 55,
   "id": "48dcf9b5",
   "metadata": {
    "ExecuteTime": {
     "end_time": "2023-01-12T09:43:21.533156Z",
     "start_time": "2023-01-12T09:43:21.527708Z"
    }
   },
   "outputs": [
    {
     "data": {
      "text/plain": [
       "0.6666666666666666"
      ]
     },
     "execution_count": 55,
     "metadata": {},
     "output_type": "execute_result"
    }
   ],
   "source": [
    "Y_pred = model.predict(X)\n",
    "accuracy(Y_pred, Y)"
   ]
  },
  {
   "cell_type": "markdown",
   "id": "0c59f1fe",
   "metadata": {},
   "source": [
    "## Apply to a more sophisticated dataset and network"
   ]
  },
  {
   "cell_type": "code",
   "execution_count": 56,
   "id": "4dc2608d",
   "metadata": {
    "ExecuteTime": {
     "end_time": "2023-01-12T09:43:26.546176Z",
     "start_time": "2023-01-12T09:43:26.543625Z"
    }
   },
   "outputs": [],
   "source": [
    "# number of samples in the data set\n",
    "N_SAMPLES = 1000\n",
    "# ratio between training and test sets\n",
    "TEST_SIZE = 0.2"
   ]
  },
  {
   "cell_type": "code",
   "execution_count": 57,
   "id": "122fb06f",
   "metadata": {
    "ExecuteTime": {
     "end_time": "2023-01-12T09:43:27.450508Z",
     "start_time": "2023-01-12T09:43:27.303578Z"
    }
   },
   "outputs": [
    {
     "data": {
      "text/plain": [
       "((1000, 2), (1000, 1))"
      ]
     },
     "execution_count": 57,
     "metadata": {},
     "output_type": "execute_result"
    }
   ],
   "source": [
    "from sklearn.datasets import make_moons\n",
    "from sklearn.model_selection import train_test_split\n",
    "\n",
    "X, y = make_moons(n_samples = N_SAMPLES, noise=0.2, random_state=100)\n",
    "y = y.reshape(-1,1)\n",
    "X_train, X_test, y_train, y_test = train_test_split(X, y, test_size=TEST_SIZE, stratify=y, random_state=42)\n",
    "X.shape, y.shape"
   ]
  },
  {
   "cell_type": "code",
   "execution_count": 58,
   "id": "937376b1",
   "metadata": {
    "ExecuteTime": {
     "end_time": "2023-01-12T09:43:28.264426Z",
     "start_time": "2023-01-12T09:43:27.985255Z"
    }
   },
   "outputs": [
    {
     "data": {
      "text/plain": [
       "<matplotlib.collections.PathCollection at 0x7fbab369cdf0>"
      ]
     },
     "execution_count": 58,
     "metadata": {},
     "output_type": "execute_result"
    },
    {
     "data": {
      "image/png": "[encoded data removed]",
      "text/plain": [
       "<Figure size 1152x864 with 1 Axes>"
      ]
     },
     "metadata": {
      "needs_background": "light"
     },
     "output_type": "display_data"
    }
   ],
   "source": [
    "# Plot the dataset\n",
    "plt.figure(figsize=(16,12))\n",
    "plt.scatter(X_train[:, 0], X_train[:, 1], c=y_train.ravel(), s=40)\n",
    "plt.scatter(X_test[:, 0], X_test[:, 1], c=y_test.ravel(), marker='x', s=100)"
   ]
  },
  {
   "cell_type": "markdown",
   "id": "459a6ef9",
   "metadata": {
    "ExecuteTime": {
     "end_time": "2022-12-16T10:22:37.793060Z",
     "start_time": "2022-12-16T10:22:37.788058Z"
    }
   },
   "source": [
    "Architecture of the network to be built\n",
    "\n",
    "<img src=\"https://github.com/SkalskiP/ILearnDeepLearning.py/raw/a55b2af0e9f0776d62b74ea458b9cbdc2976d1cc/01_mysteries_of_neural_networks/03_numpy_neural_net/supporting_visualizations/nn_architecture.png\" alt=\"drawing\" width=\"600\"/>"
   ]
  },
  {
   "cell_type": "code",
   "execution_count": 59,
   "id": "b145f67a",
   "metadata": {
    "ExecuteTime": {
     "end_time": "2023-01-12T09:44:00.056857Z",
     "start_time": "2023-01-12T09:44:00.053481Z"
    }
   },
   "outputs": [],
   "source": [
    "NN_ARCHITECTURE = [\n",
    "    {\"input_dim\": X_train.shape[1], \"output_dim\": 4, \"activation\": \"relu\"},\n",
    "    {\"input_dim\": 4, \"output_dim\": 6, \"activation\": \"relu\"},\n",
    "    {\"input_dim\": 6, \"output_dim\": 6, \"activation\": \"relu\"},\n",
    "    {\"input_dim\": 6, \"output_dim\": 4, \"activation\": \"relu\"},\n",
    "    {\"input_dim\": 4, \"output_dim\": y_train.shape[1], \"activation\": \"sigmoid\"},\n",
    "]"
   ]
  },
  {
   "cell_type": "code",
   "execution_count": 60,
   "id": "eabebafc",
   "metadata": {
    "ExecuteTime": {
     "end_time": "2023-01-12T09:44:05.673081Z",
     "start_time": "2023-01-12T09:44:05.660186Z"
    }
   },
   "outputs": [
    {
     "name": "stdout",
     "output_type": "stream",
     "text": [
      "Y_pred (800, 1) y_train (800, 1)\n"
     ]
    }
   ],
   "source": [
    "params_values = init_layers(NN_ARCHITECTURE)\n",
    "Y_pred, memory = full_forward_propagation(X_train, params_values, NN_ARCHITECTURE)\n",
    "# step backward - calculating gradient\n",
    "print(\"Y_pred\", Y_pred.shape, \"y_train\", y_train.shape)\n",
    "grads_values = full_backward_propagation(Y_pred, y_train, memory, params_values, NN_ARCHITECTURE, \"binary_crossentropy\")\n",
    "# updating model state\n",
    "params_values = update(params_values, grads_values, NN_ARCHITECTURE, lr)"
   ]
  },
  {
   "cell_type": "code",
   "execution_count": 61,
   "id": "061fc285",
   "metadata": {
    "ExecuteTime": {
     "end_time": "2023-01-12T09:44:12.082577Z",
     "start_time": "2023-01-12T09:44:10.415804Z"
    }
   },
   "outputs": [
    {
     "name": "stdout",
     "output_type": "stream",
     "text": [
      "train: (800, 2) (800, 1)\n",
      "epoch 1, loss 0.703\n",
      "epoch 2, loss 0.878\n",
      "epoch 3, loss 2.174\n",
      "epoch 4, loss 2.712\n",
      "epoch 5, loss 2.259\n",
      "epoch 6, loss 2.647\n",
      "epoch 7, loss 2.318\n",
      "epoch 8, loss 2.600\n",
      "epoch 9, loss 2.359\n",
      "epoch 10, loss 2.566\n",
      "epoch 11, loss 2.389\n",
      "epoch 12, loss 2.541\n",
      "epoch 13, loss 2.411\n",
      "epoch 14, loss 2.522\n",
      "epoch 15, loss 2.427\n",
      "epoch 16, loss 2.509\n",
      "epoch 17, loss 2.439\n",
      "epoch 18, loss 2.499\n",
      "epoch 19, loss 2.448\n",
      "epoch 20, loss 2.492\n",
      "epoch 21, loss 2.454\n",
      "epoch 22, loss 2.486\n",
      "epoch 23, loss 2.458\n",
      "epoch 24, loss 2.482\n",
      "epoch 25, loss 2.462\n",
      "epoch 26, loss 2.479\n",
      "epoch 27, loss 2.464\n",
      "epoch 28, loss 2.477\n",
      "epoch 29, loss 2.466\n",
      "epoch 30, loss 2.476\n",
      "epoch 31, loss 2.468\n",
      "epoch 32, loss 2.474\n",
      "epoch 33, loss 2.469\n",
      "epoch 34, loss 2.474\n",
      "epoch 35, loss 2.469\n",
      "epoch 36, loss 2.473\n",
      "epoch 37, loss 2.470\n",
      "epoch 38, loss 2.473\n",
      "epoch 39, loss 2.470\n",
      "epoch 40, loss 2.472\n",
      "epoch 41, loss 2.470\n",
      "epoch 42, loss 2.472\n",
      "epoch 43, loss 2.471\n",
      "epoch 44, loss 2.472\n",
      "epoch 45, loss 2.471\n",
      "epoch 46, loss 2.472\n",
      "epoch 47, loss 2.471\n",
      "epoch 48, loss 2.472\n",
      "epoch 49, loss 2.471\n",
      "epoch 50, loss 2.471\n",
      "epoch 51, loss 2.471\n",
      "epoch 52, loss 2.471\n",
      "epoch 53, loss 2.471\n",
      "epoch 54, loss 2.471\n",
      "epoch 55, loss 2.471\n",
      "epoch 56, loss 2.471\n",
      "epoch 57, loss 2.471\n",
      "epoch 58, loss 2.471\n",
      "epoch 59, loss 2.471\n",
      "epoch 60, loss 2.471\n",
      "epoch 61, loss 2.471\n",
      "epoch 62, loss 2.471\n",
      "epoch 63, loss 2.471\n",
      "epoch 64, loss 2.471\n",
      "epoch 65, loss 2.471\n",
      "epoch 66, loss 2.471\n",
      "epoch 67, loss 2.471\n",
      "epoch 68, loss 2.471\n",
      "epoch 69, loss 2.471\n",
      "epoch 70, loss 2.471\n",
      "epoch 71, loss 2.471\n",
      "epoch 72, loss 2.471\n",
      "epoch 73, loss 2.471\n",
      "epoch 74, loss 2.471\n",
      "epoch 75, loss 2.471\n",
      "epoch 76, loss 2.471\n",
      "epoch 77, loss 2.471\n",
      "epoch 78, loss 2.471\n",
      "epoch 79, loss 2.471\n",
      "epoch 80, loss 2.471\n",
      "epoch 81, loss 2.471\n",
      "epoch 82, loss 2.471\n",
      "epoch 83, loss 2.471\n",
      "epoch 84, loss 2.471\n",
      "epoch 85, loss 2.471\n",
      "epoch 86, loss 2.471\n",
      "epoch 87, loss 2.471\n",
      "epoch 88, loss 2.471\n",
      "epoch 89, loss 2.471\n",
      "epoch 90, loss 2.471\n",
      "epoch 91, loss 2.471\n",
      "epoch 92, loss 2.471\n",
      "epoch 93, loss 2.471\n",
      "epoch 94, loss 2.471\n",
      "epoch 95, loss 2.471\n",
      "epoch 96, loss 2.471\n",
      "epoch 97, loss 2.471\n",
      "epoch 98, loss 2.471\n",
      "epoch 99, loss 2.471\n",
      "epoch 100, loss 2.471\n",
      "epoch 101, loss 2.471\n",
      "epoch 102, loss 2.471\n",
      "epoch 103, loss 2.471\n",
      "epoch 104, loss 2.471\n",
      "epoch 105, loss 2.471\n",
      "epoch 106, loss 2.471\n",
      "epoch 107, loss 2.471\n",
      "epoch 108, loss 2.471\n",
      "epoch 109, loss 2.471\n",
      "epoch 110, loss 2.471\n",
      "epoch 111, loss 2.471\n",
      "epoch 112, loss 2.471\n",
      "epoch 113, loss 2.471\n",
      "epoch 114, loss 2.471\n",
      "epoch 115, loss 2.471\n",
      "epoch 116, loss 2.471\n",
      "epoch 117, loss 2.471\n",
      "epoch 118, loss 2.471\n",
      "epoch 119, loss 2.471\n",
      "epoch 120, loss 2.471\n",
      "epoch 121, loss 2.471\n",
      "epoch 122, loss 2.471\n",
      "epoch 123, loss 2.471\n",
      "epoch 124, loss 2.471\n",
      "epoch 125, loss 2.471\n",
      "epoch 126, loss 2.471\n",
      "epoch 127, loss 2.471\n",
      "epoch 128, loss 2.471\n",
      "epoch 129, loss 2.471\n",
      "epoch 130, loss 2.471\n",
      "epoch 131, loss 2.471\n",
      "epoch 132, loss 2.471\n",
      "epoch 133, loss 2.471\n",
      "epoch 134, loss 2.471\n",
      "epoch 135, loss 2.471\n",
      "epoch 136, loss 2.471\n",
      "epoch 137, loss 2.471\n",
      "epoch 138, loss 2.471\n",
      "epoch 139, loss 2.471\n",
      "epoch 140, loss 2.471\n",
      "epoch 141, loss 2.471\n",
      "epoch 142, loss 2.471\n",
      "epoch 143, loss 2.471\n",
      "epoch 144, loss 2.471\n",
      "epoch 145, loss 2.471\n",
      "epoch 146, loss 2.471\n",
      "epoch 147, loss 2.471\n",
      "epoch 148, loss 2.471\n",
      "epoch 149, loss 2.471\n",
      "epoch 150, loss 2.471\n",
      "epoch 151, loss 2.471\n",
      "epoch 152, loss 2.471\n",
      "epoch 153, loss 2.471\n",
      "epoch 154, loss 2.471\n",
      "epoch 155, loss 2.471\n",
      "epoch 156, loss 2.471\n",
      "epoch 157, loss 2.471\n",
      "epoch 158, loss 2.471\n",
      "epoch 159, loss 2.471\n",
      "epoch 160, loss 2.471\n",
      "epoch 161, loss 2.471\n",
      "epoch 162, loss 2.471\n",
      "epoch 163, loss 2.471\n",
      "epoch 164, loss 2.471\n",
      "epoch 165, loss 2.471\n",
      "epoch 166, loss 2.471\n",
      "epoch 167, loss 2.471\n",
      "epoch 168, loss 2.471\n",
      "epoch 169, loss 2.471\n",
      "epoch 170, loss 2.471\n",
      "epoch 171, loss 2.471\n",
      "epoch 172, loss 2.471\n",
      "epoch 173, loss 2.471\n",
      "epoch 174, loss 2.471\n",
      "epoch 175, loss 2.471\n",
      "epoch 176, loss 2.471\n",
      "epoch 177, loss 2.471\n",
      "epoch 178, loss 2.471\n",
      "epoch 179, loss 2.471\n",
      "epoch 180, loss 2.471\n",
      "epoch 181, loss 2.471\n",
      "epoch 182, loss 2.471\n",
      "epoch 183, loss 2.471\n",
      "epoch 184, loss 2.471\n",
      "epoch 185, loss 2.471\n",
      "epoch 186, loss 2.471\n",
      "epoch 187, loss 2.471\n",
      "epoch 188, loss 2.471\n",
      "epoch 189, loss 2.471\n",
      "epoch 190, loss 2.471\n",
      "epoch 191, loss 2.471\n",
      "epoch 192, loss 2.471\n",
      "epoch 193, loss 2.471\n",
      "epoch 194, loss 2.471\n",
      "epoch 195, loss 2.471\n",
      "epoch 196, loss 2.471\n",
      "epoch 197, loss 2.471\n",
      "epoch 198, loss 2.471\n",
      "epoch 199, loss 2.471\n",
      "epoch 200, loss 2.471\n",
      "epoch 201, loss 2.471\n",
      "epoch 202, loss 2.471\n",
      "epoch 203, loss 2.471\n",
      "epoch 204, loss 2.471\n",
      "epoch 205, loss 2.471\n",
      "epoch 206, loss 2.471\n",
      "epoch 207, loss 2.471\n",
      "epoch 208, loss 2.471\n",
      "epoch 209, loss 2.471\n",
      "epoch 210, loss 2.471\n",
      "epoch 211, loss 2.471\n",
      "epoch 212, loss 2.471\n",
      "epoch 213, loss 2.471\n",
      "epoch 214, loss 2.471\n",
      "epoch 215, loss 2.471\n",
      "epoch 216, loss 2.471\n",
      "epoch 217, loss 2.471\n",
      "epoch 218, loss 2.471\n",
      "epoch 219, loss 2.471\n",
      "epoch 220, loss 2.471\n",
      "epoch 221, loss 2.471\n",
      "epoch 222, loss 2.471\n",
      "epoch 223, loss 2.471\n",
      "epoch 224, loss 2.471\n",
      "epoch 225, loss 2.471\n",
      "epoch 226, loss 2.471\n",
      "epoch 227, loss 2.471\n",
      "epoch 228, loss 2.471\n",
      "epoch 229, loss 2.471\n",
      "epoch 230, loss 2.471\n",
      "epoch 231, loss 2.471\n",
      "epoch 232, loss 2.471\n",
      "epoch 233, loss 2.471\n",
      "epoch 234, loss 2.471\n",
      "epoch 235, loss 2.471\n",
      "epoch 236, loss 2.471\n",
      "epoch 237, loss 2.471\n",
      "epoch 238, loss 2.471\n",
      "epoch 239, loss 2.471\n",
      "epoch 240, loss 2.471\n",
      "epoch 241, loss 2.471\n",
      "epoch 242, loss 2.471\n",
      "epoch 243, loss 2.471\n",
      "epoch 244, loss 2.471\n",
      "epoch 245, loss 2.471\n",
      "epoch 246, loss 2.471\n",
      "epoch 247, loss 2.471\n",
      "epoch 248, loss 2.471\n",
      "epoch 249, loss 2.471\n",
      "epoch 250, loss 2.471\n",
      "epoch 251, loss 2.471\n",
      "epoch 252, loss 2.471\n",
      "epoch 253, loss 2.471\n",
      "epoch 254, loss 2.471\n",
      "epoch 255, loss 2.471\n",
      "epoch 256, loss 2.471\n",
      "epoch 257, loss 2.471\n",
      "epoch 258, loss 2.471\n",
      "epoch 259, loss 2.471\n",
      "epoch 260, loss 2.471\n",
      "epoch 261, loss 2.471\n",
      "epoch 262, loss 2.471\n",
      "epoch 263, loss 2.471\n",
      "epoch 264, loss 2.471\n",
      "epoch 265, loss 2.471\n",
      "epoch 266, loss 2.471\n",
      "epoch 267, loss 2.471\n",
      "epoch 268, loss 2.471\n",
      "epoch 269, loss 2.471\n",
      "epoch 270, loss 2.471\n",
      "epoch 271, loss 2.471\n",
      "epoch 272, loss 2.471\n",
      "epoch 273, loss 2.471\n",
      "epoch 274, loss 2.471\n",
      "epoch 275, loss 2.471\n",
      "epoch 276, loss 2.471\n",
      "epoch 277, loss 2.471\n",
      "epoch 278, loss 2.471\n",
      "epoch 279, loss 2.471\n",
      "epoch 280, loss 2.471\n",
      "epoch 281, loss 2.471\n",
      "epoch 282, loss 2.471\n",
      "epoch 283, loss 2.471\n",
      "epoch 284, loss 2.471\n",
      "epoch 285, loss 2.471\n",
      "epoch 286, loss 2.471\n",
      "epoch 287, loss 2.471\n",
      "epoch 288, loss 2.471\n",
      "epoch 289, loss 2.471\n",
      "epoch 290, loss 2.471\n",
      "epoch 291, loss 2.471\n",
      "epoch 292, loss 2.471\n",
      "epoch 293, loss 2.471\n",
      "epoch 294, loss 2.471\n",
      "epoch 295, loss 2.471\n",
      "epoch 296, loss 2.471\n",
      "epoch 297, loss 2.471\n",
      "epoch 298, loss 2.471\n",
      "epoch 299, loss 2.471\n",
      "epoch 300, loss 2.471\n",
      "epoch 301, loss 2.471\n",
      "epoch 302, loss 2.471\n",
      "epoch 303, loss 2.471\n",
      "epoch 304, loss 2.471\n",
      "epoch 305, loss 2.471\n",
      "epoch 306, loss 2.471\n",
      "epoch 307, loss 2.471\n",
      "epoch 308, loss 2.471\n",
      "epoch 309, loss 2.471\n",
      "epoch 310, loss 2.471\n",
      "epoch 311, loss 2.471\n",
      "epoch 312, loss 2.471\n",
      "epoch 313, loss 2.471\n",
      "epoch 314, loss 2.471\n",
      "epoch 315, loss 2.471\n",
      "epoch 316, loss 2.471\n",
      "epoch 317, loss 2.471\n",
      "epoch 318, loss 2.471\n",
      "epoch 319, loss 2.471\n",
      "epoch 320, loss 2.471\n",
      "epoch 321, loss 2.471\n",
      "epoch 322, loss 2.471\n",
      "epoch 323, loss 2.471\n",
      "epoch 324, loss 2.471\n",
      "epoch 325, loss 2.471\n",
      "epoch 326, loss 2.471\n",
      "epoch 327, loss 2.471\n",
      "epoch 328, loss 2.471\n",
      "epoch 329, loss 2.471\n",
      "epoch 330, loss 2.471\n",
      "epoch 331, loss 2.471\n",
      "epoch 332, loss 2.471\n",
      "epoch 333, loss 2.471\n",
      "epoch 334, loss 2.471\n",
      "epoch 335, loss 2.471\n",
      "epoch 336, loss 2.471\n",
      "epoch 337, loss 2.471\n",
      "epoch 338, loss 2.471\n",
      "epoch 339, loss 2.471\n",
      "epoch 340, loss 2.471\n",
      "epoch 341, loss 2.471\n",
      "epoch 342, loss 2.471\n",
      "epoch 343, loss 2.471\n",
      "epoch 344, loss 2.471\n",
      "epoch 345, loss 2.471\n",
      "epoch 346, loss 2.471\n",
      "epoch 347, loss 2.471\n",
      "epoch 348, loss 2.471\n",
      "epoch 349, loss 2.471\n",
      "epoch 350, loss 2.471\n",
      "epoch 351, loss 2.471\n",
      "epoch 352, loss 2.471\n",
      "epoch 353, loss 2.471\n",
      "epoch 354, loss 2.471\n",
      "epoch 355, loss 2.471\n",
      "epoch 356, loss 2.471\n",
      "epoch 357, loss 2.471\n",
      "epoch 358, loss 2.471\n",
      "epoch 359, loss 2.471\n",
      "epoch 360, loss 2.471\n",
      "epoch 361, loss 2.471\n",
      "epoch 362, loss 2.471\n",
      "epoch 363, loss 2.471\n",
      "epoch 364, loss 2.471\n",
      "epoch 365, loss 2.471\n",
      "epoch 366, loss 2.471\n",
      "epoch 367, loss 2.471\n",
      "epoch 368, loss 2.471\n",
      "epoch 369, loss 2.471\n",
      "epoch 370, loss 2.471\n",
      "epoch 371, loss 2.471\n",
      "epoch 372, loss 2.471\n",
      "epoch 373, loss 2.471\n",
      "epoch 374, loss 2.471\n",
      "epoch 375, loss 2.471\n",
      "epoch 376, loss 2.471\n",
      "epoch 377, loss 2.471\n",
      "epoch 378, loss 2.471\n",
      "epoch 379, loss 2.471\n",
      "epoch 380, loss 2.471\n",
      "epoch 381, loss 2.471\n",
      "epoch 382, loss 2.471\n",
      "epoch 383, loss 2.471\n"
     ]
    },
    {
     "name": "stdout",
     "output_type": "stream",
     "text": [
      "epoch 384, loss 2.471\n",
      "epoch 385, loss 2.471\n",
      "epoch 386, loss 2.471\n",
      "epoch 387, loss 2.471\n",
      "epoch 388, loss 2.471\n",
      "epoch 389, loss 2.471\n",
      "epoch 390, loss 2.471\n",
      "epoch 391, loss 2.471\n",
      "epoch 392, loss 2.471\n",
      "epoch 393, loss 2.471\n",
      "epoch 394, loss 2.471\n",
      "epoch 395, loss 2.471\n",
      "epoch 396, loss 2.471\n",
      "epoch 397, loss 2.471\n",
      "epoch 398, loss 2.471\n",
      "epoch 399, loss 2.471\n",
      "epoch 400, loss 2.471\n",
      "epoch 401, loss 2.471\n",
      "epoch 402, loss 2.471\n",
      "epoch 403, loss 2.471\n",
      "epoch 404, loss 2.471\n",
      "epoch 405, loss 2.471\n",
      "epoch 406, loss 2.471\n",
      "epoch 407, loss 2.471\n",
      "epoch 408, loss 2.471\n",
      "epoch 409, loss 2.471\n",
      "epoch 410, loss 2.471\n",
      "epoch 411, loss 2.471\n",
      "epoch 412, loss 2.471\n",
      "epoch 413, loss 2.471\n",
      "epoch 414, loss 2.471\n",
      "epoch 415, loss 2.471\n",
      "epoch 416, loss 2.471\n",
      "epoch 417, loss 2.471\n",
      "epoch 418, loss 2.471\n",
      "epoch 419, loss 2.471\n",
      "epoch 420, loss 2.471\n",
      "epoch 421, loss 2.471\n",
      "epoch 422, loss 2.471\n",
      "epoch 423, loss 2.471\n",
      "epoch 424, loss 2.471\n",
      "epoch 425, loss 2.471\n",
      "epoch 426, loss 2.471\n",
      "epoch 427, loss 2.471\n",
      "epoch 428, loss 2.471\n",
      "epoch 429, loss 2.471\n",
      "epoch 430, loss 2.471\n",
      "epoch 431, loss 2.471\n",
      "epoch 432, loss 2.471\n",
      "epoch 433, loss 2.471\n",
      "epoch 434, loss 2.471\n",
      "epoch 435, loss 2.471\n",
      "epoch 436, loss 2.471\n",
      "epoch 437, loss 2.471\n",
      "epoch 438, loss 2.471\n",
      "epoch 439, loss 2.471\n",
      "epoch 440, loss 2.471\n",
      "epoch 441, loss 2.471\n",
      "epoch 442, loss 2.471\n",
      "epoch 443, loss 2.471\n",
      "epoch 444, loss 2.471\n",
      "epoch 445, loss 2.471\n",
      "epoch 446, loss 2.471\n",
      "epoch 447, loss 2.471\n",
      "epoch 448, loss 2.471\n",
      "epoch 449, loss 2.471\n",
      "epoch 450, loss 2.471\n",
      "epoch 451, loss 2.471\n",
      "epoch 452, loss 2.471\n",
      "epoch 453, loss 2.471\n",
      "epoch 454, loss 2.471\n",
      "epoch 455, loss 2.471\n",
      "epoch 456, loss 2.471\n",
      "epoch 457, loss 2.471\n",
      "epoch 458, loss 2.471\n",
      "epoch 459, loss 2.471\n",
      "epoch 460, loss 2.471\n",
      "epoch 461, loss 2.471\n",
      "epoch 462, loss 2.471\n",
      "epoch 463, loss 2.471\n",
      "epoch 464, loss 2.471\n",
      "epoch 465, loss 2.471\n",
      "epoch 466, loss 2.471\n",
      "epoch 467, loss 2.471\n",
      "epoch 468, loss 2.471\n",
      "epoch 469, loss 2.471\n",
      "epoch 470, loss 2.471\n",
      "epoch 471, loss 2.471\n",
      "epoch 472, loss 2.471\n",
      "epoch 473, loss 2.471\n",
      "epoch 474, loss 2.471\n",
      "epoch 475, loss 2.471\n",
      "epoch 476, loss 2.471\n",
      "epoch 477, loss 2.471\n",
      "epoch 478, loss 2.471\n",
      "epoch 479, loss 2.471\n",
      "epoch 480, loss 2.471\n",
      "epoch 481, loss 2.471\n",
      "epoch 482, loss 2.471\n",
      "epoch 483, loss 2.471\n",
      "epoch 484, loss 2.471\n",
      "epoch 485, loss 2.471\n",
      "epoch 486, loss 2.471\n",
      "epoch 487, loss 2.471\n",
      "epoch 488, loss 2.471\n",
      "epoch 489, loss 2.471\n",
      "epoch 490, loss 2.471\n",
      "epoch 491, loss 2.471\n",
      "epoch 492, loss 2.471\n",
      "epoch 493, loss 2.471\n",
      "epoch 494, loss 2.471\n",
      "epoch 495, loss 2.471\n",
      "epoch 496, loss 2.471\n",
      "epoch 497, loss 2.471\n",
      "epoch 498, loss 2.471\n",
      "epoch 499, loss 2.471\n",
      "epoch 500, loss 2.471\n",
      "epoch 501, loss 2.471\n",
      "epoch 502, loss 2.471\n",
      "epoch 503, loss 2.471\n",
      "epoch 504, loss 2.471\n",
      "epoch 505, loss 2.471\n",
      "epoch 506, loss 2.471\n",
      "epoch 507, loss 2.471\n",
      "epoch 508, loss 2.471\n",
      "epoch 509, loss 2.471\n",
      "epoch 510, loss 2.471\n",
      "epoch 511, loss 2.471\n",
      "epoch 512, loss 2.471\n",
      "epoch 513, loss 2.471\n",
      "epoch 514, loss 2.471\n",
      "epoch 515, loss 2.471\n",
      "epoch 516, loss 2.471\n",
      "epoch 517, loss 2.471\n",
      "epoch 518, loss 2.471\n",
      "epoch 519, loss 2.471\n",
      "epoch 520, loss 2.471\n",
      "epoch 521, loss 2.471\n",
      "epoch 522, loss 2.471\n",
      "epoch 523, loss 2.471\n",
      "epoch 524, loss 2.471\n",
      "epoch 525, loss 2.471\n",
      "epoch 526, loss 2.471\n",
      "epoch 527, loss 2.471\n",
      "epoch 528, loss 2.471\n",
      "epoch 529, loss 2.471\n",
      "epoch 530, loss 2.471\n",
      "epoch 531, loss 2.471\n",
      "epoch 532, loss 2.471\n",
      "epoch 533, loss 2.471\n",
      "epoch 534, loss 2.471\n",
      "epoch 535, loss 2.471\n",
      "epoch 536, loss 2.471\n",
      "epoch 537, loss 2.471\n",
      "epoch 538, loss 2.471\n",
      "epoch 539, loss 2.471\n",
      "epoch 540, loss 2.471\n",
      "epoch 541, loss 2.471\n",
      "epoch 542, loss 2.471\n",
      "epoch 543, loss 2.471\n",
      "epoch 544, loss 2.471\n",
      "epoch 545, loss 2.471\n",
      "epoch 546, loss 2.471\n",
      "epoch 547, loss 2.471\n",
      "epoch 548, loss 2.471\n",
      "epoch 549, loss 2.471\n",
      "epoch 550, loss 2.471\n",
      "epoch 551, loss 2.471\n",
      "epoch 552, loss 2.471\n",
      "epoch 553, loss 2.471\n",
      "epoch 554, loss 2.471\n",
      "epoch 555, loss 2.471\n",
      "epoch 556, loss 2.471\n",
      "epoch 557, loss 2.471\n",
      "epoch 558, loss 2.471\n",
      "epoch 559, loss 2.471\n",
      "epoch 560, loss 2.471\n",
      "epoch 561, loss 2.471\n",
      "epoch 562, loss 2.471\n",
      "epoch 563, loss 2.471\n",
      "epoch 564, loss 2.471\n",
      "epoch 565, loss 2.471\n",
      "epoch 566, loss 2.471\n",
      "epoch 567, loss 2.471\n",
      "epoch 568, loss 2.471\n",
      "epoch 569, loss 2.471\n",
      "epoch 570, loss 2.471\n",
      "epoch 571, loss 2.471\n",
      "epoch 572, loss 2.471\n",
      "epoch 573, loss 2.471\n",
      "epoch 574, loss 2.471\n",
      "epoch 575, loss 2.471\n",
      "epoch 576, loss 2.471\n",
      "epoch 577, loss 2.471\n",
      "epoch 578, loss 2.471\n",
      "epoch 579, loss 2.471\n",
      "epoch 580, loss 2.471\n",
      "epoch 581, loss 2.471\n",
      "epoch 582, loss 2.471\n",
      "epoch 583, loss 2.471\n",
      "epoch 584, loss 2.471\n",
      "epoch 585, loss 2.471\n",
      "epoch 586, loss 2.471\n",
      "epoch 587, loss 2.471\n",
      "epoch 588, loss 2.471\n",
      "epoch 589, loss 2.471\n",
      "epoch 590, loss 2.471\n",
      "epoch 591, loss 2.471\n",
      "epoch 592, loss 2.471\n",
      "epoch 593, loss 2.471\n",
      "epoch 594, loss 2.471\n",
      "epoch 595, loss 2.471\n",
      "epoch 596, loss 2.471\n",
      "epoch 597, loss 2.471\n",
      "epoch 598, loss 2.471\n",
      "epoch 599, loss 2.471\n",
      "epoch 600, loss 2.471\n",
      "epoch 601, loss 2.471\n",
      "epoch 602, loss 2.471\n",
      "epoch 603, loss 2.471\n",
      "epoch 604, loss 2.471\n",
      "epoch 605, loss 2.471\n",
      "epoch 606, loss 2.471\n",
      "epoch 607, loss 2.471\n",
      "epoch 608, loss 2.471\n",
      "epoch 609, loss 2.471\n",
      "epoch 610, loss 2.471\n",
      "epoch 611, loss 2.471\n",
      "epoch 612, loss 2.471\n",
      "epoch 613, loss 2.471\n",
      "epoch 614, loss 2.471\n",
      "epoch 615, loss 2.471\n",
      "epoch 616, loss 2.471\n",
      "epoch 617, loss 2.471\n",
      "epoch 618, loss 2.471\n",
      "epoch 619, loss 2.471\n",
      "epoch 620, loss 2.471\n",
      "epoch 621, loss 2.471\n",
      "epoch 622, loss 2.471\n",
      "epoch 623, loss 2.471\n",
      "epoch 624, loss 2.471\n",
      "epoch 625, loss 2.471\n",
      "epoch 626, loss 2.471\n",
      "epoch 627, loss 2.471\n",
      "epoch 628, loss 2.471\n",
      "epoch 629, loss 2.471\n",
      "epoch 630, loss 2.471\n",
      "epoch 631, loss 2.471\n",
      "epoch 632, loss 2.471\n",
      "epoch 633, loss 2.471\n",
      "epoch 634, loss 2.471\n",
      "epoch 635, loss 2.471\n",
      "epoch 636, loss 2.471\n",
      "epoch 637, loss 2.471\n",
      "epoch 638, loss 2.471\n",
      "epoch 639, loss 2.471\n",
      "epoch 640, loss 2.471\n",
      "epoch 641, loss 2.471\n",
      "epoch 642, loss 2.471\n",
      "epoch 643, loss 2.471\n",
      "epoch 644, loss 2.471\n",
      "epoch 645, loss 2.471\n",
      "epoch 646, loss 2.471\n",
      "epoch 647, loss 2.471\n",
      "epoch 648, loss 2.471\n",
      "epoch 649, loss 2.471\n",
      "epoch 650, loss 2.471\n",
      "epoch 651, loss 2.471\n",
      "epoch 652, loss 2.471\n",
      "epoch 653, loss 2.471\n",
      "epoch 654, loss 2.471\n",
      "epoch 655, loss 2.471\n",
      "epoch 656, loss 2.471\n",
      "epoch 657, loss 2.471\n",
      "epoch 658, loss 2.471\n",
      "epoch 659, loss 2.471\n",
      "epoch 660, loss 2.471\n",
      "epoch 661, loss 2.471\n",
      "epoch 662, loss 2.471\n",
      "epoch 663, loss 2.471\n",
      "epoch 664, loss 2.471\n",
      "epoch 665, loss 2.471\n",
      "epoch 666, loss 2.471\n",
      "epoch 667, loss 2.471\n",
      "epoch 668, loss 2.471\n",
      "epoch 669, loss 2.471\n",
      "epoch 670, loss 2.471\n",
      "epoch 671, loss 2.471\n",
      "epoch 672, loss 2.471\n",
      "epoch 673, loss 2.471\n",
      "epoch 674, loss 2.471\n",
      "epoch 675, loss 2.471\n",
      "epoch 676, loss 2.471\n",
      "epoch 677, loss 2.471\n",
      "epoch 678, loss 2.471\n",
      "epoch 679, loss 2.471\n",
      "epoch 680, loss 2.471\n",
      "epoch 681, loss 2.471\n",
      "epoch 682, loss 2.471\n",
      "epoch 683, loss 2.471\n",
      "epoch 684, loss 2.471\n",
      "epoch 685, loss 2.471\n",
      "epoch 686, loss 2.471\n",
      "epoch 687, loss 2.471\n",
      "epoch 688, loss 2.471\n",
      "epoch 689, loss 2.471\n",
      "epoch 690, loss 2.471\n",
      "epoch 691, loss 2.471\n",
      "epoch 692, loss 2.471\n",
      "epoch 693, loss 2.471\n",
      "epoch 694, loss 2.471\n",
      "epoch 695, loss 2.471\n",
      "epoch 696, loss 2.471\n",
      "epoch 697, loss 2.471\n",
      "epoch 698, loss 2.471\n",
      "epoch 699, loss 2.471\n",
      "epoch 700, loss 2.471\n",
      "epoch 701, loss 2.471\n",
      "epoch 702, loss 2.471\n",
      "epoch 703, loss 2.471\n",
      "epoch 704, loss 2.471\n",
      "epoch 705, loss 2.471\n",
      "epoch 706, loss 2.471\n",
      "epoch 707, loss 2.471\n",
      "epoch 708, loss 2.471\n",
      "epoch 709, loss 2.471\n",
      "epoch 710, loss 2.471\n",
      "epoch 711, loss 2.471\n",
      "epoch 712, loss 2.471\n",
      "epoch 713, loss 2.471\n",
      "epoch 714, loss 2.471\n",
      "epoch 715, loss 2.471\n",
      "epoch 716, loss 2.471\n",
      "epoch 717, loss 2.471\n",
      "epoch 718, loss 2.471\n",
      "epoch 719, loss 2.471\n",
      "epoch 720, loss 2.471\n",
      "epoch 721, loss 2.471\n",
      "epoch 722, loss 2.471\n",
      "epoch 723, loss 2.471\n",
      "epoch 724, loss 2.471\n",
      "epoch 725, loss 2.471\n",
      "epoch 726, loss 2.471\n",
      "epoch 727, loss 2.471\n",
      "epoch 728, loss 2.471\n",
      "epoch 729, loss 2.471\n",
      "epoch 730, loss 2.471\n",
      "epoch 731, loss 2.471\n",
      "epoch 732, loss 2.471\n",
      "epoch 733, loss 2.471\n",
      "epoch 734, loss 2.471\n",
      "epoch 735, loss 2.471\n",
      "epoch 736, loss 2.471\n",
      "epoch 737, loss 2.471\n",
      "epoch 738, loss 2.471\n",
      "epoch 739, loss 2.471\n",
      "epoch 740, loss 2.471\n",
      "epoch 741, loss 2.471\n",
      "epoch 742, loss 2.471\n",
      "epoch 743, loss 2.471\n",
      "epoch 744, loss 2.471\n",
      "epoch 745, loss 2.471\n",
      "epoch 746, loss 2.471\n",
      "epoch 747, loss 2.471\n",
      "epoch 748, loss 2.471\n",
      "epoch 749, loss 2.471\n",
      "epoch 750, loss 2.471\n",
      "epoch 751, loss 2.471\n",
      "epoch 752, loss 2.471\n",
      "epoch 753, loss 2.471\n",
      "epoch 754, loss 2.471\n",
      "epoch 755, loss 2.471\n",
      "epoch 756, loss 2.471\n",
      "epoch 757, loss 2.471\n",
      "epoch 758, loss 2.471\n",
      "epoch 759, loss 2.471\n",
      "epoch 760, loss 2.471\n",
      "epoch 761, loss 2.471\n",
      "epoch 762, loss 2.471\n",
      "epoch 763, loss 2.471\n",
      "epoch 764, loss 2.471\n",
      "epoch 765, loss 2.471\n",
      "epoch 766, loss 2.471\n",
      "epoch 767, loss 2.471\n",
      "epoch 768, loss 2.471\n",
      "epoch 769, loss 2.471\n",
      "epoch 770, loss 2.471\n",
      "epoch 771, loss 2.471\n",
      "epoch 772, loss 2.471\n",
      "epoch 773, loss 2.471\n",
      "epoch 774, loss 2.471\n",
      "epoch 775, loss 2.471\n",
      "epoch 776, loss 2.471\n",
      "epoch 777, loss 2.471\n",
      "epoch 778, loss 2.471\n",
      "epoch 779, loss 2.471\n",
      "epoch 780, loss 2.471\n"
     ]
    },
    {
     "name": "stdout",
     "output_type": "stream",
     "text": [
      "epoch 781, loss 2.471\n",
      "epoch 782, loss 2.471\n",
      "epoch 783, loss 2.471\n",
      "epoch 784, loss 2.471\n",
      "epoch 785, loss 2.471\n",
      "epoch 786, loss 2.471\n",
      "epoch 787, loss 2.471\n",
      "epoch 788, loss 2.471\n",
      "epoch 789, loss 2.471\n",
      "epoch 790, loss 2.471\n",
      "epoch 791, loss 2.471\n",
      "epoch 792, loss 2.471\n",
      "epoch 793, loss 2.471\n",
      "epoch 794, loss 2.471\n",
      "epoch 795, loss 2.471\n",
      "epoch 796, loss 2.471\n",
      "epoch 797, loss 2.471\n",
      "epoch 798, loss 2.471\n",
      "epoch 799, loss 2.471\n",
      "epoch 800, loss 2.471\n",
      "epoch 801, loss 2.471\n",
      "epoch 802, loss 2.471\n",
      "epoch 803, loss 2.471\n",
      "epoch 804, loss 2.471\n",
      "epoch 805, loss 2.471\n",
      "epoch 806, loss 2.471\n",
      "epoch 807, loss 2.471\n",
      "epoch 808, loss 2.471\n",
      "epoch 809, loss 2.471\n",
      "epoch 810, loss 2.471\n",
      "epoch 811, loss 2.471\n",
      "epoch 812, loss 2.471\n",
      "epoch 813, loss 2.471\n",
      "epoch 814, loss 2.471\n",
      "epoch 815, loss 2.471\n",
      "epoch 816, loss 2.471\n",
      "epoch 817, loss 2.471\n",
      "epoch 818, loss 2.471\n",
      "epoch 819, loss 2.471\n",
      "epoch 820, loss 2.471\n",
      "epoch 821, loss 2.471\n",
      "epoch 822, loss 2.471\n",
      "epoch 823, loss 2.471\n",
      "epoch 824, loss 2.471\n",
      "epoch 825, loss 2.471\n",
      "epoch 826, loss 2.471\n",
      "epoch 827, loss 2.471\n",
      "epoch 828, loss 2.471\n",
      "epoch 829, loss 2.471\n",
      "epoch 830, loss 2.471\n",
      "epoch 831, loss 2.471\n",
      "epoch 832, loss 2.471\n",
      "epoch 833, loss 2.471\n",
      "epoch 834, loss 2.471\n",
      "epoch 835, loss 2.471\n",
      "epoch 836, loss 2.471\n",
      "epoch 837, loss 2.471\n",
      "epoch 838, loss 2.471\n",
      "epoch 839, loss 2.471\n",
      "epoch 840, loss 2.471\n",
      "epoch 841, loss 2.471\n",
      "epoch 842, loss 2.471\n",
      "epoch 843, loss 2.471\n",
      "epoch 844, loss 2.471\n",
      "epoch 845, loss 2.471\n",
      "epoch 846, loss 2.471\n",
      "epoch 847, loss 2.471\n",
      "epoch 848, loss 2.471\n",
      "epoch 849, loss 2.471\n",
      "epoch 850, loss 2.471\n",
      "epoch 851, loss 2.471\n",
      "epoch 852, loss 2.471\n",
      "epoch 853, loss 2.471\n",
      "epoch 854, loss 2.471\n",
      "epoch 855, loss 2.471\n",
      "epoch 856, loss 2.471\n",
      "epoch 857, loss 2.471\n",
      "epoch 858, loss 2.471\n",
      "epoch 859, loss 2.471\n",
      "epoch 860, loss 2.471\n",
      "epoch 861, loss 2.471\n",
      "epoch 862, loss 2.471\n",
      "epoch 863, loss 2.471\n",
      "epoch 864, loss 2.471\n",
      "epoch 865, loss 2.471\n",
      "epoch 866, loss 2.471\n",
      "epoch 867, loss 2.471\n",
      "epoch 868, loss 2.471\n",
      "epoch 869, loss 2.471\n",
      "epoch 870, loss 2.471\n",
      "epoch 871, loss 2.471\n",
      "epoch 872, loss 2.471\n",
      "epoch 873, loss 2.471\n",
      "epoch 874, loss 2.471\n",
      "epoch 875, loss 2.471\n",
      "epoch 876, loss 2.471\n",
      "epoch 877, loss 2.471\n",
      "epoch 878, loss 2.471\n",
      "epoch 879, loss 2.471\n",
      "epoch 880, loss 2.471\n",
      "epoch 881, loss 2.471\n",
      "epoch 882, loss 2.471\n",
      "epoch 883, loss 2.471\n",
      "epoch 884, loss 2.471\n",
      "epoch 885, loss 2.471\n",
      "epoch 886, loss 2.471\n",
      "epoch 887, loss 2.471\n",
      "epoch 888, loss 2.471\n",
      "epoch 889, loss 2.471\n",
      "epoch 890, loss 2.471\n",
      "epoch 891, loss 2.471\n",
      "epoch 892, loss 2.471\n",
      "epoch 893, loss 2.471\n",
      "epoch 894, loss 2.471\n",
      "epoch 895, loss 2.471\n",
      "epoch 896, loss 2.471\n",
      "epoch 897, loss 2.471\n",
      "epoch 898, loss 2.471\n",
      "epoch 899, loss 2.471\n",
      "epoch 900, loss 2.471\n",
      "epoch 901, loss 2.471\n",
      "epoch 902, loss 2.471\n",
      "epoch 903, loss 2.471\n",
      "epoch 904, loss 2.471\n",
      "epoch 905, loss 2.471\n",
      "epoch 906, loss 2.471\n",
      "epoch 907, loss 2.471\n",
      "epoch 908, loss 2.471\n",
      "epoch 909, loss 2.471\n",
      "epoch 910, loss 2.471\n",
      "epoch 911, loss 2.471\n",
      "epoch 912, loss 2.471\n",
      "epoch 913, loss 2.471\n",
      "epoch 914, loss 2.471\n",
      "epoch 915, loss 2.471\n",
      "epoch 916, loss 2.471\n",
      "epoch 917, loss 2.471\n",
      "epoch 918, loss 2.471\n",
      "epoch 919, loss 2.471\n",
      "epoch 920, loss 2.471\n",
      "epoch 921, loss 2.471\n",
      "epoch 922, loss 2.471\n",
      "epoch 923, loss 2.471\n",
      "epoch 924, loss 2.471\n",
      "epoch 925, loss 2.471\n",
      "epoch 926, loss 2.471\n",
      "epoch 927, loss 2.471\n",
      "epoch 928, loss 2.471\n",
      "epoch 929, loss 2.471\n",
      "epoch 930, loss 2.471\n",
      "epoch 931, loss 2.471\n",
      "epoch 932, loss 2.471\n",
      "epoch 933, loss 2.471\n",
      "epoch 934, loss 2.471\n",
      "epoch 935, loss 2.471\n",
      "epoch 936, loss 2.471\n",
      "epoch 937, loss 2.471\n",
      "epoch 938, loss 2.471\n",
      "epoch 939, loss 2.471\n",
      "epoch 940, loss 2.471\n",
      "epoch 941, loss 2.471\n",
      "epoch 942, loss 2.471\n",
      "epoch 943, loss 2.471\n",
      "epoch 944, loss 2.471\n",
      "epoch 945, loss 2.471\n",
      "epoch 946, loss 2.471\n",
      "epoch 947, loss 2.471\n",
      "epoch 948, loss 2.471\n",
      "epoch 949, loss 2.471\n",
      "epoch 950, loss 2.471\n",
      "epoch 951, loss 2.471\n",
      "epoch 952, loss 2.471\n",
      "epoch 953, loss 2.471\n",
      "epoch 954, loss 2.471\n",
      "epoch 955, loss 2.471\n",
      "epoch 956, loss 2.471\n",
      "epoch 957, loss 2.471\n",
      "epoch 958, loss 2.471\n",
      "epoch 959, loss 2.471\n",
      "epoch 960, loss 2.471\n",
      "epoch 961, loss 2.471\n",
      "epoch 962, loss 2.471\n",
      "epoch 963, loss 2.471\n",
      "epoch 964, loss 2.471\n",
      "epoch 965, loss 2.471\n",
      "epoch 966, loss 2.471\n",
      "epoch 967, loss 2.471\n",
      "epoch 968, loss 2.471\n",
      "epoch 969, loss 2.471\n",
      "epoch 970, loss 2.471\n",
      "epoch 971, loss 2.471\n",
      "epoch 972, loss 2.471\n",
      "epoch 973, loss 2.471\n",
      "epoch 974, loss 2.471\n",
      "epoch 975, loss 2.471\n",
      "epoch 976, loss 2.471\n",
      "epoch 977, loss 2.471\n",
      "epoch 978, loss 2.471\n",
      "epoch 979, loss 2.471\n",
      "epoch 980, loss 2.471\n",
      "epoch 981, loss 2.471\n",
      "epoch 982, loss 2.471\n",
      "epoch 983, loss 2.471\n",
      "epoch 984, loss 2.471\n",
      "epoch 985, loss 2.471\n",
      "epoch 986, loss 2.471\n",
      "epoch 987, loss 2.471\n",
      "epoch 988, loss 2.471\n",
      "epoch 989, loss 2.471\n",
      "epoch 990, loss 2.471\n",
      "epoch 991, loss 2.471\n",
      "epoch 992, loss 2.471\n",
      "epoch 993, loss 2.471\n",
      "epoch 994, loss 2.471\n",
      "epoch 995, loss 2.471\n",
      "epoch 996, loss 2.471\n",
      "epoch 997, loss 2.471\n",
      "epoch 998, loss 2.471\n",
      "epoch 999, loss 2.471\n",
      "epoch 1000, loss 2.471\n"
     ]
    }
   ],
   "source": [
    "model = Model(NN_ARCHITECTURE)\n",
    "model.compile(\"binary_crossentropy\", metrics=[\"accuracy\"])\n",
    "history = model.fit(X_train, y_train, 1000, 0.1)"
   ]
  },
  {
   "cell_type": "code",
   "execution_count": 62,
   "id": "b29dcdf7",
   "metadata": {
    "ExecuteTime": {
     "end_time": "2023-01-12T09:44:15.328560Z",
     "start_time": "2023-01-12T09:44:15.322490Z"
    }
   },
   "outputs": [
    {
     "data": {
      "text/plain": [
       "array([[0.00718806],\n",
       "       [0.00718806],\n",
       "       [0.00718806],\n",
       "       [0.00718806],\n",
       "       [0.00718806],\n",
       "       [0.00718806],\n",
       "       [0.00718806],\n",
       "       [0.00718806],\n",
       "       [0.00718806],\n",
       "       [0.00718806]])"
      ]
     },
     "execution_count": 62,
     "metadata": {},
     "output_type": "execute_result"
    }
   ],
   "source": [
    "y_pred = model.predict(X_train)\n",
    "y_pred[:10]"
   ]
  },
  {
   "cell_type": "code",
   "execution_count": 63,
   "id": "3823b95e",
   "metadata": {
    "ExecuteTime": {
     "end_time": "2023-01-12T09:44:19.155871Z",
     "start_time": "2023-01-12T09:44:18.774483Z"
    }
   },
   "outputs": [
    {
     "data": {
      "image/png": "[encoded data removed]",
      "text/plain": [
       "<Figure size 1296x360 with 3 Axes>"
      ]
     },
     "metadata": {
      "needs_background": "light"
     },
     "output_type": "display_data"
    }
   ],
   "source": [
    "plot(history)"
   ]
  },
  {
   "cell_type": "code",
   "execution_count": 64,
   "id": "ceb0064d",
   "metadata": {
    "ExecuteTime": {
     "end_time": "2023-01-12T09:45:34.194373Z",
     "start_time": "2023-01-12T09:45:34.189458Z"
    }
   },
   "outputs": [
    {
     "name": "stdout",
     "output_type": "stream",
     "text": [
      "0.5\n"
     ]
    }
   ],
   "source": [
    "y_pred = model.predict(X_test)\n",
    "print(accuracy(y_pred, y_test))"
   ]
  },
  {
   "cell_type": "code",
   "execution_count": 65,
   "id": "4fe0e263",
   "metadata": {
    "ExecuteTime": {
     "end_time": "2023-01-12T09:45:35.798530Z",
     "start_time": "2023-01-12T09:45:34.776583Z"
    }
   },
   "outputs": [
    {
     "name": "stdout",
     "output_type": "stream",
     "text": [
      "val: (160, 2) (160, 1)\n",
      "train: (640, 2) (640, 1)\n",
      "epoch 1, loss 0.703, val_loss 0.702\n",
      "epoch 2, loss 0.702, val_loss 0.700\n",
      "epoch 3, loss 0.700, val_loss 0.699\n",
      "epoch 4, loss 0.699, val_loss 0.698\n",
      "epoch 5, loss 0.698, val_loss 0.698\n",
      "epoch 6, loss 0.698, val_loss 0.697\n",
      "epoch 7, loss 0.697, val_loss 0.697\n",
      "epoch 8, loss 0.697, val_loss 0.696\n",
      "epoch 9, loss 0.696, val_loss 0.696\n",
      "epoch 10, loss 0.696, val_loss 0.695\n",
      "epoch 11, loss 0.695, val_loss 0.695\n",
      "epoch 12, loss 0.695, val_loss 0.695\n",
      "epoch 13, loss 0.695, val_loss 0.694\n",
      "epoch 14, loss 0.694, val_loss 0.694\n",
      "epoch 15, loss 0.694, val_loss 0.694\n",
      "epoch 16, loss 0.694, val_loss 0.693\n",
      "epoch 17, loss 0.693, val_loss 0.693\n",
      "epoch 18, loss 0.693, val_loss 0.693\n",
      "epoch 19, loss 0.693, val_loss 0.693\n",
      "epoch 20, loss 0.693, val_loss 0.693\n",
      "epoch 21, loss 0.693, val_loss 0.693\n",
      "epoch 22, loss 0.692, val_loss 0.692\n",
      "epoch 23, loss 0.692, val_loss 0.692\n",
      "epoch 24, loss 0.692, val_loss 0.692\n",
      "epoch 25, loss 0.692, val_loss 0.692\n",
      "epoch 26, loss 0.692, val_loss 0.692\n",
      "epoch 27, loss 0.692, val_loss 0.692\n",
      "epoch 28, loss 0.692, val_loss 0.692\n",
      "epoch 29, loss 0.692, val_loss 0.691\n",
      "epoch 30, loss 0.691, val_loss 0.691\n",
      "epoch 31, loss 0.691, val_loss 0.691\n",
      "epoch 32, loss 0.691, val_loss 0.691\n",
      "epoch 33, loss 0.691, val_loss 0.691\n",
      "epoch 34, loss 0.691, val_loss 0.691\n",
      "epoch 35, loss 0.691, val_loss 0.691\n",
      "epoch 36, loss 0.691, val_loss 0.691\n",
      "epoch 37, loss 0.691, val_loss 0.691\n",
      "epoch 38, loss 0.691, val_loss 0.691\n",
      "epoch 39, loss 0.691, val_loss 0.691\n",
      "epoch 40, loss 0.691, val_loss 0.690\n",
      "epoch 41, loss 0.690, val_loss 0.690\n",
      "epoch 42, loss 0.690, val_loss 0.690\n",
      "epoch 43, loss 0.690, val_loss 0.690\n",
      "epoch 44, loss 0.690, val_loss 0.690\n",
      "epoch 45, loss 0.690, val_loss 0.690\n",
      "epoch 46, loss 0.690, val_loss 0.690\n",
      "epoch 47, loss 0.690, val_loss 0.690\n",
      "epoch 48, loss 0.690, val_loss 0.690\n",
      "epoch 49, loss 0.690, val_loss 0.690\n",
      "epoch 50, loss 0.690, val_loss 0.690\n",
      "epoch 51, loss 0.690, val_loss 0.690\n",
      "epoch 52, loss 0.690, val_loss 0.690\n",
      "epoch 53, loss 0.689, val_loss 0.690\n",
      "epoch 54, loss 0.689, val_loss 0.689\n",
      "epoch 55, loss 0.689, val_loss 0.689\n",
      "epoch 56, loss 0.689, val_loss 0.689\n",
      "epoch 57, loss 0.689, val_loss 0.689\n",
      "epoch 58, loss 0.689, val_loss 0.689\n",
      "epoch 59, loss 0.689, val_loss 0.689\n",
      "epoch 60, loss 0.689, val_loss 0.689\n",
      "epoch 61, loss 0.689, val_loss 0.689\n",
      "epoch 62, loss 0.689, val_loss 0.689\n",
      "epoch 63, loss 0.689, val_loss 0.689\n",
      "epoch 64, loss 0.688, val_loss 0.688\n",
      "epoch 65, loss 0.688, val_loss 0.688\n",
      "epoch 66, loss 0.688, val_loss 0.688\n",
      "epoch 67, loss 0.688, val_loss 0.688\n",
      "epoch 68, loss 0.688, val_loss 0.688\n",
      "epoch 69, loss 0.688, val_loss 0.688\n",
      "epoch 70, loss 0.688, val_loss 0.688\n",
      "epoch 71, loss 0.688, val_loss 0.688\n",
      "epoch 72, loss 0.687, val_loss 0.687\n",
      "epoch 73, loss 0.687, val_loss 0.687\n",
      "epoch 74, loss 0.687, val_loss 0.687\n",
      "epoch 75, loss 0.687, val_loss 0.687\n",
      "epoch 76, loss 0.687, val_loss 0.687\n",
      "epoch 77, loss 0.687, val_loss 0.687\n",
      "epoch 78, loss 0.687, val_loss 0.687\n",
      "epoch 79, loss 0.686, val_loss 0.686\n",
      "epoch 80, loss 0.686, val_loss 0.686\n",
      "epoch 81, loss 0.686, val_loss 0.686\n",
      "epoch 82, loss 0.686, val_loss 0.686\n",
      "epoch 83, loss 0.686, val_loss 0.686\n",
      "epoch 84, loss 0.685, val_loss 0.685\n",
      "epoch 85, loss 0.685, val_loss 0.685\n",
      "epoch 86, loss 0.685, val_loss 0.685\n",
      "epoch 87, loss 0.685, val_loss 0.685\n",
      "epoch 88, loss 0.684, val_loss 0.684\n",
      "epoch 89, loss 0.684, val_loss 0.684\n",
      "epoch 90, loss 0.684, val_loss 0.684\n",
      "epoch 91, loss 0.684, val_loss 0.684\n",
      "epoch 92, loss 0.683, val_loss 0.683\n",
      "epoch 93, loss 0.683, val_loss 0.683\n",
      "epoch 94, loss 0.683, val_loss 0.683\n",
      "epoch 95, loss 0.682, val_loss 0.682\n",
      "epoch 96, loss 0.682, val_loss 0.682\n",
      "epoch 97, loss 0.682, val_loss 0.682\n",
      "epoch 98, loss 0.681, val_loss 0.681\n",
      "epoch 99, loss 0.681, val_loss 0.681\n",
      "epoch 100, loss 0.680, val_loss 0.680\n",
      "epoch 101, loss 0.680, val_loss 0.680\n",
      "epoch 102, loss 0.679, val_loss 0.679\n",
      "epoch 103, loss 0.679, val_loss 0.679\n",
      "epoch 104, loss 0.678, val_loss 0.678\n",
      "epoch 105, loss 0.678, val_loss 0.678\n",
      "epoch 106, loss 0.677, val_loss 0.677\n",
      "epoch 107, loss 0.677, val_loss 0.677\n",
      "epoch 108, loss 0.676, val_loss 0.676\n",
      "epoch 109, loss 0.675, val_loss 0.675\n",
      "epoch 110, loss 0.675, val_loss 0.674\n",
      "epoch 111, loss 0.674, val_loss 0.674\n",
      "epoch 112, loss 0.673, val_loss 0.673\n",
      "epoch 113, loss 0.672, val_loss 0.672\n",
      "epoch 114, loss 0.671, val_loss 0.671\n",
      "epoch 115, loss 0.670, val_loss 0.670\n",
      "epoch 116, loss 0.669, val_loss 0.669\n",
      "epoch 117, loss 0.668, val_loss 0.668\n",
      "epoch 118, loss 0.667, val_loss 0.667\n",
      "epoch 119, loss 0.666, val_loss 0.665\n",
      "epoch 120, loss 0.664, val_loss 0.664\n",
      "epoch 121, loss 0.663, val_loss 0.663\n",
      "epoch 122, loss 0.662, val_loss 0.661\n",
      "epoch 123, loss 0.660, val_loss 0.659\n",
      "epoch 124, loss 0.659, val_loss 0.658\n",
      "epoch 125, loss 0.657, val_loss 0.656\n",
      "epoch 126, loss 0.655, val_loss 0.654\n",
      "epoch 127, loss 0.653, val_loss 0.652\n",
      "epoch 128, loss 0.651, val_loss 0.650\n",
      "epoch 129, loss 0.649, val_loss 0.648\n",
      "epoch 130, loss 0.647, val_loss 0.646\n",
      "epoch 131, loss 0.645, val_loss 0.644\n",
      "epoch 132, loss 0.642, val_loss 0.641\n",
      "epoch 133, loss 0.639, val_loss 0.638\n",
      "epoch 134, loss 0.637, val_loss 0.635\n",
      "epoch 135, loss 0.634, val_loss 0.632\n",
      "epoch 136, loss 0.630, val_loss 0.629\n",
      "epoch 137, loss 0.627, val_loss 0.625\n",
      "epoch 138, loss 0.623, val_loss 0.622\n",
      "epoch 139, loss 0.619, val_loss 0.618\n",
      "epoch 140, loss 0.615, val_loss 0.614\n",
      "epoch 141, loss 0.611, val_loss 0.609\n",
      "epoch 142, loss 0.606, val_loss 0.605\n",
      "epoch 143, loss 0.601, val_loss 0.600\n",
      "epoch 144, loss 0.596, val_loss 0.595\n",
      "epoch 145, loss 0.591, val_loss 0.589\n",
      "epoch 146, loss 0.585, val_loss 0.584\n",
      "epoch 147, loss 0.579, val_loss 0.578\n",
      "epoch 148, loss 0.573, val_loss 0.572\n",
      "epoch 149, loss 0.567, val_loss 0.566\n",
      "epoch 150, loss 0.560, val_loss 0.560\n",
      "epoch 151, loss 0.554, val_loss 0.553\n",
      "epoch 152, loss 0.547, val_loss 0.547\n",
      "epoch 153, loss 0.540, val_loss 0.541\n",
      "epoch 154, loss 0.533, val_loss 0.535\n",
      "epoch 155, loss 0.527, val_loss 0.529\n",
      "epoch 156, loss 0.520, val_loss 0.523\n",
      "epoch 157, loss 0.513, val_loss 0.517\n",
      "epoch 158, loss 0.507, val_loss 0.511\n",
      "epoch 159, loss 0.501, val_loss 0.506\n",
      "epoch 160, loss 0.494, val_loss 0.501\n",
      "epoch 161, loss 0.489, val_loss 0.496\n",
      "epoch 162, loss 0.483, val_loss 0.491\n",
      "epoch 163, loss 0.477, val_loss 0.486\n",
      "epoch 164, loss 0.472, val_loss 0.482\n",
      "epoch 165, loss 0.467, val_loss 0.477\n",
      "epoch 166, loss 0.462, val_loss 0.473\n",
      "epoch 167, loss 0.457, val_loss 0.469\n",
      "epoch 168, loss 0.452, val_loss 0.465\n",
      "epoch 169, loss 0.448, val_loss 0.461\n",
      "epoch 170, loss 0.444, val_loss 0.457\n",
      "epoch 171, loss 0.440, val_loss 0.454\n",
      "epoch 172, loss 0.435, val_loss 0.450\n",
      "epoch 173, loss 0.432, val_loss 0.447\n",
      "epoch 174, loss 0.428, val_loss 0.444\n",
      "epoch 175, loss 0.424, val_loss 0.441\n",
      "epoch 176, loss 0.420, val_loss 0.437\n",
      "epoch 177, loss 0.417, val_loss 0.434\n",
      "epoch 178, loss 0.413, val_loss 0.432\n",
      "epoch 179, loss 0.410, val_loss 0.429\n",
      "epoch 180, loss 0.407, val_loss 0.426\n",
      "epoch 181, loss 0.404, val_loss 0.423\n",
      "epoch 182, loss 0.401, val_loss 0.421\n",
      "epoch 183, loss 0.398, val_loss 0.418\n",
      "epoch 184, loss 0.395, val_loss 0.416\n",
      "epoch 185, loss 0.392, val_loss 0.413\n",
      "epoch 186, loss 0.389, val_loss 0.411\n",
      "epoch 187, loss 0.386, val_loss 0.409\n",
      "epoch 188, loss 0.384, val_loss 0.406\n",
      "epoch 189, loss 0.381, val_loss 0.404\n",
      "epoch 190, loss 0.379, val_loss 0.402\n",
      "epoch 191, loss 0.376, val_loss 0.400\n",
      "epoch 192, loss 0.374, val_loss 0.398\n",
      "epoch 193, loss 0.372, val_loss 0.396\n",
      "epoch 194, loss 0.370, val_loss 0.395\n",
      "epoch 195, loss 0.368, val_loss 0.393\n",
      "epoch 196, loss 0.365, val_loss 0.391\n",
      "epoch 197, loss 0.363, val_loss 0.389\n",
      "epoch 198, loss 0.361, val_loss 0.388\n",
      "epoch 199, loss 0.360, val_loss 0.386\n",
      "epoch 200, loss 0.358, val_loss 0.385\n",
      "epoch 201, loss 0.356, val_loss 0.383\n",
      "epoch 202, loss 0.354, val_loss 0.382\n",
      "epoch 203, loss 0.352, val_loss 0.380\n",
      "epoch 204, loss 0.351, val_loss 0.379\n",
      "epoch 205, loss 0.349, val_loss 0.378\n",
      "epoch 206, loss 0.348, val_loss 0.376\n",
      "epoch 207, loss 0.346, val_loss 0.375\n",
      "epoch 208, loss 0.345, val_loss 0.374\n",
      "epoch 209, loss 0.343, val_loss 0.373\n",
      "epoch 210, loss 0.342, val_loss 0.372\n",
      "epoch 211, loss 0.341, val_loss 0.371\n",
      "epoch 212, loss 0.339, val_loss 0.370\n",
      "epoch 213, loss 0.338, val_loss 0.369\n",
      "epoch 214, loss 0.337, val_loss 0.368\n",
      "epoch 215, loss 0.336, val_loss 0.367\n",
      "epoch 216, loss 0.335, val_loss 0.366\n",
      "epoch 217, loss 0.333, val_loss 0.365\n",
      "epoch 218, loss 0.332, val_loss 0.364\n",
      "epoch 219, loss 0.331, val_loss 0.363\n",
      "epoch 220, loss 0.330, val_loss 0.362\n",
      "epoch 221, loss 0.329, val_loss 0.362\n",
      "epoch 222, loss 0.328, val_loss 0.361\n",
      "epoch 223, loss 0.327, val_loss 0.360\n",
      "epoch 224, loss 0.326, val_loss 0.359\n",
      "epoch 225, loss 0.326, val_loss 0.359\n",
      "epoch 226, loss 0.325, val_loss 0.358\n",
      "epoch 227, loss 0.324, val_loss 0.357\n",
      "epoch 228, loss 0.323, val_loss 0.357\n",
      "epoch 229, loss 0.322, val_loss 0.356\n",
      "epoch 230, loss 0.321, val_loss 0.356\n",
      "epoch 231, loss 0.321, val_loss 0.355\n",
      "epoch 232, loss 0.320, val_loss 0.355\n",
      "epoch 233, loss 0.319, val_loss 0.354\n",
      "epoch 234, loss 0.319, val_loss 0.353\n",
      "epoch 235, loss 0.318, val_loss 0.353\n",
      "epoch 236, loss 0.317, val_loss 0.352\n",
      "epoch 237, loss 0.317, val_loss 0.352\n",
      "epoch 238, loss 0.316, val_loss 0.352\n",
      "epoch 239, loss 0.315, val_loss 0.351\n",
      "epoch 240, loss 0.315, val_loss 0.351\n",
      "epoch 241, loss 0.314, val_loss 0.350\n",
      "epoch 242, loss 0.314, val_loss 0.350\n",
      "epoch 243, loss 0.313, val_loss 0.349\n",
      "epoch 244, loss 0.313, val_loss 0.349\n",
      "epoch 245, loss 0.312, val_loss 0.349\n",
      "epoch 246, loss 0.312, val_loss 0.348\n",
      "epoch 247, loss 0.311, val_loss 0.348\n",
      "epoch 248, loss 0.311, val_loss 0.348\n",
      "epoch 249, loss 0.310, val_loss 0.347\n",
      "epoch 250, loss 0.310, val_loss 0.347\n",
      "epoch 251, loss 0.309, val_loss 0.347\n",
      "epoch 252, loss 0.309, val_loss 0.346\n",
      "epoch 253, loss 0.308, val_loss 0.346\n",
      "epoch 254, loss 0.308, val_loss 0.346\n",
      "epoch 255, loss 0.307, val_loss 0.345\n",
      "epoch 256, loss 0.307, val_loss 0.345\n",
      "epoch 257, loss 0.307, val_loss 0.345\n",
      "epoch 258, loss 0.306, val_loss 0.344\n",
      "epoch 259, loss 0.306, val_loss 0.344\n",
      "epoch 260, loss 0.305, val_loss 0.344\n",
      "epoch 261, loss 0.305, val_loss 0.343\n",
      "epoch 262, loss 0.305, val_loss 0.343\n",
      "epoch 263, loss 0.304, val_loss 0.343\n",
      "epoch 264, loss 0.304, val_loss 0.343\n",
      "epoch 265, loss 0.303, val_loss 0.342\n",
      "epoch 266, loss 0.303, val_loss 0.342\n",
      "epoch 267, loss 0.303, val_loss 0.342\n",
      "epoch 268, loss 0.302, val_loss 0.342\n",
      "epoch 269, loss 0.302, val_loss 0.341\n",
      "epoch 270, loss 0.302, val_loss 0.341\n",
      "epoch 271, loss 0.301, val_loss 0.341\n",
      "epoch 272, loss 0.301, val_loss 0.341\n",
      "epoch 273, loss 0.301, val_loss 0.340\n",
      "epoch 274, loss 0.300, val_loss 0.340\n",
      "epoch 275, loss 0.300, val_loss 0.340\n",
      "epoch 276, loss 0.300, val_loss 0.340\n",
      "epoch 277, loss 0.299, val_loss 0.339\n",
      "epoch 278, loss 0.299, val_loss 0.339\n",
      "epoch 279, loss 0.299, val_loss 0.339\n",
      "epoch 280, loss 0.298, val_loss 0.339\n",
      "epoch 281, loss 0.298, val_loss 0.338\n",
      "epoch 282, loss 0.298, val_loss 0.338\n"
     ]
    },
    {
     "name": "stdout",
     "output_type": "stream",
     "text": [
      "epoch 283, loss 0.298, val_loss 0.338\n",
      "epoch 284, loss 0.297, val_loss 0.337\n",
      "epoch 285, loss 0.297, val_loss 0.337\n",
      "epoch 286, loss 0.297, val_loss 0.337\n",
      "epoch 287, loss 0.296, val_loss 0.337\n",
      "epoch 288, loss 0.296, val_loss 0.336\n",
      "epoch 289, loss 0.296, val_loss 0.336\n",
      "epoch 290, loss 0.295, val_loss 0.336\n",
      "epoch 291, loss 0.295, val_loss 0.336\n",
      "epoch 292, loss 0.295, val_loss 0.335\n",
      "epoch 293, loss 0.295, val_loss 0.335\n",
      "epoch 294, loss 0.294, val_loss 0.335\n",
      "epoch 295, loss 0.294, val_loss 0.335\n",
      "epoch 296, loss 0.294, val_loss 0.334\n",
      "epoch 297, loss 0.294, val_loss 0.334\n",
      "epoch 298, loss 0.293, val_loss 0.334\n",
      "epoch 299, loss 0.293, val_loss 0.334\n",
      "epoch 300, loss 0.293, val_loss 0.334\n",
      "epoch 301, loss 0.293, val_loss 0.333\n",
      "epoch 302, loss 0.292, val_loss 0.333\n",
      "epoch 303, loss 0.292, val_loss 0.333\n",
      "epoch 304, loss 0.292, val_loss 0.333\n",
      "epoch 305, loss 0.292, val_loss 0.333\n",
      "epoch 306, loss 0.291, val_loss 0.332\n",
      "epoch 307, loss 0.291, val_loss 0.332\n",
      "epoch 308, loss 0.291, val_loss 0.332\n",
      "epoch 309, loss 0.291, val_loss 0.332\n",
      "epoch 310, loss 0.291, val_loss 0.332\n",
      "epoch 311, loss 0.290, val_loss 0.331\n",
      "epoch 312, loss 0.290, val_loss 0.331\n",
      "epoch 313, loss 0.290, val_loss 0.331\n",
      "epoch 314, loss 0.290, val_loss 0.331\n",
      "epoch 315, loss 0.289, val_loss 0.331\n",
      "epoch 316, loss 0.289, val_loss 0.331\n",
      "epoch 317, loss 0.289, val_loss 0.330\n",
      "epoch 318, loss 0.289, val_loss 0.330\n",
      "epoch 319, loss 0.289, val_loss 0.330\n",
      "epoch 320, loss 0.288, val_loss 0.330\n",
      "epoch 321, loss 0.288, val_loss 0.330\n",
      "epoch 322, loss 0.288, val_loss 0.329\n",
      "epoch 323, loss 0.288, val_loss 0.329\n",
      "epoch 324, loss 0.288, val_loss 0.329\n",
      "epoch 325, loss 0.287, val_loss 0.329\n",
      "epoch 326, loss 0.287, val_loss 0.329\n",
      "epoch 327, loss 0.287, val_loss 0.329\n",
      "epoch 328, loss 0.287, val_loss 0.328\n",
      "epoch 329, loss 0.287, val_loss 0.328\n",
      "epoch 330, loss 0.286, val_loss 0.328\n",
      "epoch 331, loss 0.286, val_loss 0.328\n",
      "epoch 332, loss 0.286, val_loss 0.328\n",
      "epoch 333, loss 0.286, val_loss 0.328\n",
      "epoch 334, loss 0.286, val_loss 0.328\n",
      "epoch 335, loss 0.285, val_loss 0.327\n",
      "epoch 336, loss 0.285, val_loss 0.327\n",
      "epoch 337, loss 0.285, val_loss 0.327\n",
      "epoch 338, loss 0.285, val_loss 0.327\n",
      "epoch 339, loss 0.285, val_loss 0.327\n",
      "epoch 340, loss 0.285, val_loss 0.327\n",
      "epoch 341, loss 0.284, val_loss 0.326\n",
      "epoch 342, loss 0.284, val_loss 0.326\n",
      "epoch 343, loss 0.284, val_loss 0.326\n",
      "epoch 344, loss 0.284, val_loss 0.326\n",
      "epoch 345, loss 0.284, val_loss 0.326\n",
      "epoch 346, loss 0.283, val_loss 0.326\n",
      "epoch 347, loss 0.283, val_loss 0.325\n",
      "epoch 348, loss 0.283, val_loss 0.325\n",
      "epoch 349, loss 0.283, val_loss 0.325\n",
      "epoch 350, loss 0.283, val_loss 0.325\n",
      "epoch 351, loss 0.283, val_loss 0.325\n",
      "epoch 352, loss 0.282, val_loss 0.324\n",
      "epoch 353, loss 0.282, val_loss 0.324\n",
      "epoch 354, loss 0.282, val_loss 0.324\n",
      "epoch 355, loss 0.282, val_loss 0.324\n",
      "epoch 356, loss 0.282, val_loss 0.324\n",
      "epoch 357, loss 0.281, val_loss 0.324\n",
      "epoch 358, loss 0.281, val_loss 0.323\n",
      "epoch 359, loss 0.281, val_loss 0.323\n",
      "epoch 360, loss 0.281, val_loss 0.323\n",
      "epoch 361, loss 0.281, val_loss 0.323\n",
      "epoch 362, loss 0.281, val_loss 0.323\n",
      "epoch 363, loss 0.280, val_loss 0.323\n",
      "epoch 364, loss 0.280, val_loss 0.322\n",
      "epoch 365, loss 0.280, val_loss 0.322\n",
      "epoch 366, loss 0.280, val_loss 0.322\n",
      "epoch 367, loss 0.280, val_loss 0.322\n",
      "epoch 368, loss 0.279, val_loss 0.322\n",
      "epoch 369, loss 0.279, val_loss 0.322\n",
      "epoch 370, loss 0.279, val_loss 0.321\n",
      "epoch 371, loss 0.279, val_loss 0.321\n",
      "epoch 372, loss 0.279, val_loss 0.321\n",
      "epoch 373, loss 0.278, val_loss 0.321\n",
      "epoch 374, loss 0.278, val_loss 0.321\n",
      "epoch 375, loss 0.278, val_loss 0.321\n",
      "epoch 376, loss 0.278, val_loss 0.320\n",
      "epoch 377, loss 0.278, val_loss 0.320\n",
      "epoch 378, loss 0.278, val_loss 0.320\n",
      "epoch 379, loss 0.277, val_loss 0.320\n",
      "epoch 380, loss 0.277, val_loss 0.320\n",
      "epoch 381, loss 0.277, val_loss 0.320\n",
      "epoch 382, loss 0.277, val_loss 0.319\n",
      "epoch 383, loss 0.277, val_loss 0.319\n",
      "epoch 384, loss 0.276, val_loss 0.319\n",
      "epoch 385, loss 0.276, val_loss 0.319\n",
      "epoch 386, loss 0.276, val_loss 0.319\n",
      "epoch 387, loss 0.276, val_loss 0.318\n",
      "epoch 388, loss 0.276, val_loss 0.318\n",
      "epoch 389, loss 0.276, val_loss 0.318\n",
      "epoch 390, loss 0.275, val_loss 0.318\n",
      "epoch 391, loss 0.275, val_loss 0.318\n",
      "epoch 392, loss 0.275, val_loss 0.318\n",
      "epoch 393, loss 0.275, val_loss 0.317\n",
      "epoch 394, loss 0.275, val_loss 0.317\n",
      "epoch 395, loss 0.274, val_loss 0.317\n",
      "epoch 396, loss 0.274, val_loss 0.317\n",
      "epoch 397, loss 0.274, val_loss 0.317\n",
      "epoch 398, loss 0.274, val_loss 0.317\n",
      "epoch 399, loss 0.274, val_loss 0.316\n",
      "epoch 400, loss 0.273, val_loss 0.316\n",
      "epoch 401, loss 0.273, val_loss 0.316\n",
      "epoch 402, loss 0.273, val_loss 0.316\n",
      "epoch 403, loss 0.273, val_loss 0.316\n",
      "epoch 404, loss 0.273, val_loss 0.315\n",
      "epoch 405, loss 0.273, val_loss 0.315\n",
      "epoch 406, loss 0.272, val_loss 0.315\n",
      "epoch 407, loss 0.272, val_loss 0.315\n",
      "epoch 408, loss 0.272, val_loss 0.315\n",
      "epoch 409, loss 0.272, val_loss 0.315\n",
      "epoch 410, loss 0.272, val_loss 0.314\n",
      "epoch 411, loss 0.271, val_loss 0.314\n",
      "epoch 412, loss 0.271, val_loss 0.314\n",
      "epoch 413, loss 0.271, val_loss 0.314\n",
      "epoch 414, loss 0.271, val_loss 0.314\n",
      "epoch 415, loss 0.271, val_loss 0.313\n",
      "epoch 416, loss 0.271, val_loss 0.313\n",
      "epoch 417, loss 0.270, val_loss 0.313\n",
      "epoch 418, loss 0.270, val_loss 0.313\n",
      "epoch 419, loss 0.270, val_loss 0.313\n",
      "epoch 420, loss 0.270, val_loss 0.313\n",
      "epoch 421, loss 0.270, val_loss 0.312\n",
      "epoch 422, loss 0.270, val_loss 0.312\n",
      "epoch 423, loss 0.269, val_loss 0.312\n",
      "epoch 424, loss 0.269, val_loss 0.312\n",
      "epoch 425, loss 0.269, val_loss 0.312\n",
      "epoch 426, loss 0.269, val_loss 0.311\n",
      "epoch 427, loss 0.269, val_loss 0.311\n",
      "epoch 428, loss 0.269, val_loss 0.311\n",
      "epoch 429, loss 0.268, val_loss 0.311\n",
      "epoch 430, loss 0.268, val_loss 0.311\n",
      "epoch 431, loss 0.268, val_loss 0.311\n",
      "epoch 432, loss 0.268, val_loss 0.310\n",
      "epoch 433, loss 0.268, val_loss 0.310\n",
      "epoch 434, loss 0.267, val_loss 0.310\n",
      "epoch 435, loss 0.267, val_loss 0.310\n",
      "epoch 436, loss 0.267, val_loss 0.310\n",
      "epoch 437, loss 0.267, val_loss 0.310\n",
      "epoch 438, loss 0.267, val_loss 0.309\n",
      "epoch 439, loss 0.267, val_loss 0.309\n",
      "epoch 440, loss 0.266, val_loss 0.309\n",
      "epoch 441, loss 0.266, val_loss 0.309\n",
      "epoch 442, loss 0.266, val_loss 0.309\n",
      "epoch 443, loss 0.266, val_loss 0.309\n",
      "epoch 444, loss 0.266, val_loss 0.308\n",
      "epoch 445, loss 0.266, val_loss 0.308\n",
      "epoch 446, loss 0.266, val_loss 0.308\n",
      "epoch 447, loss 0.265, val_loss 0.308\n",
      "epoch 448, loss 0.265, val_loss 0.308\n",
      "epoch 449, loss 0.265, val_loss 0.308\n",
      "epoch 450, loss 0.265, val_loss 0.307\n",
      "epoch 451, loss 0.265, val_loss 0.307\n",
      "epoch 452, loss 0.265, val_loss 0.307\n",
      "epoch 453, loss 0.264, val_loss 0.307\n",
      "epoch 454, loss 0.264, val_loss 0.307\n",
      "epoch 455, loss 0.264, val_loss 0.307\n",
      "epoch 456, loss 0.264, val_loss 0.306\n",
      "epoch 457, loss 0.264, val_loss 0.306\n",
      "epoch 458, loss 0.264, val_loss 0.306\n",
      "epoch 459, loss 0.264, val_loss 0.306\n",
      "epoch 460, loss 0.263, val_loss 0.306\n",
      "epoch 461, loss 0.263, val_loss 0.306\n",
      "epoch 462, loss 0.263, val_loss 0.305\n",
      "epoch 463, loss 0.263, val_loss 0.305\n",
      "epoch 464, loss 0.263, val_loss 0.305\n",
      "epoch 465, loss 0.263, val_loss 0.305\n",
      "epoch 466, loss 0.262, val_loss 0.305\n",
      "epoch 467, loss 0.262, val_loss 0.305\n",
      "epoch 468, loss 0.262, val_loss 0.304\n",
      "epoch 469, loss 0.262, val_loss 0.304\n",
      "epoch 470, loss 0.262, val_loss 0.304\n",
      "epoch 471, loss 0.262, val_loss 0.304\n",
      "epoch 472, loss 0.262, val_loss 0.304\n",
      "epoch 473, loss 0.261, val_loss 0.304\n",
      "epoch 474, loss 0.261, val_loss 0.304\n",
      "epoch 475, loss 0.261, val_loss 0.303\n",
      "epoch 476, loss 0.261, val_loss 0.303\n",
      "epoch 477, loss 0.261, val_loss 0.303\n",
      "epoch 478, loss 0.261, val_loss 0.303\n",
      "epoch 479, loss 0.261, val_loss 0.303\n",
      "epoch 480, loss 0.261, val_loss 0.303\n",
      "epoch 481, loss 0.260, val_loss 0.302\n",
      "epoch 482, loss 0.260, val_loss 0.302\n",
      "epoch 483, loss 0.260, val_loss 0.302\n",
      "epoch 484, loss 0.260, val_loss 0.302\n",
      "epoch 485, loss 0.260, val_loss 0.302\n",
      "epoch 486, loss 0.260, val_loss 0.302\n",
      "epoch 487, loss 0.260, val_loss 0.302\n",
      "epoch 488, loss 0.259, val_loss 0.301\n",
      "epoch 489, loss 0.259, val_loss 0.301\n",
      "epoch 490, loss 0.259, val_loss 0.301\n",
      "epoch 491, loss 0.259, val_loss 0.301\n",
      "epoch 492, loss 0.259, val_loss 0.301\n",
      "epoch 493, loss 0.259, val_loss 0.301\n",
      "epoch 494, loss 0.259, val_loss 0.301\n",
      "epoch 495, loss 0.259, val_loss 0.300\n",
      "epoch 496, loss 0.258, val_loss 0.300\n",
      "epoch 497, loss 0.258, val_loss 0.300\n",
      "epoch 498, loss 0.258, val_loss 0.300\n",
      "epoch 499, loss 0.258, val_loss 0.300\n",
      "epoch 500, loss 0.258, val_loss 0.300\n"
     ]
    }
   ],
   "source": [
    "# Same architecture\n",
    "# but New learning rate and val set\n",
    "model.compile(\"binary_crossentropy\", metrics=[\"accuracy\"])\n",
    "history = model.fit(X_train, y_train, 500, 0.001, validation_split=0.2)"
   ]
  },
  {
   "cell_type": "code",
   "execution_count": 66,
   "id": "6c0a908e",
   "metadata": {
    "ExecuteTime": {
     "end_time": "2023-01-12T09:45:50.620653Z",
     "start_time": "2023-01-12T09:45:50.151566Z"
    }
   },
   "outputs": [
    {
     "data": {
      "image/png": "[encoded data removed]",
      "text/plain": [
       "<Figure size 1296x360 with 3 Axes>"
      ]
     },
     "metadata": {
      "needs_background": "light"
     },
     "output_type": "display_data"
    }
   ],
   "source": [
    "plot(history)"
   ]
  },
  {
   "cell_type": "code",
   "execution_count": null,
   "id": "81c676f0",
   "metadata": {
    "ExecuteTime": {
     "end_time": "2023-01-09T10:03:57.332854Z",
     "start_time": "2023-01-09T10:03:57.328768Z"
    }
   },
   "outputs": [],
   "source": [
    "y_pred = model.predict(X_test)\n",
    "print(accuracy(y_pred, y_test))"
   ]
  },
  {
   "cell_type": "markdown",
   "id": "bc8b74b1",
   "metadata": {},
   "source": [
    "## Same model with Keras - Tensorflow"
   ]
  },
  {
   "cell_type": "code",
   "execution_count": 42,
   "id": "46df669e",
   "metadata": {
    "ExecuteTime": {
     "end_time": "2023-01-12T09:31:21.711218Z",
     "start_time": "2023-01-12T09:31:16.892183Z"
    }
   },
   "outputs": [],
   "source": [
    "import keras\n",
    "from keras.models import Sequential\n",
    "from keras.layers import Dense\n",
    "from keras.utils import np_utils\n",
    "from keras import initializers\n",
    "\n",
    "from sklearn.metrics import accuracy_score"
   ]
  },
  {
   "cell_type": "code",
   "execution_count": 43,
   "id": "4435db2f",
   "metadata": {
    "ExecuteTime": {
     "end_time": "2023-01-12T09:31:22.371217Z",
     "start_time": "2023-01-12T09:31:21.713881Z"
    }
   },
   "outputs": [
    {
     "ename": "NameError",
     "evalue": "name 'X_train' is not defined",
     "output_type": "error",
     "traceback": [
      "\u001b[0;31m---------------------------------------------------------------------------\u001b[0m",
      "\u001b[0;31mNameError\u001b[0m                                 Traceback (most recent call last)",
      "\u001b[0;32m<ipython-input-43-580d201a6227>\u001b[0m in \u001b[0;36m<module>\u001b[0;34m\u001b[0m\n\u001b[1;32m      1\u001b[0m \u001b[0;31m# Building a model\u001b[0m\u001b[0;34m\u001b[0m\u001b[0;34m\u001b[0m\u001b[0;34m\u001b[0m\u001b[0m\n\u001b[1;32m      2\u001b[0m \u001b[0mmodel\u001b[0m \u001b[0;34m=\u001b[0m \u001b[0mSequential\u001b[0m\u001b[0;34m(\u001b[0m\u001b[0;34m)\u001b[0m\u001b[0;34m\u001b[0m\u001b[0;34m\u001b[0m\u001b[0m\n\u001b[0;32m----> 3\u001b[0;31m \u001b[0mmodel\u001b[0m\u001b[0;34m.\u001b[0m\u001b[0madd\u001b[0m\u001b[0;34m(\u001b[0m\u001b[0mDense\u001b[0m\u001b[0;34m(\u001b[0m\u001b[0;36m4\u001b[0m\u001b[0;34m,\u001b[0m \u001b[0minput_dim\u001b[0m\u001b[0;34m=\u001b[0m\u001b[0mX_train\u001b[0m\u001b[0;34m.\u001b[0m\u001b[0mshape\u001b[0m\u001b[0;34m[\u001b[0m\u001b[0;36m1\u001b[0m\u001b[0;34m]\u001b[0m\u001b[0;34m,\u001b[0m \u001b[0mkernel_initializer\u001b[0m\u001b[0;34m=\u001b[0m\u001b[0minitializers\u001b[0m\u001b[0;34m.\u001b[0m\u001b[0mRandomNormal\u001b[0m\u001b[0;34m(\u001b[0m\u001b[0mstddev\u001b[0m\u001b[0;34m=\u001b[0m\u001b[0;36m0.2\u001b[0m\u001b[0;34m)\u001b[0m\u001b[0;34m,\u001b[0m \u001b[0mactivation\u001b[0m\u001b[0;34m=\u001b[0m\u001b[0;34m'relu'\u001b[0m\u001b[0;34m)\u001b[0m\u001b[0;34m)\u001b[0m\u001b[0;34m\u001b[0m\u001b[0;34m\u001b[0m\u001b[0m\n\u001b[0m\u001b[1;32m      4\u001b[0m \u001b[0mmodel\u001b[0m\u001b[0;34m.\u001b[0m\u001b[0madd\u001b[0m\u001b[0;34m(\u001b[0m\u001b[0mDense\u001b[0m\u001b[0;34m(\u001b[0m\u001b[0;36m6\u001b[0m\u001b[0;34m,\u001b[0m \u001b[0mkernel_initializer\u001b[0m\u001b[0;34m=\u001b[0m\u001b[0minitializers\u001b[0m\u001b[0;34m.\u001b[0m\u001b[0mRandomNormal\u001b[0m\u001b[0;34m(\u001b[0m\u001b[0mstddev\u001b[0m\u001b[0;34m=\u001b[0m\u001b[0;36m0.2\u001b[0m\u001b[0;34m)\u001b[0m\u001b[0;34m,\u001b[0m \u001b[0mactivation\u001b[0m\u001b[0;34m=\u001b[0m\u001b[0;34m'relu'\u001b[0m\u001b[0;34m)\u001b[0m\u001b[0;34m)\u001b[0m\u001b[0;34m\u001b[0m\u001b[0;34m\u001b[0m\u001b[0m\n\u001b[1;32m      5\u001b[0m \u001b[0mmodel\u001b[0m\u001b[0;34m.\u001b[0m\u001b[0madd\u001b[0m\u001b[0;34m(\u001b[0m\u001b[0mDense\u001b[0m\u001b[0;34m(\u001b[0m\u001b[0;36m6\u001b[0m\u001b[0;34m,\u001b[0m \u001b[0mkernel_initializer\u001b[0m\u001b[0;34m=\u001b[0m\u001b[0minitializers\u001b[0m\u001b[0;34m.\u001b[0m\u001b[0mRandomNormal\u001b[0m\u001b[0;34m(\u001b[0m\u001b[0mstddev\u001b[0m\u001b[0;34m=\u001b[0m\u001b[0;36m0.2\u001b[0m\u001b[0;34m)\u001b[0m\u001b[0;34m,\u001b[0m \u001b[0mactivation\u001b[0m\u001b[0;34m=\u001b[0m\u001b[0;34m'relu'\u001b[0m\u001b[0;34m)\u001b[0m\u001b[0;34m)\u001b[0m\u001b[0;34m\u001b[0m\u001b[0;34m\u001b[0m\u001b[0m\n",
      "\u001b[0;31mNameError\u001b[0m: name 'X_train' is not defined"
     ]
    }
   ],
   "source": [
    "# Building a model\n",
    "model = Sequential()\n",
    "model.add(Dense(4, input_dim=X_train.shape[1], kernel_initializer=initializers.RandomNormal(stddev=0.2), activation='relu'))\n",
    "model.add(Dense(6, kernel_initializer=initializers.RandomNormal(stddev=0.2), activation='relu'))\n",
    "model.add(Dense(6, kernel_initializer=initializers.RandomNormal(stddev=0.2), activation='relu'))\n",
    "model.add(Dense(4, kernel_initializer=initializers.RandomNormal(stddev=0.2), activation='relu'))\n",
    "model.add(Dense(y_train.shape[1], kernel_initializer=initializers.RandomNormal(stddev=0.2), activation='sigmoid'))\n",
    "\n",
    "model.compile(loss='binary_crossentropy', optimizer=\"sgd\", metrics=['accuracy'])\n",
    "\n",
    "model.summary()"
   ]
  },
  {
   "cell_type": "code",
   "execution_count": null,
   "id": "fb7e04da",
   "metadata": {
    "ExecuteTime": {
     "end_time": "2023-01-09T10:04:12.701645Z",
     "start_time": "2023-01-09T10:04:04.929395Z"
    }
   },
   "outputs": [],
   "source": [
    "# Training\n",
    "history = model.fit(X_train, y_train, batch_size=len(X_train), validation_split=0.2, epochs=500, verbose=0)"
   ]
  },
  {
   "cell_type": "code",
   "execution_count": null,
   "id": "17da9af1",
   "metadata": {
    "ExecuteTime": {
     "end_time": "2023-01-09T10:04:12.980656Z",
     "start_time": "2023-01-09T10:04:12.703782Z"
    }
   },
   "outputs": [],
   "source": [
    "plot(history.history)"
   ]
  },
  {
   "cell_type": "code",
   "execution_count": null,
   "id": "a354fe01",
   "metadata": {
    "ExecuteTime": {
     "end_time": "2023-01-09T10:04:13.094116Z",
     "start_time": "2023-01-09T10:04:12.982544Z"
    }
   },
   "outputs": [],
   "source": [
    "Y_pred = model.predict(X_test)"
   ]
  },
  {
   "cell_type": "code",
   "execution_count": null,
   "id": "00238056",
   "metadata": {
    "ExecuteTime": {
     "end_time": "2023-01-09T10:04:13.100985Z",
     "start_time": "2023-01-09T10:04:13.097443Z"
    }
   },
   "outputs": [],
   "source": [
    "acc_test = accuracy(Y_pred, y_test)\n",
    "print(\"Test set accuracy: {:.2f}\".format(acc_test))"
   ]
  },
  {
   "cell_type": "code",
   "execution_count": null,
   "id": "7d3728e7",
   "metadata": {
    "ExecuteTime": {
     "end_time": "2023-01-09T10:04:13.108636Z",
     "start_time": "2023-01-09T10:04:13.104282Z"
    }
   },
   "outputs": [],
   "source": [
    "accuracy_score(np.argmax(Y_pred, axis=-1), y_test)\n",
    "print(\"Test set accuracy: {:.2f}\".format(acc_test))"
   ]
  },
  {
   "cell_type": "markdown",
   "id": "d7e216be",
   "metadata": {},
   "source": [
    "## Improve the code for regression problems"
   ]
  },
  {
   "cell_type": "code",
   "execution_count": null,
   "id": "d37c55b5",
   "metadata": {
    "ExecuteTime": {
     "end_time": "2023-01-09T10:04:13.120040Z",
     "start_time": "2023-01-09T10:04:13.111109Z"
    }
   },
   "outputs": [],
   "source": [
    "from sklearn.datasets import make_regression\n",
    "from sklearn.model_selection import train_test_split\n",
    "\n",
    "N_SAMPLES = 100\n",
    "X, y = make_regression(n_samples=N_SAMPLES, n_features=1, noise=10.0, random_state=100)\n",
    "y = y.reshape(-1,1)\n",
    "X_train, X_test, y_train, y_test = train_test_split(X, y, test_size=TEST_SIZE, random_state=42)\n",
    "X.shape, y.shape"
   ]
  },
  {
   "cell_type": "code",
   "execution_count": null,
   "id": "3d07aeef",
   "metadata": {
    "ExecuteTime": {
     "end_time": "2023-01-09T10:04:13.301857Z",
     "start_time": "2023-01-09T10:04:13.122379Z"
    }
   },
   "outputs": [],
   "source": [
    "# Plot the dataset\n",
    "plt.figure(figsize=(16,12))\n",
    "plt.scatter(X_train[:, 0], y_train[:, 0], c=y_train.ravel(), s=40)\n",
    "plt.scatter(X_test[:, 0], y_test[:, 0], c=y_test.ravel(), marker='x', s=100)"
   ]
  },
  {
   "cell_type": "markdown",
   "id": "b1f592d8",
   "metadata": {},
   "source": [
    "Modify the code \"NN from scratch\" in order to define a NN for this dataset\n",
    "\n",
    "* <font color=\"red\">To know what to modify in the previous code (NN from scratch), it is important to know :</font>\n",
    "    * <font color=\"red\">whether it is a classification or regression problem</font>\n",
    "        * **Classification**\n",
    "            * last layer = softmax -> need the derivative of sigmoid\n",
    "            * Loss function = cross entropy -> need the derivative\n",
    "            * Metrics = accuracy \n",
    "        * **Regression**\n",
    "            *last layer = linear -> need derivative of linear\n",
    "            * Loss function = MAE or MSE -> need derivative\n",
    "            * metrics = MAE or MSE\n",
    "\n",
    "    "
   ]
  },
  {
   "cell_type": "code",
   "execution_count": null,
   "id": "f4439391",
   "metadata": {},
   "outputs": [],
   "source": [
    "\"\"\" Put you code here \"\"\""
   ]
  },
  {
   "cell_type": "code",
   "execution_count": null,
   "id": "85e381ad",
   "metadata": {},
   "outputs": [],
   "source": []
  },
  {
   "cell_type": "markdown",
   "id": "40cb46a4",
   "metadata": {},
   "source": [
    "## Try the digit dataset with Keras"
   ]
  },
  {
   "cell_type": "code",
   "execution_count": null,
   "id": "88ab7e3d",
   "metadata": {
    "ExecuteTime": {
     "end_time": "2022-12-20T12:33:19.241914Z",
     "start_time": "2022-12-20T12:33:19.219940Z"
    }
   },
   "outputs": [],
   "source": [
    "from sklearn import datasets\n",
    "\n",
    "digits = datasets.load_digits()"
   ]
  },
  {
   "cell_type": "code",
   "execution_count": null,
   "id": "2f2584bd",
   "metadata": {
    "ExecuteTime": {
     "end_time": "2022-12-20T12:33:22.932131Z",
     "start_time": "2022-12-20T12:33:19.244600Z"
    }
   },
   "outputs": [],
   "source": [
    "import matplotlib.pyplot as plt\n",
    "\n",
    "# set up the figure\n",
    "fig = plt.figure(figsize=(6, 6))  # figure size in inches\n",
    "fig.subplots_adjust(left=0, right=1, bottom=0, top=1, hspace=0.05, wspace=0.05)\n",
    "\n",
    "# plot the digits: each image is 8x8 pixels\n",
    "for i in range(64):\n",
    "    ax = fig.add_subplot(8, 8, i + 1, xticks=[], yticks=[])\n",
    "    ax.imshow(digits.images[i], cmap=plt.cm.binary, interpolation='nearest')\n",
    "    \n",
    "    # label the image with the target value\n",
    "    ax.text(0, 7, str(digits.target[i]))"
   ]
  },
  {
   "cell_type": "code",
   "execution_count": null,
   "id": "9a95f8b7",
   "metadata": {
    "ExecuteTime": {
     "end_time": "2022-12-20T12:33:22.961155Z",
     "start_time": "2022-12-20T12:33:22.945623Z"
    }
   },
   "outputs": [],
   "source": [
    "from sklearn.model_selection import train_test_split\n",
    "\n",
    "X_train, X_test, y_train, y_test = train_test_split(digits.data, digits.target,\n",
    "                                                    test_size=0.2, random_state=1)\n",
    "X_train.shape, y_train.shape"
   ]
  },
  {
   "cell_type": "code",
   "execution_count": null,
   "id": "651c4022",
   "metadata": {
    "ExecuteTime": {
     "end_time": "2022-12-20T12:33:22.985606Z",
     "start_time": "2022-12-20T12:33:22.967896Z"
    }
   },
   "outputs": [],
   "source": [
    "from sklearn.preprocessing import OneHotEncoder\n",
    "\n",
    "ohe = OneHotEncoder(sparse=False, handle_unknown='ignore')\n",
    "ohe.fit(y_train.reshape(-1, 1))\n",
    "y_train = ohe.transform(y_train.reshape(-1, 1))\n",
    "y_test = ohe.transform(y_test.reshape(-1, 1))\n",
    "y_train.shape"
   ]
  },
  {
   "cell_type": "code",
   "execution_count": null,
   "id": "44585a89",
   "metadata": {},
   "outputs": [],
   "source": []
  },
  {
   "cell_type": "markdown",
   "id": "13470c3e",
   "metadata": {},
   "source": [
    "<font color=\"red\">Build a Keras model, fit them, babysit them and evaluate them</font>"
   ]
  },
  {
   "cell_type": "code",
   "execution_count": null,
   "id": "9433176e",
   "metadata": {
    "ExecuteTime": {
     "end_time": "2022-12-20T12:47:43.623644Z",
     "start_time": "2022-12-20T12:47:43.438528Z"
    }
   },
   "outputs": [],
   "source": [
    "# Build a Keras model whith hidden layers=[25, 50, 50, 25]\n",
    "model = Sequential()\n",
    "model.add(Dense(...)"
   ]
  },
  {
   "cell_type": "code",
   "execution_count": null,
   "id": "e9c95923",
   "metadata": {},
   "outputs": [],
   "source": [
    "# Compile the model --> Choose loss, metrics and optimizer\n",
    "model.compile(...)"
   ]
  },
  {
   "cell_type": "code",
   "execution_count": null,
   "id": "1bff7a60",
   "metadata": {},
   "outputs": [],
   "source": [
    "# Check the number of parameters (model.summary())"
   ]
  },
  {
   "cell_type": "code",
   "execution_count": null,
   "id": "bbe94e5c",
   "metadata": {
    "ExecuteTime": {
     "end_time": "2022-12-20T12:46:41.648496Z",
     "start_time": "2022-12-20T12:46:37.614585Z"
    }
   },
   "outputs": [],
   "source": [
    "# Train the model - validation split=0.2\n",
    "history = model.fit(...)"
   ]
  },
  {
   "cell_type": "code",
   "execution_count": null,
   "id": "3e5eb33d",
   "metadata": {
    "ExecuteTime": {
     "end_time": "2022-12-20T12:41:48.208426Z",
     "start_time": "2022-12-20T12:41:47.678722Z"
    }
   },
   "outputs": [],
   "source": [
    "# Babysit the model\n",
    "plot(...)"
   ]
  },
  {
   "cell_type": "code",
   "execution_count": null,
   "id": "cba6f61e",
   "metadata": {
    "ExecuteTime": {
     "end_time": "2022-12-20T12:42:20.251487Z",
     "start_time": "2022-12-20T12:42:20.013743Z"
    }
   },
   "outputs": [],
   "source": [
    "# Evaluate the model\n",
    "y_pred = model.predict(...)\n",
    "accuracy(...)"
   ]
  },
  {
   "cell_type": "code",
   "execution_count": null,
   "id": "932cf5b1",
   "metadata": {},
   "outputs": [],
   "source": []
  }
 ],
 "metadata": {
  "kernelspec": {
   "display_name": "Python 3",
   "language": "python",
   "name": "python3"
  },
  "language_info": {
   "codemirror_mode": {
    "name": "ipython",
    "version": 3
   },
   "file_extension": ".py",
   "mimetype": "text/x-python",
   "name": "python",
   "nbconvert_exporter": "python",
   "pygments_lexer": "ipython3",
   "version": "3.8.8"
  },
  "latex_envs": {
   "LaTeX_envs_menu_present": true,
   "autoclose": true,
   "autocomplete": true,
   "bibliofile": "biblio.bib",
   "cite_by": "apalike",
   "current_citInitial": 1,
   "eqLabelWithNumbers": true,
   "eqNumInitial": 1,
   "hotkeys": {
    "equation": "Ctrl-E",
    "itemize": "Ctrl-I"
   },
   "labels_anchors": false,
   "latex_user_defs": false,
   "report_style_numbering": false,
   "user_envs_cfg": false
  },
  "nbTranslate": {
   "displayLangs": [
    "*"
   ],
   "hotkey": "alt-t",
   "langInMainMenu": true,
   "sourceLang": "en",
   "targetLang": "fr",
   "useGoogleTranslate": true
  }
 },
 "nbformat": 4,
 "nbformat_minor": 5
}
