{
  "cells": [
    {
      "cell_type": "markdown",
      "metadata": {
        "id": "BCNRejgk2CqQ"
      },
      "source": [
        "# Case Study: Sentiment Analysis\n",
        "\n",
        "Text classification is a machine learning technique that assigns a set of predefined categories to open-ended text. Text classifiers can be used to organize, structure, and categorize pretty much any kind of text – from documents, medical studies and files, and all over the web.\n",
        "\n",
        "For example, new articles can be organized by topics; support tickets can be organized by urgency; chat conversations can be organized by language; brand mentions can be organized by sentiment; and so on.\n",
        "\n",
        "Text classification is one of the fundamental tasks in natural language processing with broad applications such as **sentiment analysis**, topic labeling, spam detection, and intent detection.\n",
        "\n",
        "**Why is Text Classification Important?**\n",
        "\n",
        "It’s estimated that around 80% of all information is unstructured, with text being one of the most common types of unstructured data. Because of the messy nature of text, analyzing, understanding, organizing, and sorting through text data is hard and time-consuming, so most companies fail to use it to its full potential.\n",
        "\n",
        "This is where text classification with machine learning comes in. Using text classifiers, companies can automatically structure all manner of relevant text, from emails, legal documents, social media, chatbots, surveys, and more in a fast and cost-effective way. This allows companies to save time analyzing text data, automate business processes, and make data-driven business decisions.\n",
        "\n",
        "**How Does Text Classification Work?**\n",
        "\n",
        "Instead of relying on manually crafted rules, machine learning text classification learns to make classifications based on past observations. By using pre-labeled examples as training data, machine learning algorithms can learn the different associations between pieces of text, and that a particular output (i.e., tags) is expected for a particular input (i.e., text). A “tag” is the pre-determined classification or category that any given text could fall into.\n",
        "\n",
        "The first step towards training a machine learning NLP classifier is feature extraction: a method is used to transform each text into a numerical representation in the form of a vector. One of the most frequently used approaches is bag of words, where a vector represents the frequency of a word in a predefined dictionary of words.\n",
        "\n",
        "Then, the machine learning algorithm is fed with training data that consists of pairs of feature sets (vectors for each text example) and tags (e.g. sports, politics) to produce a classification model:\n",
        "\n",
        "![training](https://monkeylearn.com/static/507a7b5d0557f416857a038f553865d1/2ed04/text_process_training.webp)\n",
        "\n",
        "Once it’s trained with enough training samples, the machine learning model can begin to make accurate predictions. The same feature extractor is used to transform unseen text to feature sets, which can be fed into the classification model to get predictions on tags (e.g., sports, politics):\n",
        "\n",
        "![prediction](https://monkeylearn.com/static/afa7e0536886ee7152dfa4c628fe59f0/2b924/text_process_prediction.webp)\n",
        "\n",
        "Text classification with machine learning is usually much more accurate than human-crafted rule systems, especially on complex NLP classification tasks. Also, classifiers with machine learning are easier to maintain and you can always tag new examples to learn new tasks."
      ]
    },
    {
      "cell_type": "code",
      "execution_count": 1,
      "metadata": {
        "id": "H2LHlNq02CqX",
        "colab": {
          "base_uri": "https://localhost:8080/"
        },
        "outputId": "71fd1eb2-d367-40bb-ddca-07c3eb34e2f7"
      },
      "outputs": [
        {
          "output_type": "stream",
          "name": "stdout",
          "text": [
            "Looking in indexes: https://pypi.org/simple, https://us-python.pkg.dev/colab-wheels/public/simple/\n",
            "Collecting jyquickhelper\n",
            "  Downloading jyquickhelper-0.4.220-py3-none-any.whl (1.5 MB)\n",
            "\u001b[2K     \u001b[90m━━━━━━━━━━━━━━━━━━━━━━━━━━━━━━━━━━━━━━━━\u001b[0m \u001b[32m1.5/1.5 MB\u001b[0m \u001b[31m19.3 MB/s\u001b[0m eta \u001b[36m0:00:00\u001b[0m\n",
            "\u001b[?25hRequirement already satisfied: ipython in /usr/local/lib/python3.8/dist-packages (from jyquickhelper) (7.9.0)\n",
            "Collecting jupyter\n",
            "  Downloading jupyter-1.0.0-py2.py3-none-any.whl (2.7 kB)\n",
            "Requirement already satisfied: notebook in /usr/local/lib/python3.8/dist-packages (from jyquickhelper) (5.7.16)\n",
            "Requirement already satisfied: pexpect in /usr/local/lib/python3.8/dist-packages (from ipython->jyquickhelper) (4.8.0)\n",
            "Requirement already satisfied: traitlets>=4.2 in /usr/local/lib/python3.8/dist-packages (from ipython->jyquickhelper) (5.7.1)\n",
            "Requirement already satisfied: setuptools>=18.5 in /usr/local/lib/python3.8/dist-packages (from ipython->jyquickhelper) (57.4.0)\n",
            "Requirement already satisfied: pygments in /usr/local/lib/python3.8/dist-packages (from ipython->jyquickhelper) (2.6.1)\n",
            "Requirement already satisfied: backcall in /usr/local/lib/python3.8/dist-packages (from ipython->jyquickhelper) (0.2.0)\n",
            "Requirement already satisfied: decorator in /usr/local/lib/python3.8/dist-packages (from ipython->jyquickhelper) (4.4.2)\n",
            "Requirement already satisfied: pickleshare in /usr/local/lib/python3.8/dist-packages (from ipython->jyquickhelper) (0.7.5)\n",
            "Requirement already satisfied: prompt-toolkit<2.1.0,>=2.0.0 in /usr/local/lib/python3.8/dist-packages (from ipython->jyquickhelper) (2.0.10)\n",
            "Collecting jedi>=0.10\n",
            "  Downloading jedi-0.18.2-py2.py3-none-any.whl (1.6 MB)\n",
            "\u001b[2K     \u001b[90m━━━━━━━━━━━━━━━━━━━━━━━━━━━━━━━━━━━━━━━━\u001b[0m \u001b[32m1.6/1.6 MB\u001b[0m \u001b[31m39.6 MB/s\u001b[0m eta \u001b[36m0:00:00\u001b[0m\n",
            "\u001b[?25hCollecting qtconsole\n",
            "  Downloading qtconsole-5.4.0-py3-none-any.whl (121 kB)\n",
            "\u001b[2K     \u001b[90m━━━━━━━━━━━━━━━━━━━━━━━━━━━━━━━━━━━━━━\u001b[0m \u001b[32m121.0/121.0 KB\u001b[0m \u001b[31m14.9 MB/s\u001b[0m eta \u001b[36m0:00:00\u001b[0m\n",
            "\u001b[?25hRequirement already satisfied: jupyter-console in /usr/local/lib/python3.8/dist-packages (from jupyter->jyquickhelper) (6.1.0)\n",
            "Requirement already satisfied: ipywidgets in /usr/local/lib/python3.8/dist-packages (from jupyter->jyquickhelper) (7.7.1)\n",
            "Requirement already satisfied: ipykernel in /usr/local/lib/python3.8/dist-packages (from jupyter->jyquickhelper) (5.3.4)\n",
            "Requirement already satisfied: nbconvert in /usr/local/lib/python3.8/dist-packages (from jupyter->jyquickhelper) (5.6.1)\n",
            "Requirement already satisfied: nbformat in /usr/local/lib/python3.8/dist-packages (from notebook->jyquickhelper) (5.7.1)\n",
            "Requirement already satisfied: jupyter-core>=4.4.0 in /usr/local/lib/python3.8/dist-packages (from notebook->jyquickhelper) (5.1.1)\n",
            "Requirement already satisfied: jupyter-client<7.0.0,>=5.2.0 in /usr/local/lib/python3.8/dist-packages (from notebook->jyquickhelper) (6.1.12)\n",
            "Requirement already satisfied: prometheus-client in /usr/local/lib/python3.8/dist-packages (from notebook->jyquickhelper) (0.15.0)\n",
            "Requirement already satisfied: terminado>=0.8.1 in /usr/local/lib/python3.8/dist-packages (from notebook->jyquickhelper) (0.13.3)\n",
            "Requirement already satisfied: pyzmq>=17 in /usr/local/lib/python3.8/dist-packages (from notebook->jyquickhelper) (23.2.1)\n",
            "Requirement already satisfied: tornado<7,>=4.1 in /usr/local/lib/python3.8/dist-packages (from notebook->jyquickhelper) (6.0.4)\n",
            "Requirement already satisfied: jinja2<=3.0.0 in /usr/local/lib/python3.8/dist-packages (from notebook->jyquickhelper) (2.11.3)\n",
            "Requirement already satisfied: ipython-genutils in /usr/local/lib/python3.8/dist-packages (from notebook->jyquickhelper) (0.2.0)\n",
            "Requirement already satisfied: Send2Trash in /usr/local/lib/python3.8/dist-packages (from notebook->jyquickhelper) (1.8.0)\n",
            "Requirement already satisfied: parso<0.9.0,>=0.8.0 in /usr/local/lib/python3.8/dist-packages (from jedi>=0.10->ipython->jyquickhelper) (0.8.3)\n",
            "Requirement already satisfied: MarkupSafe>=0.23 in /usr/local/lib/python3.8/dist-packages (from jinja2<=3.0.0->notebook->jyquickhelper) (2.0.1)\n",
            "Requirement already satisfied: python-dateutil>=2.1 in /usr/local/lib/python3.8/dist-packages (from jupyter-client<7.0.0,>=5.2.0->notebook->jyquickhelper) (2.8.2)\n",
            "Requirement already satisfied: platformdirs>=2.5 in /usr/local/lib/python3.8/dist-packages (from jupyter-core>=4.4.0->notebook->jyquickhelper) (2.6.0)\n",
            "Requirement already satisfied: defusedxml in /usr/local/lib/python3.8/dist-packages (from nbconvert->jupyter->jyquickhelper) (0.7.1)\n",
            "Requirement already satisfied: bleach in /usr/local/lib/python3.8/dist-packages (from nbconvert->jupyter->jyquickhelper) (5.0.1)\n",
            "Requirement already satisfied: entrypoints>=0.2.2 in /usr/local/lib/python3.8/dist-packages (from nbconvert->jupyter->jyquickhelper) (0.4)\n",
            "Requirement already satisfied: testpath in /usr/local/lib/python3.8/dist-packages (from nbconvert->jupyter->jyquickhelper) (0.6.0)\n",
            "Requirement already satisfied: pandocfilters>=1.4.1 in /usr/local/lib/python3.8/dist-packages (from nbconvert->jupyter->jyquickhelper) (1.5.0)\n",
            "Requirement already satisfied: mistune<2,>=0.8.1 in /usr/local/lib/python3.8/dist-packages (from nbconvert->jupyter->jyquickhelper) (0.8.4)\n",
            "Requirement already satisfied: jsonschema>=2.6 in /usr/local/lib/python3.8/dist-packages (from nbformat->notebook->jyquickhelper) (4.3.3)\n",
            "Requirement already satisfied: fastjsonschema in /usr/local/lib/python3.8/dist-packages (from nbformat->notebook->jyquickhelper) (2.16.2)\n",
            "Requirement already satisfied: six>=1.9.0 in /usr/local/lib/python3.8/dist-packages (from prompt-toolkit<2.1.0,>=2.0.0->ipython->jyquickhelper) (1.15.0)\n",
            "Requirement already satisfied: wcwidth in /usr/local/lib/python3.8/dist-packages (from prompt-toolkit<2.1.0,>=2.0.0->ipython->jyquickhelper) (0.2.5)\n",
            "Requirement already satisfied: ptyprocess in /usr/local/lib/python3.8/dist-packages (from terminado>=0.8.1->notebook->jyquickhelper) (0.7.0)\n",
            "Requirement already satisfied: jupyterlab-widgets>=1.0.0 in /usr/local/lib/python3.8/dist-packages (from ipywidgets->jupyter->jyquickhelper) (3.0.5)\n",
            "Requirement already satisfied: widgetsnbextension~=3.6.0 in /usr/local/lib/python3.8/dist-packages (from ipywidgets->jupyter->jyquickhelper) (3.6.1)\n",
            "Collecting qtpy>=2.0.1\n",
            "  Downloading QtPy-2.3.0-py3-none-any.whl (83 kB)\n",
            "\u001b[2K     \u001b[90m━━━━━━━━━━━━━━━━━━━━━━━━━━━━━━━━━━━━━━━━\u001b[0m \u001b[32m83.6/83.6 KB\u001b[0m \u001b[31m12.3 MB/s\u001b[0m eta \u001b[36m0:00:00\u001b[0m\n",
            "\u001b[?25hRequirement already satisfied: importlib-resources>=1.4.0 in /usr/local/lib/python3.8/dist-packages (from jsonschema>=2.6->nbformat->notebook->jyquickhelper) (5.10.1)\n",
            "Requirement already satisfied: attrs>=17.4.0 in /usr/local/lib/python3.8/dist-packages (from jsonschema>=2.6->nbformat->notebook->jyquickhelper) (22.2.0)\n",
            "Requirement already satisfied: pyrsistent!=0.17.0,!=0.17.1,!=0.17.2,>=0.14.0 in /usr/local/lib/python3.8/dist-packages (from jsonschema>=2.6->nbformat->notebook->jyquickhelper) (0.19.2)\n",
            "Requirement already satisfied: packaging in /usr/local/lib/python3.8/dist-packages (from qtpy>=2.0.1->qtconsole->jupyter->jyquickhelper) (21.3)\n",
            "Requirement already satisfied: webencodings in /usr/local/lib/python3.8/dist-packages (from bleach->nbconvert->jupyter->jyquickhelper) (0.5.1)\n",
            "Requirement already satisfied: zipp>=3.1.0 in /usr/local/lib/python3.8/dist-packages (from importlib-resources>=1.4.0->jsonschema>=2.6->nbformat->notebook->jyquickhelper) (3.11.0)\n",
            "Requirement already satisfied: pyparsing!=3.0.5,>=2.0.2 in /usr/local/lib/python3.8/dist-packages (from packaging->qtpy>=2.0.1->qtconsole->jupyter->jyquickhelper) (3.0.9)\n",
            "Installing collected packages: jedi, qtpy, qtconsole, jupyter, jyquickhelper\n",
            "Successfully installed jedi-0.18.2 jupyter-1.0.0 jyquickhelper-0.4.220 qtconsole-5.4.0 qtpy-2.3.0\n"
          ]
        }
      ],
      "source": [
        "\"\"\"\n",
        "(Practical tip) Table of contents can be compiled directly in jupyter notebooks using the following code:\n",
        "I set an exception: if the package is in your installation you can import it otherwise you download it \n",
        "then import it.\n",
        "\"\"\"\n",
        "try:\n",
        "    from jyquickhelper import add_notebook_menu \n",
        "except:\n",
        "    !pip install jyquickhelper\n",
        "    from jyquickhelper import add_notebook_menu"
      ]
    },
    {
      "cell_type": "code",
      "execution_count": 2,
      "metadata": {
        "id": "cJY3IDY42Cqa",
        "colab": {
          "base_uri": "https://localhost:8080/",
          "height": 17
        },
        "outputId": "a49dd11c-000a-4a52-c37d-ed3a4cb90f08"
      },
      "outputs": [
        {
          "output_type": "execute_result",
          "data": {
            "text/plain": [
              "<IPython.core.display.HTML object>"
            ],
            "text/html": [
              "<div id=\"my_id_menu_nb\">run previous cell, wait for 2 seconds</div>\n",
              "<script>\n",
              "function repeat_indent_string(n){\n",
              "    var a = \"\" ;\n",
              "    for ( ; n > 0 ; --n)\n",
              "        a += \"    \";\n",
              "    return a;\n",
              "}\n",
              "// look up into all sections and builds an automated menu //\n",
              "var update_menu_string = function(begin, lfirst, llast, sformat, send, keep_item, begin_format, end_format) {\n",
              "    var anchors = document.getElementsByClassName(\"section\");\n",
              "    if (anchors.length == 0) {\n",
              "        anchors = document.getElementsByClassName(\"text_cell_render rendered_html\");\n",
              "    }\n",
              "    var i,t;\n",
              "    var text_menu = begin;\n",
              "    var text_memo = \"<pre>\\nlength:\" + anchors.length + \"\\n\";\n",
              "    var ind = \"\";\n",
              "    var memo_level = 1;\n",
              "    var href;\n",
              "    var tags = [];\n",
              "    var main_item = 0;\n",
              "    var format_open = 0;\n",
              "    for (i = 0; i <= llast; i++)\n",
              "        tags.push(\"h\" + i);\n",
              "\n",
              "    for (i = 0; i < anchors.length; i++) {\n",
              "        text_memo += \"**\" + anchors[i].id + \"--\\n\";\n",
              "\n",
              "        var child = null;\n",
              "        for(t = 0; t < tags.length; t++) {\n",
              "            var r = anchors[i].getElementsByTagName(tags[t]);\n",
              "            if (r.length > 0) {\n",
              "child = r[0];\n",
              "break;\n",
              "            }\n",
              "        }\n",
              "        if (child == null) {\n",
              "            text_memo += \"null\\n\";\n",
              "            continue;\n",
              "        }\n",
              "        if (anchors[i].hasAttribute(\"id\")) {\n",
              "            // when converted in RST\n",
              "            href = anchors[i].id;\n",
              "            text_memo += \"#1-\" + href;\n",
              "            // passer à child suivant (le chercher)\n",
              "        }\n",
              "        else if (child.hasAttribute(\"id\")) {\n",
              "            // in a notebook\n",
              "            href = child.id;\n",
              "            text_memo += \"#2-\" + href;\n",
              "        }\n",
              "        else {\n",
              "            text_memo += \"#3-\" + \"*\" + \"\\n\";\n",
              "            continue;\n",
              "        }\n",
              "        var title = child.textContent;\n",
              "        var level = parseInt(child.tagName.substring(1,2));\n",
              "\n",
              "        text_memo += \"--\" + level + \"?\" + lfirst + \"--\" + title + \"\\n\";\n",
              "\n",
              "        if ((level < lfirst) || (level > llast)) {\n",
              "            continue ;\n",
              "        }\n",
              "        if (title.endsWith('¶')) {\n",
              "            title = title.substring(0,title.length-1).replace(\"<\", \"&lt;\")\n",
              "         .replace(\">\", \"&gt;\").replace(\"&\", \"&amp;\");\n",
              "        }\n",
              "        if (title.length == 0) {\n",
              "            continue;\n",
              "        }\n",
              "\n",
              "        while (level < memo_level) {\n",
              "            text_menu += end_format + \"</ul>\\n\";\n",
              "            format_open -= 1;\n",
              "            memo_level -= 1;\n",
              "        }\n",
              "        if (level == lfirst) {\n",
              "            main_item += 1;\n",
              "        }\n",
              "        if (keep_item != -1 && main_item != keep_item + 1) {\n",
              "            // alert(main_item + \" - \" + level + \" - \" + keep_item);\n",
              "            continue;\n",
              "        }\n",
              "        while (level > memo_level) {\n",
              "            text_menu += \"<ul>\\n\";\n",
              "            memo_level += 1;\n",
              "        }\n",
              "        text_menu += repeat_indent_string(level-2);\n",
              "        text_menu += begin_format + sformat.replace(\"__HREF__\", href).replace(\"__TITLE__\", title);\n",
              "        format_open += 1;\n",
              "    }\n",
              "    while (1 < memo_level) {\n",
              "        text_menu += end_format + \"</ul>\\n\";\n",
              "        memo_level -= 1;\n",
              "        format_open -= 1;\n",
              "    }\n",
              "    text_menu += send;\n",
              "    //text_menu += \"\\n\" + text_memo;\n",
              "\n",
              "    while (format_open > 0) {\n",
              "        text_menu += end_format;\n",
              "        format_open -= 1;\n",
              "    }\n",
              "    return text_menu;\n",
              "};\n",
              "var update_menu = function() {\n",
              "    var sbegin = \"\";\n",
              "    var sformat = '<a href=\"#__HREF__\">__TITLE__</a>';\n",
              "    var send = \"\";\n",
              "    var begin_format = '<li>';\n",
              "    var end_format = '</li>';\n",
              "    var keep_item = -1;\n",
              "    var text_menu = update_menu_string(sbegin, 2, 4, sformat, send, keep_item,\n",
              "       begin_format, end_format);\n",
              "    var menu = document.getElementById(\"my_id_menu_nb\");\n",
              "    menu.innerHTML=text_menu;\n",
              "};\n",
              "window.setTimeout(update_menu,2000);\n",
              "            </script>"
            ]
          },
          "metadata": {},
          "execution_count": 2
        }
      ],
      "source": [
        "\"\"\"\n",
        "Output Table of contents to navigate easily in the notebook. \n",
        "For interested readers, the package also includes Ipython magic commands to go back to this cell\n",
        "wherever you are in the notebook to look for cells faster\n",
        "\"\"\"\n",
        "add_notebook_menu()"
      ]
    },
    {
      "cell_type": "markdown",
      "metadata": {
        "id": "VQvQni-N2Cqc"
      },
      "source": [
        "## 0. Today lab\n",
        "\n",
        "In this lab we use part of the 'Amazon_Unlocked_Mobile.csv' dataset published by Kaggle. The dataset contain the following information:\n",
        "* Product Name\n",
        "* Brand Name\n",
        "* Price\n",
        "* Rating\n",
        "* Reviews\n",
        "* Review Votes\n",
        "\n",
        "We are mainly interested by the 'Reviews' (X) and by the 'Rating' (y)\n",
        "\n",
        "The goal is to try to predict the 'Rating' after reading the 'Reviews'. I've prepared for you TRAIN and TEST set."
      ]
    },
    {
      "cell_type": "markdown",
      "metadata": {
        "id": "L2Ti1vXd2Cqc"
      },
      "source": [
        "## 1. Load and study the dataset"
      ]
    },
    {
      "cell_type": "markdown",
      "metadata": {
        "id": "Ogk9yG0N2Cqd"
      },
      "source": [
        "### 1.1. Imports"
      ]
    },
    {
      "cell_type": "code",
      "execution_count": 3,
      "metadata": {
        "id": "CqS_yFTz2Cqd"
      },
      "outputs": [],
      "source": [
        "import pandas as pd\n",
        "import numpy as np\n",
        "#import nltk\n",
        "import pylab as pl # package inheriting most of matplotlib package functions with shorter syntax \n",
        "import seaborn as sns \n",
        "%matplotlib inline"
      ]
    },
    {
      "cell_type": "markdown",
      "metadata": {
        "id": "FeksHxZ52Cqe"
      },
      "source": [
        "### 1.2. [About Train, validation and test sets](https://towardsdatascience.com/train-validation-and-test-sets-72cb40cba9e7)\n",
        "![test/train/val](https://miro.medium.com/max/1466/1*aNPC1ifHN2WydKHyEZYENg.png)\n",
        "\n",
        "* **Training Dataset:** The sample of data used to fit the model.\n",
        "* **Validation Dataset:** The sample of data used to provide an unbiased evaluation of a model fit on the training dataset while tuning model hyperparameters. The evaluation becomes more biased as skill on the validation dataset is incorporated into the model configuration.\n",
        "* **Test Dataset:** The sample of data used to provide an unbiased evaluation of a final model fit on the training dataset."
      ]
    },
    {
      "cell_type": "code",
      "execution_count": 4,
      "metadata": {
        "id": "zqotUQob2Cqe",
        "colab": {
          "base_uri": "https://localhost:8080/",
          "height": 363
        },
        "outputId": "e7db5fdf-4f58-4c58-bc31-5109be1b0b31"
      },
      "outputs": [
        {
          "output_type": "execute_result",
          "data": {
            "text/plain": [
              "                                        Product Name Brand Name   Price  \\\n",
              "0  Samsung Galaxy Note 4 N910C Unlocked Cellphone...    Samsung  449.99   \n",
              "1  BLU Energy X Plus Smartphone - With 4000 mAh S...        BLU  139.00   \n",
              "2                   Apple iPhone 6 128GB Silver AT&T      Apple  599.95   \n",
              "3  BLU Advance 4.0L Unlocked Smartphone -US GSM -...        BLU   51.99   \n",
              "4  Huawei P8 Lite US Version- 5 Unlocked Android ...     Huawei  198.99   \n",
              "5  BLU WIN HD LTE - 5.0\" Windows Smartphone -GSM ...        BLU  109.99   \n",
              "6  BLU Dash Jr 3G Unlocked Phone - Retail Packagi...        BLU   39.97   \n",
              "7  Samsung Galaxy S6 Edge Plus SM-G928 32GB Black...    samsung  557.49   \n",
              "8  ZTE Axon Pro - Factory Unlocked Phone, 32 GB I...        ZTE  419.99   \n",
              "9  LG G4 Unlocked Smartphone with 32GB Internal M...         LG  324.84   \n",
              "\n",
              "   Rating                                            Reviews  Review Votes  \n",
              "0       4             I love it!!! I absolutely love it!! 👌👍           0.0  \n",
              "1       5  I love the BLU phones! This is my second one t...           4.0  \n",
              "2       5                                        Great phone           1.0  \n",
              "3       4  Very happy with the performance. The apps work...           2.0  \n",
              "4       5                            Easy to use great price           0.0  \n",
              "5       5  Came faster then expected, thanks cellathon. I...           NaN  \n",
              "6       1              Phone stopped working within 3 days!!           3.0  \n",
              "7       1  ordered for a new phone and got a used one wit...           0.0  \n",
              "8       5                                                 A+           0.0  \n",
              "9       1  Lots of problems with this phone. There's no \"...           4.0  "
            ],
            "text/html": [
              "\n",
              "  <div id=\"df-2f64b99b-b5cf-4e2c-bec8-55cfc41ea5df\">\n",
              "    <div class=\"colab-df-container\">\n",
              "      <div>\n",
              "<style scoped>\n",
              "    .dataframe tbody tr th:only-of-type {\n",
              "        vertical-align: middle;\n",
              "    }\n",
              "\n",
              "    .dataframe tbody tr th {\n",
              "        vertical-align: top;\n",
              "    }\n",
              "\n",
              "    .dataframe thead th {\n",
              "        text-align: right;\n",
              "    }\n",
              "</style>\n",
              "<table border=\"1\" class=\"dataframe\">\n",
              "  <thead>\n",
              "    <tr style=\"text-align: right;\">\n",
              "      <th></th>\n",
              "      <th>Product Name</th>\n",
              "      <th>Brand Name</th>\n",
              "      <th>Price</th>\n",
              "      <th>Rating</th>\n",
              "      <th>Reviews</th>\n",
              "      <th>Review Votes</th>\n",
              "    </tr>\n",
              "  </thead>\n",
              "  <tbody>\n",
              "    <tr>\n",
              "      <th>0</th>\n",
              "      <td>Samsung Galaxy Note 4 N910C Unlocked Cellphone...</td>\n",
              "      <td>Samsung</td>\n",
              "      <td>449.99</td>\n",
              "      <td>4</td>\n",
              "      <td>I love it!!! I absolutely love it!! 👌👍</td>\n",
              "      <td>0.0</td>\n",
              "    </tr>\n",
              "    <tr>\n",
              "      <th>1</th>\n",
              "      <td>BLU Energy X Plus Smartphone - With 4000 mAh S...</td>\n",
              "      <td>BLU</td>\n",
              "      <td>139.00</td>\n",
              "      <td>5</td>\n",
              "      <td>I love the BLU phones! This is my second one t...</td>\n",
              "      <td>4.0</td>\n",
              "    </tr>\n",
              "    <tr>\n",
              "      <th>2</th>\n",
              "      <td>Apple iPhone 6 128GB Silver AT&amp;T</td>\n",
              "      <td>Apple</td>\n",
              "      <td>599.95</td>\n",
              "      <td>5</td>\n",
              "      <td>Great phone</td>\n",
              "      <td>1.0</td>\n",
              "    </tr>\n",
              "    <tr>\n",
              "      <th>3</th>\n",
              "      <td>BLU Advance 4.0L Unlocked Smartphone -US GSM -...</td>\n",
              "      <td>BLU</td>\n",
              "      <td>51.99</td>\n",
              "      <td>4</td>\n",
              "      <td>Very happy with the performance. The apps work...</td>\n",
              "      <td>2.0</td>\n",
              "    </tr>\n",
              "    <tr>\n",
              "      <th>4</th>\n",
              "      <td>Huawei P8 Lite US Version- 5 Unlocked Android ...</td>\n",
              "      <td>Huawei</td>\n",
              "      <td>198.99</td>\n",
              "      <td>5</td>\n",
              "      <td>Easy to use great price</td>\n",
              "      <td>0.0</td>\n",
              "    </tr>\n",
              "    <tr>\n",
              "      <th>5</th>\n",
              "      <td>BLU WIN HD LTE - 5.0\" Windows Smartphone -GSM ...</td>\n",
              "      <td>BLU</td>\n",
              "      <td>109.99</td>\n",
              "      <td>5</td>\n",
              "      <td>Came faster then expected, thanks cellathon. I...</td>\n",
              "      <td>NaN</td>\n",
              "    </tr>\n",
              "    <tr>\n",
              "      <th>6</th>\n",
              "      <td>BLU Dash Jr 3G Unlocked Phone - Retail Packagi...</td>\n",
              "      <td>BLU</td>\n",
              "      <td>39.97</td>\n",
              "      <td>1</td>\n",
              "      <td>Phone stopped working within 3 days!!</td>\n",
              "      <td>3.0</td>\n",
              "    </tr>\n",
              "    <tr>\n",
              "      <th>7</th>\n",
              "      <td>Samsung Galaxy S6 Edge Plus SM-G928 32GB Black...</td>\n",
              "      <td>samsung</td>\n",
              "      <td>557.49</td>\n",
              "      <td>1</td>\n",
              "      <td>ordered for a new phone and got a used one wit...</td>\n",
              "      <td>0.0</td>\n",
              "    </tr>\n",
              "    <tr>\n",
              "      <th>8</th>\n",
              "      <td>ZTE Axon Pro - Factory Unlocked Phone, 32 GB I...</td>\n",
              "      <td>ZTE</td>\n",
              "      <td>419.99</td>\n",
              "      <td>5</td>\n",
              "      <td>A+</td>\n",
              "      <td>0.0</td>\n",
              "    </tr>\n",
              "    <tr>\n",
              "      <th>9</th>\n",
              "      <td>LG G4 Unlocked Smartphone with 32GB Internal M...</td>\n",
              "      <td>LG</td>\n",
              "      <td>324.84</td>\n",
              "      <td>1</td>\n",
              "      <td>Lots of problems with this phone. There's no \"...</td>\n",
              "      <td>4.0</td>\n",
              "    </tr>\n",
              "  </tbody>\n",
              "</table>\n",
              "</div>\n",
              "      <button class=\"colab-df-convert\" onclick=\"convertToInteractive('df-2f64b99b-b5cf-4e2c-bec8-55cfc41ea5df')\"\n",
              "              title=\"Convert this dataframe to an interactive table.\"\n",
              "              style=\"display:none;\">\n",
              "        \n",
              "  <svg xmlns=\"http://www.w3.org/2000/svg\" height=\"24px\"viewBox=\"0 0 24 24\"\n",
              "       width=\"24px\">\n",
              "    <path d=\"M0 0h24v24H0V0z\" fill=\"none\"/>\n",
              "    <path d=\"M18.56 5.44l.94 2.06.94-2.06 2.06-.94-2.06-.94-.94-2.06-.94 2.06-2.06.94zm-11 1L8.5 8.5l.94-2.06 2.06-.94-2.06-.94L8.5 2.5l-.94 2.06-2.06.94zm10 10l.94 2.06.94-2.06 2.06-.94-2.06-.94-.94-2.06-.94 2.06-2.06.94z\"/><path d=\"M17.41 7.96l-1.37-1.37c-.4-.4-.92-.59-1.43-.59-.52 0-1.04.2-1.43.59L10.3 9.45l-7.72 7.72c-.78.78-.78 2.05 0 2.83L4 21.41c.39.39.9.59 1.41.59.51 0 1.02-.2 1.41-.59l7.78-7.78 2.81-2.81c.8-.78.8-2.07 0-2.86zM5.41 20L4 18.59l7.72-7.72 1.47 1.35L5.41 20z\"/>\n",
              "  </svg>\n",
              "      </button>\n",
              "      \n",
              "  <style>\n",
              "    .colab-df-container {\n",
              "      display:flex;\n",
              "      flex-wrap:wrap;\n",
              "      gap: 12px;\n",
              "    }\n",
              "\n",
              "    .colab-df-convert {\n",
              "      background-color: #E8F0FE;\n",
              "      border: none;\n",
              "      border-radius: 50%;\n",
              "      cursor: pointer;\n",
              "      display: none;\n",
              "      fill: #1967D2;\n",
              "      height: 32px;\n",
              "      padding: 0 0 0 0;\n",
              "      width: 32px;\n",
              "    }\n",
              "\n",
              "    .colab-df-convert:hover {\n",
              "      background-color: #E2EBFA;\n",
              "      box-shadow: 0px 1px 2px rgba(60, 64, 67, 0.3), 0px 1px 3px 1px rgba(60, 64, 67, 0.15);\n",
              "      fill: #174EA6;\n",
              "    }\n",
              "\n",
              "    [theme=dark] .colab-df-convert {\n",
              "      background-color: #3B4455;\n",
              "      fill: #D2E3FC;\n",
              "    }\n",
              "\n",
              "    [theme=dark] .colab-df-convert:hover {\n",
              "      background-color: #434B5C;\n",
              "      box-shadow: 0px 1px 3px 1px rgba(0, 0, 0, 0.15);\n",
              "      filter: drop-shadow(0px 1px 2px rgba(0, 0, 0, 0.3));\n",
              "      fill: #FFFFFF;\n",
              "    }\n",
              "  </style>\n",
              "\n",
              "      <script>\n",
              "        const buttonEl =\n",
              "          document.querySelector('#df-2f64b99b-b5cf-4e2c-bec8-55cfc41ea5df button.colab-df-convert');\n",
              "        buttonEl.style.display =\n",
              "          google.colab.kernel.accessAllowed ? 'block' : 'none';\n",
              "\n",
              "        async function convertToInteractive(key) {\n",
              "          const element = document.querySelector('#df-2f64b99b-b5cf-4e2c-bec8-55cfc41ea5df');\n",
              "          const dataTable =\n",
              "            await google.colab.kernel.invokeFunction('convertToInteractive',\n",
              "                                                     [key], {});\n",
              "          if (!dataTable) return;\n",
              "\n",
              "          const docLinkHtml = 'Like what you see? Visit the ' +\n",
              "            '<a target=\"_blank\" href=https://colab.research.google.com/notebooks/data_table.ipynb>data table notebook</a>'\n",
              "            + ' to learn more about interactive tables.';\n",
              "          element.innerHTML = '';\n",
              "          dataTable['output_type'] = 'display_data';\n",
              "          await google.colab.output.renderOutput(dataTable, element);\n",
              "          const docLink = document.createElement('div');\n",
              "          docLink.innerHTML = docLinkHtml;\n",
              "          element.appendChild(docLink);\n",
              "        }\n",
              "      </script>\n",
              "    </div>\n",
              "  </div>\n",
              "  "
            ]
          },
          "metadata": {},
          "execution_count": 4
        }
      ],
      "source": [
        "TRAIN = pd.read_csv(\"http://www.i3s.unice.fr/~riveill/dataset/Amazon_Unlocked_Mobile/train.csv.gz\")\n",
        "VAL = pd.read_csv(\"http://www.i3s.unice.fr/~riveill/dataset/Amazon_Unlocked_Mobile/val.csv.gz\")\n",
        "TEST = pd.read_csv(\"http://www.i3s.unice.fr/~riveill/dataset/Amazon_Unlocked_Mobile/test.csv.gz\")\n",
        "\n",
        "TRAIN.head(10)#pass an integer value to specify the number of header lines to output. "
      ]
    },
    {
      "cell_type": "markdown",
      "metadata": {
        "id": "ZtZ9fkdR2Cqf"
      },
      "source": [
        "### 1.3. Understand the train dataset"
      ]
    },
    {
      "cell_type": "code",
      "execution_count": 5,
      "metadata": {
        "id": "Yv78DSsp2Cqf",
        "scrolled": true,
        "colab": {
          "base_uri": "https://localhost:8080/"
        },
        "outputId": "83aa1153-9a2d-4b5e-8501-d9f54f0f150e"
      },
      "outputs": [
        {
          "output_type": "stream",
          "name": "stderr",
          "text": [
            "[nltk_data] Downloading package punkt to /root/nltk_data...\n",
            "[nltk_data]   Unzipping tokenizers/punkt.zip.\n"
          ]
        },
        {
          "output_type": "stream",
          "name": "stdout",
          "text": [
            "['I', 'love', 'it', '!', '!', '!', 'I', 'absolutely', 'love', 'it', '!', '!', '👌👍'] \n",
            "\n",
            "['I', 'love', 'the', 'BLU', 'phones', '!', 'This', 'is', 'my', 'second', 'one', 'this', 'year', 'and', 'not', 'because', 'there', 'is', 'anything', 'wrong', 'with', 'my', 'BLU', 'Studio', '6.0', 'HD', '.', 'I', 'have', 'just', 'opted', 'to', '``', 'upgrade', \"''\", 'to', 'a', 'phone', 'with', 'a', 'slightly', 'smaller', 'screen', 'and', 'better', 'battery', 'life', '.', 'For', 'the', 'price', 'of', 'these', 'phones', 'you', 'can', 'not', 'go', 'wrong.1', '.', 'Setup', 'is', 'a', 'breeze2', '.', 'customization', 'is', 'easy3', '.', 'colors', 'are', 'vibrant4', '.', 'phone', 'is', 'light', '(', 'even', 'with', 'a', 'rugged', 'case', ')', '5.', 'battery', 'life', 'is', 'better', 'than', 'any', 'phone', 'I', 'have', 'ever', 'had6', '.', 'Screen', 'is', 'responsive', 'to', 'touch', 'unlike', 'some', 'other', 'phones.I', 'have', 'had', 'no', 'issue', 'with', 'volume', 'or', 'music', 'playback', 'as', 'other', 'reviewers', 'have', 'noted', '.', 'All', 'in', 'all', 'a', 'great', 'phone', 'for', 'a', 'little', 'price', '.', 'Everyone', 'should', 'give', 'BLU', 'a', 'try', '.'] \n",
            "\n",
            "['Great', 'phone'] \n",
            "\n",
            "['Very', 'happy', 'with', 'the', 'performance', '.', 'The', 'apps', 'worked', 'flawlessly', ',', 'camera', 'could', 'be', 'better', 'but', 'no', 'complaints', 'considering', 'it', 'is', 'only', '$', '50', '.'] \n",
            "\n",
            "['Easy', 'to', 'use', 'great', 'price'] \n",
            "\n",
            "['Came', 'faster', 'then', 'expected', ',', 'thanks', 'cellathon', '.', 'I', \"'ve\", 'used', 'androids', 'and', 'iPhones', ',', 'so', 'this', 'is', 'the', 'first', 'time', 'I', 'used', 'a', 'Windows', 'phone', '.', 'So', 'as', 'I', \"'ll\", 'be', 'using', 'this', 'as', 'my', 'work', 'phone', ',', 'I', \"'ll\", 'be', 'learning', 'and', 'getting', 'use', 'to', 'the', 'phone', '.'] \n",
            "\n",
            "['Phone', 'stopped', 'working', 'within', '3', 'days', '!', '!'] \n",
            "\n",
            "['ordered', 'for', 'a', 'new', 'phone', 'and', 'got', 'a', 'used', 'one', 'with', 'someone', \"'s\", 'locked', 'account', 'on', 'knox', 'for', 'toyota', 'corporation', 'in', 'Japan', '.', 'Also', 'phone', 'was', 'designed', 'for', 'Asian', 'region', 'and', 'not', 'for', 'the', 'USA.Very', 'very', 'disappointed', 'for', 'the', 'first', 'time', 'since', '2005', 'when', 'I', 'started', 'buying', 'items', 'from', 'amazon'] \n",
            "\n",
            "['A+'] \n",
            "\n",
            "['Lots', 'of', 'problems', 'with', 'this', 'phone', '.', 'There', \"'s\", 'no', '``', 'recent', 'apps', \"''\", 'button', ',', 'so', 'I', 'have', 'to', 'pull', 'the', 'battery', 'to', 'turn', 'Pandora', 'off', '.', 'The', 'documentation', 'is', 'terrible', '.', 'They', \"'ll\", 'sell', 'you', 'a', 'Xeroxed', 'copy', 'for', 'I', 'think', '$', '35', 'or', 'you', 'can', 'print', 'it', 'out', ',', 'but', 'it', \"'s\", 'a', 'huge', 'print', 'out', '.', 'This', 'is', 'my', 'first', 'and', 'last', 'LG', 'product', ',', 'and', 'I', \"'ve\", 'learned', 'my', 'lesson', ',', 'which', 'is', ',', '``', 'You', 'get', 'what', 'you', 'paid', 'for', '.', \"''\", 'And', 'I', 'learned', 'that', 'lesson', 'just', 'in', 'time', 'to', 'dodge', 'a', 'bullet', ',', 'as', 'I', 'was', 'less', 'than', 'an', 'hour', 'away', 'from', 'ordering', 'their', '65', \"''\", 'curved', 'screen', 'TV', '!', 'And', 'it', \"'s\", 'not', 'just', 'me', '.', 'Check', 'out', 'Reddit', 'where', 'LG', 'G4', 'users', 'vent', 'their', 'anger', 'over', 'the', 'poor', 'engineering', 'in', 'this', 'phone.', '[', '...', ']'] \n",
            "\n"
          ]
        }
      ],
      "source": [
        "# Tokenized the reviews\n",
        "from nltk.tokenize import word_tokenize\n",
        "import nltk\n",
        "nltk.download('punkt') # If nltk requires to download 'punkt' depending on your installation\n",
        "reviews_tokenized = [word_tokenize(review) for review in TRAIN['Reviews']]\n",
        "for sentence in reviews_tokenized[:10]: print('%s \\n'%sentence)"
      ]
    },
    {
      "cell_type": "code",
      "execution_count": 6,
      "metadata": {
        "id": "-DstMsLw2Cqg",
        "colab": {
          "base_uri": "https://localhost:8080/"
        },
        "outputId": "73dade4d-cc4e-412e-9e9b-c5fa3b18d748"
      },
      "outputs": [
        {
          "output_type": "execute_result",
          "data": {
            "text/plain": [
              "13099"
            ]
          },
          "metadata": {},
          "execution_count": 6
        }
      ],
      "source": [
        "# Count the vocabulary\n",
        "flatten_reviews = [item for sublist in reviews_tokenized for item in sublist] # contain all words \n",
        "# print(flatten_reviews)\n",
        "unique_words = list(set(flatten_reviews)) #processed as a list for future analysis\n",
        "vocabulary_size = len(unique_words) # set allows to get unique words contain in flatten_reviews\n",
        "vocabulary_size"
      ]
    },
    {
      "cell_type": "code",
      "execution_count": 7,
      "metadata": {
        "id": "xT6zfZ4Z2Cqh",
        "colab": {
          "base_uri": "https://localhost:8080/",
          "height": 671
        },
        "outputId": "11d7db94-e85d-4590-987d-999845f5e08b"
      },
      "outputs": [
        {
          "output_type": "stream",
          "name": "stdout",
          "text": [
            "[('.', 10867), ('the', 8323), ('I', 6743), (',', 6551), ('and', 5429), ('it', 5217), ('phone', 5132), ('a', 4855), ('to', 4682), ('is', 3991), ('for', 2558), ('this', 2403), ('of', 2035), ('!', 1993), ('with', 1992), ('was', 1935), ('in', 1828), ('my', 1796), ('not', 1777), ('that', 1751)]\n"
          ]
        },
        {
          "output_type": "display_data",
          "data": {
            "text/plain": [
              "<Figure size 432x288 with 1 Axes>"
            ],
            "image/png": "[encoded data removed]"
          },
          "metadata": {
            "needs_background": "light"
          }
        },
        {
          "output_type": "display_data",
          "data": {
            "text/plain": [
              "<Figure size 576x360 with 1 Axes>"
            ],
            "image/png": "[encoded data removed]"
          },
          "metadata": {
            "needs_background": "light"
          }
        }
      ],
      "source": [
        "# Plot the distribution of words\n",
        "from nltk import FreqDist\n",
        "\n",
        "freqDist = FreqDist(flatten_reviews)\n",
        "print(freqDist.most_common(20))\n",
        "full_counts = [x[1] for x in freqDist.most_common()]\n",
        "freqDist.plot(25, cumulative=False)\n",
        "pl.show()\n",
        "pl.figure(figsize=(8,5))\n",
        "#plot\n",
        "sns.kdeplot(full_counts)\n",
        "#labeling features for readibility you have to think about while presenting your results\n",
        "pl.xlabel('word occurrence'); pl.ylabel('probability density'); pl.title('word occurences distribution')\n",
        "pl.show()\n",
        "\n",
        "# most of the time, the most common words are linking words, basic verbs, punctuation\n",
        "# For instance, One can wonder either rare words are more significant for discriminative purposes."
      ]
    },
    {
      "cell_type": "code",
      "execution_count": 8,
      "metadata": {
        "id": "pLaJktYA2Cqh",
        "colab": {
          "base_uri": "https://localhost:8080/",
          "height": 425
        },
        "outputId": "76b48da6-604f-442a-fb9e-dae612af852d"
      },
      "outputs": [
        {
          "output_type": "display_data",
          "data": {
            "text/plain": [
              "<Figure size 576x432 with 1 Axes>"
            ],
            "image/png": "[encoded data removed]"
          },
          "metadata": {
            "needs_background": "light"
          }
        },
        {
          "output_type": "execute_result",
          "data": {
            "text/plain": [
              "<matplotlib.axes._subplots.AxesSubplot at 0x7f519f87cbe0>"
            ]
          },
          "metadata": {},
          "execution_count": 8
        }
      ],
      "source": [
        "# Plot the distibution of word length size\n",
        "len_words = [len(w) for w in flatten_reviews]\n",
        "freqDist2 = FreqDist(len_words)\n",
        "pl.figure(figsize=(8,6))\n",
        "pl.title('word length')\n",
        "freqDist2.plot(cumulative=False)"
      ]
    },
    {
      "cell_type": "code",
      "execution_count": 9,
      "metadata": {
        "id": "RuftOA7X2Cqi",
        "colab": {
          "base_uri": "https://localhost:8080/",
          "height": 422
        },
        "outputId": "e37121c8-2f4e-4266-9a60-e971cdbe5950"
      },
      "outputs": [
        {
          "output_type": "execute_result",
          "data": {
            "text/plain": [
              "Text(0.5, 1.0, 'sentence lengths distribution')"
            ]
          },
          "metadata": {},
          "execution_count": 9
        },
        {
          "output_type": "display_data",
          "data": {
            "text/plain": [
              "<Figure size 576x432 with 1 Axes>"
            ],
            "image/png": "[encoded data removed]"
          },
          "metadata": {
            "needs_background": "light"
          }
        }
      ],
      "source": [
        "# Plot the distribution of sentence lengths\n",
        "len_sentences = [len(s) for s in reviews_tokenized]\n",
        "pl.figure(figsize=(8,6))\n",
        "sns.kdeplot(len_sentences)\n",
        "pl.xlabel('sentence length'); pl.ylabel('density');pl.title('sentence lengths distribution')"
      ]
    },
    {
      "cell_type": "code",
      "execution_count": 10,
      "metadata": {
        "id": "d_CQEXm-2Cqj",
        "colab": {
          "base_uri": "https://localhost:8080/"
        },
        "outputId": "b79a178a-b0a3-4c60-d58a-6850e29eb49c"
      },
      "outputs": [
        {
          "output_type": "execute_result",
          "data": {
            "text/plain": [
              "['I love the',\n",
              " 'love the chocolate',\n",
              " 'the chocolate but',\n",
              " 'chocolate but I',\n",
              " 'but I hate',\n",
              " 'I hate tea']"
            ]
          },
          "metadata": {},
          "execution_count": 10
        }
      ],
      "source": [
        "# Build a function named get_ngrams that return the list of n grams of a text.\n",
        "from nltk.tokenize import word_tokenize\n",
        "from nltk.util import ngrams\n",
        "\n",
        "def get_ngrams(text, n ):\n",
        "    if len(word_tokenize(text)) < n :\n",
        "        return []\n",
        "    n_grams = ngrams(word_tokenize(text), n)\n",
        "    return [ ' '.join(grams) for grams in n_grams]\n",
        "\n",
        "# Use this function to output/print the ngrams of the following text\n",
        "text = \"I love the chocolate but I hate tea\"\n",
        "\n",
        "# get_ngrams('This is the simplest text i could think of', 3 )\n",
        "get_ngrams(text, 3 )"
      ]
    },
    {
      "cell_type": "code",
      "execution_count": 11,
      "metadata": {
        "id": "N9gggq2E2Cqj",
        "colab": {
          "base_uri": "https://localhost:8080/"
        },
        "outputId": "b485c78a-465b-44e3-bfd6-57811750e120"
      },
      "outputs": [
        {
          "output_type": "execute_result",
          "data": {
            "text/plain": [
              "[['I love it',\n",
              "  'love it !',\n",
              "  'it ! !',\n",
              "  '! ! !',\n",
              "  '! ! I',\n",
              "  '! I absolutely',\n",
              "  'I absolutely love',\n",
              "  'absolutely love it',\n",
              "  'love it !',\n",
              "  'it ! !',\n",
              "  '! ! 👌👍'],\n",
              " ['I love the',\n",
              "  'love the BLU',\n",
              "  'the BLU phones',\n",
              "  'BLU phones !',\n",
              "  'phones ! This',\n",
              "  '! This is',\n",
              "  'This is my',\n",
              "  'is my second',\n",
              "  'my second one',\n",
              "  'second one this',\n",
              "  'one this year',\n",
              "  'this year and',\n",
              "  'year and not',\n",
              "  'and not because',\n",
              "  'not because there',\n",
              "  'because there is',\n",
              "  'there is anything',\n",
              "  'is anything wrong',\n",
              "  'anything wrong with',\n",
              "  'wrong with my',\n",
              "  'with my BLU',\n",
              "  'my BLU Studio',\n",
              "  'BLU Studio 6.0',\n",
              "  'Studio 6.0 HD',\n",
              "  '6.0 HD .',\n",
              "  'HD . I',\n",
              "  '. I have',\n",
              "  'I have just',\n",
              "  'have just opted',\n",
              "  'just opted to',\n",
              "  'opted to ``',\n",
              "  'to `` upgrade',\n",
              "  '`` upgrade ``',\n",
              "  'upgrade `` to',\n",
              "  '`` to a',\n",
              "  'to a phone',\n",
              "  'a phone with',\n",
              "  'phone with a',\n",
              "  'with a slightly',\n",
              "  'a slightly smaller',\n",
              "  'slightly smaller screen',\n",
              "  'smaller screen and',\n",
              "  'screen and better',\n",
              "  'and better battery',\n",
              "  'better battery life',\n",
              "  'battery life .',\n",
              "  'life . For',\n",
              "  '. For the',\n",
              "  'For the price',\n",
              "  'the price of',\n",
              "  'price of these',\n",
              "  'of these phones',\n",
              "  'these phones you',\n",
              "  'phones you can',\n",
              "  'you can not',\n",
              "  'can not go',\n",
              "  'not go wrong.1',\n",
              "  'go wrong.1 .',\n",
              "  'wrong.1 . Setup',\n",
              "  '. Setup is',\n",
              "  'Setup is a',\n",
              "  'is a breeze2',\n",
              "  'a breeze2 .',\n",
              "  'breeze2 . customization',\n",
              "  '. customization is',\n",
              "  'customization is easy3',\n",
              "  'is easy3 .',\n",
              "  'easy3 . colors',\n",
              "  '. colors are',\n",
              "  'colors are vibrant4',\n",
              "  'are vibrant4 .',\n",
              "  'vibrant4 . phone',\n",
              "  '. phone is',\n",
              "  'phone is light',\n",
              "  'is light (',\n",
              "  'light ( even',\n",
              "  '( even with',\n",
              "  'even with a',\n",
              "  'with a rugged',\n",
              "  'a rugged case',\n",
              "  'rugged case )',\n",
              "  'case ) 5.',\n",
              "  ') 5. battery',\n",
              "  '5. battery life',\n",
              "  'battery life is',\n",
              "  'life is better',\n",
              "  'is better than',\n",
              "  'better than any',\n",
              "  'than any phone',\n",
              "  'any phone I',\n",
              "  'phone I have',\n",
              "  'I have ever',\n",
              "  'have ever had6',\n",
              "  'ever had6 .',\n",
              "  'had6 . Screen',\n",
              "  '. Screen is',\n",
              "  'Screen is responsive',\n",
              "  'is responsive to',\n",
              "  'responsive to touch',\n",
              "  'to touch unlike',\n",
              "  'touch unlike some',\n",
              "  'unlike some other',\n",
              "  'some other phones.I',\n",
              "  'other phones.I have',\n",
              "  'phones.I have had',\n",
              "  'have had no',\n",
              "  'had no issue',\n",
              "  'no issue with',\n",
              "  'issue with volume',\n",
              "  'with volume or',\n",
              "  'volume or music',\n",
              "  'or music playback',\n",
              "  'music playback as',\n",
              "  'playback as other',\n",
              "  'as other reviewers',\n",
              "  'other reviewers have',\n",
              "  'reviewers have noted',\n",
              "  'have noted .',\n",
              "  'noted . All',\n",
              "  '. All in',\n",
              "  'All in all',\n",
              "  'in all a',\n",
              "  'all a great',\n",
              "  'a great phone',\n",
              "  'great phone for',\n",
              "  'phone for a',\n",
              "  'for a little',\n",
              "  'a little price',\n",
              "  'little price .',\n",
              "  'price . Everyone',\n",
              "  '. Everyone should',\n",
              "  'Everyone should give',\n",
              "  'should give BLU',\n",
              "  'give BLU a',\n",
              "  'BLU a try',\n",
              "  'a try .']]"
            ]
          },
          "metadata": {},
          "execution_count": 11
        }
      ],
      "source": [
        "# For each reviews calculate its 3grams\n",
        "ngrams_reviews = [get_ngrams(' '.join(r), 3) for r in reviews_tokenized]\n",
        "ngrams_reviews[:2]"
      ]
    },
    {
      "cell_type": "markdown",
      "metadata": {
        "id": "6mKAQIIF2Cqk"
      },
      "source": [
        "###  1.4. What about your validation split ?\n",
        "\n",
        "Questions left to the students:\n",
        "\n",
        "    - Is the vocabulary observed in the validation dataset included in the train dataset?\n",
        "    - How similar are distributions of word occurences or word lengths?\n",
        "    - Same for sentence-wise distributions? \n",
        "\n",
        "In practice you do not have prior knowledge on the classification labels of the test dataset, and you want to infer these i.e. be able to generalize this categorization based on known labels of the train dataset. So you use the validation dataset to measure the generalization ability of your model learned on the train dataset.\n",
        "\n",
        "However, you have access to observations from all datasets split (sentences here) in stationary cases (to contrast to online settings where new data comes on the fly)."
      ]
    },
    {
      "cell_type": "code",
      "execution_count": 12,
      "metadata": {
        "id": "P0lWXgT_2Cql",
        "colab": {
          "base_uri": "https://localhost:8080/",
          "height": 206
        },
        "outputId": "92e75f9c-7567-41b7-e5b8-5a66b0fad063"
      },
      "outputs": [
        {
          "output_type": "execute_result",
          "data": {
            "text/plain": [
              "                                        Product Name  Brand Name   Price  \\\n",
              "0  BLU Tank II T193 Unlocked GSM Dual-SIM Cell Ph...         BLU   26.41   \n",
              "1     Apple iPhone 5 Unlocked Cellphone, 32GB, White       Apple  265.00   \n",
              "2  HTC Explorer A310e Unlocked GSM Phone with And...         NaN   79.99   \n",
              "3  Blackberry 9530 Storm Unlocked For Any GSM Car...  BlackBerry  131.59   \n",
              "4  Nokia E71 Unlocked Phone with 3.2 MP Camera, 3...       Nokia  193.50   \n",
              "\n",
              "   Rating                                            Reviews  Review Votes  \n",
              "0       1                                        Pretty good           0.0  \n",
              "1       5                      Excellent,very good Very fast           0.0  \n",
              "2       3  This was a replacement. We had a POS Samsung f...           0.0  \n",
              "3       1                        Was used ! Had to return it           0.0  \n",
              "4       3  Just loved the item, and it was just as the pi...           0.0  "
            ],
            "text/html": [
              "\n",
              "  <div id=\"df-246ad237-c689-4cf8-923e-ca540893ea5b\">\n",
              "    <div class=\"colab-df-container\">\n",
              "      <div>\n",
              "<style scoped>\n",
              "    .dataframe tbody tr th:only-of-type {\n",
              "        vertical-align: middle;\n",
              "    }\n",
              "\n",
              "    .dataframe tbody tr th {\n",
              "        vertical-align: top;\n",
              "    }\n",
              "\n",
              "    .dataframe thead th {\n",
              "        text-align: right;\n",
              "    }\n",
              "</style>\n",
              "<table border=\"1\" class=\"dataframe\">\n",
              "  <thead>\n",
              "    <tr style=\"text-align: right;\">\n",
              "      <th></th>\n",
              "      <th>Product Name</th>\n",
              "      <th>Brand Name</th>\n",
              "      <th>Price</th>\n",
              "      <th>Rating</th>\n",
              "      <th>Reviews</th>\n",
              "      <th>Review Votes</th>\n",
              "    </tr>\n",
              "  </thead>\n",
              "  <tbody>\n",
              "    <tr>\n",
              "      <th>0</th>\n",
              "      <td>BLU Tank II T193 Unlocked GSM Dual-SIM Cell Ph...</td>\n",
              "      <td>BLU</td>\n",
              "      <td>26.41</td>\n",
              "      <td>1</td>\n",
              "      <td>Pretty good</td>\n",
              "      <td>0.0</td>\n",
              "    </tr>\n",
              "    <tr>\n",
              "      <th>1</th>\n",
              "      <td>Apple iPhone 5 Unlocked Cellphone, 32GB, White</td>\n",
              "      <td>Apple</td>\n",
              "      <td>265.00</td>\n",
              "      <td>5</td>\n",
              "      <td>Excellent,very good Very fast</td>\n",
              "      <td>0.0</td>\n",
              "    </tr>\n",
              "    <tr>\n",
              "      <th>2</th>\n",
              "      <td>HTC Explorer A310e Unlocked GSM Phone with And...</td>\n",
              "      <td>NaN</td>\n",
              "      <td>79.99</td>\n",
              "      <td>3</td>\n",
              "      <td>This was a replacement. We had a POS Samsung f...</td>\n",
              "      <td>0.0</td>\n",
              "    </tr>\n",
              "    <tr>\n",
              "      <th>3</th>\n",
              "      <td>Blackberry 9530 Storm Unlocked For Any GSM Car...</td>\n",
              "      <td>BlackBerry</td>\n",
              "      <td>131.59</td>\n",
              "      <td>1</td>\n",
              "      <td>Was used ! Had to return it</td>\n",
              "      <td>0.0</td>\n",
              "    </tr>\n",
              "    <tr>\n",
              "      <th>4</th>\n",
              "      <td>Nokia E71 Unlocked Phone with 3.2 MP Camera, 3...</td>\n",
              "      <td>Nokia</td>\n",
              "      <td>193.50</td>\n",
              "      <td>3</td>\n",
              "      <td>Just loved the item, and it was just as the pi...</td>\n",
              "      <td>0.0</td>\n",
              "    </tr>\n",
              "  </tbody>\n",
              "</table>\n",
              "</div>\n",
              "      <button class=\"colab-df-convert\" onclick=\"convertToInteractive('df-246ad237-c689-4cf8-923e-ca540893ea5b')\"\n",
              "              title=\"Convert this dataframe to an interactive table.\"\n",
              "              style=\"display:none;\">\n",
              "        \n",
              "  <svg xmlns=\"http://www.w3.org/2000/svg\" height=\"24px\"viewBox=\"0 0 24 24\"\n",
              "       width=\"24px\">\n",
              "    <path d=\"M0 0h24v24H0V0z\" fill=\"none\"/>\n",
              "    <path d=\"M18.56 5.44l.94 2.06.94-2.06 2.06-.94-2.06-.94-.94-2.06-.94 2.06-2.06.94zm-11 1L8.5 8.5l.94-2.06 2.06-.94-2.06-.94L8.5 2.5l-.94 2.06-2.06.94zm10 10l.94 2.06.94-2.06 2.06-.94-2.06-.94-.94-2.06-.94 2.06-2.06.94z\"/><path d=\"M17.41 7.96l-1.37-1.37c-.4-.4-.92-.59-1.43-.59-.52 0-1.04.2-1.43.59L10.3 9.45l-7.72 7.72c-.78.78-.78 2.05 0 2.83L4 21.41c.39.39.9.59 1.41.59.51 0 1.02-.2 1.41-.59l7.78-7.78 2.81-2.81c.8-.78.8-2.07 0-2.86zM5.41 20L4 18.59l7.72-7.72 1.47 1.35L5.41 20z\"/>\n",
              "  </svg>\n",
              "      </button>\n",
              "      \n",
              "  <style>\n",
              "    .colab-df-container {\n",
              "      display:flex;\n",
              "      flex-wrap:wrap;\n",
              "      gap: 12px;\n",
              "    }\n",
              "\n",
              "    .colab-df-convert {\n",
              "      background-color: #E8F0FE;\n",
              "      border: none;\n",
              "      border-radius: 50%;\n",
              "      cursor: pointer;\n",
              "      display: none;\n",
              "      fill: #1967D2;\n",
              "      height: 32px;\n",
              "      padding: 0 0 0 0;\n",
              "      width: 32px;\n",
              "    }\n",
              "\n",
              "    .colab-df-convert:hover {\n",
              "      background-color: #E2EBFA;\n",
              "      box-shadow: 0px 1px 2px rgba(60, 64, 67, 0.3), 0px 1px 3px 1px rgba(60, 64, 67, 0.15);\n",
              "      fill: #174EA6;\n",
              "    }\n",
              "\n",
              "    [theme=dark] .colab-df-convert {\n",
              "      background-color: #3B4455;\n",
              "      fill: #D2E3FC;\n",
              "    }\n",
              "\n",
              "    [theme=dark] .colab-df-convert:hover {\n",
              "      background-color: #434B5C;\n",
              "      box-shadow: 0px 1px 3px 1px rgba(0, 0, 0, 0.15);\n",
              "      filter: drop-shadow(0px 1px 2px rgba(0, 0, 0, 0.3));\n",
              "      fill: #FFFFFF;\n",
              "    }\n",
              "  </style>\n",
              "\n",
              "      <script>\n",
              "        const buttonEl =\n",
              "          document.querySelector('#df-246ad237-c689-4cf8-923e-ca540893ea5b button.colab-df-convert');\n",
              "        buttonEl.style.display =\n",
              "          google.colab.kernel.accessAllowed ? 'block' : 'none';\n",
              "\n",
              "        async function convertToInteractive(key) {\n",
              "          const element = document.querySelector('#df-246ad237-c689-4cf8-923e-ca540893ea5b');\n",
              "          const dataTable =\n",
              "            await google.colab.kernel.invokeFunction('convertToInteractive',\n",
              "                                                     [key], {});\n",
              "          if (!dataTable) return;\n",
              "\n",
              "          const docLinkHtml = 'Like what you see? Visit the ' +\n",
              "            '<a target=\"_blank\" href=https://colab.research.google.com/notebooks/data_table.ipynb>data table notebook</a>'\n",
              "            + ' to learn more about interactive tables.';\n",
              "          element.innerHTML = '';\n",
              "          dataTable['output_type'] = 'display_data';\n",
              "          await google.colab.output.renderOutput(dataTable, element);\n",
              "          const docLink = document.createElement('div');\n",
              "          docLink.innerHTML = docLinkHtml;\n",
              "          element.appendChild(docLink);\n",
              "        }\n",
              "      </script>\n",
              "    </div>\n",
              "  </div>\n",
              "  "
            ]
          },
          "metadata": {},
          "execution_count": 12
        }
      ],
      "source": [
        "VAL.head()"
      ]
    },
    {
      "cell_type": "code",
      "execution_count": 13,
      "metadata": {
        "id": "Qd20ZUf92Cql",
        "colab": {
          "base_uri": "https://localhost:8080/"
        },
        "outputId": "3a432236-d8a5-4343-d7a0-fea00c0c86e4"
      },
      "outputs": [
        {
          "output_type": "stream",
          "name": "stdout",
          "text": [
            "How many fails over the whole Validation reviews ?  1\n",
            "Look at failures to understand why it happened ? \n",
            "list of bugged reviews: [nan]\n"
          ]
        }
      ],
      "source": [
        "\"\"\"\n",
        "Tokenized the reviews of the validation dataset\n",
        "Code previously used for processing the train dataset fails on the validation dataset\n",
        "This is a common situation while dealing with real life datasets built by non machine-learning practitioners.\n",
        "So we also have to know how to preprocess row data.\n",
        "Common problems contain in real life dataset:\n",
        "    contain NaN values; values type are not consistent among a given dataset feature etc.. \n",
        "\"\"\"\n",
        "run_failure = False#True\n",
        "if run_failure: #This code will give you an error\n",
        "    reviews_tokenized_val = [word_tokenize(review) for review in VAL['Reviews']]\n",
        "    for sentence in reviews_tokenized_val[:10]: print('%s \\n'%sentence)\n",
        "else: # Here for practical reasons we just show how to deal with this issue using exceptions\n",
        "    reviews_tokenized_val= []\n",
        "    failed_review=[]\n",
        "    for review in VAL['Reviews']:\n",
        "        try: # Store the result of the function word_tokenize applied on current review if it does not fail \n",
        "            reviews_tokenized_val.append(word_tokenize(review))\n",
        "        except:\n",
        "            failed_review.append(review)\n",
        "            continue\n",
        "    print('How many fails over the whole Validation reviews ? ', len(VAL['Reviews']) - len(reviews_tokenized_val))\n",
        "    print('Look at failures to understand why it happened ? \\nlist of bugged reviews: %s'%failed_review)"
      ]
    },
    {
      "cell_type": "code",
      "execution_count": 14,
      "metadata": {
        "id": "lbetI5wb2Cqm",
        "colab": {
          "base_uri": "https://localhost:8080/"
        },
        "outputId": "cb502497-6942-47a2-8c34-7f9ed8d380f5"
      },
      "outputs": [
        {
          "output_type": "stream",
          "name": "stdout",
          "text": [
            "TRAIN dataset - vocabulary size: 13099 \n",
            "VAL dataset - vocabulary size: 5067 \n"
          ]
        }
      ],
      "source": [
        "# validation vocabulary\n",
        "flatten_reviews_val = [item for sublist in reviews_tokenized_val for item in sublist]\n",
        "unique_words_val = list(set(flatten_reviews_val))\n",
        "vocabulary_size_val = len(unique_words_val)\n",
        "print('TRAIN dataset - vocabulary size: %s \\nVAL dataset - vocabulary size: %s '%(vocabulary_size,vocabulary_size_val))"
      ]
    },
    {
      "cell_type": "code",
      "execution_count": 15,
      "metadata": {
        "id": "y9fxYv_a2Cqn",
        "colab": {
          "base_uri": "https://localhost:8080/"
        },
        "outputId": "46b43054-811c-4313-9b93-4f3da4b1c8a2"
      },
      "outputs": [
        {
          "output_type": "stream",
          "name": "stdout",
          "text": [
            "Number of INCLUDED words: 3687 \n",
            "Number of EXCLUDED words:1380\n"
          ]
        }
      ],
      "source": [
        "# Are words in the VALIDATION reviews contained in the TRAINING ones? \n",
        "included_words = []\n",
        "excluded_words = []\n",
        "for word in unique_words_val:\n",
        "    if word in unique_words:\n",
        "        included_words.append(word)\n",
        "    else:\n",
        "        excluded_words.append(word)\n",
        "print('Number of INCLUDED words: %s \\nNumber of EXCLUDED words:%s'%(len(included_words),len(excluded_words)))"
      ]
    },
    {
      "cell_type": "code",
      "execution_count": 16,
      "metadata": {
        "id": "SYD9w73i9XlM",
        "colab": {
          "base_uri": "https://localhost:8080/"
        },
        "outputId": "7ea35a88-d6b2-4161-ff4b-77fd0915bbad"
      },
      "outputs": [
        {
          "output_type": "execute_result",
          "data": {
            "text/plain": [
              "5067"
            ]
          },
          "metadata": {},
          "execution_count": 16
        }
      ],
      "source": [
        "# [TO DO - Students] Plot most frequent words present in the validation dataset\n",
        "\n",
        "# Count the vocabulary\n",
        "flatten_reviews_val = [item for sublist in reviews_tokenized_val for item in sublist] # contain all words \n",
        "# print(flatten_reviews)\n",
        "unique_words = list(set(flatten_reviews_val)) #processed as a list for future analysis\n",
        "vocabulary_size = len(unique_words) # set allows to get unique words contain in flatten_reviews\n",
        "vocabulary_size"
      ]
    },
    {
      "cell_type": "code",
      "source": [
        "freqDist = FreqDist(flatten_reviews)\n",
        "print(freqDist.most_common(20))\n",
        "full_counts_val = [x[1] for x in freqDist.most_common()]\n",
        "freqDist.plot(25, cumulative=False)\n",
        "pl.show()\n",
        "pl.figure(figsize=(8,5))\n",
        "#plot\n",
        "sns.kdeplot(full_counts_val)\n",
        "#labeling features for readibility you have to think about while presenting your results\n",
        "pl.xlabel('word occurrence'); pl.ylabel('probability density'); pl.title('word occurences distribution')\n",
        "pl.show()"
      ],
      "metadata": {
        "colab": {
          "base_uri": "https://localhost:8080/",
          "height": 671
        },
        "id": "MTDVor0WIVod",
        "outputId": "8c3fca38-0ad6-4730-d114-49ebb4699cb5"
      },
      "execution_count": 17,
      "outputs": [
        {
          "output_type": "stream",
          "name": "stdout",
          "text": [
            "[('.', 10867), ('the', 8323), ('I', 6743), (',', 6551), ('and', 5429), ('it', 5217), ('phone', 5132), ('a', 4855), ('to', 4682), ('is', 3991), ('for', 2558), ('this', 2403), ('of', 2035), ('!', 1993), ('with', 1992), ('was', 1935), ('in', 1828), ('my', 1796), ('not', 1777), ('that', 1751)]\n"
          ]
        },
        {
          "output_type": "display_data",
          "data": {
            "text/plain": [
              "<Figure size 432x288 with 1 Axes>"
            ],
            "image/png": "[encoded data removed]"
          },
          "metadata": {
            "needs_background": "light"
          }
        },
        {
          "output_type": "display_data",
          "data": {
            "text/plain": [
              "<Figure size 576x360 with 1 Axes>"
            ],
            "image/png": "[encoded data removed]"
          },
          "metadata": {
            "needs_background": "light"
          }
        }
      ]
    },
    {
      "cell_type": "code",
      "execution_count": 18,
      "metadata": {
        "id": "bXxFi_PR2Cqo",
        "colab": {
          "base_uri": "https://localhost:8080/",
          "height": 350
        },
        "outputId": "70257a6c-b185-4007-df7b-14567b19bf6a"
      },
      "outputs": [
        {
          "output_type": "display_data",
          "data": {
            "text/plain": [
              "<Figure size 864x360 with 2 Axes>"
            ],
            "image/png": "[encoded data removed]"
          },
          "metadata": {
            "needs_background": "light"
          }
        }
      ],
      "source": [
        "# Plot the distribution of word occurences\n",
        "## Start with plotting the word occurences with distributions from VAL and TRAIN next to each other\n",
        "pl.figure(figsize=(12,5))\n",
        "pl.subplot(121)\n",
        "sns.kdeplot(full_counts_val)\n",
        "pl.xlabel('word occurrence'); pl.ylabel('probability density'); pl.title('[VAL] word occurences distribution')\n",
        "pl.subplot(122)\n",
        "sns.kdeplot(full_counts)\n",
        "pl.xlabel('word occurrence'); pl.ylabel('probability density'); pl.title('[TRAIN] word occurences distribution')\n",
        "pl.show()"
      ]
    },
    {
      "cell_type": "code",
      "execution_count": 19,
      "metadata": {
        "id": "8PLZdAn7oa6T",
        "colab": {
          "base_uri": "https://localhost:8080/",
          "height": 431
        },
        "outputId": "77e9f950-ac5c-4a22-f26e-c384bf9cbe3f"
      },
      "outputs": [
        {
          "output_type": "display_data",
          "data": {
            "text/plain": [
              "<Figure size 576x432 with 1 Axes>"
            ],
            "image/png": "[encoded data removed]"
          },
          "metadata": {
            "needs_background": "light"
          }
        },
        {
          "output_type": "execute_result",
          "data": {
            "text/plain": [
              "<matplotlib.axes._subplots.AxesSubplot at 0x7f519af6cbb0>"
            ]
          },
          "metadata": {},
          "execution_count": 19
        }
      ],
      "source": [
        "# [TO DO - Students] Then do the same thing for word lengths\n",
        "\n",
        "len_words_val = [len(w) for w in flatten_reviews_val]\n",
        "freqDist2 = FreqDist(len_words_val)\n",
        "pl.figure(figsize=(8,6))\n",
        "pl.title('word length')\n",
        "freqDist2.plot(cumulative=False)"
      ]
    },
    {
      "cell_type": "code",
      "execution_count": 20,
      "metadata": {
        "id": "wEifM2dY2Cqp",
        "colab": {
          "base_uri": "https://localhost:8080/",
          "height": 422
        },
        "outputId": "177ebc02-6ad0-4901-cf10-01933e3d512e"
      },
      "outputs": [
        {
          "output_type": "execute_result",
          "data": {
            "text/plain": [
              "Text(0.5, 1.0, 'sentence lengths distribution')"
            ]
          },
          "metadata": {},
          "execution_count": 20
        },
        {
          "output_type": "display_data",
          "data": {
            "text/plain": [
              "<Figure size 576x432 with 1 Axes>"
            ],
            "image/png": "[encoded data removed]"
          },
          "metadata": {
            "needs_background": "light"
          }
        }
      ],
      "source": [
        "#  [TO DO - Students] Plot the distribution of sentence lengths\n",
        "\n",
        "len_sentences = [len(s) for s in reviews_tokenized_val]\n",
        "pl.figure(figsize=(8,6))\n",
        "sns.kdeplot(len_sentences)\n",
        "pl.xlabel('sentence length'); pl.ylabel('density');pl.title('sentence lengths distribution')"
      ]
    },
    {
      "cell_type": "markdown",
      "metadata": {
        "id": "d8DZsmx82Cqq"
      },
      "source": [
        "## 2. Sentence Classifications"
      ]
    },
    {
      "cell_type": "markdown",
      "metadata": {
        "id": "EMazEWld2Cqq"
      },
      "source": [
        "### 2.1. Build X (features vectors) and y (labels)"
      ]
    },
    {
      "cell_type": "code",
      "execution_count": 27,
      "metadata": {
        "id": "LK6otSJU2Cqq",
        "colab": {
          "base_uri": "https://localhost:8080/"
        },
        "outputId": "4f31ebb2-bba2-4539-bd0e-da5d69f3f409"
      },
      "outputs": [
        {
          "output_type": "execute_result",
          "data": {
            "text/plain": [
              "((5000,), (5000,))"
            ]
          },
          "metadata": {},
          "execution_count": 27
        }
      ],
      "source": [
        "# Construct X_train and y_train\n",
        "X_train = TRAIN['Reviews'].fillna(\"\")\n",
        "y_train = TRAIN['Rating']\n",
        "X_train.shape, y_train.shape"
      ]
    },
    {
      "cell_type": "code",
      "execution_count": 28,
      "metadata": {
        "id": "1u-bbHc32Cqr",
        "colab": {
          "base_uri": "https://localhost:8080/"
        },
        "outputId": "b1ba9f79-455c-4e79-d61e-e5c4b0ab2fde"
      },
      "outputs": [
        {
          "output_type": "execute_result",
          "data": {
            "text/plain": [
              "((1000,), (1000,))"
            ]
          },
          "metadata": {},
          "execution_count": 28
        }
      ],
      "source": [
        "# Construct X_val and y_val\n",
        "X_val = VAL['Reviews'].fillna(\"\")\n",
        "y_val = VAL['Rating']\n",
        "X_val.shape, y_val.shape"
      ]
    },
    {
      "cell_type": "code",
      "execution_count": 29,
      "metadata": {
        "id": "WMZtc-wc2Cqr",
        "colab": {
          "base_uri": "https://localhost:8080/"
        },
        "outputId": "61e2385c-7e25-45eb-8c23-f1b56f1f68ba"
      },
      "outputs": [
        {
          "output_type": "execute_result",
          "data": {
            "text/plain": [
              "((1000,), (1000,))"
            ]
          },
          "metadata": {},
          "execution_count": 29
        }
      ],
      "source": [
        "# Construct X_test and y_test\n",
        "X_test = TEST['Reviews'].fillna(\"\")\n",
        "y_test = TEST['Rating']\n",
        "X_test.shape, y_test.shape"
      ]
    },
    {
      "cell_type": "markdown",
      "metadata": {
        "id": "OX1lUZ1Q2Cqr"
      },
      "source": [
        "### 2.2. Build a Baseline\n",
        "Using a binary `CountVectorizer` and a `LogisticRegression` classifier, learned in a previous lecture, build a first model.\n",
        "\n",
        "For this model, you will not pre-process the text and will only use words (not N-grams). Leaves all parameter as default.\n",
        "\n",
        "The evaluation metric is accuracy."
      ]
    },
    {
      "cell_type": "markdown",
      "metadata": {
        "id": "xBO3PedQ2Cqs"
      },
      "source": [
        "$$[TO DO - Students]$$\n",
        "\n",
        "Explain in your own words both classification models (CountVectorizer & Logistic Regression), feel free to specify key features/hyperparameters of these models that seem the most important ones to tune and explain why. You can include it at the end of the notebook for your conclusion. "
      ]
    },
    {
      "cell_type": "code",
      "execution_count": 78,
      "metadata": {
        "id": "SGiYlqFJ2Cqs",
        "colab": {
          "base_uri": "https://localhost:8080/"
        },
        "outputId": "40af231b-844e-40a6-eb86-54f6bc597bbc"
      },
      "outputs": [
        {
          "output_type": "execute_result",
          "data": {
            "text/plain": [
              "(5000, 8991)"
            ]
          },
          "metadata": {},
          "execution_count": 78
        }
      ],
      "source": [
        "# Encode X_train\n",
        "from sklearn.feature_extraction.text import CountVectorizer\n",
        "\n",
        "cv = CountVectorizer()\n",
        "cv.fit(X_train)\n",
        "X_train_encoded = cv.transform(X_train)\n",
        "X_train_encoded.shape"
      ]
    },
    {
      "cell_type": "code",
      "execution_count": 79,
      "metadata": {
        "id": "JjFPaQlJ2Cqs",
        "colab": {
          "base_uri": "https://localhost:8080/"
        },
        "outputId": "71b13762-9686-4ba4-cf10-69d662314159"
      },
      "outputs": [
        {
          "output_type": "execute_result",
          "data": {
            "text/plain": [
              "8991"
            ]
          },
          "metadata": {},
          "execution_count": 79
        }
      ],
      "source": [
        "# What is the vocabulary size ?\n",
        "# Compare with your previous response\n",
        "len(cv.vocabulary_)"
      ]
    },
    {
      "cell_type": "code",
      "source": [
        "cv.fixed_vocabulary_"
      ],
      "metadata": {
        "colab": {
          "base_uri": "https://localhost:8080/"
        },
        "id": "S7QJQYXLhLcn",
        "outputId": "4f1791d7-dd16-46a2-a057-804a1c24ac91"
      },
      "execution_count": 80,
      "outputs": [
        {
          "output_type": "execute_result",
          "data": {
            "text/plain": [
              "False"
            ]
          },
          "metadata": {},
          "execution_count": 80
        }
      ]
    },
    {
      "cell_type": "code",
      "execution_count": 81,
      "metadata": {
        "id": "ubIzPYN52Cqt",
        "colab": {
          "base_uri": "https://localhost:8080/"
        },
        "outputId": "8efe739d-f7b6-438a-bbb0-686033d90e57"
      },
      "outputs": [
        {
          "output_type": "execute_result",
          "data": {
            "text/plain": [
              "set()"
            ]
          },
          "metadata": {},
          "execution_count": 81
        }
      ],
      "source": [
        "# What is the stop words used\n",
        "cv.stop_words_\n"
      ]
    },
    {
      "cell_type": "code",
      "execution_count": 82,
      "metadata": {
        "id": "7KzN0-sr2Cqt",
        "colab": {
          "base_uri": "https://localhost:8080/"
        },
        "outputId": "26ae8431-3bc1-4b1a-a86d-749a7beb96ec"
      },
      "outputs": [
        {
          "output_type": "stream",
          "name": "stdout",
          "text": [
            "  (0, 1399)\t1\n",
            "  (0, 3797)\t1\n",
            "  (0, 4736)\t1\n",
            "  (0, 7917)\t1\n",
            "[array(['but', 'hate', 'love', 'the'], dtype='<U30')]\n"
          ]
        }
      ],
      "source": [
        "# Transform and then inverse transform the following text\n",
        "# Interpret the result\n",
        "text = \"I love the chocolate but I hate tea\"\n",
        "transformed = cv.transform([text])\n",
        "\n",
        "print(transformed)\n",
        "\n",
        "\n",
        "print(cv.inverse_transform(transformed))"
      ]
    },
    {
      "cell_type": "code",
      "execution_count": 83,
      "metadata": {
        "id": "dP2JB3QR2Cqt",
        "colab": {
          "base_uri": "https://localhost:8080/"
        },
        "outputId": "79322aa2-6ca3-448c-8012-f39796657a90"
      },
      "outputs": [
        {
          "output_type": "stream",
          "name": "stderr",
          "text": [
            "/usr/local/lib/python3.8/dist-packages/sklearn/linear_model/_logistic.py:814: ConvergenceWarning: lbfgs failed to converge (status=1):\n",
            "STOP: TOTAL NO. of ITERATIONS REACHED LIMIT.\n",
            "\n",
            "Increase the number of iterations (max_iter) or scale the data as shown in:\n",
            "    https://scikit-learn.org/stable/modules/preprocessing.html\n",
            "Please also refer to the documentation for alternative solver options:\n",
            "    https://scikit-learn.org/stable/modules/linear_model.html#logistic-regression\n",
            "  n_iter_i = _check_optimize_result(\n"
          ]
        },
        {
          "output_type": "execute_result",
          "data": {
            "text/plain": [
              "LogisticRegression()"
            ]
          },
          "metadata": {},
          "execution_count": 83
        }
      ],
      "source": [
        "# Using LogisticRegression from sklearn, fit a first model\n",
        "from sklearn.linear_model import LogisticRegression\n",
        "\n",
        "lr = LogisticRegression() # Keep default settings we will look into hyperparameters fine-tuning later on\n",
        "lr.fit(X_train_encoded, y_train)"
      ]
    },
    {
      "cell_type": "code",
      "execution_count": 84,
      "metadata": {
        "id": "mPIoyA5H2Cqu",
        "colab": {
          "base_uri": "https://localhost:8080/"
        },
        "outputId": "38720aff-45b0-4579-d822-a52c30d14518"
      },
      "outputs": [
        {
          "output_type": "execute_result",
          "data": {
            "text/plain": [
              "(1000, 8991)"
            ]
          },
          "metadata": {},
          "execution_count": 84
        }
      ],
      "source": [
        "# Encode X_test\n",
        "X_test_encoded = cv.transform(X_test)\n",
        "X_test_encoded.shape"
      ]
    },
    {
      "cell_type": "code",
      "execution_count": 85,
      "metadata": {
        "id": "MIksonBA2Cqu",
        "colab": {
          "base_uri": "https://localhost:8080/"
        },
        "outputId": "fdc3890c-c4fe-4a22-e83d-f6a9616ab0ab"
      },
      "outputs": [
        {
          "output_type": "stream",
          "name": "stdout",
          "text": [
            "              precision    recall  f1-score   support\n",
            "\n",
            "           1       0.64      0.64      0.64       159\n",
            "           2       0.16      0.29      0.20        28\n",
            "           3       0.15      0.21      0.18        52\n",
            "           4       0.26      0.43      0.33        99\n",
            "           5       0.90      0.76      0.82       662\n",
            "\n",
            "    accuracy                           0.67      1000\n",
            "   macro avg       0.42      0.47      0.44      1000\n",
            "weighted avg       0.74      0.67      0.70      1000\n",
            "\n"
          ]
        }
      ],
      "source": [
        "# Using classification_report, evaluate the model\n",
        "from sklearn.metrics import classification_report\n",
        "\n",
        "y_pred = lr.predict(X_test_encoded)\n",
        "print(classification_report(y_pred, y_test))"
      ]
    },
    {
      "cell_type": "markdown",
      "metadata": {
        "id": "F1K-1HTE2Cqu"
      },
      "source": [
        "$$[ TO DO - Students]$$\n",
        "\n",
        "What do these outputted classification metrics mean? Interpret these results.  You can include it at the end of the notebook for your conclusion. "
      ]
    },
    {
      "cell_type": "markdown",
      "metadata": {
        "id": "NVuZV9x62Cqv"
      },
      "source": [
        "### 2.3. A better classifier with a preprocessing\n",
        "\n",
        "It's up to you. Try to get a better score (accuracy) using what we have seen in this course:\n",
        "- efficient text pre-processing\n",
        "- choice of feature extraction\n",
        "- use of a more powerful classifier or better hyper-parameter for LogisticRegression.\n",
        "\n",
        "The training of the model must be done on the Train and the evaluation on the Test. You can of course use GridSearchCV or RandomizedSearchCV."
      ]
    },
    {
      "cell_type": "markdown",
      "metadata": {
        "id": "V9rPR4BZ2Cqv"
      },
      "source": [
        "# Some pre-processing"
      ]
    },
    {
      "cell_type": "code",
      "execution_count": 99,
      "metadata": {
        "id": "Zp-1Tl7c2Cqv"
      },
      "outputs": [],
      "source": [
        "# Write a \"clean_text\" function that accepts a text as input and returns a clean text.\n",
        "# The possible steps (take what you want) are:\n",
        "# - removal of emoji\n",
        "# - lowercase the text\n",
        "# - remove punctuation\n",
        "# - remove words containing numbers\n",
        "# - remove stop words\n",
        "# - stemming or lemmatization\n",
        "# - remove words smaller than nfrom nltk.corpus import stopwords\n",
        "\n",
        "import string\n",
        "import re\n",
        "import nltk\n",
        "from nltk.tokenize import WhitespaceTokenizer\n",
        "from nltk.stem import WordNetLemmatizer, PorterStemmer\n",
        "from nltk.corpus import stopwords\n",
        "\n",
        "lemmatizer = WordNetLemmatizer().lemmatize\n",
        "stemmer = PorterStemmer().stem\n",
        "\n",
        "def clean_text(text):\n",
        "  # Convert the text to lowercase\n",
        "  text = text.lower()\n",
        "  \n",
        "  # Remove any punctuation\n",
        "  text = text.translate(text.maketrans(\"\", \"\", string.punctuation))\n",
        "  \n",
        "  # Remove any digits\n",
        "  text = text.translate(text.maketrans(\"\", \"\", string.digits))\n",
        "  \n",
        "  # Remove any extra white space\n",
        "  text = \" \".join(text.split())\n",
        "  \n",
        "  # Remove emojis\n",
        "  text = re.sub(r\"[^\\w\\s]\", \"\", text)\n",
        "  \n",
        "  # Tokenize the text\n",
        "  tokens = nltk.word_tokenize(text)\n",
        "  \n",
        "  # Remove stopwords\n",
        "  stop_words = set(stopwords.words(\"english\"))\n",
        "  tokens = [token for token in tokens if token not in stop_words]\n",
        "  \n",
        "  # Perform stemming\n",
        "  # tokens = [stemmer(token) for token in tokens]\n",
        "\n",
        "  # Perform lemmatization\n",
        "  tokens = [lemmatizer(token) for token in tokens]\n",
        "\n",
        "  # Rejoin the tokens into a single string\n",
        "  text = \" \".join(tokens)\n",
        "  \n",
        "  return text"
      ]
    },
    {
      "cell_type": "code",
      "source": [
        "import nltk\n",
        "nltk.download('stopwords')\n",
        "nltk.download('wordnet')\n",
        "nltk.download('omw-1.4')"
      ],
      "metadata": {
        "colab": {
          "base_uri": "https://localhost:8080/"
        },
        "id": "uiljQS3DtoEC",
        "outputId": "a6ab150d-cb47-442c-ef7e-bed0e7bb0378"
      },
      "execution_count": 105,
      "outputs": [
        {
          "output_type": "stream",
          "name": "stderr",
          "text": [
            "[nltk_data] Downloading package stopwords to /root/nltk_data...\n",
            "[nltk_data]   Package stopwords is already up-to-date!\n",
            "[nltk_data] Downloading package wordnet to /root/nltk_data...\n",
            "[nltk_data]   Package wordnet is already up-to-date!\n",
            "[nltk_data] Downloading package omw-1.4 to /root/nltk_data...\n"
          ]
        },
        {
          "output_type": "execute_result",
          "data": {
            "text/plain": [
              "True"
            ]
          },
          "metadata": {},
          "execution_count": 105
        }
      ]
    },
    {
      "cell_type": "code",
      "execution_count": 106,
      "metadata": {
        "id": "5hfG7bdO2Cqw"
      },
      "outputs": [],
      "source": [
        "# Clean, X_train and X_test with the previous preprocessing\n",
        "X_train_cleaned = [clean_text(r) for r in X_train]\n",
        "X_test_cleaned = [clean_text(r) for r in X_test]"
      ]
    },
    {
      "cell_type": "code",
      "execution_count": 107,
      "metadata": {
        "id": "RdlYMM5w2Cqw",
        "colab": {
          "base_uri": "https://localhost:8080/"
        },
        "outputId": "3d30fe64-7501-4ef3-e824-36233b52a4db"
      },
      "outputs": [
        {
          "output_type": "stream",
          "name": "stdout",
          "text": [
            "              precision    recall  f1-score   support\n",
            "\n",
            "           1       0.65      0.62      0.64       168\n",
            "           2       0.10      0.22      0.14        23\n",
            "           3       0.14      0.26      0.18        39\n",
            "           4       0.22      0.38      0.28        94\n",
            "           5       0.90      0.74      0.81       676\n",
            "\n",
            "    accuracy                           0.66      1000\n",
            "   macro avg       0.40      0.44      0.41      1000\n",
            "weighted avg       0.75      0.66      0.69      1000\n",
            "\n"
          ]
        },
        {
          "output_type": "stream",
          "name": "stderr",
          "text": [
            "/usr/local/lib/python3.8/dist-packages/sklearn/linear_model/_logistic.py:814: ConvergenceWarning: lbfgs failed to converge (status=1):\n",
            "STOP: TOTAL NO. of ITERATIONS REACHED LIMIT.\n",
            "\n",
            "Increase the number of iterations (max_iter) or scale the data as shown in:\n",
            "    https://scikit-learn.org/stable/modules/preprocessing.html\n",
            "Please also refer to the documentation for alternative solver options:\n",
            "    https://scikit-learn.org/stable/modules/linear_model.html#logistic-regression\n",
            "  n_iter_i = _check_optimize_result(\n"
          ]
        }
      ],
      "source": [
        "# Build, Fit and Evaluate a model using the previous preprocessing\n",
        "# Did you improve the result ? \n",
        "from sklearn.feature_extraction.text import CountVectorizer\n",
        "from sklearn.metrics import accuracy_score, classification_report\n",
        "\n",
        "cv = CountVectorizer(analyzer='word', binary=True)\n",
        "cv.fit(X_train_cleaned)\n",
        "X_train_encoded = cv.transform(X_train_cleaned)\n",
        "\n",
        "X_test_encoded = cv.transform(X_test_cleaned)\n",
        "\n",
        "lr = LogisticRegression()\n",
        "lr.fit(X_train_encoded, y_train)\n",
        "y_pred = lr.predict(X_test_encoded)\n",
        "\n",
        "print(classification_report(y_pred, y_test))\n",
        "\n",
        "# The results didn't improve in some cases even got worse."
      ]
    },
    {
      "cell_type": "markdown",
      "metadata": {
        "id": "_jUuzJuA2Cqx"
      },
      "source": [
        "### 2.4. Search hyper-parameters\n",
        "\n",
        "![GridSearch](https://i.stack.imgur.com/81Yoo.png)"
      ]
    },
    {
      "cell_type": "code",
      "execution_count": 111,
      "metadata": {
        "id": "NG803sda2Cqx",
        "colab": {
          "base_uri": "https://localhost:8080/"
        },
        "outputId": "9dde4e90-0c58-4699-e07f-5f676c0e38d3"
      },
      "outputs": [
        {
          "output_type": "stream",
          "name": "stdout",
          "text": [
            "Fitting 3 folds for each of 54 candidates, totalling 162 fits\n",
            "[CV] END classification__C=0.1, classification__penalty=l1, feature_extraction__max_df=0.5, feature_extraction__min_df=1; total time=  37.6s\n",
            "[CV] END classification__C=0.1, classification__penalty=l1, feature_extraction__max_df=0.5, feature_extraction__min_df=1; total time=  37.6s\n",
            "[CV] END classification__C=0.1, classification__penalty=l1, feature_extraction__max_df=0.5, feature_extraction__min_df=1; total time=  40.3s\n",
            "[CV] END classification__C=0.1, classification__penalty=l1, feature_extraction__max_df=0.5, feature_extraction__min_df=2; total time=  35.8s\n",
            "[CV] END classification__C=0.1, classification__penalty=l1, feature_extraction__max_df=0.5, feature_extraction__min_df=2; total time=  36.5s\n",
            "[CV] END classification__C=0.1, classification__penalty=l1, feature_extraction__max_df=0.5, feature_extraction__min_df=2; total time=  36.3s\n",
            "[CV] END classification__C=0.1, classification__penalty=l1, feature_extraction__max_df=0.5, feature_extraction__min_df=3; total time=  37.0s\n",
            "[CV] END classification__C=0.1, classification__penalty=l1, feature_extraction__max_df=0.5, feature_extraction__min_df=3; total time=  37.8s\n",
            "[CV] END classification__C=0.1, classification__penalty=l1, feature_extraction__max_df=0.5, feature_extraction__min_df=3; total time=  36.2s\n",
            "[CV] END classification__C=0.1, classification__penalty=l1, feature_extraction__max_df=0.75, feature_extraction__min_df=1; total time=  35.5s\n",
            "[CV] END classification__C=0.1, classification__penalty=l1, feature_extraction__max_df=0.75, feature_extraction__min_df=1; total time=  37.9s\n",
            "[CV] END classification__C=0.1, classification__penalty=l1, feature_extraction__max_df=0.75, feature_extraction__min_df=1; total time=  37.9s\n",
            "[CV] END classification__C=0.1, classification__penalty=l1, feature_extraction__max_df=0.75, feature_extraction__min_df=2; total time=  35.6s\n",
            "[CV] END classification__C=0.1, classification__penalty=l1, feature_extraction__max_df=0.75, feature_extraction__min_df=2; total time=  36.5s\n",
            "[CV] END classification__C=0.1, classification__penalty=l1, feature_extraction__max_df=0.75, feature_extraction__min_df=2; total time=  36.5s\n",
            "[CV] END classification__C=0.1, classification__penalty=l1, feature_extraction__max_df=0.75, feature_extraction__min_df=3; total time=  36.9s\n",
            "[CV] END classification__C=0.1, classification__penalty=l1, feature_extraction__max_df=0.75, feature_extraction__min_df=3; total time=  37.8s\n",
            "[CV] END classification__C=0.1, classification__penalty=l1, feature_extraction__max_df=0.75, feature_extraction__min_df=3; total time=  36.5s\n",
            "[CV] END classification__C=0.1, classification__penalty=l1, feature_extraction__max_df=1.0, feature_extraction__min_df=1; total time=  35.6s\n",
            "[CV] END classification__C=0.1, classification__penalty=l1, feature_extraction__max_df=1.0, feature_extraction__min_df=1; total time=  36.5s\n",
            "[CV] END classification__C=0.1, classification__penalty=l1, feature_extraction__max_df=1.0, feature_extraction__min_df=1; total time=  38.6s\n",
            "[CV] END classification__C=0.1, classification__penalty=l1, feature_extraction__max_df=1.0, feature_extraction__min_df=2; total time=  36.4s\n",
            "[CV] END classification__C=0.1, classification__penalty=l1, feature_extraction__max_df=1.0, feature_extraction__min_df=2; total time=  36.4s\n",
            "[CV] END classification__C=0.1, classification__penalty=l1, feature_extraction__max_df=1.0, feature_extraction__min_df=2; total time=  36.6s\n",
            "[CV] END classification__C=0.1, classification__penalty=l1, feature_extraction__max_df=1.0, feature_extraction__min_df=3; total time=  37.1s\n",
            "[CV] END classification__C=0.1, classification__penalty=l1, feature_extraction__max_df=1.0, feature_extraction__min_df=3; total time=  37.8s\n",
            "[CV] END classification__C=0.1, classification__penalty=l1, feature_extraction__max_df=1.0, feature_extraction__min_df=3; total time=  36.4s\n",
            "[CV] END classification__C=0.1, classification__penalty=l2, feature_extraction__max_df=0.5, feature_extraction__min_df=1; total time=  55.3s\n",
            "[CV] END classification__C=0.1, classification__penalty=l2, feature_extraction__max_df=0.5, feature_extraction__min_df=1; total time=  56.2s\n",
            "[CV] END classification__C=0.1, classification__penalty=l2, feature_extraction__max_df=0.5, feature_extraction__min_df=1; total time=  56.3s\n",
            "[CV] END classification__C=0.1, classification__penalty=l2, feature_extraction__max_df=0.5, feature_extraction__min_df=2; total time=  55.0s\n",
            "[CV] END classification__C=0.1, classification__penalty=l2, feature_extraction__max_df=0.5, feature_extraction__min_df=2; total time=  56.8s\n",
            "[CV] END classification__C=0.1, classification__penalty=l2, feature_extraction__max_df=0.5, feature_extraction__min_df=2; total time=  55.9s\n",
            "[CV] END classification__C=0.1, classification__penalty=l2, feature_extraction__max_df=0.5, feature_extraction__min_df=3; total time=  54.4s\n",
            "[CV] END classification__C=0.1, classification__penalty=l2, feature_extraction__max_df=0.5, feature_extraction__min_df=3; total time=  56.9s\n",
            "[CV] END classification__C=0.1, classification__penalty=l2, feature_extraction__max_df=0.5, feature_extraction__min_df=3; total time=  54.5s\n",
            "[CV] END classification__C=0.1, classification__penalty=l2, feature_extraction__max_df=0.75, feature_extraction__min_df=1; total time=  55.6s\n",
            "[CV] END classification__C=0.1, classification__penalty=l2, feature_extraction__max_df=0.75, feature_extraction__min_df=1; total time=  57.8s\n",
            "[CV] END classification__C=0.1, classification__penalty=l2, feature_extraction__max_df=0.75, feature_extraction__min_df=1; total time=  54.5s\n",
            "[CV] END classification__C=0.1, classification__penalty=l2, feature_extraction__max_df=0.75, feature_extraction__min_df=2; total time=  54.4s\n",
            "[CV] END classification__C=0.1, classification__penalty=l2, feature_extraction__max_df=0.75, feature_extraction__min_df=2; total time=  56.8s\n",
            "[CV] END classification__C=0.1, classification__penalty=l2, feature_extraction__max_df=0.75, feature_extraction__min_df=2; total time=  54.7s\n",
            "[CV] END classification__C=0.1, classification__penalty=l2, feature_extraction__max_df=0.75, feature_extraction__min_df=3; total time=  54.6s\n",
            "[CV] END classification__C=0.1, classification__penalty=l2, feature_extraction__max_df=0.75, feature_extraction__min_df=3; total time=  57.1s\n",
            "[CV] END classification__C=0.1, classification__penalty=l2, feature_extraction__max_df=0.75, feature_extraction__min_df=3; total time=  54.7s\n",
            "[CV] END classification__C=0.1, classification__penalty=l2, feature_extraction__max_df=1.0, feature_extraction__min_df=1; total time=  55.2s\n",
            "[CV] END classification__C=0.1, classification__penalty=l2, feature_extraction__max_df=1.0, feature_extraction__min_df=1; total time=  57.7s\n",
            "[CV] END classification__C=0.1, classification__penalty=l2, feature_extraction__max_df=1.0, feature_extraction__min_df=1; total time=  55.4s\n",
            "[CV] END classification__C=0.1, classification__penalty=l2, feature_extraction__max_df=1.0, feature_extraction__min_df=2; total time=  54.3s\n",
            "[CV] END classification__C=0.1, classification__penalty=l2, feature_extraction__max_df=1.0, feature_extraction__min_df=2; total time=  57.4s\n",
            "[CV] END classification__C=0.1, classification__penalty=l2, feature_extraction__max_df=1.0, feature_extraction__min_df=2; total time=  54.7s\n",
            "[CV] END classification__C=0.1, classification__penalty=l2, feature_extraction__max_df=1.0, feature_extraction__min_df=3; total time=  54.8s\n",
            "[CV] END classification__C=0.1, classification__penalty=l2, feature_extraction__max_df=1.0, feature_extraction__min_df=3; total time=  57.6s\n",
            "[CV] END classification__C=0.1, classification__penalty=l2, feature_extraction__max_df=1.0, feature_extraction__min_df=3; total time=  54.6s\n",
            "[CV] END classification__C=1, classification__penalty=l1, feature_extraction__max_df=0.5, feature_extraction__min_df=1; total time=  35.4s\n",
            "[CV] END classification__C=1, classification__penalty=l1, feature_extraction__max_df=0.5, feature_extraction__min_df=1; total time=  37.9s\n",
            "[CV] END classification__C=1, classification__penalty=l1, feature_extraction__max_df=0.5, feature_extraction__min_df=1; total time=  38.1s\n",
            "[CV] END classification__C=1, classification__penalty=l1, feature_extraction__max_df=0.5, feature_extraction__min_df=2; total time=  35.7s\n",
            "[CV] END classification__C=1, classification__penalty=l1, feature_extraction__max_df=0.5, feature_extraction__min_df=2; total time=  36.8s\n",
            "[CV] END classification__C=1, classification__penalty=l1, feature_extraction__max_df=0.5, feature_extraction__min_df=2; total time=  39.0s\n",
            "[CV] END classification__C=1, classification__penalty=l1, feature_extraction__max_df=0.5, feature_extraction__min_df=3; total time=  38.2s\n",
            "[CV] END classification__C=1, classification__penalty=l1, feature_extraction__max_df=0.5, feature_extraction__min_df=3; total time=  36.4s\n",
            "[CV] END classification__C=1, classification__penalty=l1, feature_extraction__max_df=0.5, feature_extraction__min_df=3; total time=  36.5s\n",
            "[CV] END classification__C=1, classification__penalty=l1, feature_extraction__max_df=0.75, feature_extraction__min_df=1; total time=  35.6s\n",
            "[CV] END classification__C=1, classification__penalty=l1, feature_extraction__max_df=0.75, feature_extraction__min_df=1; total time=  36.9s\n",
            "[CV] END classification__C=1, classification__penalty=l1, feature_extraction__max_df=0.75, feature_extraction__min_df=1; total time=  36.8s\n",
            "[CV] END classification__C=1, classification__penalty=l1, feature_extraction__max_df=0.75, feature_extraction__min_df=2; total time=  35.0s\n",
            "[CV] END classification__C=1, classification__penalty=l1, feature_extraction__max_df=0.75, feature_extraction__min_df=2; total time=  35.9s\n",
            "[CV] END classification__C=1, classification__penalty=l1, feature_extraction__max_df=0.75, feature_extraction__min_df=2; total time=  35.9s\n",
            "[CV] END classification__C=1, classification__penalty=l1, feature_extraction__max_df=0.75, feature_extraction__min_df=3; total time=  35.9s\n",
            "[CV] END classification__C=1, classification__penalty=l1, feature_extraction__max_df=0.75, feature_extraction__min_df=3; total time=  36.7s\n",
            "[CV] END classification__C=1, classification__penalty=l1, feature_extraction__max_df=0.75, feature_extraction__min_df=3; total time=  35.8s\n",
            "[CV] END classification__C=1, classification__penalty=l1, feature_extraction__max_df=1.0, feature_extraction__min_df=1; total time=  35.0s\n",
            "[CV] END classification__C=1, classification__penalty=l1, feature_extraction__max_df=1.0, feature_extraction__min_df=1; total time=  36.9s\n",
            "[CV] END classification__C=1, classification__penalty=l1, feature_extraction__max_df=1.0, feature_extraction__min_df=1; total time=  37.1s\n",
            "[CV] END classification__C=1, classification__penalty=l1, feature_extraction__max_df=1.0, feature_extraction__min_df=2; total time=  34.9s\n",
            "[CV] END classification__C=1, classification__penalty=l1, feature_extraction__max_df=1.0, feature_extraction__min_df=2; total time=  35.7s\n",
            "[CV] END classification__C=1, classification__penalty=l1, feature_extraction__max_df=1.0, feature_extraction__min_df=2; total time=  36.1s\n",
            "[CV] END classification__C=1, classification__penalty=l1, feature_extraction__max_df=1.0, feature_extraction__min_df=3; total time=  36.5s\n",
            "[CV] END classification__C=1, classification__penalty=l1, feature_extraction__max_df=1.0, feature_extraction__min_df=3; total time=  36.1s\n",
            "[CV] END classification__C=1, classification__penalty=l1, feature_extraction__max_df=1.0, feature_extraction__min_df=3; total time=  35.9s\n",
            "[CV] END classification__C=1, classification__penalty=l2, feature_extraction__max_df=0.5, feature_extraction__min_df=1; total time=  54.3s\n",
            "[CV] END classification__C=1, classification__penalty=l2, feature_extraction__max_df=0.5, feature_extraction__min_df=1; total time=  56.6s\n",
            "[CV] END classification__C=1, classification__penalty=l2, feature_extraction__max_df=0.5, feature_extraction__min_df=1; total time=  54.7s\n",
            "[CV] END classification__C=1, classification__penalty=l2, feature_extraction__max_df=0.5, feature_extraction__min_df=2; total time=  53.8s\n",
            "[CV] END classification__C=1, classification__penalty=l2, feature_extraction__max_df=0.5, feature_extraction__min_df=2; total time=  55.8s\n",
            "[CV] END classification__C=1, classification__penalty=l2, feature_extraction__max_df=0.5, feature_extraction__min_df=2; total time=  54.2s\n",
            "[CV] END classification__C=1, classification__penalty=l2, feature_extraction__max_df=0.5, feature_extraction__min_df=3; total time=  54.4s\n",
            "[CV] END classification__C=1, classification__penalty=l2, feature_extraction__max_df=0.5, feature_extraction__min_df=3; total time=  55.6s\n",
            "[CV] END classification__C=1, classification__penalty=l2, feature_extraction__max_df=0.5, feature_extraction__min_df=3; total time=  53.9s\n",
            "[CV] END classification__C=1, classification__penalty=l2, feature_extraction__max_df=0.75, feature_extraction__min_df=1; total time=  54.6s\n",
            "[CV] END classification__C=1, classification__penalty=l2, feature_extraction__max_df=0.75, feature_extraction__min_df=1; total time=  56.6s\n",
            "[CV] END classification__C=1, classification__penalty=l2, feature_extraction__max_df=0.75, feature_extraction__min_df=1; total time=  54.7s\n",
            "[CV] END classification__C=1, classification__penalty=l2, feature_extraction__max_df=0.75, feature_extraction__min_df=2; total time=  55.4s\n",
            "[CV] END classification__C=1, classification__penalty=l2, feature_extraction__max_df=0.75, feature_extraction__min_df=2; total time=  55.2s\n",
            "[CV] END classification__C=1, classification__penalty=l2, feature_extraction__max_df=0.75, feature_extraction__min_df=2; total time=  54.2s\n",
            "[CV] END classification__C=1, classification__penalty=l2, feature_extraction__max_df=0.75, feature_extraction__min_df=3; total time=  54.6s\n",
            "[CV] END classification__C=1, classification__penalty=l2, feature_extraction__max_df=0.75, feature_extraction__min_df=3; total time=  54.7s\n",
            "[CV] END classification__C=1, classification__penalty=l2, feature_extraction__max_df=0.75, feature_extraction__min_df=3; total time=  54.0s\n",
            "[CV] END classification__C=1, classification__penalty=l2, feature_extraction__max_df=1.0, feature_extraction__min_df=1; total time=  55.7s\n",
            "[CV] END classification__C=1, classification__penalty=l2, feature_extraction__max_df=1.0, feature_extraction__min_df=1; total time=  56.6s\n",
            "[CV] END classification__C=1, classification__penalty=l2, feature_extraction__max_df=1.0, feature_extraction__min_df=1; total time=  55.5s\n",
            "[CV] END classification__C=1, classification__penalty=l2, feature_extraction__max_df=1.0, feature_extraction__min_df=2; total time=  56.1s\n",
            "[CV] END classification__C=1, classification__penalty=l2, feature_extraction__max_df=1.0, feature_extraction__min_df=2; total time=  54.5s\n",
            "[CV] END classification__C=1, classification__penalty=l2, feature_extraction__max_df=1.0, feature_extraction__min_df=2; total time=  54.0s\n",
            "[CV] END classification__C=1, classification__penalty=l2, feature_extraction__max_df=1.0, feature_extraction__min_df=3; total time=  56.3s\n",
            "[CV] END classification__C=1, classification__penalty=l2, feature_extraction__max_df=1.0, feature_extraction__min_df=3; total time=  54.2s\n",
            "[CV] END classification__C=1, classification__penalty=l2, feature_extraction__max_df=1.0, feature_extraction__min_df=3; total time=  54.2s\n",
            "[CV] END classification__C=10, classification__penalty=l1, feature_extraction__max_df=0.5, feature_extraction__min_df=1; total time=  36.6s\n",
            "[CV] END classification__C=10, classification__penalty=l1, feature_extraction__max_df=0.5, feature_extraction__min_df=1; total time=  36.1s\n",
            "[CV] END classification__C=10, classification__penalty=l1, feature_extraction__max_df=0.5, feature_extraction__min_df=1; total time=  35.9s\n",
            "[CV] END classification__C=10, classification__penalty=l1, feature_extraction__max_df=0.5, feature_extraction__min_df=2; total time=  35.2s\n",
            "[CV] END classification__C=10, classification__penalty=l1, feature_extraction__max_df=0.5, feature_extraction__min_df=2; total time=  36.5s\n",
            "[CV] END classification__C=10, classification__penalty=l1, feature_extraction__max_df=0.5, feature_extraction__min_df=2; total time=  36.9s\n",
            "[CV] END classification__C=10, classification__penalty=l1, feature_extraction__max_df=0.5, feature_extraction__min_df=3; total time=  35.0s\n",
            "[CV] END classification__C=10, classification__penalty=l1, feature_extraction__max_df=0.5, feature_extraction__min_df=3; total time=  35.9s\n",
            "[CV] END classification__C=10, classification__penalty=l1, feature_extraction__max_df=0.5, feature_extraction__min_df=3; total time=  36.1s\n",
            "[CV] END classification__C=10, classification__penalty=l1, feature_extraction__max_df=0.75, feature_extraction__min_df=1; total time=  36.6s\n",
            "[CV] END classification__C=10, classification__penalty=l1, feature_extraction__max_df=0.75, feature_extraction__min_df=1; total time=  36.0s\n",
            "[CV] END classification__C=10, classification__penalty=l1, feature_extraction__max_df=0.75, feature_extraction__min_df=1; total time=  35.7s\n",
            "[CV] END classification__C=10, classification__penalty=l1, feature_extraction__max_df=0.75, feature_extraction__min_df=2; total time=  35.1s\n",
            "[CV] END classification__C=10, classification__penalty=l1, feature_extraction__max_df=0.75, feature_extraction__min_df=2; total time=  37.8s\n",
            "[CV] END classification__C=10, classification__penalty=l1, feature_extraction__max_df=0.75, feature_extraction__min_df=2; total time=  36.3s\n",
            "[CV] END classification__C=10, classification__penalty=l1, feature_extraction__max_df=0.75, feature_extraction__min_df=3; total time=  35.1s\n",
            "[CV] END classification__C=10, classification__penalty=l1, feature_extraction__max_df=0.75, feature_extraction__min_df=3; total time=  35.6s\n",
            "[CV] END classification__C=10, classification__penalty=l1, feature_extraction__max_df=0.75, feature_extraction__min_df=3; total time=  35.5s\n",
            "[CV] END classification__C=10, classification__penalty=l1, feature_extraction__max_df=1.0, feature_extraction__min_df=1; total time=  36.7s\n",
            "[CV] END classification__C=10, classification__penalty=l1, feature_extraction__max_df=1.0, feature_extraction__min_df=1; total time=  35.8s\n",
            "[CV] END classification__C=10, classification__penalty=l1, feature_extraction__max_df=1.0, feature_extraction__min_df=1; total time=  36.0s\n",
            "[CV] END classification__C=10, classification__penalty=l1, feature_extraction__max_df=1.0, feature_extraction__min_df=2; total time=  34.9s\n",
            "[CV] END classification__C=10, classification__penalty=l1, feature_extraction__max_df=1.0, feature_extraction__min_df=2; total time=  37.6s\n",
            "[CV] END classification__C=10, classification__penalty=l1, feature_extraction__max_df=1.0, feature_extraction__min_df=2; total time=  36.0s\n",
            "[CV] END classification__C=10, classification__penalty=l1, feature_extraction__max_df=1.0, feature_extraction__min_df=3; total time=  35.1s\n",
            "[CV] END classification__C=10, classification__penalty=l1, feature_extraction__max_df=1.0, feature_extraction__min_df=3; total time=  36.1s\n",
            "[CV] END classification__C=10, classification__penalty=l1, feature_extraction__max_df=1.0, feature_extraction__min_df=3; total time=  36.0s\n",
            "[CV] END classification__C=10, classification__penalty=l2, feature_extraction__max_df=0.5, feature_extraction__min_df=1; total time=  58.1s\n",
            "[CV] END classification__C=10, classification__penalty=l2, feature_extraction__max_df=0.5, feature_extraction__min_df=1; total time=  56.3s\n",
            "[CV] END classification__C=10, classification__penalty=l2, feature_extraction__max_df=0.5, feature_extraction__min_df=1; total time=  57.1s\n",
            "[CV] END classification__C=10, classification__penalty=l2, feature_extraction__max_df=0.5, feature_extraction__min_df=2; total time=  56.5s\n",
            "[CV] END classification__C=10, classification__penalty=l2, feature_extraction__max_df=0.5, feature_extraction__min_df=2; total time=  55.4s\n",
            "[CV] END classification__C=10, classification__penalty=l2, feature_extraction__max_df=0.5, feature_extraction__min_df=2; total time=  57.1s\n",
            "[CV] END classification__C=10, classification__penalty=l2, feature_extraction__max_df=0.5, feature_extraction__min_df=3; total time=  55.4s\n",
            "[CV] END classification__C=10, classification__penalty=l2, feature_extraction__max_df=0.5, feature_extraction__min_df=3; total time=  55.1s\n",
            "[CV] END classification__C=10, classification__penalty=l2, feature_extraction__max_df=0.5, feature_extraction__min_df=3; total time=  57.1s\n",
            "[CV] END classification__C=10, classification__penalty=l2, feature_extraction__max_df=0.75, feature_extraction__min_df=1; total time=  56.5s\n",
            "[CV] END classification__C=10, classification__penalty=l2, feature_extraction__max_df=0.75, feature_extraction__min_df=1; total time=  56.3s\n",
            "[CV] END classification__C=10, classification__penalty=l2, feature_extraction__max_df=0.75, feature_extraction__min_df=1; total time=  56.7s\n",
            "[CV] END classification__C=10, classification__penalty=l2, feature_extraction__max_df=0.75, feature_extraction__min_df=2; total time=  57.5s\n",
            "[CV] END classification__C=10, classification__penalty=l2, feature_extraction__max_df=0.75, feature_extraction__min_df=2; total time=  55.5s\n",
            "[CV] END classification__C=10, classification__penalty=l2, feature_extraction__max_df=0.75, feature_extraction__min_df=2; total time=  55.5s\n",
            "[CV] END classification__C=10, classification__penalty=l2, feature_extraction__max_df=0.75, feature_extraction__min_df=3; total time=  55.5s\n",
            "[CV] END classification__C=10, classification__penalty=l2, feature_extraction__max_df=0.75, feature_extraction__min_df=3; total time=  57.0s\n",
            "[CV] END classification__C=10, classification__penalty=l2, feature_extraction__max_df=0.75, feature_extraction__min_df=3; total time=  55.5s\n",
            "[CV] END classification__C=10, classification__penalty=l2, feature_extraction__max_df=1.0, feature_extraction__min_df=1; total time=  56.9s\n",
            "[CV] END classification__C=10, classification__penalty=l2, feature_extraction__max_df=1.0, feature_extraction__min_df=1; total time=  59.1s\n",
            "[CV] END classification__C=10, classification__penalty=l2, feature_extraction__max_df=1.0, feature_extraction__min_df=1; total time=  57.8s\n",
            "[CV] END classification__C=10, classification__penalty=l2, feature_extraction__max_df=1.0, feature_extraction__min_df=2; total time=  55.5s\n",
            "[CV] END classification__C=10, classification__penalty=l2, feature_extraction__max_df=1.0, feature_extraction__min_df=2; total time=  57.7s\n",
            "[CV] END classification__C=10, classification__penalty=l2, feature_extraction__max_df=1.0, feature_extraction__min_df=2; total time=  56.2s\n",
            "[CV] END classification__C=10, classification__penalty=l2, feature_extraction__max_df=1.0, feature_extraction__min_df=3; total time=  57.2s\n",
            "[CV] END classification__C=10, classification__penalty=l2, feature_extraction__max_df=1.0, feature_extraction__min_df=3; total time=  55.4s\n",
            "[CV] END classification__C=10, classification__penalty=l2, feature_extraction__max_df=1.0, feature_extraction__min_df=3; total time=  56.1s\n"
          ]
        },
        {
          "output_type": "stream",
          "name": "stderr",
          "text": [
            "/usr/local/lib/python3.8/dist-packages/sklearn/model_selection/_validation.py:372: FitFailedWarning: \n",
            "81 fits failed out of a total of 162.\n",
            "The score on these train-test partitions for these parameters will be set to nan.\n",
            "If these failures are not expected, you can try to debug them by setting error_score='raise'.\n",
            "\n",
            "Below are more details about the failures:\n",
            "--------------------------------------------------------------------------------\n",
            "81 fits failed with the following error:\n",
            "Traceback (most recent call last):\n",
            "  File \"/usr/local/lib/python3.8/dist-packages/sklearn/model_selection/_validation.py\", line 680, in _fit_and_score\n",
            "    estimator.fit(X_train, y_train, **fit_params)\n",
            "  File \"/usr/local/lib/python3.8/dist-packages/sklearn/pipeline.py\", line 394, in fit\n",
            "    self._final_estimator.fit(Xt, y, **fit_params_last_step)\n",
            "  File \"/usr/local/lib/python3.8/dist-packages/sklearn/linear_model/_logistic.py\", line 1461, in fit\n",
            "    solver = _check_solver(self.solver, self.penalty, self.dual)\n",
            "  File \"/usr/local/lib/python3.8/dist-packages/sklearn/linear_model/_logistic.py\", line 447, in _check_solver\n",
            "    raise ValueError(\n",
            "ValueError: Solver lbfgs supports only 'l2' or 'none' penalties, got l1 penalty.\n",
            "\n",
            "  warnings.warn(some_fits_failed_message, FitFailedWarning)\n",
            "/usr/local/lib/python3.8/dist-packages/sklearn/model_selection/_search.py:969: UserWarning: One or more of the test scores are non-finite: [       nan        nan        nan        nan        nan        nan\n",
            "        nan        nan        nan 0.56920021 0.57440073 0.57600089\n",
            " 0.56719989 0.57320073 0.57500109 0.54219996 0.54239992 0.5426\n",
            "        nan        nan        nan        nan        nan        nan\n",
            "        nan        nan        nan 0.66199965 0.66059969 0.66279961\n",
            " 0.66359945 0.66279913 0.66339925 0.65019913 0.64939905 0.64999905\n",
            "        nan        nan        nan        nan        nan        nan\n",
            "        nan        nan        nan 0.65239773 0.64819773 0.64559801\n",
            " 0.65339789 0.64919801 0.64679777 0.66159721 0.65839785 0.65659785]\n",
            "  warnings.warn(\n"
          ]
        }
      ],
      "source": [
        "# Using Grid Search or Random Search try to find some better hyperparameters\n",
        "from nltk import word_tokenize          \n",
        "from sklearn.pipeline import Pipeline\n",
        "from sklearn.feature_extraction.text import TfidfVectorizer\n",
        "from sklearn.model_selection import RandomizedSearchCV, GridSearchCV\n",
        "\n",
        "\n",
        "# I use my own tokenizer\n",
        "class MyTokenizer:\n",
        "    def __call__(self, doc):\n",
        "        return [clean_text(t) for t in word_tokenize(doc)]\n",
        "\n",
        "# I define the pipeline\n",
        "pipeline = Pipeline([\n",
        "        ('feature_extraction',  TfidfVectorizer(tokenizer=MyTokenizer())),\n",
        "        ('classification',  LogisticRegression(multi_class='auto', max_iter=400))\n",
        "        ])\n",
        "\n",
        "# I define the parameter space\n",
        "# [TO DO - Students] Set the parameters of your choice for the GridSearchCV\n",
        "\n",
        "parameters = {\n",
        "  'feature_extraction__min_df': [1, 2, 3],\n",
        "  'feature_extraction__max_df': [0.5, 0.75, 1.0],\n",
        "  # 'feature_extraction__ngram_range': [(1, 1), (1, 2), (1, 3)],\n",
        "  'classification__C': [0.1, 1, 10],\n",
        "  'classification__penalty': ['l1', 'l2']\n",
        "}\n",
        "\n",
        "# parameters['feature_extraction__...] = [...]\n",
        "# parameters['feature_extraction__...'] = [...]\n",
        "# parameters['feature_extraction__...'] = [...]\n",
        "\n",
        "# parameters['classification__...'] = [...]\n",
        "# parameters['classification__...'] = [...]\n",
        "\n",
        "\n",
        "# I use GridSearchCV to search best hyper parameter\n",
        "# I use RandomizedSearchCV to search good hyper parameter\n",
        "\n",
        "\n",
        "grid = GridSearchCV(pipeline, parameters, scoring='accuracy', cv=3, verbose=2,n_jobs=None)\n",
        "grid.fit(X_train, y_train);"
      ]
    },
    {
      "cell_type": "markdown",
      "metadata": {
        "id": "PGJC0fZz2Cqx"
      },
      "source": [
        "## 3. Summarize your conclusion here"
      ]
    },
    {
      "cell_type": "code",
      "execution_count": 112,
      "metadata": {
        "id": "9H3XSpN_2Cqy",
        "colab": {
          "base_uri": "https://localhost:8080/"
        },
        "outputId": "ca85856e-04a9-4d25-d124-61cdb3a0da52"
      },
      "outputs": [
        {
          "output_type": "execute_result",
          "data": {
            "text/plain": [
              "{'classification__C': 1,\n",
              " 'classification__penalty': 'l2',\n",
              " 'feature_extraction__max_df': 0.75,\n",
              " 'feature_extraction__min_df': 1}"
            ]
          },
          "metadata": {},
          "execution_count": 112
        }
      ],
      "source": [
        "# What is your best params\n",
        "grid.best_params_"
      ]
    },
    {
      "cell_type": "code",
      "execution_count": 113,
      "metadata": {
        "id": "cWwl8eok2Cqy",
        "colab": {
          "base_uri": "https://localhost:8080/"
        },
        "outputId": "4a52229e-f1d7-4b0e-8e9c-cc00d6794db9"
      },
      "outputs": [
        {
          "output_type": "execute_result",
          "data": {
            "text/plain": [
              "0.6635994529785519"
            ]
          },
          "metadata": {},
          "execution_count": 113
        }
      ],
      "source": [
        "# What is your best score\n",
        "grid.best_score_"
      ]
    },
    {
      "cell_type": "code",
      "execution_count": 114,
      "metadata": {
        "id": "SqqNBzQ62Cqy",
        "colab": {
          "base_uri": "https://localhost:8080/"
        },
        "outputId": "40dcb463-7632-4e01-d27c-1a851e6164c3"
      },
      "outputs": [
        {
          "output_type": "execute_result",
          "data": {
            "text/plain": [
              "Pipeline(steps=[('feature_extraction',\n",
              "                 TfidfVectorizer(max_df=0.75,\n",
              "                                 tokenizer=<__main__.MyTokenizer object at 0x7f51b75add00>)),\n",
              "                ('classification', LogisticRegression(C=1, max_iter=400))])"
            ]
          },
          "metadata": {},
          "execution_count": 114
        }
      ],
      "source": [
        "# What is your best estimator\n",
        "grid.best_estimator_"
      ]
    },
    {
      "cell_type": "markdown",
      "metadata": {
        "id": "ePj7XyI12Cqz"
      },
      "source": [
        "A random draw with balanced classes (as much data from each class) would give an accuracy of 20% (1/5). We notice that a very light pre-processing or even no pre-processing already gives much better results (around 65-66%) and that it is not easy to do much better."
      ]
    },
    {
      "cell_type": "code",
      "execution_count": 123,
      "metadata": {
        "id": "BCmtw3AU2Cqz",
        "colab": {
          "base_uri": "https://localhost:8080/",
          "height": 335
        },
        "outputId": "676db722-f073-4c2d-ef10-cb9e91464bac"
      },
      "outputs": [
        {
          "output_type": "stream",
          "name": "stderr",
          "text": [
            "/usr/local/lib/python3.8/dist-packages/sklearn/utils/deprecation.py:87: FutureWarning: Function plot_confusion_matrix is deprecated; Function `plot_confusion_matrix` is deprecated in 1.0 and will be removed in 1.2. Use one of the class methods: ConfusionMatrixDisplay.from_predictions or ConfusionMatrixDisplay.from_estimator.\n",
            "  warnings.warn(msg, category=FutureWarning)\n"
          ]
        },
        {
          "output_type": "display_data",
          "data": {
            "text/plain": [
              "<Figure size 432x288 with 2 Axes>"
            ],
            "image/png": "[encoded data removed]"
          },
          "metadata": {
            "needs_background": "light"
          }
        }
      ],
      "source": [
        "# Print/plot the confusion matrix\n",
        "from sklearn.metrics import plot_confusion_matrix\n",
        "\n",
        "plot_confusion_matrix(grid, X_test, y_test, normalize='true');"
      ]
    },
    {
      "cell_type": "markdown",
      "metadata": {
        "id": "V0qxciA62Cqz"
      },
      "source": [
        "The confusion matrix helps us understand the quality of the results. On the diagonal we find the quality of the predictions for a given class:\n",
        "* Class 1 is found around 70 %.\n",
        "* Class 2, 3 have a low score < 10%.\n",
        "* Class 4 is found around 16-20 %\n",
        "* Class 5 is found more than 90 %\n",
        "\n",
        "On one line is the way the original class was found. For example for class 2 (depend the run) :\n",
        "* at 59%, the predictor says that a data of this class is of class 1\n",
        "* at 4% of the right class (the 2)\n",
        "* at 2% of class 3\n",
        "* at 4% of class 4\n",
        "* at 31% of class 5\n",
        "The sum is 100%."
      ]
    }
  ],
  "metadata": {
    "colab": {
      "collapsed_sections": [
        "VQvQni-N2Cqc",
        "NVuZV9x62Cqv"
      ],
      "provenance": []
    },
    "kernelspec": {
      "display_name": "test-6Bkx8LeP",
      "language": "python",
      "name": "python3"
    },
    "language_info": {
      "codemirror_mode": {
        "name": "ipython",
        "version": 3
      },
      "file_extension": ".py",
      "mimetype": "text/x-python",
      "name": "python",
      "nbconvert_exporter": "python",
      "pygments_lexer": "ipython3",
      "version": "3.10.4"
    },
    "vscode": {
      "interpreter": {
        "hash": "6fe9c145d275b7495d8518f3adcc4b2b19f79d0e8548f330a9fa69dca055ab4c"
      }
    }
  },
  "nbformat": 4,
  "nbformat_minor": 0
}