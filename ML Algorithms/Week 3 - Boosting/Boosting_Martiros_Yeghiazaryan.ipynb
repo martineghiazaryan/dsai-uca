{
  "nbformat": 4,
  "nbformat_minor": 0,
  "metadata": {
    "colab": {
      "provenance": []
    },
    "kernelspec": {
      "name": "python3",
      "display_name": "Python 3"
    },
    "language_info": {
      "name": "python"
    }
  },
  "cells": [
    {
      "cell_type": "markdown",
      "source": [
        "## Importing everything\n"
      ],
      "metadata": {
        "id": "XMK3zgBhNqgG"
      }
    },
    {
      "cell_type": "code",
      "execution_count": 31,
      "metadata": {
        "id": "4pWg3VC_NpIH"
      },
      "outputs": [],
      "source": [
        "from skimage import transform\n",
        "from skimage import feature\n",
        "from sklearn.metrics import confusion_matrix\n",
        "from sklearn import ensemble\n",
        "from sklearn.ensemble import AdaBoostClassifier\n",
        "from sklearn.tree import DecisionTreeClassifier\n",
        "import numpy as np\n",
        "# from tensorflow.keras.datasets import mnist"
      ]
    },
    {
      "cell_type": "code",
      "source": [
        "from sklearn.datasets import fetch_openml\n",
        "mnist = fetch_openml(\"mnist_784\")"
      ],
      "metadata": {
        "id": "3qctwGjMMylw"
      },
      "execution_count": 32,
      "outputs": []
    },
    {
      "cell_type": "code",
      "source": [
        "from sklearn.model_selection import train_test_split\n",
        "X_train, X_test, y_train, y_test = train_test_split(mnist.data, mnist.target, test_size=0.2, random_state=42)"
      ],
      "metadata": {
        "id": "lkSPpNpxM6s2"
      },
      "execution_count": 44,
      "outputs": []
    },
    {
      "cell_type": "code",
      "source": [
        "y_train.shape"
      ],
      "metadata": {
        "colab": {
          "base_uri": "https://localhost:8080/"
        },
        "id": "MMLzZCj8jyfv",
        "outputId": "1cfba27c-5c76-44fa-e885-649b9a115c55"
      },
      "execution_count": 45,
      "outputs": [
        {
          "output_type": "execute_result",
          "data": {
            "text/plain": [
              "(56000,)"
            ]
          },
          "metadata": {},
          "execution_count": 45
        }
      ]
    },
    {
      "cell_type": "code",
      "source": [
        "print('Number of training samples', len(X_train))"
      ],
      "metadata": {
        "colab": {
          "base_uri": "https://localhost:8080/"
        },
        "id": "XyKU4TkuN7AU",
        "outputId": "1142c78a-ba16-413c-e108-6a4b687945ab"
      },
      "execution_count": 46,
      "outputs": [
        {
          "output_type": "stream",
          "name": "stdout",
          "text": [
            "Number of training samples 56000\n"
          ]
        }
      ]
    },
    {
      "cell_type": "code",
      "source": [
        "X_train.shape"
      ],
      "metadata": {
        "colab": {
          "base_uri": "https://localhost:8080/"
        },
        "id": "eZbT21_iRDki",
        "outputId": "827221ad-4ce8-407f-fe5b-0acf25e0aa76"
      },
      "execution_count": 47,
      "outputs": [
        {
          "output_type": "execute_result",
          "data": {
            "text/plain": [
              "(56000, 784)"
            ]
          },
          "metadata": {},
          "execution_count": 47
        }
      ]
    },
    {
      "cell_type": "code",
      "source": [
        "X_train = X_train/255\n",
        "X_test = X_test/255"
      ],
      "metadata": {
        "id": "hl83N657qiU0"
      },
      "execution_count": 48,
      "outputs": []
    },
    {
      "cell_type": "code",
      "source": [
        "adaboost = AdaBoostClassifier(base_estimator=DecisionTreeClassifier(max_depth=1), n_estimators=20, learning_rate=1)\n",
        "adaboost.fit(X_train, y_train)\n"
      ],
      "metadata": {
        "colab": {
          "base_uri": "https://localhost:8080/"
        },
        "id": "9L1SZL5mOOSQ",
        "outputId": "33bab552-58f3-43c4-962f-c29c8aae03fc"
      },
      "execution_count": 49,
      "outputs": [
        {
          "output_type": "execute_result",
          "data": {
            "text/plain": [
              "AdaBoostClassifier(base_estimator=DecisionTreeClassifier(max_depth=1),\n",
              "                   learning_rate=1, n_estimators=20)"
            ]
          },
          "metadata": {},
          "execution_count": 49
        }
      ]
    },
    {
      "cell_type": "code",
      "source": [
        "y_pred = adaboost.predict(X_test)"
      ],
      "metadata": {
        "id": "jm0If1SsQR7s"
      },
      "execution_count": 50,
      "outputs": []
    },
    {
      "cell_type": "code",
      "source": [
        "from sklearn.metrics import confusion_matrix\n",
        "confusion_matrix(y_test, y_pred)"
      ],
      "metadata": {
        "colab": {
          "base_uri": "https://localhost:8080/"
        },
        "id": "ToelxSImOIt9",
        "outputId": "68ec51aa-fed8-4377-b115-29789c137783"
      },
      "execution_count": 51,
      "outputs": [
        {
          "output_type": "execute_result",
          "data": {
            "text/plain": [
              "array([[1103,    0,   56,    7,    1,  106,   33,   10,   22,    5],\n",
              "       [   0, 1440,   60,   28,    4,    6,    1,   49,   11,    1],\n",
              "       [  31,  101,  927,   30,   28,   22,   87,   50,   91,   13],\n",
              "       [  40,   48,   58,  943,   18,  108,   15,   76,   89,   38],\n",
              "       [   1,    2,   41,   34,  720,   27,   32,  100,   42,  296],\n",
              "       [  42,   25,   25,  261,   38,  686,   48,   30,   79,   39],\n",
              "       [  42,   32,  185,   23,  115,   38,  903,    5,   51,    2],\n",
              "       [  13,   21,   35,   22,   43,   29,    0, 1198,   20,  122],\n",
              "       [  21,   90,   76,  169,   47,   45,   26,   24,  831,   28],\n",
              "       [   3,   18,   66,   82,  318,   12,    3,  248,   62,  608]])"
            ]
          },
          "metadata": {},
          "execution_count": 51
        }
      ]
    },
    {
      "cell_type": "code",
      "source": [
        "import matplotlib.pyplot as plt\n",
        "import seaborn as sns\n",
        "\n",
        "# Generate the confusion matrix\n",
        "conf_mat = confusion_matrix(y_test, y_pred)\n",
        "\n",
        "# Create a heatmap of the confusion matrix\n",
        "sns.heatmap(conf_mat, annot=True, fmt='d', cmap='Blues',\n",
        "            xticklabels=np.unique(y_test),\n",
        "            yticklabels=np.unique(y_test))\n",
        "plt.xlabel('Predicted Label')\n",
        "plt.ylabel('True Label')\n",
        "plt.title('Confusion Matrix')\n",
        "plt.show()"
      ],
      "metadata": {
        "colab": {
          "base_uri": "https://localhost:8080/",
          "height": 295
        },
        "id": "6kP47GNsOLXd",
        "outputId": "620976ee-c222-4adc-cfc7-72b693a626b3"
      },
      "execution_count": 52,
      "outputs": [
        {
          "output_type": "display_data",
          "data": {
            "text/plain": [
              "<Figure size 432x288 with 2 Axes>"
            ],
            "image/png": "[encoded data removed]"
          },
          "metadata": {
            "needs_background": "light"
          }
        }
      ]
    },
    {
      "cell_type": "code",
      "source": [],
      "metadata": {
        "id": "TUKK1Qy8PC5Q"
      },
      "execution_count": null,
      "outputs": []
    }
  ]
}