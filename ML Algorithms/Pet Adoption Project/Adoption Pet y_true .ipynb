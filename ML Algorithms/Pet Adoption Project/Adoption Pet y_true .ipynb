{
 "cells": [
  {
   "cell_type": "code",
   "execution_count": 1,
   "id": "22939088",
   "metadata": {},
   "outputs": [],
   "source": [
    "import pandas as pd\n",
    "import numpy as np"
   ]
  },
  {
   "cell_type": "code",
   "execution_count": 45,
   "id": "930b50bd",
   "metadata": {},
   "outputs": [],
   "source": [
    "import pandas as pd\n",
    "\n",
    "# Load the two dataframes\n",
    "df1 = pd.read_csv(r'C:\\Users\\Admin\\Desktop\\2023-PetFinder-students-files\\test (1).csv')\n",
    "df2 = pd.read_csv(r'C:\\Users\\Admin\\Downloads\\train 2.csv')\n",
    "\n",
    "# Remove the '.jpg' part of the filenames in df1\n",
    "df1['PetID'] = df1['Images'].str.split('-').str.get(0)"
   ]
  },
  {
   "cell_type": "code",
   "execution_count": 46,
   "id": "902b2e7a",
   "metadata": {},
   "outputs": [],
   "source": [
    "# Merge df1 and df2 on the 'PetID' column and add the 'AdoptionSpeed' column to df1\n",
    "merged_df = pd.merge(df1, df2[['PetID', 'AdoptionSpeed']], on='PetID')"
   ]
  },
  {
   "cell_type": "code",
   "execution_count": 48,
   "id": "2a7729f2",
   "metadata": {},
   "outputs": [
    {
     "name": "stdout",
     "output_type": "stream",
     "text": [
      "0      2\n",
      "1      4\n",
      "2      1\n",
      "3      4\n",
      "4      2\n",
      "      ..\n",
      "495    3\n",
      "496    1\n",
      "497    4\n",
      "498    4\n",
      "499    4\n",
      "Name: AdoptionSpeed, Length: 500, dtype: int64\n"
     ]
    }
   ],
   "source": [
    "# Get column 'B' from the data frame\n",
    "AdoptionSpeed = merged_df['AdoptionSpeed']\n",
    "\n",
    "# Save column 'B' to a CSV file\n",
    "AdoptionSpeed.to_csv('AdoptionSpeed.csv', index=False)\n",
    "\n",
    "# Show the result\n",
    "print(AdoptionSpeed)"
   ]
  }
 ],
 "metadata": {
  "kernelspec": {
   "display_name": "Python 3 (ipykernel)",
   "language": "python",
   "name": "python3"
  },
  "language_info": {
   "codemirror_mode": {
    "name": "ipython",
    "version": 3
   },
   "file_extension": ".py",
   "mimetype": "text/x-python",
   "name": "python",
   "nbconvert_exporter": "python",
   "pygments_lexer": "ipython3",
   "version": "3.9.13"
  }
 },
 "nbformat": 4,
 "nbformat_minor": 5
}
