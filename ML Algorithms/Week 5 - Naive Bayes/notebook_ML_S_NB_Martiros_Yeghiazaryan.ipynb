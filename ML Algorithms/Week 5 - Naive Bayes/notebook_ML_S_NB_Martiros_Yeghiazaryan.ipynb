{
  "cells": [
    {
      "cell_type": "markdown",
      "metadata": {
        "id": "Ee9e2jynBypS"
      },
      "source": [
        "# Naive Bayes"
      ]
    },
    {
      "cell_type": "markdown",
      "metadata": {
        "id": "k0q5Gt6yBypU"
      },
      "source": [
        "## Imports"
      ]
    },
    {
      "cell_type": "code",
      "execution_count": null,
      "metadata": {
        "ExecuteTime": {
          "end_time": "2023-01-26T15:34:43.583807Z",
          "start_time": "2023-01-26T15:34:35.176114Z"
        },
        "id": "VgIq1IE3BypU"
      },
      "outputs": [],
      "source": [
        "import pandas as pd\n",
        "import numpy as np"
      ]
    },
    {
      "cell_type": "code",
      "execution_count": null,
      "metadata": {
        "ExecuteTime": {
          "end_time": "2023-01-26T15:34:54.520805Z",
          "start_time": "2023-01-26T15:34:54.515320Z"
        },
        "id": "7XMxe0sQBypV"
      },
      "outputs": [],
      "source": [
        "from sklearn import preprocessing\n",
        "from sklearn.naive_bayes import MultinomialNB\n",
        "from sklearn.preprocessing import LabelEncoder, OrdinalEncoder"
      ]
    },
    {
      "cell_type": "markdown",
      "metadata": {
        "id": "rIexniiaBypV"
      },
      "source": [
        "## Dataset"
      ]
    },
    {
      "cell_type": "code",
      "execution_count": null,
      "metadata": {
        "ExecuteTime": {
          "end_time": "2023-01-26T15:34:57.908852Z",
          "start_time": "2023-01-26T15:34:57.832726Z"
        },
        "colab": {
          "base_uri": "https://localhost:8080/",
          "height": 488
        },
        "id": "DXwtbYoqBypV",
        "outputId": "97abfb9c-746a-4f4c-85ea-240d41eb3aee"
      },
      "outputs": [
        {
          "output_type": "execute_result",
          "data": {
            "text/plain": [
              "     outlook  temp humidity windy\n",
              "0      sunny   hot     high    no\n",
              "1      sunny   hot     high   yes\n",
              "2   overcast   hot     high    no\n",
              "3      rainy  mild     high    no\n",
              "4      rainy  cool   normal    no\n",
              "5      rainy  cool   normal   yes\n",
              "6   overcast  cool   normal   yes\n",
              "7      sunny  mild     high    no\n",
              "8      sunny  cool   normal    no\n",
              "9      rainy  mild   normal    no\n",
              "10     sunny  mild   normal   yes\n",
              "11  overcast  mild     high   yes\n",
              "12  overcast   hot   normal    no\n",
              "13     rainy  mild     high   yes"
            ],
            "text/html": [
              "\n",
              "  <div id=\"df-8bfd32ea-da6b-49c6-9d8b-3c9b5053cf4c\">\n",
              "    <div class=\"colab-df-container\">\n",
              "      <div>\n",
              "<style scoped>\n",
              "    .dataframe tbody tr th:only-of-type {\n",
              "        vertical-align: middle;\n",
              "    }\n",
              "\n",
              "    .dataframe tbody tr th {\n",
              "        vertical-align: top;\n",
              "    }\n",
              "\n",
              "    .dataframe thead th {\n",
              "        text-align: right;\n",
              "    }\n",
              "</style>\n",
              "<table border=\"1\" class=\"dataframe\">\n",
              "  <thead>\n",
              "    <tr style=\"text-align: right;\">\n",
              "      <th></th>\n",
              "      <th>outlook</th>\n",
              "      <th>temp</th>\n",
              "      <th>humidity</th>\n",
              "      <th>windy</th>\n",
              "    </tr>\n",
              "  </thead>\n",
              "  <tbody>\n",
              "    <tr>\n",
              "      <th>0</th>\n",
              "      <td>sunny</td>\n",
              "      <td>hot</td>\n",
              "      <td>high</td>\n",
              "      <td>no</td>\n",
              "    </tr>\n",
              "    <tr>\n",
              "      <th>1</th>\n",
              "      <td>sunny</td>\n",
              "      <td>hot</td>\n",
              "      <td>high</td>\n",
              "      <td>yes</td>\n",
              "    </tr>\n",
              "    <tr>\n",
              "      <th>2</th>\n",
              "      <td>overcast</td>\n",
              "      <td>hot</td>\n",
              "      <td>high</td>\n",
              "      <td>no</td>\n",
              "    </tr>\n",
              "    <tr>\n",
              "      <th>3</th>\n",
              "      <td>rainy</td>\n",
              "      <td>mild</td>\n",
              "      <td>high</td>\n",
              "      <td>no</td>\n",
              "    </tr>\n",
              "    <tr>\n",
              "      <th>4</th>\n",
              "      <td>rainy</td>\n",
              "      <td>cool</td>\n",
              "      <td>normal</td>\n",
              "      <td>no</td>\n",
              "    </tr>\n",
              "    <tr>\n",
              "      <th>5</th>\n",
              "      <td>rainy</td>\n",
              "      <td>cool</td>\n",
              "      <td>normal</td>\n",
              "      <td>yes</td>\n",
              "    </tr>\n",
              "    <tr>\n",
              "      <th>6</th>\n",
              "      <td>overcast</td>\n",
              "      <td>cool</td>\n",
              "      <td>normal</td>\n",
              "      <td>yes</td>\n",
              "    </tr>\n",
              "    <tr>\n",
              "      <th>7</th>\n",
              "      <td>sunny</td>\n",
              "      <td>mild</td>\n",
              "      <td>high</td>\n",
              "      <td>no</td>\n",
              "    </tr>\n",
              "    <tr>\n",
              "      <th>8</th>\n",
              "      <td>sunny</td>\n",
              "      <td>cool</td>\n",
              "      <td>normal</td>\n",
              "      <td>no</td>\n",
              "    </tr>\n",
              "    <tr>\n",
              "      <th>9</th>\n",
              "      <td>rainy</td>\n",
              "      <td>mild</td>\n",
              "      <td>normal</td>\n",
              "      <td>no</td>\n",
              "    </tr>\n",
              "    <tr>\n",
              "      <th>10</th>\n",
              "      <td>sunny</td>\n",
              "      <td>mild</td>\n",
              "      <td>normal</td>\n",
              "      <td>yes</td>\n",
              "    </tr>\n",
              "    <tr>\n",
              "      <th>11</th>\n",
              "      <td>overcast</td>\n",
              "      <td>mild</td>\n",
              "      <td>high</td>\n",
              "      <td>yes</td>\n",
              "    </tr>\n",
              "    <tr>\n",
              "      <th>12</th>\n",
              "      <td>overcast</td>\n",
              "      <td>hot</td>\n",
              "      <td>normal</td>\n",
              "      <td>no</td>\n",
              "    </tr>\n",
              "    <tr>\n",
              "      <th>13</th>\n",
              "      <td>rainy</td>\n",
              "      <td>mild</td>\n",
              "      <td>high</td>\n",
              "      <td>yes</td>\n",
              "    </tr>\n",
              "  </tbody>\n",
              "</table>\n",
              "</div>\n",
              "      <button class=\"colab-df-convert\" onclick=\"convertToInteractive('df-8bfd32ea-da6b-49c6-9d8b-3c9b5053cf4c')\"\n",
              "              title=\"Convert this dataframe to an interactive table.\"\n",
              "              style=\"display:none;\">\n",
              "        \n",
              "  <svg xmlns=\"http://www.w3.org/2000/svg\" height=\"24px\"viewBox=\"0 0 24 24\"\n",
              "       width=\"24px\">\n",
              "    <path d=\"M0 0h24v24H0V0z\" fill=\"none\"/>\n",
              "    <path d=\"M18.56 5.44l.94 2.06.94-2.06 2.06-.94-2.06-.94-.94-2.06-.94 2.06-2.06.94zm-11 1L8.5 8.5l.94-2.06 2.06-.94-2.06-.94L8.5 2.5l-.94 2.06-2.06.94zm10 10l.94 2.06.94-2.06 2.06-.94-2.06-.94-.94-2.06-.94 2.06-2.06.94z\"/><path d=\"M17.41 7.96l-1.37-1.37c-.4-.4-.92-.59-1.43-.59-.52 0-1.04.2-1.43.59L10.3 9.45l-7.72 7.72c-.78.78-.78 2.05 0 2.83L4 21.41c.39.39.9.59 1.41.59.51 0 1.02-.2 1.41-.59l7.78-7.78 2.81-2.81c.8-.78.8-2.07 0-2.86zM5.41 20L4 18.59l7.72-7.72 1.47 1.35L5.41 20z\"/>\n",
              "  </svg>\n",
              "      </button>\n",
              "      \n",
              "  <style>\n",
              "    .colab-df-container {\n",
              "      display:flex;\n",
              "      flex-wrap:wrap;\n",
              "      gap: 12px;\n",
              "    }\n",
              "\n",
              "    .colab-df-convert {\n",
              "      background-color: #E8F0FE;\n",
              "      border: none;\n",
              "      border-radius: 50%;\n",
              "      cursor: pointer;\n",
              "      display: none;\n",
              "      fill: #1967D2;\n",
              "      height: 32px;\n",
              "      padding: 0 0 0 0;\n",
              "      width: 32px;\n",
              "    }\n",
              "\n",
              "    .colab-df-convert:hover {\n",
              "      background-color: #E2EBFA;\n",
              "      box-shadow: 0px 1px 2px rgba(60, 64, 67, 0.3), 0px 1px 3px 1px rgba(60, 64, 67, 0.15);\n",
              "      fill: #174EA6;\n",
              "    }\n",
              "\n",
              "    [theme=dark] .colab-df-convert {\n",
              "      background-color: #3B4455;\n",
              "      fill: #D2E3FC;\n",
              "    }\n",
              "\n",
              "    [theme=dark] .colab-df-convert:hover {\n",
              "      background-color: #434B5C;\n",
              "      box-shadow: 0px 1px 3px 1px rgba(0, 0, 0, 0.15);\n",
              "      filter: drop-shadow(0px 1px 2px rgba(0, 0, 0, 0.3));\n",
              "      fill: #FFFFFF;\n",
              "    }\n",
              "  </style>\n",
              "\n",
              "      <script>\n",
              "        const buttonEl =\n",
              "          document.querySelector('#df-8bfd32ea-da6b-49c6-9d8b-3c9b5053cf4c button.colab-df-convert');\n",
              "        buttonEl.style.display =\n",
              "          google.colab.kernel.accessAllowed ? 'block' : 'none';\n",
              "\n",
              "        async function convertToInteractive(key) {\n",
              "          const element = document.querySelector('#df-8bfd32ea-da6b-49c6-9d8b-3c9b5053cf4c');\n",
              "          const dataTable =\n",
              "            await google.colab.kernel.invokeFunction('convertToInteractive',\n",
              "                                                     [key], {});\n",
              "          if (!dataTable) return;\n",
              "\n",
              "          const docLinkHtml = 'Like what you see? Visit the ' +\n",
              "            '<a target=\"_blank\" href=https://colab.research.google.com/notebooks/data_table.ipynb>data table notebook</a>'\n",
              "            + ' to learn more about interactive tables.';\n",
              "          element.innerHTML = '';\n",
              "          dataTable['output_type'] = 'display_data';\n",
              "          await google.colab.output.renderOutput(dataTable, element);\n",
              "          const docLink = document.createElement('div');\n",
              "          docLink.innerHTML = docLinkHtml;\n",
              "          element.appendChild(docLink);\n",
              "        }\n",
              "      </script>\n",
              "    </div>\n",
              "  </div>\n",
              "  "
            ]
          },
          "metadata": {},
          "execution_count": 3
        }
      ],
      "source": [
        "# A small dataset\n",
        "outlook=['sunny', 'overcast', 'rain']\n",
        "temperature=['hot', 'mild', 'cold']\n",
        "humidity=['high', 'normal']\n",
        "wind=['yes', 'no']\n",
        "play=['yes', 'no']\n",
        "\n",
        "columns=[\"outlook\", \"temp\", \"humidity\", \"windy\", \"play\"]\n",
        "train_dataset=[\n",
        "    [\"sunny\", \"hot\", \"high\", \"no\", \"no\"],\n",
        "    [\"sunny\", \"hot\", \"high\", \"yes\", \"no\"],\n",
        "    [\"overcast\", \"hot\", \"high\", \"no\", \"yes\"],\n",
        "    [\"rainy\", \"mild\", \"high\", \"no\", \"yes\"],\n",
        "    [\"rainy\", \"cool\", \"normal\", \"no\", \"yes\"],\n",
        "    [\"rainy\", \"cool\", \"normal\", \"yes\", \"no\"],\n",
        "    [\"overcast\", \"cool\", \"normal\", \"yes\", \"yes\"],\n",
        "    [\"sunny\", \"mild\", \"high\", \"no\", \"no\"],\n",
        "    [\"sunny\", \"cool\", \"normal\", \"no\", \"yes\"],\n",
        "    [\"rainy\", \"mild\", \"normal\", \"no\", \"yes\"],\n",
        "    [\"sunny\", \"mild\", \"normal\", \"yes\", \"yes\"],\n",
        "    [\"overcast\", \"mild\", \"high\", \"yes\", \"yes\"],\n",
        "    [\"overcast\", \"hot\", \"normal\", \"no\", \"yes\"],\n",
        "    [\"rainy\", \"mild\", \"high\", \"yes\", \"no\"]]\n",
        "\n",
        "df_train = pd.DataFrame(train_dataset, columns=columns)\n",
        "y_train = df_train.pop(\"play\")\n",
        "X_train = df_train\n",
        "X_train.head(20)"
      ]
    },
    {
      "cell_type": "code",
      "execution_count": null,
      "metadata": {
        "ExecuteTime": {
          "end_time": "2023-01-26T15:35:00.647042Z",
          "start_time": "2023-01-26T15:35:00.632799Z"
        },
        "colab": {
          "base_uri": "https://localhost:8080/",
          "height": 112
        },
        "id": "_DbtJ353BypW",
        "outputId": "3811073c-c608-48c2-b993-d6896b571a0a"
      },
      "outputs": [
        {
          "output_type": "execute_result",
          "data": {
            "text/plain": [
              "    outlook  temp humidity windy\n",
              "0     sunny  cool     high   yes\n",
              "1  overcast   hot     high    no"
            ],
            "text/html": [
              "\n",
              "  <div id=\"df-f418ed00-e516-44f7-aa4e-bf67af062146\">\n",
              "    <div class=\"colab-df-container\">\n",
              "      <div>\n",
              "<style scoped>\n",
              "    .dataframe tbody tr th:only-of-type {\n",
              "        vertical-align: middle;\n",
              "    }\n",
              "\n",
              "    .dataframe tbody tr th {\n",
              "        vertical-align: top;\n",
              "    }\n",
              "\n",
              "    .dataframe thead th {\n",
              "        text-align: right;\n",
              "    }\n",
              "</style>\n",
              "<table border=\"1\" class=\"dataframe\">\n",
              "  <thead>\n",
              "    <tr style=\"text-align: right;\">\n",
              "      <th></th>\n",
              "      <th>outlook</th>\n",
              "      <th>temp</th>\n",
              "      <th>humidity</th>\n",
              "      <th>windy</th>\n",
              "    </tr>\n",
              "  </thead>\n",
              "  <tbody>\n",
              "    <tr>\n",
              "      <th>0</th>\n",
              "      <td>sunny</td>\n",
              "      <td>cool</td>\n",
              "      <td>high</td>\n",
              "      <td>yes</td>\n",
              "    </tr>\n",
              "    <tr>\n",
              "      <th>1</th>\n",
              "      <td>overcast</td>\n",
              "      <td>hot</td>\n",
              "      <td>high</td>\n",
              "      <td>no</td>\n",
              "    </tr>\n",
              "  </tbody>\n",
              "</table>\n",
              "</div>\n",
              "      <button class=\"colab-df-convert\" onclick=\"convertToInteractive('df-f418ed00-e516-44f7-aa4e-bf67af062146')\"\n",
              "              title=\"Convert this dataframe to an interactive table.\"\n",
              "              style=\"display:none;\">\n",
              "        \n",
              "  <svg xmlns=\"http://www.w3.org/2000/svg\" height=\"24px\"viewBox=\"0 0 24 24\"\n",
              "       width=\"24px\">\n",
              "    <path d=\"M0 0h24v24H0V0z\" fill=\"none\"/>\n",
              "    <path d=\"M18.56 5.44l.94 2.06.94-2.06 2.06-.94-2.06-.94-.94-2.06-.94 2.06-2.06.94zm-11 1L8.5 8.5l.94-2.06 2.06-.94-2.06-.94L8.5 2.5l-.94 2.06-2.06.94zm10 10l.94 2.06.94-2.06 2.06-.94-2.06-.94-.94-2.06-.94 2.06-2.06.94z\"/><path d=\"M17.41 7.96l-1.37-1.37c-.4-.4-.92-.59-1.43-.59-.52 0-1.04.2-1.43.59L10.3 9.45l-7.72 7.72c-.78.78-.78 2.05 0 2.83L4 21.41c.39.39.9.59 1.41.59.51 0 1.02-.2 1.41-.59l7.78-7.78 2.81-2.81c.8-.78.8-2.07 0-2.86zM5.41 20L4 18.59l7.72-7.72 1.47 1.35L5.41 20z\"/>\n",
              "  </svg>\n",
              "      </button>\n",
              "      \n",
              "  <style>\n",
              "    .colab-df-container {\n",
              "      display:flex;\n",
              "      flex-wrap:wrap;\n",
              "      gap: 12px;\n",
              "    }\n",
              "\n",
              "    .colab-df-convert {\n",
              "      background-color: #E8F0FE;\n",
              "      border: none;\n",
              "      border-radius: 50%;\n",
              "      cursor: pointer;\n",
              "      display: none;\n",
              "      fill: #1967D2;\n",
              "      height: 32px;\n",
              "      padding: 0 0 0 0;\n",
              "      width: 32px;\n",
              "    }\n",
              "\n",
              "    .colab-df-convert:hover {\n",
              "      background-color: #E2EBFA;\n",
              "      box-shadow: 0px 1px 2px rgba(60, 64, 67, 0.3), 0px 1px 3px 1px rgba(60, 64, 67, 0.15);\n",
              "      fill: #174EA6;\n",
              "    }\n",
              "\n",
              "    [theme=dark] .colab-df-convert {\n",
              "      background-color: #3B4455;\n",
              "      fill: #D2E3FC;\n",
              "    }\n",
              "\n",
              "    [theme=dark] .colab-df-convert:hover {\n",
              "      background-color: #434B5C;\n",
              "      box-shadow: 0px 1px 3px 1px rgba(0, 0, 0, 0.15);\n",
              "      filter: drop-shadow(0px 1px 2px rgba(0, 0, 0, 0.3));\n",
              "      fill: #FFFFFF;\n",
              "    }\n",
              "  </style>\n",
              "\n",
              "      <script>\n",
              "        const buttonEl =\n",
              "          document.querySelector('#df-f418ed00-e516-44f7-aa4e-bf67af062146 button.colab-df-convert');\n",
              "        buttonEl.style.display =\n",
              "          google.colab.kernel.accessAllowed ? 'block' : 'none';\n",
              "\n",
              "        async function convertToInteractive(key) {\n",
              "          const element = document.querySelector('#df-f418ed00-e516-44f7-aa4e-bf67af062146');\n",
              "          const dataTable =\n",
              "            await google.colab.kernel.invokeFunction('convertToInteractive',\n",
              "                                                     [key], {});\n",
              "          if (!dataTable) return;\n",
              "\n",
              "          const docLinkHtml = 'Like what you see? Visit the ' +\n",
              "            '<a target=\"_blank\" href=https://colab.research.google.com/notebooks/data_table.ipynb>data table notebook</a>'\n",
              "            + ' to learn more about interactive tables.';\n",
              "          element.innerHTML = '';\n",
              "          dataTable['output_type'] = 'display_data';\n",
              "          await google.colab.output.renderOutput(dataTable, element);\n",
              "          const docLink = document.createElement('div');\n",
              "          docLink.innerHTML = docLinkHtml;\n",
              "          element.appendChild(docLink);\n",
              "        }\n",
              "      </script>\n",
              "    </div>\n",
              "  </div>\n",
              "  "
            ]
          },
          "metadata": {},
          "execution_count": 4
        }
      ],
      "source": [
        "# New items for prediction\n",
        "X_test = pd.DataFrame(data=[['sunny', 'cool', 'high', 'yes'],\n",
        "                            ['overcast', 'hot', 'high', 'no']],\n",
        "                      columns=columns[:-1])\n",
        "X_test.head()"
      ]
    },
    {
      "cell_type": "markdown",
      "metadata": {
        "id": "miiOJ1ORBypW"
      },
      "source": [
        "## Solution 1: use sklearn\n",
        "\n",
        "All features are categorical, we need to use Multinomial Naive Bayes.\n",
        "\n",
        "* Step 1: encode the feature in categories (MultinomialNB doesn't work with string)\n",
        "* Step 2: fit MultinomialNB\n",
        "* Step 3: predict with MultinomialNB"
      ]
    },
    {
      "cell_type": "code",
      "execution_count": null,
      "metadata": {
        "ExecuteTime": {
          "end_time": "2023-01-26T15:35:05.256965Z",
          "start_time": "2023-01-26T15:35:05.245780Z"
        },
        "id": "JMenXRvzBypW"
      },
      "outputs": [],
      "source": [
        "# Step 1\n",
        "\"\"\" Put your code here \"\"\"\n",
        "oe = OrdinalEncoder(handle_unknown='use_encoded_value', unknown_value=-1)\n",
        "oe.fit(X_train)\n",
        "X_train_enc = oe.transform(X_train)"
      ]
    },
    {
      "cell_type": "code",
      "execution_count": null,
      "metadata": {
        "ExecuteTime": {
          "end_time": "2023-01-26T15:35:06.289731Z",
          "start_time": "2023-01-26T15:35:06.235891Z"
        },
        "colab": {
          "base_uri": "https://localhost:8080/"
        },
        "id": "sQENcvqmBypX",
        "outputId": "80f60782-b2bc-4b2b-863f-13b2b1d3c4a6"
      },
      "outputs": [
        {
          "output_type": "execute_result",
          "data": {
            "text/plain": [
              "MultinomialNB()"
            ]
          },
          "metadata": {},
          "execution_count": 9
        }
      ],
      "source": [
        "# Step 2\n",
        "\"\"\" Put your code here \"\"\"\n",
        "clf = MultinomialNB(fit_prior=True, class_prior=None)\n",
        "clf.fit(X_train_enc, y_train)"
      ]
    },
    {
      "cell_type": "code",
      "execution_count": null,
      "metadata": {
        "ExecuteTime": {
          "end_time": "2023-01-26T15:35:07.062213Z",
          "start_time": "2023-01-26T15:35:07.036841Z"
        },
        "colab": {
          "base_uri": "https://localhost:8080/"
        },
        "id": "L_UZzDPPBypX",
        "outputId": "10747ab2-453e-4dd6-c7e6-1a10bafcb271"
      },
      "outputs": [
        {
          "output_type": "execute_result",
          "data": {
            "text/plain": [
              "array(['no', 'yes'], dtype='<U3')"
            ]
          },
          "metadata": {},
          "execution_count": 10
        }
      ],
      "source": [
        "# Step 3\n",
        "\"\"\" Put your code here \"\"\"\n",
        "clf.predict(oe.transform(X_test))"
      ]
    },
    {
      "cell_type": "markdown",
      "metadata": {
        "id": "ok7_njbCBypX"
      },
      "source": [
        "## Solution 2: build your own Naive Bayes classifier\n",
        "\n",
        "* The features are assumed to be generated from a simple multinomial distribution.\n",
        "* The multinomial distribution describes the probability of observing counts among a number of categories, and thus multinomial naive Bayes is most appropriate for features that represent counts or count rates.\n",
        "* We aim at modeling the data distribution with a best-fit multinomial distribution."
      ]
    },
    {
      "cell_type": "markdown",
      "metadata": {
        "id": "GOzgWCJlBypX"
      },
      "source": [
        "$$[TO DO - Students]$$\n",
        ">* Complete the following functions"
      ]
    },
    {
      "cell_type": "code",
      "execution_count": null,
      "metadata": {
        "ExecuteTime": {
          "end_time": "2023-01-26T15:35:10.572073Z",
          "start_time": "2023-01-26T15:35:10.567412Z"
        },
        "id": "bHq9cEoaBypX"
      },
      "outputs": [],
      "source": [
        "def prior_probability(y_train, play_outcome):\n",
        "    \"\"\"\n",
        "    input:\n",
        "        - y_train\n",
        "        - play_outcome: outcome of target variable \"play\" (string taking values in ['yes','no'])\n",
        "    output:\n",
        "        - prior probability P(play = play_outcome) \n",
        "    \"\"\"\n",
        "    \n",
        "    \"\"\" Solution 1\n",
        "    \n",
        "    m = 0\n",
        "    for i in y_train:\n",
        "        print(i)\n",
        "        if i==play_outcome:\n",
        "            m += 1\n",
        "    return m/len(play)\n",
        "    \"\"\"\n",
        "    \"\"\" Solution 2 \"\"\"\n",
        "    return np.mean(y_train==play_outcome)"
      ]
    },
    {
      "cell_type": "code",
      "execution_count": null,
      "metadata": {
        "ExecuteTime": {
          "end_time": "2023-01-26T15:35:11.862895Z",
          "start_time": "2023-01-26T15:35:11.850960Z"
        },
        "colab": {
          "base_uri": "https://localhost:8080/"
        },
        "id": "OJsHcd6iBypY",
        "outputId": "05cd7036-06de-45d8-f4fe-96931dbe089d"
      },
      "outputs": [
        {
          "output_type": "execute_result",
          "data": {
            "text/plain": [
              "0.35714285714285715"
            ]
          },
          "metadata": {},
          "execution_count": 12
        }
      ],
      "source": [
        "prior_probability(y_train, 'no')\n",
        "# prior_probability(y_train, 'yes') --> 0.64\n",
        "# prior_probability(y_train, 'no') --> 0.36"
      ]
    },
    {
      "cell_type": "code",
      "execution_count": null,
      "metadata": {
        "ExecuteTime": {
          "end_time": "2023-01-26T15:35:13.692774Z",
          "start_time": "2023-01-26T15:35:13.687006Z"
        },
        "id": "Iq3MoxJGBypY"
      },
      "outputs": [],
      "source": [
        "def likelihood(X_train, y_train, feature_name, feature_value, play_outcome):\n",
        "    \"\"\"\n",
        "    inputs:\n",
        "        X_train\n",
        "        y_train\n",
        "        feature_name: string with values in df column names\n",
        "        feature_value: given value of the variable corresponding to feature_name\n",
        "        play_outcome: outcome of target variable \"play\"  (string taking values in ['yes','no'])\n",
        "    output:\n",
        "        Compute the conditional probability P(feature_name = feature_value|play= play_outcome)\n",
        "    \"\"\"\n",
        "    m, n = 0, 0\n",
        "    for i, j in zip(X_train[feature_name],y_train):\n",
        "        if j==play_outcome:\n",
        "            m += 1\n",
        "            if i==feature_value:\n",
        "                n+=1\n",
        "    if m==0:\n",
        "        return 0\n",
        "    else:\n",
        "        return n/m"
      ]
    },
    {
      "cell_type": "code",
      "execution_count": null,
      "metadata": {
        "ExecuteTime": {
          "end_time": "2023-01-26T15:35:25.201284Z",
          "start_time": "2023-01-26T15:35:25.193775Z"
        },
        "colab": {
          "base_uri": "https://localhost:8080/"
        },
        "id": "ZLcGiI9MBypY",
        "outputId": "d8c78ef9-77b9-4e3f-ae6d-76aec0bbc886"
      },
      "outputs": [
        {
          "output_type": "execute_result",
          "data": {
            "text/plain": [
              "0.6"
            ]
          },
          "metadata": {},
          "execution_count": 14
        }
      ],
      "source": [
        "likelihood(X_train, y_train, \"outlook\", \"sunny\", \"no\")\n",
        "# likelihood(X_train, y_train, \"outlook\", \"sunny\", \"yes\") --> 0.22\n",
        "# likelihood(X_train, y_train, \"outlook\", \"sunny\", \"yes\") --> 0.6"
      ]
    },
    {
      "cell_type": "code",
      "execution_count": null,
      "metadata": {
        "ExecuteTime": {
          "end_time": "2023-01-26T15:38:59.537486Z",
          "start_time": "2023-01-26T15:38:59.529784Z"
        },
        "code_folding": [],
        "id": "k9F-nO0UBypY"
      },
      "outputs": [],
      "source": [
        "def predict_play_outcome(X_train, y_train, data):#outlook,temp,humidity,windy):\n",
        "    \"\"\"\n",
        "    inputs:\n",
        "        X_train\n",
        "        y_train\n",
        "        data a dictionnary with\n",
        "            outlook: value of outlook for a given observation \n",
        "            temp: value of outlook for a given observation \n",
        "            humidity: value of outlook for a given observation \n",
        "            windy: value of outlook for a given observation \n",
        "    Outputs:\n",
        "        predicted label by multinomial naive bayes for the given observation (outlook,temp,humidity,windy)\n",
        "    \"\"\"\n",
        "    P_yes = prior_probability(y_train, \"yes\")\n",
        "    for key, value in data.items():\n",
        "        P_yes = P_yes * likelihood(X_train, y_train, key, value, \"yes\")\n",
        "        \n",
        "    P_no = prior_probability(y_train, \"no\")\n",
        "    for key, value in data.items():\n",
        "        P_no = P_no * likelihood(X_train, y_train, key, value, \"no\")\n",
        "    \n",
        "    if P_yes>P_no:\n",
        "        return \"yes\"\n",
        "    else:\n",
        "        return \"no\""
      ]
    },
    {
      "cell_type": "code",
      "execution_count": null,
      "metadata": {
        "ExecuteTime": {
          "end_time": "2023-01-26T15:39:43.976515Z",
          "start_time": "2023-01-26T15:39:43.967132Z"
        },
        "colab": {
          "base_uri": "https://localhost:8080/"
        },
        "id": "Iop78u7aBypY",
        "outputId": "7c956098-b612-4708-e008-98120a0a370c"
      },
      "outputs": [
        {
          "output_type": "execute_result",
          "data": {
            "text/plain": [
              "['no', 'yes']"
            ]
          },
          "metadata": {},
          "execution_count": 16
        }
      ],
      "source": [
        "pred = []\n",
        "for i in range(len(X_test)):\n",
        "    pred += [predict_play_outcome(X_train, y_train, X_test.iloc[i])]\n",
        "# predict_play_outcome(X_train, y_train, X_test.iloc[0]) --> ['no', 'yes']\n",
        "pred"
      ]
    },
    {
      "cell_type": "markdown",
      "metadata": {
        "id": "i3TyA_GVBypY"
      },
      "source": [
        "## Multinomial Naive Bays: text classification\n",
        "\n",
        "One place where multinomial naive Bayes is often used is in text classification, where the features are related to word counts or frequencies within the documents to be classified.\n",
        "\n",
        "We will use the sparse word count features from the 20 Newsgroups corpus to show how we might classify these short documents into categories.\n",
        "\n",
        "Let's download the data and take a look at the target names:"
      ]
    },
    {
      "cell_type": "code",
      "execution_count": null,
      "metadata": {
        "ExecuteTime": {
          "end_time": "2023-01-26T15:39:56.613641Z",
          "start_time": "2023-01-26T15:39:55.835154Z"
        },
        "id": "HN3Eyvt1BypZ"
      },
      "outputs": [],
      "source": [
        "from sklearn.datasets import fetch_20newsgroups\n",
        "\n",
        "data = fetch_20newsgroups()"
      ]
    },
    {
      "cell_type": "code",
      "execution_count": null,
      "metadata": {
        "ExecuteTime": {
          "end_time": "2023-01-26T15:39:57.642890Z",
          "start_time": "2023-01-26T15:39:57.635313Z"
        },
        "colab": {
          "base_uri": "https://localhost:8080/"
        },
        "id": "15VpgaKLBypZ",
        "outputId": "b8090cdd-0704-493c-ec69-620e4f16705d"
      },
      "outputs": [
        {
          "output_type": "execute_result",
          "data": {
            "text/plain": [
              "['alt.atheism',\n",
              " 'comp.graphics',\n",
              " 'comp.os.ms-windows.misc',\n",
              " 'comp.sys.ibm.pc.hardware',\n",
              " 'comp.sys.mac.hardware',\n",
              " 'comp.windows.x',\n",
              " 'misc.forsale',\n",
              " 'rec.autos',\n",
              " 'rec.motorcycles',\n",
              " 'rec.sport.baseball',\n",
              " 'rec.sport.hockey',\n",
              " 'sci.crypt',\n",
              " 'sci.electronics',\n",
              " 'sci.med',\n",
              " 'sci.space',\n",
              " 'soc.religion.christian',\n",
              " 'talk.politics.guns',\n",
              " 'talk.politics.mideast',\n",
              " 'talk.politics.misc',\n",
              " 'talk.religion.misc']"
            ]
          },
          "metadata": {},
          "execution_count": 18
        }
      ],
      "source": [
        "# Print the different classes\n",
        "data.target_names"
      ]
    },
    {
      "cell_type": "markdown",
      "metadata": {
        "id": "xmcw9QaYBypZ"
      },
      "source": [
        "For simplicity here, we will select just a few of these categories, and download the training and testing set:"
      ]
    },
    {
      "cell_type": "code",
      "execution_count": null,
      "metadata": {
        "ExecuteTime": {
          "end_time": "2023-01-26T15:40:04.993367Z",
          "start_time": "2023-01-26T15:40:04.464554Z"
        },
        "id": "G8nd1iwxBypZ"
      },
      "outputs": [],
      "source": [
        "categories = ['talk.religion.misc', 'soc.religion.christian',\n",
        "              'sci.space', 'comp.graphics']\n",
        "train = fetch_20newsgroups(subset='train', categories=categories)\n",
        "test = fetch_20newsgroups(subset='test', categories=categories)"
      ]
    },
    {
      "cell_type": "markdown",
      "metadata": {
        "id": "vE2as-6rBypZ"
      },
      "source": [
        "* datas are available with train.data or test.data\n",
        "* labels are available with train.target or test.target"
      ]
    },
    {
      "cell_type": "code",
      "execution_count": null,
      "metadata": {
        "ExecuteTime": {
          "end_time": "2023-01-26T15:41:04.212744Z",
          "start_time": "2023-01-26T15:41:04.206660Z"
        },
        "colab": {
          "base_uri": "https://localhost:8080/"
        },
        "id": "bRlTcbNwBypZ",
        "outputId": "62212bc0-8a07-419f-f325-8acc31c993ce"
      },
      "outputs": [
        {
          "output_type": "stream",
          "name": "stdout",
          "text": [
            "From: dmcgee@uluhe.soest.hawaii.edu (Don McGee)\n",
            "Subject: Federal Hearing\n",
            "Originator: dmcgee@uluhe\n",
            "Organization: School of Ocean and Earth Science and Technology\n",
            "Distribution: usa\n",
            "Lines: 10\n",
            "\n",
            "\n",
            "Fact or rumor....?  Madalyn Murray O'Hare an atheist who eliminated the\n",
            "use of the bible reading and prayer in public schools 15 years ago is now\n",
            "going to appear before the FCC with a petition to stop the reading of the\n",
            "Gospel on the airways of America.  And she is also campaigning to remove\n",
            "Christmas programs, songs, etc from the public schools.  If it is true\n",
            "then mail to Federal Communications Commission 1919 H Street Washington DC\n",
            "20054 expressing your opposition to her request.  Reference Petition number\n",
            "\n",
            "2493.\n",
            "\n"
          ]
        }
      ],
      "source": [
        "# Print the 6th sample\n",
        "print(train.data[5])"
      ]
    },
    {
      "cell_type": "code",
      "execution_count": null,
      "metadata": {
        "ExecuteTime": {
          "end_time": "2023-01-26T15:41:31.468805Z",
          "start_time": "2023-01-26T15:41:31.462517Z"
        },
        "colab": {
          "base_uri": "https://localhost:8080/"
        },
        "id": "pJDxjHu-BypZ",
        "outputId": "3a487606-e452-47be-dd95-504904a2100a"
      },
      "outputs": [
        {
          "output_type": "stream",
          "name": "stdout",
          "text": [
            "3\n"
          ]
        }
      ],
      "source": [
        "# Print the 6th label\n",
        "print(train.target[5])"
      ]
    },
    {
      "cell_type": "markdown",
      "metadata": {
        "id": "Dz5-yHN9Bypa"
      },
      "source": [
        "In order to use this data for machine learning, we need to be able to convert the content of each string into a vector of numbers.\n",
        "\n",
        "You can use binary, count or tf-idf approach in order to vectorize the data.\n",
        "\n",
        "Create a 2 steps pipeline with your selected features extractor an a multinomial naive Bayes classifier"
      ]
    },
    {
      "cell_type": "code",
      "execution_count": null,
      "metadata": {
        "ExecuteTime": {
          "end_time": "2023-01-26T15:41:41.403442Z",
          "start_time": "2023-01-26T15:41:41.395912Z"
        },
        "id": "1oZuPpcDBypa"
      },
      "outputs": [],
      "source": [
        "# Create the pipeline\n",
        "from sklearn.feature_extraction.text import CountVectorizer, TfidfVectorizer\n",
        "from sklearn.naive_bayes import MultinomialNB\n",
        "from sklearn.pipeline import Pipeline\n",
        "\n",
        "model = Pipeline([(\"pre\", TfidfVectorizer()),\n",
        "                  (\"clf\", MultinomialNB()),\n",
        "                 ])"
      ]
    },
    {
      "cell_type": "code",
      "execution_count": null,
      "metadata": {
        "ExecuteTime": {
          "end_time": "2023-01-26T15:41:42.835243Z",
          "start_time": "2023-01-26T15:41:42.229827Z"
        },
        "colab": {
          "base_uri": "https://localhost:8080/"
        },
        "id": "RPbLb7BhBypa",
        "outputId": "53b4b8e4-c9bd-43a8-b568-1ec497495368"
      },
      "outputs": [
        {
          "output_type": "execute_result",
          "data": {
            "text/plain": [
              "Pipeline(steps=[('pre', TfidfVectorizer()), ('clf', MultinomialNB())])"
            ]
          },
          "metadata": {},
          "execution_count": 23
        }
      ],
      "source": [
        "# Fit the pipeline\n",
        "model.fit(train.data, train.target)"
      ]
    },
    {
      "cell_type": "code",
      "execution_count": null,
      "metadata": {
        "ExecuteTime": {
          "end_time": "2023-01-26T15:41:43.288209Z",
          "start_time": "2023-01-26T15:41:42.840928Z"
        },
        "id": "m7ytrcV3Bypa"
      },
      "outputs": [],
      "source": [
        "# Predict\n",
        "pred = model.predict(test.data)"
      ]
    },
    {
      "cell_type": "code",
      "execution_count": null,
      "metadata": {
        "ExecuteTime": {
          "end_time": "2023-01-26T15:41:44.777146Z",
          "start_time": "2023-01-26T15:41:43.548660Z"
        },
        "colab": {
          "base_uri": "https://localhost:8080/",
          "height": 368
        },
        "id": "9OV2TNIIBypa",
        "outputId": "1941f793-cda9-434d-8ef9-4b6f7c53d159"
      },
      "outputs": [
        {
          "output_type": "execute_result",
          "data": {
            "text/plain": [
              "<sklearn.metrics._plot.confusion_matrix.ConfusionMatrixDisplay at 0x7f836f8c6520>"
            ]
          },
          "metadata": {},
          "execution_count": 25
        },
        {
          "output_type": "display_data",
          "data": {
            "text/plain": [
              "<Figure size 432x288 with 2 Axes>"
            ],
            "image/png": "[encoded data removed]"
          },
          "metadata": {
            "needs_background": "light"
          }
        }
      ],
      "source": [
        "# Build confusion matrix\n",
        "from sklearn.metrics import confusion_matrix, ConfusionMatrixDisplay\n",
        "\n",
        "cm = ConfusionMatrixDisplay(confusion_matrix(test.target, pred),\n",
        "                            display_labels=categories)\n",
        "cm.plot(xticks_rotation=45)"
      ]
    },
    {
      "cell_type": "markdown",
      "metadata": {
        "id": "XjyPMGxoBypa"
      },
      "source": [
        "## Papers and video\n",
        "\n",
        "* [Naive Bayes, Clearly Explained!!!](https://www.youtube.com/watch?v=O2L2Uv9pdDA)\n",
        "* [An Introduction to Naive Bayes Algorithm for Beginners](https://www.turing.com/kb/an-introduction-to-naive-bayes-algorithm-for-beginners)"
      ]
    }
  ],
  "metadata": {
    "kernelspec": {
      "display_name": "Python 3 (ipykernel)",
      "language": "python",
      "name": "python3"
    },
    "language_info": {
      "codemirror_mode": {
        "name": "ipython",
        "version": 3
      },
      "file_extension": ".py",
      "mimetype": "text/x-python",
      "name": "python",
      "nbconvert_exporter": "python",
      "pygments_lexer": "ipython3",
      "version": "3.9.12"
    },
    "colab": {
      "provenance": []
    }
  },
  "nbformat": 4,
  "nbformat_minor": 0
}