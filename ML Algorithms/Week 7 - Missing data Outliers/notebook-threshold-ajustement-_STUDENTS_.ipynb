{
 "cells": [
  {
   "cell_type": "markdown",
   "id": "b14d5290",
   "metadata": {},
   "source": [
    "# Lab about missing value, sampling and threshold ajustement\n",
    "\n",
    "Build a pipeline with:\n",
    "- Impute or delete of missing values (transformer or sampler)\n",
    "- Adjust classes (RUS, ROS, SMOTE strategy)\n",
    "- One hot encode categorical features and normalize numerical features (transformer)\n",
    "- Ajust threshold to maximize accuracy (predictor with logistic regression)\n",
    "    - fit method select best threshold for accuracy score\n",
    "    - predict method use the previously chosen threshold\n",
    "- Put on slack your best score \n",
    "\n",
    "If you have time, you can do a feature selection step."
   ]
  },
  {
   "cell_type": "markdown",
   "id": "8006cadb",
   "metadata": {},
   "source": [
    "## Dataset\n",
    "\n",
    "This data set contains booking information for a city hotel and a resort hotel, and includes information such as when the booking was made, length of stay, the number of adults, children, and/or babies, and the number of available parking spaces, among other things.\n",
    "\n",
    "You'll build a model to predict hotel cancellations with a binary classifier."
   ]
  },
  {
   "cell_type": "code",
   "execution_count": 12,
   "id": "5a5f34eb",
   "metadata": {
    "ExecuteTime": {
     "end_time": "2023-02-14T10:36:23.061534Z",
     "start_time": "2023-02-14T10:36:23.032302Z"
    }
   },
   "outputs": [],
   "source": [
    "import pandas as pd"
   ]
  },
  {
   "cell_type": "code",
   "execution_count": 13,
   "id": "fd6f6476",
   "metadata": {
    "ExecuteTime": {
     "end_time": "2023-02-14T10:36:25.507188Z",
     "start_time": "2023-02-14T10:36:24.935379Z"
    }
   },
   "outputs": [],
   "source": [
    "hotel = pd.read_csv('data/hotel_bookings.csv')"
   ]
  },
  {
   "cell_type": "code",
   "execution_count": 3,
   "id": "7f491180",
   "metadata": {
    "ExecuteTime": {
     "end_time": "2023-02-14T10:29:01.359239Z",
     "start_time": "2023-02-14T10:29:01.293446Z"
    }
   },
   "outputs": [],
   "source": [
    "X = hotel.copy()\n",
    "y = X.pop('is_canceled')\n",
    "\n",
    "X['arrival_date_month'] = \\\n",
    "    X['arrival_date_month'].map(\n",
    "        {'January':1, 'February': 2, 'March':3,\n",
    "         'April':4, 'May':5, 'June':6, 'July':7,\n",
    "         'August':8, 'September':9, 'October':10,\n",
    "         'November':11, 'December':12}\n",
    "    )\n",
    "\n",
    "features_num = [\n",
    "    \"lead_time\", \"arrival_date_week_number\",\n",
    "    \"arrival_date_day_of_month\", \"stays_in_weekend_nights\",\n",
    "    \"stays_in_week_nights\", \"adults\", \"children\", \"babies\",\n",
    "    \"is_repeated_guest\", \"previous_cancellations\",\n",
    "    \"previous_bookings_not_canceled\", \"required_car_parking_spaces\",\n",
    "    \"total_of_special_requests\", \"adr\",\n",
    "]\n",
    "features_cat = [\n",
    "    \"hotel\", \"arrival_date_month\", \"meal\",\n",
    "    \"market_segment\", \"distribution_channel\",\n",
    "    \"reserved_room_type\", \"deposit_type\", \"customer_type\",\n",
    "]"
   ]
  },
  {
   "cell_type": "markdown",
   "id": "c96fca8b",
   "metadata": {},
   "source": [
    "## It's your turn"
   ]
  },
  {
   "cell_type": "code",
   "execution_count": null,
   "id": "0db24836",
   "metadata": {},
   "outputs": [],
   "source": []
  }
 ],
 "metadata": {
  "kernelspec": {
   "display_name": "Python 3 (ipykernel)",
   "language": "python",
   "name": "python3"
  },
  "language_info": {
   "codemirror_mode": {
    "name": "ipython",
    "version": 3
   },
   "file_extension": ".py",
   "mimetype": "text/x-python",
   "name": "python",
   "nbconvert_exporter": "python",
   "pygments_lexer": "ipython3",
   "version": "3.9.12"
  }
 },
 "nbformat": 4,
 "nbformat_minor": 5
}
