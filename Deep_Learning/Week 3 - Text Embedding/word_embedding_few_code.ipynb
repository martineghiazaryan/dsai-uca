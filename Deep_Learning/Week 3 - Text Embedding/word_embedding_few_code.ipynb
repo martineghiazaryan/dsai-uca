{
  "cells": [
    {
      "cell_type": "markdown",
      "metadata": {
        "id": "26cXmB031ySK"
      },
      "source": [
        "# NLP - Word representation"
      ]
    },
    {
      "cell_type": "markdown",
      "metadata": {
        "id": "g9h39uZl1ySN"
      },
      "source": [
        "## The imports"
      ]
    },
    {
      "cell_type": "code",
      "execution_count": 6,
      "metadata": {
        "ExecuteTime": {
          "end_time": "2023-01-25T09:13:56.566199Z",
          "start_time": "2023-01-25T09:13:51.721495Z"
        },
        "id": "N-WaFis11ySN"
      },
      "outputs": [],
      "source": [
        "import os\n",
        "import pandas as pd\n",
        "import numpy as np\n",
        "\n",
        "import tensorflow as tf\n",
        "from tensorflow.keras.preprocessing.text import one_hot\n",
        "from tensorflow.keras.preprocessing.sequence import pad_sequences\n",
        "from tensorflow.keras.models import Model\n",
        "from tensorflow.keras.layers import Input, TextVectorization, Dense, Flatten, Embedding"
      ]
    },
    {
      "cell_type": "markdown",
      "metadata": {
        "id": "NgbOxM8D1ySM"
      },
      "source": [
        "## The corpus"
      ]
    },
    {
      "cell_type": "code",
      "execution_count": 23,
      "metadata": {
        "ExecuteTime": {
          "end_time": "2023-01-25T09:13:51.644352Z",
          "start_time": "2023-01-25T09:13:51.641752Z"
        },
        "id": "3e7IMSCD1ySM"
      },
      "outputs": [],
      "source": [
        "texts = np.array([\"I like chocolate\",\n",
        "            \"I like tea\",\n",
        "            \"You like chocolate\",\n",
        "            'You hate beer',\n",
        "            'I hate wine'])\n",
        "labels = np.array([1,1,1,0,0])"
      ]
    },
    {
      "cell_type": "markdown",
      "metadata": {
        "id": "MJS_caUv1ySO"
      },
      "source": [
        "## BOW representation (the fist week)"
      ]
    },
    {
      "cell_type": "code",
      "execution_count": 24,
      "metadata": {
        "ExecuteTime": {
          "end_time": "2023-01-25T09:13:56.569940Z",
          "start_time": "2023-01-25T09:13:56.567842Z"
        },
        "id": "LahnoYb71ySO"
      },
      "outputs": [],
      "source": [
        "import warnings\n",
        "warnings.filterwarnings(\"ignore\")"
      ]
    },
    {
      "cell_type": "code",
      "execution_count": 35,
      "metadata": {
        "ExecuteTime": {
          "end_time": "2023-01-25T09:13:57.293613Z",
          "start_time": "2023-01-25T09:13:56.572482Z"
        },
        "colab": {
          "base_uri": "https://localhost:8080/"
        },
        "id": "wNyhh_8P1ySO",
        "outputId": "5f5b0cc5-a39d-4509-ea23-b2e530dfb95e"
      },
      "outputs": [
        {
          "output_type": "stream",
          "name": "stdout",
          "text": [
            "tf.Tensor(\n",
            "[[0. 1. 1. 0. 1. 1. 0. 1. 0. 0. 0. 0. 0. 0. 0. 0. 0.]\n",
            " [0. 1. 1. 0. 0. 1. 0. 0. 0. 0. 0. 1. 1. 0. 0. 0. 0.]\n",
            " [0. 1. 0. 1. 1. 0. 0. 1. 1. 0. 0. 0. 0. 0. 0. 0. 0.]\n",
            " [0. 0. 0. 1. 0. 0. 1. 0. 0. 1. 0. 0. 0. 0. 0. 1. 1.]\n",
            " [0. 0. 1. 0. 0. 0. 1. 0. 0. 0. 1. 0. 0. 1. 1. 0. 0.]], shape=(5, 17), dtype=float32) \n",
            "\n",
            "['[UNK]', 'like', 'i', 'you', 'like chocolate', 'i like', 'hate', 'chocolate', 'you like', 'you hate', 'wine', 'tea', 'like tea', 'i hate', 'hate wine', 'hate beer', 'beer']\n"
          ]
        }
      ],
      "source": [
        "# with Keras preprocessing layer\n",
        "vectorize_layer = TextVectorization(output_mode='count', ngrams=(1,2))\n",
        "# Fit the layer with the corpus\n",
        "vectorize_layer.adapt(texts)\n",
        "print(vectorize_layer(texts), '\\n')\n",
        "print(vectorize_layer.get_vocabulary())"
      ]
    },
    {
      "cell_type": "code",
      "source": [
        "# define the model\n",
        "input_ = Input(shape=(1,), dtype=tf.string)\n",
        "x = vectorize_layer(input_)\n",
        "hidden = Dense(32, activation='relu')(x)\n",
        "output_ = Dense(1, activation='sigmoid')(hidden)\n",
        "model = Model(input_, output_)\n",
        "\n",
        "# summarize the model\n",
        "model.summary()\n",
        "\n",
        "# compile the model\n",
        "model.compile(optimizer='adam', loss='binary_crossentropy', metrics=['accuracy'])\n",
        "\n",
        "# fit the model\n",
        "model.fit(texts, labels, epochs=10, verbose=0)\n",
        "\n",
        "# evaluate the model\n",
        "loss, accuracy = model.evaluate(texts, labels, verbose=0)\n",
        "print('Accuracy: %f' % (accuracy*100))"
      ],
      "metadata": {
        "colab": {
          "base_uri": "https://localhost:8080/"
        },
        "id": "Fwghy7si6keG",
        "outputId": "af9bc422-12d8-435c-fbe9-7f716fc9678d"
      },
      "execution_count": 36,
      "outputs": [
        {
          "output_type": "stream",
          "name": "stdout",
          "text": [
            "Model: \"model_3\"\n",
            "_________________________________________________________________\n",
            " Layer (type)                Output Shape              Param #   \n",
            "=================================================================\n",
            " input_4 (InputLayer)        [(None, 1)]               0         \n",
            "                                                                 \n",
            " text_vectorization_22 (Text  (None, 17)               0         \n",
            " Vectorization)                                                  \n",
            "                                                                 \n",
            " dense_6 (Dense)             (None, 32)                576       \n",
            "                                                                 \n",
            " dense_7 (Dense)             (None, 1)                 33        \n",
            "                                                                 \n",
            "=================================================================\n",
            "Total params: 609\n",
            "Trainable params: 609\n",
            "Non-trainable params: 0\n",
            "_________________________________________________________________\n",
            "Accuracy: 60.000002\n"
          ]
        }
      ]
    },
    {
      "cell_type": "markdown",
      "metadata": {
        "id": "QSGfF7ol1ySP"
      },
      "source": [
        "## Keras word embedding"
      ]
    },
    {
      "cell_type": "code",
      "execution_count": 46,
      "metadata": {
        "ExecuteTime": {
          "end_time": "2023-01-25T09:13:57.944180Z",
          "start_time": "2023-01-25T09:13:57.296277Z"
        },
        "colab": {
          "base_uri": "https://localhost:8080/"
        },
        "id": "cSEj2iXS1ySP",
        "outputId": "790bbb40-965d-453d-b568-0ea5bd8109b7"
      },
      "outputs": [
        {
          "output_type": "stream",
          "name": "stdout",
          "text": [
            "tf.Tensor(\n",
            "[[3 2 6 0 0]\n",
            " [3 2 8 0 0]\n",
            " [4 2 6 0 0]\n",
            " [4 5 9 0 0]\n",
            " [3 5 7 0 0]], shape=(5, 5), dtype=int64) \n",
            "\n",
            "['', '[UNK]', 'like', 'i', 'you', 'hate', 'chocolate', 'wine', 'tea', 'beer']\n"
          ]
        }
      ],
      "source": [
        "# Constants\n",
        "vocab_size = 10  # Maximum vocab size.\n",
        "max_len = 5      # Sequence length to pad the outputs to.\n",
        "embedding_size = 8\n",
        "\n",
        "# with Keras preprocessing layer\n",
        "vectorize_layer = TextVectorization(max_tokens=vocab_size,\n",
        "                                    output_mode='int',\n",
        "                                    output_sequence_length=max_len)\n",
        "# Fit the layer with the corpus\n",
        "vectorize_layer.adapt(texts)\n",
        "print(vectorize_layer(texts), '\\n')\n",
        "print(vectorize_layer.get_vocabulary())"
      ]
    },
    {
      "cell_type": "code",
      "source": [
        "# define the model\n",
        "input_ = Input(shape=(1,), dtype=tf.string)\n",
        "x = vectorize_layer(input_)\n",
        "x = Embedding(vocab_size, embedding_size, name=\"Embedding\")(x)\n",
        "x = Flatten()(x)\n",
        "hidden = Dense(32, activation=\"relu\")(x)\n",
        "output_ = Dense(1, activation='sigmoid')(hidden)\n",
        "model = Model(input_, output_)\n",
        "\n",
        "# summarize the model\n",
        "model.summary()\n",
        "\n",
        "# compile the model\n",
        "model.compile(optimizer='adam', loss='binary_crossentropy', metrics=['accuracy'])\n",
        "\n",
        "# fit the model\n",
        "model.fit(texts, labels, epochs=10, verbose=0)\n",
        "\n",
        "# evaluate the model\n",
        "loss, accuracy = model.evaluate(texts, labels, verbose=0)\n",
        "print('Accuracy: %f' % (accuracy*100))"
      ],
      "metadata": {
        "colab": {
          "base_uri": "https://localhost:8080/"
        },
        "id": "YkTTGFtP_gZw",
        "outputId": "51f1d22b-2df8-475a-8743-f2b6576d28ee"
      },
      "execution_count": 47,
      "outputs": [
        {
          "output_type": "stream",
          "name": "stdout",
          "text": [
            "Model: \"model_5\"\n",
            "_________________________________________________________________\n",
            " Layer (type)                Output Shape              Param #   \n",
            "=================================================================\n",
            " input_6 (InputLayer)        [(None, 1)]               0         \n",
            "                                                                 \n",
            " text_vectorization_29 (Text  (None, 5)                0         \n",
            " Vectorization)                                                  \n",
            "                                                                 \n",
            " Embedding (Embedding)       (None, 5, 8)              80        \n",
            "                                                                 \n",
            " flatten_2 (Flatten)         (None, 40)                0         \n",
            "                                                                 \n",
            " dense_10 (Dense)            (None, 32)                1312      \n",
            "                                                                 \n",
            " dense_11 (Dense)            (None, 1)                 33        \n",
            "                                                                 \n",
            "=================================================================\n",
            "Total params: 1,425\n",
            "Trainable params: 1,425\n",
            "Non-trainable params: 0\n",
            "_________________________________________________________________\n"
          ]
        },
        {
          "output_type": "stream",
          "name": "stderr",
          "text": [
            "WARNING:tensorflow:6 out of the last 6 calls to <function Model.make_test_function.<locals>.test_function at 0x7f44a979a0d0> triggered tf.function retracing. Tracing is expensive and the excessive number of tracings could be due to (1) creating @tf.function repeatedly in a loop, (2) passing tensors with different shapes, (3) passing Python objects instead of tensors. For (1), please define your @tf.function outside of the loop. For (2), @tf.function has reduce_retracing=True option that can avoid unnecessary retracing. For (3), please refer to https://www.tensorflow.org/guide/function#controlling_retracing and https://www.tensorflow.org/api_docs/python/tf/function for  more details.\n"
          ]
        },
        {
          "output_type": "stream",
          "name": "stdout",
          "text": [
            "Accuracy: 80.000001\n"
          ]
        }
      ]
    },
    {
      "cell_type": "markdown",
      "metadata": {
        "id": "5Raqja2e1ySP"
      },
      "source": [
        "## Use a pre-trained embedding : Glove/Word2Vec/FastText embedding\n",
        "\n",
        "**Traditional word embedding** techniques (Glove/Word2Vec/FastText) learn a global word embedding. They first build a global vocabulary using unique words in the documents by ignoring the meaning of words in different context. Then, similar representations are learnt for the words appeared more frequently close each other in the documents. The problem is that in such word representations the words' contextual meaning (the meaning derived from the words' surroundings), is ignored. For example, only one representation is learnt for \"left\" in sentence \"I left my phone on the left side of the table.\" However, \"left\" has two different meanings in the sentence, and needs to have two different representations in the embedding space.\n",
        "\n",
        "For example, consider the two sentences:\n",
        "\n",
        "1. I will show you a valid point of reference and talk to the point.\n",
        "1. Where have you placed the point.\n",
        "\n",
        "The word embeddings from a pre-trained embeddings such as word2vec, the embeddings for the word 'point' is same for both of its occurrences in example 1 and also the same for the word 'point' in example 2. (all three occurrences has same embeddings)."
      ]
    },
    {
      "cell_type": "code",
      "execution_count": 49,
      "metadata": {
        "ExecuteTime": {
          "end_time": "2023-01-25T09:13:58.006266Z",
          "start_time": "2023-01-25T09:13:57.946147Z"
        },
        "colab": {
          "base_uri": "https://localhost:8080/"
        },
        "id": "tHG4DBJa1ySQ",
        "outputId": "0c9bbd57-e39c-4267-8889-9e7fedcc278d"
      },
      "outputs": [
        {
          "output_type": "stream",
          "name": "stdout",
          "text": [
            "tf.Tensor(\n",
            "[[3 2 6 0 0]\n",
            " [3 2 8 0 0]\n",
            " [4 2 6 0 0]\n",
            " [4 5 9 0 0]\n",
            " [3 5 7 0 0]], shape=(5, 5), dtype=int64)\n"
          ]
        }
      ],
      "source": [
        "# Same steps as Keras Embedding\n",
        "vocab_size = 10  # Maximum vocab size.\n",
        "max_len = 5      # Sequence length to pad the outputs to.\n",
        "hidden_size = 16\n",
        "\n",
        "vectorizer = TextVectorization(max_tokens=vocab_size, output_sequence_length=max_len)\n",
        "vectorizer.adapt(texts)\n",
        "print(vectorizer(texts))"
      ]
    },
    {
      "cell_type": "code",
      "execution_count": 50,
      "metadata": {
        "ExecuteTime": {
          "end_time": "2023-01-25T09:13:58.013870Z",
          "start_time": "2023-01-25T09:13:58.008088Z"
        },
        "colab": {
          "base_uri": "https://localhost:8080/"
        },
        "id": "Jw2SS9GH1ySQ",
        "outputId": "82445b73-3e53-489e-86c3-a8e6578476fd"
      },
      "outputs": [
        {
          "output_type": "execute_result",
          "data": {
            "text/plain": [
              "{'': 0,\n",
              " '[UNK]': 1,\n",
              " 'like': 2,\n",
              " 'i': 3,\n",
              " 'you': 4,\n",
              " 'hate': 5,\n",
              " 'chocolate': 6,\n",
              " 'wine': 7,\n",
              " 'tea': 8,\n",
              " 'beer': 9}"
            ]
          },
          "metadata": {},
          "execution_count": 50
        }
      ],
      "source": [
        "# Build word dict\n",
        "voc = vectorizer.get_vocabulary()\n",
        "word_index = dict(zip(voc, range(len(voc))))\n",
        "word_index"
      ]
    },
    {
      "cell_type": "code",
      "execution_count": 51,
      "metadata": {
        "ExecuteTime": {
          "end_time": "2023-01-25T09:13:58.017463Z",
          "start_time": "2023-01-25T09:13:58.015494Z"
        },
        "colab": {
          "base_uri": "https://localhost:8080/"
        },
        "id": "N7nN7fVC1ySQ",
        "outputId": "af7ac80f-3d96-43e8-90de-fc4d07e3b041"
      },
      "outputs": [
        {
          "output_type": "stream",
          "name": "stdout",
          "text": [
            "--2023-02-07 13:38:46--  http://nlp.stanford.edu/data/glove.6B.zip\n",
            "Resolving nlp.stanford.edu (nlp.stanford.edu)... 171.64.67.140\n",
            "Connecting to nlp.stanford.edu (nlp.stanford.edu)|171.64.67.140|:80... connected.\n",
            "HTTP request sent, awaiting response... 302 Found\n",
            "Location: https://nlp.stanford.edu/data/glove.6B.zip [following]\n",
            "--2023-02-07 13:38:46--  https://nlp.stanford.edu/data/glove.6B.zip\n",
            "Connecting to nlp.stanford.edu (nlp.stanford.edu)|171.64.67.140|:443... connected.\n",
            "HTTP request sent, awaiting response... 301 Moved Permanently\n",
            "Location: https://downloads.cs.stanford.edu/nlp/data/glove.6B.zip [following]\n",
            "--2023-02-07 13:38:47--  https://downloads.cs.stanford.edu/nlp/data/glove.6B.zip\n",
            "Resolving downloads.cs.stanford.edu (downloads.cs.stanford.edu)... 171.64.64.22\n",
            "Connecting to downloads.cs.stanford.edu (downloads.cs.stanford.edu)|171.64.64.22|:443... connected.\n",
            "HTTP request sent, awaiting response... 200 OK\n",
            "Length: 862182613 (822M) [application/zip]\n",
            "Saving to: ‘glove.6B.zip’\n",
            "\n",
            "glove.6B.zip        100%[===================>] 822.24M  4.85MB/s    in 2m 39s  \n",
            "\n",
            "2023-02-07 13:41:26 (5.17 MB/s) - ‘glove.6B.zip’ saved [862182613/862182613]\n",
            "\n"
          ]
        }
      ],
      "source": [
        "# Download the pre-trained embedding matrix for exemple from glove\n",
        "!wget http://nlp.stanford.edu/data/glove.6B.zip\n",
        "!unzip -q glove.6B.zip"
      ]
    },
    {
      "cell_type": "code",
      "execution_count": 52,
      "metadata": {
        "ExecuteTime": {
          "end_time": "2023-01-25T09:14:01.788812Z",
          "start_time": "2023-01-25T09:13:58.021161Z"
        },
        "colab": {
          "base_uri": "https://localhost:8080/"
        },
        "id": "YwUe4SDO1ySQ",
        "outputId": "c239678f-476e-414c-e811-c090c6712695"
      },
      "outputs": [
        {
          "output_type": "stream",
          "name": "stdout",
          "text": [
            "Found 400000 word vectors.\n"
          ]
        }
      ],
      "source": [
        "# Make a dict mapping words (strings) to their NumPy vector representation:\n",
        "path_to_glove_file = \"/content/glove.6B.50d.txt\"\n",
        "\n",
        "# pre-trained embedding matrix\n",
        "embedding_dim = 50 # fixed by thepre-trained embedding matrix\n",
        "\n",
        "embeddings_index = {}\n",
        "with open(path_to_glove_file) as f:\n",
        "    for line in f:\n",
        "        word, coefs = line.split(maxsplit=1)\n",
        "        coefs = np.fromstring(coefs, \"f\", sep=\" \")\n",
        "        embeddings_index[word] = coefs\n",
        "\n",
        "print(\"Found %s word vectors.\" % len(embeddings_index))"
      ]
    },
    {
      "cell_type": "markdown",
      "metadata": {
        "id": "_gu0Fwi51ySR"
      },
      "source": [
        "Let's prepare a corresponding embedding matrix that we can use in a Keras Embedding layer. It's a simple NumPy matrix where entry at index i is the pre-trained vector for the word of index i in our vectorizer's vocabulary."
      ]
    },
    {
      "cell_type": "code",
      "execution_count": 54,
      "metadata": {
        "ExecuteTime": {
          "end_time": "2023-01-25T09:14:01.796131Z",
          "start_time": "2023-01-25T09:14:01.791677Z"
        },
        "colab": {
          "base_uri": "https://localhost:8080/"
        },
        "id": "etxz4bKd1ySR",
        "outputId": "edf41715-3d2b-4af7-ff89-86aab560c5b8"
      },
      "outputs": [
        {
          "output_type": "stream",
          "name": "stdout",
          "text": [
            " 0\n",
            "[UNK] 1\n",
            "like 2\n",
            "i 3\n",
            "you 4\n",
            "hate 5\n",
            "chocolate 6\n",
            "wine 7\n",
            "tea 8\n",
            "beer 9\n",
            "Converted 8 words (2 misses)\n"
          ]
        }
      ],
      "source": [
        "num_tokens = len(voc) + 2 # UNK/OOV and PAD\n",
        "hits = 0\n",
        "misses = 0\n",
        "\n",
        "# Prepare embedding matrix\n",
        "embedding_matrix = np.zeros((num_tokens, embedding_dim))\n",
        "for word, i in word_index.items():\n",
        "    print(word, i)\n",
        "    embedding_vector = embeddings_index.get(word)\n",
        "    if embedding_vector is not None:\n",
        "        # Words not found in embedding index will be all-zeros.\n",
        "        # This includes the representation for \"padding\" and \"OOV\"\n",
        "        embedding_matrix[i] = embedding_vector\n",
        "        hits += 1\n",
        "    else:\n",
        "        misses += 1\n",
        "print(\"Converted %d words (%d misses)\" % (hits, misses))"
      ]
    },
    {
      "cell_type": "code",
      "execution_count": 55,
      "metadata": {
        "ExecuteTime": {
          "end_time": "2023-01-25T09:14:01.802967Z",
          "start_time": "2023-01-25T09:14:01.798107Z"
        },
        "code_folding": [],
        "colab": {
          "base_uri": "https://localhost:8080/"
        },
        "id": "UMtzY8eA1ySR",
        "outputId": "b9168036-d146-4fea-b953-0ba0cf1746f3"
      },
      "outputs": [
        {
          "output_type": "execute_result",
          "data": {
            "text/plain": [
              "(12, 50, 5)"
            ]
          },
          "metadata": {},
          "execution_count": 55
        }
      ],
      "source": [
        "# Initialize the Embedding layer with the weight of each word\n",
        "embedding_layer = Embedding(\n",
        "    num_tokens,\n",
        "    embedding_dim,\n",
        "    embeddings_initializer=tf.keras.initializers.Constant(embedding_matrix),\n",
        "    trainable=False,\n",
        ")\n",
        "num_tokens,embedding_dim, max_len"
      ]
    },
    {
      "cell_type": "code",
      "execution_count": 56,
      "metadata": {
        "ExecuteTime": {
          "end_time": "2023-01-25T09:14:02.352277Z",
          "start_time": "2023-01-25T09:14:01.804338Z"
        },
        "colab": {
          "base_uri": "https://localhost:8080/"
        },
        "id": "9-igvvGS1ySR",
        "outputId": "611c28e0-c911-4b2a-ef24-66892534df03"
      },
      "outputs": [
        {
          "output_type": "stream",
          "name": "stdout",
          "text": [
            "Model: \"model_6\"\n",
            "_________________________________________________________________\n",
            " Layer (type)                Output Shape              Param #   \n",
            "=================================================================\n",
            " input_7 (InputLayer)        [(None, 1)]               0         \n",
            "                                                                 \n",
            " text_vectorization_29 (Text  (None, 5)                0         \n",
            " Vectorization)                                                  \n",
            "                                                                 \n",
            " embedding (Embedding)       (None, 5, 50)             600       \n",
            "                                                                 \n",
            " flatten_3 (Flatten)         (None, 250)               0         \n",
            "                                                                 \n",
            " dense_12 (Dense)            (None, 32)                8032      \n",
            "                                                                 \n",
            " dense_13 (Dense)            (None, 1)                 33        \n",
            "                                                                 \n",
            "=================================================================\n",
            "Total params: 8,665\n",
            "Trainable params: 8,065\n",
            "Non-trainable params: 600\n",
            "_________________________________________________________________\n",
            "Accuracy: 100.000000\n"
          ]
        }
      ],
      "source": [
        "# define the model\n",
        "input_ = Input(shape=(1,), dtype=tf.string)\n",
        "x = vectorize_layer(input_)\n",
        "x = embedding_layer(x)\n",
        "x = Flatten()(x)\n",
        "hidden = Dense(32, activation=\"relu\")(x)\n",
        "output_ = Dense(1, activation='sigmoid')(hidden)\n",
        "model = Model(input_, output_)\n",
        "\n",
        "# summarize the model\n",
        "model.summary()\n",
        "\n",
        "# compile the model\n",
        "model.compile(optimizer='adam', loss='binary_crossentropy', metrics=['accuracy'])\n",
        "\n",
        "# fit the model\n",
        "model.fit(texts, labels, epochs=10, verbose=0)\n",
        "\n",
        "# evaluate the model\n",
        "loss, accuracy = model.evaluate(texts, labels, verbose=0)\n",
        "print('Accuracy: %f' % (accuracy*100))"
      ]
    },
    {
      "cell_type": "markdown",
      "metadata": {
        "id": "UFPk0bU-1ySR"
      },
      "source": [
        "## Train your own Word2Vec model with gensim"
      ]
    },
    {
      "cell_type": "code",
      "execution_count": 57,
      "metadata": {
        "ExecuteTime": {
          "end_time": "2023-01-25T09:14:02.356962Z",
          "start_time": "2023-01-25T09:14:02.354619Z"
        },
        "id": "mMfGeuo51ySR"
      },
      "outputs": [],
      "source": [
        "#!pip install gensim"
      ]
    },
    {
      "cell_type": "markdown",
      "metadata": {
        "id": "3zsaAl0o1ySS"
      },
      "source": [
        "To begin with, you need data to train a model. We will use part of the Brown corpus."
      ]
    },
    {
      "cell_type": "code",
      "execution_count": 59,
      "metadata": {
        "ExecuteTime": {
          "end_time": "2023-01-25T09:14:04.380207Z",
          "start_time": "2023-01-25T09:14:02.358684Z"
        },
        "colab": {
          "base_uri": "https://localhost:8080/"
        },
        "id": "K4sVqU7c1ySS",
        "outputId": "47689e67-781d-4abc-91fb-27791ad26a2e"
      },
      "outputs": [
        {
          "output_type": "stream",
          "name": "stderr",
          "text": [
            "[nltk_data] Downloading package brown to /root/nltk_data...\n",
            "[nltk_data]   Unzipping corpora/brown.zip.\n"
          ]
        }
      ],
      "source": [
        "import nltk\n",
        "nltk.download('brown')\n",
        "from nltk.corpus import brown\n",
        "from gensim.models import Word2Vec\n",
        "\n",
        "train_set = brown.sents()[:10000]"
      ]
    },
    {
      "cell_type": "markdown",
      "metadata": {
        "id": "RTuKngED1ySS"
      },
      "source": [
        "Let's go ahead and train a model on our corpus. Don't worry about the training parameters much for now, we'll revisit them later."
      ]
    },
    {
      "cell_type": "code",
      "execution_count": 60,
      "metadata": {
        "ExecuteTime": {
          "end_time": "2023-01-25T09:14:10.579790Z",
          "start_time": "2023-01-25T09:14:04.382471Z"
        },
        "colab": {
          "base_uri": "https://localhost:8080/"
        },
        "id": "HxaWkVjo1ySS",
        "outputId": "b0a05cb8-5c51-4822-f865-a806daf0a4dc"
      },
      "outputs": [
        {
          "output_type": "stream",
          "name": "stderr",
          "text": [
            "WARNING:gensim.models.base_any2vec:consider setting layer size to a multiple of 4 for greater performance\n"
          ]
        }
      ],
      "source": [
        "model = Word2Vec(sentences=train_set, size=embedding_dim, window=5, min_count=1, workers=4)\n",
        "#model = Word2Vec(sentences=common_texts, vector_size=embedding_dim, window=5, min_count=1, workers=4)"
      ]
    },
    {
      "cell_type": "markdown",
      "metadata": {
        "id": "SU67fQbm1ySS"
      },
      "source": [
        "Once we have our model, we can use it.\n",
        "\n",
        "The main part of the model is model.wv\\ , where \"wv\" stands for \"word vectors\"."
      ]
    },
    {
      "cell_type": "code",
      "execution_count": 61,
      "metadata": {
        "ExecuteTime": {
          "end_time": "2023-01-25T09:14:10.586511Z",
          "start_time": "2023-01-25T09:14:10.581863Z"
        },
        "colab": {
          "base_uri": "https://localhost:8080/"
        },
        "id": "CRQLuttX1ySS",
        "outputId": "cf5a85f0-41eb-4ef3-e013-f83e81e38def"
      },
      "outputs": [
        {
          "output_type": "execute_result",
          "data": {
            "text/plain": [
              "array([ 5.29496819e-02, -4.46372516e-02, -3.79595250e-01,  2.95849115e-01,\n",
              "        1.08769089e-01, -7.19127432e-02, -4.45467532e-01, -2.35504746e-01,\n",
              "       -1.18837059e-02,  1.12652726e-01, -1.52235314e-01, -3.19412276e-02,\n",
              "        2.01125339e-01, -2.01649100e-01,  5.45171946e-02,  1.28907412e-01,\n",
              "       -3.49997550e-01,  5.38622178e-02,  2.81889439e-01, -6.46037683e-02,\n",
              "        7.88322538e-02, -4.77848798e-02, -1.81927830e-01,  1.71632349e-01,\n",
              "       -3.46808578e-04,  8.17758739e-02, -9.10655409e-02,  8.46376643e-02,\n",
              "       -1.98376417e-01, -8.74609277e-02,  3.65990520e-01, -2.16667965e-01,\n",
              "        2.88263410e-01,  3.20855714e-02,  3.44788246e-02,  6.63531944e-02,\n",
              "       -2.13096783e-01, -8.97528976e-02,  1.00009628e-01,  2.05221653e-01,\n",
              "       -2.36675024e-01, -5.57820685e-02,  3.92683707e-02, -2.90945452e-02,\n",
              "        1.91943586e-01,  1.19256839e-01,  1.04865886e-01,  1.22915819e-01,\n",
              "       -1.84769899e-01,  1.04869008e-01], dtype=float32)"
            ]
          },
          "metadata": {},
          "execution_count": 61
        }
      ],
      "source": [
        "vector = model.wv['university']  # get numpy vector of a word\n",
        "vector"
      ]
    },
    {
      "cell_type": "code",
      "execution_count": 70,
      "metadata": {
        "ExecuteTime": {
          "end_time": "2023-01-25T09:14:10.592740Z",
          "start_time": "2023-01-25T09:14:10.588512Z"
        },
        "colab": {
          "base_uri": "https://localhost:8080/"
        },
        "id": "G61JUyQB1ySS",
        "outputId": "39372ab3-6c2b-4254-c623-f2d701f499e0"
      },
      "outputs": [
        {
          "output_type": "execute_result",
          "data": {
            "text/plain": [
              "0.998015"
            ]
          },
          "metadata": {},
          "execution_count": 70
        }
      ],
      "source": [
        "model.similarity('university','school')"
      ]
    },
    {
      "cell_type": "code",
      "execution_count": 71,
      "metadata": {
        "ExecuteTime": {
          "end_time": "2023-01-25T09:14:10.610165Z",
          "start_time": "2023-01-25T09:14:10.594936Z"
        },
        "colab": {
          "base_uri": "https://localhost:8080/"
        },
        "id": "QIj6htjZ1ySS",
        "outputId": "b8edc6d0-e232-4b51-8eea-1269c507053a"
      },
      "outputs": [
        {
          "output_type": "execute_result",
          "data": {
            "text/plain": [
              "[('meeting', 0.9993147253990173),\n",
              " ('program', 0.9993127584457397),\n",
              " ('death', 0.9992231130599976),\n",
              " ('state', 0.9992156624794006),\n",
              " ('attention', 0.9991841316223145),\n",
              " ('same', 0.9991660714149475),\n",
              " ('series', 0.9991559982299805),\n",
              " ('other', 0.9991316199302673),\n",
              " ('new', 0.9991243481636047),\n",
              " ('board', 0.9991194605827332)]"
            ]
          },
          "metadata": {},
          "execution_count": 71
        }
      ],
      "source": [
        "sims = model.wv.most_similar('university', topn=10)  # get other similar words\n",
        "sims"
      ]
    },
    {
      "cell_type": "markdown",
      "metadata": {
        "ExecuteTime": {
          "end_time": "2022-01-21T14:04:08.927613Z",
          "start_time": "2022-01-21T14:04:08.890931Z"
        },
        "id": "WCPaVYGZ1yST"
      },
      "source": [
        "Training non-trivial models can take time.  Once the model is built, it can be saved using standard gensim methods:"
      ]
    },
    {
      "cell_type": "code",
      "execution_count": 72,
      "metadata": {
        "ExecuteTime": {
          "end_time": "2023-01-25T09:14:10.866751Z",
          "start_time": "2023-01-25T09:14:10.612442Z"
        },
        "colab": {
          "base_uri": "https://localhost:8080/"
        },
        "id": "5kQXxQh21yST",
        "outputId": "9411f177-c3d0-4142-b98b-ebc625c9e9b8"
      },
      "outputs": [
        {
          "output_type": "stream",
          "name": "stdout",
          "text": [
            "/tmp/gensim-model-km2g9gpn\n"
          ]
        }
      ],
      "source": [
        "import tempfile\n",
        "\n",
        "with tempfile.NamedTemporaryFile(prefix='gensim-model-', delete=False) as tmp:\n",
        "    temporary_filepath = tmp.name\n",
        "    print(temporary_filepath)\n",
        "    model.save(temporary_filepath)\n",
        "    #\n",
        "    # The model is now safely stored in the filepath.\n",
        "    # You can copy it to other machines, share it with others, etc.\n",
        "    #\n",
        "    # To load a saved model:\n",
        "    #\n",
        "    new_model = Word2Vec.load(temporary_filepath)"
      ]
    },
    {
      "cell_type": "markdown",
      "metadata": {
        "id": "JNmC7QSq1yST"
      },
      "source": [
        "If you save the model you can continue training it later:"
      ]
    },
    {
      "cell_type": "code",
      "execution_count": 74,
      "metadata": {
        "ExecuteTime": {
          "end_time": "2023-01-25T09:14:10.880240Z",
          "start_time": "2023-01-25T09:14:10.868501Z"
        },
        "colab": {
          "base_uri": "https://localhost:8080/"
        },
        "id": "8JhhcV4w1yST",
        "outputId": "bca921db-f218-478a-e753-88e2f6bd9609"
      },
      "outputs": [
        {
          "output_type": "stream",
          "name": "stderr",
          "text": [
            "[nltk_data] Downloading package punkt to /root/nltk_data...\n",
            "[nltk_data]   Unzipping tokenizers/punkt.zip.\n",
            "WARNING:gensim.models.base_any2vec:Effective 'alpha' higher than previous training cycles\n",
            "WARNING:gensim.models.base_any2vec:EPOCH - 1 : supplied example count (5) did not equal expected count (1)\n",
            "WARNING:gensim.models.base_any2vec:under 10 jobs per worker: consider setting a smaller `batch_words' for smoother alpha decay\n"
          ]
        },
        {
          "output_type": "execute_result",
          "data": {
            "text/plain": [
              "(15, 15)"
            ]
          },
          "metadata": {},
          "execution_count": 74
        }
      ],
      "source": [
        "from nltk.tokenize import word_tokenize\n",
        "nltk.download('punkt')\n",
        "new_model.train([word_tokenize(sent) for sent in texts], total_examples=1, epochs=1)"
      ]
    },
    {
      "cell_type": "markdown",
      "metadata": {
        "id": "B0Bz1JUY1yST"
      },
      "source": [
        "If you no longer need to retrain the model, it can be saved with only the vectors and their keys. This results in a much smaller and faster object that can be loaded more quickly."
      ]
    },
    {
      "cell_type": "code",
      "execution_count": 75,
      "metadata": {
        "ExecuteTime": {
          "end_time": "2023-01-25T09:14:10.991257Z",
          "start_time": "2023-01-25T09:14:10.881805Z"
        },
        "colab": {
          "base_uri": "https://localhost:8080/"
        },
        "id": "1CXeicoW1yST",
        "outputId": "2503155f-5976-40ce-fbac-d60ca68dee16"
      },
      "outputs": [
        {
          "output_type": "execute_result",
          "data": {
            "text/plain": [
              "array([ 5.29496819e-02, -4.46372516e-02, -3.79595250e-01,  2.95849115e-01,\n",
              "        1.08769089e-01, -7.19127432e-02, -4.45467532e-01, -2.35504746e-01,\n",
              "       -1.18837059e-02,  1.12652726e-01, -1.52235314e-01, -3.19412276e-02,\n",
              "        2.01125339e-01, -2.01649100e-01,  5.45171946e-02,  1.28907412e-01,\n",
              "       -3.49997550e-01,  5.38622178e-02,  2.81889439e-01, -6.46037683e-02,\n",
              "        7.88322538e-02, -4.77848798e-02, -1.81927830e-01,  1.71632349e-01,\n",
              "       -3.46808578e-04,  8.17758739e-02, -9.10655409e-02,  8.46376643e-02,\n",
              "       -1.98376417e-01, -8.74609277e-02,  3.65990520e-01, -2.16667965e-01,\n",
              "        2.88263410e-01,  3.20855714e-02,  3.44788246e-02,  6.63531944e-02,\n",
              "       -2.13096783e-01, -8.97528976e-02,  1.00009628e-01,  2.05221653e-01,\n",
              "       -2.36675024e-01, -5.57820685e-02,  3.92683707e-02, -2.90945452e-02,\n",
              "        1.91943586e-01,  1.19256839e-01,  1.04865886e-01,  1.22915819e-01,\n",
              "       -1.84769899e-01,  1.04869008e-01], dtype=float32)"
            ]
          },
          "metadata": {},
          "execution_count": 75
        }
      ],
      "source": [
        "from gensim.models import KeyedVectors\n",
        "\n",
        "# Store just the words + their trained embeddings.\n",
        "word_vectors = new_model.wv\n",
        "word_vectors.save(\"word2vec.wordvectors\")\n",
        "\n",
        "# Load back with memory-mapping = read-only, shared across processes.\n",
        "new_word_vectors = KeyedVectors.load(\"word2vec.wordvectors\", mmap='r')\n",
        "\n",
        "vector = new_word_vectors['university']  # Get numpy vector of a word\n",
        "vector"
      ]
    },
    {
      "cell_type": "markdown",
      "metadata": {
        "id": "h5YqFkNw1yST"
      },
      "source": [
        "You can then use the template exactly as if it were a Glove/Word2Vec/FastText template retrieved from the Internet."
      ]
    },
    {
      "cell_type": "code",
      "execution_count": 76,
      "metadata": {
        "ExecuteTime": {
          "end_time": "2023-01-25T09:14:10.997724Z",
          "start_time": "2023-01-25T09:14:10.992845Z"
        },
        "colab": {
          "base_uri": "https://localhost:8080/"
        },
        "id": "bAxTuYdJ1ySU",
        "outputId": "f58df23a-7a38-455f-d06b-2e9b38ce6ab8"
      },
      "outputs": [
        {
          "output_type": "execute_result",
          "data": {
            "text/plain": [
              "{'': 0,\n",
              " '[UNK]': 1,\n",
              " 'like': 2,\n",
              " 'i': 3,\n",
              " 'you': 4,\n",
              " 'hate': 5,\n",
              " 'chocolate': 6,\n",
              " 'wine': 7,\n",
              " 'tea': 8,\n",
              " 'beer': 9}"
            ]
          },
          "metadata": {},
          "execution_count": 76
        }
      ],
      "source": [
        "# Build word dict\n",
        "voc = vectorizer.get_vocabulary()\n",
        "word_index = dict(zip(voc, range(len(voc))))\n",
        "word_index"
      ]
    },
    {
      "cell_type": "code",
      "execution_count": 77,
      "metadata": {
        "ExecuteTime": {
          "end_time": "2023-01-25T09:14:11.002974Z",
          "start_time": "2023-01-25T09:14:10.999368Z"
        },
        "colab": {
          "base_uri": "https://localhost:8080/"
        },
        "id": "tl2jRP3P1ySU",
        "outputId": "845420f9-596a-4e5c-d679-5f495b7f0f3a"
      },
      "outputs": [
        {
          "output_type": "stream",
          "name": "stdout",
          "text": [
            "Converted 7 words (3 misses)\n"
          ]
        }
      ],
      "source": [
        "num_tokens = len(voc) + 2\n",
        "hits = 0\n",
        "misses = 0\n",
        "\n",
        "# Prepare embedding matrix\n",
        "embedding_matrix = np.zeros((num_tokens, embedding_dim))\n",
        "for word, i in word_index.items():\n",
        "    try:\n",
        "        # Words not found in embedding index will be all-zeros.\n",
        "        # This includes the representation for \"padding\" and \"OOV\"\n",
        "        embedding_matrix[i] = new_word_vectors[word]\n",
        "        hits += 1\n",
        "    except :\n",
        "        misses += 1\n",
        "print(\"Converted %d words (%d misses)\" % (hits, misses))"
      ]
    },
    {
      "cell_type": "code",
      "execution_count": 78,
      "metadata": {
        "ExecuteTime": {
          "end_time": "2023-01-25T09:14:11.011460Z",
          "start_time": "2023-01-25T09:14:11.008110Z"
        },
        "id": "cNihSRUe1ySU"
      },
      "outputs": [],
      "source": [
        "embedding_layer = Embedding(\n",
        "    num_tokens,\n",
        "    embedding_dim,\n",
        "    embeddings_initializer=tf.keras.initializers.Constant(embedding_matrix),\n",
        "    trainable=False,\n",
        "    name=\"Embedding\"\n",
        ")"
      ]
    },
    {
      "cell_type": "code",
      "execution_count": 79,
      "metadata": {
        "ExecuteTime": {
          "end_time": "2023-01-25T09:14:11.577234Z",
          "start_time": "2023-01-25T09:14:11.013833Z"
        },
        "colab": {
          "base_uri": "https://localhost:8080/"
        },
        "id": "A9df5KM81ySU",
        "outputId": "326870c4-fda5-479e-b244-b0b976365e6d"
      },
      "outputs": [
        {
          "output_type": "stream",
          "name": "stdout",
          "text": [
            "Model: \"model_7\"\n",
            "_________________________________________________________________\n",
            " Layer (type)                Output Shape              Param #   \n",
            "=================================================================\n",
            " Input (InputLayer)          [(None, 1)]               0         \n",
            "                                                                 \n",
            " text_vectorization_29 (Text  (None, 5)                0         \n",
            " Vectorization)                                                  \n",
            "                                                                 \n",
            " Embedding (Embedding)       (None, 5, 50)             600       \n",
            "                                                                 \n",
            " flatten_4 (Flatten)         (None, 250)               0         \n",
            "                                                                 \n",
            " Hidden (Dense)              (None, 32)                8032      \n",
            "                                                                 \n",
            " Output (Dense)              (None, 1)                 33        \n",
            "                                                                 \n",
            "=================================================================\n",
            "Total params: 8,665\n",
            "Trainable params: 8,065\n",
            "Non-trainable params: 600\n",
            "_________________________________________________________________\n",
            "Accuracy: 80.000001\n"
          ]
        }
      ],
      "source": [
        "# define the model\n",
        "input_ = Input(shape=(1,), dtype=tf.string, name=\"Input\")\n",
        "x = vectorize_layer(input_)\n",
        "x = embedding_layer(x)\n",
        "x = Flatten()(x)\n",
        "hidden = Dense(32, activation=\"relu\", name=\"Hidden\")(x)\n",
        "output_ = Dense(1, activation='sigmoid', name=\"Output\")(hidden)\n",
        "model = Model(input_, output_)\n",
        "\n",
        "# summarize the model\n",
        "model.summary()\n",
        "\n",
        "# compile the model\n",
        "model.compile(optimizer='adam', loss='binary_crossentropy', metrics=['accuracy'])\n",
        "\n",
        "# fit the model\n",
        "model.fit(texts, labels, epochs=10, verbose=0)\n",
        "\n",
        "# evaluate the model\n",
        "loss, accuracy = model.evaluate(texts, labels, verbose=0)\n",
        "print('Accuracy: %f' % (accuracy*100))"
      ]
    },
    {
      "cell_type": "markdown",
      "metadata": {
        "id": "eWDFob0a1ySU"
      },
      "source": [
        "## Use a all the pre-trained embedding : Glove/Word2Vec/FastText embedding (this week)\n",
        "\n",
        "Up to now, the embedding is a matrix of size vocab_size * embedding_size\n",
        "* vocab_size being the number of tokens in the training data: for example in the previous situation, this size was fixed at 5000\n",
        "* The objective here is to have a matrix of size pre_traine"
      ]
    },
    {
      "cell_type": "code",
      "execution_count": 80,
      "metadata": {
        "ExecuteTime": {
          "end_time": "2023-01-25T09:14:15.416894Z",
          "start_time": "2023-01-25T09:14:11.579332Z"
        },
        "id": "C9LcNlk-1ySU"
      },
      "outputs": [],
      "source": [
        "# Build the vocabulary list\n",
        "# Build the embedding matrix\n",
        "path_to_glove_file = \"/content/glove.6B.50d.txt\"\n",
        "\n",
        "vocabulary = []\n",
        "embedding_matrix = [np.zeros((embedding_dim)),\n",
        "                    np.zeros((embedding_dim))] # See later : 0=PAD, 1=OOV\n",
        "with open(path_to_glove_file) as f:\n",
        "    for line in f:\n",
        "        word, coefs = line.split(maxsplit=1)\n",
        "        coefs = np.fromstring(coefs, \"f\", sep=\" \")\n",
        "        vocabulary += [word]\n",
        "        embedding_matrix += [coefs]\n",
        "embedding_matrix = np.array(embedding_matrix)"
      ]
    },
    {
      "cell_type": "code",
      "execution_count": 81,
      "metadata": {
        "ExecuteTime": {
          "end_time": "2023-01-25T09:14:15.422399Z",
          "start_time": "2023-01-25T09:14:15.418657Z"
        },
        "colab": {
          "base_uri": "https://localhost:8080/"
        },
        "id": "R2V6VZ0D1ySU",
        "outputId": "12c24ce4-124d-4781-e17d-1f1bd08330e0"
      },
      "outputs": [
        {
          "output_type": "execute_result",
          "data": {
            "text/plain": [
              "(400002, 50)"
            ]
          },
          "metadata": {},
          "execution_count": 81
        }
      ],
      "source": [
        "embedding_matrix.shape"
      ]
    },
    {
      "cell_type": "code",
      "execution_count": 82,
      "metadata": {
        "ExecuteTime": {
          "end_time": "2023-01-25T09:14:15.427870Z",
          "start_time": "2023-01-25T09:14:15.424304Z"
        },
        "colab": {
          "base_uri": "https://localhost:8080/"
        },
        "id": "BNU0XVnn1ySU",
        "outputId": "23735ab2-87ae-48af-e11e-c62d3c1f664d"
      },
      "outputs": [
        {
          "output_type": "execute_result",
          "data": {
            "text/plain": [
              "(400000, 400002)"
            ]
          },
          "metadata": {},
          "execution_count": 82
        }
      ],
      "source": [
        "vocab_size = len(embedding_matrix)\n",
        "len(vocabulary), len(embedding_matrix), "
      ]
    },
    {
      "cell_type": "code",
      "execution_count": 83,
      "metadata": {
        "ExecuteTime": {
          "end_time": "2023-01-25T09:14:18.393063Z",
          "start_time": "2023-01-25T09:14:15.429589Z"
        },
        "colab": {
          "base_uri": "https://localhost:8080/"
        },
        "id": "QLyswtl91ySV",
        "outputId": "08f070a1-cfcf-4706-fa41-7d015fbfebc1"
      },
      "outputs": [
        {
          "output_type": "execute_result",
          "data": {
            "text/plain": [
              "400002"
            ]
          },
          "metadata": {},
          "execution_count": 83
        }
      ],
      "source": [
        "# Build vectorizer layer and initialize it with the vocabulary list\n",
        "vectorize_layer = tf.keras.layers.TextVectorization(\n",
        "        max_tokens=len(embedding_matrix),\n",
        "        output_mode=\"int\",\n",
        "        output_sequence_length=max_len,\n",
        "        vocabulary=vocabulary  # Pass the vocabulary - no need to adapt the layer\n",
        "                               # Contain the padding token ('') and OOV token ('[UNK]')\n",
        ")\n",
        "len(vectorize_layer.get_vocabulary())"
      ]
    },
    {
      "cell_type": "code",
      "execution_count": 84,
      "metadata": {
        "ExecuteTime": {
          "end_time": "2023-01-25T09:14:19.303668Z",
          "start_time": "2023-01-25T09:14:18.395263Z"
        },
        "colab": {
          "base_uri": "https://localhost:8080/"
        },
        "id": "Jzf_PDrd1ySV",
        "outputId": "5910cd80-6f22-4f41-9695-6cd91e539cb3"
      },
      "outputs": [
        {
          "output_type": "execute_result",
          "data": {
            "text/plain": [
              "['', '[UNK]', 'the', ',', '.', 'of', 'to', 'and', 'in', 'a']"
            ]
          },
          "metadata": {},
          "execution_count": 84
        }
      ],
      "source": [
        "# Get the begining of the vocabulary list\n",
        "vectorize_layer.get_vocabulary()[:10]"
      ]
    },
    {
      "cell_type": "code",
      "execution_count": 85,
      "metadata": {
        "ExecuteTime": {
          "end_time": "2023-01-25T09:14:19.645232Z",
          "start_time": "2023-01-25T09:14:19.305957Z"
        },
        "colab": {
          "base_uri": "https://localhost:8080/"
        },
        "id": "4hWlsOlq1ySV",
        "outputId": "c0e3d445-a445-43f6-a6d2-95f76a78a152"
      },
      "outputs": [
        {
          "output_type": "execute_result",
          "data": {
            "text/plain": [
              "<tf.Tensor: shape=(5,), dtype=int64, numpy=array([     2, 400001,      1,      0,      0])>"
            ]
          },
          "metadata": {},
          "execution_count": 85
        }
      ],
      "source": [
        "# Test vectorizer layer\n",
        "vectorize_layer('the sandberger oov')"
      ]
    },
    {
      "cell_type": "code",
      "execution_count": 86,
      "metadata": {
        "ExecuteTime": {
          "end_time": "2023-01-25T09:14:19.649232Z",
          "start_time": "2023-01-25T09:14:19.647255Z"
        },
        "id": "uk5a6-E31ySV"
      },
      "outputs": [],
      "source": [
        "# The rest is similar to an approach with Keras embedding"
      ]
    },
    {
      "cell_type": "code",
      "execution_count": 87,
      "metadata": {
        "ExecuteTime": {
          "end_time": "2023-01-25T09:14:19.655079Z",
          "start_time": "2023-01-25T09:14:19.651542Z"
        },
        "id": "QNslZDH61ySV"
      },
      "outputs": [],
      "source": [
        "# Define embedding layer\n",
        "embedding_layer = Embedding(\n",
        "    vocab_size,\n",
        "    embedding_dim,\n",
        "    embeddings_initializer=tf.keras.initializers.Constant(embedding_matrix),\n",
        "    trainable=False, # False: don't fine tune the embedding matrix / True: fine tune\n",
        "    name=\"Embedding\"\n",
        ")"
      ]
    },
    {
      "cell_type": "code",
      "execution_count": 88,
      "metadata": {
        "ExecuteTime": {
          "end_time": "2023-01-25T09:14:20.149052Z",
          "start_time": "2023-01-25T09:14:19.657430Z"
        },
        "colab": {
          "base_uri": "https://localhost:8080/"
        },
        "id": "9vxZs53a1ySV",
        "outputId": "70167533-f186-4651-d02c-b5a74cd6c32c"
      },
      "outputs": [
        {
          "output_type": "stream",
          "name": "stdout",
          "text": [
            "Accuracy: 80.000001\n"
          ]
        }
      ],
      "source": [
        "# compile the model\n",
        "model.compile(optimizer='adam', loss='binary_crossentropy', metrics=['accuracy'])\n",
        "\n",
        "# fit the model\n",
        "model.fit(texts, labels, epochs=10, verbose=0)\n",
        "\n",
        "# evaluate the model\n",
        "loss, accuracy = model.evaluate(texts, labels, verbose=0)\n",
        "print('Accuracy: %f' % (accuracy*100))"
      ]
    },
    {
      "cell_type": "code",
      "source": [],
      "metadata": {
        "id": "CDKHDWNrSVQU"
      },
      "execution_count": null,
      "outputs": []
    }
  ],
  "metadata": {
    "kernelspec": {
      "display_name": "Python 3",
      "language": "python",
      "name": "python3"
    },
    "language_info": {
      "codemirror_mode": {
        "name": "ipython",
        "version": 3
      },
      "file_extension": ".py",
      "mimetype": "text/x-python",
      "name": "python",
      "nbconvert_exporter": "python",
      "pygments_lexer": "ipython3",
      "version": "3.8.8"
    },
    "latex_envs": {
      "LaTeX_envs_menu_present": true,
      "autoclose": true,
      "autocomplete": true,
      "bibliofile": "biblio.bib",
      "cite_by": "apalike",
      "current_citInitial": 1,
      "eqLabelWithNumbers": true,
      "eqNumInitial": 1,
      "hotkeys": {
        "equation": "Ctrl-E",
        "itemize": "Ctrl-I"
      },
      "labels_anchors": false,
      "latex_user_defs": false,
      "report_style_numbering": false,
      "user_envs_cfg": false
    },
    "nbTranslate": {
      "displayLangs": [
        "*"
      ],
      "hotkey": "alt-t",
      "langInMainMenu": true,
      "sourceLang": "en",
      "targetLang": "fr",
      "useGoogleTranslate": true
    },
    "toc": {
      "base_numbering": 1,
      "nav_menu": {},
      "number_sections": true,
      "sideBar": true,
      "skip_h1_title": true,
      "title_cell": "Table of Contents",
      "title_sidebar": "Contents",
      "toc_cell": true,
      "toc_position": {},
      "toc_section_display": true,
      "toc_window_display": false
    },
    "colab": {
      "provenance": []
    }
  },
  "nbformat": 4,
  "nbformat_minor": 0
}