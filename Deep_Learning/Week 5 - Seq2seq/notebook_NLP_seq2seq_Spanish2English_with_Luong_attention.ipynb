{
  "cells": [
    {
      "cell_type": "markdown",
      "id": "78508b33",
      "metadata": {
        "ExecuteTime": {
          "end_time": "2022-09-22T13:37:04.063861Z",
          "start_time": "2022-09-22T13:37:04.055329Z"
        },
        "id": "78508b33"
      },
      "source": [
        "# Sequence to Sequence (seq2seq) variable length and Attention\n",
        "\n",
        "The most popular sequence-to-sequence task is translation: usually, from one natural language to another. In the last couple of years, commercial systems became surprisingly good at machine translation - check out, for example, Google Translate, Yandex Translate, DeepL Translator, Bing Microsoft Translator.\n",
        "\n",
        "More information on the lecture and [here](https://lena-voita.github.io/nlp_course/seq2seq_and_attention.html) (basics+attention part)"
      ]
    },
    {
      "cell_type": "code",
      "execution_count": 2,
      "id": "d0de8cd7",
      "metadata": {
        "ExecuteTime": {
          "end_time": "2023-01-26T17:17:34.909908Z",
          "start_time": "2023-01-26T17:17:33.831458Z"
        },
        "id": "d0de8cd7"
      },
      "outputs": [],
      "source": [
        "import unicodedata\n",
        "import re\n",
        "import numpy as np\n",
        "import pandas as pd\n",
        "import os\n",
        "import io\n",
        "import time"
      ]
    },
    {
      "cell_type": "code",
      "execution_count": 3,
      "id": "71870716",
      "metadata": {
        "ExecuteTime": {
          "end_time": "2023-01-26T17:17:37.366411Z",
          "start_time": "2023-01-26T17:17:36.131204Z"
        },
        "id": "71870716"
      },
      "outputs": [],
      "source": [
        "import matplotlib.pyplot as plt\n",
        "import matplotlib.ticker as ticker"
      ]
    },
    {
      "cell_type": "code",
      "execution_count": 4,
      "id": "df7ae156",
      "metadata": {
        "ExecuteTime": {
          "end_time": "2023-01-26T17:17:42.537097Z",
          "start_time": "2023-01-26T17:17:37.370117Z"
        },
        "id": "df7ae156"
      },
      "outputs": [],
      "source": [
        "import tensorflow as tf\n",
        "\n",
        "from tensorflow.keras.models import Model\n",
        "from tensorflow.keras import optimizers\n",
        "from tensorflow.keras import layers\n",
        "from tensorflow.keras.callbacks import EarlyStopping\n",
        "from tensorflow.keras.utils import plot_model"
      ]
    },
    {
      "cell_type": "markdown",
      "id": "ae82589a",
      "metadata": {
        "id": "ae82589a"
      },
      "source": [
        "## Data\n",
        "\n",
        "The data is available here: http://www.manythings.org/anki/. They consist of a set of pairs in the following format:\n",
        "\n",
        "  `May I borrow this book?`  `¿Puedo tomar prestado este libro?`\n",
        "\n",
        "There are a variety of languages available, English-Spanish data will be used.\n",
        "\n",
        "The processing of the data will consist of the following steps:\n",
        "\n",
        "1. Removal of special characters\n",
        "1. adding a start or end token to each sentence.\n",
        "1. Creating the vectorizer for each of the two languages"
      ]
    },
    {
      "cell_type": "code",
      "execution_count": 5,
      "id": "3480543e",
      "metadata": {
        "ExecuteTime": {
          "end_time": "2023-01-26T17:18:26.593257Z",
          "start_time": "2023-01-26T17:18:26.418041Z"
        },
        "colab": {
          "base_uri": "https://localhost:8080/"
        },
        "id": "3480543e",
        "outputId": "53a9da35-9d5f-4fc2-f365-eb9d0358fbd3"
      },
      "outputs": [
        {
          "output_type": "stream",
          "name": "stdout",
          "text": [
            "Downloading data from http://storage.googleapis.com/download.tensorflow.org/data/spa-eng.zip\n",
            "2638744/2638744 [==============================] - 0s 0us/step\n"
          ]
        }
      ],
      "source": [
        "# Data download\n",
        "def download_nmt(corpus=\"spa-eng\"):\n",
        "    path_to_zip = tf.keras.utils.get_file(corpus+\".zip\",\n",
        "                                          origin=\"http://storage.googleapis.com/download.tensorflow.org/data/\"+corpus+\".zip\",\n",
        "                                          extract=True)\n",
        "    path_to_file = os.path.dirname(path_to_zip)+\"/spa-eng/spa.txt\"\n",
        "    return path_to_file\n",
        "\n",
        "file_path = download_nmt()"
      ]
    },
    {
      "cell_type": "code",
      "execution_count": 6,
      "id": "aafee2bd",
      "metadata": {
        "ExecuteTime": {
          "end_time": "2023-01-26T17:18:31.264620Z",
          "start_time": "2023-01-26T17:18:31.257606Z"
        },
        "id": "aafee2bd"
      },
      "outputs": [],
      "source": [
        "# Process the data\n",
        "# just removing some caracters to reduce the number of data\n",
        "\n",
        "def step1(sent):\n",
        "    # sent = on sentence in a language\n",
        "    def unicode_to_ascii(s):\n",
        "        return ''.join(c for c in unicodedata.normalize('NFD', s) if unicodedata.category(c) != 'Mn')\n",
        "\n",
        "    sent = unicode_to_ascii(sent.lower().strip())\n",
        "\n",
        "    # creating a space between a word and the punctuation following it\n",
        "    # eg: \"he is a boy.\" => \"he is a boy .\"\n",
        "    # Reference:- https://stackoverflow.com/questions/3645931/python-padding-punctuation-with-white-spaces-keeping-punctuation\n",
        "    sent = re.sub(r\"([?.!,¿])\", r\" \\1 \", sent)\n",
        "    sent = re.sub(r'[\" \"]+', \" \", sent)\n",
        "\n",
        "    # replacing everything with space except (a-z, A-Z, \".\", \"?\", \"!\", \",\")\n",
        "    sent = re.sub(r\"[^a-zA-Z?.!,¿]+\", \" \", sent)\n",
        "\n",
        "    return '<start> ' + sent.strip() + ' <end>' # Suppress extra space"
      ]
    },
    {
      "cell_type": "code",
      "execution_count": 7,
      "id": "14709205",
      "metadata": {
        "ExecuteTime": {
          "end_time": "2023-01-26T17:18:33.295792Z",
          "start_time": "2023-01-26T17:18:33.095822Z"
        },
        "colab": {
          "base_uri": "https://localhost:8080/"
        },
        "id": "14709205",
        "outputId": "dce823c9-af07-4932-cb4c-78fbade29132"
      },
      "outputs": [
        {
          "output_type": "execute_result",
          "data": {
            "text/plain": [
              "('<start> salga de aqui ! <end>', '<start> go away ! <end>')"
            ]
          },
          "metadata": {},
          "execution_count": 7
        }
      ],
      "source": [
        "# Loading data\n",
        "def read_data(path, num_examples, split=0.2):\n",
        "    # path : path to spa-eng.txt file\n",
        "    # num_examples : Limit the total number of training example for faster training (set num_examples = len(lines) to use full data)\n",
        "    lines = io.open(path, encoding='UTF-8').read().strip().split('\\n')\n",
        "    english_sentences, spanish_sentences= zip(*[[step1(sent) for sent in l.split('\\t')]  for l in lines[:int((1+split)*num_examples)]])\n",
        "\n",
        "    return np.array(spanish_sentences), np.array(english_sentences)\n",
        "\n",
        "num_examples = 700 # of which 100 for testing\n",
        "\n",
        "spanish_sentences, english_sentences = read_data(file_path, num_examples, split=0.0)\n",
        "test_spanish_sentences = spanish_sentences[num_examples-100:]\n",
        "test_english_sentences = english_sentences[num_examples-100:]\n",
        "spanish_sentences = spanish_sentences[:num_examples-100]\n",
        "english_sentences = english_sentences[:num_examples-100]\n",
        "spanish_sentences[100], english_sentences[100]"
      ]
    },
    {
      "cell_type": "code",
      "execution_count": 8,
      "id": "e6710f03",
      "metadata": {
        "ExecuteTime": {
          "end_time": "2023-01-26T17:18:34.523968Z",
          "start_time": "2023-01-26T17:18:34.514163Z"
        },
        "id": "e6710f03"
      },
      "outputs": [],
      "source": [
        "# Search vocabulary and max_length for each language\n",
        "def voc(lang):\n",
        "    # a list of sentences in the same language\n",
        "    lengths = [len(txt.split()) for txt in lang]\n",
        "    vocab = set([w for txt in lang for w in txt.split()])  \n",
        "\n",
        "    return max(lengths), list(vocab), len(vocab)+2 # for padding and OOV\n",
        "\n",
        "max_length_spanish, vocab_spanish, vocab_size_spanish = voc(spanish_sentences)\n",
        "max_length_english, vocab_english, vocab_size_english = voc(english_sentences)"
      ]
    },
    {
      "cell_type": "code",
      "execution_count": 9,
      "id": "6507d38c",
      "metadata": {
        "ExecuteTime": {
          "end_time": "2023-01-26T17:18:35.805497Z",
          "start_time": "2023-01-26T17:18:35.787503Z"
        },
        "colab": {
          "base_uri": "https://localhost:8080/",
          "height": 112
        },
        "id": "6507d38c",
        "outputId": "221c9303-d35c-4656-f3a7-d5667db60f65"
      },
      "outputs": [
        {
          "output_type": "execute_result",
          "data": {
            "text/plain": [
              "      lang  max_length  vocab_size\n",
              "0  english           7         279\n",
              "1  spanish           8         548"
            ],
            "text/html": [
              "\n",
              "  <div id=\"df-a486a563-51d5-480c-a2f3-27c65d1c8a52\">\n",
              "    <div class=\"colab-df-container\">\n",
              "      <div>\n",
              "<style scoped>\n",
              "    .dataframe tbody tr th:only-of-type {\n",
              "        vertical-align: middle;\n",
              "    }\n",
              "\n",
              "    .dataframe tbody tr th {\n",
              "        vertical-align: top;\n",
              "    }\n",
              "\n",
              "    .dataframe thead th {\n",
              "        text-align: right;\n",
              "    }\n",
              "</style>\n",
              "<table border=\"1\" class=\"dataframe\">\n",
              "  <thead>\n",
              "    <tr style=\"text-align: right;\">\n",
              "      <th></th>\n",
              "      <th>lang</th>\n",
              "      <th>max_length</th>\n",
              "      <th>vocab_size</th>\n",
              "    </tr>\n",
              "  </thead>\n",
              "  <tbody>\n",
              "    <tr>\n",
              "      <th>0</th>\n",
              "      <td>english</td>\n",
              "      <td>7</td>\n",
              "      <td>279</td>\n",
              "    </tr>\n",
              "    <tr>\n",
              "      <th>1</th>\n",
              "      <td>spanish</td>\n",
              "      <td>8</td>\n",
              "      <td>548</td>\n",
              "    </tr>\n",
              "  </tbody>\n",
              "</table>\n",
              "</div>\n",
              "      <button class=\"colab-df-convert\" onclick=\"convertToInteractive('df-a486a563-51d5-480c-a2f3-27c65d1c8a52')\"\n",
              "              title=\"Convert this dataframe to an interactive table.\"\n",
              "              style=\"display:none;\">\n",
              "        \n",
              "  <svg xmlns=\"http://www.w3.org/2000/svg\" height=\"24px\"viewBox=\"0 0 24 24\"\n",
              "       width=\"24px\">\n",
              "    <path d=\"M0 0h24v24H0V0z\" fill=\"none\"/>\n",
              "    <path d=\"M18.56 5.44l.94 2.06.94-2.06 2.06-.94-2.06-.94-.94-2.06-.94 2.06-2.06.94zm-11 1L8.5 8.5l.94-2.06 2.06-.94-2.06-.94L8.5 2.5l-.94 2.06-2.06.94zm10 10l.94 2.06.94-2.06 2.06-.94-2.06-.94-.94-2.06-.94 2.06-2.06.94z\"/><path d=\"M17.41 7.96l-1.37-1.37c-.4-.4-.92-.59-1.43-.59-.52 0-1.04.2-1.43.59L10.3 9.45l-7.72 7.72c-.78.78-.78 2.05 0 2.83L4 21.41c.39.39.9.59 1.41.59.51 0 1.02-.2 1.41-.59l7.78-7.78 2.81-2.81c.8-.78.8-2.07 0-2.86zM5.41 20L4 18.59l7.72-7.72 1.47 1.35L5.41 20z\"/>\n",
              "  </svg>\n",
              "      </button>\n",
              "      \n",
              "  <style>\n",
              "    .colab-df-container {\n",
              "      display:flex;\n",
              "      flex-wrap:wrap;\n",
              "      gap: 12px;\n",
              "    }\n",
              "\n",
              "    .colab-df-convert {\n",
              "      background-color: #E8F0FE;\n",
              "      border: none;\n",
              "      border-radius: 50%;\n",
              "      cursor: pointer;\n",
              "      display: none;\n",
              "      fill: #1967D2;\n",
              "      height: 32px;\n",
              "      padding: 0 0 0 0;\n",
              "      width: 32px;\n",
              "    }\n",
              "\n",
              "    .colab-df-convert:hover {\n",
              "      background-color: #E2EBFA;\n",
              "      box-shadow: 0px 1px 2px rgba(60, 64, 67, 0.3), 0px 1px 3px 1px rgba(60, 64, 67, 0.15);\n",
              "      fill: #174EA6;\n",
              "    }\n",
              "\n",
              "    [theme=dark] .colab-df-convert {\n",
              "      background-color: #3B4455;\n",
              "      fill: #D2E3FC;\n",
              "    }\n",
              "\n",
              "    [theme=dark] .colab-df-convert:hover {\n",
              "      background-color: #434B5C;\n",
              "      box-shadow: 0px 1px 3px 1px rgba(0, 0, 0, 0.15);\n",
              "      filter: drop-shadow(0px 1px 2px rgba(0, 0, 0, 0.3));\n",
              "      fill: #FFFFFF;\n",
              "    }\n",
              "  </style>\n",
              "\n",
              "      <script>\n",
              "        const buttonEl =\n",
              "          document.querySelector('#df-a486a563-51d5-480c-a2f3-27c65d1c8a52 button.colab-df-convert');\n",
              "        buttonEl.style.display =\n",
              "          google.colab.kernel.accessAllowed ? 'block' : 'none';\n",
              "\n",
              "        async function convertToInteractive(key) {\n",
              "          const element = document.querySelector('#df-a486a563-51d5-480c-a2f3-27c65d1c8a52');\n",
              "          const dataTable =\n",
              "            await google.colab.kernel.invokeFunction('convertToInteractive',\n",
              "                                                     [key], {});\n",
              "          if (!dataTable) return;\n",
              "\n",
              "          const docLinkHtml = 'Like what you see? Visit the ' +\n",
              "            '<a target=\"_blank\" href=https://colab.research.google.com/notebooks/data_table.ipynb>data table notebook</a>'\n",
              "            + ' to learn more about interactive tables.';\n",
              "          element.innerHTML = '';\n",
              "          dataTable['output_type'] = 'display_data';\n",
              "          await google.colab.output.renderOutput(dataTable, element);\n",
              "          const docLink = document.createElement('div');\n",
              "          docLink.innerHTML = docLinkHtml;\n",
              "          element.appendChild(docLink);\n",
              "        }\n",
              "      </script>\n",
              "    </div>\n",
              "  </div>\n",
              "  "
            ]
          },
          "metadata": {},
          "execution_count": 9
        }
      ],
      "source": [
        "pd.DataFrame({\"lang\":[\"english\", \"spanish\"],\n",
        "              \"max_length\":[max_length_english, max_length_spanish],\n",
        "              \"vocab_size\": [vocab_size_english, vocab_size_spanish]}).head()"
      ]
    },
    {
      "cell_type": "code",
      "execution_count": 10,
      "id": "7cd5098a",
      "metadata": {
        "ExecuteTime": {
          "end_time": "2023-01-26T17:18:41.848113Z",
          "start_time": "2023-01-26T17:18:41.790093Z"
        },
        "id": "7cd5098a"
      },
      "outputs": [],
      "source": [
        "# Build vectorizer layer\n",
        "english_vectorizer = layers.TextVectorization(standardize=None, output_mode='int',\n",
        "                                              vocabulary=vocab_english,\n",
        "                                              name=\"English_vect\")\n",
        "# On peut connaitre le vocabulaire par english_vectorizer.get_vocabulary()\n",
        "\n",
        "# Do the same for spanish\n",
        "spanish_vectorizer = layers.TextVectorization(standardize=None, output_mode='int',\n",
        "                                              vocabulary=vocab_spanish,\n",
        "                                              name=\"Spanish_vect\")"
      ]
    },
    {
      "cell_type": "code",
      "source": [
        "# spanish_vectorizer.get_vocabulary()"
      ],
      "metadata": {
        "id": "7bM0gRt9fNoa"
      },
      "id": "7bM0gRt9fNoa",
      "execution_count": 11,
      "outputs": []
    },
    {
      "cell_type": "code",
      "execution_count": 12,
      "id": "f94d9977",
      "metadata": {
        "ExecuteTime": {
          "end_time": "2023-01-26T17:18:42.920562Z",
          "start_time": "2023-01-26T17:18:42.916171Z"
        },
        "id": "f94d9977"
      },
      "outputs": [],
      "source": [
        "BATCH_SIZE = 32\n",
        "embedding_dim = 50\n",
        "latent_dim = 64 # final dimension of the encoder in seq2seq\n",
        "dropout=0.3"
      ]
    },
    {
      "cell_type": "markdown",
      "id": "3d57e539",
      "metadata": {
        "ExecuteTime": {
          "end_time": "2022-09-25T15:45:09.728517Z",
          "start_time": "2022-09-25T15:45:09.728489Z"
        },
        "id": "3d57e539"
      },
      "source": [
        "## Training model"
      ]
    },
    {
      "cell_type": "code",
      "execution_count": 13,
      "id": "de7dfe84",
      "metadata": {
        "ExecuteTime": {
          "end_time": "2023-01-26T17:19:02.901943Z",
          "start_time": "2023-01-26T17:19:02.891732Z"
        },
        "id": "de7dfe84"
      },
      "outputs": [],
      "source": [
        "attention_func = 'MLP' # others possibility: 'dot', 'bilinear', 'MLP'"
      ]
    },
    {
      "cell_type": "code",
      "execution_count": 14,
      "id": "cac81860",
      "metadata": {
        "ExecuteTime": {
          "end_time": "2023-01-26T17:19:08.446139Z",
          "start_time": "2023-01-26T17:19:08.074180Z"
        },
        "colab": {
          "base_uri": "https://localhost:8080/"
        },
        "id": "cac81860",
        "outputId": "d6fbd62c-9f86-436c-ff57-1269d0d636dc"
      },
      "outputs": [
        {
          "output_type": "stream",
          "name": "stdout",
          "text": [
            "(None, None, 64)\n"
          ]
        }
      ],
      "source": [
        "\"\"\" Encoder part \"\"\"\n",
        "encoder_inputs = layers.Input(shape=(1,), dtype=tf.string, name=\"spanish\")\n",
        "encoder_vectorizer = spanish_vectorizer(encoder_inputs)\n",
        "encoder_embedding = layers.Embedding(vocab_size_spanish, embedding_dim, \n",
        "                                     name=\"spanish_embedding\")(encoder_vectorizer)\n",
        "encoder_outputs, encoder_state_h, encoder_state_c = layers.LSTM(latent_dim, return_sequences=True, return_state=True,\n",
        "                           dropout=dropout, recurrent_dropout=dropout, name=\"encoder\")(encoder_embedding)\n",
        "\n",
        "# inject encoder_state_h, encoder_state_c to the initial state of the decoder\n",
        "\n",
        "# We discard `encoder_outputs` and only keep the states. \n",
        "encoder_states = [encoder_state_h, encoder_state_c]\n",
        "\n",
        "print(encoder_outputs.shape)\n",
        "\n",
        "# the second dim is none bcz we dont know in the beginiing the length of the sentence"
      ]
    },
    {
      "cell_type": "code",
      "execution_count": 15,
      "id": "8a966059",
      "metadata": {
        "ExecuteTime": {
          "end_time": "2023-01-26T17:19:14.740437Z",
          "start_time": "2023-01-26T17:19:14.463892Z"
        },
        "colab": {
          "base_uri": "https://localhost:8080/"
        },
        "id": "8a966059",
        "outputId": "ec12d16f-0a66-41ba-dd8b-c95baeb55e9a"
      },
      "outputs": [
        {
          "output_type": "stream",
          "name": "stdout",
          "text": [
            "(None, None, 64)\n"
          ]
        }
      ],
      "source": [
        "\"\"\" Decoder part \"\"\"\n",
        "# Set up the decoder, using `encoder_states` as initial state. \n",
        "decoder_inputs = layers.Input(shape=(None,), dtype=tf.int32, name=\"english_teacher\")\n",
        "decoder_embedding = layers.Embedding(vocab_size_english, embedding_dim,\n",
        "                                     name=\"english_embedding\")(decoder_inputs)\n",
        "decoder_outputs, decoder_state_h, decoder_state_c = layers.LSTM(latent_dim, return_sequences=True, return_state=True,\n",
        "                                                                dropout=dropout, recurrent_dropout=dropout, name=\"Decoder\")(decoder_embedding, initial_state=encoder_states)\n",
        "\n",
        "print(decoder_outputs.shape)"
      ]
    },
    {
      "cell_type": "markdown",
      "id": "fdc14c6a",
      "metadata": {
        "id": "fdc14c6a"
      },
      "source": [
        " ![General computation scheme](https://lena-voita.github.io/resources/lectures/seq2seq/attention/computation_scheme-min.png)"
      ]
    },
    {
      "cell_type": "code",
      "execution_count": 16,
      "id": "f58816ac",
      "metadata": {
        "ExecuteTime": {
          "end_time": "2023-01-26T17:19:38.718475Z",
          "start_time": "2023-01-26T17:19:38.515519Z"
        },
        "colab": {
          "base_uri": "https://localhost:8080/"
        },
        "id": "f58816ac",
        "outputId": "3f6d52d9-219f-42ac-8e0a-f05664045a62"
      },
      "outputs": [
        {
          "output_type": "stream",
          "name": "stdout",
          "text": [
            "MLP\n",
            "(None, None, None)\n"
          ]
        }
      ],
      "source": [
        "\"\"\" Attentional part \"\"\"\n",
        "# We use all encoder ouput\n",
        "\n",
        "if attention_func=='dot':\n",
        "    # Scoring funtion Dot\n",
        "    print(\"dot\")\n",
        "    attention = layers.dot([decoder_outputs, encoder_outputs], axes=[2,2], name=\"Attention_score\")\n",
        "elif attention_func=='bilinear':\n",
        "    # Scoring function Bilinear\n",
        "    print(\"bilinear\")\n",
        "    attention = layers.Dense(latent_dim, activation=\"linear\", name=\"dense_bilinear\")(encoder_outputs)\n",
        "    attention = layers.dot([decoder_outputs, attention], axes=[2,2], name=\"Attention_score\")\n",
        "elif attention_func==\"MLP\":\n",
        "    # Scoring function MLP - need to know encoder_max_len / decoder_max_len\n",
        "    print(\"MLP\")\n",
        "    attention_encoder = layers.Dense(latent_dim, activation=\"tanh\", name=\"dense_encoder\")(encoder_outputs)\n",
        "    attention_decoder = layers.Dense(latent_dim, activation=\"tanh\", name=\"dense_decoder\")(decoder_outputs)\n",
        "    attention = layers.dot([attention_decoder, attention_encoder], axes=[2,2], name=\"Attention_score\")\n",
        "\n",
        "if attention_func is not None:\n",
        "    attention = layers.Activation('softmax', name=\"Attention_weight\")(attention)\n",
        "    print(attention.shape)"
      ]
    },
    {
      "cell_type": "code",
      "execution_count": 17,
      "id": "6d0ba539",
      "metadata": {
        "ExecuteTime": {
          "end_time": "2023-01-26T17:19:40.095690Z",
          "start_time": "2023-01-26T17:19:40.078648Z"
        },
        "colab": {
          "base_uri": "https://localhost:8080/"
        },
        "id": "6d0ba539",
        "outputId": "bbd0e5c1-5bf7-43fd-d1a5-6ba4aabf48ee"
      },
      "outputs": [
        {
          "output_type": "stream",
          "name": "stdout",
          "text": [
            "(None, None, 64)\n"
          ]
        }
      ],
      "source": [
        "\"\"\" Context vector \"\"\"\n",
        "if attention_func is not None:\n",
        "    context = layers.dot([attention, encoder_outputs], axes=[2,1], name=\"Attention_output\")\n",
        "    print(context.shape)"
      ]
    },
    {
      "cell_type": "code",
      "execution_count": 18,
      "id": "d88fc633",
      "metadata": {
        "ExecuteTime": {
          "end_time": "2023-01-26T17:19:41.471114Z",
          "start_time": "2023-01-26T17:19:41.450748Z"
        },
        "colab": {
          "base_uri": "https://localhost:8080/"
        },
        "id": "d88fc633",
        "outputId": "acc78dca-dd24-486b-baa4-a0292b3209f6"
      },
      "outputs": [
        {
          "output_type": "stream",
          "name": "stdout",
          "text": [
            "with attention\n",
            "(None, None, 128)\n"
          ]
        }
      ],
      "source": [
        "\"\"\" Combine attention with decoder ouput \"\"\"\n",
        "if attention_func is None:\n",
        "    print(\"without attention\")\n",
        "    decoder_combined_context = decoder_outputs\n",
        "else:\n",
        "    print(\"with attention\")\n",
        "    decoder_combined_context = layers.concatenate([context, decoder_outputs], name=\"Luong_Attention\")\n",
        "print(decoder_combined_context.shape)"
      ]
    },
    {
      "cell_type": "code",
      "execution_count": 19,
      "id": "24e883d0",
      "metadata": {
        "ExecuteTime": {
          "end_time": "2023-01-26T17:19:44.697040Z",
          "start_time": "2023-01-26T17:19:44.646692Z"
        },
        "colab": {
          "base_uri": "https://localhost:8080/"
        },
        "id": "24e883d0",
        "outputId": "d6eb053c-f753-4cf2-b7be-2c0cd644ec2a"
      },
      "outputs": [
        {
          "output_type": "stream",
          "name": "stdout",
          "text": [
            "(None, None, 64)\n"
          ]
        }
      ],
      "source": [
        "\"\"\" Ouput of the model \"\"\"\n",
        "ouputs = layers.Dense(vocab_size_english, activation='softmax', name=\"Output\")(decoder_combined_context)\n",
        "print(decoder_outputs.shape)"
      ]
    },
    {
      "cell_type": "code",
      "execution_count": 20,
      "id": "1dd638f0",
      "metadata": {
        "ExecuteTime": {
          "end_time": "2023-01-26T17:36:54.002991Z",
          "start_time": "2023-01-26T17:36:53.282603Z"
        },
        "id": "1dd638f0",
        "outputId": "1ceae341-a3fd-411e-da45-4e172a72fdab",
        "colab": {
          "base_uri": "https://localhost:8080/",
          "height": 1000
        }
      },
      "outputs": [
        {
          "output_type": "execute_result",
          "data": {
            "image/png": "[encoded data removed]",
            "text/plain": [
              "<IPython.core.display.Image object>"
            ]
          },
          "metadata": {},
          "execution_count": 20
        }
      ],
      "source": [
        "\"\"\" The model \"\"\"\n",
        "# Define the model that will turn\n",
        "# `encoder_input_data` & `decoder_input_data` into `decoder_target_data`\n",
        "model = Model([encoder_inputs, decoder_inputs], ouputs)\n",
        "\n",
        "plot_model(model, show_shapes=True)"
      ]
    },
    {
      "cell_type": "code",
      "execution_count": 21,
      "id": "6597ef08",
      "metadata": {
        "ExecuteTime": {
          "end_time": "2023-01-26T17:19:58.437467Z",
          "start_time": "2023-01-26T17:19:58.385678Z"
        },
        "id": "6597ef08",
        "outputId": "e79e8534-3885-47e6-b50b-08428212bfab",
        "colab": {
          "base_uri": "https://localhost:8080/"
        }
      },
      "outputs": [
        {
          "output_type": "execute_result",
          "data": {
            "text/plain": [
              "(600, 7)"
            ]
          },
          "metadata": {},
          "execution_count": 21
        }
      ],
      "source": [
        "# Prepare training data with teacher forcing\n",
        "# decoder_input_data is a 2D array of shape (None, None) containing a tokenization of the English sentences.\n",
        "# decoder_target_data is the same as decoder_input_data but offset by one timestep. decoder_target_data[:, t] will be the same as decoder_input_data[:, t-1].\n",
        "\n",
        "english_teacher_enc = english_vectorizer(english_sentences).numpy() # Teacher\n",
        "english_target_enc = np.zeros_like(english_teacher_enc)\n",
        "english_target_enc[:,:-1] = english_teacher_enc[:,1:] # To predict\n",
        "english_target_enc.shape"
      ]
    },
    {
      "cell_type": "code",
      "execution_count": 22,
      "id": "8b6ff9c2",
      "metadata": {
        "ExecuteTime": {
          "end_time": "2023-01-26T17:20:03.216269Z",
          "start_time": "2023-01-26T17:20:03.187188Z"
        },
        "id": "8b6ff9c2"
      },
      "outputs": [],
      "source": [
        "#model.compile(loss='sparse_categorical_crossentropy', optimizer=\"adam\", metrics=['accuracy'])\n",
        "model.compile(loss='sparse_categorical_crossentropy', optimizer='rmsprop', metrics=['accuracy'])\n",
        "\n",
        "# if you dont one hot encode we use sparse_categorical_crossentropy \n",
        "# if use one hot encode"
      ]
    },
    {
      "cell_type": "markdown",
      "id": "44a99095",
      "metadata": {
        "ExecuteTime": {
          "end_time": "2022-09-27T20:56:40.588508Z",
          "start_time": "2022-09-27T20:56:40.576904Z"
        },
        "id": "44a99095"
      },
      "source": [
        "<font color=red>\n",
        "We voluntarily choose to stop on loss in order to have overfitting: too little data to train (or too long training time if we take more data).\n",
        "\n",
        "Obviously in real life... this is not something to do.\n",
        "\n",
        "Nevertheless, we keep a validation set to see the overtraining\n",
        "</font>"
      ]
    },
    {
      "cell_type": "code",
      "execution_count": 23,
      "id": "8b9f6887",
      "metadata": {
        "ExecuteTime": {
          "end_time": "2023-01-26T17:23:02.027567Z",
          "start_time": "2023-01-26T17:20:20.197516Z"
        },
        "id": "8b9f6887",
        "outputId": "4fb2f5c5-942a-4242-f9b7-6ee81385e3e2",
        "colab": {
          "base_uri": "https://localhost:8080/"
        }
      },
      "outputs": [
        {
          "output_type": "stream",
          "name": "stdout",
          "text": [
            "Epoch 1/1000\n",
            "17/17 [==============================] - 9s 86ms/step - loss: 5.3906 - accuracy: 0.3794 - val_loss: 4.6236 - val_accuracy: 0.2857\n",
            "Epoch 2/1000\n",
            "17/17 [==============================] - 1s 37ms/step - loss: 2.9817 - accuracy: 0.4032 - val_loss: 2.9478 - val_accuracy: 0.2857\n",
            "Epoch 3/1000\n",
            "17/17 [==============================] - 1s 36ms/step - loss: 2.3995 - accuracy: 0.4156 - val_loss: 2.9011 - val_accuracy: 0.2857\n",
            "Epoch 4/1000\n",
            "17/17 [==============================] - 1s 37ms/step - loss: 2.2372 - accuracy: 0.4741 - val_loss: 2.6542 - val_accuracy: 0.4333\n",
            "Epoch 5/1000\n",
            "17/17 [==============================] - 1s 38ms/step - loss: 2.1482 - accuracy: 0.5233 - val_loss: 2.6909 - val_accuracy: 0.4381\n",
            "Epoch 6/1000\n",
            "17/17 [==============================] - 1s 36ms/step - loss: 2.0745 - accuracy: 0.5463 - val_loss: 2.7016 - val_accuracy: 0.4381\n",
            "Epoch 7/1000\n",
            "17/17 [==============================] - 1s 37ms/step - loss: 2.0125 - accuracy: 0.5825 - val_loss: 2.7200 - val_accuracy: 0.4381\n",
            "Epoch 8/1000\n",
            "17/17 [==============================] - 1s 51ms/step - loss: 1.9486 - accuracy: 0.5923 - val_loss: 2.4238 - val_accuracy: 0.5429\n",
            "Epoch 9/1000\n",
            "17/17 [==============================] - 1s 66ms/step - loss: 1.8855 - accuracy: 0.6275 - val_loss: 2.4688 - val_accuracy: 0.5119\n",
            "Epoch 10/1000\n",
            "17/17 [==============================] - 1s 69ms/step - loss: 1.8439 - accuracy: 0.6392 - val_loss: 2.6174 - val_accuracy: 0.4429\n",
            "Epoch 11/1000\n",
            "17/17 [==============================] - 1s 41ms/step - loss: 1.8208 - accuracy: 0.6399 - val_loss: 2.2376 - val_accuracy: 0.6571\n",
            "Epoch 12/1000\n",
            "17/17 [==============================] - 1s 38ms/step - loss: 1.7574 - accuracy: 0.6698 - val_loss: 2.1553 - val_accuracy: 0.7095\n",
            "Epoch 13/1000\n",
            "17/17 [==============================] - 1s 37ms/step - loss: 1.7333 - accuracy: 0.6701 - val_loss: 2.1766 - val_accuracy: 0.6762\n",
            "Epoch 14/1000\n",
            "17/17 [==============================] - 1s 37ms/step - loss: 1.6847 - accuracy: 0.6807 - val_loss: 2.1154 - val_accuracy: 0.7071\n",
            "Epoch 15/1000\n",
            "17/17 [==============================] - 1s 38ms/step - loss: 1.6535 - accuracy: 0.6844 - val_loss: 2.1146 - val_accuracy: 0.7071\n",
            "Epoch 16/1000\n",
            "17/17 [==============================] - 1s 38ms/step - loss: 1.6332 - accuracy: 0.6847 - val_loss: 2.1786 - val_accuracy: 0.7000\n",
            "Epoch 17/1000\n",
            "17/17 [==============================] - 1s 36ms/step - loss: 1.5989 - accuracy: 0.6918 - val_loss: 2.2473 - val_accuracy: 0.7381\n",
            "Epoch 18/1000\n",
            "17/17 [==============================] - 1s 39ms/step - loss: 1.5840 - accuracy: 0.6931 - val_loss: 2.0149 - val_accuracy: 0.7548\n",
            "Epoch 19/1000\n",
            "17/17 [==============================] - 1s 37ms/step - loss: 1.5585 - accuracy: 0.6958 - val_loss: 2.0823 - val_accuracy: 0.7548\n",
            "Epoch 20/1000\n",
            "17/17 [==============================] - 1s 37ms/step - loss: 1.5397 - accuracy: 0.6966 - val_loss: 2.0738 - val_accuracy: 0.7548\n",
            "Epoch 21/1000\n",
            "17/17 [==============================] - 1s 37ms/step - loss: 1.5270 - accuracy: 0.6976 - val_loss: 1.9729 - val_accuracy: 0.7595\n",
            "Epoch 22/1000\n",
            "17/17 [==============================] - 1s 37ms/step - loss: 1.5088 - accuracy: 0.6979 - val_loss: 2.0162 - val_accuracy: 0.7595\n",
            "Epoch 23/1000\n",
            "17/17 [==============================] - 1s 37ms/step - loss: 1.4944 - accuracy: 0.6997 - val_loss: 2.0454 - val_accuracy: 0.7595\n",
            "Epoch 24/1000\n",
            "17/17 [==============================] - 1s 37ms/step - loss: 1.4798 - accuracy: 0.6976 - val_loss: 2.0854 - val_accuracy: 0.7595\n",
            "Epoch 25/1000\n",
            "17/17 [==============================] - 1s 37ms/step - loss: 1.4669 - accuracy: 0.7003 - val_loss: 1.9565 - val_accuracy: 0.7595\n",
            "Epoch 26/1000\n",
            "17/17 [==============================] - 1s 46ms/step - loss: 1.4501 - accuracy: 0.7021 - val_loss: 1.9430 - val_accuracy: 0.7595\n",
            "Epoch 27/1000\n",
            "17/17 [==============================] - 1s 70ms/step - loss: 1.4292 - accuracy: 0.7058 - val_loss: 1.8942 - val_accuracy: 0.7595\n",
            "Epoch 28/1000\n",
            "17/17 [==============================] - 1s 69ms/step - loss: 1.4105 - accuracy: 0.7130 - val_loss: 2.1331 - val_accuracy: 0.7595\n",
            "Epoch 29/1000\n",
            "17/17 [==============================] - 1s 47ms/step - loss: 1.3992 - accuracy: 0.7193 - val_loss: 1.8759 - val_accuracy: 0.7595\n",
            "Epoch 30/1000\n",
            "17/17 [==============================] - 1s 38ms/step - loss: 1.3851 - accuracy: 0.7249 - val_loss: 1.8615 - val_accuracy: 0.7595\n",
            "Epoch 31/1000\n",
            "17/17 [==============================] - 1s 37ms/step - loss: 1.3722 - accuracy: 0.7241 - val_loss: 1.8637 - val_accuracy: 0.7595\n",
            "Epoch 32/1000\n",
            "17/17 [==============================] - 1s 37ms/step - loss: 1.3484 - accuracy: 0.7310 - val_loss: 1.9909 - val_accuracy: 0.7595\n",
            "Epoch 33/1000\n",
            "17/17 [==============================] - 1s 36ms/step - loss: 1.3428 - accuracy: 0.7310 - val_loss: 1.8389 - val_accuracy: 0.7548\n",
            "Epoch 34/1000\n",
            "17/17 [==============================] - 1s 38ms/step - loss: 1.3217 - accuracy: 0.7378 - val_loss: 1.8294 - val_accuracy: 0.7595\n",
            "Epoch 35/1000\n",
            "17/17 [==============================] - 1s 38ms/step - loss: 1.3192 - accuracy: 0.7344 - val_loss: 1.8393 - val_accuracy: 0.7595\n",
            "Epoch 36/1000\n",
            "17/17 [==============================] - 1s 37ms/step - loss: 1.2901 - accuracy: 0.7421 - val_loss: 1.8815 - val_accuracy: 0.7595\n",
            "Epoch 37/1000\n",
            "17/17 [==============================] - 1s 38ms/step - loss: 1.2819 - accuracy: 0.7447 - val_loss: 1.8233 - val_accuracy: 0.7595\n",
            "Epoch 38/1000\n",
            "17/17 [==============================] - 1s 38ms/step - loss: 1.2707 - accuracy: 0.7458 - val_loss: 1.8514 - val_accuracy: 0.7595\n",
            "Epoch 39/1000\n",
            "17/17 [==============================] - 1s 35ms/step - loss: 1.2488 - accuracy: 0.7463 - val_loss: 1.7953 - val_accuracy: 0.7690\n",
            "Epoch 40/1000\n",
            "17/17 [==============================] - 1s 37ms/step - loss: 1.2433 - accuracy: 0.7474 - val_loss: 1.7782 - val_accuracy: 0.7667\n",
            "Epoch 41/1000\n",
            "17/17 [==============================] - 1s 37ms/step - loss: 1.2235 - accuracy: 0.7495 - val_loss: 1.8385 - val_accuracy: 0.7429\n",
            "Epoch 42/1000\n",
            "17/17 [==============================] - 1s 39ms/step - loss: 1.2104 - accuracy: 0.7492 - val_loss: 1.7734 - val_accuracy: 0.7643\n",
            "Epoch 43/1000\n",
            "17/17 [==============================] - 1s 40ms/step - loss: 1.2007 - accuracy: 0.7495 - val_loss: 1.8082 - val_accuracy: 0.7333\n",
            "Epoch 44/1000\n",
            "17/17 [==============================] - 1s 36ms/step - loss: 1.1833 - accuracy: 0.7569 - val_loss: 1.7586 - val_accuracy: 0.7571\n",
            "Epoch 45/1000\n",
            "17/17 [==============================] - 1s 65ms/step - loss: 1.1792 - accuracy: 0.7558 - val_loss: 1.7698 - val_accuracy: 0.7476\n",
            "Epoch 46/1000\n",
            "17/17 [==============================] - 1s 76ms/step - loss: 1.1642 - accuracy: 0.7566 - val_loss: 1.7547 - val_accuracy: 0.7381\n",
            "Epoch 47/1000\n",
            "17/17 [==============================] - 1s 51ms/step - loss: 1.1569 - accuracy: 0.7569 - val_loss: 1.7189 - val_accuracy: 0.7667\n",
            "Epoch 48/1000\n",
            "17/17 [==============================] - 1s 36ms/step - loss: 1.1398 - accuracy: 0.7587 - val_loss: 1.7711 - val_accuracy: 0.7405\n",
            "Epoch 49/1000\n",
            "17/17 [==============================] - 1s 37ms/step - loss: 1.1310 - accuracy: 0.7593 - val_loss: 1.7387 - val_accuracy: 0.7500\n",
            "Epoch 50/1000\n",
            "17/17 [==============================] - 1s 38ms/step - loss: 1.1197 - accuracy: 0.7606 - val_loss: 1.7446 - val_accuracy: 0.7452\n",
            "Epoch 51/1000\n",
            "17/17 [==============================] - 1s 39ms/step - loss: 1.1072 - accuracy: 0.7614 - val_loss: 1.7626 - val_accuracy: 0.7333\n",
            "Epoch 52/1000\n",
            "17/17 [==============================] - 1s 37ms/step - loss: 1.0973 - accuracy: 0.7640 - val_loss: 1.7455 - val_accuracy: 0.7381\n",
            "Epoch 53/1000\n",
            "17/17 [==============================] - 1s 37ms/step - loss: 1.0834 - accuracy: 0.7661 - val_loss: 1.7553 - val_accuracy: 0.7381\n",
            "Epoch 54/1000\n",
            "17/17 [==============================] - 1s 37ms/step - loss: 1.0769 - accuracy: 0.7688 - val_loss: 1.7610 - val_accuracy: 0.7357\n",
            "Epoch 55/1000\n",
            "17/17 [==============================] - 1s 37ms/step - loss: 1.0652 - accuracy: 0.7688 - val_loss: 1.7581 - val_accuracy: 0.7405\n",
            "Epoch 56/1000\n",
            "17/17 [==============================] - 1s 38ms/step - loss: 1.0604 - accuracy: 0.7704 - val_loss: 1.7431 - val_accuracy: 0.7452\n",
            "Epoch 57/1000\n",
            "17/17 [==============================] - 1s 38ms/step - loss: 1.0442 - accuracy: 0.7696 - val_loss: 1.8517 - val_accuracy: 0.7238\n",
            "Epoch 58/1000\n",
            "17/17 [==============================] - 1s 37ms/step - loss: 1.0286 - accuracy: 0.7720 - val_loss: 1.8147 - val_accuracy: 0.7262\n",
            "Epoch 59/1000\n",
            "17/17 [==============================] - 1s 36ms/step - loss: 1.0201 - accuracy: 0.7751 - val_loss: 1.9632 - val_accuracy: 0.7024\n",
            "Epoch 60/1000\n",
            "17/17 [==============================] - 1s 37ms/step - loss: 1.0150 - accuracy: 0.7712 - val_loss: 1.7617 - val_accuracy: 0.7405\n",
            "Epoch 61/1000\n",
            "17/17 [==============================] - 1s 36ms/step - loss: 1.0031 - accuracy: 0.7778 - val_loss: 1.8113 - val_accuracy: 0.7381\n",
            "Epoch 62/1000\n",
            "17/17 [==============================] - 1s 37ms/step - loss: 0.9867 - accuracy: 0.7783 - val_loss: 1.8133 - val_accuracy: 0.7310\n",
            "Epoch 63/1000\n",
            "17/17 [==============================] - 1s 56ms/step - loss: 0.9803 - accuracy: 0.7828 - val_loss: 1.7956 - val_accuracy: 0.7310\n",
            "Epoch 64/1000\n",
            "17/17 [==============================] - 1s 67ms/step - loss: 0.9709 - accuracy: 0.7820 - val_loss: 1.7606 - val_accuracy: 0.7429\n",
            "Epoch 65/1000\n",
            "17/17 [==============================] - 1s 65ms/step - loss: 0.9611 - accuracy: 0.7870 - val_loss: 1.7624 - val_accuracy: 0.7429\n",
            "Epoch 66/1000\n",
            "17/17 [==============================] - 1s 37ms/step - loss: 0.9479 - accuracy: 0.7849 - val_loss: 1.8332 - val_accuracy: 0.7310\n",
            "Epoch 67/1000\n",
            "17/17 [==============================] - 1s 38ms/step - loss: 0.9449 - accuracy: 0.7839 - val_loss: 1.8965 - val_accuracy: 0.7143\n",
            "Epoch 68/1000\n",
            "17/17 [==============================] - 1s 37ms/step - loss: 0.9310 - accuracy: 0.7873 - val_loss: 1.7733 - val_accuracy: 0.7405\n",
            "Epoch 69/1000\n",
            "17/17 [==============================] - 1s 37ms/step - loss: 0.9247 - accuracy: 0.7907 - val_loss: 1.8775 - val_accuracy: 0.7214\n",
            "Epoch 70/1000\n",
            "17/17 [==============================] - 1s 40ms/step - loss: 0.9088 - accuracy: 0.7918 - val_loss: 1.9133 - val_accuracy: 0.7190\n",
            "Epoch 71/1000\n",
            "17/17 [==============================] - 1s 38ms/step - loss: 0.9032 - accuracy: 0.7923 - val_loss: 1.7528 - val_accuracy: 0.7429\n",
            "Epoch 72/1000\n",
            "17/17 [==============================] - 1s 38ms/step - loss: 0.8889 - accuracy: 0.7971 - val_loss: 1.7613 - val_accuracy: 0.7452\n",
            "Epoch 73/1000\n",
            "17/17 [==============================] - 1s 38ms/step - loss: 0.8813 - accuracy: 0.7958 - val_loss: 1.8914 - val_accuracy: 0.7214\n",
            "Epoch 74/1000\n",
            "17/17 [==============================] - 1s 37ms/step - loss: 0.8751 - accuracy: 0.7987 - val_loss: 1.7828 - val_accuracy: 0.7452\n",
            "Epoch 75/1000\n",
            "17/17 [==============================] - 1s 37ms/step - loss: 0.8671 - accuracy: 0.7995 - val_loss: 1.7356 - val_accuracy: 0.7429\n",
            "Epoch 76/1000\n",
            "17/17 [==============================] - 1s 38ms/step - loss: 0.8555 - accuracy: 0.7976 - val_loss: 1.8508 - val_accuracy: 0.7333\n",
            "Epoch 77/1000\n",
            "17/17 [==============================] - 1s 37ms/step - loss: 0.8478 - accuracy: 0.7995 - val_loss: 1.8497 - val_accuracy: 0.7262\n",
            "Epoch 78/1000\n",
            "17/17 [==============================] - 1s 37ms/step - loss: 0.8380 - accuracy: 0.8048 - val_loss: 1.8318 - val_accuracy: 0.7405\n",
            "Epoch 79/1000\n",
            "17/17 [==============================] - 1s 36ms/step - loss: 0.8424 - accuracy: 0.8019 - val_loss: 1.8412 - val_accuracy: 0.7310\n",
            "Epoch 80/1000\n",
            "17/17 [==============================] - 1s 36ms/step - loss: 0.8256 - accuracy: 0.8050 - val_loss: 1.8546 - val_accuracy: 0.7357\n",
            "Epoch 81/1000\n",
            "17/17 [==============================] - 1s 47ms/step - loss: 0.8238 - accuracy: 0.8016 - val_loss: 1.8586 - val_accuracy: 0.7333\n",
            "Epoch 82/1000\n",
            "17/17 [==============================] - 1s 69ms/step - loss: 0.8108 - accuracy: 0.8056 - val_loss: 1.8823 - val_accuracy: 0.7333\n",
            "Epoch 83/1000\n",
            "17/17 [==============================] - 1s 66ms/step - loss: 0.8026 - accuracy: 0.8063 - val_loss: 1.8746 - val_accuracy: 0.7333\n",
            "Epoch 84/1000\n",
            "17/17 [==============================] - 1s 50ms/step - loss: 0.7918 - accuracy: 0.8085 - val_loss: 1.8848 - val_accuracy: 0.7310\n",
            "Epoch 85/1000\n",
            "17/17 [==============================] - 1s 37ms/step - loss: 0.7878 - accuracy: 0.8063 - val_loss: 1.8631 - val_accuracy: 0.7333\n",
            "Epoch 86/1000\n",
            "17/17 [==============================] - 1s 38ms/step - loss: 0.7840 - accuracy: 0.8058 - val_loss: 1.8008 - val_accuracy: 0.7381\n",
            "Epoch 87/1000\n",
            "17/17 [==============================] - 1s 38ms/step - loss: 0.7733 - accuracy: 0.8103 - val_loss: 1.7322 - val_accuracy: 0.7429\n",
            "Epoch 88/1000\n",
            "17/17 [==============================] - 1s 37ms/step - loss: 0.7687 - accuracy: 0.8153 - val_loss: 1.8347 - val_accuracy: 0.7381\n",
            "Epoch 89/1000\n",
            "17/17 [==============================] - 1s 38ms/step - loss: 0.7608 - accuracy: 0.8122 - val_loss: 1.7817 - val_accuracy: 0.7429\n",
            "Epoch 90/1000\n",
            "17/17 [==============================] - 1s 37ms/step - loss: 0.7550 - accuracy: 0.8148 - val_loss: 1.8589 - val_accuracy: 0.7333\n",
            "Epoch 91/1000\n",
            "17/17 [==============================] - 1s 37ms/step - loss: 0.7489 - accuracy: 0.8153 - val_loss: 1.8099 - val_accuracy: 0.7333\n",
            "Epoch 92/1000\n",
            "17/17 [==============================] - 1s 41ms/step - loss: 0.7400 - accuracy: 0.8153 - val_loss: 1.8614 - val_accuracy: 0.7310\n",
            "Epoch 93/1000\n",
            "17/17 [==============================] - 1s 37ms/step - loss: 0.7308 - accuracy: 0.8190 - val_loss: 1.8632 - val_accuracy: 0.7333\n",
            "Epoch 94/1000\n",
            "17/17 [==============================] - 1s 37ms/step - loss: 0.7291 - accuracy: 0.8198 - val_loss: 1.7978 - val_accuracy: 0.7333\n",
            "Epoch 95/1000\n",
            "17/17 [==============================] - 1s 37ms/step - loss: 0.7183 - accuracy: 0.8238 - val_loss: 1.9819 - val_accuracy: 0.7143\n",
            "Epoch 96/1000\n",
            "17/17 [==============================] - 1s 38ms/step - loss: 0.7156 - accuracy: 0.8225 - val_loss: 1.8916 - val_accuracy: 0.7357\n",
            "Epoch 97/1000\n",
            "17/17 [==============================] - 1s 37ms/step - loss: 0.7078 - accuracy: 0.8228 - val_loss: 1.8709 - val_accuracy: 0.7333\n",
            "Epoch 98/1000\n",
            "17/17 [==============================] - 1s 37ms/step - loss: 0.6999 - accuracy: 0.8259 - val_loss: 1.8525 - val_accuracy: 0.7333\n",
            "Epoch 99/1000\n",
            "17/17 [==============================] - 1s 37ms/step - loss: 0.7017 - accuracy: 0.8235 - val_loss: 1.8906 - val_accuracy: 0.7310\n",
            "Epoch 100/1000\n",
            "17/17 [==============================] - 1s 68ms/step - loss: 0.6896 - accuracy: 0.8272 - val_loss: 1.8700 - val_accuracy: 0.7333\n",
            "Epoch 101/1000\n",
            "17/17 [==============================] - 1s 66ms/step - loss: 0.6811 - accuracy: 0.8317 - val_loss: 1.9165 - val_accuracy: 0.7286\n",
            "Epoch 102/1000\n",
            "17/17 [==============================] - 1s 60ms/step - loss: 0.6768 - accuracy: 0.8299 - val_loss: 1.8627 - val_accuracy: 0.7333\n",
            "Epoch 103/1000\n",
            "17/17 [==============================] - 1s 37ms/step - loss: 0.6725 - accuracy: 0.8304 - val_loss: 1.8616 - val_accuracy: 0.7310\n",
            "Epoch 104/1000\n",
            "17/17 [==============================] - 1s 37ms/step - loss: 0.6675 - accuracy: 0.8323 - val_loss: 1.8658 - val_accuracy: 0.7333\n",
            "Epoch 105/1000\n",
            "17/17 [==============================] - 1s 39ms/step - loss: 0.6619 - accuracy: 0.8376 - val_loss: 1.8672 - val_accuracy: 0.7286\n",
            "Epoch 106/1000\n",
            "17/17 [==============================] - 1s 38ms/step - loss: 0.6506 - accuracy: 0.8370 - val_loss: 1.8727 - val_accuracy: 0.7333\n",
            "Epoch 107/1000\n",
            "17/17 [==============================] - 1s 37ms/step - loss: 0.6469 - accuracy: 0.8378 - val_loss: 1.9304 - val_accuracy: 0.7238\n",
            "Epoch 108/1000\n",
            "17/17 [==============================] - 1s 38ms/step - loss: 0.6431 - accuracy: 0.8384 - val_loss: 1.9076 - val_accuracy: 0.7286\n",
            "Epoch 109/1000\n",
            "17/17 [==============================] - 1s 38ms/step - loss: 0.6364 - accuracy: 0.8389 - val_loss: 1.8905 - val_accuracy: 0.7238\n",
            "Epoch 110/1000\n",
            "17/17 [==============================] - 1s 36ms/step - loss: 0.6321 - accuracy: 0.8407 - val_loss: 1.9250 - val_accuracy: 0.7262\n",
            "Epoch 111/1000\n",
            "17/17 [==============================] - 1s 38ms/step - loss: 0.6272 - accuracy: 0.8423 - val_loss: 1.9631 - val_accuracy: 0.7214\n",
            "Epoch 112/1000\n",
            "17/17 [==============================] - 1s 38ms/step - loss: 0.6181 - accuracy: 0.8450 - val_loss: 1.9167 - val_accuracy: 0.7262\n",
            "Epoch 113/1000\n",
            "17/17 [==============================] - 1s 37ms/step - loss: 0.6166 - accuracy: 0.8426 - val_loss: 1.9608 - val_accuracy: 0.7238\n",
            "Epoch 114/1000\n",
            "17/17 [==============================] - 1s 39ms/step - loss: 0.6080 - accuracy: 0.8479 - val_loss: 1.9409 - val_accuracy: 0.7262\n",
            "Epoch 115/1000\n",
            "17/17 [==============================] - 1s 36ms/step - loss: 0.6053 - accuracy: 0.8463 - val_loss: 1.9849 - val_accuracy: 0.7119\n",
            "Epoch 116/1000\n",
            "17/17 [==============================] - 1s 37ms/step - loss: 0.6013 - accuracy: 0.8466 - val_loss: 1.8978 - val_accuracy: 0.7333\n",
            "Epoch 117/1000\n",
            "17/17 [==============================] - 1s 38ms/step - loss: 0.5962 - accuracy: 0.8455 - val_loss: 1.9638 - val_accuracy: 0.7214\n",
            "Epoch 118/1000\n",
            "17/17 [==============================] - 1s 66ms/step - loss: 0.5921 - accuracy: 0.8489 - val_loss: 1.9722 - val_accuracy: 0.7143\n",
            "Epoch 119/1000\n",
            "17/17 [==============================] - 1s 66ms/step - loss: 0.5920 - accuracy: 0.8484 - val_loss: 1.9859 - val_accuracy: 0.7214\n",
            "Epoch 120/1000\n",
            "17/17 [==============================] - 1s 65ms/step - loss: 0.5834 - accuracy: 0.8516 - val_loss: 1.9758 - val_accuracy: 0.7214\n",
            "Epoch 121/1000\n",
            "17/17 [==============================] - 1s 39ms/step - loss: 0.5809 - accuracy: 0.8537 - val_loss: 2.0376 - val_accuracy: 0.7190\n",
            "Epoch 122/1000\n",
            "17/17 [==============================] - 1s 37ms/step - loss: 0.5715 - accuracy: 0.8556 - val_loss: 2.0163 - val_accuracy: 0.7167\n",
            "Epoch 123/1000\n",
            "17/17 [==============================] - 1s 37ms/step - loss: 0.5700 - accuracy: 0.8556 - val_loss: 1.9696 - val_accuracy: 0.7286\n",
            "Epoch 124/1000\n",
            "17/17 [==============================] - 1s 37ms/step - loss: 0.5727 - accuracy: 0.8521 - val_loss: 1.9677 - val_accuracy: 0.7214\n",
            "Epoch 125/1000\n",
            "17/17 [==============================] - 1s 38ms/step - loss: 0.5624 - accuracy: 0.8545 - val_loss: 1.9233 - val_accuracy: 0.7357\n",
            "Epoch 126/1000\n",
            "17/17 [==============================] - 1s 39ms/step - loss: 0.5619 - accuracy: 0.8548 - val_loss: 1.9490 - val_accuracy: 0.7190\n",
            "Epoch 127/1000\n",
            "17/17 [==============================] - 1s 38ms/step - loss: 0.5508 - accuracy: 0.8608 - val_loss: 1.9644 - val_accuracy: 0.7190\n",
            "Epoch 128/1000\n",
            "17/17 [==============================] - 1s 38ms/step - loss: 0.5559 - accuracy: 0.8571 - val_loss: 1.9689 - val_accuracy: 0.7238\n",
            "Epoch 129/1000\n",
            "17/17 [==============================] - 1s 37ms/step - loss: 0.5384 - accuracy: 0.8611 - val_loss: 1.9356 - val_accuracy: 0.7214\n",
            "Epoch 130/1000\n",
            "17/17 [==============================] - 1s 37ms/step - loss: 0.5299 - accuracy: 0.8624 - val_loss: 2.0143 - val_accuracy: 0.7143\n",
            "Epoch 131/1000\n",
            "17/17 [==============================] - 1s 38ms/step - loss: 0.5303 - accuracy: 0.8635 - val_loss: 2.0229 - val_accuracy: 0.7167\n",
            "Epoch 132/1000\n",
            "17/17 [==============================] - 1s 38ms/step - loss: 0.5272 - accuracy: 0.8664 - val_loss: 1.9619 - val_accuracy: 0.7286\n",
            "Epoch 133/1000\n",
            "17/17 [==============================] - 1s 37ms/step - loss: 0.5277 - accuracy: 0.8656 - val_loss: 2.0003 - val_accuracy: 0.7214\n",
            "Epoch 134/1000\n",
            "17/17 [==============================] - 1s 40ms/step - loss: 0.5207 - accuracy: 0.8680 - val_loss: 2.0470 - val_accuracy: 0.7214\n",
            "Epoch 135/1000\n",
            "17/17 [==============================] - 1s 38ms/step - loss: 0.5165 - accuracy: 0.8693 - val_loss: 1.9584 - val_accuracy: 0.7310\n",
            "Epoch 136/1000\n",
            "17/17 [==============================] - 1s 58ms/step - loss: 0.5129 - accuracy: 0.8701 - val_loss: 1.9783 - val_accuracy: 0.7262\n",
            "Epoch 137/1000\n",
            "17/17 [==============================] - 1s 67ms/step - loss: 0.5104 - accuracy: 0.8685 - val_loss: 1.9609 - val_accuracy: 0.7190\n",
            "Epoch 138/1000\n",
            "17/17 [==============================] - 1s 65ms/step - loss: 0.5075 - accuracy: 0.8696 - val_loss: 1.9516 - val_accuracy: 0.7310\n",
            "Epoch 139/1000\n",
            "17/17 [==============================] - 1s 42ms/step - loss: 0.5066 - accuracy: 0.8675 - val_loss: 1.9604 - val_accuracy: 0.7333\n",
            "Epoch 140/1000\n",
            "17/17 [==============================] - 1s 38ms/step - loss: 0.5008 - accuracy: 0.8698 - val_loss: 1.9649 - val_accuracy: 0.7286\n",
            "Epoch 141/1000\n",
            "17/17 [==============================] - 1s 37ms/step - loss: 0.4975 - accuracy: 0.8728 - val_loss: 1.9969 - val_accuracy: 0.7262\n",
            "Epoch 142/1000\n",
            "17/17 [==============================] - 1s 38ms/step - loss: 0.4916 - accuracy: 0.8733 - val_loss: 2.0015 - val_accuracy: 0.7167\n",
            "Epoch 143/1000\n",
            "17/17 [==============================] - 1s 38ms/step - loss: 0.4909 - accuracy: 0.8704 - val_loss: 2.0211 - val_accuracy: 0.7214\n",
            "Epoch 144/1000\n",
            "17/17 [==============================] - 1s 37ms/step - loss: 0.4897 - accuracy: 0.8722 - val_loss: 2.0654 - val_accuracy: 0.7095\n",
            "Epoch 145/1000\n",
            "17/17 [==============================] - 1s 38ms/step - loss: 0.4918 - accuracy: 0.8735 - val_loss: 2.0079 - val_accuracy: 0.7190\n",
            "Epoch 146/1000\n",
            "17/17 [==============================] - 1s 37ms/step - loss: 0.4779 - accuracy: 0.8757 - val_loss: 2.0016 - val_accuracy: 0.7214\n",
            "Epoch 147/1000\n",
            "17/17 [==============================] - 1s 37ms/step - loss: 0.4741 - accuracy: 0.8802 - val_loss: 2.0508 - val_accuracy: 0.7238\n",
            "Epoch 148/1000\n",
            "17/17 [==============================] - 1s 37ms/step - loss: 0.4767 - accuracy: 0.8770 - val_loss: 2.0217 - val_accuracy: 0.7190\n",
            "Epoch 149/1000\n",
            "17/17 [==============================] - 1s 37ms/step - loss: 0.4685 - accuracy: 0.8807 - val_loss: 1.9615 - val_accuracy: 0.7286\n",
            "Epoch 150/1000\n",
            "17/17 [==============================] - 1s 38ms/step - loss: 0.4729 - accuracy: 0.8770 - val_loss: 1.9740 - val_accuracy: 0.7262\n",
            "Epoch 151/1000\n",
            "17/17 [==============================] - 1s 38ms/step - loss: 0.4689 - accuracy: 0.8794 - val_loss: 2.0510 - val_accuracy: 0.7262\n",
            "Epoch 152/1000\n",
            "17/17 [==============================] - 1s 39ms/step - loss: 0.4594 - accuracy: 0.8823 - val_loss: 2.0063 - val_accuracy: 0.7310\n",
            "Epoch 153/1000\n",
            "17/17 [==============================] - 2s 114ms/step - loss: 0.4513 - accuracy: 0.8862 - val_loss: 2.0693 - val_accuracy: 0.7167\n",
            "Epoch 154/1000\n",
            "17/17 [==============================] - 2s 139ms/step - loss: 0.4539 - accuracy: 0.8849 - val_loss: 2.0133 - val_accuracy: 0.7238\n",
            "Epoch 155/1000\n",
            "17/17 [==============================] - 1s 40ms/step - loss: 0.4546 - accuracy: 0.8807 - val_loss: 2.0673 - val_accuracy: 0.7190\n",
            "Epoch 156/1000\n",
            "17/17 [==============================] - 1s 40ms/step - loss: 0.4476 - accuracy: 0.8839 - val_loss: 1.9694 - val_accuracy: 0.7262\n",
            "Epoch 157/1000\n",
            "17/17 [==============================] - 1s 38ms/step - loss: 0.4451 - accuracy: 0.8828 - val_loss: 2.0779 - val_accuracy: 0.7143\n",
            "Epoch 158/1000\n",
            "17/17 [==============================] - 1s 39ms/step - loss: 0.4490 - accuracy: 0.8828 - val_loss: 2.0189 - val_accuracy: 0.7214\n",
            "Epoch 159/1000\n",
            "17/17 [==============================] - 1s 39ms/step - loss: 0.4393 - accuracy: 0.8852 - val_loss: 2.0178 - val_accuracy: 0.7238\n",
            "Epoch 160/1000\n",
            "17/17 [==============================] - 1s 38ms/step - loss: 0.4351 - accuracy: 0.8865 - val_loss: 2.0000 - val_accuracy: 0.7310\n",
            "Epoch 161/1000\n",
            "17/17 [==============================] - 1s 42ms/step - loss: 0.4341 - accuracy: 0.8862 - val_loss: 2.0069 - val_accuracy: 0.7262\n",
            "Epoch 162/1000\n",
            "17/17 [==============================] - 1s 38ms/step - loss: 0.4338 - accuracy: 0.8854 - val_loss: 2.0327 - val_accuracy: 0.7214\n",
            "Epoch 163/1000\n",
            "17/17 [==============================] - 1s 37ms/step - loss: 0.4314 - accuracy: 0.8894 - val_loss: 2.0239 - val_accuracy: 0.7238\n",
            "Epoch 164/1000\n",
            "17/17 [==============================] - 1s 40ms/step - loss: 0.4290 - accuracy: 0.8860 - val_loss: 2.0156 - val_accuracy: 0.7262\n",
            "Epoch 165/1000\n",
            "17/17 [==============================] - 1s 39ms/step - loss: 0.4214 - accuracy: 0.8907 - val_loss: 2.0488 - val_accuracy: 0.7238\n",
            "Epoch 166/1000\n",
            "17/17 [==============================] - 1s 38ms/step - loss: 0.4238 - accuracy: 0.8844 - val_loss: 2.0235 - val_accuracy: 0.7286\n",
            "Epoch 167/1000\n",
            "17/17 [==============================] - 1s 38ms/step - loss: 0.4163 - accuracy: 0.8889 - val_loss: 2.0377 - val_accuracy: 0.7262\n",
            "Epoch 168/1000\n",
            "17/17 [==============================] - 1s 38ms/step - loss: 0.4093 - accuracy: 0.8915 - val_loss: 2.0784 - val_accuracy: 0.7190\n",
            "Epoch 169/1000\n",
            "17/17 [==============================] - 1s 37ms/step - loss: 0.4193 - accuracy: 0.8889 - val_loss: 2.0506 - val_accuracy: 0.7286\n",
            "Epoch 170/1000\n",
            "17/17 [==============================] - 1s 64ms/step - loss: 0.4140 - accuracy: 0.8892 - val_loss: 2.1063 - val_accuracy: 0.7143\n",
            "Epoch 171/1000\n",
            "17/17 [==============================] - 1s 65ms/step - loss: 0.4005 - accuracy: 0.8947 - val_loss: 2.0388 - val_accuracy: 0.7286\n",
            "Epoch 172/1000\n",
            "17/17 [==============================] - 1s 68ms/step - loss: 0.4101 - accuracy: 0.8897 - val_loss: 2.0561 - val_accuracy: 0.7238\n",
            "Epoch 173/1000\n",
            "17/17 [==============================] - 1s 39ms/step - loss: 0.3990 - accuracy: 0.8963 - val_loss: 2.0534 - val_accuracy: 0.7238\n",
            "Epoch 174/1000\n",
            "17/17 [==============================] - 1s 39ms/step - loss: 0.4017 - accuracy: 0.8905 - val_loss: 2.0871 - val_accuracy: 0.7190\n",
            "Epoch 175/1000\n",
            "17/17 [==============================] - 1s 38ms/step - loss: 0.3946 - accuracy: 0.8992 - val_loss: 2.0806 - val_accuracy: 0.7190\n",
            "Epoch 176/1000\n",
            "17/17 [==============================] - 1s 39ms/step - loss: 0.3970 - accuracy: 0.8950 - val_loss: 2.1212 - val_accuracy: 0.7214\n",
            "Epoch 177/1000\n",
            "17/17 [==============================] - 1s 38ms/step - loss: 0.3972 - accuracy: 0.8937 - val_loss: 2.0205 - val_accuracy: 0.7333\n",
            "Epoch 178/1000\n",
            "17/17 [==============================] - 1s 38ms/step - loss: 0.3924 - accuracy: 0.8947 - val_loss: 2.1345 - val_accuracy: 0.7167\n",
            "Epoch 179/1000\n",
            "17/17 [==============================] - 1s 38ms/step - loss: 0.3887 - accuracy: 0.8923 - val_loss: 2.1373 - val_accuracy: 0.7143\n",
            "Epoch 180/1000\n",
            "17/17 [==============================] - 1s 37ms/step - loss: 0.3855 - accuracy: 0.8944 - val_loss: 2.1179 - val_accuracy: 0.7143\n",
            "Epoch 181/1000\n",
            "17/17 [==============================] - 1s 40ms/step - loss: 0.3846 - accuracy: 0.8958 - val_loss: 2.1328 - val_accuracy: 0.7214\n",
            "Epoch 182/1000\n",
            "17/17 [==============================] - 1s 38ms/step - loss: 0.3810 - accuracy: 0.8958 - val_loss: 2.1754 - val_accuracy: 0.7071\n",
            "Epoch 183/1000\n",
            "17/17 [==============================] - 1s 37ms/step - loss: 0.3764 - accuracy: 0.8995 - val_loss: 2.2040 - val_accuracy: 0.7000\n",
            "Epoch 184/1000\n",
            "17/17 [==============================] - 1s 38ms/step - loss: 0.3746 - accuracy: 0.9000 - val_loss: 2.0568 - val_accuracy: 0.7286\n",
            "Epoch 185/1000\n",
            "17/17 [==============================] - 1s 39ms/step - loss: 0.3704 - accuracy: 0.9013 - val_loss: 2.1163 - val_accuracy: 0.7214\n",
            "Epoch 186/1000\n",
            "17/17 [==============================] - 1s 37ms/step - loss: 0.3718 - accuracy: 0.8979 - val_loss: 2.1020 - val_accuracy: 0.7214\n",
            "Epoch 187/1000\n",
            "17/17 [==============================] - 1s 39ms/step - loss: 0.3723 - accuracy: 0.8981 - val_loss: 2.1121 - val_accuracy: 0.7119\n",
            "Epoch 188/1000\n",
            "17/17 [==============================] - 1s 63ms/step - loss: 0.3681 - accuracy: 0.9000 - val_loss: 2.0533 - val_accuracy: 0.7190\n",
            "Epoch 189/1000\n",
            "17/17 [==============================] - 1s 70ms/step - loss: 0.3624 - accuracy: 0.8992 - val_loss: 2.0877 - val_accuracy: 0.7214\n",
            "Epoch 190/1000\n",
            "17/17 [==============================] - 1s 66ms/step - loss: 0.3657 - accuracy: 0.9011 - val_loss: 2.0736 - val_accuracy: 0.7262\n",
            "Epoch 191/1000\n",
            "17/17 [==============================] - 1s 41ms/step - loss: 0.3594 - accuracy: 0.8997 - val_loss: 2.1788 - val_accuracy: 0.7095\n",
            "Epoch 192/1000\n",
            "17/17 [==============================] - 1s 38ms/step - loss: 0.3688 - accuracy: 0.8968 - val_loss: 2.0228 - val_accuracy: 0.7262\n",
            "Epoch 193/1000\n",
            "17/17 [==============================] - 1s 39ms/step - loss: 0.3532 - accuracy: 0.9058 - val_loss: 2.1200 - val_accuracy: 0.7143\n",
            "Epoch 194/1000\n",
            "17/17 [==============================] - 1s 38ms/step - loss: 0.3497 - accuracy: 0.9040 - val_loss: 2.0631 - val_accuracy: 0.7357\n",
            "Epoch 195/1000\n",
            "17/17 [==============================] - 1s 38ms/step - loss: 0.3537 - accuracy: 0.9026 - val_loss: 2.0448 - val_accuracy: 0.7286\n",
            "Epoch 196/1000\n",
            "17/17 [==============================] - 1s 39ms/step - loss: 0.3525 - accuracy: 0.9053 - val_loss: 2.0793 - val_accuracy: 0.7190\n",
            "Epoch 197/1000\n",
            "17/17 [==============================] - 1s 38ms/step - loss: 0.3449 - accuracy: 0.9058 - val_loss: 2.0609 - val_accuracy: 0.7381\n",
            "Epoch 198/1000\n",
            "17/17 [==============================] - 1s 38ms/step - loss: 0.3484 - accuracy: 0.9050 - val_loss: 2.0498 - val_accuracy: 0.7310\n",
            "Epoch 199/1000\n",
            "17/17 [==============================] - 1s 41ms/step - loss: 0.3483 - accuracy: 0.9066 - val_loss: 2.0185 - val_accuracy: 0.7357\n",
            "Epoch 200/1000\n",
            "17/17 [==============================] - 2s 93ms/step - loss: 0.3392 - accuracy: 0.9048 - val_loss: 2.0423 - val_accuracy: 0.7262\n",
            "Epoch 201/1000\n",
            "17/17 [==============================] - 1s 79ms/step - loss: 0.3392 - accuracy: 0.9071 - val_loss: 2.0798 - val_accuracy: 0.7190\n",
            "Epoch 202/1000\n",
            "17/17 [==============================] - 1s 38ms/step - loss: 0.3311 - accuracy: 0.9114 - val_loss: 2.1161 - val_accuracy: 0.7167\n",
            "Epoch 203/1000\n",
            "17/17 [==============================] - 1s 53ms/step - loss: 0.3377 - accuracy: 0.9063 - val_loss: 2.1089 - val_accuracy: 0.7167\n",
            "Epoch 204/1000\n",
            "17/17 [==============================] - 1s 67ms/step - loss: 0.3318 - accuracy: 0.9085 - val_loss: 2.1696 - val_accuracy: 0.7190\n",
            "Epoch 205/1000\n",
            "17/17 [==============================] - 1s 69ms/step - loss: 0.3383 - accuracy: 0.9090 - val_loss: 2.0871 - val_accuracy: 0.7286\n",
            "Epoch 206/1000\n",
            "17/17 [==============================] - 1s 47ms/step - loss: 0.3348 - accuracy: 0.9077 - val_loss: 2.0849 - val_accuracy: 0.7310\n",
            "Epoch 207/1000\n",
            "17/17 [==============================] - 1s 39ms/step - loss: 0.3247 - accuracy: 0.9148 - val_loss: 2.0812 - val_accuracy: 0.7310\n",
            "Epoch 208/1000\n",
            "17/17 [==============================] - 1s 39ms/step - loss: 0.3325 - accuracy: 0.9103 - val_loss: 2.1055 - val_accuracy: 0.7310\n",
            "Epoch 209/1000\n",
            "17/17 [==============================] - 1s 73ms/step - loss: 0.3228 - accuracy: 0.9135 - val_loss: 2.1666 - val_accuracy: 0.7095\n",
            "Epoch 210/1000\n",
            "17/17 [==============================] - 2s 98ms/step - loss: 0.3289 - accuracy: 0.9087 - val_loss: 2.0763 - val_accuracy: 0.7238\n",
            "Epoch 211/1000\n",
            "17/17 [==============================] - 1s 84ms/step - loss: 0.3207 - accuracy: 0.9132 - val_loss: 2.0915 - val_accuracy: 0.7190\n",
            "Epoch 212/1000\n",
            "17/17 [==============================] - 2s 91ms/step - loss: 0.3180 - accuracy: 0.9116 - val_loss: 2.0788 - val_accuracy: 0.7310\n",
            "Epoch 213/1000\n",
            "17/17 [==============================] - 1s 56ms/step - loss: 0.3106 - accuracy: 0.9180 - val_loss: 2.0766 - val_accuracy: 0.7333\n",
            "Epoch 214/1000\n",
            "17/17 [==============================] - 1s 40ms/step - loss: 0.3109 - accuracy: 0.9153 - val_loss: 2.1343 - val_accuracy: 0.7143\n",
            "Epoch 215/1000\n",
            "17/17 [==============================] - 1s 40ms/step - loss: 0.3136 - accuracy: 0.9172 - val_loss: 2.1314 - val_accuracy: 0.7262\n",
            "Epoch 216/1000\n",
            "17/17 [==============================] - 1s 70ms/step - loss: 0.3110 - accuracy: 0.9167 - val_loss: 2.0651 - val_accuracy: 0.7262\n",
            "Epoch 217/1000\n",
            "17/17 [==============================] - 1s 79ms/step - loss: 0.3169 - accuracy: 0.9159 - val_loss: 2.0882 - val_accuracy: 0.7333\n",
            "Epoch 218/1000\n",
            "17/17 [==============================] - 2s 114ms/step - loss: 0.3095 - accuracy: 0.9153 - val_loss: 2.1181 - val_accuracy: 0.7238\n",
            "Epoch 219/1000\n",
            "17/17 [==============================] - 2s 117ms/step - loss: 0.3118 - accuracy: 0.9175 - val_loss: 2.0484 - val_accuracy: 0.7405\n",
            "Epoch 220/1000\n",
            "17/17 [==============================] - 1s 46ms/step - loss: 0.3038 - accuracy: 0.9188 - val_loss: 2.0984 - val_accuracy: 0.7333\n",
            "Epoch 221/1000\n",
            "17/17 [==============================] - 1s 38ms/step - loss: 0.3045 - accuracy: 0.9140 - val_loss: 2.0816 - val_accuracy: 0.7310\n",
            "Epoch 222/1000\n",
            "17/17 [==============================] - 1s 38ms/step - loss: 0.2974 - accuracy: 0.9206 - val_loss: 2.0773 - val_accuracy: 0.7286\n",
            "Epoch 223/1000\n",
            "17/17 [==============================] - 1s 37ms/step - loss: 0.3053 - accuracy: 0.9156 - val_loss: 2.1188 - val_accuracy: 0.7190\n",
            "Epoch 224/1000\n",
            "17/17 [==============================] - 1s 39ms/step - loss: 0.2965 - accuracy: 0.9198 - val_loss: 2.1092 - val_accuracy: 0.7262\n",
            "Epoch 225/1000\n",
            "17/17 [==============================] - 1s 40ms/step - loss: 0.2956 - accuracy: 0.9209 - val_loss: 2.1279 - val_accuracy: 0.7214\n",
            "Epoch 226/1000\n",
            "17/17 [==============================] - 1s 66ms/step - loss: 0.2955 - accuracy: 0.9172 - val_loss: 2.1003 - val_accuracy: 0.7214\n",
            "Epoch 227/1000\n",
            "17/17 [==============================] - 1s 56ms/step - loss: 0.2934 - accuracy: 0.9228 - val_loss: 2.0988 - val_accuracy: 0.7238\n",
            "Epoch 228/1000\n",
            "17/17 [==============================] - 1s 38ms/step - loss: 0.2913 - accuracy: 0.9243 - val_loss: 2.1146 - val_accuracy: 0.7167\n",
            "Epoch 229/1000\n",
            "17/17 [==============================] - 1s 55ms/step - loss: 0.2893 - accuracy: 0.9204 - val_loss: 2.0586 - val_accuracy: 0.7190\n",
            "Epoch 230/1000\n",
            "17/17 [==============================] - 1s 67ms/step - loss: 0.2883 - accuracy: 0.9209 - val_loss: 2.1022 - val_accuracy: 0.7190\n",
            "Epoch 231/1000\n",
            "17/17 [==============================] - 1s 69ms/step - loss: 0.2817 - accuracy: 0.9228 - val_loss: 2.0671 - val_accuracy: 0.7214\n",
            "Epoch 232/1000\n",
            "17/17 [==============================] - 1s 49ms/step - loss: 0.2971 - accuracy: 0.9177 - val_loss: 2.0660 - val_accuracy: 0.7333\n",
            "Epoch 233/1000\n",
            "17/17 [==============================] - 1s 53ms/step - loss: 0.2744 - accuracy: 0.9278 - val_loss: 2.0878 - val_accuracy: 0.7262\n",
            "Epoch 234/1000\n",
            "17/17 [==============================] - 1s 75ms/step - loss: 0.2803 - accuracy: 0.9233 - val_loss: 2.0991 - val_accuracy: 0.7286\n",
            "Epoch 235/1000\n",
            "17/17 [==============================] - 1s 38ms/step - loss: 0.2832 - accuracy: 0.9235 - val_loss: 2.0977 - val_accuracy: 0.7214\n",
            "Epoch 236/1000\n",
            "17/17 [==============================] - 1s 39ms/step - loss: 0.2800 - accuracy: 0.9243 - val_loss: 2.1096 - val_accuracy: 0.7262\n",
            "Epoch 237/1000\n",
            "17/17 [==============================] - 1s 40ms/step - loss: 0.2741 - accuracy: 0.9251 - val_loss: 2.1490 - val_accuracy: 0.7238\n",
            "Epoch 238/1000\n",
            "17/17 [==============================] - 1s 40ms/step - loss: 0.2657 - accuracy: 0.9312 - val_loss: 2.0933 - val_accuracy: 0.7381\n",
            "Epoch 239/1000\n",
            "17/17 [==============================] - 1s 41ms/step - loss: 0.2791 - accuracy: 0.9225 - val_loss: 2.1646 - val_accuracy: 0.7286\n",
            "Epoch 240/1000\n",
            "17/17 [==============================] - 1s 40ms/step - loss: 0.2718 - accuracy: 0.9230 - val_loss: 2.0998 - val_accuracy: 0.7238\n",
            "Epoch 241/1000\n",
            "17/17 [==============================] - 1s 39ms/step - loss: 0.2675 - accuracy: 0.9257 - val_loss: 2.1097 - val_accuracy: 0.7357\n",
            "Epoch 242/1000\n",
            "17/17 [==============================] - 1s 39ms/step - loss: 0.2682 - accuracy: 0.9272 - val_loss: 2.0183 - val_accuracy: 0.7310\n",
            "Epoch 243/1000\n",
            "17/17 [==============================] - ETA: 0s - loss: 0.2701 - accuracy: 0.9262Restoring model weights from the end of the best epoch: 238.\n",
            "17/17 [==============================] - 1s 42ms/step - loss: 0.2701 - accuracy: 0.9262 - val_loss: 2.1168 - val_accuracy: 0.7286\n",
            "Epoch 243: early stopping\n"
          ]
        }
      ],
      "source": [
        "# Configure the model and start training\n",
        "# Stop training with early stopping with patience of 20\n",
        "callbacks_list = [EarlyStopping(monitor='loss', mode='min', min_delta=0.000001,\n",
        "                                patience=5, restore_best_weights=True, verbose=1,\n",
        "                                )]\n",
        "history = model.fit([spanish_sentences, english_teacher_enc], english_target_enc,\n",
        "                    validation_split=0.1,\n",
        "                    epochs=1000, batch_size=BATCH_SIZE,\n",
        "                    callbacks=callbacks_list,\n",
        "                    verbose=1)\n",
        "\n",
        "\n",
        "#dont use th evlaidation split in real problem only use training set"
      ]
    },
    {
      "cell_type": "code",
      "execution_count": 24,
      "id": "f750fa7a",
      "metadata": {
        "ExecuteTime": {
          "end_time": "2023-01-26T17:23:21.827809Z",
          "start_time": "2023-01-26T17:23:02.033696Z"
        },
        "id": "f750fa7a",
        "outputId": "ebda4f27-1f45-4105-bdef-2f807ecb200a",
        "colab": {
          "base_uri": "https://localhost:8080/"
        }
      },
      "outputs": [
        {
          "output_type": "stream",
          "name": "stderr",
          "text": [
            "WARNING:absl:Found untraced functions such as _update_step_xla while saving (showing 1 of 1). These functions will not be directly callable after loading.\n"
          ]
        }
      ],
      "source": [
        "model.save('seq2seq-attention-variable')"
      ]
    },
    {
      "cell_type": "code",
      "execution_count": 25,
      "id": "59feece5",
      "metadata": {
        "ExecuteTime": {
          "end_time": "2023-01-26T17:23:22.328438Z",
          "start_time": "2023-01-26T17:23:21.830971Z"
        },
        "scrolled": true,
        "id": "59feece5",
        "outputId": "3f5272cc-b226-4872-a3b8-1d7905fb9312",
        "colab": {
          "base_uri": "https://localhost:8080/",
          "height": 338
        }
      },
      "outputs": [
        {
          "output_type": "execute_result",
          "data": {
            "text/plain": [
              "(0.2657064199447632, 0.9312169551849365)"
            ]
          },
          "metadata": {},
          "execution_count": 25
        },
        {
          "output_type": "display_data",
          "data": {
            "text/plain": [
              "<Figure size 1296x360 with 2 Axes>"
            ],
            "image/png": "[encoded data removed]"
          },
          "metadata": {
            "needs_background": "light"
          }
        }
      ],
      "source": [
        "# Babysit the model\n",
        "fig, (ax1, ax2) = plt.subplots(nrows=1, ncols=2, figsize=(18, 5))\n",
        "\n",
        "pd.DataFrame({'val_loss':history.history['val_loss'],\n",
        "              'loss':history.history['loss'],\n",
        "             }).plot(ax=ax1)\n",
        "pd.DataFrame({'val_accuracy':history.history['val_accuracy'],\n",
        "              'accuracy':history.history['accuracy']\n",
        "             }).plot(ax=ax2)\n",
        "\n",
        "min(history.history['loss']), max(history.history['accuracy'])"
      ]
    },
    {
      "cell_type": "code",
      "execution_count": 27,
      "id": "3697386d",
      "metadata": {
        "ExecuteTime": {
          "end_time": "2023-01-26T17:27:16.110444Z",
          "start_time": "2023-01-26T17:27:16.095778Z"
        },
        "id": "3697386d",
        "outputId": "59c434dc-7e71-40f6-fc3f-01ada197616a",
        "colab": {
          "base_uri": "https://localhost:8080/",
          "height": 36
        }
      },
      "outputs": [
        {
          "output_type": "execute_result",
          "data": {
            "text/plain": [
              "'MLP'"
            ],
            "application/vnd.google.colaboratory.intrinsic+json": {
              "type": "string"
            }
          },
          "metadata": {},
          "execution_count": 27
        }
      ],
      "source": [
        "attention_func"
      ]
    },
    {
      "cell_type": "markdown",
      "id": "1145ea97",
      "metadata": {
        "id": "1145ea97"
      },
      "source": [
        "* no attention : (0.170416459441185, 0.9534391760826111)\n",
        "* dot : (0.19616758823394775, 0.9447090029716492)\n",
        "* bilinear : (0.266628623008728, 0.9269841313362122)\n",
        "* MLP : (0.12090284377336502, 0.9666666388511658)"
      ]
    },
    {
      "cell_type": "markdown",
      "id": "cff3d499",
      "metadata": {
        "id": "cff3d499"
      },
      "source": [
        "## Inference\n",
        "\n"
      ]
    },
    {
      "cell_type": "code",
      "source": [
        "print(list(enumerate(english_vectorizer.get_vocabulary())))"
      ],
      "metadata": {
        "colab": {
          "base_uri": "https://localhost:8080/"
        },
        "id": "80nD2J0_yco3",
        "outputId": "8536df14-eb3f-46cd-d3cb-1449080c8030"
      },
      "id": "80nD2J0_yco3",
      "execution_count": 35,
      "outputs": [
        {
          "output_type": "stream",
          "name": "stdout",
          "text": [
            "[(0, ''), (1, '[UNK]'), (2, 'take'), (3, 'calm'), (4, 'came'), (5, 'next'), (6, 'talked'), (7, 'off'), (8, 'll'), (9, 'fire'), (10, 'saw'), (11, 'do'), (12, 'oh'), (13, 'hard'), (14, 'look'), (15, 'gave'), (16, 'cheer'), (17, 'died'), (18, 'angry'), (19, 'laughed'), (20, 'like'), (21, 'quit'), (22, 'sad'), (23, 'cringed'), (24, 'fly'), (25, 'won'), (26, 'he'), (27, 'fair'), (28, 'bless'), (29, 'goodbye'), (30, 'failed'), (31, 'they'), (32, 'join'), (33, 'find'), (34, 'him'), (35, 'awesome'), (36, 'wept'), (37, 'okay'), (38, 'keep'), (39, 'runs'), (40, 'knew'), (41, 'feel'), (42, 'sing'), (43, 'fat'), (44, 'birds'), (45, 'crazy'), (46, 'after'), (47, 'try'), (48, 'wake'), (49, 'how'), (50, 'watch'), (51, 'hit'), (52, 'swam'), (53, 'love'), (54, 'kiss'), (55, 't'), (56, 'over'), (57, 'grab'), (58, 'hop'), (59, 'walk'), (60, 'full'), (61, 'on'), (62, 'ran'), (63, 'mean'), (64, 'shaved'), (65, 'for'), (66, 'to'), (67, 'show'), (68, 'am'), (69, 'tripped'), (70, 'thanks'), (71, 'perfect'), (72, 'cuff'), (73, 'odd'), (74, 'relax'), (75, 'late'), (76, 'rich'), (77, 'hurts'), (78, 'alone'), (79, 'hurry'), (80, 'trust'), (81, 'some'), (82, 'stand'), (83, 'fainted'), (84, 'up'), (85, 'them'), (86, 've'), (87, 'away'), (88, 'fantastic'), (89, 's'), (90, 'warn'), (91, 'live'), (92, 'follow'), (93, 'who'), (94, 'hurt'), (95, 'cute'), (96, 'good'), (97, 'now'), (98, 'weird'), (99, 'hate'), (100, 'brave'), (101, 'dj'), (102, 'deep'), (103, 'phoned'), (104, 'here'), (105, 'be'), (106, 'terrific'), (107, 'real'), (108, 'tried'), (109, 'guys'), (110, 'old'), (111, 'left'), (112, 'red'), (113, 'listen'), (114, 'this'), (115, 'quiet'), (116, 'hang'), (117, 'run'), (118, 'wet'), (119, 'his'), (120, 'know'), (121, 'open'), (122, 'so'), (123, 'bald'), (124, 'save'), (125, 'ate'), (126, 'bed'), (127, 'fit'), (128, 'resign'), (129, 'answer'), (130, '<end>'), (131, 'spoke'), (132, 'smile'), (133, 'free'), (134, 'forget'), (135, 'forgot'), (136, 'tidy'), (137, 'cool'), (138, 'call'), (139, 'i'), (140, 'home'), (141, 'no'), (142, 'welcome'), (143, 'may'), (144, 'job'), (145, '!'), (146, 'hello'), (147, 'get'), (148, 'that'), (149, 'why'), (150, 'hope'), (151, 'kind'), (152, 'new'), (153, 'sick'), (154, 'paid'), (155, 'easy'), (156, 'hug'), (157, 'nice'), (158, 'down'), (159, 'fun'), (160, 'lazy'), (161, 'safe'), (162, 'lies'), (163, 'it'), (164, 'weak'), (165, 'she'), (166, 'work'), (167, 'use'), (168, 'really'), (169, 'shy'), (170, 'pay'), (171, 'hi'), (172, 'one'), (173, 'fix'), (174, 'dying'), (175, 'fast'), (176, 'out'), (177, 'did'), (178, 'lied'), (179, 'wash'), (180, 'stayed'), (181, 'see'), (182, 'ahead'), (183, 'warm'), (184, 'write'), (185, 'me'), (186, 'skip'), (187, 'lost'), (188, 'tries'), (189, ','), (190, 'let'), (191, 'not'), (192, 'help'), (193, 'soon'), (194, 'inside'), (195, 'long'), (196, 'come'), (197, 'agreed'), (198, 'poor'), (199, 'bowed'), (200, 'what'), (201, 'beg'), (202, 'drop'), (203, '?'), (204, 'awake'), (205, 'wait'), (206, 'still'), (207, 'tom'), (208, 'go'), (209, 'wise'), (210, 'fine'), (211, 'you'), (212, 'we'), (213, 'works'), (214, 'put'), (215, 'ski'), (216, 'tell'), (217, '.'), (218, 'drive'), (219, 'cook'), (220, 'pro'), (221, 'shut'), (222, 'drunk'), (223, 'bark'), (224, 'slow'), (225, 'stay'), (226, 'fell'), (227, 'care'), (228, 'humor'), (229, 'done'), (230, 'thin'), (231, 'way'), (232, 'slept'), (233, 'a'), (234, 'brief'), (235, 'marry'), (236, 'can'), (237, '<start>'), (238, 'jump'), (239, 'don'), (240, 'too'), (241, 'leave'), (242, 'stop'), (243, 'catch'), (244, 'us'), (245, 'in'), (246, 'beat'), (247, 'got'), (248, 'by'), (249, 'aim'), (250, 'waited'), (251, 'helps'), (252, 'busy'), (253, 'miss'), (254, 're'), (255, 'lie'), (256, 'have'), (257, 'dogs'), (258, 'moved'), (259, 'man'), (260, 'speak'), (261, 'agree'), (262, 'refuse'), (263, 'need'), (264, 'ready'), (265, 'first'), (266, 'ok'), (267, 'is'), (268, 'awful'), (269, 'smiled'), (270, 'blind'), (271, 'back'), (272, 'sit'), (273, 'hold'), (274, 'cry'), (275, 'm'), (276, 'ask'), (277, 'broke'), (278, 'attack')]\n"
          ]
        }
      ]
    },
    {
      "cell_type": "code",
      "execution_count": 36,
      "id": "55fe5f28",
      "metadata": {
        "ExecuteTime": {
          "end_time": "2023-01-26T17:27:21.705705Z",
          "start_time": "2023-01-26T17:27:21.689971Z"
        },
        "id": "55fe5f28"
      },
      "outputs": [],
      "source": [
        "# To decode, you have to transform an integer into a word.\n",
        "token2word = {token:word for token, word in enumerate(english_vectorizer.get_vocabulary())}\n",
        "word2token = {v:k for k, v in token2word.items()}\n",
        "\n",
        "def decode_english_sentence(lang):\n",
        "    return \" \".join([token2word[t] for t in lang]).strip()"
      ]
    },
    {
      "cell_type": "code",
      "execution_count": 37,
      "id": "526513a3",
      "metadata": {
        "ExecuteTime": {
          "end_time": "2023-01-26T17:27:22.291924Z",
          "start_time": "2023-01-26T17:27:22.281634Z"
        },
        "id": "526513a3"
      },
      "outputs": [],
      "source": [
        "i2w = {token:word for token, word in enumerate(spanish_vectorizer.get_vocabulary())}\n",
        "#wi = {v:k for k, v in i2w.items()}"
      ]
    },
    {
      "cell_type": "code",
      "execution_count": 38,
      "id": "2193c268",
      "metadata": {
        "ExecuteTime": {
          "end_time": "2023-01-26T17:27:22.944857Z",
          "start_time": "2023-01-26T17:27:22.937345Z"
        },
        "code_folding": [],
        "id": "2193c268"
      },
      "outputs": [],
      "source": [
        "def translate(spanish_sent, preprocessing=False):\n",
        "    # Encode the input as state vectors.\n",
        "    if not preprocessing:\n",
        "        spanish_sent = step1(spanish_sent)\n",
        "    \n",
        "    # Sampling loop for decoding one sentence.\n",
        "    stop_condition = False\n",
        "    steps = 0\n",
        "    \n",
        "    # Build teacher for first step i.e. populate the first word of target sequence with \"<start>\".\n",
        "    target_seq = np.zeros(((1, max_length_english)))\n",
        "    target_seq[0, steps] = word2token[\"<start>\"]\n",
        "    \n",
        "    while not stop_condition:        \n",
        "        # Predict\n",
        "        predicted_tokens = model.predict([np.array(spanish_sent, ndmin=2), target_seq], verbose=0)\n",
        "        predicted_tokens = np.argmax(predicted_tokens, axis=2)\n",
        "        \n",
        "        # Sample a token\n",
        "        sampled_token_index = predicted_tokens[0, steps]\n",
        "        \n",
        "        # Update the target sequence.\n",
        "        steps += 1\n",
        "        target_seq[0, steps] = sampled_token_index\n",
        "        \n",
        "        # Exit condition: either hit max length\n",
        "        # or find stop character.\n",
        "        if sampled_token_index==word2token['<end>'] or steps==max_length_english-1:\n",
        "            stop_condition = True\n",
        "    return decode_english_sentence(target_seq[0])"
      ]
    },
    {
      "cell_type": "code",
      "execution_count": 39,
      "id": "5403562f",
      "metadata": {
        "ExecuteTime": {
          "end_time": "2023-01-26T17:31:18.906320Z",
          "start_time": "2023-01-26T17:27:23.643401Z"
        },
        "id": "5403562f",
        "outputId": "3ff7c7e3-9414-4ed9-d3c5-d766e873fdca",
        "colab": {
          "base_uri": "https://localhost:8080/"
        }
      },
      "outputs": [
        {
          "output_type": "stream",
          "name": "stderr",
          "text": [
            "600it [03:51,  2.59it/s]\n"
          ]
        }
      ],
      "source": [
        "# Allows you to search for the correct phrases.\n",
        "from tqdm import tqdm\n",
        "\n",
        "correct = []\n",
        "incorrect = []\n",
        "for i, (spanish_sent, english_sent) in tqdm(enumerate(zip(spanish_sentences, english_sentences))):\n",
        "    decoded_sentence = translate(spanish_sent)\n",
        "    decoded = english_vectorizer(decoded_sentence).numpy()\n",
        "    original = english_vectorizer(english_sent).numpy()\n",
        "    if len(decoded)==len(original) and sum(decoded==original)==len(original):\n",
        "        correct += [i]\n",
        "    else:\n",
        "        incorrect += [i]"
      ]
    },
    {
      "cell_type": "code",
      "execution_count": 40,
      "id": "849a15f2",
      "metadata": {
        "ExecuteTime": {
          "end_time": "2023-01-26T17:31:18.941526Z",
          "start_time": "2023-01-26T17:31:18.922432Z"
        },
        "id": "849a15f2",
        "outputId": "c4d2b5bc-ac1c-46b3-8578-527778cc7638",
        "colab": {
          "base_uri": "https://localhost:8080/"
        }
      },
      "outputs": [
        {
          "output_type": "execute_result",
          "data": {
            "text/plain": [
              "(112, 18.666666666666668)"
            ]
          },
          "metadata": {},
          "execution_count": 40
        }
      ],
      "source": [
        "len(correct), len(correct)/len(spanish_sentences)*100"
      ]
    },
    {
      "cell_type": "markdown",
      "id": "127ef248",
      "metadata": {
        "id": "127ef248"
      },
      "source": [
        "On train set:\n",
        "* with variable length (208, 34.66)\n",
        "* with MLP attention and variable length (218, 36.333333333333336)"
      ]
    },
    {
      "cell_type": "code",
      "execution_count": 41,
      "id": "45e10f8f",
      "metadata": {
        "ExecuteTime": {
          "end_time": "2023-01-26T17:31:23.275993Z",
          "start_time": "2023-01-26T17:31:18.951181Z"
        },
        "id": "45e10f8f",
        "outputId": "2512b93a-92f2-4347-b783-b31a0113e01b",
        "colab": {
          "base_uri": "https://localhost:8080/"
        }
      },
      "outputs": [
        {
          "output_type": "stream",
          "name": "stdout",
          "text": [
            "==================================================\n",
            "<start> el es viejo . <end> --> <start> he is old . <end>\n",
            "<start> he is old . <end> ??? <start> he is old . <end>\n",
            "==================================================\n",
            "<start> el es anciano . <end> --> <start> he is old . <end>\n",
            "<start> he is old . <end> ??? <start> he is old . <end>\n",
            "==================================================\n",
            "<start> el se afeito . <end> --> <start> he shaved . <end>\n",
            "<start> he shaved . <end> ??? <start> he shaved . <end>\n",
            "==================================================\n",
            "<start> es rico . <end> --> <start> he s rich . <end>\n",
            "<start> he s rich . <end> ??? <start> he s rich . <end>\n",
            "==================================================\n",
            "<start> ¿ como esta tom ? <end> --> <start> how s tom ? <end>\n",
            "<start> how s tom ? <end> ??? <start> how s tom ? <end>\n",
            "==================================================\n",
            "<start> te lo ruego . <end> --> <start> i beg you . <end>\n",
            "<start> i beg you . <end> ??? <start> i beg you . <end>\n",
            "==================================================\n",
            "<start> te lo suplico . <end> --> <start> i beg you . <end>\n",
            "<start> i beg you . <end> ??? <start> i beg you . <end>\n",
            "==================================================\n",
            "<start> tire la toalla . <end> --> <start> i gave up . <end>\n",
            "<start> i gave up . <end> ??? <start> i gave up . <end>\n",
            "==================================================\n",
            "<start> te entiendo . <end> --> <start> i get you . <end>\n",
            "<start> i get you . <end> ??? <start> i get you . <end>\n",
            "==================================================\n",
            "<start> ya te pillo . <end> --> <start> i get you . <end>\n",
            "<start> i get you . <end> ??? <start> i get you . <end>\n"
          ]
        }
      ],
      "source": [
        "# Decodes selected correct sentences\n",
        "for spanish_sent, english_sent in zip(spanish_sentences[correct[-10:]], english_sentences[correct[-10:]]):\n",
        "    print(\"=\"*50)\n",
        "    print(spanish_sent, \"-->\", english_sent)\n",
        "    decoded_sentence = translate(spanish_sent)\n",
        "    print(english_sent, \"???\", decoded_sentence)"
      ]
    },
    {
      "cell_type": "code",
      "execution_count": 42,
      "id": "7614f834",
      "metadata": {
        "ExecuteTime": {
          "end_time": "2023-01-26T17:31:27.762848Z",
          "start_time": "2023-01-26T17:31:23.282708Z"
        },
        "id": "7614f834",
        "outputId": "74ce8949-3947-4c92-ed26-c7662f90a17b",
        "colab": {
          "base_uri": "https://localhost:8080/"
        }
      },
      "outputs": [
        {
          "output_type": "stream",
          "name": "stdout",
          "text": [
            "==================================================\n",
            "<start> estoy quebrado . <end> --> <start> i m broke . <end>\n",
            "<start> i m broke . <end> ??? <start> i m fat . <end>\n",
            "==================================================\n",
            "<start> estoy sin blanca . <end> --> <start> i m broke . <end>\n",
            "<start> i m broke . <end> ??? <start> i m fat . <end>\n",
            "==================================================\n",
            "<start> no tengo blanca . <end> --> <start> i m broke . <end>\n",
            "<start> i m broke . <end> ??? <start> don t go . <end>\n",
            "==================================================\n",
            "<start> estoy loco . <end> --> <start> i m crazy . <end>\n",
            "<start> i m crazy . <end> ??? <start> i m fat . <end>\n",
            "==================================================\n",
            "<start> estoy borracho . <end> --> <start> i m drunk . <end>\n",
            "<start> i m drunk . <end> ??? <start> i m fat . <end>\n",
            "==================================================\n",
            "<start> estoy tomada . <end> --> <start> i m drunk . <end>\n",
            "<start> i m drunk . <end> ??? <start> i m fat . <end>\n",
            "==================================================\n",
            "<start> estoy prendida . <end> --> <start> i m drunk . <end>\n",
            "<start> i m drunk . <end> ??? <start> i m fat . <end>\n",
            "==================================================\n",
            "<start> me estoy muriendo . <end> --> <start> i m dying . <end>\n",
            "<start> i m dying . <end> ??? <start> i moved . <end>\n",
            "==================================================\n",
            "<start> soy el primero . <end> --> <start> i m first . <end>\n",
            "<start> i m first . <end> ??? <start> i beg you . <end>\n",
            "==================================================\n",
            "<start> voy el primero . <end> --> <start> i m first . <end>\n",
            "<start> i m first . <end> ??? <start> join us . <end>\n"
          ]
        }
      ],
      "source": [
        "# Decodes selected incorrect sentences\n",
        "for spanish_sent, english_sent in zip(spanish_sentences[incorrect[-10:]], english_sentences[incorrect[-10:]]):\n",
        "    print(\"=\"*50)\n",
        "    print(spanish_sent, \"-->\", english_sent)\n",
        "    decoded_sentence = translate(spanish_sent)\n",
        "    print(english_sent, \"???\", decoded_sentence)"
      ]
    },
    {
      "cell_type": "markdown",
      "id": "60bd2168",
      "metadata": {
        "id": "60bd2168"
      },
      "source": [
        "##  Performance on never before seen data\n",
        "\n",
        "<font color='red'>\n",
        "    <bold>Warning:</bold> remember that we have overfitted the model and that we are only working on train data... and not test data.\n",
        "</font>"
      ]
    },
    {
      "cell_type": "code",
      "execution_count": 43,
      "id": "e013021c",
      "metadata": {
        "ExecuteTime": {
          "end_time": "2023-01-26T17:32:10.210646Z",
          "start_time": "2023-01-26T17:31:27.766827Z"
        },
        "id": "e013021c",
        "outputId": "5bad04ca-c284-4c5a-f20a-69bf6c1193f3",
        "colab": {
          "base_uri": "https://localhost:8080/"
        }
      },
      "outputs": [
        {
          "output_type": "stream",
          "name": "stderr",
          "text": [
            "100it [00:36,  2.73it/s]\n"
          ]
        },
        {
          "output_type": "execute_result",
          "data": {
            "text/plain": [
              "(0, 0.0)"
            ]
          },
          "metadata": {},
          "execution_count": 43
        }
      ],
      "source": [
        "# Allows you to search for the correct phrases.\n",
        "from tqdm import tqdm\n",
        "\n",
        "test_correct = []\n",
        "for i, (spanish_sent, english_sent) in tqdm(enumerate(zip(test_spanish_sentences, test_english_sentences))):\n",
        "    decoded_sentence = translate(spanish_sent)\n",
        "    decoded = english_vectorizer(decoded_sentence).numpy()\n",
        "    original = english_vectorizer(english_sent).numpy()\n",
        "    if len(decoded)==len(original) and sum(decoded==original)==len(original):\n",
        "        test_correct += [i]\n",
        "len(test_correct), len(test_correct)/len(test_spanish_sentences)*100"
      ]
    },
    {
      "cell_type": "markdown",
      "id": "8ad0431b",
      "metadata": {
        "id": "8ad0431b"
      },
      "source": [
        "## Plotting attention matrix "
      ]
    },
    {
      "cell_type": "code",
      "execution_count": 44,
      "id": "7d2ad7eb",
      "metadata": {
        "ExecuteTime": {
          "end_time": "2022-10-19T09:36:35.899853Z",
          "start_time": "2022-10-19T09:36:35.543632Z"
        },
        "id": "7d2ad7eb",
        "outputId": "cd4738be-f26d-4dce-f0a2-830fa6759b68",
        "colab": {
          "base_uri": "https://localhost:8080/",
          "height": 865
        }
      },
      "outputs": [
        {
          "output_type": "execute_result",
          "data": {
            "image/png": "[encoded data removed]",
            "text/plain": [
              "<IPython.core.display.Image object>"
            ]
          },
          "metadata": {},
          "execution_count": 44
        }
      ],
      "source": [
        "\"\"\" The activation matrix is extracted from the previous model. \"\"\"\n",
        "attention_model = Model([encoder_inputs, decoder_inputs], attention)\n",
        "plot_model(attention_model, show_shapes=True)"
      ]
    },
    {
      "cell_type": "code",
      "execution_count": 45,
      "id": "a5b3d87f",
      "metadata": {
        "ExecuteTime": {
          "end_time": "2022-10-19T09:37:29.229830Z",
          "start_time": "2022-10-19T09:37:29.227327Z"
        },
        "id": "a5b3d87f"
      },
      "outputs": [],
      "source": [
        "\"\"\" Apply model on one sentence \"\"\"\n",
        "id = 74 # 13, 42, 74"
      ]
    },
    {
      "cell_type": "code",
      "execution_count": 46,
      "id": "4393a143",
      "metadata": {
        "ExecuteTime": {
          "end_time": "2022-10-19T10:13:52.372353Z",
          "start_time": "2022-10-19T10:13:52.157800Z"
        },
        "id": "4393a143",
        "outputId": "7188092b-8ded-47c6-ce0a-35f1c9fc6900",
        "colab": {
          "base_uri": "https://localhost:8080/",
          "height": 239
        }
      },
      "outputs": [
        {
          "output_type": "stream",
          "name": "stdout",
          "text": [
            "1/1 [==============================] - 1s 638ms/step\n",
            "[1.0000001 1.        1.        1.        1.       ]\n"
          ]
        },
        {
          "output_type": "display_data",
          "data": {
            "text/plain": [
              "<Figure size 216x216 with 2 Axes>"
            ],
            "image/png": "[encoded data removed]"
          },
          "metadata": {
            "needs_background": "light"
          }
        }
      ],
      "source": [
        "import seaborn as sns\n",
        "\n",
        "attention_matrix = attention_model.predict([spanish_sentences[id:id+1], english_teacher_enc[id:id+1]])[0]\n",
        "\n",
        "x_labels = [spanish_vectorizer.get_vocabulary()[i] for i in spanish_vectorizer(spanish_sentences[id]).numpy() if i!=0]\n",
        "y_labels = [english_vectorizer.get_vocabulary()[i] for i in english_teacher_enc[id][:] if i!=0]\n",
        "attention_matrix = attention_matrix[:len(y_labels),:len(x_labels)]\n",
        "print(np.sum(attention_matrix, axis=1))\n",
        "\n",
        "\n",
        "#x_labels.reverse()\n",
        "#y_labels.reverse()\n",
        "\n",
        "# Set up the matplotlib figure\n",
        "f, ax = plt.subplots(figsize=(3, 3))\n",
        "# Generate a custom diverging colormap\n",
        "cmap = sns.diverging_palette(255, 10, as_cmap=True)\n",
        "# Draw the heatmap with the mask and correct aspect ratio\n",
        "sns.heatmap(attention_matrix, vmax=1.0,\n",
        "            xticklabels=x_labels,\n",
        "            yticklabels=y_labels,\n",
        "            cmap=cmap,\n",
        "            center=0,\n",
        "            square=True,\n",
        "            linewidths=.5,\n",
        "            cbar_kws={\"shrink\": .7},\n",
        "           );\n"
      ]
    },
    {
      "cell_type": "markdown",
      "id": "986f8433",
      "metadata": {
        "id": "986f8433"
      },
      "source": [
        "Respective weights between **c** and **h** to predict during the last layer."
      ]
    },
    {
      "cell_type": "code",
      "execution_count": 47,
      "id": "b4b5e129",
      "metadata": {
        "ExecuteTime": {
          "end_time": "2022-10-19T10:14:23.454324Z",
          "start_time": "2022-10-19T10:14:23.333601Z"
        },
        "id": "b4b5e129",
        "outputId": "60658473-9cc3-4917-8a76-49d7e55c1004",
        "colab": {
          "base_uri": "https://localhost:8080/",
          "height": 265
        }
      },
      "outputs": [
        {
          "output_type": "display_data",
          "data": {
            "text/plain": [
              "<Figure size 432x288 with 2 Axes>"
            ],
            "image/png": "[encoded data removed]"
          },
          "metadata": {
            "needs_background": "light"
          }
        }
      ],
      "source": [
        "last_layer = model.layers[-1]\n",
        "weights = last_layer.get_weights()\n",
        "\n",
        "context_weigths = np.sum(weights[0][:64,:], axis=0)\n",
        "hidden_weigths = np.sum(weights[0][64:,:], axis=0)\n",
        "\n",
        "m = np.zeros((len(y_labels), 2))\n",
        "for i, j in enumerate(english_teacher_enc[id][:len(y_labels)]):\n",
        "    # Context from attention // Decoder output\n",
        "    c = abs(context_weigths[j])\n",
        "    h = abs(hidden_weigths[j])\n",
        "    #print(context_weigths[j], hidden_weigths[j])\n",
        "    m[i,:] = [c/(c+h),h/(h+c)]\n",
        "\n",
        "sns.heatmap(m, vmax=1.0,\n",
        "            xticklabels=[\"attention\", \"decoder\"],\n",
        "            yticklabels=y_labels,\n",
        "            cmap=cmap,\n",
        "            center=0,\n",
        "            square=True,\n",
        "            linewidths=.5,\n",
        "            cbar_kws={\"shrink\": .7},\n",
        "           );"
      ]
    },
    {
      "cell_type": "code",
      "execution_count": 48,
      "id": "c6894dfa",
      "metadata": {
        "ExecuteTime": {
          "end_time": "2022-10-19T09:41:48.026628Z",
          "start_time": "2022-10-19T09:41:48.022314Z"
        },
        "id": "c6894dfa",
        "outputId": "68438725-25d7-4d82-de01-33254538f0ba",
        "colab": {
          "base_uri": "https://localhost:8080/"
        }
      },
      "outputs": [
        {
          "output_type": "stream",
          "name": "stdout",
          "text": [
            "9 90\n",
            "39 60\n",
            "22 77\n",
            "28 71\n",
            "33 66\n",
            "7 92\n",
            "7 92\n"
          ]
        }
      ],
      "source": [
        "for i in english_teacher_enc[id]:\n",
        "    # Context from attention // Decoder output\n",
        "    c = abs(context_weigths[i])\n",
        "    h = abs(hidden_weigths[i])\n",
        "    #print(context_weigths[i], hidden_weigths[i])\n",
        "    print(int(100*c/(c+h)), int(100*h/(h+c)))\n"
      ]
    }
  ],
  "metadata": {
    "kernelspec": {
      "display_name": "Python 3 (ipykernel)",
      "language": "python",
      "name": "python3"
    },
    "language_info": {
      "codemirror_mode": {
        "name": "ipython",
        "version": 3
      },
      "file_extension": ".py",
      "mimetype": "text/x-python",
      "name": "python",
      "nbconvert_exporter": "python",
      "pygments_lexer": "ipython3",
      "version": "3.9.12"
    },
    "latex_envs": {
      "LaTeX_envs_menu_present": true,
      "autoclose": true,
      "autocomplete": true,
      "bibliofile": "biblio.bib",
      "cite_by": "apalike",
      "current_citInitial": 1,
      "eqLabelWithNumbers": true,
      "eqNumInitial": 1,
      "hotkeys": {
        "equation": "Ctrl-E",
        "itemize": "Ctrl-I"
      },
      "labels_anchors": false,
      "latex_user_defs": false,
      "report_style_numbering": false,
      "user_envs_cfg": false
    },
    "nbTranslate": {
      "displayLangs": [
        "*"
      ],
      "hotkey": "alt-t",
      "langInMainMenu": true,
      "sourceLang": "en",
      "targetLang": "fr",
      "useGoogleTranslate": true
    },
    "colab": {
      "provenance": []
    }
  },
  "nbformat": 4,
  "nbformat_minor": 5
}