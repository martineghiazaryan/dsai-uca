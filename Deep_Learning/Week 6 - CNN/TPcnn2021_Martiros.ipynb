{
  "cells": [
    {
      "cell_type": "markdown",
      "metadata": {
        "id": "rfp1U9PMeQU1"
      },
      "source": [
        "\n",
        "# TP CNN\n",
        "### Martiros Yeghiazaryan"
      ]
    },
    {
      "cell_type": "markdown",
      "metadata": {
        "id": "uo8ucmMpgEp9"
      },
      "source": [
        "## Introduction"
      ]
    },
    {
      "cell_type": "code",
      "execution_count": 2,
      "metadata": {
        "ExecuteTime": {
          "end_time": "2021-11-27T16:15:27.613140Z",
          "start_time": "2021-11-27T16:15:27.605763Z"
        },
        "colab": {
          "base_uri": "https://localhost:8080/"
        },
        "id": "68uwyRRi4BMK",
        "outputId": "2f220802-5f88-4e71-8cf3-38d7c5793520"
      },
      "outputs": [
        {
          "output_type": "stream",
          "name": "stdout",
          "text": [
            "2.11.0\n"
          ]
        }
      ],
      "source": [
        "from IPython.display import Image\n",
        "import tensorflow as tf\n",
        "print(tf.__version__)\n",
        "import tensorflow.keras\n",
        "from tensorflow.keras.models import Sequential\n",
        "from tensorflow.keras.layers import Dense, Conv2D, Activation\n",
        "import matplotlib.pyplot as plt\n"
      ]
    },
    {
      "cell_type": "markdown",
      "metadata": {
        "id": "ZMrLWuFy9gn7"
      },
      "source": [
        "**The GPU**\n",
        "\n"
      ]
    },
    {
      "cell_type": "markdown",
      "metadata": {
        "id": "TO0xCfDwz-zT"
      },
      "source": [
        "To enable GPU backend in Google colab for your notebook:\n",
        "\n",
        "1.   Runtime (top left corner) -> Change runtime type\n",
        "2.   Put GPU as \"Hardware accelerator\"\n",
        "3.   Save.\n",
        "\n",
        "Or run the next cell:"
      ]
    },
    {
      "cell_type": "code",
      "execution_count": 3,
      "metadata": {
        "ExecuteTime": {
          "end_time": "2021-11-27T16:01:19.986158Z",
          "start_time": "2021-11-27T16:01:19.712649Z"
        },
        "colab": {
          "base_uri": "https://localhost:8080/"
        },
        "id": "U4YWdwd6pJBD",
        "outputId": "43d49b5b-764f-4610-bef8-177461a1bc7c"
      },
      "outputs": [
        {
          "output_type": "stream",
          "name": "stdout",
          "text": [
            "Found GPU at: /device:GPU:0\n"
          ]
        }
      ],
      "source": [
        "device_name = tf.test.gpu_device_name()\n",
        "if device_name != '/device:GPU:0':\n",
        "    raise SystemError('GPU device not found')\n",
        "print('Found GPU at: {}'.format(device_name))\n"
      ]
    },
    {
      "cell_type": "markdown",
      "metadata": {
        "id": "hHU7TK6FrHao"
      },
      "source": [
        "## Convolutional Neural Networks (CNN)"
      ]
    },
    {
      "cell_type": "markdown",
      "metadata": {
        "id": "eP0L5uYbfAzC"
      },
      "source": [
        "Derived from the MLP, a convolutional neural network (CNN) is a type of artificial neural network that is specifically designed to process **pixel data**.  The layers of a CNN consist of an **input layer**, an **output layer** and **hidden layers** that can include **convolutional layers**, **pooling layers**, **fully connected layers** and **normalization layers**. There exists a lot of techniques to optimize CNN, like for example the dropout."
      ]
    },
    {
      "cell_type": "markdown",
      "metadata": {
        "id": "bfCDrvt8qQPY"
      },
      "source": [
        "### Loading the dataset\n",
        "In this part, we will use photographies of animals from the kaggle dataset [animals-10](https://www.kaggle.com/alessiocorrado99/animals10). Please connect to their site before loading the dataset from this [zip file](http://www.i3s.unice.fr/~lingrand/raw-img.zip). Decompress the zip file on your disk.\n",
        "\n",
        "If you are using google colab, there is no need to download the dataset because I have a copy on my drive. You just need add to your drive this shared folder: https://drive.google.com/drive/folders/15cB1Ky-7OTUqfcQDZZyzc5HArt0GA6Sm?usp=sharing\n",
        "You need to click on the link and click on \"Add shortcut to Drive\" and then select \"My Drive\"."
      ]
    },
    {
      "cell_type": "code",
      "execution_count": 4,
      "metadata": {
        "colab": {
          "base_uri": "https://localhost:8080/"
        },
        "id": "dkyzx2CTpJBE",
        "outputId": "9eef6749-fb63-430c-b9cf-ee1be3902762"
      },
      "outputs": [
        {
          "output_type": "stream",
          "name": "stdout",
          "text": [
            "Mounted at /content/drive/\n"
          ]
        }
      ],
      "source": [
        "from google.colab import drive\n",
        "drive.mount('/content/drive/')"
      ]
    },
    {
      "cell_type": "markdown",
      "metadata": {
        "id": "RM78thFqt-ZY"
      },
      "source": [
        "To feed the data to a CNN, we need to shape it as required by Keras. As input, a 2D convolutional layer needs a **4D tensor** with shape: **(batch, rows, cols, channels)**. Therefore, we need to precise the \"channels\" axis, which can be seen as the number of level of color of each input: 3 channels in our case. We will fix the dimension of images according to the VGG-16 network: (224, 224).\n"
      ]
    },
    {
      "cell_type": "code",
      "source": [
        "!pip install scikit-learn"
      ],
      "metadata": {
        "colab": {
          "base_uri": "https://localhost:8080/"
        },
        "id": "NB40hEKcrKcy",
        "outputId": "725bdb05-eb30-4ec5-dba6-3b8bfb30b43d"
      },
      "execution_count": 9,
      "outputs": [
        {
          "output_type": "stream",
          "name": "stdout",
          "text": [
            "Looking in indexes: https://pypi.org/simple, https://us-python.pkg.dev/colab-wheels/public/simple/\n",
            "Requirement already satisfied: scikit-learn in /usr/local/lib/python3.8/dist-packages (1.2.1)\n",
            "Requirement already satisfied: numpy>=1.17.3 in /usr/local/lib/python3.8/dist-packages (from scikit-learn) (1.22.4)\n",
            "Requirement already satisfied: joblib>=1.1.1 in /usr/local/lib/python3.8/dist-packages (from scikit-learn) (1.2.0)\n",
            "Requirement already satisfied: threadpoolctl>=2.0.0 in /usr/local/lib/python3.8/dist-packages (from scikit-learn) (3.1.0)\n",
            "Requirement already satisfied: scipy>=1.3.2 in /usr/local/lib/python3.8/dist-packages (from scikit-learn) (1.10.1)\n"
          ]
        }
      ]
    },
    {
      "cell_type": "code",
      "execution_count": 36,
      "metadata": {
        "ExecuteTime": {
          "end_time": "2021-11-27T16:17:51.518829Z",
          "start_time": "2021-11-27T16:17:51.401963Z"
        },
        "id": "i_yPS5rYF1Sk"
      },
      "outputs": [],
      "source": [
        "from tensorflow.keras.applications.vgg16 import VGG16\n",
        "from tensorflow.keras.preprocessing import image\n",
        "from tensorflow.keras.applications.vgg16 import preprocess_input\n",
        "from tensorflow.keras.models import Model, Sequential\n",
        "from tensorflow.keras.layers import Dense, GlobalAveragePooling2D, MaxPooling2D, Flatten, GlobalMaxPooling2D\n",
        "from sklearn.metrics import confusion_matrix, f1_score\n",
        "from tensorflow.keras.optimizers import Adam\n",
        "import tensorflow.keras\n",
        "from tensorflow.keras.callbacks import EarlyStopping\n",
        "import numpy as np\n",
        "import glob\n",
        "# when processing time is long, it's nice to see the progress bar\n",
        "#!pip install tqdm\n",
        "from tqdm import tqdm\n",
        "from sklearn.metrics import ConfusionMatrixDisplay "
      ]
    },
    {
      "cell_type": "markdown",
      "metadata": {
        "id": "IzHkKLqlZPn3"
      },
      "source": [
        "### loading train data\n",
        "\n",
        "Please read the code before running any of the cells!"
      ]
    },
    {
      "cell_type": "code",
      "execution_count": 12,
      "metadata": {
        "ExecuteTime": {
          "end_time": "2021-11-27T16:18:22.601760Z",
          "start_time": "2021-11-27T16:18:16.102817Z"
        },
        "colab": {
          "base_uri": "https://localhost:8080/"
        },
        "id": "xkVd3v4N3LnB",
        "outputId": "211508df-382a-4d33-f4ae-2b3bcfbd963f"
      },
      "outputs": [
        {
          "output_type": "stream",
          "name": "stderr",
          "text": [
            "100%|██████████| 200/200 [00:25<00:00,  7.85it/s]\n",
            "100%|██████████| 200/200 [00:27<00:00,  7.38it/s]\n",
            "100%|██████████| 200/200 [00:25<00:00,  7.85it/s]"
          ]
        },
        {
          "output_type": "stream",
          "name": "stdout",
          "text": [
            "600\n",
            "(600, 224, 224, 3)\n"
          ]
        },
        {
          "output_type": "stream",
          "name": "stderr",
          "text": [
            "\n"
          ]
        }
      ],
      "source": [
        "# datasetRoot='/home/lingrand/Ens/MachineLearning/animals/raw-img/'\n",
        "#datasetRoot='/whereYouPutTheImages/'\n",
        "datasetRoot='/content/drive/My Drive/raw-img/'\n",
        "# I suggest to reduce the number of classes for a first trial. \n",
        "# If you finish this notebook before the end of the course, you can add more classes (and images per class).\n",
        "classes = ['mucca', 'elefante', 'gatto'] #, 'cavallo', 'scoiattolo', 'ragno', 'pecora', 'farfalla', 'gallina', 'cane']\n",
        "nbClasses = len(classes)\n",
        "\n",
        "#training data\n",
        "\n",
        "rootTrain = datasetRoot+'train/'\n",
        "classLabel = 0\n",
        "reducedSizePerClass = 200 #in order to reduce the number of images per class\n",
        "totalImg = nbClasses * reducedSizePerClass\n",
        "xTrain = np.empty(shape=(totalImg,224,224,3))\n",
        "yTrain = []\n",
        "first = True\n",
        "i= 0\n",
        "for cl in classes:\n",
        "    listImages = glob.glob(rootTrain+cl+'/*')\n",
        "    yTrain += [classLabel]*reducedSizePerClass #len(listImages) # note that here ...\n",
        "    for pathImg in tqdm(listImages[:reducedSizePerClass]): # and here, we have reduced the data to be loaded (only 1000 per class)\n",
        "        img = image.load_img(pathImg, target_size=(224,224))\n",
        "        im = image.img_to_array(img)\n",
        "        im = np.expand_dims(im, axis=0)\n",
        "        im = preprocess_input(im)\n",
        "        xTrain[i,:,:,:] = im\n",
        "        i += 1\n",
        "    classLabel += 1\n",
        "print(len(yTrain))\n",
        "print(xTrain.shape)\n",
        "yTrain = tensorflow.keras.utils.to_categorical(yTrain, nbClasses)\n"
      ]
    },
    {
      "cell_type": "markdown",
      "metadata": {
        "id": "56bq9oXanGUm"
      },
      "source": [
        "In order to speed-up the time spent on this part of the lab, you may have noticed that we reduced the number of classes and the number of images per class. You can change these few lines of code if you want to work on the whole dataset."
      ]
    },
    {
      "cell_type": "markdown",
      "metadata": {
        "id": "boNapUgGaEMj"
      },
      "source": [
        "### loading test data"
      ]
    },
    {
      "cell_type": "code",
      "execution_count": 13,
      "metadata": {
        "ExecuteTime": {
          "end_time": "2021-11-27T16:39:11.565427Z",
          "start_time": "2021-11-27T16:39:05.538947Z"
        },
        "colab": {
          "base_uri": "https://localhost:8080/"
        },
        "id": "Zwi5TBlKajtt",
        "outputId": "8b804f62-d71f-4d1b-81f3-aa81eede8d5f"
      },
      "outputs": [
        {
          "output_type": "stream",
          "name": "stdout",
          "text": [
            "There are  991  images in test dataset.\n",
            "991\n",
            "(991, 224, 224, 3)\n"
          ]
        }
      ],
      "source": [
        "#you need to use the same classes for the test dataset than for the train dataset\n",
        "rootTest = datasetRoot+'test/'\n",
        "classLabel = 0\n",
        "\n",
        "totalTestImg = 0\n",
        "for cl in classes:\n",
        "    totalTestImg += len(glob.glob(rootTest+cl+'/*'))\n",
        "\n",
        "print(\"There are \",totalTestImg, \" images in test dataset.\")\n",
        "xTest = np.empty(shape=(totalTestImg,224,224,3))\n",
        "yTest = []\n",
        "i = 0\n",
        "\n",
        "for cl in classes:\n",
        "    listImages = glob.glob(rootTest+cl+'/*')\n",
        "    yTest += [classLabel]*len(listImages)\n",
        "    for pathImg in listImages:\n",
        "        img = image.load_img(pathImg, target_size=(224, 224))\n",
        "        im = image.img_to_array(img)\n",
        "        im = np.expand_dims(im, axis=0)\n",
        "        im = preprocess_input(im)\n",
        "        xTest[i,:,:,:] = im \n",
        "        i += 1\n",
        "    classLabel += 1\n",
        "print(len(yTest))\n",
        "print(xTest.shape)\n",
        "yTest = tensorflow.keras.utils.to_categorical(yTest, nbClasses)"
      ]
    },
    {
      "cell_type": "markdown",
      "metadata": {
        "id": "VeWSpUBvpJBG"
      },
      "source": [
        "## Build your own CNN network"
      ]
    },
    {
      "cell_type": "markdown",
      "metadata": {
        "id": "Jr-IvHkgpJBG"
      },
      "source": [
        "Start with the simplest CNN: 1 conv2D layer + 1 pooling + 1 dense layer."
      ]
    },
    {
      "cell_type": "code",
      "execution_count": 20,
      "metadata": {
        "ExecuteTime": {
          "end_time": "2021-11-27T16:33:54.152252Z",
          "start_time": "2021-11-27T16:33:54.099134Z"
        },
        "id": "WdIGiE0-pJBG"
      },
      "outputs": [],
      "source": [
        "model = Sequential()\n",
        "model.add(Conv2D(32,(3,3),padding='same',activation='relu', input_shape=(224,224,3)))\n",
        "model.add(Conv2D(32,(3,3),padding='same',activation='relu'))\n",
        "model.add(MaxPooling2D(pool_size=(4, 4), strides=4, padding='same'))\n",
        "model.add(Conv2D(32,(3,3),padding='same',activation='relu'))\n",
        "model.add(Conv2D(32,(3,3),padding='same',activation='relu'))\n",
        "model.add(MaxPooling2D(pool_size=(4, 4), strides=4, padding='same'))\n",
        "model.add(Flatten())\n",
        "model.add(Dense(nbClasses, activation='softmax'))\n",
        "model.compile(optimizer='rmsprop',loss='categorical_crossentropy', metrics=['accuracy'])"
      ]
    },
    {
      "cell_type": "markdown",
      "metadata": {
        "id": "iwNHbLF1pJBG"
      },
      "source": [
        "Let's look at the dimension of all inputs and outputs:"
      ]
    },
    {
      "cell_type": "code",
      "execution_count": 21,
      "metadata": {
        "ExecuteTime": {
          "end_time": "2021-11-27T16:33:56.687308Z",
          "start_time": "2021-11-27T16:33:56.674345Z"
        },
        "colab": {
          "base_uri": "https://localhost:8080/"
        },
        "id": "qyvjzijvpJBG",
        "outputId": "f12e3570-e36a-4bf9-a492-e0e81ececf26"
      },
      "outputs": [
        {
          "output_type": "stream",
          "name": "stdout",
          "text": [
            "Model: \"sequential_1\"\n",
            "_________________________________________________________________\n",
            " Layer (type)                Output Shape              Param #   \n",
            "=================================================================\n",
            " conv2d_1 (Conv2D)           (None, 224, 224, 32)      896       \n",
            "                                                                 \n",
            " conv2d_2 (Conv2D)           (None, 224, 224, 32)      9248      \n",
            "                                                                 \n",
            " max_pooling2d_1 (MaxPooling  (None, 56, 56, 32)       0         \n",
            " 2D)                                                             \n",
            "                                                                 \n",
            " conv2d_3 (Conv2D)           (None, 56, 56, 32)        9248      \n",
            "                                                                 \n",
            " conv2d_4 (Conv2D)           (None, 56, 56, 32)        9248      \n",
            "                                                                 \n",
            " max_pooling2d_2 (MaxPooling  (None, 14, 14, 32)       0         \n",
            " 2D)                                                             \n",
            "                                                                 \n",
            " flatten_1 (Flatten)         (None, 6272)              0         \n",
            "                                                                 \n",
            " dense_1 (Dense)             (None, 3)                 18819     \n",
            "                                                                 \n",
            "=================================================================\n",
            "Total params: 47,459\n",
            "Trainable params: 47,459\n",
            "Non-trainable params: 0\n",
            "_________________________________________________________________\n"
          ]
        }
      ],
      "source": [
        "model.summary()"
      ]
    },
    {
      "cell_type": "markdown",
      "metadata": {
        "id": "sxb2HuYgpJBG"
      },
      "source": [
        "Learn and test this network. "
      ]
    },
    {
      "cell_type": "code",
      "execution_count": 22,
      "metadata": {
        "ExecuteTime": {
          "end_time": "2021-11-27T16:36:46.534902Z",
          "start_time": "2021-11-27T16:34:01.881134Z"
        },
        "colab": {
          "base_uri": "https://localhost:8080/"
        },
        "id": "VLF-NHuDpJBG",
        "outputId": "eaf99c50-07f7-45d0-a90f-70c2cd1cc125"
      },
      "outputs": [
        {
          "output_type": "stream",
          "name": "stdout",
          "text": [
            "Epoch 1/1000\n",
            "15/15 - 4s - loss: 21.4722 - accuracy: 0.4146 - val_loss: 2.6415 - val_accuracy: 0.1500 - 4s/epoch - 245ms/step\n",
            "Epoch 2/1000\n",
            "15/15 - 1s - loss: 1.0500 - accuracy: 0.5604 - val_loss: 3.6840 - val_accuracy: 0.0333 - 1s/epoch - 70ms/step\n",
            "Epoch 3/1000\n",
            "15/15 - 1s - loss: 0.9157 - accuracy: 0.6208 - val_loss: 2.4688 - val_accuracy: 0.1083 - 997ms/epoch - 66ms/step\n",
            "Epoch 4/1000\n",
            "15/15 - 1s - loss: 1.1926 - accuracy: 0.5896 - val_loss: 1.4026 - val_accuracy: 0.4250 - 1s/epoch - 70ms/step\n",
            "Epoch 5/1000\n",
            "15/15 - 1s - loss: 0.7089 - accuracy: 0.7125 - val_loss: 0.5880 - val_accuracy: 0.7583 - 948ms/epoch - 63ms/step\n",
            "Epoch 6/1000\n",
            "15/15 - 1s - loss: 0.6015 - accuracy: 0.7583 - val_loss: 1.0886 - val_accuracy: 0.4667 - 1s/epoch - 68ms/step\n",
            "Epoch 7/1000\n",
            "15/15 - 1s - loss: 0.4952 - accuracy: 0.8104 - val_loss: 0.6360 - val_accuracy: 0.7250 - 944ms/epoch - 63ms/step\n",
            "Epoch 8/1000\n",
            "15/15 - 1s - loss: 0.3390 - accuracy: 0.8646 - val_loss: 0.3327 - val_accuracy: 0.8833 - 940ms/epoch - 63ms/step\n",
            "Epoch 9/1000\n",
            "15/15 - 1s - loss: 0.4398 - accuracy: 0.8438 - val_loss: 0.8608 - val_accuracy: 0.7250 - 1s/epoch - 67ms/step\n",
            "Epoch 10/1000\n",
            "15/15 - 1s - loss: 0.1746 - accuracy: 0.9396 - val_loss: 0.6084 - val_accuracy: 0.8000 - 939ms/epoch - 63ms/step\n",
            "Epoch 11/1000\n",
            "15/15 - 1s - loss: 0.2959 - accuracy: 0.9042 - val_loss: 0.9037 - val_accuracy: 0.5833 - 944ms/epoch - 63ms/step\n",
            "Epoch 12/1000\n",
            "15/15 - 1s - loss: 0.2871 - accuracy: 0.9083 - val_loss: 0.9699 - val_accuracy: 0.6333 - 1s/epoch - 68ms/step\n",
            "Epoch 13/1000\n",
            "15/15 - 1s - loss: 0.0134 - accuracy: 1.0000 - val_loss: 1.7728 - val_accuracy: 0.5250 - 1s/epoch - 68ms/step\n",
            "Epoch 14/1000\n",
            "15/15 - 1s - loss: 0.0024 - accuracy: 1.0000 - val_loss: 1.6876 - val_accuracy: 0.5583 - 942ms/epoch - 63ms/step\n",
            "Epoch 15/1000\n",
            "15/15 - 1s - loss: 7.2120e-04 - accuracy: 1.0000 - val_loss: 1.5499 - val_accuracy: 0.6000 - 980ms/epoch - 65ms/step\n",
            "Epoch 16/1000\n",
            "15/15 - 1s - loss: 2.8150e-04 - accuracy: 1.0000 - val_loss: 1.8123 - val_accuracy: 0.6000 - 1s/epoch - 67ms/step\n",
            "Epoch 17/1000\n",
            "15/15 - 1s - loss: 1.4278e-04 - accuracy: 1.0000 - val_loss: 1.8239 - val_accuracy: 0.6167 - 993ms/epoch - 66ms/step\n",
            "Epoch 18/1000\n",
            "15/15 - 1s - loss: 6.3817e-05 - accuracy: 1.0000 - val_loss: 1.9741 - val_accuracy: 0.6000 - 1s/epoch - 69ms/step\n",
            "Epoch 19/1000\n",
            "15/15 - 1s - loss: 3.3589e-05 - accuracy: 1.0000 - val_loss: 2.0180 - val_accuracy: 0.6167 - 944ms/epoch - 63ms/step\n",
            "Epoch 20/1000\n",
            "15/15 - 1s - loss: 1.7835e-05 - accuracy: 1.0000 - val_loss: 2.1410 - val_accuracy: 0.6250 - 950ms/epoch - 63ms/step\n",
            "Epoch 21/1000\n",
            "15/15 - 1s - loss: 1.0085e-05 - accuracy: 1.0000 - val_loss: 2.2587 - val_accuracy: 0.6167 - 954ms/epoch - 64ms/step\n",
            "Epoch 22/1000\n",
            "15/15 - 1s - loss: 6.5932e-06 - accuracy: 1.0000 - val_loss: 2.2590 - val_accuracy: 0.6167 - 1s/epoch - 67ms/step\n",
            "Epoch 23/1000\n",
            "15/15 - 1s - loss: 4.6638e-06 - accuracy: 1.0000 - val_loss: 2.2459 - val_accuracy: 0.6333 - 1s/epoch - 67ms/step\n",
            "Epoch 24/1000\n",
            "15/15 - 1s - loss: 3.8109e-06 - accuracy: 1.0000 - val_loss: 2.2546 - val_accuracy: 0.6333 - 955ms/epoch - 64ms/step\n",
            "Epoch 25/1000\n",
            "15/15 - 1s - loss: 3.1205e-06 - accuracy: 1.0000 - val_loss: 2.3302 - val_accuracy: 0.6167 - 1s/epoch - 68ms/step\n",
            "Epoch 26/1000\n",
            "15/15 - 1s - loss: 2.6457e-06 - accuracy: 1.0000 - val_loss: 2.3358 - val_accuracy: 0.6333 - 1s/epoch - 68ms/step\n",
            "Epoch 27/1000\n",
            "15/15 - 1s - loss: 2.3303e-06 - accuracy: 1.0000 - val_loss: 2.3751 - val_accuracy: 0.6167 - 1s/epoch - 69ms/step\n",
            "Epoch 28/1000\n",
            "Restoring model weights from the end of the best epoch: 8.\n",
            "15/15 - 1s - loss: 2.0546e-06 - accuracy: 1.0000 - val_loss: 2.4076 - val_accuracy: 0.6250 - 1s/epoch - 71ms/step\n",
            "Epoch 28: early stopping\n"
          ]
        }
      ],
      "source": [
        "# for you !\n",
        "ourCallbacks = EarlyStopping(monitor='val_accuracy', min_delta=0.0001, patience=20, mode='auto', baseline=None, restore_best_weights=True, verbose=2)\n",
        "history = model.fit(xTrain, yTrain, batch_size=32, epochs=1000, callbacks=[ourCallbacks], validation_split=0.2, verbose=2)"
      ]
    },
    {
      "cell_type": "code",
      "execution_count": 23,
      "metadata": {
        "ExecuteTime": {
          "end_time": "2021-11-27T17:26:29.630455Z",
          "start_time": "2021-11-27T17:26:21.961418Z"
        },
        "colab": {
          "base_uri": "https://localhost:8080/"
        },
        "id": "uKX82uX1pJBG",
        "outputId": "c799a5be-6bfd-4975-cb65-597dd02180c7"
      },
      "outputs": [
        {
          "output_type": "stream",
          "name": "stdout",
          "text": [
            "31/31 [==============================] - 1s 34ms/step - loss: 1.1248 - accuracy: 0.6720\n",
            "accuracy: 67.20%\n",
            "31/31 [==============================] - 1s 22ms/step\n",
            "F1 score:  [0.70663265 0.50678733 0.73280423]\n"
          ]
        }
      ],
      "source": [
        "# for you !\n",
        "score = model.evaluate(xTest,yTest)\n",
        "print(\"%s: %.2f%%\" % (model.metrics_names[1], score[1]*100))\n",
        "\n",
        "ypred = np.argmax(model.predict(xTest), axis=1)\n",
        "print(\"F1 score: \", f1_score(ypred,np.argmax(yTest,axis=1),average=None))"
      ]
    },
    {
      "cell_type": "code",
      "source": [
        "cm = confusion_matrix(np.argmax(yTest,axis=1), ypred, labels=[0,1,2])\n",
        "disp = ConfusionMatrixDisplay(confusion_matrix=cm, display_labels=classes)\n",
        "disp.plot()\n",
        "disp.ax_.set_title('Confusion matrix (test dataset)')\n",
        "plt.show()"
      ],
      "metadata": {
        "colab": {
          "base_uri": "https://localhost:8080/",
          "height": 295
        },
        "id": "dDMn6HGNxZiI",
        "outputId": "72090855-326e-4c30-818b-c1f670f5e857"
      },
      "execution_count": 26,
      "outputs": [
        {
          "output_type": "display_data",
          "data": {
            "text/plain": [
              "<Figure size 432x288 with 2 Axes>"
            ],
            "image/png": "[encoded data removed]"
          },
          "metadata": {
            "needs_background": "light"
          }
        }
      ]
    },
    {
      "cell_type": "markdown",
      "metadata": {
        "solution": "hidden",
        "solution_first": true,
        "id": "Nom-YnC2pJBH"
      },
      "source": [
        "How is the accuracy or F1-measure on the test dataset?\n",
        "\n",
        "Are you satisfied by the performances?\n",
        "\n",
        "Try to modify the architecture (add layers) and some of the parameters."
      ]
    },
    {
      "cell_type": "markdown",
      "metadata": {
        "id": "HDg_e-Ax3uci"
      },
      "source": [
        "### About Dropout \n",
        "\n",
        "*Study this part only if you have time for it. It concerns the previous network but prefer to study first part II and come back here after.*\n",
        "\n",
        "Simply put, dropout refers to ignoring units (i.e. neurons) during the training phase of certain set of neurons which is chosen at random. By “ignoring”, I mean these units are not considered during a particular forward or backward pass.\n",
        "\n",
        "Why use dropout ? A fully connected layer occupies most of the parameters, and hence, neurons develop co-dependency amongst each other during training which curbs the individual power of each neuron leading to overfitting of training data."
      ]
    },
    {
      "cell_type": "markdown",
      "metadata": {
        "id": "eC5ct2L36pKC"
      },
      "source": [
        "**Let's add dropout and activation functions to the network!**"
      ]
    },
    {
      "cell_type": "code",
      "execution_count": null,
      "metadata": {
        "id": "y20GTiux6uy9"
      },
      "outputs": [],
      "source": [
        "from tensorflow.keras.layers import Dropout\n",
        "\n",
        "model = Sequential(name='MLP model with dropout') \n",
        "\n",
        "model = Sequential()\n",
        "model.add(Conv2D(256,(3,3),activation='relu',input_shape=(224,224,3)))\n",
        "model.add(GlobalAveragePooling2D())\n",
        "model.add(Dense(200,activation='relu'))\n",
        "# adding dropout to the previous layer\n",
        "model.add(Dropout(0.2))\n",
        "\n",
        "model.add(Dense(nbClasses, activation='softmax'))\n",
        "\n",
        "model.compile(optimizer='rmsprop',loss='categorical_crossentropy', metrics=['accuracy'])\n",
        "model.summary()"
      ]
    },
    {
      "cell_type": "code",
      "execution_count": null,
      "metadata": {
        "id": "vR_6t_XlpJBH"
      },
      "outputs": [],
      "source": [
        "# learn again your CNN with dropout"
      ]
    },
    {
      "cell_type": "markdown",
      "metadata": {
        "id": "T_faJ6_8pJBH"
      },
      "source": [
        "## Using a pre-learned network"
      ]
    },
    {
      "cell_type": "markdown",
      "metadata": {
        "id": "Og1KZntwavZT"
      },
      "source": [
        "### loading VGG-16 description part and adding layers to build our own classification network"
      ]
    },
    {
      "cell_type": "code",
      "execution_count": 24,
      "metadata": {
        "ExecuteTime": {
          "end_time": "2021-10-12T14:11:09.440297Z",
          "start_time": "2021-10-12T14:11:09.179442Z"
        },
        "colab": {
          "base_uri": "https://localhost:8080/"
        },
        "id": "ofrQr-x_a-Bi",
        "outputId": "b94e55e8-6d67-46b5-b164-970a392fccca"
      },
      "outputs": [
        {
          "output_type": "stream",
          "name": "stdout",
          "text": [
            "Downloading data from https://storage.googleapis.com/tensorflow/keras-applications/vgg16/vgg16_weights_tf_dim_ordering_tf_kernels_notop.h5\n",
            "58889256/58889256 [==============================] - 3s 0us/step\n",
            "Model: \"vgg16\"\n",
            "_________________________________________________________________\n",
            " Layer (type)                Output Shape              Param #   \n",
            "=================================================================\n",
            " input_1 (InputLayer)        [(None, None, None, 3)]   0         \n",
            "                                                                 \n",
            " block1_conv1 (Conv2D)       (None, None, None, 64)    1792      \n",
            "                                                                 \n",
            " block1_conv2 (Conv2D)       (None, None, None, 64)    36928     \n",
            "                                                                 \n",
            " block1_pool (MaxPooling2D)  (None, None, None, 64)    0         \n",
            "                                                                 \n",
            " block2_conv1 (Conv2D)       (None, None, None, 128)   73856     \n",
            "                                                                 \n",
            " block2_conv2 (Conv2D)       (None, None, None, 128)   147584    \n",
            "                                                                 \n",
            " block2_pool (MaxPooling2D)  (None, None, None, 128)   0         \n",
            "                                                                 \n",
            " block3_conv1 (Conv2D)       (None, None, None, 256)   295168    \n",
            "                                                                 \n",
            " block3_conv2 (Conv2D)       (None, None, None, 256)   590080    \n",
            "                                                                 \n",
            " block3_conv3 (Conv2D)       (None, None, None, 256)   590080    \n",
            "                                                                 \n",
            " block3_pool (MaxPooling2D)  (None, None, None, 256)   0         \n",
            "                                                                 \n",
            " block4_conv1 (Conv2D)       (None, None, None, 512)   1180160   \n",
            "                                                                 \n",
            " block4_conv2 (Conv2D)       (None, None, None, 512)   2359808   \n",
            "                                                                 \n",
            " block4_conv3 (Conv2D)       (None, None, None, 512)   2359808   \n",
            "                                                                 \n",
            " block4_pool (MaxPooling2D)  (None, None, None, 512)   0         \n",
            "                                                                 \n",
            " block5_conv1 (Conv2D)       (None, None, None, 512)   2359808   \n",
            "                                                                 \n",
            " block5_conv2 (Conv2D)       (None, None, None, 512)   2359808   \n",
            "                                                                 \n",
            " block5_conv3 (Conv2D)       (None, None, None, 512)   2359808   \n",
            "                                                                 \n",
            " block5_pool (MaxPooling2D)  (None, None, None, 512)   0         \n",
            "                                                                 \n",
            "=================================================================\n",
            "Total params: 14,714,688\n",
            "Trainable params: 14,714,688\n",
            "Non-trainable params: 0\n",
            "_________________________________________________________________\n"
          ]
        }
      ],
      "source": [
        "VGGmodel = VGG16(weights='imagenet', include_top=False)\n",
        "VGGmodel.summary()"
      ]
    },
    {
      "cell_type": "code",
      "execution_count": 25,
      "metadata": {
        "ExecuteTime": {
          "end_time": "2021-10-12T14:11:36.842555Z",
          "start_time": "2021-10-12T14:11:36.806935Z"
        },
        "id": "WPzalyiQpJBI"
      },
      "outputs": [],
      "source": [
        "# we will add layers to this feature extraction part of VGG network\n",
        "m = VGGmodel.output\n",
        "# we start with a global average pooling\n",
        "m = GlobalAveragePooling2D()(m)\n",
        "# and add a fully-connected layer\n",
        "m = Dense(1024, activation='relu')(m)\n",
        "# finally, the softmax layer for predictions (we have nbClasses classes)\n",
        "predictions = Dense(nbClasses, activation='softmax')(m)\n",
        "\n",
        "# global network\n",
        "model = Model(inputs=VGGmodel.input, outputs=predictions)\n"
      ]
    },
    {
      "cell_type": "markdown",
      "metadata": {
        "id": "6POPQoXcbPuc",
        "solution": "hidden",
        "solution_first": true
      },
      "source": [
        "Can you display the architecture of this entire network?"
      ]
    },
    {
      "cell_type": "code",
      "execution_count": 27,
      "metadata": {
        "ExecuteTime": {
          "end_time": "2021-11-27T17:31:47.819971Z",
          "start_time": "2021-11-27T17:31:47.813952Z"
        },
        "colab": {
          "base_uri": "https://localhost:8080/"
        },
        "id": "NLcWrLNJpJBI",
        "outputId": "30974fe8-8288-4db8-d192-9ffb869823ea"
      },
      "outputs": [
        {
          "output_type": "stream",
          "name": "stdout",
          "text": [
            "Model: \"model\"\n",
            "_________________________________________________________________\n",
            " Layer (type)                Output Shape              Param #   \n",
            "=================================================================\n",
            " input_1 (InputLayer)        [(None, None, None, 3)]   0         \n",
            "                                                                 \n",
            " block1_conv1 (Conv2D)       (None, None, None, 64)    1792      \n",
            "                                                                 \n",
            " block1_conv2 (Conv2D)       (None, None, None, 64)    36928     \n",
            "                                                                 \n",
            " block1_pool (MaxPooling2D)  (None, None, None, 64)    0         \n",
            "                                                                 \n",
            " block2_conv1 (Conv2D)       (None, None, None, 128)   73856     \n",
            "                                                                 \n",
            " block2_conv2 (Conv2D)       (None, None, None, 128)   147584    \n",
            "                                                                 \n",
            " block2_pool (MaxPooling2D)  (None, None, None, 128)   0         \n",
            "                                                                 \n",
            " block3_conv1 (Conv2D)       (None, None, None, 256)   295168    \n",
            "                                                                 \n",
            " block3_conv2 (Conv2D)       (None, None, None, 256)   590080    \n",
            "                                                                 \n",
            " block3_conv3 (Conv2D)       (None, None, None, 256)   590080    \n",
            "                                                                 \n",
            " block3_pool (MaxPooling2D)  (None, None, None, 256)   0         \n",
            "                                                                 \n",
            " block4_conv1 (Conv2D)       (None, None, None, 512)   1180160   \n",
            "                                                                 \n",
            " block4_conv2 (Conv2D)       (None, None, None, 512)   2359808   \n",
            "                                                                 \n",
            " block4_conv3 (Conv2D)       (None, None, None, 512)   2359808   \n",
            "                                                                 \n",
            " block4_pool (MaxPooling2D)  (None, None, None, 512)   0         \n",
            "                                                                 \n",
            " block5_conv1 (Conv2D)       (None, None, None, 512)   2359808   \n",
            "                                                                 \n",
            " block5_conv2 (Conv2D)       (None, None, None, 512)   2359808   \n",
            "                                                                 \n",
            " block5_conv3 (Conv2D)       (None, None, None, 512)   2359808   \n",
            "                                                                 \n",
            " block5_pool (MaxPooling2D)  (None, None, None, 512)   0         \n",
            "                                                                 \n",
            " global_average_pooling2d (G  (None, 512)              0         \n",
            " lobalAveragePooling2D)                                          \n",
            "                                                                 \n",
            " dense_2 (Dense)             (None, 1024)              525312    \n",
            "                                                                 \n",
            " dense_3 (Dense)             (None, 3)                 3075      \n",
            "                                                                 \n",
            "=================================================================\n",
            "Total params: 15,243,075\n",
            "Trainable params: 15,243,075\n",
            "Non-trainable params: 0\n",
            "_________________________________________________________________\n"
          ]
        }
      ],
      "source": [
        "# for you\n",
        "model.summary()"
      ]
    },
    {
      "cell_type": "code",
      "execution_count": 28,
      "metadata": {
        "colab": {
          "base_uri": "https://localhost:8080/"
        },
        "id": "PrLUhA2-b8Fv",
        "outputId": "3019f6fc-c839-4fe0-b91b-3defc3220576"
      },
      "outputs": [
        {
          "output_type": "stream",
          "name": "stdout",
          "text": [
            "Epoch 1/2000\n",
            "4/4 [==============================] - 27s 6s/step - loss: 7.2431 - accuracy: 0.5562 - val_loss: 0.0199 - val_accuracy: 0.9917\n",
            "Epoch 2/2000\n",
            "4/4 [==============================] - 2s 608ms/step - loss: 0.0737 - accuracy: 0.9812 - val_loss: 0.0879 - val_accuracy: 0.9667\n",
            "Epoch 3/2000\n",
            "4/4 [==============================] - 2s 656ms/step - loss: 0.0280 - accuracy: 0.9937 - val_loss: 0.0876 - val_accuracy: 0.9667\n",
            "Epoch 4/2000\n",
            "4/4 [==============================] - 2s 639ms/step - loss: 0.0073 - accuracy: 0.9979 - val_loss: 0.0827 - val_accuracy: 0.9667\n",
            "Epoch 5/2000\n",
            "4/4 [==============================] - 3s 688ms/step - loss: 0.0015 - accuracy: 1.0000 - val_loss: 0.0784 - val_accuracy: 0.9667\n",
            "Epoch 6/2000\n",
            "4/4 [==============================] - 2s 665ms/step - loss: 9.7970e-04 - accuracy: 1.0000 - val_loss: 0.0764 - val_accuracy: 0.9667\n",
            "Epoch 7/2000\n",
            "4/4 [==============================] - 2s 624ms/step - loss: 7.6305e-04 - accuracy: 1.0000 - val_loss: 0.0734 - val_accuracy: 0.9667\n",
            "Epoch 8/2000\n",
            "4/4 [==============================] - 2s 664ms/step - loss: 5.8932e-04 - accuracy: 1.0000 - val_loss: 0.0709 - val_accuracy: 0.9667\n",
            "Epoch 9/2000\n",
            "4/4 [==============================] - 2s 669ms/step - loss: 5.0230e-04 - accuracy: 1.0000 - val_loss: 0.0686 - val_accuracy: 0.9667\n",
            "Epoch 10/2000\n",
            "4/4 [==============================] - 3s 706ms/step - loss: 4.0983e-04 - accuracy: 1.0000 - val_loss: 0.0685 - val_accuracy: 0.9667\n",
            "Epoch 11/2000\n",
            "4/4 [==============================] - 2s 617ms/step - loss: 3.3569e-04 - accuracy: 1.0000 - val_loss: 0.0674 - val_accuracy: 0.9667\n",
            "Epoch 12/2000\n",
            "4/4 [==============================] - 2s 660ms/step - loss: 2.9897e-04 - accuracy: 1.0000 - val_loss: 0.0658 - val_accuracy: 0.9667\n",
            "Epoch 13/2000\n",
            "4/4 [==============================] - 2s 664ms/step - loss: 2.4825e-04 - accuracy: 1.0000 - val_loss: 0.0650 - val_accuracy: 0.9750\n",
            "Epoch 14/2000\n",
            "4/4 [==============================] - 2s 616ms/step - loss: 2.1022e-04 - accuracy: 1.0000 - val_loss: 0.0651 - val_accuracy: 0.9750\n",
            "Epoch 15/2000\n",
            "4/4 [==============================] - 3s 675ms/step - loss: 1.7601e-04 - accuracy: 1.0000 - val_loss: 0.0646 - val_accuracy: 0.9750\n",
            "Epoch 16/2000\n",
            "4/4 [==============================] - 3s 685ms/step - loss: 1.5813e-04 - accuracy: 1.0000 - val_loss: 0.0632 - val_accuracy: 0.9750\n",
            "Epoch 17/2000\n",
            "4/4 [==============================] - 2s 627ms/step - loss: 1.3416e-04 - accuracy: 1.0000 - val_loss: 0.0635 - val_accuracy: 0.9750\n",
            "Epoch 18/2000\n",
            "4/4 [==============================] - 2s 624ms/step - loss: 1.1598e-04 - accuracy: 1.0000 - val_loss: 0.0636 - val_accuracy: 0.9750\n",
            "Epoch 19/2000\n",
            "4/4 [==============================] - 3s 669ms/step - loss: 9.8422e-05 - accuracy: 1.0000 - val_loss: 0.0619 - val_accuracy: 0.9750\n",
            "Epoch 20/2000\n",
            "4/4 [==============================] - 3s 676ms/step - loss: 8.9918e-05 - accuracy: 1.0000 - val_loss: 0.0600 - val_accuracy: 0.9750\n",
            "Epoch 21/2000\n",
            "4/4 [==============================] - 2s 651ms/step - loss: 7.5733e-05 - accuracy: 1.0000 - val_loss: 0.0610 - val_accuracy: 0.9750\n"
          ]
        },
        {
          "output_type": "execute_result",
          "data": {
            "text/plain": [
              "<keras.callbacks.History at 0x7f3eb141ad00>"
            ]
          },
          "metadata": {},
          "execution_count": 28
        }
      ],
      "source": [
        "# training\n",
        "ourCallback = tensorflow.keras.callbacks.EarlyStopping(monitor='val_accuracy', min_delta=0.0001, patience=20, verbose=0, mode='auto', baseline=None, restore_best_weights=False)\n",
        " \n",
        "# training part I: training only the classification part (the end)\n",
        "for layer in VGGmodel.layers:\n",
        "    layer.trainable = False\n",
        "model.compile(optimizer='rmsprop', loss='categorical_crossentropy',metrics=['accuracy'])\n",
        "model.fit(xTrain, yTrain, epochs=2000, batch_size=128, validation_split=0.2, callbacks=[ourCallback],verbose=1)"
      ]
    },
    {
      "cell_type": "code",
      "source": [
        "model.evaluate(xTest, yTest)"
      ],
      "metadata": {
        "colab": {
          "base_uri": "https://localhost:8080/"
        },
        "id": "3erUV1WQzJfu",
        "outputId": "38a93b7a-a5a3-430d-d4e8-959097a09644"
      },
      "execution_count": 29,
      "outputs": [
        {
          "output_type": "stream",
          "name": "stdout",
          "text": [
            "31/31 [==============================] - 9s 209ms/step - loss: 0.1359 - accuracy: 0.9828\n"
          ]
        },
        {
          "output_type": "execute_result",
          "data": {
            "text/plain": [
              "[0.13587047159671783, 0.9828456044197083]"
            ]
          },
          "metadata": {},
          "execution_count": 29
        }
      ]
    },
    {
      "cell_type": "code",
      "source": [
        "yPred = model.predict(xTest)\n",
        "yPred"
      ],
      "metadata": {
        "colab": {
          "base_uri": "https://localhost:8080/"
        },
        "id": "GhZa7kFYzMSm",
        "outputId": "1f9aaaa4-787b-40d6-eb4c-5c842fd727b1"
      },
      "execution_count": 30,
      "outputs": [
        {
          "output_type": "stream",
          "name": "stdout",
          "text": [
            "31/31 [==============================] - 4s 117ms/step\n"
          ]
        },
        {
          "output_type": "execute_result",
          "data": {
            "text/plain": [
              "array([[1.0000000e+00, 3.8867941e-25, 3.6876158e-17],\n",
              "       [1.0000000e+00, 3.0712144e-17, 1.7377095e-20],\n",
              "       [4.6349365e-02, 9.5365071e-01, 2.5659282e-12],\n",
              "       ...,\n",
              "       [1.7225210e-15, 5.3407657e-23, 1.0000000e+00],\n",
              "       [3.7778068e-15, 2.2355143e-20, 1.0000000e+00],\n",
              "       [2.6980321e-16, 1.6850892e-18, 1.0000000e+00]], dtype=float32)"
            ]
          },
          "metadata": {},
          "execution_count": 30
        }
      ]
    },
    {
      "cell_type": "code",
      "source": [
        "ConfusionMatrixDisplay.from_predictions(np.argmax(yTest, axis=1), np.argmax(yPred, axis=1))"
      ],
      "metadata": {
        "colab": {
          "base_uri": "https://localhost:8080/",
          "height": 297
        },
        "id": "mqWlCdV6zQsV",
        "outputId": "0ef24a76-81c0-40ac-aa52-b2547b241eb2"
      },
      "execution_count": 31,
      "outputs": [
        {
          "output_type": "execute_result",
          "data": {
            "text/plain": [
              "<sklearn.metrics._plot.confusion_matrix.ConfusionMatrixDisplay at 0x7f3fcc04dee0>"
            ]
          },
          "metadata": {},
          "execution_count": 31
        },
        {
          "output_type": "display_data",
          "data": {
            "text/plain": [
              "<Figure size 432x288 with 2 Axes>"
            ],
            "image/png": "[encoded data removed]"
          },
          "metadata": {
            "needs_background": "light"
          }
        }
      ]
    },
    {
      "cell_type": "markdown",
      "metadata": {
        "id": "4hgDguiNcNXZ"
      },
      "source": [
        "### fine-tune the network"
      ]
    },
    {
      "cell_type": "markdown",
      "metadata": {
        "id": "L9jmknEpcT1_"
      },
      "source": [
        "Fine-tune the entire network if you have enough computing ressouces, otherwise, carefully choose the layers you want to fine-tune."
      ]
    },
    {
      "cell_type": "code",
      "execution_count": 32,
      "metadata": {
        "ExecuteTime": {
          "end_time": "2021-10-12T14:13:56.365304Z",
          "start_time": "2021-10-12T14:13:56.350142Z"
        },
        "colab": {
          "base_uri": "https://localhost:8080/"
        },
        "id": "cRr97-2yc6kZ",
        "outputId": "f7b5dd24-364e-472f-a3be-a92344b7ac1d"
      },
      "outputs": [
        {
          "output_type": "stream",
          "name": "stdout",
          "text": [
            "0 input_1\n",
            "1 block1_conv1\n",
            "2 block1_conv2\n",
            "3 block1_pool\n",
            "4 block2_conv1\n",
            "5 block2_conv2\n",
            "6 block2_pool\n",
            "7 block3_conv1\n",
            "8 block3_conv2\n",
            "9 block3_conv3\n",
            "10 block3_pool\n",
            "11 block4_conv1\n",
            "12 block4_conv2\n",
            "13 block4_conv3\n",
            "14 block4_pool\n",
            "15 block5_conv1\n",
            "16 block5_conv2\n",
            "17 block5_conv3\n",
            "18 block5_pool\n",
            "Model: \"model\"\n",
            "_________________________________________________________________\n",
            " Layer (type)                Output Shape              Param #   \n",
            "=================================================================\n",
            " input_1 (InputLayer)        [(None, None, None, 3)]   0         \n",
            "                                                                 \n",
            " block1_conv1 (Conv2D)       (None, None, None, 64)    1792      \n",
            "                                                                 \n",
            " block1_conv2 (Conv2D)       (None, None, None, 64)    36928     \n",
            "                                                                 \n",
            " block1_pool (MaxPooling2D)  (None, None, None, 64)    0         \n",
            "                                                                 \n",
            " block2_conv1 (Conv2D)       (None, None, None, 128)   73856     \n",
            "                                                                 \n",
            " block2_conv2 (Conv2D)       (None, None, None, 128)   147584    \n",
            "                                                                 \n",
            " block2_pool (MaxPooling2D)  (None, None, None, 128)   0         \n",
            "                                                                 \n",
            " block3_conv1 (Conv2D)       (None, None, None, 256)   295168    \n",
            "                                                                 \n",
            " block3_conv2 (Conv2D)       (None, None, None, 256)   590080    \n",
            "                                                                 \n",
            " block3_conv3 (Conv2D)       (None, None, None, 256)   590080    \n",
            "                                                                 \n",
            " block3_pool (MaxPooling2D)  (None, None, None, 256)   0         \n",
            "                                                                 \n",
            " block4_conv1 (Conv2D)       (None, None, None, 512)   1180160   \n",
            "                                                                 \n",
            " block4_conv2 (Conv2D)       (None, None, None, 512)   2359808   \n",
            "                                                                 \n",
            " block4_conv3 (Conv2D)       (None, None, None, 512)   2359808   \n",
            "                                                                 \n",
            " block4_pool (MaxPooling2D)  (None, None, None, 512)   0         \n",
            "                                                                 \n",
            " block5_conv1 (Conv2D)       (None, None, None, 512)   2359808   \n",
            "                                                                 \n",
            " block5_conv2 (Conv2D)       (None, None, None, 512)   2359808   \n",
            "                                                                 \n",
            " block5_conv3 (Conv2D)       (None, None, None, 512)   2359808   \n",
            "                                                                 \n",
            " block5_pool (MaxPooling2D)  (None, None, None, 512)   0         \n",
            "                                                                 \n",
            " global_average_pooling2d (G  (None, 512)              0         \n",
            " lobalAveragePooling2D)                                          \n",
            "                                                                 \n",
            " dense_2 (Dense)             (None, 1024)              525312    \n",
            "                                                                 \n",
            " dense_3 (Dense)             (None, 3)                 3075      \n",
            "                                                                 \n",
            "=================================================================\n",
            "Total params: 15,243,075\n",
            "Trainable params: 528,387\n",
            "Non-trainable params: 14,714,688\n",
            "_________________________________________________________________\n"
          ]
        }
      ],
      "source": [
        "for i, layer in enumerate(VGGmodel.layers):\n",
        "   print(i, layer.name)\n",
        "model.summary()"
      ]
    },
    {
      "cell_type": "markdown",
      "metadata": {
        "id": "v4eCse6wku5Q"
      },
      "source": [
        "In this example, we will fine-tune the last convolution block starting at layer number 15 (block5_conv)."
      ]
    },
    {
      "cell_type": "code",
      "execution_count": 33,
      "metadata": {
        "colab": {
          "base_uri": "https://localhost:8080/"
        },
        "id": "C17ts6kllGUr",
        "outputId": "f98b9da8-6cab-488b-e6ff-54e731e08163"
      },
      "outputs": [
        {
          "output_type": "stream",
          "name": "stdout",
          "text": [
            "Epoch 1/20\n",
            "4/4 [==============================] - 12s 2s/step - loss: 17.9676 - accuracy: 0.8979 - val_loss: 0.0313 - val_accuracy: 1.0000\n",
            "Epoch 2/20\n",
            "4/4 [==============================] - 3s 815ms/step - loss: 1.7954 - accuracy: 0.4375 - val_loss: 2.1200 - val_accuracy: 0.1667\n",
            "Epoch 3/20\n",
            "4/4 [==============================] - 3s 811ms/step - loss: 0.9315 - accuracy: 0.5875 - val_loss: 0.9672 - val_accuracy: 0.5000\n",
            "Epoch 4/20\n",
            "4/4 [==============================] - 3s 875ms/step - loss: 0.8040 - accuracy: 0.6208 - val_loss: 0.4210 - val_accuracy: 0.8667\n",
            "Epoch 5/20\n",
            "4/4 [==============================] - 3s 822ms/step - loss: 0.5634 - accuracy: 0.8250 - val_loss: 0.3003 - val_accuracy: 0.8917\n",
            "Epoch 6/20\n",
            "4/4 [==============================] - 3s 866ms/step - loss: 1.0087 - accuracy: 0.7500 - val_loss: 0.8632 - val_accuracy: 0.6083\n",
            "Epoch 7/20\n",
            "4/4 [==============================] - 3s 827ms/step - loss: 0.5009 - accuracy: 0.8083 - val_loss: 0.7185 - val_accuracy: 0.7167\n",
            "Epoch 8/20\n",
            "4/4 [==============================] - 3s 851ms/step - loss: 0.6922 - accuracy: 0.6854 - val_loss: 0.6815 - val_accuracy: 0.6667\n",
            "Epoch 9/20\n",
            "4/4 [==============================] - 3s 832ms/step - loss: 0.4146 - accuracy: 0.8958 - val_loss: 0.1779 - val_accuracy: 0.9083\n",
            "Epoch 10/20\n",
            "4/4 [==============================] - 3s 872ms/step - loss: 0.2705 - accuracy: 0.8958 - val_loss: 0.2905 - val_accuracy: 0.8750\n",
            "Epoch 11/20\n",
            "4/4 [==============================] - 3s 879ms/step - loss: 0.3751 - accuracy: 0.8562 - val_loss: 0.5919 - val_accuracy: 0.8167\n",
            "Epoch 12/20\n",
            "4/4 [==============================] - 3s 859ms/step - loss: 1.7273 - accuracy: 0.4667 - val_loss: 1.3892 - val_accuracy: 0.2167\n",
            "Epoch 13/20\n",
            "4/4 [==============================] - 3s 843ms/step - loss: 0.6425 - accuracy: 0.7125 - val_loss: 0.3841 - val_accuracy: 0.8417\n",
            "Epoch 14/20\n",
            "4/4 [==============================] - 3s 834ms/step - loss: 0.5570 - accuracy: 0.7333 - val_loss: 0.4225 - val_accuracy: 0.8333\n",
            "Epoch 15/20\n",
            "4/4 [==============================] - 3s 877ms/step - loss: 0.5059 - accuracy: 0.8062 - val_loss: 0.4706 - val_accuracy: 0.8083\n",
            "Epoch 16/20\n",
            "4/4 [==============================] - 3s 869ms/step - loss: 0.4450 - accuracy: 0.8167 - val_loss: 0.3891 - val_accuracy: 0.8667\n",
            "Epoch 17/20\n",
            "4/4 [==============================] - 3s 845ms/step - loss: 0.2423 - accuracy: 0.9187 - val_loss: 1.9414 - val_accuracy: 0.4083\n",
            "Epoch 18/20\n",
            "4/4 [==============================] - 3s 884ms/step - loss: 0.1662 - accuracy: 0.9333 - val_loss: 0.4753 - val_accuracy: 0.8500\n",
            "Epoch 19/20\n",
            "4/4 [==============================] - 3s 840ms/step - loss: 0.8960 - accuracy: 0.6979 - val_loss: 0.3398 - val_accuracy: 0.8333\n",
            "Epoch 20/20\n",
            "4/4 [==============================] - 3s 891ms/step - loss: 0.7605 - accuracy: 0.6729 - val_loss: 0.6882 - val_accuracy: 0.6500\n"
          ]
        },
        {
          "output_type": "execute_result",
          "data": {
            "text/plain": [
              "<keras.callbacks.History at 0x7f3eb1427fd0>"
            ]
          },
          "metadata": {},
          "execution_count": 33
        }
      ],
      "source": [
        "from tensorflow.keras.optimizers import RMSprop\n",
        "for layer in model.layers[:11]:\n",
        "   layer.trainable = False\n",
        "for layer in model.layers[11:]:\n",
        "   layer.trainable = True\n",
        "#need to recompile the network\n",
        "model.compile(optimizer=RMSprop(learning_rate=0.0001), loss='categorical_crossentropy',metrics=['accuracy'])\n",
        "#and train again ...\n",
        "model.fit(xTrain, yTrain, epochs=20, batch_size=128, validation_split=0.2, callbacks=[ourCallback],verbose=1)"
      ]
    },
    {
      "cell_type": "markdown",
      "metadata": {
        "id": "6LrhxQiBmTZj",
        "solution": "hidden",
        "solution_first": true
      },
      "source": [
        "You already know how to evaluate the performances on the test dataset and display the confusion matrix. You can also modify the code that loads the test dataset in order to reduce it's size. Let's do it!"
      ]
    },
    {
      "cell_type": "code",
      "execution_count": 34,
      "metadata": {
        "colab": {
          "base_uri": "https://localhost:8080/"
        },
        "id": "RHGxb-PxmiYd",
        "outputId": "0c648ec3-090c-41c0-9177-0fae7137ba00"
      },
      "outputs": [
        {
          "output_type": "stream",
          "name": "stdout",
          "text": [
            "31/31 [==============================] - 4s 122ms/step - loss: 0.7373 - accuracy: 0.6660\n"
          ]
        },
        {
          "output_type": "execute_result",
          "data": {
            "text/plain": [
              "[0.7373113632202148, 0.6659939289093018]"
            ]
          },
          "metadata": {},
          "execution_count": 34
        }
      ],
      "source": [
        "#enter here your code for evaluation of performances\n",
        "model.evaluate(xTest, yTest)"
      ]
    },
    {
      "cell_type": "markdown",
      "metadata": {
        "id": "unzKoPOsgNW3",
        "solution": "hidden",
        "solution_first": true
      },
      "source": [
        "You are now free to experiments changes in the network:\n",
        "* add a dense layer\n",
        "* modify the number of neurons in dense layer(s)\n",
        "* change the global average polling\n",
        "* add classes and data\n",
        "* experiment other optimizers (SGD, Adam, ...)\n",
        "\n",
        "\n",
        "..."
      ]
    },
    {
      "cell_type": "code",
      "execution_count": 37,
      "metadata": {
        "colab": {
          "base_uri": "https://localhost:8080/"
        },
        "id": "WuR7DVDWpJBJ",
        "outputId": "2f4dd32b-553b-4383-ab3e-90ac2e85779f"
      },
      "outputs": [
        {
          "output_type": "stream",
          "name": "stdout",
          "text": [
            "Model: \"model_1\"\n",
            "_________________________________________________________________\n",
            " Layer (type)                Output Shape              Param #   \n",
            "=================================================================\n",
            " input_1 (InputLayer)        [(None, None, None, 3)]   0         \n",
            "                                                                 \n",
            " block1_conv1 (Conv2D)       (None, None, None, 64)    1792      \n",
            "                                                                 \n",
            " block1_conv2 (Conv2D)       (None, None, None, 64)    36928     \n",
            "                                                                 \n",
            " block1_pool (MaxPooling2D)  (None, None, None, 64)    0         \n",
            "                                                                 \n",
            " block2_conv1 (Conv2D)       (None, None, None, 128)   73856     \n",
            "                                                                 \n",
            " block2_conv2 (Conv2D)       (None, None, None, 128)   147584    \n",
            "                                                                 \n",
            " block2_pool (MaxPooling2D)  (None, None, None, 128)   0         \n",
            "                                                                 \n",
            " block3_conv1 (Conv2D)       (None, None, None, 256)   295168    \n",
            "                                                                 \n",
            " block3_conv2 (Conv2D)       (None, None, None, 256)   590080    \n",
            "                                                                 \n",
            " block3_conv3 (Conv2D)       (None, None, None, 256)   590080    \n",
            "                                                                 \n",
            " block3_pool (MaxPooling2D)  (None, None, None, 256)   0         \n",
            "                                                                 \n",
            " block4_conv1 (Conv2D)       (None, None, None, 512)   1180160   \n",
            "                                                                 \n",
            " block4_conv2 (Conv2D)       (None, None, None, 512)   2359808   \n",
            "                                                                 \n",
            " block4_conv3 (Conv2D)       (None, None, None, 512)   2359808   \n",
            "                                                                 \n",
            " block4_pool (MaxPooling2D)  (None, None, None, 512)   0         \n",
            "                                                                 \n",
            " block5_conv1 (Conv2D)       (None, None, None, 512)   2359808   \n",
            "                                                                 \n",
            " block5_conv2 (Conv2D)       (None, None, None, 512)   2359808   \n",
            "                                                                 \n",
            " block5_conv3 (Conv2D)       (None, None, None, 512)   2359808   \n",
            "                                                                 \n",
            " block5_pool (MaxPooling2D)  (None, None, None, 512)   0         \n",
            "                                                                 \n",
            " global_max_pooling2d (Globa  (None, 512)              0         \n",
            " lMaxPooling2D)                                                  \n",
            "                                                                 \n",
            " dense_4 (Dense)             (None, 256)               131328    \n",
            "                                                                 \n",
            " dense_5 (Dense)             (None, 256)               65792     \n",
            "                                                                 \n",
            " dense_6 (Dense)             (None, 3)                 771       \n",
            "                                                                 \n",
            "=================================================================\n",
            "Total params: 14,912,579\n",
            "Trainable params: 13,177,091\n",
            "Non-trainable params: 1,735,488\n",
            "_________________________________________________________________\n",
            "None\n",
            "Epoch 1/200\n",
            "4/4 [==============================] - 7s 983ms/step - loss: 1.7611 - accuracy: 0.5354 - val_loss: 2.1222 - val_accuracy: 0.2583\n",
            "Epoch 2/200\n",
            "4/4 [==============================] - 3s 937ms/step - loss: 0.7101 - accuracy: 0.7000 - val_loss: 0.5579 - val_accuracy: 0.8083\n",
            "Epoch 3/200\n",
            "4/4 [==============================] - 3s 849ms/step - loss: 0.4997 - accuracy: 0.7750 - val_loss: 0.6673 - val_accuracy: 0.7333\n",
            "Epoch 4/200\n",
            "4/4 [==============================] - 3s 853ms/step - loss: 0.2807 - accuracy: 0.9000 - val_loss: 1.0125 - val_accuracy: 0.7083\n",
            "Epoch 5/200\n",
            "4/4 [==============================] - 3s 865ms/step - loss: 0.1923 - accuracy: 0.9250 - val_loss: 0.4890 - val_accuracy: 0.8167\n",
            "Epoch 6/200\n",
            "4/4 [==============================] - 3s 831ms/step - loss: 0.1074 - accuracy: 0.9542 - val_loss: 1.0868 - val_accuracy: 0.6583\n",
            "Epoch 7/200\n",
            "4/4 [==============================] - 3s 865ms/step - loss: 0.1045 - accuracy: 0.9500 - val_loss: 0.5484 - val_accuracy: 0.8250\n",
            "Epoch 8/200\n",
            "4/4 [==============================] - 3s 869ms/step - loss: 0.0476 - accuracy: 0.9812 - val_loss: 0.5371 - val_accuracy: 0.8250\n",
            "Epoch 9/200\n",
            "4/4 [==============================] - 3s 874ms/step - loss: 0.0252 - accuracy: 0.9917 - val_loss: 1.3181 - val_accuracy: 0.7167\n",
            "Epoch 10/200\n",
            "4/4 [==============================] - 3s 895ms/step - loss: 0.0195 - accuracy: 0.9979 - val_loss: 1.4435 - val_accuracy: 0.6917\n",
            "Epoch 11/200\n",
            "4/4 [==============================] - 3s 835ms/step - loss: 0.0102 - accuracy: 0.9958 - val_loss: 0.6518 - val_accuracy: 0.7917\n",
            "Epoch 12/200\n",
            "4/4 [==============================] - 3s 829ms/step - loss: 0.0058 - accuracy: 1.0000 - val_loss: 0.6239 - val_accuracy: 0.8000\n",
            "Epoch 13/200\n",
            "4/4 [==============================] - 3s 865ms/step - loss: 0.0011 - accuracy: 1.0000 - val_loss: 0.9507 - val_accuracy: 0.7667\n",
            "Epoch 14/200\n",
            "4/4 [==============================] - 3s 890ms/step - loss: 0.0012 - accuracy: 1.0000 - val_loss: 1.1435 - val_accuracy: 0.7417\n",
            "Epoch 15/200\n",
            "4/4 [==============================] - 3s 834ms/step - loss: 8.4051e-04 - accuracy: 1.0000 - val_loss: 1.0967 - val_accuracy: 0.7333\n",
            "Epoch 16/200\n",
            "4/4 [==============================] - 3s 834ms/step - loss: 5.1421e-04 - accuracy: 1.0000 - val_loss: 1.0464 - val_accuracy: 0.7417\n",
            "Epoch 17/200\n",
            "4/4 [==============================] - 3s 836ms/step - loss: 3.9708e-04 - accuracy: 1.0000 - val_loss: 1.0385 - val_accuracy: 0.7500\n",
            "Epoch 18/200\n",
            "4/4 [==============================] - 3s 869ms/step - loss: 2.5551e-04 - accuracy: 1.0000 - val_loss: 1.0592 - val_accuracy: 0.7500\n",
            "Epoch 19/200\n",
            "4/4 [==============================] - 3s 848ms/step - loss: 1.4580e-04 - accuracy: 1.0000 - val_loss: 1.0914 - val_accuracy: 0.7500\n",
            "Epoch 20/200\n",
            "4/4 [==============================] - 3s 846ms/step - loss: 1.2304e-04 - accuracy: 1.0000 - val_loss: 1.1015 - val_accuracy: 0.7500\n",
            "Epoch 21/200\n",
            "4/4 [==============================] - 3s 884ms/step - loss: 1.0335e-04 - accuracy: 1.0000 - val_loss: 1.0741 - val_accuracy: 0.7500\n",
            "Epoch 22/200\n",
            "4/4 [==============================] - 3s 881ms/step - loss: 8.0786e-05 - accuracy: 1.0000 - val_loss: 1.0365 - val_accuracy: 0.7583\n",
            "Epoch 23/200\n",
            "4/4 [==============================] - 3s 886ms/step - loss: 6.6315e-05 - accuracy: 1.0000 - val_loss: 1.0006 - val_accuracy: 0.7583\n",
            "Epoch 24/200\n",
            "4/4 [==============================] - 3s 855ms/step - loss: 5.7821e-05 - accuracy: 1.0000 - val_loss: 0.9794 - val_accuracy: 0.7583\n",
            "Epoch 25/200\n",
            "4/4 [==============================] - 3s 851ms/step - loss: 5.1767e-05 - accuracy: 1.0000 - val_loss: 0.9716 - val_accuracy: 0.7583\n",
            "Epoch 26/200\n",
            "4/4 [==============================] - 3s 880ms/step - loss: 4.7907e-05 - accuracy: 1.0000 - val_loss: 0.9703 - val_accuracy: 0.7583\n",
            "Epoch 27/200\n",
            "4/4 [==============================] - 3s 859ms/step - loss: 4.4113e-05 - accuracy: 1.0000 - val_loss: 0.9745 - val_accuracy: 0.7583\n"
          ]
        },
        {
          "output_type": "execute_result",
          "data": {
            "text/plain": [
              "<keras.callbacks.History at 0x7f3eb4e40f10>"
            ]
          },
          "metadata": {},
          "execution_count": 37
        }
      ],
      "source": [
        "# we will add layers to this feature extraction part of VGG network\n",
        "m = VGGmodel.output\n",
        "\n",
        "# change it to global max pooling\n",
        "m = GlobalMaxPooling2D()(m)\n",
        "\n",
        "# and add a fully-connected layer\n",
        "m = Dense(256, activation=\"relu\")(m) # modify the number of neurons in dense layer\n",
        "m = Dense(256, activation=\"relu\")(m) # add a second dense layer\n",
        "\n",
        "# finally, the softmax layer for predictions (we have nbClasses classes)\n",
        "predictions = Dense(nbClasses, activation=\"softmax\")(m)\n",
        "\n",
        "# global network\n",
        "model = Model(inputs=VGGmodel.input, outputs=predictions)\n",
        "print(model.summary())\n",
        "\n",
        "# compile\n",
        "model.compile(\n",
        "    optimizer=Adam(learning_rate=0.0001), # try other optimizer\n",
        "    loss=\"categorical_crossentropy\",\n",
        "    metrics=[\"accuracy\"],\n",
        ")\n",
        "\n",
        "# fit model\n",
        "model.fit(\n",
        "    xTrain,\n",
        "    yTrain,\n",
        "    epochs=200,\n",
        "    batch_size=128,\n",
        "    validation_split=0.2,\n",
        "    callbacks=[ourCallback],\n",
        "    verbose=1,\n",
        ")"
      ]
    },
    {
      "cell_type": "code",
      "source": [
        "model.evaluate(xTest, yTest)"
      ],
      "metadata": {
        "colab": {
          "base_uri": "https://localhost:8080/"
        },
        "id": "CznavtDk2LpW",
        "outputId": "a8f19c1a-8d87-421d-c873-b7778e45e52f"
      },
      "execution_count": 38,
      "outputs": [
        {
          "output_type": "stream",
          "name": "stdout",
          "text": [
            "31/31 [==============================] - 4s 120ms/step - loss: 0.4698 - accuracy: 0.9051\n"
          ]
        },
        {
          "output_type": "execute_result",
          "data": {
            "text/plain": [
              "[0.4697534143924713, 0.9051463007926941]"
            ]
          },
          "metadata": {},
          "execution_count": 38
        }
      ]
    },
    {
      "cell_type": "code",
      "source": [
        "yPred = model.predict(xTest)\n",
        "ConfusionMatrixDisplay.from_predictions(np.argmax(yTest, axis=1), np.argmax(yPred, axis=1))"
      ],
      "metadata": {
        "colab": {
          "base_uri": "https://localhost:8080/",
          "height": 317
        },
        "id": "Q6OCWlwy2P6l",
        "outputId": "80ea0ff9-f8ec-4d14-f5ac-7c7b078c1999"
      },
      "execution_count": 39,
      "outputs": [
        {
          "output_type": "stream",
          "name": "stdout",
          "text": [
            "31/31 [==============================] - 4s 119ms/step\n"
          ]
        },
        {
          "output_type": "execute_result",
          "data": {
            "text/plain": [
              "<sklearn.metrics._plot.confusion_matrix.ConfusionMatrixDisplay at 0x7f3eb4e40cd0>"
            ]
          },
          "metadata": {},
          "execution_count": 39
        },
        {
          "output_type": "display_data",
          "data": {
            "text/plain": [
              "<Figure size 432x288 with 2 Axes>"
            ],
            "image/png": "[encoded data removed]"
          },
          "metadata": {
            "needs_background": "light"
          }
        }
      ]
    }
  ],
  "metadata": {
    "colab": {
      "provenance": []
    },
    "hide_input": false,
    "kernelspec": {
      "display_name": "Python 3",
      "language": "python",
      "name": "python3"
    },
    "language_info": {
      "codemirror_mode": {
        "name": "ipython",
        "version": 3
      },
      "file_extension": ".py",
      "mimetype": "text/x-python",
      "name": "python",
      "nbconvert_exporter": "python",
      "pygments_lexer": "ipython3",
      "version": "3.10.4"
    },
    "latex_envs": {
      "LaTeX_envs_menu_present": true,
      "autoclose": false,
      "autocomplete": true,
      "bibliofile": "biblio.bib",
      "cite_by": "apalike",
      "current_citInitial": 1,
      "eqLabelWithNumbers": true,
      "eqNumInitial": 1,
      "hotkeys": {
        "equation": "Ctrl-E",
        "itemize": "Ctrl-I"
      },
      "labels_anchors": false,
      "latex_user_defs": false,
      "report_style_numbering": false,
      "user_envs_cfg": false
    },
    "toc": {
      "base_numbering": 1,
      "nav_menu": {},
      "number_sections": true,
      "sideBar": true,
      "skip_h1_title": false,
      "title_cell": "Table of Contents",
      "title_sidebar": "Contents",
      "toc_cell": false,
      "toc_position": {},
      "toc_section_display": true,
      "toc_window_display": false
    },
    "varInspector": {
      "cols": {
        "lenName": 16,
        "lenType": 16,
        "lenVar": 40
      },
      "kernels_config": {
        "python": {
          "delete_cmd_postfix": "",
          "delete_cmd_prefix": "del ",
          "library": "var_list.py",
          "varRefreshCmd": "print(var_dic_list())"
        },
        "r": {
          "delete_cmd_postfix": ") ",
          "delete_cmd_prefix": "rm(",
          "library": "var_list.r",
          "varRefreshCmd": "cat(var_dic_list()) "
        }
      },
      "position": {
        "height": "121.85px",
        "left": "491.667px",
        "right": "20px",
        "top": "120px",
        "width": "341.667px"
      },
      "types_to_exclude": [
        "module",
        "function",
        "builtin_function_or_method",
        "instance",
        "_Feature"
      ],
      "window_display": false
    },
    "accelerator": "GPU",
    "gpuClass": "standard"
  },
  "nbformat": 4,
  "nbformat_minor": 0
}